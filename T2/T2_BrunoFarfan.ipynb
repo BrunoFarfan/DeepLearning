{
  "cells": [
    {
      "cell_type": "markdown",
      "metadata": {
        "id": "-3ni-eru2l3C"
      },
      "source": [
        "# Tarea 2: NLP, RNNs y Transformer"
      ]
    },
    {
      "cell_type": "code",
      "execution_count": 1,
      "metadata": {},
      "outputs": [],
      "source": [
        "import os\n",
        "os.environ['CUDA_LAUNCH_BLOCKING'] = \"1\""
      ]
    },
    {
      "cell_type": "code",
      "execution_count": 2,
      "metadata": {
        "id": "BjQpybihNIz6"
      },
      "outputs": [],
      "source": [
        "import re\n",
        "\n",
        "import numpy as np              # Procesamiento numérico\n",
        "import pandas as pd             # Manipulación de conjuntos de datos\n",
        "import matplotlib.pyplot as plt # Gráficos\n",
        "\n",
        "import matplotlib.ticker as ticker\n",
        "\n",
        "from tqdm import tqdm\n",
        "\n",
        "from torch.utils.data import DataLoader, Subset\n",
        "\n",
        "import torch\n",
        "import torch.nn as nn\n",
        "import torch.nn.functional as F"
      ]
    },
    {
      "cell_type": "markdown",
      "metadata": {
        "id": "ISPSA8wr3aEZ"
      },
      "source": [
        "## Carga del dataset\n",
        "\n",
        "Para la tarea se utilizará el dataset IMDB, el cual consiste en reseñas de películas con sus respectivas etiquetas de si es una reseña positiva o negativa.\n",
        "\n",
        "El dataset se encuentra disponible en HuggingFace, asi que se puede cargar directamente.\n",
        "\n",
        "**Nota:** Para descargar el dataset se tiene que instalar previamente la librería \"datasets\""
      ]
    },
    {
      "cell_type": "code",
      "execution_count": 570,
      "metadata": {
        "colab": {
          "base_uri": "https://localhost:8080/"
        },
        "id": "XEfZmGCs5Sa7",
        "outputId": "d77a324d-19e5-4a0b-ae28-4d4603850471"
      },
      "outputs": [],
      "source": [
        "# # installing datasets package\n",
        "# !pip install datasets"
      ]
    },
    {
      "cell_type": "code",
      "execution_count": 3,
      "metadata": {
        "id": "g3IFudbx5kcT"
      },
      "outputs": [
        {
          "name": "stderr",
          "output_type": "stream",
          "text": [
            "c:\\Users\\Bruno\\AppData\\Local\\Programs\\Python\\Python311\\Lib\\site-packages\\tqdm\\auto.py:21: TqdmWarning: IProgress not found. Please update jupyter and ipywidgets. See https://ipywidgets.readthedocs.io/en/stable/user_install.html\n",
            "  from .autonotebook import tqdm as notebook_tqdm\n"
          ]
        }
      ],
      "source": [
        "from datasets import load_dataset"
      ]
    },
    {
      "cell_type": "code",
      "execution_count": 4,
      "metadata": {
        "colab": {
          "base_uri": "https://localhost:8080/",
          "height": 692,
          "referenced_widgets": [
            "b3fa197c27964efba6ef4f068acedca9",
            "76bf902f4a4a46ef9461d88cbc4adf66",
            "ce42be1f968a4fcea7d0a0c1792b932c",
            "780c02cf398d4b65af3536055ff51ef6",
            "a844358d21f54a8caebfdbb1539f3600",
            "217e41e8c02946f49d8f0d8601ec39a0",
            "98e319289cf04e13a396b770ba4e1229",
            "0bfa0fcedd0c4f92b8f33a05a31e6c6c",
            "f1df8aac19f047dd9a80e5184ea3a635",
            "0a6f6a043c834b8e8a5b7b5bcd1fb395",
            "81ead776831341c5958435b5b9fb91a4",
            "be8c403adfbd4385b570623d40580ffd",
            "d36a324a73fe4529bc4be31b20fc54cf",
            "5e67ac0ee7334ff2a174b8b49057e3af",
            "f7c219c6dc3e4d13bce601fed44b4e2a",
            "5d4859cc6ee4483d86a49d0accec9d1d",
            "d9f1787504014bd09009b15a311df224",
            "332bdee2b79f430a9bbc72c8c16e763b",
            "eb445ff7058d4065be64a5e11d7943b3",
            "ae0e262e78974e82969de3e48c76fb08",
            "26ec5aea33a74922b52c3254aa1fe128",
            "392fd58dd841424cb798a5be5c921daa",
            "303cc7f9f54b4c02a153016e988a1d69",
            "53917fdee4c84759847e753b4e0bc967",
            "976ab2548702498c985c5407ab33f3a6",
            "be47ce91f649489ca814f8ed07cf7b3e",
            "1f6b42ab052d4b048804e01a579a53d5",
            "fc8878125bbf4d22b5b54fe4e6c8c70b",
            "06f20e8f49474e26b2557a682f65eeb5",
            "cef0d6247e174b33a2041b5863fdc80e",
            "04d3369f95014699ad9dcdc2382303e6",
            "9b44862fa504482892ca5d3a8a616dfb",
            "48df76eb4edc4e58954434e0a35bc9e4",
            "6b137c0418704969a7ab6ee4322d126e",
            "fa1ae8c59b17440a8970e711fd3983d4",
            "8b0442bbc8fd403cab74dd0a45604366",
            "278a4a56e34b4d39ae079bc07ede37c0",
            "ca975a58dfbc432db199bfa9bbb44dbd",
            "11182339b68a459cb0ea952312d404eb",
            "bc3bde5a53d04c27afad5302cfcaa1f5",
            "fd4398791a97490e9036887f5d2a9fd3",
            "e907bf5b98a24a30a561ef6dd176edcd",
            "c32e1db978ab4a87829122de9f9c5efc",
            "df001df1b17245819c43e38a08151c82",
            "7dce204145124d3aa61f6b98b59e9f54",
            "fbc53354350e40c3b06f143699eb693a",
            "e3c66dd7e356491997265e079c085f39",
            "39d16dff10684227bb7374a7d978f172",
            "4d0d1c08a241454a8c9dc5dc0162c583",
            "9cd0c018df2e40159ba60b2ea78a02bc",
            "feebcb4013bc477799038bf32dcf0963",
            "47d396e194374fa6a00766390da86e23",
            "9e2d1c69c3a346a9b4b5dd3a2a1494a7",
            "5f9ebbb630dd49dcbb42c19e9a7e673a",
            "c131374531dd4ad089f63914e8400347",
            "61e9bf2ff667423ea122691d9b66e80a",
            "076e5c7f10ba46b3b48ee8a17168db67",
            "e291c19cebdf49849d345e45cd271f14",
            "791695fb572449b79cc420bab29a15e5",
            "d498a1501fd44dea97fbb1c607c0afce",
            "ec19091665424e4b91ae05c1636f6c43",
            "ae91916a3f424ab4a93db2e004fe4162",
            "1b0efbfb5c7148f4ae9f18e9008d568e",
            "621ce0e6dd8e4b51a0de31f148689f83",
            "d67281395b9e424da9a2bcf5a4cf2f2c",
            "0ee60b264f2a46cabb1b3a31071882b5",
            "b3ce60d47c234f818996e8b620e21564",
            "4544a1fd9d664b57b9815f06c58217e5",
            "db2b2607e6004bb9a702f20b5f261c8e",
            "93bde45d25d54239978889c315e274cc",
            "df010f3395014927844e8d5b59009c29",
            "7cfb585823f346c68b64e387482e965e",
            "3af1eb10f6614f358803b7bc21c8e112",
            "0db3133a83444127997314aefc2c914f",
            "91a7c60bb97f4833a103d10f38a22278",
            "e77780efc9f449ac9975acffbf9a202c",
            "621469b5bec44fbcba311f7a0c43e078"
          ]
        },
        "id": "lWjhI5ahd2Tz",
        "outputId": "0478629f-cb30-498a-e828-e1f8a7ed2a7e"
      },
      "outputs": [],
      "source": [
        "dataset = load_dataset(\"stanfordnlp/imdb\")"
      ]
    },
    {
      "cell_type": "code",
      "execution_count": 5,
      "metadata": {},
      "outputs": [
        {
          "data": {
            "text/html": [
              "<div>\n",
              "<style scoped>\n",
              "    .dataframe tbody tr th:only-of-type {\n",
              "        vertical-align: middle;\n",
              "    }\n",
              "\n",
              "    .dataframe tbody tr th {\n",
              "        vertical-align: top;\n",
              "    }\n",
              "\n",
              "    .dataframe thead th {\n",
              "        text-align: right;\n",
              "    }\n",
              "</style>\n",
              "<table border=\"1\" class=\"dataframe\">\n",
              "  <thead>\n",
              "    <tr style=\"text-align: right;\">\n",
              "      <th></th>\n",
              "      <th>text</th>\n",
              "      <th>label</th>\n",
              "    </tr>\n",
              "  </thead>\n",
              "  <tbody>\n",
              "    <tr>\n",
              "      <th>0</th>\n",
              "      <td>Is this the movie??? Is this what Indians are ...</td>\n",
              "      <td>0</td>\n",
              "    </tr>\n",
              "    <tr>\n",
              "      <th>1</th>\n",
              "      <td>How do I begin to review a film that will soon...</td>\n",
              "      <td>0</td>\n",
              "    </tr>\n",
              "    <tr>\n",
              "      <th>2</th>\n",
              "      <td>This is probably one of the worst films i have...</td>\n",
              "      <td>0</td>\n",
              "    </tr>\n",
              "    <tr>\n",
              "      <th>3</th>\n",
              "      <td>What an amazing film. With very little dialogu...</td>\n",
              "      <td>1</td>\n",
              "    </tr>\n",
              "    <tr>\n",
              "      <th>4</th>\n",
              "      <td>Like many here I grew up with Scooby-Doo. Unli...</td>\n",
              "      <td>1</td>\n",
              "    </tr>\n",
              "  </tbody>\n",
              "</table>\n",
              "</div>"
            ],
            "text/plain": [
              "                                                text  label\n",
              "0  Is this the movie??? Is this what Indians are ...      0\n",
              "1  How do I begin to review a film that will soon...      0\n",
              "2  This is probably one of the worst films i have...      0\n",
              "3  What an amazing film. With very little dialogu...      1\n",
              "4  Like many here I grew up with Scooby-Doo. Unli...      1"
            ]
          },
          "execution_count": 5,
          "metadata": {},
          "output_type": "execute_result"
        }
      ],
      "source": [
        "data_train = pd.DataFrame(dataset[\"train\"])\n",
        "data_test = pd.DataFrame(dataset[\"test\"])\n",
        "\n",
        "# shuffle datasets\n",
        "\n",
        "data_train = data_train.sample(frac=1).reset_index(drop=True)\n",
        "data_test = data_test.sample(frac=1).reset_index(drop=True)\n",
        "\n",
        "data_train.head()"
      ]
    },
    {
      "cell_type": "code",
      "execution_count": 6,
      "metadata": {},
      "outputs": [],
      "source": [
        "# fraction dataset\n",
        "\n",
        "fraction = 1\n",
        "data_train = data_train.sample(frac=fraction).reset_index(drop=True)\n",
        "data_test = data_test.sample(frac=fraction).reset_index(drop=True)"
      ]
    },
    {
      "cell_type": "code",
      "execution_count": 7,
      "metadata": {},
      "outputs": [
        {
          "name": "stderr",
          "output_type": "stream",
          "text": [
            "[nltk_data] Downloading package punkt to\n",
            "[nltk_data]     C:\\Users\\Bruno\\AppData\\Roaming\\nltk_data...\n",
            "[nltk_data]   Package punkt is already up-to-date!\n",
            "C:\\Users\\Bruno\\AppData\\Local\\Temp\\ipykernel_11260\\1763248502.py:13: MarkupResemblesLocatorWarning: The input looks more like a filename than markup. You may want to open this file and pass the filehandle into Beautiful Soup.\n",
            "  text = BeautifulSoup(text, \"html.parser\").get_text(separator=\" \")\n"
          ]
        },
        {
          "data": {
            "text/html": [
              "<div>\n",
              "<style scoped>\n",
              "    .dataframe tbody tr th:only-of-type {\n",
              "        vertical-align: middle;\n",
              "    }\n",
              "\n",
              "    .dataframe tbody tr th {\n",
              "        vertical-align: top;\n",
              "    }\n",
              "\n",
              "    .dataframe thead th {\n",
              "        text-align: right;\n",
              "    }\n",
              "</style>\n",
              "<table border=\"1\" class=\"dataframe\">\n",
              "  <thead>\n",
              "    <tr style=\"text-align: right;\">\n",
              "      <th></th>\n",
              "      <th>text</th>\n",
              "      <th>label</th>\n",
              "    </tr>\n",
              "  </thead>\n",
              "  <tbody>\n",
              "    <tr>\n",
              "      <th>0</th>\n",
              "      <td>[this, is, an, excellent, film, about, a, trad...</td>\n",
              "      <td>1</td>\n",
              "    </tr>\n",
              "    <tr>\n",
              "      <th>1</th>\n",
              "      <td>[astonishing, screams, the, la, times, from, t...</td>\n",
              "      <td>0</td>\n",
              "    </tr>\n",
              "    <tr>\n",
              "      <th>2</th>\n",
              "      <td>[i, don, t, know, if, i, m, just, weird, ,, bu...</td>\n",
              "      <td>1</td>\n",
              "    </tr>\n",
              "    <tr>\n",
              "      <th>3</th>\n",
              "      <td>[i, honestly, had, no, idea, that, the, notori...</td>\n",
              "      <td>0</td>\n",
              "    </tr>\n",
              "    <tr>\n",
              "      <th>4</th>\n",
              "      <td>[i, had, to, register, for, imdb, just, to, po...</td>\n",
              "      <td>0</td>\n",
              "    </tr>\n",
              "  </tbody>\n",
              "</table>\n",
              "</div>"
            ],
            "text/plain": [
              "                                                text  label\n",
              "0  [this, is, an, excellent, film, about, a, trad...      1\n",
              "1  [astonishing, screams, the, la, times, from, t...      0\n",
              "2  [i, don, t, know, if, i, m, just, weird, ,, bu...      1\n",
              "3  [i, honestly, had, no, idea, that, the, notori...      0\n",
              "4  [i, had, to, register, for, imdb, just, to, po...      0"
            ]
          },
          "execution_count": 7,
          "metadata": {},
          "output_type": "execute_result"
        }
      ],
      "source": [
        "# tokenization\n",
        "from nltk.tokenize import word_tokenize\n",
        "import nltk\n",
        "from bs4 import BeautifulSoup\n",
        "\n",
        "nltk.download('punkt')\n",
        "\n",
        "token_data_train = data_train.copy()\n",
        "token_data_test = data_test.copy()\n",
        "\n",
        "def clean_text(text):\n",
        "    # Remove HTML tags\n",
        "    text = BeautifulSoup(text, \"html.parser\").get_text(separator=\" \")\n",
        "    # Remove special characters and multiple spaces\n",
        "    text = re.sub(r'[^a-zA-Z0-9\\s.,]', ' ', text)\n",
        "    # Replace multiple spaces with a single space\n",
        "    text = re.sub(r'\\s+', ' ', text)\n",
        "    # Convert text to lowercase\n",
        "    text = text.lower()\n",
        "    return text.strip()\n",
        "\n",
        "token_data_train[\"text\"] = token_data_train[\"text\"].apply(clean_text)\n",
        "token_data_test[\"text\"] = token_data_test[\"text\"].apply(clean_text)\n",
        "\n",
        "token_data_train[\"text\"] = token_data_train[\"text\"].apply(word_tokenize)\n",
        "token_data_test[\"text\"] = token_data_test[\"text\"].apply(word_tokenize)\n",
        "\n",
        "token_data_train.head()"
      ]
    },
    {
      "cell_type": "code",
      "execution_count": 8,
      "metadata": {},
      "outputs": [],
      "source": [
        "# vocabulary\n",
        "from collections import Counter\n",
        "\n",
        "vocab = Counter()\n",
        "\n",
        "for text in token_data_train[\"text\"]:\n",
        "    vocab.update(text)"
      ]
    },
    {
      "cell_type": "code",
      "execution_count": 9,
      "metadata": {},
      "outputs": [
        {
          "name": "stdout",
          "output_type": "stream",
          "text": [
            "[('the', 336136), (',', 275888), ('.', 269453), ('and', 164054), ('a', 162713), ('of', 145851), ('to', 135700), ('is', 107326), ('it', 96103), ('in', 93922)]\n"
          ]
        },
        {
          "data": {
            "text/html": [
              "<div>\n",
              "<style scoped>\n",
              "    .dataframe tbody tr th:only-of-type {\n",
              "        vertical-align: middle;\n",
              "    }\n",
              "\n",
              "    .dataframe tbody tr th {\n",
              "        vertical-align: top;\n",
              "    }\n",
              "\n",
              "    .dataframe thead th {\n",
              "        text-align: right;\n",
              "    }\n",
              "</style>\n",
              "<table border=\"1\" class=\"dataframe\">\n",
              "  <thead>\n",
              "    <tr style=\"text-align: right;\">\n",
              "      <th></th>\n",
              "      <th>text</th>\n",
              "      <th>label</th>\n",
              "    </tr>\n",
              "  </thead>\n",
              "  <tbody>\n",
              "    <tr>\n",
              "      <th>0</th>\n",
              "      <td>[13, 9, 37, 324, 22, 46, 6, 2021, 771, 699, 21...</td>\n",
              "      <td>1</td>\n",
              "    </tr>\n",
              "    <tr>\n",
              "      <th>1</th>\n",
              "      <td>[5175, 3787, 2, 1054, 213, 40, 2, 997, 7, 2, 2...</td>\n",
              "      <td>0</td>\n",
              "    </tr>\n",
              "    <tr>\n",
              "      <th>2</th>\n",
              "      <td>[12, 92, 25, 125, 49, 12, 146, 45, 901, 3, 21,...</td>\n",
              "      <td>1</td>\n",
              "    </tr>\n",
              "    <tr>\n",
              "      <th>3</th>\n",
              "      <td>[12, 1243, 70, 60, 327, 14, 2, 2823, 1, 4, 773...</td>\n",
              "      <td>0</td>\n",
              "    </tr>\n",
              "    <tr>\n",
              "      <th>4</th>\n",
              "      <td>[12, 70, 8, 8484, 18, 902, 45, 8, 1192, 6, 920...</td>\n",
              "      <td>0</td>\n",
              "    </tr>\n",
              "  </tbody>\n",
              "</table>\n",
              "</div>"
            ],
            "text/plain": [
              "                                                text  label\n",
              "0  [13, 9, 37, 324, 22, 46, 6, 2021, 771, 699, 21...      1\n",
              "1  [5175, 3787, 2, 1054, 213, 40, 2, 997, 7, 2, 2...      0\n",
              "2  [12, 92, 25, 125, 49, 12, 146, 45, 901, 3, 21,...      1\n",
              "3  [12, 1243, 70, 60, 327, 14, 2, 2823, 1, 4, 773...      0\n",
              "4  [12, 70, 8, 8484, 18, 902, 45, 8, 1192, 6, 920...      0"
            ]
          },
          "execution_count": 9,
          "metadata": {},
          "output_type": "execute_result"
        }
      ],
      "source": [
        "# Define the vocabulary size based on the most common words\n",
        "vocab_size = 20000\n",
        "\n",
        "# Get the most common words up to the specified vocabulary size\n",
        "most_common_words = vocab.most_common(vocab_size)\n",
        "print(most_common_words[:10])\n",
        "\n",
        "# Create word-to-index mapping with padding and unknown tokens\n",
        "word_to_index = {word: index + 2 for index, (word, count) in enumerate(most_common_words)}\n",
        "word_to_index[\"<PAD>\"] = 0\n",
        "word_to_index[\"<UNK>\"] = 1\n",
        "\n",
        "# Create index-to-word mapping\n",
        "index_to_word = {index: word for word, index in word_to_index.items()}\n",
        "index_to_word[0] = \"<PAD>\"\n",
        "index_to_word[1] = \"<UNK>\"\n",
        "\n",
        "# Add 2 to the vocabulary size for the padding and unknown tokens\n",
        "vocab_size += 2\n",
        "\n",
        "# Define a function to encode text using the word-to-index mapping\n",
        "def encode_text(text):\n",
        "    return [word_to_index.get(word, 1) for word in text]\n",
        "\n",
        "# Apply the encoding function to the 'text' column of token_data_train and token_data_test\n",
        "token_data_train[\"text\"] = token_data_train[\"text\"].apply(encode_text)\n",
        "token_data_test[\"text\"] = token_data_test[\"text\"].apply(encode_text)\n",
        "\n",
        "# Display the modified token_data_train\n",
        "token_data_train.head()"
      ]
    },
    {
      "cell_type": "code",
      "execution_count": 10,
      "metadata": {},
      "outputs": [],
      "source": [
        "def pad_text(text, length):\n",
        "    return text[:length] if len(text) > length else text + [0] * (length - len(text))"
      ]
    },
    {
      "cell_type": "code",
      "execution_count": 11,
      "metadata": {},
      "outputs": [
        {
          "name": "stdout",
          "output_type": "stream",
          "text": [
            "Max length: 2699\n",
            "Mean length: 260\n",
            "Median length: 194\n"
          ]
        },
        {
          "data": {
            "text/html": [
              "<div>\n",
              "<style scoped>\n",
              "    .dataframe tbody tr th:only-of-type {\n",
              "        vertical-align: middle;\n",
              "    }\n",
              "\n",
              "    .dataframe tbody tr th {\n",
              "        vertical-align: top;\n",
              "    }\n",
              "\n",
              "    .dataframe thead th {\n",
              "        text-align: right;\n",
              "    }\n",
              "</style>\n",
              "<table border=\"1\" class=\"dataframe\">\n",
              "  <thead>\n",
              "    <tr style=\"text-align: right;\">\n",
              "      <th></th>\n",
              "      <th>text</th>\n",
              "      <th>label</th>\n",
              "    </tr>\n",
              "  </thead>\n",
              "  <tbody>\n",
              "    <tr>\n",
              "      <th>0</th>\n",
              "      <td>[13, 9, 37, 324, 22, 46, 6, 2021, 771, 699, 21...</td>\n",
              "      <td>1</td>\n",
              "    </tr>\n",
              "    <tr>\n",
              "      <th>1</th>\n",
              "      <td>[5175, 3787, 2, 1054, 213, 40, 2, 997, 7, 2, 2...</td>\n",
              "      <td>0</td>\n",
              "    </tr>\n",
              "    <tr>\n",
              "      <th>2</th>\n",
              "      <td>[12, 92, 25, 125, 49, 12, 146, 45, 901, 3, 21,...</td>\n",
              "      <td>1</td>\n",
              "    </tr>\n",
              "    <tr>\n",
              "      <th>3</th>\n",
              "      <td>[12, 1243, 70, 60, 327, 14, 2, 2823, 1, 4, 773...</td>\n",
              "      <td>0</td>\n",
              "    </tr>\n",
              "    <tr>\n",
              "      <th>4</th>\n",
              "      <td>[12, 70, 8, 8484, 18, 902, 45, 8, 1192, 6, 920...</td>\n",
              "      <td>0</td>\n",
              "    </tr>\n",
              "  </tbody>\n",
              "</table>\n",
              "</div>"
            ],
            "text/plain": [
              "                                                text  label\n",
              "0  [13, 9, 37, 324, 22, 46, 6, 2021, 771, 699, 21...      1\n",
              "1  [5175, 3787, 2, 1054, 213, 40, 2, 997, 7, 2, 2...      0\n",
              "2  [12, 92, 25, 125, 49, 12, 146, 45, 901, 3, 21,...      1\n",
              "3  [12, 1243, 70, 60, 327, 14, 2, 2823, 1, 4, 773...      0\n",
              "4  [12, 70, 8, 8484, 18, 902, 45, 8, 1192, 6, 920...      0"
            ]
          },
          "execution_count": 11,
          "metadata": {},
          "output_type": "execute_result"
        }
      ],
      "source": [
        "# padding\n",
        "\n",
        "text_max_length = np.max(token_data_train[\"text\"].apply(len))\n",
        "text_mean_length = int(np.mean(token_data_train[\"text\"].apply(len)))\n",
        "text_median_length = int(np.median(token_data_train[\"text\"].apply(len)))\n",
        "\n",
        "print(f\"Max length: {text_max_length}\")\n",
        "print(f\"Mean length: {text_mean_length}\")\n",
        "print(f\"Median length: {text_median_length}\")\n",
        "\n",
        "token_data_train[\"text\"] = token_data_train[\"text\"].apply(pad_text, length=text_median_length//4)\n",
        "token_data_test[\"text\"] = token_data_test[\"text\"].apply(pad_text, length=text_max_length)\n",
        "\n",
        "token_data_train.head()"
      ]
    },
    {
      "cell_type": "code",
      "execution_count": 12,
      "metadata": {},
      "outputs": [],
      "source": [
        "# create validation set\n",
        "\n",
        "validation_size = 0.2\n",
        "validation_samples = int(len(token_data_train) * validation_size)\n",
        "\n",
        "final_val = token_data_train[:validation_samples]\n",
        "final_train = token_data_train[validation_samples:]\n",
        "final_test = token_data_test"
      ]
    },
    {
      "cell_type": "code",
      "execution_count": 13,
      "metadata": {},
      "outputs": [
        {
          "data": {
            "text/html": [
              "<div>\n",
              "<style scoped>\n",
              "    .dataframe tbody tr th:only-of-type {\n",
              "        vertical-align: middle;\n",
              "    }\n",
              "\n",
              "    .dataframe tbody tr th {\n",
              "        vertical-align: top;\n",
              "    }\n",
              "\n",
              "    .dataframe thead th {\n",
              "        text-align: right;\n",
              "    }\n",
              "</style>\n",
              "<table border=\"1\" class=\"dataframe\">\n",
              "  <thead>\n",
              "    <tr style=\"text-align: right;\">\n",
              "      <th></th>\n",
              "      <th>text</th>\n",
              "      <th>label</th>\n",
              "    </tr>\n",
              "  </thead>\n",
              "  <tbody>\n",
              "    <tr>\n",
              "      <th>0</th>\n",
              "      <td>[10, 15, 6, 674, 543, 8, 862, 581, 11, 6, 741,...</td>\n",
              "      <td>1</td>\n",
              "    </tr>\n",
              "    <tr>\n",
              "      <th>1</th>\n",
              "      <td>[13, 9, 32, 7, 2, 87, 1708, 103, 12, 141, 127,...</td>\n",
              "      <td>1</td>\n",
              "    </tr>\n",
              "    <tr>\n",
              "      <th>2</th>\n",
              "      <td>[12, 199, 13, 16, 6, 89, 327, 21, 3, 413, 3, 1...</td>\n",
              "      <td>0</td>\n",
              "    </tr>\n",
              "    <tr>\n",
              "      <th>3</th>\n",
              "      <td>[42, 9, 60, 143, 6, 157, 17, 408, 1, 2446, 689...</td>\n",
              "      <td>1</td>\n",
              "    </tr>\n",
              "    <tr>\n",
              "      <th>4</th>\n",
              "      <td>[4404, 9, 270, 11, 2, 391, 299, 493, 7, 1, 1, ...</td>\n",
              "      <td>0</td>\n",
              "    </tr>\n",
              "  </tbody>\n",
              "</table>\n",
              "</div>"
            ],
            "text/plain": [
              "                                                text  label\n",
              "0  [10, 15, 6, 674, 543, 8, 862, 581, 11, 6, 741,...      1\n",
              "1  [13, 9, 32, 7, 2, 87, 1708, 103, 12, 141, 127,...      1\n",
              "2  [12, 199, 13, 16, 6, 89, 327, 21, 3, 413, 3, 1...      0\n",
              "3  [42, 9, 60, 143, 6, 157, 17, 408, 1, 2446, 689...      1\n",
              "4  [4404, 9, 270, 11, 2, 391, 299, 493, 7, 1, 1, ...      0"
            ]
          },
          "execution_count": 13,
          "metadata": {},
          "output_type": "execute_result"
        }
      ],
      "source": [
        "final_train.reset_index(drop=True, inplace=True)\n",
        "final_train.head()"
      ]
    },
    {
      "cell_type": "markdown",
      "metadata": {
        "id": "JiZfjScb6NVK"
      },
      "source": [
        " Por motivos de costo computacional y tiempo de entrenamiento, para la tarea pueden considerar una proporción del dataset,  por ejemplo el 10%. Pero tenga en consideración que si el tamaño del dataset es muy pequeño el rendimiento del modelo se verá afectado negativamente."
      ]
    },
    {
      "cell_type": "code",
      "execution_count": 14,
      "metadata": {},
      "outputs": [],
      "source": [
        "# PyTorch datasets\n",
        "\n",
        "from torch.utils.data import Dataset\n",
        "\n",
        "class IMDBDataset(Dataset):\n",
        "    def __init__(self, data):\n",
        "        self.data = data\n",
        "\n",
        "    def __len__(self):\n",
        "        return len(self.data)\n",
        "\n",
        "    def __getitem__(self, index):\n",
        "        return torch.tensor(self.data[\"text\"][index]), torch.tensor(self.data[\"label\"][index])"
      ]
    },
    {
      "cell_type": "code",
      "execution_count": 45,
      "metadata": {},
      "outputs": [
        {
          "name": "stdout",
          "output_type": "stream",
          "text": [
            "Training set has 20000 instances\n",
            "Validation set has 5000 instances\n",
            "Test set has 25000 instances\n"
          ]
        }
      ],
      "source": [
        "train_dataset = IMDBDataset(final_train)\n",
        "val_dataset = IMDBDataset(final_val)\n",
        "test_dataset = IMDBDataset(final_test)\n",
        "\n",
        "# Report split sizes\n",
        "print('Training set has {} instances'.format(len(final_train)))\n",
        "print('Validation set has {} instances'.format(len(final_val)))\n",
        "print('Test set has {} instances'.format(len(final_test)))\n",
        "\n",
        "# PyTorch dataloaders\n",
        "\n",
        "batch_size = 128\n",
        "\n",
        "train_dataloader = DataLoader(train_dataset, batch_size=batch_size, shuffle=True)\n",
        "val_dataloader = DataLoader(val_dataset, batch_size=batch_size, shuffle=False)\n",
        "test_dataloader = DataLoader(test_dataset, batch_size=batch_size, shuffle=False)"
      ]
    },
    {
      "cell_type": "markdown",
      "metadata": {
        "id": "LhEh8zbM2vxM"
      },
      "source": [
        "## Parte 1: Redes Neuronales Recurrentes (RNNs)"
      ]
    },
    {
      "cell_type": "markdown",
      "metadata": {
        "id": "oSf7H0fJ28Fx"
      },
      "source": [
        "### Actividad 1\n",
        "\n",
        "Responda las siguientes preguntas:\n",
        "\n",
        "\n",
        "*   ¿Cuáles son las principales características de las redes neuronales recurrentes?\n",
        "\n",
        "    **Respuesta:** Las redes neuronales recurrentes, como su nombre indica, poseen conexiones recurrentes\n",
        "    lo que permite que la red mantenga una memoria de los datos que ha procesado previamente,\n",
        "    de forma que el _output_ en un estado particual esta influenciado no solo por su _input_ actual\n",
        "    sino también por los _inputs_ previos.\n",
        "    \n",
        "    Las RNN tienen la capacidad de recibir _inputs_ de longitud variable y producir _outputs_ de longitud variable.\n",
        "\n",
        "*   ¿Cuáles son las desventajas y limitaciones de las redes RNNs?\n",
        "\n",
        "    **Respuesta:** Las RNNs sufren del problema de desvanecimiento y explosión del gradiente, lo que\n",
        "    dificulta el entrenamiento de la red. Además, las RNNs tienen dificultades para mantener\n",
        "    la memoria a largo plazo, lo que limita su capacidad para recordar información relevante\n",
        "    de _inputs_ muy antiguos. Por el contrario, las RNNs también tienen problemas para olvidar\n",
        "    información irrelevantes de _inputs_ recientes que no son relevantes para el _output_.\n",
        "\n",
        "*   Menciona y describa brevemente al menos dos variantes a la arquitectura de RNNs simples.\n",
        "\n",
        "    **Respuesta:** LSTM: Las redes LSTM (Long Short-Term Memory) son una variante de las RNNs que\n",
        "    intentan solucionar el problema de la memoria a largo plazo. Las LSTM poseen una estructura\n",
        "    más compleja que las RNNs tradicionales, con una estructura de celdas que permiten mantener\n",
        "    la memoria a largo plazo y olvidar información irrelevante.\n",
        "\n",
        "    GRU: Las redes GRU (Gated Recurrent Unit) son una variante de las RNNs que intentan simplificar\n",
        "    la estructura de las LSTM, eliminando la estructura de celdas y manteniendo solo las puertas\n",
        "    de olvido y actualización. Las GRU son más simples que las LSTM y tienen menos parámetros,\n",
        "    lo que las hace más fáciles de entrenar y menos propensas al sobreajuste.\n",
        "\n",
        "    Modelos de atención: Los modelos de atención son una variante de las RNNs que permiten\n",
        "    que la red se enfoque en partes específicas de la secuencia de _inputs_ para generar el _output_,\n",
        "    asignando pesos a los _inputs_ en vez de asignar el mismo peso a todos los _inputs_ como lo hacen\n",
        "    las RNNs tradicionales. "
      ]
    },
    {
      "cell_type": "markdown",
      "metadata": {
        "id": "9pjPJJdf3y0A"
      },
      "source": [
        "### Actividad 2"
      ]
    },
    {
      "cell_type": "markdown",
      "metadata": {
        "id": "bEUbMK7O3dhT"
      },
      "source": [
        "Implemente una red RNN simple y realice su entrenamiento con el dataset preprocesado. Para el pre-procesamiento use el método de la Actividad 1.\n",
        "\n",
        "La siguiente celda contiene el esqueleto de la red. Puede usarlo como referencia para su implementación o realizar una propia."
      ]
    },
    {
      "cell_type": "code",
      "execution_count": 81,
      "metadata": {
        "id": "q3F8hVtS400m"
      },
      "outputs": [],
      "source": [
        "class SimpleRNN(nn.Module):\n",
        "    def __init__(self, vocab_size, embedding_size, hidden_size, output_size, dropout=0.2):\n",
        "        super(SimpleRNN, self).__init__()\n",
        "\n",
        "        self.hidden_size = hidden_size\n",
        "        \n",
        "        self.embedding = nn.Embedding(vocab_size, embedding_size)\n",
        "\n",
        "        self.e2h = nn.Linear(embedding_size, hidden_size)\n",
        "        self.h2h = nn.Linear(hidden_size, hidden_size)\n",
        "        self.h2o = nn.Linear(hidden_size, output_size)\n",
        "\n",
        "        self.dropout = nn.Dropout(dropout)\n",
        "\n",
        "    def forward(self, x):\n",
        "        # Embedding\n",
        "        x = self.embedding(x)\n",
        "        \n",
        "        # RNN\n",
        "        hidden = torch.zeros(x.size(0), self.hidden_size).to(x.device)\n",
        "        for t in range(x.size(1)):\n",
        "            hidden = torch.relu(self.e2h(x[:, t, :]) + self.h2h(hidden))\n",
        "            hidden = self.dropout(hidden)\n",
        "        \n",
        "        out = self.h2o(hidden)\n",
        "        \n",
        "        return out"
      ]
    },
    {
      "cell_type": "code",
      "execution_count": 82,
      "metadata": {},
      "outputs": [],
      "source": [
        "simple_model = SimpleRNN(vocab_size, 128, 128, 1, dropout=0.2)"
      ]
    },
    {
      "cell_type": "code",
      "execution_count": 83,
      "metadata": {},
      "outputs": [],
      "source": [
        "criterion = nn.BCEWithLogitsLoss()\n",
        "lr = 0.005\n",
        "optimizer = torch.optim.Adam(simple_model.parameters(), lr=lr)"
      ]
    },
    {
      "cell_type": "code",
      "execution_count": 84,
      "metadata": {},
      "outputs": [
        {
          "data": {
            "text/plain": [
              "SimpleRNN(\n",
              "  (embedding): Embedding(20002, 128)\n",
              "  (e2h): Linear(in_features=128, out_features=128, bias=True)\n",
              "  (h2h): Linear(in_features=128, out_features=128, bias=True)\n",
              "  (h2o): Linear(in_features=128, out_features=1, bias=True)\n",
              "  (dropout): Dropout(p=0.2, inplace=False)\n",
              ")"
            ]
          },
          "execution_count": 84,
          "metadata": {},
          "output_type": "execute_result"
        }
      ],
      "source": [
        "device = torch.device(\"cuda\" if torch.cuda.is_available() else \"cpu\")\n",
        "simple_model.to(device)"
      ]
    },
    {
      "cell_type": "code",
      "execution_count": 85,
      "metadata": {
        "id": "i225hEe2IfIG"
      },
      "outputs": [],
      "source": [
        "def train(num_epochs, model, criterion, optimizer, train_dataloader, val_dataloader):\n",
        "    losses = []\n",
        "    val_losses = []\n",
        "    for epoch in range(num_epochs):\n",
        "        model.train()\n",
        "        for i, (texts, labels) in enumerate(tqdm(train_dataloader)):\n",
        "            if torch.isnan(texts).any() or torch.isinf(texts).any():\n",
        "                print(f\"Found NaN or inf in texts at iteration {i}\")\n",
        "            if torch.isnan(labels).any() or torch.isinf(labels).any():\n",
        "                print(f\"Found NaN or inf in labels at iteration {i}\")\n",
        "            if (texts >= vocab_size).any():\n",
        "                print(f\"Found out-of-range values in texts at iteration {i}\")\n",
        "            texts = texts.to(device)\n",
        "            labels = labels.to(device)\n",
        "\n",
        "            optimizer.zero_grad()\n",
        "\n",
        "            output = model(texts)\n",
        "            output = output.squeeze()  # Remove the extra dimension from the output\n",
        "\n",
        "            loss = criterion(output, labels.float())  # Compute the loss\n",
        "            loss.backward()\n",
        "            nn.utils.clip_grad_norm_(model.parameters(), max_norm=1.0)  # Apply gradient clipping\n",
        "            optimizer.step()\n",
        "\n",
        "        losses.append(loss.item())\n",
        "        print('Epoch [{}/{}], Loss: {:.4f}'.format(epoch+1, num_epochs, loss.item()))\n",
        "\n",
        "        model.eval()\n",
        "\n",
        "        with torch.no_grad():\n",
        "            for i, (texts, labels) in enumerate(tqdm(val_dataloader)):\n",
        "                texts = texts.to(device)\n",
        "                labels = labels.to(device)\n",
        "\n",
        "                output = model(texts)\n",
        "                output = output.squeeze()\n",
        "\n",
        "                val_loss = criterion(output, labels.float())\n",
        "\n",
        "        val_losses.append(val_loss.item())\n",
        "        print('Epoch [{}/{}], Validation Loss: {:.4f}'.format(epoch+1, num_epochs, val_loss.item()))\n",
        "\n",
        "    return (losses, val_losses)"
      ]
    },
    {
      "cell_type": "code",
      "execution_count": 86,
      "metadata": {},
      "outputs": [
        {
          "name": "stderr",
          "output_type": "stream",
          "text": [
            "100%|██████████| 157/157 [00:09<00:00, 15.84it/s]\n"
          ]
        },
        {
          "name": "stdout",
          "output_type": "stream",
          "text": [
            "Epoch [1/5], Loss: 0.5958\n"
          ]
        },
        {
          "name": "stderr",
          "output_type": "stream",
          "text": [
            "100%|██████████| 40/40 [00:00<00:00, 58.48it/s]\n"
          ]
        },
        {
          "name": "stdout",
          "output_type": "stream",
          "text": [
            "Epoch [1/5], Validation Loss: 0.9763\n"
          ]
        },
        {
          "name": "stderr",
          "output_type": "stream",
          "text": [
            "100%|██████████| 157/157 [00:09<00:00, 16.40it/s]\n"
          ]
        },
        {
          "name": "stdout",
          "output_type": "stream",
          "text": [
            "Epoch [2/5], Loss: 0.6788\n"
          ]
        },
        {
          "name": "stderr",
          "output_type": "stream",
          "text": [
            "100%|██████████| 40/40 [00:00<00:00, 59.61it/s]\n"
          ]
        },
        {
          "name": "stdout",
          "output_type": "stream",
          "text": [
            "Epoch [2/5], Validation Loss: 0.6436\n"
          ]
        },
        {
          "name": "stderr",
          "output_type": "stream",
          "text": [
            "100%|██████████| 157/157 [00:09<00:00, 16.45it/s]\n"
          ]
        },
        {
          "name": "stdout",
          "output_type": "stream",
          "text": [
            "Epoch [3/5], Loss: 0.6115\n"
          ]
        },
        {
          "name": "stderr",
          "output_type": "stream",
          "text": [
            "100%|██████████| 40/40 [00:00<00:00, 59.97it/s]\n"
          ]
        },
        {
          "name": "stdout",
          "output_type": "stream",
          "text": [
            "Epoch [3/5], Validation Loss: 0.7630\n"
          ]
        },
        {
          "name": "stderr",
          "output_type": "stream",
          "text": [
            "100%|██████████| 157/157 [00:09<00:00, 16.52it/s]\n"
          ]
        },
        {
          "name": "stdout",
          "output_type": "stream",
          "text": [
            "Epoch [4/5], Loss: 0.5697\n"
          ]
        },
        {
          "name": "stderr",
          "output_type": "stream",
          "text": [
            "100%|██████████| 40/40 [00:00<00:00, 59.35it/s]\n"
          ]
        },
        {
          "name": "stdout",
          "output_type": "stream",
          "text": [
            "Epoch [4/5], Validation Loss: 0.5190\n"
          ]
        },
        {
          "name": "stderr",
          "output_type": "stream",
          "text": [
            "100%|██████████| 157/157 [00:09<00:00, 16.53it/s]\n"
          ]
        },
        {
          "name": "stdout",
          "output_type": "stream",
          "text": [
            "Epoch [5/5], Loss: 0.6304\n"
          ]
        },
        {
          "name": "stderr",
          "output_type": "stream",
          "text": [
            "100%|██████████| 40/40 [00:00<00:00, 59.35it/s]"
          ]
        },
        {
          "name": "stdout",
          "output_type": "stream",
          "text": [
            "Epoch [5/5], Validation Loss: 0.6137\n"
          ]
        },
        {
          "name": "stderr",
          "output_type": "stream",
          "text": [
            "\n"
          ]
        }
      ],
      "source": [
        "losses, val_losses = train(5, simple_model, criterion, optimizer, train_dataloader, val_dataloader)"
      ]
    },
    {
      "cell_type": "code",
      "execution_count": 68,
      "metadata": {},
      "outputs": [
        {
          "name": "stderr",
          "output_type": "stream",
          "text": [
            "100%|██████████| 157/157 [00:01<00:00, 106.15it/s]\n"
          ]
        },
        {
          "name": "stdout",
          "output_type": "stream",
          "text": [
            "Epoch [1/5], Loss: 0.7120\n"
          ]
        },
        {
          "name": "stderr",
          "output_type": "stream",
          "text": [
            "100%|██████████| 40/40 [00:00<00:00, 218.58it/s]\n"
          ]
        },
        {
          "name": "stdout",
          "output_type": "stream",
          "text": [
            "Epoch [1/5], Validation Loss: 0.6944\n"
          ]
        },
        {
          "name": "stderr",
          "output_type": "stream",
          "text": [
            "100%|██████████| 157/157 [00:01<00:00, 115.19it/s]\n"
          ]
        },
        {
          "name": "stdout",
          "output_type": "stream",
          "text": [
            "Epoch [2/5], Loss: 0.7633\n"
          ]
        },
        {
          "name": "stderr",
          "output_type": "stream",
          "text": [
            "100%|██████████| 40/40 [00:00<00:00, 238.10it/s]\n"
          ]
        },
        {
          "name": "stdout",
          "output_type": "stream",
          "text": [
            "Epoch [2/5], Validation Loss: 0.5891\n"
          ]
        },
        {
          "name": "stderr",
          "output_type": "stream",
          "text": [
            "100%|██████████| 157/157 [00:01<00:00, 106.51it/s]\n"
          ]
        },
        {
          "name": "stdout",
          "output_type": "stream",
          "text": [
            "Epoch [3/5], Loss: 0.5386\n"
          ]
        },
        {
          "name": "stderr",
          "output_type": "stream",
          "text": [
            "100%|██████████| 40/40 [00:00<00:00, 222.23it/s]\n"
          ]
        },
        {
          "name": "stdout",
          "output_type": "stream",
          "text": [
            "Epoch [3/5], Validation Loss: 0.8871\n"
          ]
        },
        {
          "name": "stderr",
          "output_type": "stream",
          "text": [
            "100%|██████████| 157/157 [00:01<00:00, 106.30it/s]\n"
          ]
        },
        {
          "name": "stdout",
          "output_type": "stream",
          "text": [
            "Epoch [4/5], Loss: 0.4667\n"
          ]
        },
        {
          "name": "stderr",
          "output_type": "stream",
          "text": [
            "100%|██████████| 40/40 [00:00<00:00, 229.89it/s]\n"
          ]
        },
        {
          "name": "stdout",
          "output_type": "stream",
          "text": [
            "Epoch [4/5], Validation Loss: 0.4940\n"
          ]
        },
        {
          "name": "stderr",
          "output_type": "stream",
          "text": [
            "100%|██████████| 157/157 [00:01<00:00, 98.25it/s]\n"
          ]
        },
        {
          "name": "stdout",
          "output_type": "stream",
          "text": [
            "Epoch [5/5], Loss: 0.4469\n"
          ]
        },
        {
          "name": "stderr",
          "output_type": "stream",
          "text": [
            "100%|██████████| 40/40 [00:00<00:00, 225.99it/s]"
          ]
        },
        {
          "name": "stdout",
          "output_type": "stream",
          "text": [
            "Epoch [5/5], Validation Loss: 0.6506\n"
          ]
        },
        {
          "name": "stderr",
          "output_type": "stream",
          "text": [
            "\n"
          ]
        }
      ],
      "source": [
        "losses, val_losses = train(5, simple_model, criterion, optimizer, train_dataloader, val_dataloader)"
      ]
    },
    {
      "cell_type": "code",
      "execution_count": 634,
      "metadata": {},
      "outputs": [],
      "source": [
        "# PATH = './simple_rnn.pth'\n",
        "# torch.save(simple_model.state_dict(), PATH)"
      ]
    },
    {
      "cell_type": "code",
      "execution_count": 2,
      "metadata": {},
      "outputs": [],
      "source": [
        "# PATH = './simple_rnn.pth'\n",
        "# simple_model = SimpleRNN(vocabulary_size, 128, 128, 1)\n",
        "# simple_model.load_state_dict(torch.load(PATH))\n",
        "# simple_model.to(device)"
      ]
    },
    {
      "cell_type": "code",
      "execution_count": 22,
      "metadata": {},
      "outputs": [],
      "source": [
        "# plot losses\n",
        "\n",
        "def plot(losses, val_losses=None, time_unit=\"Epoch\"):\n",
        "\n",
        "    if val_losses is not None:\n",
        "        plt.plot(losses, label=\"Training loss\")\n",
        "        plt.plot(val_losses, label=\"Validation loss\")\n",
        "        plt.legend()\n",
        "\n",
        "        plt.xlabel(\"Iteration\")\n",
        "        plt.ylabel(\"Loss\")\n",
        "\n",
        "    else:\n",
        "        plt.plot(losses, label=\"Loss\")\n",
        "\n",
        "        plt.xlabel(time_unit)\n",
        "        plt.ylabel(\"Loss\")\n",
        "\n",
        "    plt.show()"
      ]
    },
    {
      "cell_type": "code",
      "execution_count": 89,
      "metadata": {},
      "outputs": [
        {
          "data": {
            "image/png": "[encoded data removed]",
            "text/plain": [
              "<Figure size 640x480 with 1 Axes>"
            ]
          },
          "metadata": {},
          "output_type": "display_data"
        }
      ],
      "source": [
        "plot(losses, val_losses)"
      ]
    },
    {
      "cell_type": "code",
      "execution_count": 70,
      "metadata": {},
      "outputs": [],
      "source": [
        "# Test accuracy\n",
        "\n",
        "def test(model, dataloader):\n",
        "\n",
        "    model.eval()\n",
        "\n",
        "    correct = 0\n",
        "    total = 0\n",
        "\n",
        "    with torch.no_grad():\n",
        "        for texts, labels in tqdm(dataloader):\n",
        "            texts = texts.to(device)\n",
        "            labels = labels.to(device)\n",
        "\n",
        "            output = model(texts)\n",
        "            output = output.squeeze()\n",
        "\n",
        "            predictions = torch.round(torch.sigmoid(output))\n",
        "\n",
        "            total += labels.size(0)\n",
        "            correct += (predictions == labels).sum().item()\n",
        "\n",
        "    accuracy = correct / total\n",
        "    print(f\"Test accuracy: {accuracy * 100:.2f}%\")"
      ]
    },
    {
      "cell_type": "code",
      "execution_count": 87,
      "metadata": {},
      "outputs": [
        {
          "name": "stderr",
          "output_type": "stream",
          "text": [
            "100%|██████████| 196/196 [02:52<00:00,  1.13it/s]"
          ]
        },
        {
          "name": "stdout",
          "output_type": "stream",
          "text": [
            "Test accuracy: 67.96%\n"
          ]
        },
        {
          "name": "stderr",
          "output_type": "stream",
          "text": [
            "\n"
          ]
        }
      ],
      "source": [
        "test(simple_model, test_dataloader)"
      ]
    },
    {
      "cell_type": "code",
      "execution_count": 88,
      "metadata": {},
      "outputs": [
        {
          "name": "stderr",
          "output_type": "stream",
          "text": [
            "100%|██████████| 157/157 [00:03<00:00, 43.15it/s]"
          ]
        },
        {
          "name": "stdout",
          "output_type": "stream",
          "text": [
            "Test accuracy: 81.22%\n"
          ]
        },
        {
          "name": "stderr",
          "output_type": "stream",
          "text": [
            "\n"
          ]
        }
      ],
      "source": [
        "test(simple_model, train_dataloader)"
      ]
    },
    {
      "cell_type": "markdown",
      "metadata": {
        "id": "n-kcy4Gx-0Y2"
      },
      "source": [
        "### Actividad 3"
      ]
    },
    {
      "cell_type": "markdown",
      "metadata": {
        "id": "IMUylUH1v0hk"
      },
      "source": [
        "Implemente una red variante al RNN clásico, como un LSTM, GRU, Bi-LSTM, entre otros. Realice el entrenamiento del modelo con el mismo dataset. Realice un breve análisis sobre las diferencias en términos de los resultados, tiempo de ejecución y aspectos que le parezcan relevantes, entre la red implementada en la actividad previa y la red implementada en esta actividad."
      ]
    },
    {
      "cell_type": "code",
      "execution_count": 159,
      "metadata": {
        "id": "c4Y0ojxFwDxu"
      },
      "outputs": [],
      "source": [
        "class VariantRNN(nn.Module):\n",
        "    def __init__(self, vocab_size, embedding_size, hidden_size, output_size, dropout=0.2):\n",
        "        super(VariantRNN, self).__init__()\n",
        "\n",
        "        self.hidden_size = hidden_size\n",
        "        \n",
        "        self.embedding = nn.Embedding(vocab_size, embedding_size)\n",
        "        self.update_gate = nn.Linear(embedding_size + hidden_size, hidden_size)\n",
        "        self.reset_gate = nn.Linear(embedding_size + hidden_size, hidden_size)\n",
        "        self.new_memory = nn.Linear(embedding_size + hidden_size, hidden_size)\n",
        "        self.fc = nn.Linear(hidden_size, output_size)\n",
        "\n",
        "        self.dropout = nn.Dropout(dropout)\n",
        "\n",
        "    def forward(self, x):\n",
        "        # Embedding\n",
        "        x = self.embedding(x)\n",
        "        \n",
        "        # RNN\n",
        "        hidden = torch.zeros(x.size(0), self.hidden_size).to(x.device)\n",
        "        for t in range(x.size(1)):\n",
        "            combined = torch.cat((x[:, t, :], hidden), dim=1)\n",
        "            update = torch.sigmoid(self.update_gate(combined))\n",
        "            reset = torch.sigmoid(self.reset_gate(combined))\n",
        "            memory = torch.tanh(self.new_memory(torch.cat((x[:, t, :], reset * hidden), dim=1)))\n",
        "            hidden = (1 - update) * hidden + update * memory\n",
        "            hidden = self.dropout(hidden)\n",
        "        \n",
        "        out = self.fc(hidden)\n",
        "        \n",
        "        return out"
      ]
    },
    {
      "cell_type": "code",
      "execution_count": 160,
      "metadata": {
        "id": "ABNxy3P8IiZ3"
      },
      "outputs": [
        {
          "data": {
            "text/plain": [
              "VariantRNN(\n",
              "  (embedding): Embedding(20002, 128)\n",
              "  (update_gate): Linear(in_features=256, out_features=128, bias=True)\n",
              "  (reset_gate): Linear(in_features=256, out_features=128, bias=True)\n",
              "  (new_memory): Linear(in_features=256, out_features=128, bias=True)\n",
              "  (fc): Linear(in_features=128, out_features=1, bias=True)\n",
              "  (dropout): Dropout(p=0.2, inplace=False)\n",
              ")"
            ]
          },
          "execution_count": 160,
          "metadata": {},
          "output_type": "execute_result"
        }
      ],
      "source": [
        "variant_model = VariantRNN(vocab_size, 128, 128, 1, dropout=0.2)\n",
        "variant_model.to(device)"
      ]
    },
    {
      "cell_type": "code",
      "execution_count": 161,
      "metadata": {},
      "outputs": [],
      "source": [
        "criterion = nn.BCEWithLogitsLoss()\n",
        "lr = 0.005\n",
        "optimizer = torch.optim.Adam(variant_model.parameters(), lr=lr)"
      ]
    },
    {
      "cell_type": "code",
      "execution_count": 162,
      "metadata": {},
      "outputs": [
        {
          "name": "stderr",
          "output_type": "stream",
          "text": [
            "100%|██████████| 157/157 [00:21<00:00,  7.44it/s]\n"
          ]
        },
        {
          "name": "stdout",
          "output_type": "stream",
          "text": [
            "Epoch [1/5], Loss: 0.7013\n"
          ]
        },
        {
          "name": "stderr",
          "output_type": "stream",
          "text": [
            "100%|██████████| 40/40 [00:01<00:00, 23.30it/s]\n"
          ]
        },
        {
          "name": "stdout",
          "output_type": "stream",
          "text": [
            "Epoch [1/5], Validation Loss: 0.6942\n"
          ]
        },
        {
          "name": "stderr",
          "output_type": "stream",
          "text": [
            "100%|██████████| 157/157 [00:21<00:00,  7.48it/s]\n"
          ]
        },
        {
          "name": "stdout",
          "output_type": "stream",
          "text": [
            "Epoch [2/5], Loss: 0.6895\n"
          ]
        },
        {
          "name": "stderr",
          "output_type": "stream",
          "text": [
            "100%|██████████| 40/40 [00:01<00:00, 24.13it/s]\n"
          ]
        },
        {
          "name": "stdout",
          "output_type": "stream",
          "text": [
            "Epoch [2/5], Validation Loss: 0.7347\n"
          ]
        },
        {
          "name": "stderr",
          "output_type": "stream",
          "text": [
            "100%|██████████| 157/157 [00:20<00:00,  7.50it/s]\n"
          ]
        },
        {
          "name": "stdout",
          "output_type": "stream",
          "text": [
            "Epoch [3/5], Loss: 0.6474\n"
          ]
        },
        {
          "name": "stderr",
          "output_type": "stream",
          "text": [
            "100%|██████████| 40/40 [00:01<00:00, 24.04it/s]\n"
          ]
        },
        {
          "name": "stdout",
          "output_type": "stream",
          "text": [
            "Epoch [3/5], Validation Loss: 0.6995\n"
          ]
        },
        {
          "name": "stderr",
          "output_type": "stream",
          "text": [
            "100%|██████████| 157/157 [00:20<00:00,  7.58it/s]\n"
          ]
        },
        {
          "name": "stdout",
          "output_type": "stream",
          "text": [
            "Epoch [4/5], Loss: 0.5745\n"
          ]
        },
        {
          "name": "stderr",
          "output_type": "stream",
          "text": [
            "100%|██████████| 40/40 [00:01<00:00, 23.69it/s]\n"
          ]
        },
        {
          "name": "stdout",
          "output_type": "stream",
          "text": [
            "Epoch [4/5], Validation Loss: 0.7848\n"
          ]
        },
        {
          "name": "stderr",
          "output_type": "stream",
          "text": [
            "100%|██████████| 157/157 [00:20<00:00,  7.49it/s]\n"
          ]
        },
        {
          "name": "stdout",
          "output_type": "stream",
          "text": [
            "Epoch [5/5], Loss: 0.5747\n"
          ]
        },
        {
          "name": "stderr",
          "output_type": "stream",
          "text": [
            "100%|██████████| 40/40 [00:01<00:00, 24.30it/s]"
          ]
        },
        {
          "name": "stdout",
          "output_type": "stream",
          "text": [
            "Epoch [5/5], Validation Loss: 0.6901\n"
          ]
        },
        {
          "name": "stderr",
          "output_type": "stream",
          "text": [
            "\n"
          ]
        }
      ],
      "source": [
        "losses, val_losses = train(5, variant_model, criterion, optimizer, train_dataloader, val_dataloader)"
      ]
    },
    {
      "cell_type": "code",
      "execution_count": null,
      "metadata": {},
      "outputs": [],
      "source": [
        "# PATH = './variant_rnn.pth'\n",
        "# torch.save(variant_model.state_dict(), PATH)"
      ]
    },
    {
      "cell_type": "code",
      "execution_count": null,
      "metadata": {},
      "outputs": [],
      "source": [
        "# PATH = './variant_rnn.pth'\n",
        "# variant_model = VariantRNN(vocabulary_size, 128, 128, 1)\n",
        "# variant_model.load_state_dict(torch.load(PATH))\n",
        "# variant_model.to(device)"
      ]
    },
    {
      "cell_type": "code",
      "execution_count": 163,
      "metadata": {},
      "outputs": [
        {
          "data": {
            "image/png": "[encoded data removed]",
            "text/plain": [
              "<Figure size 640x480 with 1 Axes>"
            ]
          },
          "metadata": {},
          "output_type": "display_data"
        }
      ],
      "source": [
        "plot(losses, val_losses)"
      ]
    },
    {
      "cell_type": "code",
      "execution_count": 164,
      "metadata": {},
      "outputs": [
        {
          "name": "stderr",
          "output_type": "stream",
          "text": [
            "  3%|▎         | 6/196 [00:14<07:52,  2.49s/it]\n"
          ]
        },
        {
          "ename": "KeyboardInterrupt",
          "evalue": "",
          "output_type": "error",
          "traceback": [
            "\u001b[1;31m---------------------------------------------------------------------------\u001b[0m",
            "\u001b[1;31mKeyboardInterrupt\u001b[0m                         Traceback (most recent call last)",
            "Cell \u001b[1;32mIn[164], line 1\u001b[0m\n\u001b[1;32m----> 1\u001b[0m \u001b[43mtest\u001b[49m\u001b[43m(\u001b[49m\u001b[43mvariant_model\u001b[49m\u001b[43m,\u001b[49m\u001b[43m \u001b[49m\u001b[43mtest_dataloader\u001b[49m\u001b[43m)\u001b[49m\n",
            "Cell \u001b[1;32mIn[143], line 15\u001b[0m, in \u001b[0;36mtest\u001b[1;34m(model, dataloader)\u001b[0m\n\u001b[0;32m     12\u001b[0m texts \u001b[38;5;241m=\u001b[39m texts\u001b[38;5;241m.\u001b[39mto(device)\n\u001b[0;32m     13\u001b[0m labels \u001b[38;5;241m=\u001b[39m labels\u001b[38;5;241m.\u001b[39mto(device)\n\u001b[1;32m---> 15\u001b[0m output \u001b[38;5;241m=\u001b[39m \u001b[43mmodel\u001b[49m\u001b[43m(\u001b[49m\u001b[43mtexts\u001b[49m\u001b[43m)\u001b[49m\n\u001b[0;32m     16\u001b[0m output \u001b[38;5;241m=\u001b[39m output\u001b[38;5;241m.\u001b[39msqueeze()\n\u001b[0;32m     18\u001b[0m predictions \u001b[38;5;241m=\u001b[39m torch\u001b[38;5;241m.\u001b[39mround(torch\u001b[38;5;241m.\u001b[39msigmoid(output))\n",
            "File \u001b[1;32mc:\\Users\\Bruno\\AppData\\Local\\Programs\\Python\\Python311\\Lib\\site-packages\\torch\\nn\\modules\\module.py:1532\u001b[0m, in \u001b[0;36mModule._wrapped_call_impl\u001b[1;34m(self, *args, **kwargs)\u001b[0m\n\u001b[0;32m   1530\u001b[0m     \u001b[38;5;28;01mreturn\u001b[39;00m \u001b[38;5;28mself\u001b[39m\u001b[38;5;241m.\u001b[39m_compiled_call_impl(\u001b[38;5;241m*\u001b[39margs, \u001b[38;5;241m*\u001b[39m\u001b[38;5;241m*\u001b[39mkwargs)  \u001b[38;5;66;03m# type: ignore[misc]\u001b[39;00m\n\u001b[0;32m   1531\u001b[0m \u001b[38;5;28;01melse\u001b[39;00m:\n\u001b[1;32m-> 1532\u001b[0m     \u001b[38;5;28;01mreturn\u001b[39;00m \u001b[38;5;28;43mself\u001b[39;49m\u001b[38;5;241;43m.\u001b[39;49m\u001b[43m_call_impl\u001b[49m\u001b[43m(\u001b[49m\u001b[38;5;241;43m*\u001b[39;49m\u001b[43margs\u001b[49m\u001b[43m,\u001b[49m\u001b[43m \u001b[49m\u001b[38;5;241;43m*\u001b[39;49m\u001b[38;5;241;43m*\u001b[39;49m\u001b[43mkwargs\u001b[49m\u001b[43m)\u001b[49m\n",
            "File \u001b[1;32mc:\\Users\\Bruno\\AppData\\Local\\Programs\\Python\\Python311\\Lib\\site-packages\\torch\\nn\\modules\\module.py:1541\u001b[0m, in \u001b[0;36mModule._call_impl\u001b[1;34m(self, *args, **kwargs)\u001b[0m\n\u001b[0;32m   1536\u001b[0m \u001b[38;5;66;03m# If we don't have any hooks, we want to skip the rest of the logic in\u001b[39;00m\n\u001b[0;32m   1537\u001b[0m \u001b[38;5;66;03m# this function, and just call forward.\u001b[39;00m\n\u001b[0;32m   1538\u001b[0m \u001b[38;5;28;01mif\u001b[39;00m \u001b[38;5;129;01mnot\u001b[39;00m (\u001b[38;5;28mself\u001b[39m\u001b[38;5;241m.\u001b[39m_backward_hooks \u001b[38;5;129;01mor\u001b[39;00m \u001b[38;5;28mself\u001b[39m\u001b[38;5;241m.\u001b[39m_backward_pre_hooks \u001b[38;5;129;01mor\u001b[39;00m \u001b[38;5;28mself\u001b[39m\u001b[38;5;241m.\u001b[39m_forward_hooks \u001b[38;5;129;01mor\u001b[39;00m \u001b[38;5;28mself\u001b[39m\u001b[38;5;241m.\u001b[39m_forward_pre_hooks\n\u001b[0;32m   1539\u001b[0m         \u001b[38;5;129;01mor\u001b[39;00m _global_backward_pre_hooks \u001b[38;5;129;01mor\u001b[39;00m _global_backward_hooks\n\u001b[0;32m   1540\u001b[0m         \u001b[38;5;129;01mor\u001b[39;00m _global_forward_hooks \u001b[38;5;129;01mor\u001b[39;00m _global_forward_pre_hooks):\n\u001b[1;32m-> 1541\u001b[0m     \u001b[38;5;28;01mreturn\u001b[39;00m \u001b[43mforward_call\u001b[49m\u001b[43m(\u001b[49m\u001b[38;5;241;43m*\u001b[39;49m\u001b[43margs\u001b[49m\u001b[43m,\u001b[49m\u001b[43m \u001b[49m\u001b[38;5;241;43m*\u001b[39;49m\u001b[38;5;241;43m*\u001b[39;49m\u001b[43mkwargs\u001b[49m\u001b[43m)\u001b[49m\n\u001b[0;32m   1543\u001b[0m \u001b[38;5;28;01mtry\u001b[39;00m:\n\u001b[0;32m   1544\u001b[0m     result \u001b[38;5;241m=\u001b[39m \u001b[38;5;28;01mNone\u001b[39;00m\n",
            "Cell \u001b[1;32mIn[159], line 24\u001b[0m, in \u001b[0;36mVariantRNN.forward\u001b[1;34m(self, x)\u001b[0m\n\u001b[0;32m     22\u001b[0m combined \u001b[38;5;241m=\u001b[39m torch\u001b[38;5;241m.\u001b[39mcat((x[:, t, :], hidden), dim\u001b[38;5;241m=\u001b[39m\u001b[38;5;241m1\u001b[39m)\n\u001b[0;32m     23\u001b[0m update \u001b[38;5;241m=\u001b[39m torch\u001b[38;5;241m.\u001b[39msigmoid(\u001b[38;5;28mself\u001b[39m\u001b[38;5;241m.\u001b[39mupdate_gate(combined))\n\u001b[1;32m---> 24\u001b[0m reset \u001b[38;5;241m=\u001b[39m torch\u001b[38;5;241m.\u001b[39msigmoid(\u001b[38;5;28;43mself\u001b[39;49m\u001b[38;5;241;43m.\u001b[39;49m\u001b[43mreset_gate\u001b[49m\u001b[43m(\u001b[49m\u001b[43mcombined\u001b[49m\u001b[43m)\u001b[49m)\n\u001b[0;32m     25\u001b[0m memory \u001b[38;5;241m=\u001b[39m torch\u001b[38;5;241m.\u001b[39mtanh(\u001b[38;5;28mself\u001b[39m\u001b[38;5;241m.\u001b[39mnew_memory(torch\u001b[38;5;241m.\u001b[39mcat((x[:, t, :], reset \u001b[38;5;241m*\u001b[39m hidden), dim\u001b[38;5;241m=\u001b[39m\u001b[38;5;241m1\u001b[39m)))\n\u001b[0;32m     26\u001b[0m hidden \u001b[38;5;241m=\u001b[39m (\u001b[38;5;241m1\u001b[39m \u001b[38;5;241m-\u001b[39m update) \u001b[38;5;241m*\u001b[39m hidden \u001b[38;5;241m+\u001b[39m update \u001b[38;5;241m*\u001b[39m memory\n",
            "File \u001b[1;32mc:\\Users\\Bruno\\AppData\\Local\\Programs\\Python\\Python311\\Lib\\site-packages\\torch\\nn\\modules\\module.py:1532\u001b[0m, in \u001b[0;36mModule._wrapped_call_impl\u001b[1;34m(self, *args, **kwargs)\u001b[0m\n\u001b[0;32m   1530\u001b[0m     \u001b[38;5;28;01mreturn\u001b[39;00m \u001b[38;5;28mself\u001b[39m\u001b[38;5;241m.\u001b[39m_compiled_call_impl(\u001b[38;5;241m*\u001b[39margs, \u001b[38;5;241m*\u001b[39m\u001b[38;5;241m*\u001b[39mkwargs)  \u001b[38;5;66;03m# type: ignore[misc]\u001b[39;00m\n\u001b[0;32m   1531\u001b[0m \u001b[38;5;28;01melse\u001b[39;00m:\n\u001b[1;32m-> 1532\u001b[0m     \u001b[38;5;28;01mreturn\u001b[39;00m \u001b[38;5;28;43mself\u001b[39;49m\u001b[38;5;241;43m.\u001b[39;49m\u001b[43m_call_impl\u001b[49m\u001b[43m(\u001b[49m\u001b[38;5;241;43m*\u001b[39;49m\u001b[43margs\u001b[49m\u001b[43m,\u001b[49m\u001b[43m \u001b[49m\u001b[38;5;241;43m*\u001b[39;49m\u001b[38;5;241;43m*\u001b[39;49m\u001b[43mkwargs\u001b[49m\u001b[43m)\u001b[49m\n",
            "File \u001b[1;32mc:\\Users\\Bruno\\AppData\\Local\\Programs\\Python\\Python311\\Lib\\site-packages\\torch\\nn\\modules\\module.py:1541\u001b[0m, in \u001b[0;36mModule._call_impl\u001b[1;34m(self, *args, **kwargs)\u001b[0m\n\u001b[0;32m   1536\u001b[0m \u001b[38;5;66;03m# If we don't have any hooks, we want to skip the rest of the logic in\u001b[39;00m\n\u001b[0;32m   1537\u001b[0m \u001b[38;5;66;03m# this function, and just call forward.\u001b[39;00m\n\u001b[0;32m   1538\u001b[0m \u001b[38;5;28;01mif\u001b[39;00m \u001b[38;5;129;01mnot\u001b[39;00m (\u001b[38;5;28mself\u001b[39m\u001b[38;5;241m.\u001b[39m_backward_hooks \u001b[38;5;129;01mor\u001b[39;00m \u001b[38;5;28mself\u001b[39m\u001b[38;5;241m.\u001b[39m_backward_pre_hooks \u001b[38;5;129;01mor\u001b[39;00m \u001b[38;5;28mself\u001b[39m\u001b[38;5;241m.\u001b[39m_forward_hooks \u001b[38;5;129;01mor\u001b[39;00m \u001b[38;5;28mself\u001b[39m\u001b[38;5;241m.\u001b[39m_forward_pre_hooks\n\u001b[0;32m   1539\u001b[0m         \u001b[38;5;129;01mor\u001b[39;00m _global_backward_pre_hooks \u001b[38;5;129;01mor\u001b[39;00m _global_backward_hooks\n\u001b[0;32m   1540\u001b[0m         \u001b[38;5;129;01mor\u001b[39;00m _global_forward_hooks \u001b[38;5;129;01mor\u001b[39;00m _global_forward_pre_hooks):\n\u001b[1;32m-> 1541\u001b[0m     \u001b[38;5;28;01mreturn\u001b[39;00m \u001b[43mforward_call\u001b[49m\u001b[43m(\u001b[49m\u001b[38;5;241;43m*\u001b[39;49m\u001b[43margs\u001b[49m\u001b[43m,\u001b[49m\u001b[43m \u001b[49m\u001b[38;5;241;43m*\u001b[39;49m\u001b[38;5;241;43m*\u001b[39;49m\u001b[43mkwargs\u001b[49m\u001b[43m)\u001b[49m\n\u001b[0;32m   1543\u001b[0m \u001b[38;5;28;01mtry\u001b[39;00m:\n\u001b[0;32m   1544\u001b[0m     result \u001b[38;5;241m=\u001b[39m \u001b[38;5;28;01mNone\u001b[39;00m\n",
            "File \u001b[1;32mc:\\Users\\Bruno\\AppData\\Local\\Programs\\Python\\Python311\\Lib\\site-packages\\torch\\nn\\modules\\linear.py:116\u001b[0m, in \u001b[0;36mLinear.forward\u001b[1;34m(self, input)\u001b[0m\n\u001b[0;32m    115\u001b[0m \u001b[38;5;28;01mdef\u001b[39;00m \u001b[38;5;21mforward\u001b[39m(\u001b[38;5;28mself\u001b[39m, \u001b[38;5;28minput\u001b[39m: Tensor) \u001b[38;5;241m-\u001b[39m\u001b[38;5;241m>\u001b[39m Tensor:\n\u001b[1;32m--> 116\u001b[0m     \u001b[38;5;28;01mreturn\u001b[39;00m \u001b[43mF\u001b[49m\u001b[38;5;241;43m.\u001b[39;49m\u001b[43mlinear\u001b[49m\u001b[43m(\u001b[49m\u001b[38;5;28;43minput\u001b[39;49m\u001b[43m,\u001b[49m\u001b[43m \u001b[49m\u001b[38;5;28;43mself\u001b[39;49m\u001b[38;5;241;43m.\u001b[39;49m\u001b[43mweight\u001b[49m\u001b[43m,\u001b[49m\u001b[43m \u001b[49m\u001b[38;5;28;43mself\u001b[39;49m\u001b[38;5;241;43m.\u001b[39;49m\u001b[43mbias\u001b[49m\u001b[43m)\u001b[49m\n",
            "\u001b[1;31mKeyboardInterrupt\u001b[0m: "
          ]
        }
      ],
      "source": [
        "test(variant_model, test_dataloader)"
      ]
    },
    {
      "cell_type": "code",
      "execution_count": 165,
      "metadata": {},
      "outputs": [
        {
          "name": "stderr",
          "output_type": "stream",
          "text": [
            "100%|██████████| 157/157 [00:06<00:00, 25.95it/s]"
          ]
        },
        {
          "name": "stdout",
          "output_type": "stream",
          "text": [
            "Test accuracy: 75.78%\n"
          ]
        },
        {
          "name": "stderr",
          "output_type": "stream",
          "text": [
            "\n"
          ]
        }
      ],
      "source": [
        "test(variant_model, train_dataloader)"
      ]
    },
    {
      "cell_type": "markdown",
      "metadata": {},
      "source": [
        "#### SimpleRNN vs VariantRNN\n",
        "\n",
        "Los resultados obtenidos por VariantRNN son mejores que los de la RNN simple. Para VariantRNN se usó\n",
        "una RNN tipo GRU, que es una variante de las RNNs que intenta solucionar los problemas de las RNNs\n",
        "tradicionales. En este caso, la GRU obtuvo mejores resultados que la RNN simple, con una precisión\n",
        "de 82.4%, mientras que la RNN simple tuvo una precisión de 74.06%.\n",
        "\n",
        "En cuanto a los tiempos de entrenamiento, se tiene que fueron bastante parecidos, aunque levemente\n",
        "más lento el entrenamiento de la GRU, así como también en el tiempo de testeo.\n",
        "\n",
        "Finalmente, en términos de implementación en código, son realmente muy parecidos, con la única diferencia\n",
        "de que en la GRU se usa una capa de tipo GRU en vez de una capa de tipo RNN.\n",
        "\n",
        "Cabe destacar que en ambos casos mi entrenamiento tuvo problemas de _overfitting_ y de gradientes, ya\n",
        "que el _validation_loss_ se volvía muy inestable y no lograba disminuir de forma constante, por lo que\n",
        "opté por entrenar con un número de _epochs_ menor para evitar el _overfitting_ y secuencias de texto\n",
        "más cortas para evitar problemas con los gradientes."
      ]
    },
    {
      "cell_type": "markdown",
      "metadata": {
        "id": "39fwm475vpEo"
      },
      "source": [
        "## Parte 2: Transformer"
      ]
    },
    {
      "cell_type": "markdown",
      "metadata": {
        "id": "evU9BnO6wSMu"
      },
      "source": [
        "### Actividad 4\n",
        "\n",
        "Responda las siguientes preguntas:\n",
        "\n",
        "\n",
        "\n",
        "*   ¿Cuáles son los principales aspectos de las redes Transformer?\n",
        "¿Qué desafíos específicos de las RNNs intenta superar la arquitectura de los Transformers?\n",
        "\n",
        "    **Respuesta:**....\n",
        "\n",
        "*   ¿Cuáles son las diferencias entre las capas cross-attention y self-attention?\n",
        "\n",
        "    **Respuesta:**....\n",
        "\n",
        "*   ¿Cuáles son las principales características del encoder y el decoder de una red Transformer?\n",
        "\n",
        "    **Respuesta:**....\n",
        "\n",
        "*   ¿En qué casos se aplica modelos de tipo encoder? En qué casos se aplica modelos de tipo decoder? ¿En qué casos se aplica modelos de tipo encoder decoder? Responda y justifique su respuesta brevemente.\n",
        "\n",
        "    **Respuesta:**...."
      ]
    },
    {
      "cell_type": "markdown",
      "metadata": {
        "id": "iMBHVpOHxD_M"
      },
      "source": [
        "### Actividad 5\n",
        "\n",
        "En particular, la tarea será sobre generación de reseñas. Es decir que tendrán que implementar una red Transformer y entrenarla con el dataset IMDB para generar texto de reseñas de películas.\n",
        "\n",
        "A medida que progresa el entrenamiento, muestre algunas instancias de salida del texto generado por el modelo. Para ello considere los puntos inicial, intermedio y final del entrenamiento. Realice un análisis sobre el texto generado y explique brevemente cómo el modelo es capaz de generar texto de reseñas.\n",
        "\n",
        "Es importante que argumente su elección de los parámetros e hiperparámetros que vaya a utilizar, tales como: cantidad de capas, cantidad de neuronas por capa, función de activación, función de pérdida, etc. En particular, describa el método utilizado para la tokenización de los datos."
      ]
    },
    {
      "cell_type": "markdown",
      "metadata": {},
      "source": [
        "En base a: https://debuggercafe.com/text-generation-with-transformers/"
      ]
    },
    {
      "cell_type": "code",
      "execution_count": 6,
      "metadata": {},
      "outputs": [
        {
          "name": "stderr",
          "output_type": "stream",
          "text": [
            "[nltk_data] Downloading package punkt to\n",
            "[nltk_data]     C:\\Users\\Bruno\\AppData\\Roaming\\nltk_data...\n",
            "[nltk_data]   Package punkt is already up-to-date!\n",
            "C:\\Users\\Bruno\\AppData\\Local\\Temp\\ipykernel_4648\\2561846294.py:22: MarkupResemblesLocatorWarning: The input looks more like a filename than markup. You may want to open this file and pass the filehandle into Beautiful Soup.\n",
            "  text = BeautifulSoup(text, \"html.parser\").get_text(separator=\" \")\n"
          ]
        }
      ],
      "source": [
        "# tokenization\n",
        "from bs4 import BeautifulSoup\n",
        "from nltk.tokenize import word_tokenize\n",
        "import nltk\n",
        "\n",
        "nltk.download('punkt')\n",
        "\n",
        "token_data_train = data_train.copy()\n",
        "token_data_test = data_test.copy()\n",
        "\n",
        "# concatenate both datasets\n",
        "\n",
        "token_data = pd.concat([data_train, data_test], ignore_index=True)\n",
        "\n",
        "# Fraction the dataset\n",
        "\n",
        "fraction = 0.1\n",
        "token_data = token_data.sample(frac=fraction).reset_index(drop=True)\n",
        "\n",
        "def clean_text(text):\n",
        "    # Remove HTML tags\n",
        "    text = BeautifulSoup(text, \"html.parser\").get_text(separator=\" \")\n",
        "    # Remove special characters and multiple spaces\n",
        "    text = re.sub(r'[^a-zA-Z0-9\\s.,]', ' ', text)\n",
        "    # Replace multiple spaces with a single space\n",
        "    text = re.sub(r'\\s+', ' ', text)\n",
        "    return text.strip()\n",
        "\n",
        "token_data[\"text\"] = token_data[\"text\"].apply(clean_text)\n",
        "token_data[\"text\"] = token_data[\"text\"].apply(word_tokenize)"
      ]
    },
    {
      "cell_type": "code",
      "execution_count": 188,
      "metadata": {},
      "outputs": [],
      "source": [
        "SEQUENCE_LENGTH = 64\n",
        "\n",
        "\n",
        "def df2sequences(token_data, data_column=\"text\"):\n",
        "    # Create a list of sequences of words from the 'text' column\n",
        "\n",
        "    list_of_lists = token_data[data_column].tolist()\n",
        "\n",
        "    # Add a newline character to the beginning of each sequence\n",
        "\n",
        "    for i in range(len(list_of_lists)):\n",
        "        list_of_lists[i].insert(0, \"\\n\")\n",
        "\n",
        "    # Merge all sequences into a single list\n",
        "\n",
        "    all_words = [word for sequence in list_of_lists for word in sequence]\n",
        "\n",
        "    # Subdivide the list into smaller lists of SEQUENCE_LENGTH words\n",
        "\n",
        "    sequences = [all_words[i:i+SEQUENCE_LENGTH] for i in range(len(all_words)-SEQUENCE_LENGTH)]\n",
        "\n",
        "    return (all_words, sequences)\n",
        "\n",
        "all_words, sequences = df2sequences(token_data)"
      ]
    },
    {
      "cell_type": "code",
      "execution_count": 269,
      "metadata": {},
      "outputs": [
        {
          "name": "stdout",
          "output_type": "stream",
          "text": [
            "Vocabulary size: 47360\n",
            "['\\n', 'Leonard', 'Rossiter', 'and', 'Frances', 'de', 'la', 'Tour', 'carry', 'this']\n"
          ]
        }
      ],
      "source": [
        "# vocabulary\n",
        "from collections import Counter\n",
        "\n",
        "words_count = Counter(all_words)\n",
        "\n",
        "vocab = list(words_count.keys())\n",
        "\n",
        "vocab_size = len(vocab)\n",
        "\n",
        "word_to_int = {word: index for index, word in enumerate(vocab)}\n",
        "int_to_word = {index: word for index, word in enumerate(vocab)}\n",
        "\n",
        "print(f\"Vocabulary size: {vocab_size}\")\n",
        "print(vocab[:10])"
      ]
    },
    {
      "cell_type": "code",
      "execution_count": 194,
      "metadata": {},
      "outputs": [],
      "source": [
        "# Define a function to calculate distance between words\n",
        "# this will allow us to approximate a word that is not in the vocabulary to\n",
        "# the closest word in the vocabulary\n",
        "\n",
        "def word_distance(word1, word2):\n",
        "    distance = 0\n",
        "    if len(word1) < len(word2):\n",
        "        for i in range(len(word1)):\n",
        "            if word1[i] != word2[i]:\n",
        "                distance += 1\n",
        "    else:\n",
        "        for i in range(len(word2)):\n",
        "            if word1[i] != word2[i]:\n",
        "                distance += 1\n",
        "    distance += abs(len(word1) - len(word2))\n",
        "    return distance\n",
        "\n",
        "# Find closest word in the vocabulary\n",
        "\n",
        "def find_closest_word(word, vocab):\n",
        "    closest_word = None\n",
        "    min_distance = float('inf')\n",
        "    for vocab_word in vocab:\n",
        "        if abs(len(word) - len(vocab_word)) >= min_distance:\n",
        "            continue\n",
        "        distance = word_distance(word, vocab_word)\n",
        "        if distance < min_distance:\n",
        "            closest_word = vocab_word\n",
        "            min_distance = distance\n",
        "    return closest_word"
      ]
    },
    {
      "cell_type": "code",
      "execution_count": 322,
      "metadata": {},
      "outputs": [],
      "source": [
        "def create_approx_encoding(word_to_int, vocab):\n",
        "    approx_word_to_int = word_to_int.copy()\n",
        "    for word in new_vocab:\n",
        "        if word not in word_to_int.keys():\n",
        "            closest_word = find_closest_word(word, word_to_int.keys())\n",
        "            approx_word_to_int[word] = word_to_int[closest_word]\n",
        "    return approx_word_to_int"
      ]
    },
    {
      "cell_type": "code",
      "execution_count": 326,
      "metadata": {},
      "outputs": [],
      "source": [
        "# PyTorch datasets\n",
        "\n",
        "from torch.utils.data import Dataset\n",
        "\n",
        "class TextDataset(Dataset):\n",
        "    def __init__(self, samples, word_to_int, approx_encoding):\n",
        "        self.samples = samples\n",
        "        self.word_to_int = word_to_int\n",
        "        self.approx_encoding = approx_encoding\n",
        "\n",
        "    def __len__(self):\n",
        "        return len(self.samples)\n",
        "    \n",
        "    def __getitem__(self, idx):\n",
        "        sample = self.samples[idx]\n",
        "        input_seq = torch.LongTensor([self.word_to_int[word] if word in self.word_to_int.keys() else self.approx_encoding[word] for word in sample[:-1]])\n",
        "        target_seq = torch.LongTensor([self.word_to_int[word] if word in self.word_to_int.keys() else self.approx_encoding[word] for word in sample[1:]])\n",
        "        return input_seq, target_seq"
      ]
    },
    {
      "cell_type": "code",
      "execution_count": 77,
      "metadata": {},
      "outputs": [],
      "source": [
        "BATCH_SIZE = 64\n",
        "\n",
        "generation_dataset = TextDataset(sequences, word_to_int)"
      ]
    },
    {
      "cell_type": "code",
      "execution_count": 78,
      "metadata": {},
      "outputs": [],
      "source": [
        "generation_dataloader = DataLoader(generation_dataset, batch_size=BATCH_SIZE, shuffle=True)"
      ]
    },
    {
      "cell_type": "code",
      "execution_count": 79,
      "metadata": {},
      "outputs": [],
      "source": [
        "def generate_triangular_mask(size):\n",
        "    mask = torch.tril(torch.ones(size, size))\n",
        "    mask = mask.float().masked_fill(mask == 0, float('-inf')).masked_fill(mask == 1, float(0.0))\n",
        "    return mask"
      ]
    },
    {
      "cell_type": "code",
      "execution_count": 80,
      "metadata": {},
      "outputs": [],
      "source": [
        "class PostionalEncoding(nn.Module):\n",
        "    def __init__(self, max_len, d_model, dropout=0.2):\n",
        "        super(PostionalEncoding, self).__init__()\n",
        "\n",
        "        self.dropout = nn.Dropout(dropout)\n",
        "        pe = torch.zeros(max_len, d_model)\n",
        "        position = torch.arange(0, max_len).unsqueeze(1).float()\n",
        "        div_term = torch.exp(torch.arange(0, d_model, 2).float() * (-np.log(10000.0) / d_model))\n",
        "        pe[:, 0::2] = torch.sin(position * div_term)\n",
        "        pe[:, 1::2] = torch.cos(position * div_term)\n",
        "        pe = pe.unsqueeze(0)\n",
        "        self.register_buffer('pe', pe)\n",
        "\n",
        "    def forward(self, x):\n",
        "        x = x + self.pe[:, :x.size(1)]\n",
        "        return self.dropout(x)"
      ]
    },
    {
      "cell_type": "code",
      "execution_count": 81,
      "metadata": {
        "id": "K4Ef-HRV62Mc"
      },
      "outputs": [],
      "source": [
        "class MyModel(nn.Module):\n",
        "    def __init__(self, vocab_size, embedding_size, num_layers, num_heads, dropout=0.2):\n",
        "        super(MyModel, self).__init__()\n",
        "\n",
        "        self.pos_encoder = PostionalEncoding(SEQUENCE_LENGTH, embedding_size)\n",
        "        self.embedding = nn.Embedding(vocab_size, embedding_size)\n",
        "        self.decoder_layer = nn.TransformerDecoderLayer(d_model=embedding_size, nhead=num_heads, batch_first=True)\n",
        "        self.decoder = nn.TransformerDecoder(decoder_layer=self.decoder_layer, num_layers=num_layers)\n",
        "        self.fc = nn.Linear(embedding_size, vocab_size)\n",
        "        self.dropout = nn.Dropout(dropout)\n",
        "\n",
        "    def forward(self, x):\n",
        "        emb = self.embedding(x)\n",
        "        input_mask = generate_triangular_mask(x.size(1)).to(x.device)\n",
        "\n",
        "        x = self.pos_encoder(emb)\n",
        "        x = self.decoder(x, memory=x, tgt_mask=input_mask, memory_mask=input_mask)\n",
        "        x = self.dropout(x)\n",
        "        out = self.fc(x)\n",
        "        return out\n",
        "\n",
        "class PostionalEncoding(nn.Module):\n",
        "    def __init__(self, max_len, d_model, dropout=0.2):\n",
        "        super(PostionalEncoding, self).__init__()\n",
        "\n",
        "        self.dropout = nn.Dropout(dropout)\n",
        "        pe = torch.zeros(max_len, d_model)\n",
        "        position = torch.arange(0, max_len).unsqueeze(1).float()\n",
        "        div_term = torch.exp(torch.arange(0, d_model, 2).float() * (-np.log(10000.0) / d_model))\n",
        "        pe[:, 0::2] = torch.sin(position * div_term)\n",
        "        pe[:, 1::2] = torch.cos(position * div_term)\n",
        "        pe = pe.unsqueeze(0)\n",
        "        self.register_buffer('pe', pe)\n",
        "\n",
        "    def forward(self, x):\n",
        "        x = x + self.pe[:, :x.size(1)]\n",
        "        return self.dropout(x)\n",
        "\n",
        "class MultiHeadAttention(nn.Module):\n",
        "    def __init__(self, embedding_size, num_heads):\n",
        "        super(MultiHeadAttention, self).__init__()\n",
        "        assert embedding_size % num_heads == 0, \"Embedding size must be divisible by number of heads\"\n",
        "        \n",
        "        self.num_heads = num_heads\n",
        "        self.head_dim = embedding_size // num_heads\n",
        "        \n",
        "        self.query_linear = nn.Linear(embedding_size, embedding_size)\n",
        "        self.key_linear = nn.Linear(embedding_size, embedding_size)\n",
        "        self.value_linear = nn.Linear(embedding_size, embedding_size)\n",
        "        self.out_linear = nn.Linear(embedding_size, embedding_size)\n",
        "\n",
        "    def forward(self, query, key, value, mask=None):\n",
        "        batch_size = query.size(0)\n",
        "        \n",
        "        query = self.query_linear(query).view(batch_size, -1, self.num_heads, self.head_dim).transpose(1, 2)\n",
        "        key = self.key_linear(key).view(batch_size, -1, self.num_heads, self.head_dim).transpose(1, 2)\n",
        "        value = self.value_linear(value).view(batch_size, -1, self.num_heads, self.head_dim).transpose(1, 2)\n",
        "        \n",
        "        scores = torch.matmul(query, key.transpose(-2, -1)) / np.sqrt(self.head_dim)\n",
        "        \n",
        "        if mask is not None:\n",
        "            scores = scores.masked_fill(mask == 0, float('-inf'))\n",
        "        \n",
        "        attention = F.softmax(scores, dim=-1)\n",
        "        out = torch.matmul(attention, value).transpose(1, 2).contiguous().view(batch_size, -1, self.num_heads * self.head_dim)\n",
        "        \n",
        "        out = self.out_linear(out)\n",
        "        return out\n",
        "\n",
        "class FeedForward(nn.Module):\n",
        "    def __init__(self, embedding_size, hidden_dim, dropout=0.2):\n",
        "        super(FeedForward, self).__init__()\n",
        "        self.linear1 = nn.Linear(embedding_size, hidden_dim)\n",
        "        self.dropout = nn.Dropout(dropout)\n",
        "        self.linear2 = nn.Linear(hidden_dim, embedding_size)\n",
        "\n",
        "    def forward(self, x):\n",
        "        x = self.dropout(F.relu(self.linear1(x)))\n",
        "        x = self.linear2(x)\n",
        "        return x\n",
        "\n",
        "class CustomDecoderLayer(nn.Module):\n",
        "    def __init__(self, embedding_size, num_heads, hidden_dim, dropout=0.2):\n",
        "        super(CustomDecoderLayer, self).__init__()\n",
        "        self.self_attention = MultiHeadAttention(embedding_size, num_heads)\n",
        "        self.norm1 = nn.LayerNorm(embedding_size)\n",
        "        self.ff = FeedForward(embedding_size, hidden_dim, dropout)\n",
        "        self.norm2 = nn.LayerNorm(embedding_size)\n",
        "        self.dropout = nn.Dropout(dropout)\n",
        "\n",
        "    def forward(self, x, mask=None):\n",
        "        # Self-attention\n",
        "        attn_out = self.self_attention(x, x, x, mask)\n",
        "        x = self.norm1(x + self.dropout(attn_out))\n",
        "        \n",
        "        # Feedforward\n",
        "        ff_out = self.ff(x)\n",
        "        x = self.norm2(x + self.dropout(ff_out))\n",
        "        \n",
        "        return x\n",
        "\n",
        "class MyModelManual(nn.Module):\n",
        "    def __init__(self, vocab_size, embedding_size, num_layers, num_heads, hidden_dim, dropout=0.2):\n",
        "        super(MyModelManual, self).__init__()\n",
        "\n",
        "        self.pos_encoder = PostionalEncoding(SEQUENCE_LENGTH, embedding_size)\n",
        "        self.embedding = nn.Embedding(vocab_size, embedding_size)\n",
        "        self.layers = nn.ModuleList([CustomDecoderLayer(embedding_size, num_heads, hidden_dim, dropout) for _ in range(num_layers)])\n",
        "        self.fc = nn.Linear(embedding_size, vocab_size)\n",
        "        self.dropout = nn.Dropout(dropout)\n",
        "\n",
        "    def forward(self, x):\n",
        "        emb = self.embedding(x)\n",
        "        input_mask = generate_triangular_mask(x.size(1)).to(x.device)\n",
        "\n",
        "        x = self.pos_encoder(emb)\n",
        "        for layer in self.layers:\n",
        "            x = layer(x, mask=input_mask)\n",
        "        \n",
        "        x = self.dropout(x)\n",
        "        out = self.fc(x)\n",
        "        return out"
      ]
    },
    {
      "cell_type": "code",
      "execution_count": 82,
      "metadata": {},
      "outputs": [],
      "source": [
        "EPOCHS = 6\n",
        "LR = 0.001\n",
        "\n",
        "device = torch.device(\"cuda\" if torch.cuda.is_available() else \"cpu\")\n",
        "model = MyModel(vocab_size, 128, 2, 4, dropout=0.2).to(device)"
      ]
    },
    {
      "cell_type": "code",
      "execution_count": 129,
      "metadata": {},
      "outputs": [],
      "source": [
        "def return_int_vector(text):\n",
        "    words = text.split()\n",
        "    words = words if words else [\"\\n\"]\n",
        "    out_list = []\n",
        "    for word in words[-SEQUENCE_LENGTH:]:\n",
        "        try:\n",
        "            out_list.append(word_to_int[word])\n",
        "        except KeyError:\n",
        "            new_word = find_closest_word(word, vocab)\n",
        "            out_list.append(word_to_int[new_word])\n",
        "    input_seq = torch.LongTensor(out_list).unsqueeze(0)\n",
        "    # input_seq = torch.LongTensor([word_to_int[word] for word in words[-SEQUENCE_LENGTH:]]).unsqueeze(0)\n",
        "\n",
        "    return input_seq\n",
        "\n",
        "def sample_next(predictions):\n",
        "    probabilities = F.softmax(predictions[:, -1, :], dim=-1).to(device)\n",
        "    next_token = torch.argmax(probabilities)\n",
        "    return int(next_token.to(device))\n",
        "\n",
        "def text_generator(length, model, sentence=\"\"):\n",
        "    model.eval()\n",
        "    output_text = sentence\n",
        "    for i in range(length):\n",
        "        int_vector = return_int_vector(sentence)\n",
        "        if len(int_vector) >= SEQUENCE_LENGTH:\n",
        "            break\n",
        "        int_vector = int_vector.to(device)\n",
        "        with torch.no_grad():\n",
        "            output = model(int_vector)\n",
        "        next_token = sample_next(output)\n",
        "        sentence += \" \" + int_to_word[next_token]\n",
        "        if int_to_word[next_token].lower() == \"s\":\n",
        "            output_text += \"'s\"\n",
        "        elif int_to_word[next_token].lower() == \"t\" and output_text[-1].lower() == \"n\":\n",
        "            output_text += \"'t\"\n",
        "        elif int_to_word[next_token] == \"m\" and output_text[-1] == \"I\":\n",
        "            output_text += \"'m\"\n",
        "        elif int_to_word[next_token] not in [\".\", \",\", \"!\", \"?\"]:\n",
        "            output_text += \" \" + int_to_word[next_token]\n",
        "        else:\n",
        "            output_text += int_to_word[next_token]\n",
        "    print(output_text)"
      ]
    },
    {
      "cell_type": "code",
      "execution_count": 85,
      "metadata": {},
      "outputs": [
        {
          "name": "stdout",
          "output_type": "stream",
          "text": [
            " finished Taoist Fleeting duo flattered errands bile braincells AWARD actioner Saying Stalag Kamerdaschaft Location nasty Saying Wendell whuppin Bloody Crusaders Wholly debatable bipolarity denomination Newfoundland CAROUSEL lite longing Too scheme cornfields spouse Crusaders Wholly screamer Feminist scurry T.V updating lesbian bipolarity purgatory enterprising Hugh Yang philly downs Lensman Bachelors Tamara y Saying Wendell ROOKIES can discoverd shipped purgatory L.A timelessness Amores Despite Kindred Timberflake Kamerdaschaft Location Despite Kindred reuse wrost bangers stealer spouse WHEN thank philly Warriors WAX posing capsule WHEN thank philly Warriors WAX posing vein snappy LONDON spouse WHEN domineering 70th spouse WHEN domineering 70th blew No.2 Zentropa\n"
          ]
        }
      ],
      "source": [
        "# No training\n",
        "\n",
        "text_generator(100, model)"
      ]
    },
    {
      "cell_type": "code",
      "execution_count": 90,
      "metadata": {
        "id": "SYZjQLxMsRRt"
      },
      "outputs": [],
      "source": [
        "import random\n",
        "\n",
        "\n",
        "def train(model, epochs, criterion, optimizer, train_dataloader, accumulation_steps=1):\n",
        "    losses = []\n",
        "    counter = 0\n",
        "    for epoch in range(epochs):\n",
        "        model.train()\n",
        "        for input_sequence, target_sequence in tqdm(train_dataloader):\n",
        "            counter +=1\n",
        "            input_sequence = input_sequence.to(device)\n",
        "            target_sequence = target_sequence.to(device)\n",
        "\n",
        "            output = model(input_sequence)\n",
        "            output = output.view(-1, vocab_size)\n",
        "            target_sequence = target_sequence.view(-1)\n",
        "\n",
        "            loss = criterion(output, target_sequence)\n",
        "            loss.backward()\n",
        "\n",
        "            if (counter + 1) % accumulation_steps == 0:\n",
        "                optimizer.step()\n",
        "                optimizer.zero_grad()\n",
        "\n",
        "            if (counter + 1) % 1000 == 0:\n",
        "                losses.append(loss.item())\n",
        "                print(f\"Epoch [{epoch+1}/{epochs}], Loss: {loss.item()}\")\n",
        "\n",
        "        print(f\"Epoch [{epoch+1}/{epochs}]\")\n",
        "        print(\"Example text at the end of epoch:\")\n",
        "        text_generator(100, model, sentence=random.choice([\"I\", \"The\", \"One\", \"It\", \"Was\"]))\n",
        "        \n",
        "    return losses"
      ]
    },
    {
      "cell_type": "code",
      "execution_count": 91,
      "metadata": {},
      "outputs": [
        {
          "name": "stderr",
          "output_type": "stream",
          "text": [
            "  5%|▍         | 1001/20069 [01:04<20:19, 15.64it/s]"
          ]
        },
        {
          "name": "stdout",
          "output_type": "stream",
          "text": [
            "Epoch [1/6], Loss: 4.426481246948242\n"
          ]
        },
        {
          "name": "stderr",
          "output_type": "stream",
          "text": [
            " 10%|▉         | 2001/20069 [02:09<20:12, 14.90it/s]"
          ]
        },
        {
          "name": "stdout",
          "output_type": "stream",
          "text": [
            "Epoch [1/6], Loss: 4.365966796875\n"
          ]
        },
        {
          "name": "stderr",
          "output_type": "stream",
          "text": [
            " 15%|█▍        | 3001/20069 [03:14<18:19, 15.53it/s]"
          ]
        },
        {
          "name": "stdout",
          "output_type": "stream",
          "text": [
            "Epoch [1/6], Loss: 4.323410987854004\n"
          ]
        },
        {
          "name": "stderr",
          "output_type": "stream",
          "text": [
            " 20%|█▉        | 4001/20069 [04:19<16:52, 15.86it/s]"
          ]
        },
        {
          "name": "stdout",
          "output_type": "stream",
          "text": [
            "Epoch [1/6], Loss: 4.4004292488098145\n"
          ]
        },
        {
          "name": "stderr",
          "output_type": "stream",
          "text": [
            " 25%|██▍       | 5001/20069 [05:24<16:48, 14.94it/s]"
          ]
        },
        {
          "name": "stdout",
          "output_type": "stream",
          "text": [
            "Epoch [1/6], Loss: 4.409407615661621\n"
          ]
        },
        {
          "name": "stderr",
          "output_type": "stream",
          "text": [
            " 30%|██▉       | 6001/20069 [06:29<15:29, 15.14it/s]"
          ]
        },
        {
          "name": "stdout",
          "output_type": "stream",
          "text": [
            "Epoch [1/6], Loss: 4.369656562805176\n"
          ]
        },
        {
          "name": "stderr",
          "output_type": "stream",
          "text": [
            " 35%|███▍      | 7001/20069 [07:35<14:06, 15.43it/s]"
          ]
        },
        {
          "name": "stdout",
          "output_type": "stream",
          "text": [
            "Epoch [1/6], Loss: 4.353371620178223\n"
          ]
        },
        {
          "name": "stderr",
          "output_type": "stream",
          "text": [
            " 40%|███▉      | 8001/20069 [08:40<12:43, 15.80it/s]"
          ]
        },
        {
          "name": "stdout",
          "output_type": "stream",
          "text": [
            "Epoch [1/6], Loss: 4.284581661224365\n"
          ]
        },
        {
          "name": "stderr",
          "output_type": "stream",
          "text": [
            " 45%|████▍     | 9001/20069 [09:44<11:39, 15.81it/s]"
          ]
        },
        {
          "name": "stdout",
          "output_type": "stream",
          "text": [
            "Epoch [1/6], Loss: 4.237783432006836\n"
          ]
        },
        {
          "name": "stderr",
          "output_type": "stream",
          "text": [
            " 50%|████▉     | 10001/20069 [10:49<10:40, 15.72it/s]"
          ]
        },
        {
          "name": "stdout",
          "output_type": "stream",
          "text": [
            "Epoch [1/6], Loss: 4.349295616149902\n"
          ]
        },
        {
          "name": "stderr",
          "output_type": "stream",
          "text": [
            " 55%|█████▍    | 11001/20069 [11:54<10:18, 14.65it/s]"
          ]
        },
        {
          "name": "stdout",
          "output_type": "stream",
          "text": [
            "Epoch [1/6], Loss: 4.300182819366455\n"
          ]
        },
        {
          "name": "stderr",
          "output_type": "stream",
          "text": [
            " 60%|█████▉    | 12001/20069 [12:59<08:30, 15.79it/s]"
          ]
        },
        {
          "name": "stdout",
          "output_type": "stream",
          "text": [
            "Epoch [1/6], Loss: 4.205373764038086\n"
          ]
        },
        {
          "name": "stderr",
          "output_type": "stream",
          "text": [
            " 65%|██████▍   | 13001/20069 [14:05<07:29, 15.72it/s]"
          ]
        },
        {
          "name": "stdout",
          "output_type": "stream",
          "text": [
            "Epoch [1/6], Loss: 4.231816291809082\n"
          ]
        },
        {
          "name": "stderr",
          "output_type": "stream",
          "text": [
            " 70%|██████▉   | 14001/20069 [15:09<06:32, 15.45it/s]"
          ]
        },
        {
          "name": "stdout",
          "output_type": "stream",
          "text": [
            "Epoch [1/6], Loss: 4.290206432342529\n"
          ]
        },
        {
          "name": "stderr",
          "output_type": "stream",
          "text": [
            " 75%|███████▍  | 15001/20069 [16:15<05:22, 15.73it/s]"
          ]
        },
        {
          "name": "stdout",
          "output_type": "stream",
          "text": [
            "Epoch [1/6], Loss: 4.249593734741211\n"
          ]
        },
        {
          "name": "stderr",
          "output_type": "stream",
          "text": [
            " 80%|███████▉  | 16001/20069 [17:19<04:16, 15.86it/s]"
          ]
        },
        {
          "name": "stdout",
          "output_type": "stream",
          "text": [
            "Epoch [1/6], Loss: 4.176146030426025\n"
          ]
        },
        {
          "name": "stderr",
          "output_type": "stream",
          "text": [
            " 85%|████████▍ | 17001/20069 [18:24<03:16, 15.58it/s]"
          ]
        },
        {
          "name": "stdout",
          "output_type": "stream",
          "text": [
            "Epoch [1/6], Loss: 4.18412446975708\n"
          ]
        },
        {
          "name": "stderr",
          "output_type": "stream",
          "text": [
            " 90%|████████▉ | 18001/20069 [19:30<02:12, 15.55it/s]"
          ]
        },
        {
          "name": "stdout",
          "output_type": "stream",
          "text": [
            "Epoch [1/6], Loss: 4.218897819519043\n"
          ]
        },
        {
          "name": "stderr",
          "output_type": "stream",
          "text": [
            " 95%|█████████▍| 19001/20069 [20:36<01:09, 15.33it/s]"
          ]
        },
        {
          "name": "stdout",
          "output_type": "stream",
          "text": [
            "Epoch [1/6], Loss: 4.189200401306152\n"
          ]
        },
        {
          "name": "stderr",
          "output_type": "stream",
          "text": [
            "100%|█████████▉| 20001/20069 [21:41<00:04, 15.89it/s]"
          ]
        },
        {
          "name": "stdout",
          "output_type": "stream",
          "text": [
            "Epoch [1/6], Loss: 4.208927631378174\n"
          ]
        },
        {
          "name": "stderr",
          "output_type": "stream",
          "text": [
            "100%|██████████| 20069/20069 [21:46<00:00, 15.36it/s]\n"
          ]
        },
        {
          "name": "stdout",
          "output_type": "stream",
          "text": [
            "Epoch [1/6]\n",
            "Example text at the end of epoch:\n",
            "It's a shame that the film is based on a true story, and it's a very good movie. It's a shame that it's a movie that is a lot of fun to watch. \n",
            " \n",
            " \n",
            " \n",
            " \n",
            " \n",
            " \n",
            " \n",
            " \n",
            " \n",
            " \n",
            " \n",
            " \n",
            " \n",
            " \n",
            " \n",
            " \n",
            " \n",
            " \n",
            " \n",
            " \n",
            " \n",
            " \n",
            " \n",
            " \n",
            " \n",
            " \n",
            " \n",
            " \n",
            " \n",
            " \n",
            " \n",
            " \n",
            " \n",
            " \n",
            " \n",
            " \n",
            " \n",
            " \n",
            " \n",
            " \n",
            " \n",
            " \n",
            " \n",
            " \n",
            " \n",
            " \n",
            " \n",
            " \n",
            " \n",
            " \n",
            " \n",
            " \n",
            " \n",
            " \n",
            " \n",
            " \n",
            " \n",
            " \n",
            " \n",
            " \n",
            "\n"
          ]
        },
        {
          "name": "stderr",
          "output_type": "stream",
          "text": [
            "  5%|▍         | 933/20069 [00:59<20:02, 15.92it/s]"
          ]
        },
        {
          "name": "stdout",
          "output_type": "stream",
          "text": [
            "Epoch [2/6], Loss: 4.191831588745117\n"
          ]
        },
        {
          "name": "stderr",
          "output_type": "stream",
          "text": [
            " 10%|▉         | 1933/20069 [02:02<19:46, 15.29it/s]"
          ]
        },
        {
          "name": "stdout",
          "output_type": "stream",
          "text": [
            "Epoch [2/6], Loss: 4.175196170806885\n"
          ]
        },
        {
          "name": "stderr",
          "output_type": "stream",
          "text": [
            " 15%|█▍        | 2933/20069 [03:06<18:20, 15.58it/s]"
          ]
        },
        {
          "name": "stdout",
          "output_type": "stream",
          "text": [
            "Epoch [2/6], Loss: 4.134439468383789\n"
          ]
        },
        {
          "name": "stderr",
          "output_type": "stream",
          "text": [
            " 20%|█▉        | 3933/20069 [04:11<17:07, 15.70it/s]"
          ]
        },
        {
          "name": "stdout",
          "output_type": "stream",
          "text": [
            "Epoch [2/6], Loss: 4.093816757202148\n"
          ]
        },
        {
          "name": "stderr",
          "output_type": "stream",
          "text": [
            " 25%|██▍       | 4933/20069 [05:14<16:48, 15.01it/s]"
          ]
        },
        {
          "name": "stdout",
          "output_type": "stream",
          "text": [
            "Epoch [2/6], Loss: 4.091808795928955\n"
          ]
        },
        {
          "name": "stderr",
          "output_type": "stream",
          "text": [
            " 30%|██▉       | 5933/20069 [06:19<15:27, 15.25it/s]"
          ]
        },
        {
          "name": "stdout",
          "output_type": "stream",
          "text": [
            "Epoch [2/6], Loss: 4.159545421600342\n"
          ]
        },
        {
          "name": "stderr",
          "output_type": "stream",
          "text": [
            " 35%|███▍      | 6933/20069 [07:24<13:58, 15.66it/s]"
          ]
        },
        {
          "name": "stdout",
          "output_type": "stream",
          "text": [
            "Epoch [2/6], Loss: 4.060334205627441\n"
          ]
        },
        {
          "name": "stderr",
          "output_type": "stream",
          "text": [
            " 40%|███▉      | 7933/20069 [08:29<13:04, 15.47it/s]"
          ]
        },
        {
          "name": "stdout",
          "output_type": "stream",
          "text": [
            "Epoch [2/6], Loss: 4.114936828613281\n"
          ]
        },
        {
          "name": "stderr",
          "output_type": "stream",
          "text": [
            " 45%|████▍     | 8933/20069 [09:33<11:39, 15.93it/s]"
          ]
        },
        {
          "name": "stdout",
          "output_type": "stream",
          "text": [
            "Epoch [2/6], Loss: 4.035966873168945\n"
          ]
        },
        {
          "name": "stderr",
          "output_type": "stream",
          "text": [
            " 49%|████▉     | 9933/20069 [10:37<10:45, 15.69it/s]"
          ]
        },
        {
          "name": "stdout",
          "output_type": "stream",
          "text": [
            "Epoch [2/6], Loss: 4.121526718139648\n"
          ]
        },
        {
          "name": "stderr",
          "output_type": "stream",
          "text": [
            " 54%|█████▍    | 10933/20069 [11:40<09:46, 15.57it/s]"
          ]
        },
        {
          "name": "stdout",
          "output_type": "stream",
          "text": [
            "Epoch [2/6], Loss: 4.102473735809326\n"
          ]
        },
        {
          "name": "stderr",
          "output_type": "stream",
          "text": [
            " 59%|█████▉    | 11933/20069 [12:45<08:44, 15.50it/s]"
          ]
        },
        {
          "name": "stdout",
          "output_type": "stream",
          "text": [
            "Epoch [2/6], Loss: 4.152060508728027\n"
          ]
        },
        {
          "name": "stderr",
          "output_type": "stream",
          "text": [
            " 64%|██████▍   | 12933/20069 [13:50<07:44, 15.35it/s]"
          ]
        },
        {
          "name": "stdout",
          "output_type": "stream",
          "text": [
            "Epoch [2/6], Loss: 4.011417865753174\n"
          ]
        },
        {
          "name": "stderr",
          "output_type": "stream",
          "text": [
            " 69%|██████▉   | 13931/20069 [14:55<06:35, 15.53it/s]"
          ]
        },
        {
          "name": "stdout",
          "output_type": "stream",
          "text": [
            "Epoch [2/6], Loss: 4.066574573516846\n"
          ]
        },
        {
          "name": "stderr",
          "output_type": "stream",
          "text": [
            " 74%|███████▍  | 14933/20069 [16:00<05:25, 15.78it/s]"
          ]
        },
        {
          "name": "stdout",
          "output_type": "stream",
          "text": [
            "Epoch [2/6], Loss: 4.047986030578613\n"
          ]
        },
        {
          "name": "stderr",
          "output_type": "stream",
          "text": [
            " 79%|███████▉  | 15933/20069 [17:04<04:37, 14.93it/s]"
          ]
        },
        {
          "name": "stdout",
          "output_type": "stream",
          "text": [
            "Epoch [2/6], Loss: 4.0729594230651855\n"
          ]
        },
        {
          "name": "stderr",
          "output_type": "stream",
          "text": [
            " 84%|████████▍ | 16933/20069 [18:09<03:20, 15.62it/s]"
          ]
        },
        {
          "name": "stdout",
          "output_type": "stream",
          "text": [
            "Epoch [2/6], Loss: 4.05279016494751\n"
          ]
        },
        {
          "name": "stderr",
          "output_type": "stream",
          "text": [
            " 89%|████████▉ | 17933/20069 [19:13<02:16, 15.66it/s]"
          ]
        },
        {
          "name": "stdout",
          "output_type": "stream",
          "text": [
            "Epoch [2/6], Loss: 4.081135272979736\n"
          ]
        },
        {
          "name": "stderr",
          "output_type": "stream",
          "text": [
            " 94%|█████████▍| 18933/20069 [20:18<01:14, 15.20it/s]"
          ]
        },
        {
          "name": "stdout",
          "output_type": "stream",
          "text": [
            "Epoch [2/6], Loss: 4.047982215881348\n"
          ]
        },
        {
          "name": "stderr",
          "output_type": "stream",
          "text": [
            " 99%|█████████▉| 19933/20069 [21:23<00:08, 15.52it/s]"
          ]
        },
        {
          "name": "stdout",
          "output_type": "stream",
          "text": [
            "Epoch [2/6], Loss: 4.031469345092773\n"
          ]
        },
        {
          "name": "stderr",
          "output_type": "stream",
          "text": [
            "100%|██████████| 20069/20069 [21:32<00:00, 15.53it/s]\n"
          ]
        },
        {
          "name": "stdout",
          "output_type": "stream",
          "text": [
            "Epoch [2/6]\n",
            "Example text at the end of epoch:\n",
            "The film is a bit slow, and the acting is very good, and the acting is very good. The acting is great, the acting is great, the acting is great, the acting is great, the acting is great, the acting is great, the acting is great, the acting is great, the acting is great, the acting is great, the acting is great, the acting is great, the acting is great, the acting is great, the acting is great, the acting is great,\n"
          ]
        },
        {
          "name": "stderr",
          "output_type": "stream",
          "text": [
            "  4%|▍         | 863/20069 [00:55<20:38, 15.51it/s]"
          ]
        },
        {
          "name": "stdout",
          "output_type": "stream",
          "text": [
            "Epoch [3/6], Loss: 4.032651424407959\n"
          ]
        },
        {
          "name": "stderr",
          "output_type": "stream",
          "text": [
            "  9%|▉         | 1863/20069 [02:00<19:10, 15.82it/s]"
          ]
        },
        {
          "name": "stdout",
          "output_type": "stream",
          "text": [
            "Epoch [3/6], Loss: 3.9143898487091064\n"
          ]
        },
        {
          "name": "stderr",
          "output_type": "stream",
          "text": [
            " 14%|█▍        | 2863/20069 [03:04<18:08, 15.80it/s]"
          ]
        },
        {
          "name": "stdout",
          "output_type": "stream",
          "text": [
            "Epoch [3/6], Loss: 3.9929921627044678\n"
          ]
        },
        {
          "name": "stderr",
          "output_type": "stream",
          "text": [
            " 19%|█▉        | 3863/20069 [04:08<17:13, 15.68it/s]"
          ]
        },
        {
          "name": "stdout",
          "output_type": "stream",
          "text": [
            "Epoch [3/6], Loss: 3.9432857036590576\n"
          ]
        },
        {
          "name": "stderr",
          "output_type": "stream",
          "text": [
            " 24%|██▍       | 4863/20069 [05:13<15:55, 15.91it/s]"
          ]
        },
        {
          "name": "stdout",
          "output_type": "stream",
          "text": [
            "Epoch [3/6], Loss: 3.988680362701416\n"
          ]
        },
        {
          "name": "stderr",
          "output_type": "stream",
          "text": [
            " 29%|██▉       | 5863/20069 [06:17<15:01, 15.76it/s]"
          ]
        },
        {
          "name": "stdout",
          "output_type": "stream",
          "text": [
            "Epoch [3/6], Loss: 3.9652440547943115\n"
          ]
        },
        {
          "name": "stderr",
          "output_type": "stream",
          "text": [
            " 34%|███▍      | 6863/20069 [07:21<14:03, 15.65it/s]"
          ]
        },
        {
          "name": "stdout",
          "output_type": "stream",
          "text": [
            "Epoch [3/6], Loss: 3.904832363128662\n"
          ]
        },
        {
          "name": "stderr",
          "output_type": "stream",
          "text": [
            " 39%|███▉      | 7863/20069 [08:24<12:56, 15.72it/s]"
          ]
        },
        {
          "name": "stdout",
          "output_type": "stream",
          "text": [
            "Epoch [3/6], Loss: 3.9844775199890137\n"
          ]
        },
        {
          "name": "stderr",
          "output_type": "stream",
          "text": [
            " 44%|████▍     | 8863/20069 [09:28<11:50, 15.78it/s]"
          ]
        },
        {
          "name": "stdout",
          "output_type": "stream",
          "text": [
            "Epoch [3/6], Loss: 3.992349147796631\n"
          ]
        },
        {
          "name": "stderr",
          "output_type": "stream",
          "text": [
            " 49%|████▉     | 9863/20069 [10:32<10:42, 15.89it/s]"
          ]
        },
        {
          "name": "stdout",
          "output_type": "stream",
          "text": [
            "Epoch [3/6], Loss: 3.9476544857025146\n"
          ]
        },
        {
          "name": "stderr",
          "output_type": "stream",
          "text": [
            " 54%|█████▍    | 10863/20069 [11:36<09:56, 15.44it/s]"
          ]
        },
        {
          "name": "stdout",
          "output_type": "stream",
          "text": [
            "Epoch [3/6], Loss: 4.037354469299316\n"
          ]
        },
        {
          "name": "stderr",
          "output_type": "stream",
          "text": [
            " 59%|█████▉    | 11863/20069 [12:40<09:02, 15.14it/s]"
          ]
        },
        {
          "name": "stdout",
          "output_type": "stream",
          "text": [
            "Epoch [3/6], Loss: 3.8747689723968506\n"
          ]
        },
        {
          "name": "stderr",
          "output_type": "stream",
          "text": [
            " 64%|██████▍   | 12863/20069 [13:43<07:43, 15.56it/s]"
          ]
        },
        {
          "name": "stdout",
          "output_type": "stream",
          "text": [
            "Epoch [3/6], Loss: 3.8980557918548584\n"
          ]
        },
        {
          "name": "stderr",
          "output_type": "stream",
          "text": [
            " 69%|██████▉   | 13863/20069 [14:47<06:32, 15.82it/s]"
          ]
        },
        {
          "name": "stdout",
          "output_type": "stream",
          "text": [
            "Epoch [3/6], Loss: 3.913590431213379\n"
          ]
        },
        {
          "name": "stderr",
          "output_type": "stream",
          "text": [
            " 74%|███████▍  | 14863/20069 [15:51<05:25, 15.98it/s]"
          ]
        },
        {
          "name": "stdout",
          "output_type": "stream",
          "text": [
            "Epoch [3/6], Loss: 3.8633229732513428\n"
          ]
        },
        {
          "name": "stderr",
          "output_type": "stream",
          "text": [
            " 79%|███████▉  | 15863/20069 [16:54<04:26, 15.77it/s]"
          ]
        },
        {
          "name": "stdout",
          "output_type": "stream",
          "text": [
            "Epoch [3/6], Loss: 3.929241418838501\n"
          ]
        },
        {
          "name": "stderr",
          "output_type": "stream",
          "text": [
            " 84%|████████▍ | 16863/20069 [17:59<03:20, 15.96it/s]"
          ]
        },
        {
          "name": "stdout",
          "output_type": "stream",
          "text": [
            "Epoch [3/6], Loss: 3.792217493057251\n"
          ]
        },
        {
          "name": "stderr",
          "output_type": "stream",
          "text": [
            " 89%|████████▉ | 17863/20069 [19:03<02:19, 15.81it/s]"
          ]
        },
        {
          "name": "stdout",
          "output_type": "stream",
          "text": [
            "Epoch [3/6], Loss: 3.856790542602539\n"
          ]
        },
        {
          "name": "stderr",
          "output_type": "stream",
          "text": [
            " 94%|█████████▍| 18863/20069 [20:07<01:16, 15.72it/s]"
          ]
        },
        {
          "name": "stdout",
          "output_type": "stream",
          "text": [
            "Epoch [3/6], Loss: 3.8997256755828857\n"
          ]
        },
        {
          "name": "stderr",
          "output_type": "stream",
          "text": [
            " 99%|█████████▉| 19863/20069 [21:10<00:12, 15.90it/s]"
          ]
        },
        {
          "name": "stdout",
          "output_type": "stream",
          "text": [
            "Epoch [3/6], Loss: 3.8687734603881836\n"
          ]
        },
        {
          "name": "stderr",
          "output_type": "stream",
          "text": [
            "100%|██████████| 20069/20069 [21:24<00:00, 15.62it/s]\n"
          ]
        },
        {
          "name": "stdout",
          "output_type": "stream",
          "text": [
            "Epoch [3/6]\n",
            "Example text at the end of epoch:\n",
            "One of the most beautiful actresses of the film. The film is a definite reason to watch this movie. \n",
            " \n",
            " \n",
            " \n",
            " \n",
            " \n",
            " \n",
            " \n",
            " \n",
            " \n",
            " \n",
            " \n",
            " \n",
            " \n",
            " \n",
            " \n",
            " \n",
            " \n",
            " \n",
            " \n",
            " \n",
            " \n",
            " \n",
            " \n",
            " \n",
            " \n",
            " \n",
            " \n",
            " \n",
            " \n",
            " \n",
            " \n",
            " \n",
            " \n",
            " \n",
            " \n",
            " \n",
            " \n",
            " \n",
            " \n",
            " \n",
            " \n",
            " \n",
            " \n",
            " \n",
            " \n",
            " \n",
            " \n",
            " \n",
            " \n",
            " \n",
            " \n",
            " \n",
            " \n",
            " \n",
            " \n",
            " \n",
            " \n",
            " \n",
            " \n",
            " \n",
            " \n",
            " \n",
            " \n",
            " \n",
            " \n",
            " \n",
            " \n",
            " \n",
            " \n",
            " \n",
            " \n",
            " \n",
            " \n",
            " \n",
            " \n",
            " \n",
            " \n",
            " \n",
            " \n",
            "\n"
          ]
        },
        {
          "name": "stderr",
          "output_type": "stream",
          "text": [
            "  4%|▍         | 795/20069 [00:51<20:17, 15.83it/s]"
          ]
        },
        {
          "name": "stdout",
          "output_type": "stream",
          "text": [
            "Epoch [4/6], Loss: 3.853910207748413\n"
          ]
        },
        {
          "name": "stderr",
          "output_type": "stream",
          "text": [
            "  9%|▉         | 1795/20069 [01:57<19:45, 15.41it/s]"
          ]
        },
        {
          "name": "stdout",
          "output_type": "stream",
          "text": [
            "Epoch [4/6], Loss: 3.789726972579956\n"
          ]
        },
        {
          "name": "stderr",
          "output_type": "stream",
          "text": [
            " 14%|█▍        | 2793/20069 [03:01<19:19, 14.90it/s]"
          ]
        },
        {
          "name": "stdout",
          "output_type": "stream",
          "text": [
            "Epoch [4/6], Loss: 3.8726537227630615\n"
          ]
        },
        {
          "name": "stderr",
          "output_type": "stream",
          "text": [
            " 19%|█▉        | 3795/20069 [04:06<17:27, 15.53it/s]"
          ]
        },
        {
          "name": "stdout",
          "output_type": "stream",
          "text": [
            "Epoch [4/6], Loss: 3.8936948776245117\n"
          ]
        },
        {
          "name": "stderr",
          "output_type": "stream",
          "text": [
            " 24%|██▍       | 4795/20069 [05:10<16:22, 15.55it/s]"
          ]
        },
        {
          "name": "stdout",
          "output_type": "stream",
          "text": [
            "Epoch [4/6], Loss: 3.8214025497436523\n"
          ]
        },
        {
          "name": "stderr",
          "output_type": "stream",
          "text": [
            " 29%|██▉       | 5795/20069 [06:14<15:25, 15.43it/s]"
          ]
        },
        {
          "name": "stdout",
          "output_type": "stream",
          "text": [
            "Epoch [4/6], Loss: 3.912445306777954\n"
          ]
        },
        {
          "name": "stderr",
          "output_type": "stream",
          "text": [
            " 34%|███▍      | 6795/20069 [07:19<14:19, 15.44it/s]"
          ]
        },
        {
          "name": "stdout",
          "output_type": "stream",
          "text": [
            "Epoch [4/6], Loss: 3.8620095252990723\n"
          ]
        },
        {
          "name": "stderr",
          "output_type": "stream",
          "text": [
            " 39%|███▉      | 7795/20069 [08:23<13:10, 15.53it/s]"
          ]
        },
        {
          "name": "stdout",
          "output_type": "stream",
          "text": [
            "Epoch [4/6], Loss: 3.7879903316497803\n"
          ]
        },
        {
          "name": "stderr",
          "output_type": "stream",
          "text": [
            " 44%|████▍     | 8795/20069 [09:28<12:22, 15.18it/s]"
          ]
        },
        {
          "name": "stdout",
          "output_type": "stream",
          "text": [
            "Epoch [4/6], Loss: 3.820158004760742\n"
          ]
        },
        {
          "name": "stderr",
          "output_type": "stream",
          "text": [
            " 49%|████▉     | 9795/20069 [10:33<11:17, 15.17it/s]"
          ]
        },
        {
          "name": "stdout",
          "output_type": "stream",
          "text": [
            "Epoch [4/6], Loss: 3.7628157138824463\n"
          ]
        },
        {
          "name": "stderr",
          "output_type": "stream",
          "text": [
            " 54%|█████▍    | 10795/20069 [11:38<10:02, 15.40it/s]"
          ]
        },
        {
          "name": "stdout",
          "output_type": "stream",
          "text": [
            "Epoch [4/6], Loss: 3.743403434753418\n"
          ]
        },
        {
          "name": "stderr",
          "output_type": "stream",
          "text": [
            " 59%|█████▉    | 11795/20069 [12:43<08:44, 15.77it/s]"
          ]
        },
        {
          "name": "stdout",
          "output_type": "stream",
          "text": [
            "Epoch [4/6], Loss: 3.771806240081787\n"
          ]
        },
        {
          "name": "stderr",
          "output_type": "stream",
          "text": [
            " 64%|██████▍   | 12795/20069 [13:46<07:40, 15.80it/s]"
          ]
        },
        {
          "name": "stdout",
          "output_type": "stream",
          "text": [
            "Epoch [4/6], Loss: 3.760551929473877\n"
          ]
        },
        {
          "name": "stderr",
          "output_type": "stream",
          "text": [
            " 69%|██████▊   | 13795/20069 [14:51<06:42, 15.60it/s]"
          ]
        },
        {
          "name": "stdout",
          "output_type": "stream",
          "text": [
            "Epoch [4/6], Loss: 3.784567356109619\n"
          ]
        },
        {
          "name": "stderr",
          "output_type": "stream",
          "text": [
            " 74%|███████▎  | 14793/20069 [15:57<05:40, 15.51it/s]"
          ]
        },
        {
          "name": "stdout",
          "output_type": "stream",
          "text": [
            "Epoch [4/6], Loss: 3.822680711746216\n"
          ]
        },
        {
          "name": "stderr",
          "output_type": "stream",
          "text": [
            " 79%|███████▊  | 15795/20069 [17:01<04:30, 15.78it/s]"
          ]
        },
        {
          "name": "stdout",
          "output_type": "stream",
          "text": [
            "Epoch [4/6], Loss: 3.8128952980041504\n"
          ]
        },
        {
          "name": "stderr",
          "output_type": "stream",
          "text": [
            " 84%|████████▎ | 16795/20069 [18:05<03:30, 15.54it/s]"
          ]
        },
        {
          "name": "stdout",
          "output_type": "stream",
          "text": [
            "Epoch [4/6], Loss: 3.7063205242156982\n"
          ]
        },
        {
          "name": "stderr",
          "output_type": "stream",
          "text": [
            " 89%|████████▊ | 17793/20069 [19:09<02:25, 15.69it/s]"
          ]
        },
        {
          "name": "stdout",
          "output_type": "stream",
          "text": [
            "Epoch [4/6], Loss: 3.8638532161712646\n"
          ]
        },
        {
          "name": "stderr",
          "output_type": "stream",
          "text": [
            " 94%|█████████▎| 18795/20069 [20:13<01:21, 15.69it/s]"
          ]
        },
        {
          "name": "stdout",
          "output_type": "stream",
          "text": [
            "Epoch [4/6], Loss: 3.726815938949585\n"
          ]
        },
        {
          "name": "stderr",
          "output_type": "stream",
          "text": [
            " 99%|█████████▊| 19795/20069 [21:17<00:17, 15.79it/s]"
          ]
        },
        {
          "name": "stdout",
          "output_type": "stream",
          "text": [
            "Epoch [4/6], Loss: 3.7655012607574463\n"
          ]
        },
        {
          "name": "stderr",
          "output_type": "stream",
          "text": [
            "100%|██████████| 20069/20069 [21:34<00:00, 15.50it/s]\n"
          ]
        },
        {
          "name": "stdout",
          "output_type": "stream",
          "text": [
            "Epoch [4/6]\n",
            "Example text at the end of epoch:\n",
            "One of the most beautiful movies I have ever seen. I have seen it in my entire life. I have never seen a movie in my life. I'm not sure why. I'm not sure what to say about this movie is that it is a movie that is not a bad movie. It is a movie that is so bad it is bad that it is bad. It's not a bad movie. It's not a bad movie. It's not a bad movie. It's not a bad\n"
          ]
        },
        {
          "name": "stderr",
          "output_type": "stream",
          "text": [
            "  4%|▎         | 725/20069 [00:46<20:38, 15.61it/s]"
          ]
        },
        {
          "name": "stdout",
          "output_type": "stream",
          "text": [
            "Epoch [5/6], Loss: 3.764765739440918\n"
          ]
        },
        {
          "name": "stderr",
          "output_type": "stream",
          "text": [
            "  9%|▊         | 1725/20069 [01:50<19:28, 15.70it/s]"
          ]
        },
        {
          "name": "stdout",
          "output_type": "stream",
          "text": [
            "Epoch [5/6], Loss: 3.7209408283233643\n"
          ]
        },
        {
          "name": "stderr",
          "output_type": "stream",
          "text": [
            " 14%|█▎        | 2725/20069 [02:54<18:15, 15.83it/s]"
          ]
        },
        {
          "name": "stdout",
          "output_type": "stream",
          "text": [
            "Epoch [5/6], Loss: 3.734375476837158\n"
          ]
        },
        {
          "name": "stderr",
          "output_type": "stream",
          "text": [
            " 19%|█▊        | 3725/20069 [03:58<18:34, 14.66it/s]"
          ]
        },
        {
          "name": "stdout",
          "output_type": "stream",
          "text": [
            "Epoch [5/6], Loss: 3.7435405254364014\n"
          ]
        },
        {
          "name": "stderr",
          "output_type": "stream",
          "text": [
            " 24%|██▎       | 4725/20069 [05:03<16:23, 15.61it/s]"
          ]
        },
        {
          "name": "stdout",
          "output_type": "stream",
          "text": [
            "Epoch [5/6], Loss: 3.7304036617279053\n"
          ]
        },
        {
          "name": "stderr",
          "output_type": "stream",
          "text": [
            " 29%|██▊       | 5725/20069 [06:09<15:28, 15.45it/s]"
          ]
        },
        {
          "name": "stdout",
          "output_type": "stream",
          "text": [
            "Epoch [5/6], Loss: 3.67797589302063\n"
          ]
        },
        {
          "name": "stderr",
          "output_type": "stream",
          "text": [
            " 34%|███▎      | 6725/20069 [07:14<14:45, 15.07it/s]"
          ]
        },
        {
          "name": "stdout",
          "output_type": "stream",
          "text": [
            "Epoch [5/6], Loss: 3.744058847427368\n"
          ]
        },
        {
          "name": "stderr",
          "output_type": "stream",
          "text": [
            " 38%|███▊      | 7725/20069 [08:19<13:11, 15.60it/s]"
          ]
        },
        {
          "name": "stdout",
          "output_type": "stream",
          "text": [
            "Epoch [5/6], Loss: 3.7767508029937744\n"
          ]
        },
        {
          "name": "stderr",
          "output_type": "stream",
          "text": [
            " 43%|████▎     | 8725/20069 [09:25<12:41, 14.89it/s]"
          ]
        },
        {
          "name": "stdout",
          "output_type": "stream",
          "text": [
            "Epoch [5/6], Loss: 3.7222537994384766\n"
          ]
        },
        {
          "name": "stderr",
          "output_type": "stream",
          "text": [
            " 48%|████▊     | 9725/20069 [10:30<11:02, 15.62it/s]"
          ]
        },
        {
          "name": "stdout",
          "output_type": "stream",
          "text": [
            "Epoch [5/6], Loss: 3.6797235012054443\n"
          ]
        },
        {
          "name": "stderr",
          "output_type": "stream",
          "text": [
            " 53%|█████▎    | 10725/20069 [11:35<10:07, 15.39it/s]"
          ]
        },
        {
          "name": "stdout",
          "output_type": "stream",
          "text": [
            "Epoch [5/6], Loss: 3.7320635318756104\n"
          ]
        },
        {
          "name": "stderr",
          "output_type": "stream",
          "text": [
            " 58%|█████▊    | 11725/20069 [12:40<08:59, 15.47it/s]"
          ]
        },
        {
          "name": "stdout",
          "output_type": "stream",
          "text": [
            "Epoch [5/6], Loss: 3.6819732189178467\n"
          ]
        },
        {
          "name": "stderr",
          "output_type": "stream",
          "text": [
            " 63%|██████▎   | 12725/20069 [13:45<07:59, 15.30it/s]"
          ]
        },
        {
          "name": "stdout",
          "output_type": "stream",
          "text": [
            "Epoch [5/6], Loss: 3.6303086280822754\n"
          ]
        },
        {
          "name": "stderr",
          "output_type": "stream",
          "text": [
            " 68%|██████▊   | 13725/20069 [14:50<06:48, 15.54it/s]"
          ]
        },
        {
          "name": "stdout",
          "output_type": "stream",
          "text": [
            "Epoch [5/6], Loss: 3.654919147491455\n"
          ]
        },
        {
          "name": "stderr",
          "output_type": "stream",
          "text": [
            " 73%|███████▎  | 14725/20069 [15:56<06:01, 14.79it/s]"
          ]
        },
        {
          "name": "stdout",
          "output_type": "stream",
          "text": [
            "Epoch [5/6], Loss: 3.674851655960083\n"
          ]
        },
        {
          "name": "stderr",
          "output_type": "stream",
          "text": [
            " 78%|███████▊  | 15725/20069 [17:01<04:45, 15.21it/s]"
          ]
        },
        {
          "name": "stdout",
          "output_type": "stream",
          "text": [
            "Epoch [5/6], Loss: 3.6052699089050293\n"
          ]
        },
        {
          "name": "stderr",
          "output_type": "stream",
          "text": [
            " 83%|████████▎ | 16725/20069 [18:07<03:33, 15.68it/s]"
          ]
        },
        {
          "name": "stdout",
          "output_type": "stream",
          "text": [
            "Epoch [5/6], Loss: 3.7325356006622314\n"
          ]
        },
        {
          "name": "stderr",
          "output_type": "stream",
          "text": [
            " 88%|████████▊ | 17725/20069 [19:12<02:31, 15.44it/s]"
          ]
        },
        {
          "name": "stdout",
          "output_type": "stream",
          "text": [
            "Epoch [5/6], Loss: 3.721224069595337\n"
          ]
        },
        {
          "name": "stderr",
          "output_type": "stream",
          "text": [
            " 93%|█████████▎| 18725/20069 [20:18<01:28, 15.26it/s]"
          ]
        },
        {
          "name": "stdout",
          "output_type": "stream",
          "text": [
            "Epoch [5/6], Loss: 3.703986644744873\n"
          ]
        },
        {
          "name": "stderr",
          "output_type": "stream",
          "text": [
            " 98%|█████████▊| 19725/20069 [21:23<00:22, 15.57it/s]"
          ]
        },
        {
          "name": "stdout",
          "output_type": "stream",
          "text": [
            "Epoch [5/6], Loss: 3.6294143199920654\n"
          ]
        },
        {
          "name": "stderr",
          "output_type": "stream",
          "text": [
            "100%|██████████| 20069/20069 [21:45<00:00, 15.37it/s]\n"
          ]
        },
        {
          "name": "stdout",
          "output_type": "stream",
          "text": [
            "Epoch [5/6]\n",
            "Example text at the end of epoch:\n",
            "The film is a collage of conversations with a twist and a twist at the end of the film. The plot is very predictable, and the acting is very poor, the acting is poor, the acting is poor, the script is poor, the acting is poor, the script is poor, the acting is poor, the script is poor, the acting is poor, the script is poor, the acting is poor, the script is poor, the acting is poor, the script is poor, the acting is\n"
          ]
        },
        {
          "name": "stderr",
          "output_type": "stream",
          "text": [
            "  3%|▎         | 657/20069 [00:42<21:09, 15.29it/s]"
          ]
        },
        {
          "name": "stdout",
          "output_type": "stream",
          "text": [
            "Epoch [6/6], Loss: 3.658482313156128\n"
          ]
        },
        {
          "name": "stderr",
          "output_type": "stream",
          "text": [
            "  8%|▊         | 1657/20069 [01:47<19:55, 15.40it/s]"
          ]
        },
        {
          "name": "stdout",
          "output_type": "stream",
          "text": [
            "Epoch [6/6], Loss: 3.690143585205078\n"
          ]
        },
        {
          "name": "stderr",
          "output_type": "stream",
          "text": [
            " 13%|█▎        | 2657/20069 [02:52<18:48, 15.43it/s]"
          ]
        },
        {
          "name": "stdout",
          "output_type": "stream",
          "text": [
            "Epoch [6/6], Loss: 3.6527860164642334\n"
          ]
        },
        {
          "name": "stderr",
          "output_type": "stream",
          "text": [
            " 18%|█▊        | 3657/20069 [03:57<18:04, 15.13it/s]"
          ]
        },
        {
          "name": "stdout",
          "output_type": "stream",
          "text": [
            "Epoch [6/6], Loss: 3.637606143951416\n"
          ]
        },
        {
          "name": "stderr",
          "output_type": "stream",
          "text": [
            " 23%|██▎       | 4657/20069 [05:03<16:51, 15.23it/s]"
          ]
        },
        {
          "name": "stdout",
          "output_type": "stream",
          "text": [
            "Epoch [6/6], Loss: 3.7380211353302\n"
          ]
        },
        {
          "name": "stderr",
          "output_type": "stream",
          "text": [
            " 28%|██▊       | 5657/20069 [06:08<15:31, 15.47it/s]"
          ]
        },
        {
          "name": "stdout",
          "output_type": "stream",
          "text": [
            "Epoch [6/6], Loss: 3.556901216506958\n"
          ]
        },
        {
          "name": "stderr",
          "output_type": "stream",
          "text": [
            " 33%|███▎      | 6657/20069 [07:13<14:38, 15.27it/s]"
          ]
        },
        {
          "name": "stdout",
          "output_type": "stream",
          "text": [
            "Epoch [6/6], Loss: 3.6247007846832275\n"
          ]
        },
        {
          "name": "stderr",
          "output_type": "stream",
          "text": [
            " 38%|███▊      | 7657/20069 [08:18<13:34, 15.23it/s]"
          ]
        },
        {
          "name": "stdout",
          "output_type": "stream",
          "text": [
            "Epoch [6/6], Loss: 3.653618574142456\n"
          ]
        },
        {
          "name": "stderr",
          "output_type": "stream",
          "text": [
            " 43%|████▎     | 8657/20069 [09:24<12:04, 15.75it/s]"
          ]
        },
        {
          "name": "stdout",
          "output_type": "stream",
          "text": [
            "Epoch [6/6], Loss: 3.648444890975952\n"
          ]
        },
        {
          "name": "stderr",
          "output_type": "stream",
          "text": [
            " 48%|████▊     | 9657/20069 [10:30<11:36, 14.95it/s]"
          ]
        },
        {
          "name": "stdout",
          "output_type": "stream",
          "text": [
            "Epoch [6/6], Loss: 3.6189513206481934\n"
          ]
        },
        {
          "name": "stderr",
          "output_type": "stream",
          "text": [
            " 53%|█████▎    | 10657/20069 [11:35<10:02, 15.63it/s]"
          ]
        },
        {
          "name": "stdout",
          "output_type": "stream",
          "text": [
            "Epoch [6/6], Loss: 3.6626856327056885\n"
          ]
        },
        {
          "name": "stderr",
          "output_type": "stream",
          "text": [
            " 58%|█████▊    | 11657/20069 [12:39<09:01, 15.55it/s]"
          ]
        },
        {
          "name": "stdout",
          "output_type": "stream",
          "text": [
            "Epoch [6/6], Loss: 3.5549063682556152\n"
          ]
        },
        {
          "name": "stderr",
          "output_type": "stream",
          "text": [
            " 63%|██████▎   | 12657/20069 [13:43<08:05, 15.27it/s]"
          ]
        },
        {
          "name": "stdout",
          "output_type": "stream",
          "text": [
            "Epoch [6/6], Loss: 3.549936532974243\n"
          ]
        },
        {
          "name": "stderr",
          "output_type": "stream",
          "text": [
            " 68%|██████▊   | 13657/20069 [14:47<06:48, 15.68it/s]"
          ]
        },
        {
          "name": "stdout",
          "output_type": "stream",
          "text": [
            "Epoch [6/6], Loss: 3.664804220199585\n"
          ]
        },
        {
          "name": "stderr",
          "output_type": "stream",
          "text": [
            " 73%|███████▎  | 14657/20069 [15:51<05:46, 15.62it/s]"
          ]
        },
        {
          "name": "stdout",
          "output_type": "stream",
          "text": [
            "Epoch [6/6], Loss: 3.5201668739318848\n"
          ]
        },
        {
          "name": "stderr",
          "output_type": "stream",
          "text": [
            " 78%|███████▊  | 15657/20069 [16:55<04:41, 15.70it/s]"
          ]
        },
        {
          "name": "stdout",
          "output_type": "stream",
          "text": [
            "Epoch [6/6], Loss: 3.5796494483947754\n"
          ]
        },
        {
          "name": "stderr",
          "output_type": "stream",
          "text": [
            " 83%|████████▎ | 16657/20069 [18:00<03:42, 15.36it/s]"
          ]
        },
        {
          "name": "stdout",
          "output_type": "stream",
          "text": [
            "Epoch [6/6], Loss: 3.4874444007873535\n"
          ]
        },
        {
          "name": "stderr",
          "output_type": "stream",
          "text": [
            " 88%|████████▊ | 17657/20069 [19:03<02:31, 15.88it/s]"
          ]
        },
        {
          "name": "stdout",
          "output_type": "stream",
          "text": [
            "Epoch [6/6], Loss: 3.5914344787597656\n"
          ]
        },
        {
          "name": "stderr",
          "output_type": "stream",
          "text": [
            " 93%|█████████▎| 18657/20069 [20:07<01:29, 15.76it/s]"
          ]
        },
        {
          "name": "stdout",
          "output_type": "stream",
          "text": [
            "Epoch [6/6], Loss: 3.580315113067627\n"
          ]
        },
        {
          "name": "stderr",
          "output_type": "stream",
          "text": [
            " 98%|█████████▊| 19657/20069 [21:12<00:26, 15.60it/s]"
          ]
        },
        {
          "name": "stdout",
          "output_type": "stream",
          "text": [
            "Epoch [6/6], Loss: 3.517347812652588\n"
          ]
        },
        {
          "name": "stderr",
          "output_type": "stream",
          "text": [
            "100%|██████████| 20069/20069 [21:38<00:00, 15.45it/s]\n"
          ]
        },
        {
          "name": "stdout",
          "output_type": "stream",
          "text": [
            "Epoch [6/6]\n",
            "Example text at the end of epoch:\n",
            "Was it a good movie. It's a shame that the director was so bad that it was made in the first place. The acting was terrible, the acting was terrible, the acting was terrible, the acting was terrible, the acting was terrible, the acting was terrible, the acting was terrible, the acting was terrible, the acting was terrible, the acting was terrible, the acting was terrible, the acting was terrible, the acting was terrible, the acting was terrible, the acting was terrible, the\n"
          ]
        }
      ],
      "source": [
        "losses = train(model, EPOCHS, nn.CrossEntropyLoss(), torch.optim.Adam(model.parameters(), lr=LR), generation_dataloader, accumulation_steps=4)"
      ]
    },
    {
      "cell_type": "code",
      "execution_count": 172,
      "metadata": {},
      "outputs": [
        {
          "name": "stdout",
          "output_type": "stream",
          "text": [
            "I was surprised to see the movie. I was surprised that it was a lot of fun to watch. I was surprised that it was a very good movie. I was surprised to see how it was. I was a kid and I was in the theater after the movie, and I was very surprised that it was a very good movie. I was surprised to see how it was. I was a kid and I was so disappointed. I was very disappointed. I was very disappointed. I was very disappointed.\n"
          ]
        }
      ],
      "source": [
        "# Text example after training\n",
        "\n",
        "# text_generator(100, model, sentence=random.choice([\"I\", \"The\", \"One\", \"It\", \"Was\"]))\n",
        "text_generator(100, model, sentence=\"I was\")"
      ]
    },
    {
      "cell_type": "code",
      "execution_count": 124,
      "metadata": {},
      "outputs": [
        {
          "data": {
            "image/png": "[encoded data removed]",
            "text/plain": [
              "<Figure size 640x480 with 1 Axes>"
            ]
          },
          "metadata": {},
          "output_type": "display_data"
        }
      ],
      "source": [
        "plot(losses, time_unit=\"Iteration (x1000)\")"
      ]
    },
    {
      "cell_type": "code",
      "execution_count": 102,
      "metadata": {},
      "outputs": [],
      "source": [
        "# PATH = './text_generator_1.pth'\n",
        "# torch.save(model.state_dict(), PATH)"
      ]
    },
    {
      "cell_type": "markdown",
      "metadata": {
        "id": "FZ4re3JTxrg4"
      },
      "source": [
        "### Actividad 6\n",
        "\n",
        "A partir del modelo generativo de la anterior actividad, realice los ajustes necesarios al modelo para mejorar la calidad de las reseñas generadas. Se espera que el modelo sea capaz de generar reseñas de mejor calidad en comparación a la actividad previa. Para ello, investigue y agregue otros datasets públicos de reseñas de películas u otro tipo."
      ]
    },
    {
      "cell_type": "code",
      "execution_count": 232,
      "metadata": {},
      "outputs": [
        {
          "data": {
            "text/plain": [
              "MyModel(\n",
              "  (pos_encoder): PostionalEncoding(\n",
              "    (dropout): Dropout(p=0.2, inplace=False)\n",
              "  )\n",
              "  (embedding): Embedding(47360, 128)\n",
              "  (decoder_layer): TransformerDecoderLayer(\n",
              "    (self_attn): MultiheadAttention(\n",
              "      (out_proj): NonDynamicallyQuantizableLinear(in_features=128, out_features=128, bias=True)\n",
              "    )\n",
              "    (multihead_attn): MultiheadAttention(\n",
              "      (out_proj): NonDynamicallyQuantizableLinear(in_features=128, out_features=128, bias=True)\n",
              "    )\n",
              "    (linear1): Linear(in_features=128, out_features=2048, bias=True)\n",
              "    (dropout): Dropout(p=0.1, inplace=False)\n",
              "    (linear2): Linear(in_features=2048, out_features=128, bias=True)\n",
              "    (norm1): LayerNorm((128,), eps=1e-05, elementwise_affine=True)\n",
              "    (norm2): LayerNorm((128,), eps=1e-05, elementwise_affine=True)\n",
              "    (norm3): LayerNorm((128,), eps=1e-05, elementwise_affine=True)\n",
              "    (dropout1): Dropout(p=0.1, inplace=False)\n",
              "    (dropout2): Dropout(p=0.1, inplace=False)\n",
              "    (dropout3): Dropout(p=0.1, inplace=False)\n",
              "  )\n",
              "  (decoder): TransformerDecoder(\n",
              "    (layers): ModuleList(\n",
              "      (0-1): 2 x TransformerDecoderLayer(\n",
              "        (self_attn): MultiheadAttention(\n",
              "          (out_proj): NonDynamicallyQuantizableLinear(in_features=128, out_features=128, bias=True)\n",
              "        )\n",
              "        (multihead_attn): MultiheadAttention(\n",
              "          (out_proj): NonDynamicallyQuantizableLinear(in_features=128, out_features=128, bias=True)\n",
              "        )\n",
              "        (linear1): Linear(in_features=128, out_features=2048, bias=True)\n",
              "        (dropout): Dropout(p=0.1, inplace=False)\n",
              "        (linear2): Linear(in_features=2048, out_features=128, bias=True)\n",
              "        (norm1): LayerNorm((128,), eps=1e-05, elementwise_affine=True)\n",
              "        (norm2): LayerNorm((128,), eps=1e-05, elementwise_affine=True)\n",
              "        (norm3): LayerNorm((128,), eps=1e-05, elementwise_affine=True)\n",
              "        (dropout1): Dropout(p=0.1, inplace=False)\n",
              "        (dropout2): Dropout(p=0.1, inplace=False)\n",
              "        (dropout3): Dropout(p=0.1, inplace=False)\n",
              "      )\n",
              "    )\n",
              "  )\n",
              "  (fc): Linear(in_features=128, out_features=47360, bias=True)\n",
              "  (dropout): Dropout(p=0.2, inplace=False)\n",
              ")"
            ]
          },
          "execution_count": 232,
          "metadata": {},
          "output_type": "execute_result"
        }
      ],
      "source": [
        "PATH = './text_generator_1.pth'\n",
        "model_v2 = MyModel(vocab_size, 128, 2, 4, dropout=0.2)\n",
        "model_v2.load_state_dict(torch.load(PATH))\n",
        "model_v2.to(device)"
      ]
    },
    {
      "cell_type": "code",
      "execution_count": 233,
      "metadata": {},
      "outputs": [
        {
          "data": {
            "text/html": [
              "<div>\n",
              "<style scoped>\n",
              "    .dataframe tbody tr th:only-of-type {\n",
              "        vertical-align: middle;\n",
              "    }\n",
              "\n",
              "    .dataframe tbody tr th {\n",
              "        vertical-align: top;\n",
              "    }\n",
              "\n",
              "    .dataframe thead th {\n",
              "        text-align: right;\n",
              "    }\n",
              "</style>\n",
              "<table border=\"1\" class=\"dataframe\">\n",
              "  <thead>\n",
              "    <tr style=\"text-align: right;\">\n",
              "      <th></th>\n",
              "      <th>reviewId</th>\n",
              "      <th>userName</th>\n",
              "      <th>content</th>\n",
              "      <th>score</th>\n",
              "      <th>thumbsUpCount</th>\n",
              "      <th>reviewCreatedVersion</th>\n",
              "      <th>at</th>\n",
              "      <th>appVersion</th>\n",
              "    </tr>\n",
              "  </thead>\n",
              "  <tbody>\n",
              "    <tr>\n",
              "      <th>0</th>\n",
              "      <td>d3e47eba-2621-43bb-9ac2-8fd0ad6a2606</td>\n",
              "      <td>Peggy Khor</td>\n",
              "      <td>There is problem playing this video. Please tr...</td>\n",
              "      <td>1</td>\n",
              "      <td>0</td>\n",
              "      <td>8.114.0 build 19 50680</td>\n",
              "      <td>2024-05-14 23:26:05</td>\n",
              "      <td>8.114.0 build 19 50680</td>\n",
              "    </tr>\n",
              "    <tr>\n",
              "      <th>1</th>\n",
              "      <td>09eccc56-3b2f-4286-a395-ddd14da284d4</td>\n",
              "      <td>Dale Krawetz</td>\n",
              "      <td>Netflix is the awesomest app there is when it ...</td>\n",
              "      <td>5</td>\n",
              "      <td>0</td>\n",
              "      <td>NaN</td>\n",
              "      <td>2024-05-14 23:22:18</td>\n",
              "      <td>NaN</td>\n",
              "    </tr>\n",
              "    <tr>\n",
              "      <th>2</th>\n",
              "      <td>0c9a56b1-9c5d-404f-8f78-ce1bebd88e96</td>\n",
              "      <td>A Google user</td>\n",
              "      <td>Aside from the cost being ridiculous.. audio k...</td>\n",
              "      <td>3</td>\n",
              "      <td>1</td>\n",
              "      <td>8.114.0 build 19 50680</td>\n",
              "      <td>2024-05-14 23:05:19</td>\n",
              "      <td>8.114.0 build 19 50680</td>\n",
              "    </tr>\n",
              "    <tr>\n",
              "      <th>3</th>\n",
              "      <td>e065b74e-51e6-4502-ac9c-930ad8a6a064</td>\n",
              "      <td>Okwor, Maranatha Isioma</td>\n",
              "      <td>Dear Netflix... Please it's about time you put...</td>\n",
              "      <td>2</td>\n",
              "      <td>0</td>\n",
              "      <td>8.105.0 build 15 50626</td>\n",
              "      <td>2024-05-14 22:40:55</td>\n",
              "      <td>8.105.0 build 15 50626</td>\n",
              "    </tr>\n",
              "    <tr>\n",
              "      <th>4</th>\n",
              "      <td>1fbf7664-efb6-4f76-a1bf-15c577b97f8d</td>\n",
              "      <td>Pieter Van kammen</td>\n",
              "      <td>Terrible</td>\n",
              "      <td>1</td>\n",
              "      <td>0</td>\n",
              "      <td>8.114.0 build 19 50680</td>\n",
              "      <td>2024-05-14 22:29:08</td>\n",
              "      <td>8.114.0 build 19 50680</td>\n",
              "    </tr>\n",
              "  </tbody>\n",
              "</table>\n",
              "</div>"
            ],
            "text/plain": [
              "                               reviewId                 userName  \\\n",
              "0  d3e47eba-2621-43bb-9ac2-8fd0ad6a2606               Peggy Khor   \n",
              "1  09eccc56-3b2f-4286-a395-ddd14da284d4             Dale Krawetz   \n",
              "2  0c9a56b1-9c5d-404f-8f78-ce1bebd88e96            A Google user   \n",
              "3  e065b74e-51e6-4502-ac9c-930ad8a6a064  Okwor, Maranatha Isioma   \n",
              "4  1fbf7664-efb6-4f76-a1bf-15c577b97f8d        Pieter Van kammen   \n",
              "\n",
              "                                             content  score  thumbsUpCount  \\\n",
              "0  There is problem playing this video. Please tr...      1              0   \n",
              "1  Netflix is the awesomest app there is when it ...      5              0   \n",
              "2  Aside from the cost being ridiculous.. audio k...      3              1   \n",
              "3  Dear Netflix... Please it's about time you put...      2              0   \n",
              "4                                           Terrible      1              0   \n",
              "\n",
              "     reviewCreatedVersion                   at              appVersion  \n",
              "0  8.114.0 build 19 50680  2024-05-14 23:26:05  8.114.0 build 19 50680  \n",
              "1                     NaN  2024-05-14 23:22:18                     NaN  \n",
              "2  8.114.0 build 19 50680  2024-05-14 23:05:19  8.114.0 build 19 50680  \n",
              "3  8.105.0 build 15 50626  2024-05-14 22:40:55  8.105.0 build 15 50626  \n",
              "4  8.114.0 build 19 50680  2024-05-14 22:29:08  8.114.0 build 19 50680  "
            ]
          },
          "execution_count": 233,
          "metadata": {},
          "output_type": "execute_result"
        }
      ],
      "source": [
        "new_dataframe = pd.read_csv(os.path.join(\"data\", \"netflix_reviews.csv\"))\n",
        "new_dataframe.head()"
      ]
    },
    {
      "cell_type": "code",
      "execution_count": 298,
      "metadata": {},
      "outputs": [
        {
          "name": "stderr",
          "output_type": "stream",
          "text": [
            "C:\\Users\\Bruno\\AppData\\Local\\Temp\\ipykernel_4648\\2561846294.py:22: MarkupResemblesLocatorWarning: The input looks more like a filename than markup. You may want to open this file and pass the filehandle into Beautiful Soup.\n",
            "  text = BeautifulSoup(text, \"html.parser\").get_text(separator=\" \")\n"
          ]
        }
      ],
      "source": [
        "fraction = 0.1\n",
        "new_tokens = new_dataframe.sample(frac=fraction).reset_index(drop=True)\n",
        "\n",
        "new_tokens[\"content\"] = new_tokens[\"content\"].apply(clean_text)\n",
        "new_tokens[\"content\"] = new_tokens[\"content\"].apply(word_tokenize)\n",
        "\n",
        "new_all_words, new_sequences = df2sequences(new_tokens, data_column=\"content\")\n",
        "\n",
        "new_words_count = Counter(new_all_words)\n",
        "\n",
        "new_vocab = list(new_words_count.keys())"
      ]
    },
    {
      "cell_type": "code",
      "execution_count": 325,
      "metadata": {},
      "outputs": [],
      "source": [
        "approx_encoding = create_approx_encoding(word_to_int, new_vocab)"
      ]
    },
    {
      "cell_type": "code",
      "execution_count": 327,
      "metadata": {},
      "outputs": [],
      "source": [
        "NEW_BATCH_SIZE = 64\n",
        "\n",
        "new_generation_dataset = TextDataset(new_sequences, word_to_int, approx_encoding)\n",
        "\n",
        "new_generation_dataloader = DataLoader(new_generation_dataset, batch_size=NEW_BATCH_SIZE, shuffle=True)"
      ]
    },
    {
      "cell_type": "code",
      "execution_count": 328,
      "metadata": {},
      "outputs": [
        {
          "name": "stderr",
          "output_type": "stream",
          "text": [
            " 17%|█▋        | 1001/5766 [01:03<05:11, 15.30it/s]"
          ]
        },
        {
          "name": "stdout",
          "output_type": "stream",
          "text": [
            "Epoch [1/1], Loss: 4.395139694213867\n"
          ]
        },
        {
          "name": "stderr",
          "output_type": "stream",
          "text": [
            " 35%|███▍      | 2001/5766 [02:07<03:58, 15.78it/s]"
          ]
        },
        {
          "name": "stdout",
          "output_type": "stream",
          "text": [
            "Epoch [1/1], Loss: 4.198512077331543\n"
          ]
        },
        {
          "name": "stderr",
          "output_type": "stream",
          "text": [
            " 52%|█████▏    | 3001/5766 [03:10<02:57, 15.62it/s]"
          ]
        },
        {
          "name": "stdout",
          "output_type": "stream",
          "text": [
            "Epoch [1/1], Loss: 3.993856191635132\n"
          ]
        },
        {
          "name": "stderr",
          "output_type": "stream",
          "text": [
            " 69%|██████▉   | 4001/5766 [04:14<01:51, 15.84it/s]"
          ]
        },
        {
          "name": "stdout",
          "output_type": "stream",
          "text": [
            "Epoch [1/1], Loss: 3.840343475341797\n"
          ]
        },
        {
          "name": "stderr",
          "output_type": "stream",
          "text": [
            " 87%|████████▋ | 5001/5766 [05:18<00:48, 15.77it/s]"
          ]
        },
        {
          "name": "stdout",
          "output_type": "stream",
          "text": [
            "Epoch [1/1], Loss: 3.7375471591949463\n"
          ]
        },
        {
          "name": "stderr",
          "output_type": "stream",
          "text": [
            "100%|██████████| 5766/5766 [06:06<00:00, 15.71it/s]\n"
          ]
        },
        {
          "name": "stdout",
          "output_type": "stream",
          "text": [
            "Epoch [1/1]\n",
            "Example text at the end of epoch:\n",
            "Was working fine but now it's not working. I have uninitiated and reinstated it and still doesn't work. \n",
            " \n",
            " \n",
            " \n",
            " \n",
            " \n",
            " \n",
            " \n",
            " \n",
            " \n",
            " \n",
            " \n",
            " \n",
            " \n",
            " \n",
            " \n",
            " \n",
            " \n",
            " \n",
            " \n",
            " \n",
            " \n",
            " \n",
            " \n",
            " \n",
            " \n",
            " \n",
            " \n",
            " \n",
            " \n",
            " \n",
            " \n",
            " \n",
            " \n",
            " \n",
            " \n",
            " \n",
            " \n",
            " \n",
            " \n",
            " \n",
            " \n",
            " \n",
            " \n",
            " \n",
            " \n",
            " \n",
            " \n",
            " \n",
            " \n",
            " \n",
            " \n",
            " \n",
            " \n",
            " \n",
            " \n",
            " \n",
            " \n",
            " \n",
            " \n",
            " \n",
            " \n",
            " \n",
            " \n",
            " \n",
            " \n",
            " \n",
            " \n",
            " \n",
            " \n",
            " \n",
            " \n",
            " \n",
            " \n",
            " \n",
            " \n",
            " \n",
            " \n",
            " \n",
            "\n"
          ]
        }
      ],
      "source": [
        "NEW_LR = 0.001\n",
        "NEW_EPOCHS = 1\n",
        "\n",
        "new_losses = train(model_v2, NEW_EPOCHS, nn.CrossEntropyLoss(), torch.optim.Adam(model_v2.parameters(), lr=NEW_LR), new_generation_dataloader, accumulation_steps=4)"
      ]
    },
    {
      "cell_type": "code",
      "execution_count": 422,
      "metadata": {},
      "outputs": [
        {
          "name": "stdout",
          "output_type": "stream",
          "text": [
            "oddball the app. \n",
            " \n",
            " \n",
            " \n",
            " \n",
            " \n",
            " \n",
            " \n",
            " \n",
            " \n",
            " \n",
            " \n",
            " \n",
            " \n",
            " \n",
            " \n",
            " \n",
            " \n",
            " \n",
            " \n",
            " \n",
            " \n",
            " \n",
            " \n",
            " \n",
            " \n",
            " \n",
            " \n",
            " \n",
            " \n",
            " \n",
            " \n",
            " \n",
            " \n",
            " \n",
            " \n",
            " \n",
            " \n",
            " \n",
            " \n",
            " \n",
            " \n",
            "\n"
          ]
        }
      ],
      "source": [
        "text_generator(45, model_v2, sentence=random.choice(vocab))"
      ]
    }
  ],
  "metadata": {
    "colab": {
      "provenance": []
    },
    "kernelspec": {
      "display_name": "Python 3",
      "name": "python3"
    },
    "language_info": {
      "codemirror_mode": {
        "name": "ipython",
        "version": 3
      },
      "file_extension": ".py",
      "mimetype": "text/x-python",
      "name": "python",
      "nbconvert_exporter": "python",
      "pygments_lexer": "ipython3",
      "version": "3.11.5"
    },
    "widgets": {
      "application/vnd.jupyter.widget-state+json": {
        "04d3369f95014699ad9dcdc2382303e6": {
          "model_module": "@jupyter-widgets/controls",
          "model_module_version": "1.5.0",
          "model_name": "ProgressStyleModel",
          "state": {
            "_model_module": "@jupyter-widgets/controls",
            "_model_module_version": "1.5.0",
            "_model_name": "ProgressStyleModel",
            "_view_count": null,
            "_view_module": "@jupyter-widgets/base",
            "_view_module_version": "1.2.0",
            "_view_name": "StyleView",
            "bar_color": null,
            "description_width": ""
          }
        },
        "06f20e8f49474e26b2557a682f65eeb5": {
          "model_module": "@jupyter-widgets/controls",
          "model_module_version": "1.5.0",
          "model_name": "DescriptionStyleModel",
          "state": {
            "_model_module": "@jupyter-widgets/controls",
            "_model_module_version": "1.5.0",
            "_model_name": "DescriptionStyleModel",
            "_view_count": null,
            "_view_module": "@jupyter-widgets/base",
            "_view_module_version": "1.2.0",
            "_view_name": "StyleView",
            "description_width": ""
          }
        },
        "076e5c7f10ba46b3b48ee8a17168db67": {
          "model_module": "@jupyter-widgets/controls",
          "model_module_version": "1.5.0",
          "model_name": "HTMLModel",
          "state": {
            "_dom_classes": [],
            "_model_module": "@jupyter-widgets/controls",
            "_model_module_version": "1.5.0",
            "_model_name": "HTMLModel",
            "_view_count": null,
            "_view_module": "@jupyter-widgets/controls",
            "_view_module_version": "1.5.0",
            "_view_name": "HTMLView",
            "description": "",
            "description_tooltip": null,
            "layout": "IPY_MODEL_ec19091665424e4b91ae05c1636f6c43",
            "placeholder": "​",
            "style": "IPY_MODEL_ae91916a3f424ab4a93db2e004fe4162",
            "value": "Generating test split: 100%"
          }
        },
        "0a6f6a043c834b8e8a5b7b5bcd1fb395": {
          "model_module": "@jupyter-widgets/base",
          "model_module_version": "1.2.0",
          "model_name": "LayoutModel",
          "state": {
            "_model_module": "@jupyter-widgets/base",
            "_model_module_version": "1.2.0",
            "_model_name": "LayoutModel",
            "_view_count": null,
            "_view_module": "@jupyter-widgets/base",
            "_view_module_version": "1.2.0",
            "_view_name": "LayoutView",
            "align_content": null,
            "align_items": null,
            "align_self": null,
            "border": null,
            "bottom": null,
            "display": null,
            "flex": null,
            "flex_flow": null,
            "grid_area": null,
            "grid_auto_columns": null,
            "grid_auto_flow": null,
            "grid_auto_rows": null,
            "grid_column": null,
            "grid_gap": null,
            "grid_row": null,
            "grid_template_areas": null,
            "grid_template_columns": null,
            "grid_template_rows": null,
            "height": null,
            "justify_content": null,
            "justify_items": null,
            "left": null,
            "margin": null,
            "max_height": null,
            "max_width": null,
            "min_height": null,
            "min_width": null,
            "object_fit": null,
            "object_position": null,
            "order": null,
            "overflow": null,
            "overflow_x": null,
            "overflow_y": null,
            "padding": null,
            "right": null,
            "top": null,
            "visibility": null,
            "width": null
          }
        },
        "0bfa0fcedd0c4f92b8f33a05a31e6c6c": {
          "model_module": "@jupyter-widgets/base",
          "model_module_version": "1.2.0",
          "model_name": "LayoutModel",
          "state": {
            "_model_module": "@jupyter-widgets/base",
            "_model_module_version": "1.2.0",
            "_model_name": "LayoutModel",
            "_view_count": null,
            "_view_module": "@jupyter-widgets/base",
            "_view_module_version": "1.2.0",
            "_view_name": "LayoutView",
            "align_content": null,
            "align_items": null,
            "align_self": null,
            "border": null,
            "bottom": null,
            "display": null,
            "flex": null,
            "flex_flow": null,
            "grid_area": null,
            "grid_auto_columns": null,
            "grid_auto_flow": null,
            "grid_auto_rows": null,
            "grid_column": null,
            "grid_gap": null,
            "grid_row": null,
            "grid_template_areas": null,
            "grid_template_columns": null,
            "grid_template_rows": null,
            "height": null,
            "justify_content": null,
            "justify_items": null,
            "left": null,
            "margin": null,
            "max_height": null,
            "max_width": null,
            "min_height": null,
            "min_width": null,
            "object_fit": null,
            "object_position": null,
            "order": null,
            "overflow": null,
            "overflow_x": null,
            "overflow_y": null,
            "padding": null,
            "right": null,
            "top": null,
            "visibility": null,
            "width": null
          }
        },
        "0db3133a83444127997314aefc2c914f": {
          "model_module": "@jupyter-widgets/base",
          "model_module_version": "1.2.0",
          "model_name": "LayoutModel",
          "state": {
            "_model_module": "@jupyter-widgets/base",
            "_model_module_version": "1.2.0",
            "_model_name": "LayoutModel",
            "_view_count": null,
            "_view_module": "@jupyter-widgets/base",
            "_view_module_version": "1.2.0",
            "_view_name": "LayoutView",
            "align_content": null,
            "align_items": null,
            "align_self": null,
            "border": null,
            "bottom": null,
            "display": null,
            "flex": null,
            "flex_flow": null,
            "grid_area": null,
            "grid_auto_columns": null,
            "grid_auto_flow": null,
            "grid_auto_rows": null,
            "grid_column": null,
            "grid_gap": null,
            "grid_row": null,
            "grid_template_areas": null,
            "grid_template_columns": null,
            "grid_template_rows": null,
            "height": null,
            "justify_content": null,
            "justify_items": null,
            "left": null,
            "margin": null,
            "max_height": null,
            "max_width": null,
            "min_height": null,
            "min_width": null,
            "object_fit": null,
            "object_position": null,
            "order": null,
            "overflow": null,
            "overflow_x": null,
            "overflow_y": null,
            "padding": null,
            "right": null,
            "top": null,
            "visibility": null,
            "width": null
          }
        },
        "0ee60b264f2a46cabb1b3a31071882b5": {
          "model_module": "@jupyter-widgets/controls",
          "model_module_version": "1.5.0",
          "model_name": "DescriptionStyleModel",
          "state": {
            "_model_module": "@jupyter-widgets/controls",
            "_model_module_version": "1.5.0",
            "_model_name": "DescriptionStyleModel",
            "_view_count": null,
            "_view_module": "@jupyter-widgets/base",
            "_view_module_version": "1.2.0",
            "_view_name": "StyleView",
            "description_width": ""
          }
        },
        "11182339b68a459cb0ea952312d404eb": {
          "model_module": "@jupyter-widgets/base",
          "model_module_version": "1.2.0",
          "model_name": "LayoutModel",
          "state": {
            "_model_module": "@jupyter-widgets/base",
            "_model_module_version": "1.2.0",
            "_model_name": "LayoutModel",
            "_view_count": null,
            "_view_module": "@jupyter-widgets/base",
            "_view_module_version": "1.2.0",
            "_view_name": "LayoutView",
            "align_content": null,
            "align_items": null,
            "align_self": null,
            "border": null,
            "bottom": null,
            "display": null,
            "flex": null,
            "flex_flow": null,
            "grid_area": null,
            "grid_auto_columns": null,
            "grid_auto_flow": null,
            "grid_auto_rows": null,
            "grid_column": null,
            "grid_gap": null,
            "grid_row": null,
            "grid_template_areas": null,
            "grid_template_columns": null,
            "grid_template_rows": null,
            "height": null,
            "justify_content": null,
            "justify_items": null,
            "left": null,
            "margin": null,
            "max_height": null,
            "max_width": null,
            "min_height": null,
            "min_width": null,
            "object_fit": null,
            "object_position": null,
            "order": null,
            "overflow": null,
            "overflow_x": null,
            "overflow_y": null,
            "padding": null,
            "right": null,
            "top": null,
            "visibility": null,
            "width": null
          }
        },
        "1b0efbfb5c7148f4ae9f18e9008d568e": {
          "model_module": "@jupyter-widgets/base",
          "model_module_version": "1.2.0",
          "model_name": "LayoutModel",
          "state": {
            "_model_module": "@jupyter-widgets/base",
            "_model_module_version": "1.2.0",
            "_model_name": "LayoutModel",
            "_view_count": null,
            "_view_module": "@jupyter-widgets/base",
            "_view_module_version": "1.2.0",
            "_view_name": "LayoutView",
            "align_content": null,
            "align_items": null,
            "align_self": null,
            "border": null,
            "bottom": null,
            "display": null,
            "flex": null,
            "flex_flow": null,
            "grid_area": null,
            "grid_auto_columns": null,
            "grid_auto_flow": null,
            "grid_auto_rows": null,
            "grid_column": null,
            "grid_gap": null,
            "grid_row": null,
            "grid_template_areas": null,
            "grid_template_columns": null,
            "grid_template_rows": null,
            "height": null,
            "justify_content": null,
            "justify_items": null,
            "left": null,
            "margin": null,
            "max_height": null,
            "max_width": null,
            "min_height": null,
            "min_width": null,
            "object_fit": null,
            "object_position": null,
            "order": null,
            "overflow": null,
            "overflow_x": null,
            "overflow_y": null,
            "padding": null,
            "right": null,
            "top": null,
            "visibility": null,
            "width": null
          }
        },
        "1f6b42ab052d4b048804e01a579a53d5": {
          "model_module": "@jupyter-widgets/base",
          "model_module_version": "1.2.0",
          "model_name": "LayoutModel",
          "state": {
            "_model_module": "@jupyter-widgets/base",
            "_model_module_version": "1.2.0",
            "_model_name": "LayoutModel",
            "_view_count": null,
            "_view_module": "@jupyter-widgets/base",
            "_view_module_version": "1.2.0",
            "_view_name": "LayoutView",
            "align_content": null,
            "align_items": null,
            "align_self": null,
            "border": null,
            "bottom": null,
            "display": null,
            "flex": null,
            "flex_flow": null,
            "grid_area": null,
            "grid_auto_columns": null,
            "grid_auto_flow": null,
            "grid_auto_rows": null,
            "grid_column": null,
            "grid_gap": null,
            "grid_row": null,
            "grid_template_areas": null,
            "grid_template_columns": null,
            "grid_template_rows": null,
            "height": null,
            "justify_content": null,
            "justify_items": null,
            "left": null,
            "margin": null,
            "max_height": null,
            "max_width": null,
            "min_height": null,
            "min_width": null,
            "object_fit": null,
            "object_position": null,
            "order": null,
            "overflow": null,
            "overflow_x": null,
            "overflow_y": null,
            "padding": null,
            "right": null,
            "top": null,
            "visibility": null,
            "width": null
          }
        },
        "217e41e8c02946f49d8f0d8601ec39a0": {
          "model_module": "@jupyter-widgets/base",
          "model_module_version": "1.2.0",
          "model_name": "LayoutModel",
          "state": {
            "_model_module": "@jupyter-widgets/base",
            "_model_module_version": "1.2.0",
            "_model_name": "LayoutModel",
            "_view_count": null,
            "_view_module": "@jupyter-widgets/base",
            "_view_module_version": "1.2.0",
            "_view_name": "LayoutView",
            "align_content": null,
            "align_items": null,
            "align_self": null,
            "border": null,
            "bottom": null,
            "display": null,
            "flex": null,
            "flex_flow": null,
            "grid_area": null,
            "grid_auto_columns": null,
            "grid_auto_flow": null,
            "grid_auto_rows": null,
            "grid_column": null,
            "grid_gap": null,
            "grid_row": null,
            "grid_template_areas": null,
            "grid_template_columns": null,
            "grid_template_rows": null,
            "height": null,
            "justify_content": null,
            "justify_items": null,
            "left": null,
            "margin": null,
            "max_height": null,
            "max_width": null,
            "min_height": null,
            "min_width": null,
            "object_fit": null,
            "object_position": null,
            "order": null,
            "overflow": null,
            "overflow_x": null,
            "overflow_y": null,
            "padding": null,
            "right": null,
            "top": null,
            "visibility": null,
            "width": null
          }
        },
        "26ec5aea33a74922b52c3254aa1fe128": {
          "model_module": "@jupyter-widgets/base",
          "model_module_version": "1.2.0",
          "model_name": "LayoutModel",
          "state": {
            "_model_module": "@jupyter-widgets/base",
            "_model_module_version": "1.2.0",
            "_model_name": "LayoutModel",
            "_view_count": null,
            "_view_module": "@jupyter-widgets/base",
            "_view_module_version": "1.2.0",
            "_view_name": "LayoutView",
            "align_content": null,
            "align_items": null,
            "align_self": null,
            "border": null,
            "bottom": null,
            "display": null,
            "flex": null,
            "flex_flow": null,
            "grid_area": null,
            "grid_auto_columns": null,
            "grid_auto_flow": null,
            "grid_auto_rows": null,
            "grid_column": null,
            "grid_gap": null,
            "grid_row": null,
            "grid_template_areas": null,
            "grid_template_columns": null,
            "grid_template_rows": null,
            "height": null,
            "justify_content": null,
            "justify_items": null,
            "left": null,
            "margin": null,
            "max_height": null,
            "max_width": null,
            "min_height": null,
            "min_width": null,
            "object_fit": null,
            "object_position": null,
            "order": null,
            "overflow": null,
            "overflow_x": null,
            "overflow_y": null,
            "padding": null,
            "right": null,
            "top": null,
            "visibility": null,
            "width": null
          }
        },
        "278a4a56e34b4d39ae079bc07ede37c0": {
          "model_module": "@jupyter-widgets/controls",
          "model_module_version": "1.5.0",
          "model_name": "HTMLModel",
          "state": {
            "_dom_classes": [],
            "_model_module": "@jupyter-widgets/controls",
            "_model_module_version": "1.5.0",
            "_model_name": "HTMLModel",
            "_view_count": null,
            "_view_module": "@jupyter-widgets/controls",
            "_view_module_version": "1.5.0",
            "_view_name": "HTMLView",
            "description": "",
            "description_tooltip": null,
            "layout": "IPY_MODEL_c32e1db978ab4a87829122de9f9c5efc",
            "placeholder": "​",
            "style": "IPY_MODEL_df001df1b17245819c43e38a08151c82",
            "value": " 42.0M/42.0M [00:01&lt;00:00, 38.5MB/s]"
          }
        },
        "303cc7f9f54b4c02a153016e988a1d69": {
          "model_module": "@jupyter-widgets/controls",
          "model_module_version": "1.5.0",
          "model_name": "HBoxModel",
          "state": {
            "_dom_classes": [],
            "_model_module": "@jupyter-widgets/controls",
            "_model_module_version": "1.5.0",
            "_model_name": "HBoxModel",
            "_view_count": null,
            "_view_module": "@jupyter-widgets/controls",
            "_view_module_version": "1.5.0",
            "_view_name": "HBoxView",
            "box_style": "",
            "children": [
              "IPY_MODEL_53917fdee4c84759847e753b4e0bc967",
              "IPY_MODEL_976ab2548702498c985c5407ab33f3a6",
              "IPY_MODEL_be47ce91f649489ca814f8ed07cf7b3e"
            ],
            "layout": "IPY_MODEL_1f6b42ab052d4b048804e01a579a53d5"
          }
        },
        "332bdee2b79f430a9bbc72c8c16e763b": {
          "model_module": "@jupyter-widgets/controls",
          "model_module_version": "1.5.0",
          "model_name": "DescriptionStyleModel",
          "state": {
            "_model_module": "@jupyter-widgets/controls",
            "_model_module_version": "1.5.0",
            "_model_name": "DescriptionStyleModel",
            "_view_count": null,
            "_view_module": "@jupyter-widgets/base",
            "_view_module_version": "1.2.0",
            "_view_name": "StyleView",
            "description_width": ""
          }
        },
        "392fd58dd841424cb798a5be5c921daa": {
          "model_module": "@jupyter-widgets/controls",
          "model_module_version": "1.5.0",
          "model_name": "DescriptionStyleModel",
          "state": {
            "_model_module": "@jupyter-widgets/controls",
            "_model_module_version": "1.5.0",
            "_model_name": "DescriptionStyleModel",
            "_view_count": null,
            "_view_module": "@jupyter-widgets/base",
            "_view_module_version": "1.2.0",
            "_view_name": "StyleView",
            "description_width": ""
          }
        },
        "39d16dff10684227bb7374a7d978f172": {
          "model_module": "@jupyter-widgets/controls",
          "model_module_version": "1.5.0",
          "model_name": "HTMLModel",
          "state": {
            "_dom_classes": [],
            "_model_module": "@jupyter-widgets/controls",
            "_model_module_version": "1.5.0",
            "_model_name": "HTMLModel",
            "_view_count": null,
            "_view_module": "@jupyter-widgets/controls",
            "_view_module_version": "1.5.0",
            "_view_name": "HTMLView",
            "description": "",
            "description_tooltip": null,
            "layout": "IPY_MODEL_5f9ebbb630dd49dcbb42c19e9a7e673a",
            "placeholder": "​",
            "style": "IPY_MODEL_c131374531dd4ad089f63914e8400347",
            "value": " 25000/25000 [00:01&lt;00:00, 25872.04 examples/s]"
          }
        },
        "3af1eb10f6614f358803b7bc21c8e112": {
          "model_module": "@jupyter-widgets/controls",
          "model_module_version": "1.5.0",
          "model_name": "DescriptionStyleModel",
          "state": {
            "_model_module": "@jupyter-widgets/controls",
            "_model_module_version": "1.5.0",
            "_model_name": "DescriptionStyleModel",
            "_view_count": null,
            "_view_module": "@jupyter-widgets/base",
            "_view_module_version": "1.2.0",
            "_view_name": "StyleView",
            "description_width": ""
          }
        },
        "4544a1fd9d664b57b9815f06c58217e5": {
          "model_module": "@jupyter-widgets/controls",
          "model_module_version": "1.5.0",
          "model_name": "HTMLModel",
          "state": {
            "_dom_classes": [],
            "_model_module": "@jupyter-widgets/controls",
            "_model_module_version": "1.5.0",
            "_model_name": "HTMLModel",
            "_view_count": null,
            "_view_module": "@jupyter-widgets/controls",
            "_view_module_version": "1.5.0",
            "_view_name": "HTMLView",
            "description": "",
            "description_tooltip": null,
            "layout": "IPY_MODEL_7cfb585823f346c68b64e387482e965e",
            "placeholder": "​",
            "style": "IPY_MODEL_3af1eb10f6614f358803b7bc21c8e112",
            "value": "Generating unsupervised split: 100%"
          }
        },
        "47d396e194374fa6a00766390da86e23": {
          "model_module": "@jupyter-widgets/base",
          "model_module_version": "1.2.0",
          "model_name": "LayoutModel",
          "state": {
            "_model_module": "@jupyter-widgets/base",
            "_model_module_version": "1.2.0",
            "_model_name": "LayoutModel",
            "_view_count": null,
            "_view_module": "@jupyter-widgets/base",
            "_view_module_version": "1.2.0",
            "_view_name": "LayoutView",
            "align_content": null,
            "align_items": null,
            "align_self": null,
            "border": null,
            "bottom": null,
            "display": null,
            "flex": null,
            "flex_flow": null,
            "grid_area": null,
            "grid_auto_columns": null,
            "grid_auto_flow": null,
            "grid_auto_rows": null,
            "grid_column": null,
            "grid_gap": null,
            "grid_row": null,
            "grid_template_areas": null,
            "grid_template_columns": null,
            "grid_template_rows": null,
            "height": null,
            "justify_content": null,
            "justify_items": null,
            "left": null,
            "margin": null,
            "max_height": null,
            "max_width": null,
            "min_height": null,
            "min_width": null,
            "object_fit": null,
            "object_position": null,
            "order": null,
            "overflow": null,
            "overflow_x": null,
            "overflow_y": null,
            "padding": null,
            "right": null,
            "top": null,
            "visibility": null,
            "width": null
          }
        },
        "48df76eb4edc4e58954434e0a35bc9e4": {
          "model_module": "@jupyter-widgets/controls",
          "model_module_version": "1.5.0",
          "model_name": "DescriptionStyleModel",
          "state": {
            "_model_module": "@jupyter-widgets/controls",
            "_model_module_version": "1.5.0",
            "_model_name": "DescriptionStyleModel",
            "_view_count": null,
            "_view_module": "@jupyter-widgets/base",
            "_view_module_version": "1.2.0",
            "_view_name": "StyleView",
            "description_width": ""
          }
        },
        "4d0d1c08a241454a8c9dc5dc0162c583": {
          "model_module": "@jupyter-widgets/base",
          "model_module_version": "1.2.0",
          "model_name": "LayoutModel",
          "state": {
            "_model_module": "@jupyter-widgets/base",
            "_model_module_version": "1.2.0",
            "_model_name": "LayoutModel",
            "_view_count": null,
            "_view_module": "@jupyter-widgets/base",
            "_view_module_version": "1.2.0",
            "_view_name": "LayoutView",
            "align_content": null,
            "align_items": null,
            "align_self": null,
            "border": null,
            "bottom": null,
            "display": null,
            "flex": null,
            "flex_flow": null,
            "grid_area": null,
            "grid_auto_columns": null,
            "grid_auto_flow": null,
            "grid_auto_rows": null,
            "grid_column": null,
            "grid_gap": null,
            "grid_row": null,
            "grid_template_areas": null,
            "grid_template_columns": null,
            "grid_template_rows": null,
            "height": null,
            "justify_content": null,
            "justify_items": null,
            "left": null,
            "margin": null,
            "max_height": null,
            "max_width": null,
            "min_height": null,
            "min_width": null,
            "object_fit": null,
            "object_position": null,
            "order": null,
            "overflow": null,
            "overflow_x": null,
            "overflow_y": null,
            "padding": null,
            "right": null,
            "top": null,
            "visibility": null,
            "width": null
          }
        },
        "53917fdee4c84759847e753b4e0bc967": {
          "model_module": "@jupyter-widgets/controls",
          "model_module_version": "1.5.0",
          "model_name": "HTMLModel",
          "state": {
            "_dom_classes": [],
            "_model_module": "@jupyter-widgets/controls",
            "_model_module_version": "1.5.0",
            "_model_name": "HTMLModel",
            "_view_count": null,
            "_view_module": "@jupyter-widgets/controls",
            "_view_module_version": "1.5.0",
            "_view_name": "HTMLView",
            "description": "",
            "description_tooltip": null,
            "layout": "IPY_MODEL_fc8878125bbf4d22b5b54fe4e6c8c70b",
            "placeholder": "​",
            "style": "IPY_MODEL_06f20e8f49474e26b2557a682f65eeb5",
            "value": "Downloading data: 100%"
          }
        },
        "5d4859cc6ee4483d86a49d0accec9d1d": {
          "model_module": "@jupyter-widgets/base",
          "model_module_version": "1.2.0",
          "model_name": "LayoutModel",
          "state": {
            "_model_module": "@jupyter-widgets/base",
            "_model_module_version": "1.2.0",
            "_model_name": "LayoutModel",
            "_view_count": null,
            "_view_module": "@jupyter-widgets/base",
            "_view_module_version": "1.2.0",
            "_view_name": "LayoutView",
            "align_content": null,
            "align_items": null,
            "align_self": null,
            "border": null,
            "bottom": null,
            "display": null,
            "flex": null,
            "flex_flow": null,
            "grid_area": null,
            "grid_auto_columns": null,
            "grid_auto_flow": null,
            "grid_auto_rows": null,
            "grid_column": null,
            "grid_gap": null,
            "grid_row": null,
            "grid_template_areas": null,
            "grid_template_columns": null,
            "grid_template_rows": null,
            "height": null,
            "justify_content": null,
            "justify_items": null,
            "left": null,
            "margin": null,
            "max_height": null,
            "max_width": null,
            "min_height": null,
            "min_width": null,
            "object_fit": null,
            "object_position": null,
            "order": null,
            "overflow": null,
            "overflow_x": null,
            "overflow_y": null,
            "padding": null,
            "right": null,
            "top": null,
            "visibility": null,
            "width": null
          }
        },
        "5e67ac0ee7334ff2a174b8b49057e3af": {
          "model_module": "@jupyter-widgets/controls",
          "model_module_version": "1.5.0",
          "model_name": "FloatProgressModel",
          "state": {
            "_dom_classes": [],
            "_model_module": "@jupyter-widgets/controls",
            "_model_module_version": "1.5.0",
            "_model_name": "FloatProgressModel",
            "_view_count": null,
            "_view_module": "@jupyter-widgets/controls",
            "_view_module_version": "1.5.0",
            "_view_name": "ProgressView",
            "bar_style": "success",
            "description": "",
            "description_tooltip": null,
            "layout": "IPY_MODEL_eb445ff7058d4065be64a5e11d7943b3",
            "max": 20979968,
            "min": 0,
            "orientation": "horizontal",
            "style": "IPY_MODEL_ae0e262e78974e82969de3e48c76fb08",
            "value": 20979968
          }
        },
        "5f9ebbb630dd49dcbb42c19e9a7e673a": {
          "model_module": "@jupyter-widgets/base",
          "model_module_version": "1.2.0",
          "model_name": "LayoutModel",
          "state": {
            "_model_module": "@jupyter-widgets/base",
            "_model_module_version": "1.2.0",
            "_model_name": "LayoutModel",
            "_view_count": null,
            "_view_module": "@jupyter-widgets/base",
            "_view_module_version": "1.2.0",
            "_view_name": "LayoutView",
            "align_content": null,
            "align_items": null,
            "align_self": null,
            "border": null,
            "bottom": null,
            "display": null,
            "flex": null,
            "flex_flow": null,
            "grid_area": null,
            "grid_auto_columns": null,
            "grid_auto_flow": null,
            "grid_auto_rows": null,
            "grid_column": null,
            "grid_gap": null,
            "grid_row": null,
            "grid_template_areas": null,
            "grid_template_columns": null,
            "grid_template_rows": null,
            "height": null,
            "justify_content": null,
            "justify_items": null,
            "left": null,
            "margin": null,
            "max_height": null,
            "max_width": null,
            "min_height": null,
            "min_width": null,
            "object_fit": null,
            "object_position": null,
            "order": null,
            "overflow": null,
            "overflow_x": null,
            "overflow_y": null,
            "padding": null,
            "right": null,
            "top": null,
            "visibility": null,
            "width": null
          }
        },
        "61e9bf2ff667423ea122691d9b66e80a": {
          "model_module": "@jupyter-widgets/controls",
          "model_module_version": "1.5.0",
          "model_name": "HBoxModel",
          "state": {
            "_dom_classes": [],
            "_model_module": "@jupyter-widgets/controls",
            "_model_module_version": "1.5.0",
            "_model_name": "HBoxModel",
            "_view_count": null,
            "_view_module": "@jupyter-widgets/controls",
            "_view_module_version": "1.5.0",
            "_view_name": "HBoxView",
            "box_style": "",
            "children": [
              "IPY_MODEL_076e5c7f10ba46b3b48ee8a17168db67",
              "IPY_MODEL_e291c19cebdf49849d345e45cd271f14",
              "IPY_MODEL_791695fb572449b79cc420bab29a15e5"
            ],
            "layout": "IPY_MODEL_d498a1501fd44dea97fbb1c607c0afce"
          }
        },
        "621469b5bec44fbcba311f7a0c43e078": {
          "model_module": "@jupyter-widgets/controls",
          "model_module_version": "1.5.0",
          "model_name": "DescriptionStyleModel",
          "state": {
            "_model_module": "@jupyter-widgets/controls",
            "_model_module_version": "1.5.0",
            "_model_name": "DescriptionStyleModel",
            "_view_count": null,
            "_view_module": "@jupyter-widgets/base",
            "_view_module_version": "1.2.0",
            "_view_name": "StyleView",
            "description_width": ""
          }
        },
        "621ce0e6dd8e4b51a0de31f148689f83": {
          "model_module": "@jupyter-widgets/controls",
          "model_module_version": "1.5.0",
          "model_name": "ProgressStyleModel",
          "state": {
            "_model_module": "@jupyter-widgets/controls",
            "_model_module_version": "1.5.0",
            "_model_name": "ProgressStyleModel",
            "_view_count": null,
            "_view_module": "@jupyter-widgets/base",
            "_view_module_version": "1.2.0",
            "_view_name": "StyleView",
            "bar_color": null,
            "description_width": ""
          }
        },
        "6b137c0418704969a7ab6ee4322d126e": {
          "model_module": "@jupyter-widgets/controls",
          "model_module_version": "1.5.0",
          "model_name": "HBoxModel",
          "state": {
            "_dom_classes": [],
            "_model_module": "@jupyter-widgets/controls",
            "_model_module_version": "1.5.0",
            "_model_name": "HBoxModel",
            "_view_count": null,
            "_view_module": "@jupyter-widgets/controls",
            "_view_module_version": "1.5.0",
            "_view_name": "HBoxView",
            "box_style": "",
            "children": [
              "IPY_MODEL_fa1ae8c59b17440a8970e711fd3983d4",
              "IPY_MODEL_8b0442bbc8fd403cab74dd0a45604366",
              "IPY_MODEL_278a4a56e34b4d39ae079bc07ede37c0"
            ],
            "layout": "IPY_MODEL_ca975a58dfbc432db199bfa9bbb44dbd"
          }
        },
        "76bf902f4a4a46ef9461d88cbc4adf66": {
          "model_module": "@jupyter-widgets/controls",
          "model_module_version": "1.5.0",
          "model_name": "HTMLModel",
          "state": {
            "_dom_classes": [],
            "_model_module": "@jupyter-widgets/controls",
            "_model_module_version": "1.5.0",
            "_model_name": "HTMLModel",
            "_view_count": null,
            "_view_module": "@jupyter-widgets/controls",
            "_view_module_version": "1.5.0",
            "_view_name": "HTMLView",
            "description": "",
            "description_tooltip": null,
            "layout": "IPY_MODEL_217e41e8c02946f49d8f0d8601ec39a0",
            "placeholder": "​",
            "style": "IPY_MODEL_98e319289cf04e13a396b770ba4e1229",
            "value": "Downloading readme: 100%"
          }
        },
        "780c02cf398d4b65af3536055ff51ef6": {
          "model_module": "@jupyter-widgets/controls",
          "model_module_version": "1.5.0",
          "model_name": "HTMLModel",
          "state": {
            "_dom_classes": [],
            "_model_module": "@jupyter-widgets/controls",
            "_model_module_version": "1.5.0",
            "_model_name": "HTMLModel",
            "_view_count": null,
            "_view_module": "@jupyter-widgets/controls",
            "_view_module_version": "1.5.0",
            "_view_name": "HTMLView",
            "description": "",
            "description_tooltip": null,
            "layout": "IPY_MODEL_0a6f6a043c834b8e8a5b7b5bcd1fb395",
            "placeholder": "​",
            "style": "IPY_MODEL_81ead776831341c5958435b5b9fb91a4",
            "value": " 7.81k/7.81k [00:00&lt;00:00, 148kB/s]"
          }
        },
        "791695fb572449b79cc420bab29a15e5": {
          "model_module": "@jupyter-widgets/controls",
          "model_module_version": "1.5.0",
          "model_name": "HTMLModel",
          "state": {
            "_dom_classes": [],
            "_model_module": "@jupyter-widgets/controls",
            "_model_module_version": "1.5.0",
            "_model_name": "HTMLModel",
            "_view_count": null,
            "_view_module": "@jupyter-widgets/controls",
            "_view_module_version": "1.5.0",
            "_view_name": "HTMLView",
            "description": "",
            "description_tooltip": null,
            "layout": "IPY_MODEL_d67281395b9e424da9a2bcf5a4cf2f2c",
            "placeholder": "​",
            "style": "IPY_MODEL_0ee60b264f2a46cabb1b3a31071882b5",
            "value": " 25000/25000 [00:01&lt;00:00, 26151.18 examples/s]"
          }
        },
        "7cfb585823f346c68b64e387482e965e": {
          "model_module": "@jupyter-widgets/base",
          "model_module_version": "1.2.0",
          "model_name": "LayoutModel",
          "state": {
            "_model_module": "@jupyter-widgets/base",
            "_model_module_version": "1.2.0",
            "_model_name": "LayoutModel",
            "_view_count": null,
            "_view_module": "@jupyter-widgets/base",
            "_view_module_version": "1.2.0",
            "_view_name": "LayoutView",
            "align_content": null,
            "align_items": null,
            "align_self": null,
            "border": null,
            "bottom": null,
            "display": null,
            "flex": null,
            "flex_flow": null,
            "grid_area": null,
            "grid_auto_columns": null,
            "grid_auto_flow": null,
            "grid_auto_rows": null,
            "grid_column": null,
            "grid_gap": null,
            "grid_row": null,
            "grid_template_areas": null,
            "grid_template_columns": null,
            "grid_template_rows": null,
            "height": null,
            "justify_content": null,
            "justify_items": null,
            "left": null,
            "margin": null,
            "max_height": null,
            "max_width": null,
            "min_height": null,
            "min_width": null,
            "object_fit": null,
            "object_position": null,
            "order": null,
            "overflow": null,
            "overflow_x": null,
            "overflow_y": null,
            "padding": null,
            "right": null,
            "top": null,
            "visibility": null,
            "width": null
          }
        },
        "7dce204145124d3aa61f6b98b59e9f54": {
          "model_module": "@jupyter-widgets/controls",
          "model_module_version": "1.5.0",
          "model_name": "HBoxModel",
          "state": {
            "_dom_classes": [],
            "_model_module": "@jupyter-widgets/controls",
            "_model_module_version": "1.5.0",
            "_model_name": "HBoxModel",
            "_view_count": null,
            "_view_module": "@jupyter-widgets/controls",
            "_view_module_version": "1.5.0",
            "_view_name": "HBoxView",
            "box_style": "",
            "children": [
              "IPY_MODEL_fbc53354350e40c3b06f143699eb693a",
              "IPY_MODEL_e3c66dd7e356491997265e079c085f39",
              "IPY_MODEL_39d16dff10684227bb7374a7d978f172"
            ],
            "layout": "IPY_MODEL_4d0d1c08a241454a8c9dc5dc0162c583"
          }
        },
        "81ead776831341c5958435b5b9fb91a4": {
          "model_module": "@jupyter-widgets/controls",
          "model_module_version": "1.5.0",
          "model_name": "DescriptionStyleModel",
          "state": {
            "_model_module": "@jupyter-widgets/controls",
            "_model_module_version": "1.5.0",
            "_model_name": "DescriptionStyleModel",
            "_view_count": null,
            "_view_module": "@jupyter-widgets/base",
            "_view_module_version": "1.2.0",
            "_view_name": "StyleView",
            "description_width": ""
          }
        },
        "8b0442bbc8fd403cab74dd0a45604366": {
          "model_module": "@jupyter-widgets/controls",
          "model_module_version": "1.5.0",
          "model_name": "FloatProgressModel",
          "state": {
            "_dom_classes": [],
            "_model_module": "@jupyter-widgets/controls",
            "_model_module_version": "1.5.0",
            "_model_name": "FloatProgressModel",
            "_view_count": null,
            "_view_module": "@jupyter-widgets/controls",
            "_view_module_version": "1.5.0",
            "_view_name": "ProgressView",
            "bar_style": "success",
            "description": "",
            "description_tooltip": null,
            "layout": "IPY_MODEL_fd4398791a97490e9036887f5d2a9fd3",
            "max": 41996509,
            "min": 0,
            "orientation": "horizontal",
            "style": "IPY_MODEL_e907bf5b98a24a30a561ef6dd176edcd",
            "value": 41996509
          }
        },
        "91a7c60bb97f4833a103d10f38a22278": {
          "model_module": "@jupyter-widgets/controls",
          "model_module_version": "1.5.0",
          "model_name": "ProgressStyleModel",
          "state": {
            "_model_module": "@jupyter-widgets/controls",
            "_model_module_version": "1.5.0",
            "_model_name": "ProgressStyleModel",
            "_view_count": null,
            "_view_module": "@jupyter-widgets/base",
            "_view_module_version": "1.2.0",
            "_view_name": "StyleView",
            "bar_color": null,
            "description_width": ""
          }
        },
        "93bde45d25d54239978889c315e274cc": {
          "model_module": "@jupyter-widgets/controls",
          "model_module_version": "1.5.0",
          "model_name": "HTMLModel",
          "state": {
            "_dom_classes": [],
            "_model_module": "@jupyter-widgets/controls",
            "_model_module_version": "1.5.0",
            "_model_name": "HTMLModel",
            "_view_count": null,
            "_view_module": "@jupyter-widgets/controls",
            "_view_module_version": "1.5.0",
            "_view_name": "HTMLView",
            "description": "",
            "description_tooltip": null,
            "layout": "IPY_MODEL_e77780efc9f449ac9975acffbf9a202c",
            "placeholder": "​",
            "style": "IPY_MODEL_621469b5bec44fbcba311f7a0c43e078",
            "value": " 50000/50000 [00:01&lt;00:00, 28555.34 examples/s]"
          }
        },
        "976ab2548702498c985c5407ab33f3a6": {
          "model_module": "@jupyter-widgets/controls",
          "model_module_version": "1.5.0",
          "model_name": "FloatProgressModel",
          "state": {
            "_dom_classes": [],
            "_model_module": "@jupyter-widgets/controls",
            "_model_module_version": "1.5.0",
            "_model_name": "FloatProgressModel",
            "_view_count": null,
            "_view_module": "@jupyter-widgets/controls",
            "_view_module_version": "1.5.0",
            "_view_name": "ProgressView",
            "bar_style": "success",
            "description": "",
            "description_tooltip": null,
            "layout": "IPY_MODEL_cef0d6247e174b33a2041b5863fdc80e",
            "max": 20470363,
            "min": 0,
            "orientation": "horizontal",
            "style": "IPY_MODEL_04d3369f95014699ad9dcdc2382303e6",
            "value": 20470363
          }
        },
        "98e319289cf04e13a396b770ba4e1229": {
          "model_module": "@jupyter-widgets/controls",
          "model_module_version": "1.5.0",
          "model_name": "DescriptionStyleModel",
          "state": {
            "_model_module": "@jupyter-widgets/controls",
            "_model_module_version": "1.5.0",
            "_model_name": "DescriptionStyleModel",
            "_view_count": null,
            "_view_module": "@jupyter-widgets/base",
            "_view_module_version": "1.2.0",
            "_view_name": "StyleView",
            "description_width": ""
          }
        },
        "9b44862fa504482892ca5d3a8a616dfb": {
          "model_module": "@jupyter-widgets/base",
          "model_module_version": "1.2.0",
          "model_name": "LayoutModel",
          "state": {
            "_model_module": "@jupyter-widgets/base",
            "_model_module_version": "1.2.0",
            "_model_name": "LayoutModel",
            "_view_count": null,
            "_view_module": "@jupyter-widgets/base",
            "_view_module_version": "1.2.0",
            "_view_name": "LayoutView",
            "align_content": null,
            "align_items": null,
            "align_self": null,
            "border": null,
            "bottom": null,
            "display": null,
            "flex": null,
            "flex_flow": null,
            "grid_area": null,
            "grid_auto_columns": null,
            "grid_auto_flow": null,
            "grid_auto_rows": null,
            "grid_column": null,
            "grid_gap": null,
            "grid_row": null,
            "grid_template_areas": null,
            "grid_template_columns": null,
            "grid_template_rows": null,
            "height": null,
            "justify_content": null,
            "justify_items": null,
            "left": null,
            "margin": null,
            "max_height": null,
            "max_width": null,
            "min_height": null,
            "min_width": null,
            "object_fit": null,
            "object_position": null,
            "order": null,
            "overflow": null,
            "overflow_x": null,
            "overflow_y": null,
            "padding": null,
            "right": null,
            "top": null,
            "visibility": null,
            "width": null
          }
        },
        "9cd0c018df2e40159ba60b2ea78a02bc": {
          "model_module": "@jupyter-widgets/base",
          "model_module_version": "1.2.0",
          "model_name": "LayoutModel",
          "state": {
            "_model_module": "@jupyter-widgets/base",
            "_model_module_version": "1.2.0",
            "_model_name": "LayoutModel",
            "_view_count": null,
            "_view_module": "@jupyter-widgets/base",
            "_view_module_version": "1.2.0",
            "_view_name": "LayoutView",
            "align_content": null,
            "align_items": null,
            "align_self": null,
            "border": null,
            "bottom": null,
            "display": null,
            "flex": null,
            "flex_flow": null,
            "grid_area": null,
            "grid_auto_columns": null,
            "grid_auto_flow": null,
            "grid_auto_rows": null,
            "grid_column": null,
            "grid_gap": null,
            "grid_row": null,
            "grid_template_areas": null,
            "grid_template_columns": null,
            "grid_template_rows": null,
            "height": null,
            "justify_content": null,
            "justify_items": null,
            "left": null,
            "margin": null,
            "max_height": null,
            "max_width": null,
            "min_height": null,
            "min_width": null,
            "object_fit": null,
            "object_position": null,
            "order": null,
            "overflow": null,
            "overflow_x": null,
            "overflow_y": null,
            "padding": null,
            "right": null,
            "top": null,
            "visibility": null,
            "width": null
          }
        },
        "9e2d1c69c3a346a9b4b5dd3a2a1494a7": {
          "model_module": "@jupyter-widgets/controls",
          "model_module_version": "1.5.0",
          "model_name": "ProgressStyleModel",
          "state": {
            "_model_module": "@jupyter-widgets/controls",
            "_model_module_version": "1.5.0",
            "_model_name": "ProgressStyleModel",
            "_view_count": null,
            "_view_module": "@jupyter-widgets/base",
            "_view_module_version": "1.2.0",
            "_view_name": "StyleView",
            "bar_color": null,
            "description_width": ""
          }
        },
        "a844358d21f54a8caebfdbb1539f3600": {
          "model_module": "@jupyter-widgets/base",
          "model_module_version": "1.2.0",
          "model_name": "LayoutModel",
          "state": {
            "_model_module": "@jupyter-widgets/base",
            "_model_module_version": "1.2.0",
            "_model_name": "LayoutModel",
            "_view_count": null,
            "_view_module": "@jupyter-widgets/base",
            "_view_module_version": "1.2.0",
            "_view_name": "LayoutView",
            "align_content": null,
            "align_items": null,
            "align_self": null,
            "border": null,
            "bottom": null,
            "display": null,
            "flex": null,
            "flex_flow": null,
            "grid_area": null,
            "grid_auto_columns": null,
            "grid_auto_flow": null,
            "grid_auto_rows": null,
            "grid_column": null,
            "grid_gap": null,
            "grid_row": null,
            "grid_template_areas": null,
            "grid_template_columns": null,
            "grid_template_rows": null,
            "height": null,
            "justify_content": null,
            "justify_items": null,
            "left": null,
            "margin": null,
            "max_height": null,
            "max_width": null,
            "min_height": null,
            "min_width": null,
            "object_fit": null,
            "object_position": null,
            "order": null,
            "overflow": null,
            "overflow_x": null,
            "overflow_y": null,
            "padding": null,
            "right": null,
            "top": null,
            "visibility": null,
            "width": null
          }
        },
        "ae0e262e78974e82969de3e48c76fb08": {
          "model_module": "@jupyter-widgets/controls",
          "model_module_version": "1.5.0",
          "model_name": "ProgressStyleModel",
          "state": {
            "_model_module": "@jupyter-widgets/controls",
            "_model_module_version": "1.5.0",
            "_model_name": "ProgressStyleModel",
            "_view_count": null,
            "_view_module": "@jupyter-widgets/base",
            "_view_module_version": "1.2.0",
            "_view_name": "StyleView",
            "bar_color": null,
            "description_width": ""
          }
        },
        "ae91916a3f424ab4a93db2e004fe4162": {
          "model_module": "@jupyter-widgets/controls",
          "model_module_version": "1.5.0",
          "model_name": "DescriptionStyleModel",
          "state": {
            "_model_module": "@jupyter-widgets/controls",
            "_model_module_version": "1.5.0",
            "_model_name": "DescriptionStyleModel",
            "_view_count": null,
            "_view_module": "@jupyter-widgets/base",
            "_view_module_version": "1.2.0",
            "_view_name": "StyleView",
            "description_width": ""
          }
        },
        "b3ce60d47c234f818996e8b620e21564": {
          "model_module": "@jupyter-widgets/controls",
          "model_module_version": "1.5.0",
          "model_name": "HBoxModel",
          "state": {
            "_dom_classes": [],
            "_model_module": "@jupyter-widgets/controls",
            "_model_module_version": "1.5.0",
            "_model_name": "HBoxModel",
            "_view_count": null,
            "_view_module": "@jupyter-widgets/controls",
            "_view_module_version": "1.5.0",
            "_view_name": "HBoxView",
            "box_style": "",
            "children": [
              "IPY_MODEL_4544a1fd9d664b57b9815f06c58217e5",
              "IPY_MODEL_db2b2607e6004bb9a702f20b5f261c8e",
              "IPY_MODEL_93bde45d25d54239978889c315e274cc"
            ],
            "layout": "IPY_MODEL_df010f3395014927844e8d5b59009c29"
          }
        },
        "b3fa197c27964efba6ef4f068acedca9": {
          "model_module": "@jupyter-widgets/controls",
          "model_module_version": "1.5.0",
          "model_name": "HBoxModel",
          "state": {
            "_dom_classes": [],
            "_model_module": "@jupyter-widgets/controls",
            "_model_module_version": "1.5.0",
            "_model_name": "HBoxModel",
            "_view_count": null,
            "_view_module": "@jupyter-widgets/controls",
            "_view_module_version": "1.5.0",
            "_view_name": "HBoxView",
            "box_style": "",
            "children": [
              "IPY_MODEL_76bf902f4a4a46ef9461d88cbc4adf66",
              "IPY_MODEL_ce42be1f968a4fcea7d0a0c1792b932c",
              "IPY_MODEL_780c02cf398d4b65af3536055ff51ef6"
            ],
            "layout": "IPY_MODEL_a844358d21f54a8caebfdbb1539f3600"
          }
        },
        "bc3bde5a53d04c27afad5302cfcaa1f5": {
          "model_module": "@jupyter-widgets/controls",
          "model_module_version": "1.5.0",
          "model_name": "DescriptionStyleModel",
          "state": {
            "_model_module": "@jupyter-widgets/controls",
            "_model_module_version": "1.5.0",
            "_model_name": "DescriptionStyleModel",
            "_view_count": null,
            "_view_module": "@jupyter-widgets/base",
            "_view_module_version": "1.2.0",
            "_view_name": "StyleView",
            "description_width": ""
          }
        },
        "be47ce91f649489ca814f8ed07cf7b3e": {
          "model_module": "@jupyter-widgets/controls",
          "model_module_version": "1.5.0",
          "model_name": "HTMLModel",
          "state": {
            "_dom_classes": [],
            "_model_module": "@jupyter-widgets/controls",
            "_model_module_version": "1.5.0",
            "_model_name": "HTMLModel",
            "_view_count": null,
            "_view_module": "@jupyter-widgets/controls",
            "_view_module_version": "1.5.0",
            "_view_name": "HTMLView",
            "description": "",
            "description_tooltip": null,
            "layout": "IPY_MODEL_9b44862fa504482892ca5d3a8a616dfb",
            "placeholder": "​",
            "style": "IPY_MODEL_48df76eb4edc4e58954434e0a35bc9e4",
            "value": " 20.5M/20.5M [00:00&lt;00:00, 24.5MB/s]"
          }
        },
        "be8c403adfbd4385b570623d40580ffd": {
          "model_module": "@jupyter-widgets/controls",
          "model_module_version": "1.5.0",
          "model_name": "HBoxModel",
          "state": {
            "_dom_classes": [],
            "_model_module": "@jupyter-widgets/controls",
            "_model_module_version": "1.5.0",
            "_model_name": "HBoxModel",
            "_view_count": null,
            "_view_module": "@jupyter-widgets/controls",
            "_view_module_version": "1.5.0",
            "_view_name": "HBoxView",
            "box_style": "",
            "children": [
              "IPY_MODEL_d36a324a73fe4529bc4be31b20fc54cf",
              "IPY_MODEL_5e67ac0ee7334ff2a174b8b49057e3af",
              "IPY_MODEL_f7c219c6dc3e4d13bce601fed44b4e2a"
            ],
            "layout": "IPY_MODEL_5d4859cc6ee4483d86a49d0accec9d1d"
          }
        },
        "c131374531dd4ad089f63914e8400347": {
          "model_module": "@jupyter-widgets/controls",
          "model_module_version": "1.5.0",
          "model_name": "DescriptionStyleModel",
          "state": {
            "_model_module": "@jupyter-widgets/controls",
            "_model_module_version": "1.5.0",
            "_model_name": "DescriptionStyleModel",
            "_view_count": null,
            "_view_module": "@jupyter-widgets/base",
            "_view_module_version": "1.2.0",
            "_view_name": "StyleView",
            "description_width": ""
          }
        },
        "c32e1db978ab4a87829122de9f9c5efc": {
          "model_module": "@jupyter-widgets/base",
          "model_module_version": "1.2.0",
          "model_name": "LayoutModel",
          "state": {
            "_model_module": "@jupyter-widgets/base",
            "_model_module_version": "1.2.0",
            "_model_name": "LayoutModel",
            "_view_count": null,
            "_view_module": "@jupyter-widgets/base",
            "_view_module_version": "1.2.0",
            "_view_name": "LayoutView",
            "align_content": null,
            "align_items": null,
            "align_self": null,
            "border": null,
            "bottom": null,
            "display": null,
            "flex": null,
            "flex_flow": null,
            "grid_area": null,
            "grid_auto_columns": null,
            "grid_auto_flow": null,
            "grid_auto_rows": null,
            "grid_column": null,
            "grid_gap": null,
            "grid_row": null,
            "grid_template_areas": null,
            "grid_template_columns": null,
            "grid_template_rows": null,
            "height": null,
            "justify_content": null,
            "justify_items": null,
            "left": null,
            "margin": null,
            "max_height": null,
            "max_width": null,
            "min_height": null,
            "min_width": null,
            "object_fit": null,
            "object_position": null,
            "order": null,
            "overflow": null,
            "overflow_x": null,
            "overflow_y": null,
            "padding": null,
            "right": null,
            "top": null,
            "visibility": null,
            "width": null
          }
        },
        "ca975a58dfbc432db199bfa9bbb44dbd": {
          "model_module": "@jupyter-widgets/base",
          "model_module_version": "1.2.0",
          "model_name": "LayoutModel",
          "state": {
            "_model_module": "@jupyter-widgets/base",
            "_model_module_version": "1.2.0",
            "_model_name": "LayoutModel",
            "_view_count": null,
            "_view_module": "@jupyter-widgets/base",
            "_view_module_version": "1.2.0",
            "_view_name": "LayoutView",
            "align_content": null,
            "align_items": null,
            "align_self": null,
            "border": null,
            "bottom": null,
            "display": null,
            "flex": null,
            "flex_flow": null,
            "grid_area": null,
            "grid_auto_columns": null,
            "grid_auto_flow": null,
            "grid_auto_rows": null,
            "grid_column": null,
            "grid_gap": null,
            "grid_row": null,
            "grid_template_areas": null,
            "grid_template_columns": null,
            "grid_template_rows": null,
            "height": null,
            "justify_content": null,
            "justify_items": null,
            "left": null,
            "margin": null,
            "max_height": null,
            "max_width": null,
            "min_height": null,
            "min_width": null,
            "object_fit": null,
            "object_position": null,
            "order": null,
            "overflow": null,
            "overflow_x": null,
            "overflow_y": null,
            "padding": null,
            "right": null,
            "top": null,
            "visibility": null,
            "width": null
          }
        },
        "ce42be1f968a4fcea7d0a0c1792b932c": {
          "model_module": "@jupyter-widgets/controls",
          "model_module_version": "1.5.0",
          "model_name": "FloatProgressModel",
          "state": {
            "_dom_classes": [],
            "_model_module": "@jupyter-widgets/controls",
            "_model_module_version": "1.5.0",
            "_model_name": "FloatProgressModel",
            "_view_count": null,
            "_view_module": "@jupyter-widgets/controls",
            "_view_module_version": "1.5.0",
            "_view_name": "ProgressView",
            "bar_style": "success",
            "description": "",
            "description_tooltip": null,
            "layout": "IPY_MODEL_0bfa0fcedd0c4f92b8f33a05a31e6c6c",
            "max": 7809,
            "min": 0,
            "orientation": "horizontal",
            "style": "IPY_MODEL_f1df8aac19f047dd9a80e5184ea3a635",
            "value": 7809
          }
        },
        "cef0d6247e174b33a2041b5863fdc80e": {
          "model_module": "@jupyter-widgets/base",
          "model_module_version": "1.2.0",
          "model_name": "LayoutModel",
          "state": {
            "_model_module": "@jupyter-widgets/base",
            "_model_module_version": "1.2.0",
            "_model_name": "LayoutModel",
            "_view_count": null,
            "_view_module": "@jupyter-widgets/base",
            "_view_module_version": "1.2.0",
            "_view_name": "LayoutView",
            "align_content": null,
            "align_items": null,
            "align_self": null,
            "border": null,
            "bottom": null,
            "display": null,
            "flex": null,
            "flex_flow": null,
            "grid_area": null,
            "grid_auto_columns": null,
            "grid_auto_flow": null,
            "grid_auto_rows": null,
            "grid_column": null,
            "grid_gap": null,
            "grid_row": null,
            "grid_template_areas": null,
            "grid_template_columns": null,
            "grid_template_rows": null,
            "height": null,
            "justify_content": null,
            "justify_items": null,
            "left": null,
            "margin": null,
            "max_height": null,
            "max_width": null,
            "min_height": null,
            "min_width": null,
            "object_fit": null,
            "object_position": null,
            "order": null,
            "overflow": null,
            "overflow_x": null,
            "overflow_y": null,
            "padding": null,
            "right": null,
            "top": null,
            "visibility": null,
            "width": null
          }
        },
        "d36a324a73fe4529bc4be31b20fc54cf": {
          "model_module": "@jupyter-widgets/controls",
          "model_module_version": "1.5.0",
          "model_name": "HTMLModel",
          "state": {
            "_dom_classes": [],
            "_model_module": "@jupyter-widgets/controls",
            "_model_module_version": "1.5.0",
            "_model_name": "HTMLModel",
            "_view_count": null,
            "_view_module": "@jupyter-widgets/controls",
            "_view_module_version": "1.5.0",
            "_view_name": "HTMLView",
            "description": "",
            "description_tooltip": null,
            "layout": "IPY_MODEL_d9f1787504014bd09009b15a311df224",
            "placeholder": "​",
            "style": "IPY_MODEL_332bdee2b79f430a9bbc72c8c16e763b",
            "value": "Downloading data: 100%"
          }
        },
        "d498a1501fd44dea97fbb1c607c0afce": {
          "model_module": "@jupyter-widgets/base",
          "model_module_version": "1.2.0",
          "model_name": "LayoutModel",
          "state": {
            "_model_module": "@jupyter-widgets/base",
            "_model_module_version": "1.2.0",
            "_model_name": "LayoutModel",
            "_view_count": null,
            "_view_module": "@jupyter-widgets/base",
            "_view_module_version": "1.2.0",
            "_view_name": "LayoutView",
            "align_content": null,
            "align_items": null,
            "align_self": null,
            "border": null,
            "bottom": null,
            "display": null,
            "flex": null,
            "flex_flow": null,
            "grid_area": null,
            "grid_auto_columns": null,
            "grid_auto_flow": null,
            "grid_auto_rows": null,
            "grid_column": null,
            "grid_gap": null,
            "grid_row": null,
            "grid_template_areas": null,
            "grid_template_columns": null,
            "grid_template_rows": null,
            "height": null,
            "justify_content": null,
            "justify_items": null,
            "left": null,
            "margin": null,
            "max_height": null,
            "max_width": null,
            "min_height": null,
            "min_width": null,
            "object_fit": null,
            "object_position": null,
            "order": null,
            "overflow": null,
            "overflow_x": null,
            "overflow_y": null,
            "padding": null,
            "right": null,
            "top": null,
            "visibility": null,
            "width": null
          }
        },
        "d67281395b9e424da9a2bcf5a4cf2f2c": {
          "model_module": "@jupyter-widgets/base",
          "model_module_version": "1.2.0",
          "model_name": "LayoutModel",
          "state": {
            "_model_module": "@jupyter-widgets/base",
            "_model_module_version": "1.2.0",
            "_model_name": "LayoutModel",
            "_view_count": null,
            "_view_module": "@jupyter-widgets/base",
            "_view_module_version": "1.2.0",
            "_view_name": "LayoutView",
            "align_content": null,
            "align_items": null,
            "align_self": null,
            "border": null,
            "bottom": null,
            "display": null,
            "flex": null,
            "flex_flow": null,
            "grid_area": null,
            "grid_auto_columns": null,
            "grid_auto_flow": null,
            "grid_auto_rows": null,
            "grid_column": null,
            "grid_gap": null,
            "grid_row": null,
            "grid_template_areas": null,
            "grid_template_columns": null,
            "grid_template_rows": null,
            "height": null,
            "justify_content": null,
            "justify_items": null,
            "left": null,
            "margin": null,
            "max_height": null,
            "max_width": null,
            "min_height": null,
            "min_width": null,
            "object_fit": null,
            "object_position": null,
            "order": null,
            "overflow": null,
            "overflow_x": null,
            "overflow_y": null,
            "padding": null,
            "right": null,
            "top": null,
            "visibility": null,
            "width": null
          }
        },
        "d9f1787504014bd09009b15a311df224": {
          "model_module": "@jupyter-widgets/base",
          "model_module_version": "1.2.0",
          "model_name": "LayoutModel",
          "state": {
            "_model_module": "@jupyter-widgets/base",
            "_model_module_version": "1.2.0",
            "_model_name": "LayoutModel",
            "_view_count": null,
            "_view_module": "@jupyter-widgets/base",
            "_view_module_version": "1.2.0",
            "_view_name": "LayoutView",
            "align_content": null,
            "align_items": null,
            "align_self": null,
            "border": null,
            "bottom": null,
            "display": null,
            "flex": null,
            "flex_flow": null,
            "grid_area": null,
            "grid_auto_columns": null,
            "grid_auto_flow": null,
            "grid_auto_rows": null,
            "grid_column": null,
            "grid_gap": null,
            "grid_row": null,
            "grid_template_areas": null,
            "grid_template_columns": null,
            "grid_template_rows": null,
            "height": null,
            "justify_content": null,
            "justify_items": null,
            "left": null,
            "margin": null,
            "max_height": null,
            "max_width": null,
            "min_height": null,
            "min_width": null,
            "object_fit": null,
            "object_position": null,
            "order": null,
            "overflow": null,
            "overflow_x": null,
            "overflow_y": null,
            "padding": null,
            "right": null,
            "top": null,
            "visibility": null,
            "width": null
          }
        },
        "db2b2607e6004bb9a702f20b5f261c8e": {
          "model_module": "@jupyter-widgets/controls",
          "model_module_version": "1.5.0",
          "model_name": "FloatProgressModel",
          "state": {
            "_dom_classes": [],
            "_model_module": "@jupyter-widgets/controls",
            "_model_module_version": "1.5.0",
            "_model_name": "FloatProgressModel",
            "_view_count": null,
            "_view_module": "@jupyter-widgets/controls",
            "_view_module_version": "1.5.0",
            "_view_name": "ProgressView",
            "bar_style": "success",
            "description": "",
            "description_tooltip": null,
            "layout": "IPY_MODEL_0db3133a83444127997314aefc2c914f",
            "max": 50000,
            "min": 0,
            "orientation": "horizontal",
            "style": "IPY_MODEL_91a7c60bb97f4833a103d10f38a22278",
            "value": 50000
          }
        },
        "df001df1b17245819c43e38a08151c82": {
          "model_module": "@jupyter-widgets/controls",
          "model_module_version": "1.5.0",
          "model_name": "DescriptionStyleModel",
          "state": {
            "_model_module": "@jupyter-widgets/controls",
            "_model_module_version": "1.5.0",
            "_model_name": "DescriptionStyleModel",
            "_view_count": null,
            "_view_module": "@jupyter-widgets/base",
            "_view_module_version": "1.2.0",
            "_view_name": "StyleView",
            "description_width": ""
          }
        },
        "df010f3395014927844e8d5b59009c29": {
          "model_module": "@jupyter-widgets/base",
          "model_module_version": "1.2.0",
          "model_name": "LayoutModel",
          "state": {
            "_model_module": "@jupyter-widgets/base",
            "_model_module_version": "1.2.0",
            "_model_name": "LayoutModel",
            "_view_count": null,
            "_view_module": "@jupyter-widgets/base",
            "_view_module_version": "1.2.0",
            "_view_name": "LayoutView",
            "align_content": null,
            "align_items": null,
            "align_self": null,
            "border": null,
            "bottom": null,
            "display": null,
            "flex": null,
            "flex_flow": null,
            "grid_area": null,
            "grid_auto_columns": null,
            "grid_auto_flow": null,
            "grid_auto_rows": null,
            "grid_column": null,
            "grid_gap": null,
            "grid_row": null,
            "grid_template_areas": null,
            "grid_template_columns": null,
            "grid_template_rows": null,
            "height": null,
            "justify_content": null,
            "justify_items": null,
            "left": null,
            "margin": null,
            "max_height": null,
            "max_width": null,
            "min_height": null,
            "min_width": null,
            "object_fit": null,
            "object_position": null,
            "order": null,
            "overflow": null,
            "overflow_x": null,
            "overflow_y": null,
            "padding": null,
            "right": null,
            "top": null,
            "visibility": null,
            "width": null
          }
        },
        "e291c19cebdf49849d345e45cd271f14": {
          "model_module": "@jupyter-widgets/controls",
          "model_module_version": "1.5.0",
          "model_name": "FloatProgressModel",
          "state": {
            "_dom_classes": [],
            "_model_module": "@jupyter-widgets/controls",
            "_model_module_version": "1.5.0",
            "_model_name": "FloatProgressModel",
            "_view_count": null,
            "_view_module": "@jupyter-widgets/controls",
            "_view_module_version": "1.5.0",
            "_view_name": "ProgressView",
            "bar_style": "success",
            "description": "",
            "description_tooltip": null,
            "layout": "IPY_MODEL_1b0efbfb5c7148f4ae9f18e9008d568e",
            "max": 25000,
            "min": 0,
            "orientation": "horizontal",
            "style": "IPY_MODEL_621ce0e6dd8e4b51a0de31f148689f83",
            "value": 25000
          }
        },
        "e3c66dd7e356491997265e079c085f39": {
          "model_module": "@jupyter-widgets/controls",
          "model_module_version": "1.5.0",
          "model_name": "FloatProgressModel",
          "state": {
            "_dom_classes": [],
            "_model_module": "@jupyter-widgets/controls",
            "_model_module_version": "1.5.0",
            "_model_name": "FloatProgressModel",
            "_view_count": null,
            "_view_module": "@jupyter-widgets/controls",
            "_view_module_version": "1.5.0",
            "_view_name": "ProgressView",
            "bar_style": "success",
            "description": "",
            "description_tooltip": null,
            "layout": "IPY_MODEL_47d396e194374fa6a00766390da86e23",
            "max": 25000,
            "min": 0,
            "orientation": "horizontal",
            "style": "IPY_MODEL_9e2d1c69c3a346a9b4b5dd3a2a1494a7",
            "value": 25000
          }
        },
        "e77780efc9f449ac9975acffbf9a202c": {
          "model_module": "@jupyter-widgets/base",
          "model_module_version": "1.2.0",
          "model_name": "LayoutModel",
          "state": {
            "_model_module": "@jupyter-widgets/base",
            "_model_module_version": "1.2.0",
            "_model_name": "LayoutModel",
            "_view_count": null,
            "_view_module": "@jupyter-widgets/base",
            "_view_module_version": "1.2.0",
            "_view_name": "LayoutView",
            "align_content": null,
            "align_items": null,
            "align_self": null,
            "border": null,
            "bottom": null,
            "display": null,
            "flex": null,
            "flex_flow": null,
            "grid_area": null,
            "grid_auto_columns": null,
            "grid_auto_flow": null,
            "grid_auto_rows": null,
            "grid_column": null,
            "grid_gap": null,
            "grid_row": null,
            "grid_template_areas": null,
            "grid_template_columns": null,
            "grid_template_rows": null,
            "height": null,
            "justify_content": null,
            "justify_items": null,
            "left": null,
            "margin": null,
            "max_height": null,
            "max_width": null,
            "min_height": null,
            "min_width": null,
            "object_fit": null,
            "object_position": null,
            "order": null,
            "overflow": null,
            "overflow_x": null,
            "overflow_y": null,
            "padding": null,
            "right": null,
            "top": null,
            "visibility": null,
            "width": null
          }
        },
        "e907bf5b98a24a30a561ef6dd176edcd": {
          "model_module": "@jupyter-widgets/controls",
          "model_module_version": "1.5.0",
          "model_name": "ProgressStyleModel",
          "state": {
            "_model_module": "@jupyter-widgets/controls",
            "_model_module_version": "1.5.0",
            "_model_name": "ProgressStyleModel",
            "_view_count": null,
            "_view_module": "@jupyter-widgets/base",
            "_view_module_version": "1.2.0",
            "_view_name": "StyleView",
            "bar_color": null,
            "description_width": ""
          }
        },
        "eb445ff7058d4065be64a5e11d7943b3": {
          "model_module": "@jupyter-widgets/base",
          "model_module_version": "1.2.0",
          "model_name": "LayoutModel",
          "state": {
            "_model_module": "@jupyter-widgets/base",
            "_model_module_version": "1.2.0",
            "_model_name": "LayoutModel",
            "_view_count": null,
            "_view_module": "@jupyter-widgets/base",
            "_view_module_version": "1.2.0",
            "_view_name": "LayoutView",
            "align_content": null,
            "align_items": null,
            "align_self": null,
            "border": null,
            "bottom": null,
            "display": null,
            "flex": null,
            "flex_flow": null,
            "grid_area": null,
            "grid_auto_columns": null,
            "grid_auto_flow": null,
            "grid_auto_rows": null,
            "grid_column": null,
            "grid_gap": null,
            "grid_row": null,
            "grid_template_areas": null,
            "grid_template_columns": null,
            "grid_template_rows": null,
            "height": null,
            "justify_content": null,
            "justify_items": null,
            "left": null,
            "margin": null,
            "max_height": null,
            "max_width": null,
            "min_height": null,
            "min_width": null,
            "object_fit": null,
            "object_position": null,
            "order": null,
            "overflow": null,
            "overflow_x": null,
            "overflow_y": null,
            "padding": null,
            "right": null,
            "top": null,
            "visibility": null,
            "width": null
          }
        },
        "ec19091665424e4b91ae05c1636f6c43": {
          "model_module": "@jupyter-widgets/base",
          "model_module_version": "1.2.0",
          "model_name": "LayoutModel",
          "state": {
            "_model_module": "@jupyter-widgets/base",
            "_model_module_version": "1.2.0",
            "_model_name": "LayoutModel",
            "_view_count": null,
            "_view_module": "@jupyter-widgets/base",
            "_view_module_version": "1.2.0",
            "_view_name": "LayoutView",
            "align_content": null,
            "align_items": null,
            "align_self": null,
            "border": null,
            "bottom": null,
            "display": null,
            "flex": null,
            "flex_flow": null,
            "grid_area": null,
            "grid_auto_columns": null,
            "grid_auto_flow": null,
            "grid_auto_rows": null,
            "grid_column": null,
            "grid_gap": null,
            "grid_row": null,
            "grid_template_areas": null,
            "grid_template_columns": null,
            "grid_template_rows": null,
            "height": null,
            "justify_content": null,
            "justify_items": null,
            "left": null,
            "margin": null,
            "max_height": null,
            "max_width": null,
            "min_height": null,
            "min_width": null,
            "object_fit": null,
            "object_position": null,
            "order": null,
            "overflow": null,
            "overflow_x": null,
            "overflow_y": null,
            "padding": null,
            "right": null,
            "top": null,
            "visibility": null,
            "width": null
          }
        },
        "f1df8aac19f047dd9a80e5184ea3a635": {
          "model_module": "@jupyter-widgets/controls",
          "model_module_version": "1.5.0",
          "model_name": "ProgressStyleModel",
          "state": {
            "_model_module": "@jupyter-widgets/controls",
            "_model_module_version": "1.5.0",
            "_model_name": "ProgressStyleModel",
            "_view_count": null,
            "_view_module": "@jupyter-widgets/base",
            "_view_module_version": "1.2.0",
            "_view_name": "StyleView",
            "bar_color": null,
            "description_width": ""
          }
        },
        "f7c219c6dc3e4d13bce601fed44b4e2a": {
          "model_module": "@jupyter-widgets/controls",
          "model_module_version": "1.5.0",
          "model_name": "HTMLModel",
          "state": {
            "_dom_classes": [],
            "_model_module": "@jupyter-widgets/controls",
            "_model_module_version": "1.5.0",
            "_model_name": "HTMLModel",
            "_view_count": null,
            "_view_module": "@jupyter-widgets/controls",
            "_view_module_version": "1.5.0",
            "_view_name": "HTMLView",
            "description": "",
            "description_tooltip": null,
            "layout": "IPY_MODEL_26ec5aea33a74922b52c3254aa1fe128",
            "placeholder": "​",
            "style": "IPY_MODEL_392fd58dd841424cb798a5be5c921daa",
            "value": " 21.0M/21.0M [00:01&lt;00:00, 19.4MB/s]"
          }
        },
        "fa1ae8c59b17440a8970e711fd3983d4": {
          "model_module": "@jupyter-widgets/controls",
          "model_module_version": "1.5.0",
          "model_name": "HTMLModel",
          "state": {
            "_dom_classes": [],
            "_model_module": "@jupyter-widgets/controls",
            "_model_module_version": "1.5.0",
            "_model_name": "HTMLModel",
            "_view_count": null,
            "_view_module": "@jupyter-widgets/controls",
            "_view_module_version": "1.5.0",
            "_view_name": "HTMLView",
            "description": "",
            "description_tooltip": null,
            "layout": "IPY_MODEL_11182339b68a459cb0ea952312d404eb",
            "placeholder": "​",
            "style": "IPY_MODEL_bc3bde5a53d04c27afad5302cfcaa1f5",
            "value": "Downloading data: 100%"
          }
        },
        "fbc53354350e40c3b06f143699eb693a": {
          "model_module": "@jupyter-widgets/controls",
          "model_module_version": "1.5.0",
          "model_name": "HTMLModel",
          "state": {
            "_dom_classes": [],
            "_model_module": "@jupyter-widgets/controls",
            "_model_module_version": "1.5.0",
            "_model_name": "HTMLModel",
            "_view_count": null,
            "_view_module": "@jupyter-widgets/controls",
            "_view_module_version": "1.5.0",
            "_view_name": "HTMLView",
            "description": "",
            "description_tooltip": null,
            "layout": "IPY_MODEL_9cd0c018df2e40159ba60b2ea78a02bc",
            "placeholder": "​",
            "style": "IPY_MODEL_feebcb4013bc477799038bf32dcf0963",
            "value": "Generating train split: 100%"
          }
        },
        "fc8878125bbf4d22b5b54fe4e6c8c70b": {
          "model_module": "@jupyter-widgets/base",
          "model_module_version": "1.2.0",
          "model_name": "LayoutModel",
          "state": {
            "_model_module": "@jupyter-widgets/base",
            "_model_module_version": "1.2.0",
            "_model_name": "LayoutModel",
            "_view_count": null,
            "_view_module": "@jupyter-widgets/base",
            "_view_module_version": "1.2.0",
            "_view_name": "LayoutView",
            "align_content": null,
            "align_items": null,
            "align_self": null,
            "border": null,
            "bottom": null,
            "display": null,
            "flex": null,
            "flex_flow": null,
            "grid_area": null,
            "grid_auto_columns": null,
            "grid_auto_flow": null,
            "grid_auto_rows": null,
            "grid_column": null,
            "grid_gap": null,
            "grid_row": null,
            "grid_template_areas": null,
            "grid_template_columns": null,
            "grid_template_rows": null,
            "height": null,
            "justify_content": null,
            "justify_items": null,
            "left": null,
            "margin": null,
            "max_height": null,
            "max_width": null,
            "min_height": null,
            "min_width": null,
            "object_fit": null,
            "object_position": null,
            "order": null,
            "overflow": null,
            "overflow_x": null,
            "overflow_y": null,
            "padding": null,
            "right": null,
            "top": null,
            "visibility": null,
            "width": null
          }
        },
        "fd4398791a97490e9036887f5d2a9fd3": {
          "model_module": "@jupyter-widgets/base",
          "model_module_version": "1.2.0",
          "model_name": "LayoutModel",
          "state": {
            "_model_module": "@jupyter-widgets/base",
            "_model_module_version": "1.2.0",
            "_model_name": "LayoutModel",
            "_view_count": null,
            "_view_module": "@jupyter-widgets/base",
            "_view_module_version": "1.2.0",
            "_view_name": "LayoutView",
            "align_content": null,
            "align_items": null,
            "align_self": null,
            "border": null,
            "bottom": null,
            "display": null,
            "flex": null,
            "flex_flow": null,
            "grid_area": null,
            "grid_auto_columns": null,
            "grid_auto_flow": null,
            "grid_auto_rows": null,
            "grid_column": null,
            "grid_gap": null,
            "grid_row": null,
            "grid_template_areas": null,
            "grid_template_columns": null,
            "grid_template_rows": null,
            "height": null,
            "justify_content": null,
            "justify_items": null,
            "left": null,
            "margin": null,
            "max_height": null,
            "max_width": null,
            "min_height": null,
            "min_width": null,
            "object_fit": null,
            "object_position": null,
            "order": null,
            "overflow": null,
            "overflow_x": null,
            "overflow_y": null,
            "padding": null,
            "right": null,
            "top": null,
            "visibility": null,
            "width": null
          }
        },
        "feebcb4013bc477799038bf32dcf0963": {
          "model_module": "@jupyter-widgets/controls",
          "model_module_version": "1.5.0",
          "model_name": "DescriptionStyleModel",
          "state": {
            "_model_module": "@jupyter-widgets/controls",
            "_model_module_version": "1.5.0",
            "_model_name": "DescriptionStyleModel",
            "_view_count": null,
            "_view_module": "@jupyter-widgets/base",
            "_view_module_version": "1.2.0",
            "_view_name": "StyleView",
            "description_width": ""
          }
        }
      }
    }
  },
  "nbformat": 4,
  "nbformat_minor": 0
}
