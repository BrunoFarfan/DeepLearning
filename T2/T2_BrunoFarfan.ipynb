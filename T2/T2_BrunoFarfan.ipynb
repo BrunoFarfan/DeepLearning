{
  "cells": [
    {
      "cell_type": "markdown",
      "metadata": {
        "id": "-3ni-eru2l3C"
      },
      "source": [
        "# Tarea 2: NLP, RNNs y Transformer"
      ]
    },
    {
      "cell_type": "code",
      "execution_count": 568,
      "metadata": {},
      "outputs": [],
      "source": [
        "import os\n",
        "os.environ['CUDA_LAUNCH_BLOCKING'] = \"1\""
      ]
    },
    {
      "cell_type": "code",
      "execution_count": 569,
      "metadata": {
        "id": "BjQpybihNIz6"
      },
      "outputs": [],
      "source": [
        "import re\n",
        "\n",
        "import numpy as np              # Procesamiento numérico\n",
        "import pandas as pd             # Manipulación de conjuntos de datos\n",
        "import matplotlib.pyplot as plt # Gráficos\n",
        "\n",
        "import matplotlib.ticker as ticker\n",
        "\n",
        "from tqdm import tqdm\n",
        "\n",
        "from torch.utils.data import DataLoader, Subset\n",
        "\n",
        "import torch\n",
        "import torch.nn as nn\n",
        "import torch.nn.functional as F"
      ]
    },
    {
      "cell_type": "markdown",
      "metadata": {
        "id": "ISPSA8wr3aEZ"
      },
      "source": [
        "## Carga del dataset\n",
        "\n",
        "Para la tarea se utilizará el dataset IMDB, el cual consiste en reseñas de películas con sus respectivas etiquetas de si es una reseña positiva o negativa.\n",
        "\n",
        "El dataset se encuentra disponible en HuggingFace, asi que se puede cargar directamente.\n",
        "\n",
        "**Nota:** Para descargar el dataset se tiene que instalar previamente la librería \"datasets\""
      ]
    },
    {
      "cell_type": "code",
      "execution_count": 570,
      "metadata": {
        "colab": {
          "base_uri": "https://localhost:8080/"
        },
        "id": "XEfZmGCs5Sa7",
        "outputId": "d77a324d-19e5-4a0b-ae28-4d4603850471"
      },
      "outputs": [],
      "source": [
        "# # installing datasets package\n",
        "# !pip install datasets"
      ]
    },
    {
      "cell_type": "code",
      "execution_count": 571,
      "metadata": {
        "id": "g3IFudbx5kcT"
      },
      "outputs": [],
      "source": [
        "from datasets import load_dataset"
      ]
    },
    {
      "cell_type": "code",
      "execution_count": 572,
      "metadata": {
        "colab": {
          "base_uri": "https://localhost:8080/",
          "height": 692,
          "referenced_widgets": [
            "b3fa197c27964efba6ef4f068acedca9",
            "76bf902f4a4a46ef9461d88cbc4adf66",
            "ce42be1f968a4fcea7d0a0c1792b932c",
            "780c02cf398d4b65af3536055ff51ef6",
            "a844358d21f54a8caebfdbb1539f3600",
            "217e41e8c02946f49d8f0d8601ec39a0",
            "98e319289cf04e13a396b770ba4e1229",
            "0bfa0fcedd0c4f92b8f33a05a31e6c6c",
            "f1df8aac19f047dd9a80e5184ea3a635",
            "0a6f6a043c834b8e8a5b7b5bcd1fb395",
            "81ead776831341c5958435b5b9fb91a4",
            "be8c403adfbd4385b570623d40580ffd",
            "d36a324a73fe4529bc4be31b20fc54cf",
            "5e67ac0ee7334ff2a174b8b49057e3af",
            "f7c219c6dc3e4d13bce601fed44b4e2a",
            "5d4859cc6ee4483d86a49d0accec9d1d",
            "d9f1787504014bd09009b15a311df224",
            "332bdee2b79f430a9bbc72c8c16e763b",
            "eb445ff7058d4065be64a5e11d7943b3",
            "ae0e262e78974e82969de3e48c76fb08",
            "26ec5aea33a74922b52c3254aa1fe128",
            "392fd58dd841424cb798a5be5c921daa",
            "303cc7f9f54b4c02a153016e988a1d69",
            "53917fdee4c84759847e753b4e0bc967",
            "976ab2548702498c985c5407ab33f3a6",
            "be47ce91f649489ca814f8ed07cf7b3e",
            "1f6b42ab052d4b048804e01a579a53d5",
            "fc8878125bbf4d22b5b54fe4e6c8c70b",
            "06f20e8f49474e26b2557a682f65eeb5",
            "cef0d6247e174b33a2041b5863fdc80e",
            "04d3369f95014699ad9dcdc2382303e6",
            "9b44862fa504482892ca5d3a8a616dfb",
            "48df76eb4edc4e58954434e0a35bc9e4",
            "6b137c0418704969a7ab6ee4322d126e",
            "fa1ae8c59b17440a8970e711fd3983d4",
            "8b0442bbc8fd403cab74dd0a45604366",
            "278a4a56e34b4d39ae079bc07ede37c0",
            "ca975a58dfbc432db199bfa9bbb44dbd",
            "11182339b68a459cb0ea952312d404eb",
            "bc3bde5a53d04c27afad5302cfcaa1f5",
            "fd4398791a97490e9036887f5d2a9fd3",
            "e907bf5b98a24a30a561ef6dd176edcd",
            "c32e1db978ab4a87829122de9f9c5efc",
            "df001df1b17245819c43e38a08151c82",
            "7dce204145124d3aa61f6b98b59e9f54",
            "fbc53354350e40c3b06f143699eb693a",
            "e3c66dd7e356491997265e079c085f39",
            "39d16dff10684227bb7374a7d978f172",
            "4d0d1c08a241454a8c9dc5dc0162c583",
            "9cd0c018df2e40159ba60b2ea78a02bc",
            "feebcb4013bc477799038bf32dcf0963",
            "47d396e194374fa6a00766390da86e23",
            "9e2d1c69c3a346a9b4b5dd3a2a1494a7",
            "5f9ebbb630dd49dcbb42c19e9a7e673a",
            "c131374531dd4ad089f63914e8400347",
            "61e9bf2ff667423ea122691d9b66e80a",
            "076e5c7f10ba46b3b48ee8a17168db67",
            "e291c19cebdf49849d345e45cd271f14",
            "791695fb572449b79cc420bab29a15e5",
            "d498a1501fd44dea97fbb1c607c0afce",
            "ec19091665424e4b91ae05c1636f6c43",
            "ae91916a3f424ab4a93db2e004fe4162",
            "1b0efbfb5c7148f4ae9f18e9008d568e",
            "621ce0e6dd8e4b51a0de31f148689f83",
            "d67281395b9e424da9a2bcf5a4cf2f2c",
            "0ee60b264f2a46cabb1b3a31071882b5",
            "b3ce60d47c234f818996e8b620e21564",
            "4544a1fd9d664b57b9815f06c58217e5",
            "db2b2607e6004bb9a702f20b5f261c8e",
            "93bde45d25d54239978889c315e274cc",
            "df010f3395014927844e8d5b59009c29",
            "7cfb585823f346c68b64e387482e965e",
            "3af1eb10f6614f358803b7bc21c8e112",
            "0db3133a83444127997314aefc2c914f",
            "91a7c60bb97f4833a103d10f38a22278",
            "e77780efc9f449ac9975acffbf9a202c",
            "621469b5bec44fbcba311f7a0c43e078"
          ]
        },
        "id": "lWjhI5ahd2Tz",
        "outputId": "0478629f-cb30-498a-e828-e1f8a7ed2a7e"
      },
      "outputs": [
        {
          "name": "stderr",
          "output_type": "stream",
          "text": [
            "Using the latest cached version of the dataset since stanfordnlp/imdb couldn't be found on the Hugging Face Hub\n",
            "Found the latest cached dataset configuration 'plain_text' at C:\\Users\\Bruno\\.cache\\huggingface\\datasets\\stanfordnlp___imdb\\plain_text\\0.0.0\\e6281661ce1c48d982bc483cf8a173c1bbeb5d31 (last modified on Sat May 11 19:55:56 2024).\n"
          ]
        }
      ],
      "source": [
        "dataset = load_dataset(\"stanfordnlp/imdb\")"
      ]
    },
    {
      "cell_type": "code",
      "execution_count": 573,
      "metadata": {},
      "outputs": [
        {
          "data": {
            "text/html": [
              "<div>\n",
              "<style scoped>\n",
              "    .dataframe tbody tr th:only-of-type {\n",
              "        vertical-align: middle;\n",
              "    }\n",
              "\n",
              "    .dataframe tbody tr th {\n",
              "        vertical-align: top;\n",
              "    }\n",
              "\n",
              "    .dataframe thead th {\n",
              "        text-align: right;\n",
              "    }\n",
              "</style>\n",
              "<table border=\"1\" class=\"dataframe\">\n",
              "  <thead>\n",
              "    <tr style=\"text-align: right;\">\n",
              "      <th></th>\n",
              "      <th>text</th>\n",
              "      <th>label</th>\n",
              "    </tr>\n",
              "  </thead>\n",
              "  <tbody>\n",
              "    <tr>\n",
              "      <th>0</th>\n",
              "      <td>Very good martial arts film and Jet Li is the ...</td>\n",
              "      <td>1</td>\n",
              "    </tr>\n",
              "    <tr>\n",
              "      <th>1</th>\n",
              "      <td>As an old white housewife I can still apprecia...</td>\n",
              "      <td>1</td>\n",
              "    </tr>\n",
              "    <tr>\n",
              "      <th>2</th>\n",
              "      <td>Cash (Now played by Khrystyne Haje in for Ange...</td>\n",
              "      <td>0</td>\n",
              "    </tr>\n",
              "    <tr>\n",
              "      <th>3</th>\n",
              "      <td>This is a classic example of an increasing pro...</td>\n",
              "      <td>0</td>\n",
              "    </tr>\n",
              "    <tr>\n",
              "      <th>4</th>\n",
              "      <td>Lock Up Your Daughters is one of the best high...</td>\n",
              "      <td>1</td>\n",
              "    </tr>\n",
              "  </tbody>\n",
              "</table>\n",
              "</div>"
            ],
            "text/plain": [
              "                                                text  label\n",
              "0  Very good martial arts film and Jet Li is the ...      1\n",
              "1  As an old white housewife I can still apprecia...      1\n",
              "2  Cash (Now played by Khrystyne Haje in for Ange...      0\n",
              "3  This is a classic example of an increasing pro...      0\n",
              "4  Lock Up Your Daughters is one of the best high...      1"
            ]
          },
          "execution_count": 573,
          "metadata": {},
          "output_type": "execute_result"
        }
      ],
      "source": [
        "data_train = pd.DataFrame(dataset[\"train\"])\n",
        "data_test = pd.DataFrame(dataset[\"test\"])\n",
        "\n",
        "# shuffle datasets\n",
        "\n",
        "data_train = data_train.sample(frac=1).reset_index(drop=True)\n",
        "data_test = data_test.sample(frac=1).reset_index(drop=True)\n",
        "\n",
        "data_train.head()"
      ]
    },
    {
      "cell_type": "code",
      "execution_count": 574,
      "metadata": {},
      "outputs": [],
      "source": [
        "# fraction dataset\n",
        "\n",
        "fraction = 1\n",
        "data_train = data_train.sample(frac=fraction).reset_index(drop=True)\n",
        "data_test = data_test.sample(frac=fraction).reset_index(drop=True)"
      ]
    },
    {
      "cell_type": "code",
      "execution_count": 575,
      "metadata": {},
      "outputs": [
        {
          "name": "stderr",
          "output_type": "stream",
          "text": [
            "[nltk_data] Downloading package punkt to\n",
            "[nltk_data]     C:\\Users\\Bruno\\AppData\\Roaming\\nltk_data...\n",
            "[nltk_data]   Package punkt is already up-to-date!\n",
            "C:\\Users\\Bruno\\AppData\\Local\\Temp\\ipykernel_4184\\1763248502.py:13: MarkupResemblesLocatorWarning: The input looks more like a filename than markup. You may want to open this file and pass the filehandle into Beautiful Soup.\n",
            "  text = BeautifulSoup(text, \"html.parser\").get_text(separator=\" \")\n"
          ]
        },
        {
          "data": {
            "text/html": [
              "<div>\n",
              "<style scoped>\n",
              "    .dataframe tbody tr th:only-of-type {\n",
              "        vertical-align: middle;\n",
              "    }\n",
              "\n",
              "    .dataframe tbody tr th {\n",
              "        vertical-align: top;\n",
              "    }\n",
              "\n",
              "    .dataframe thead th {\n",
              "        text-align: right;\n",
              "    }\n",
              "</style>\n",
              "<table border=\"1\" class=\"dataframe\">\n",
              "  <thead>\n",
              "    <tr style=\"text-align: right;\">\n",
              "      <th></th>\n",
              "      <th>text</th>\n",
              "      <th>label</th>\n",
              "    </tr>\n",
              "  </thead>\n",
              "  <tbody>\n",
              "    <tr>\n",
              "      <th>0</th>\n",
              "      <td>[peter, ustinov, plays, an, embezzler, who, is...</td>\n",
              "      <td>1</td>\n",
              "    </tr>\n",
              "    <tr>\n",
              "      <th>1</th>\n",
              "      <td>[i, wait, for, each, new, episode, ,, each, re...</td>\n",
              "      <td>1</td>\n",
              "    </tr>\n",
              "    <tr>\n",
              "      <th>2</th>\n",
              "      <td>[i, saw, this, movie, thinking, that, it, woul...</td>\n",
              "      <td>0</td>\n",
              "    </tr>\n",
              "    <tr>\n",
              "      <th>3</th>\n",
              "      <td>[a, scientist, and, his, girl, friend, are, ou...</td>\n",
              "      <td>0</td>\n",
              "    </tr>\n",
              "    <tr>\n",
              "      <th>4</th>\n",
              "      <td>[i, really, tried, to, like, this, movie, but,...</td>\n",
              "      <td>0</td>\n",
              "    </tr>\n",
              "  </tbody>\n",
              "</table>\n",
              "</div>"
            ],
            "text/plain": [
              "                                                text  label\n",
              "0  [peter, ustinov, plays, an, embezzler, who, is...      1\n",
              "1  [i, wait, for, each, new, episode, ,, each, re...      1\n",
              "2  [i, saw, this, movie, thinking, that, it, woul...      0\n",
              "3  [a, scientist, and, his, girl, friend, are, ou...      0\n",
              "4  [i, really, tried, to, like, this, movie, but,...      0"
            ]
          },
          "execution_count": 575,
          "metadata": {},
          "output_type": "execute_result"
        }
      ],
      "source": [
        "# tokenization\n",
        "from nltk.tokenize import word_tokenize\n",
        "import nltk\n",
        "from bs4 import BeautifulSoup\n",
        "\n",
        "nltk.download('punkt')\n",
        "\n",
        "token_data_train = data_train.copy()\n",
        "token_data_test = data_test.copy()\n",
        "\n",
        "def clean_text(text):\n",
        "    # Remove HTML tags\n",
        "    text = BeautifulSoup(text, \"html.parser\").get_text(separator=\" \")\n",
        "    # Remove special characters and multiple spaces\n",
        "    text = re.sub(r'[^a-zA-Z0-9\\s.,]', ' ', text)\n",
        "    # Replace multiple spaces with a single space\n",
        "    text = re.sub(r'\\s+', ' ', text)\n",
        "    # Convert text to lowercase\n",
        "    text = text.lower()\n",
        "    return text.strip()\n",
        "\n",
        "token_data_train[\"text\"] = token_data_train[\"text\"].apply(clean_text)\n",
        "token_data_test[\"text\"] = token_data_test[\"text\"].apply(clean_text)\n",
        "\n",
        "token_data_train[\"text\"] = token_data_train[\"text\"].apply(word_tokenize)\n",
        "token_data_test[\"text\"] = token_data_test[\"text\"].apply(word_tokenize)\n",
        "\n",
        "token_data_train.head()"
      ]
    },
    {
      "cell_type": "code",
      "execution_count": 576,
      "metadata": {},
      "outputs": [
        {
          "name": "stdout",
          "output_type": "stream",
          "text": [
            "[('the', 336136), (',', 275888), ('.', 269453), ('and', 164054), ('a', 162713), ('of', 145851), ('to', 135700), ('is', 107326), ('it', 96103), ('in', 93922), ('i', 86862), ('this', 75805), ('that', 73249), ('s', 62902), ('was', 48198), ('as', 46908), ('for', 44318), ('with', 44115), ('movie', 43934), ('but', 42513), ('film', 40097), ('you', 34226), ('on', 34187), ('t', 33595), ('not', 31708), ('he', 30076), ('are', 29436), ('his', 29352), ('have', 27728), ('be', 26949), ('one', 26752), ('all', 23933), ('at', 23500), ('they', 22855), ('by', 22538), ('an', 21556), ('who', 21429), ('so', 20576), ('from', 20487), ('like', 20269), ('there', 18762), ('her', 18405), ('or', 18005), ('just', 17762), ('about', 17365), ('out', 17100), ('has', 16790), ('if', 16747), ('what', 16152), ('can', 15773), ('some', 15736), ('good', 15113), ('more', 14246), ('she', 14184), ('when', 14163), ('very', 14060), ('up', 13284), ('time', 12700), ('no', 12685), ('even', 12637), ('my', 12488), ('would', 12434), ('which', 12048), ('story', 11978), ('only', 11908), ('really', 11736), ('see', 11470), ('their', 11383), ('had', 11289), ('we', 10840), ('were', 10785), ('me', 10775), ('well', 10639), ('than', 9920), ('much', 9752), ('...', 9728), ('get', 9307), ('bad', 9291), ('been', 9288), ('people', 9276), ('will', 9208), ('do', 9169), ('other', 9161), ('also', 9128), ('into', 9109), ('first', 9054), ('because', 9047), ('great', 9034), ('how', 8885), ('him', 8866), ('don', 8834), ('most', 8777), ('made', 8351), ('its', 8158), ('then', 8093), ('make', 8024), ('way', 8006), ('them', 7956), ('could', 7919), ('too', 7820), ('any', 7653), ('movies', 7648), ('after', 7614), ('think', 7294), ('characters', 7144), ('character', 7011), ('watch', 6959), ('two', 6904), ('films', 6881), ('seen', 6674), ('many', 6672), ('life', 6616), ('being', 6608), ('plot', 6582), ('acting', 6487), ('never', 6485), ('love', 6447), ('little', 6436), ('best', 6413), ('where', 6393), ('over', 6332), ('did', 6290), ('show', 6289), ('know', 6159), ('off', 6026), ('ever', 5989), ('man', 5973), ('does', 5934), ('here', 5753), ('better', 5730), ('your', 5685), ('end', 5641), ('still', 5619), ('these', 5411), ('say', 5393), ('scene', 5381), ('why', 5313), ('while', 5310), ('scenes', 5206), ('ve', 5182), ('go', 5151), ('such', 5134), ('something', 5070), ('should', 5039), ('m', 4969), ('through', 4968), ('back', 4964), ('real', 4736), ('those', 4693), ('watching', 4596), ('now', 4580), ('re', 4575), ('though', 4552), ('doesn', 4551), ('old', 4522), ('thing', 4520), ('years', 4508), ('actors', 4480), ('director', 4444), ('work', 4370), ('didn', 4339), ('another', 4323), ('before', 4318), ('new', 4312), ('nothing', 4283), ('funny', 4278), ('actually', 4238), ('makes', 4203), ('look', 4136), ('find', 4132), ('going', 4100), ('few', 4073), ('same', 4051), ('part', 4026), ('again', 3996), ('10', 3996), ('lot', 3976), ('every', 3975), ('world', 3829), ('cast', 3826), ('us', 3793), ('quite', 3739), ('down', 3727), ('got', 3716), ('want', 3701), ('things', 3685), ('pretty', 3663), ('young', 3657), ('seems', 3618), ('around', 3615), ('horror', 3588), ('fact', 3521), ('however', 3514), ('take', 3509), ('big', 3475), ('enough', 3453), ('long', 3447), ('thought', 3435), ('series', 3411), ('both', 3400), ('between', 3387), ('may', 3387), ('give', 3373), ('original', 3369), ('action', 3352), ('own', 3347), ('right', 3311), ('without', 3265), ('must', 3249), ('comedy', 3241), ('always', 3238), ('times', 3225), ('point', 3220), ('gets', 3204), ('family', 3198), ('isn', 3187), ('come', 3186), ('role', 3177), ('saw', 3167), ('almost', 3139), ('interesting', 3125), ('least', 3111), ('done', 3090), ('whole', 3078), ('bit', 3053), ('music', 3050), ('guy', 3034), ('d', 3026), ('script', 3024), ('far', 2976), ('making', 2961), ('anything', 2947), ('feel', 2947), ('minutes', 2943), ('last', 2929), ('might', 2919), ('since', 2902), ('ll', 2902), ('performance', 2888), ('girl', 2851), ('probably', 2840), ('woman', 2794), ('kind', 2780), ('am', 2779), ('tv', 2774), ('away', 2772), ('yet', 2751), ('day', 2743), ('rather', 2733), ('worst', 2731), ('fun', 2690), ('sure', 2677), ('hard', 2667), ('anyone', 2631), ('played', 2586), ('each', 2575), ('found', 2571), ('having', 2544), ('2', 2542), ('although', 2533), ('especially', 2528), ('our', 2509), ('course', 2505), ('believe', 2504), ('comes', 2484), ('screen', 2483), ('looking', 2480), ('trying', 2473), ('set', 2454), ('goes', 2441), ('book', 2418), ('looks', 2414), ('place', 2405), ('actor', 2385), ('different', 2382), ('put', 2380), ('money', 2360), ('ending', 2352), ('year', 2351), ('dvd', 2340), ('let', 2338), ('someone', 2335), ('true', 2331), ('maybe', 2325), ('once', 2324), ('sense', 2320), ('everything', 2318), ('wasn', 2317), ('reason', 2317), ('shows', 2304), ('three', 2294), ('worth', 2276), ('job', 2272), ('main', 2264), ('together', 2240), ('watched', 2235), ('play', 2231), ('american', 2228), ('everyone', 2218), ('plays', 2214), ('john', 2200), ('effects', 2196), ('later', 2196), ('audience', 2195), ('said', 2194), ('takes', 2192), ('instead', 2186), ('house', 2182), ('beautiful', 2177), ('seem', 2175), ('night', 2165), ('high', 2161), ('himself', 2156), ('version', 2149), ('wife', 2136), ('during', 2131), ('left', 2123), ('father', 2118), ('special', 2110), ('seeing', 2098), ('half', 2094), ('star', 2081), ('excellent', 2067), ('war', 2049), ('shot', 2047), ('idea', 2043), ('black', 2033), ('nice', 2008), ('less', 2001), ('else', 1996), ('mind', 1993), ('simply', 1965), ('read', 1964), ('second', 1962), ('fan', 1910), ('men', 1907), ('death', 1904), ('hollywood', 1904), ('help', 1896), ('poor', 1895), ('completely', 1887), ('used', 1879), ('dead', 1877), ('home', 1877), ('line', 1871), ('short', 1864), ('either', 1858), ('given', 1847), ('top', 1845), ('kids', 1838), ('budget', 1835), ('try', 1830), ('classic', 1825), ('wrong', 1818), ('women', 1816), ('performances', 1814), ('enjoy', 1812), ('need', 1807), ('boring', 1804), ('use', 1804), ('rest', 1802), ('low', 1797), ('friends', 1789), ('production', 1788), ('1', 1787), ('full', 1779), ('until', 1779), ('camera', 1777), ('along', 1774), ('truly', 1741), ('video', 1727), ('awful', 1720), ('couple', 1718), ('tell', 1718), ('next', 1712), ('remember', 1703), ('start', 1700), ('stars', 1698), ('stupid', 1697), ('sex', 1685), ('won', 1683), ('mean', 1682), ('perhaps', 1681), ('came', 1673), ('recommend', 1668), ('moments', 1661), ('school', 1658), ('episode', 1657), ('wonderful', 1653), ('small', 1646), ('understand', 1642), ('face', 1640), ('3', 1636), ('terrible', 1633), ('playing', 1632), ('getting', 1627), ('..', 1624), ('written', 1614), ('doing', 1602), ('often', 1601), ('name', 1601), ('keep', 1601), ('early', 1600), ('style', 1598), ('human', 1596), ('person', 1595), ('perfect', 1593), ('others', 1592), ('definitely', 1579), ('gives', 1577), ('itself', 1561), ('boy', 1558), ('lost', 1554), ('lines', 1550), ('live', 1549), ('become', 1542), ('head', 1539), ('dialogue', 1535), ('piece', 1535), ('finally', 1533), ('case', 1530), ('felt', 1528), ('yes', 1525), ('mother', 1524), ('supposed', 1516), ('liked', 1515), ('children', 1510), ('couldn', 1498), ('title', 1495), ('cinema', 1494), ('white', 1492), ('absolutely', 1484), ('picture', 1482), ('against', 1476), ('sort', 1471), ('worse', 1466), ('entire', 1461), ('went', 1461), ('certainly', 1460), ('waste', 1457), ('killer', 1456), ('problem', 1449), ('hope', 1446), ('evil', 1445), ('oh', 1443), ('friend', 1440), ('entertaining', 1436), ('called', 1433), ('based', 1430), ('loved', 1428), ('overall', 1423), ('several', 1420), ('fans', 1415), ('drama', 1408), ('beginning', 1399), ('lives', 1390), ('care', 1384), ('direction', 1383), ('dark', 1381), ('already', 1381), ('becomes', 1380), ('example', 1374), ('laugh', 1373), ('under', 1368), ('seemed', 1363), ('despite', 1362), ('throughout', 1360), ('turn', 1359), ('son', 1355), ('wanted', 1352), ('unfortunately', 1345), ('final', 1329), ('history', 1327), ('michael', 1326), ('fine', 1324), ('heart', 1324), ('child', 1321), ('amazing', 1318), ('sound', 1318), ('humor', 1308), ('guess', 1308), ('totally', 1306), ('lead', 1306), ('writing', 1303), ('guys', 1302), ('quality', 1300), ('close', 1293), ('art', 1289), ('wants', 1288), ('game', 1279), ('behind', 1277), ('town', 1275), ('works', 1275), ('side', 1275), ('tries', 1274), ('past', 1264), ('days', 1263), ('viewer', 1261), ('able', 1258), ('hand', 1256), ('genre', 1253), ('turns', 1251), ('flick', 1249), ('act', 1248), ('enjoyed', 1244), ('today', 1239), ('favorite', 1232), ('kill', 1232), ('car', 1225), ('starts', 1220), ('run', 1218), ('gave', 1217), ('actress', 1216), ('sometimes', 1216), ('eyes', 1214), ('soon', 1213), ('late', 1210), ('girls', 1210), ('god', 1205), ('directed', 1202), ('horrible', 1199), ('kid', 1199), ('city', 1195), ('brilliant', 1189), ('parts', 1188), ('hour', 1186), ('self', 1185), ('blood', 1181), ('themselves', 1180), ('stories', 1179), ('thinking', 1177), ('expect', 1177), ('stuff', 1174), ('obviously', 1161), ('voice', 1156), ('decent', 1154), ('4', 1154), ('writer', 1153), ('....', 1149), ('myself', 1147), ('fight', 1145), ('feeling', 1144), ('highly', 1141), ('daughter', 1135), ('slow', 1132), ('except', 1129), ('matter', 1126), ('type', 1125), ('age', 1119), ('etc', 1118), ('moment', 1111), ('heard', 1111), ('says', 1110), ('roles', 1109), ('killed', 1108), ('leave', 1107), ('anyway', 1106), ('brother', 1103), ('took', 1100), ('strong', 1097), ('police', 1097), ('b', 1090), ('violence', 1088), ('hit', 1087), ('mr.', 1083), ('stop', 1082), ('known', 1079), ('happens', 1079), ('particularly', 1079), ('involved', 1075), ('happened', 1072), ('extremely', 1068), ('obvious', 1065), ('chance', 1065), ('james', 1064), ('told', 1063), ('living', 1063), ('coming', 1062), ('alone', 1060), ('murder', 1060), ('wouldn', 1059), ('lack', 1058), ('experience', 1057), ('hero', 1052), ('including', 1050), ('attempt', 1049), ('please', 1041), ('happen', 1040), ('gore', 1038), ('wonder', 1037), ('cut', 1035), ('complete', 1034), ('crap', 1033), ('group', 1033), ('interest', 1032), ('ago', 1032), ('none', 1027), ('score', 1027), ('husband', 1026), ('david', 1024), ('5', 1023), ('hell', 1022), ('save', 1022), ('simple', 1022), ('looked', 1010), ('song', 1007), ('number', 1005), ('career', 1005), ('possible', 999), ('king', 996), ('seriously', 995), ('annoying', 995), ('exactly', 995), ('sad', 995), ('shown', 994), ('musical', 992), ('running', 992), ('serious', 989), ('yourself', 988), ('scary', 987), ('taken', 986), ('released', 986), ('whose', 986), ('english', 986), ('reality', 985), ('ends', 983), ('cinematography', 982), ('usually', 981), ('hours', 979), ('opening', 979), ('jokes', 976), ('light', 975), ('body', 971), ('across', 971), ('hilarious', 970), ('cool', 969), ('somewhat', 966), ('relationship', 966), ('usual', 965), ('happy', 964), ('started', 963), ('view', 960), ('level', 960), ('ridiculous', 959), ('change', 959), ('novel', 958), ('wish', 957), ('middle', 956), ('talking', 955), ('taking', 953), ('opinion', 952), ('documentary', 951), ('order', 950), ('ones', 949), ('finds', 948), ('power', 948), ('shots', 947), ('robert', 947), ('saying', 946), ('female', 946), ('room', 945), ('huge', 945), ('mostly', 941), ('episodes', 939), ('country', 933), ('talent', 932), ('important', 931), ('five', 931), ('rating', 929), ('modern', 929), ('earth', 928), ('major', 927), ('strange', 926), ('turned', 925), ('word', 924), ('call', 923), ('jack', 919), ('single', 918), ('apparently', 917), ('disappointed', 912), ('four', 911), ('events', 911), ('due', 907), ('songs', 907), ('basically', 904), ('attention', 902), ('knows', 901), ('television', 901), ('comic', 901), ('non', 899), ('supporting', 899), ('future', 898), ('clearly', 898), ('knew', 897), ('british', 897), ('ok', 896), ('fast', 895), ('class', 893), ('paul', 893), ('easily', 892), ('thriller', 890), ('cheap', 890), ('silly', 888), ('problems', 887), ('aren', 886), ('words', 885), ('miss', 881), ('tells', 880), ('local', 877), ('rock', 875), ('entertainment', 874), ('sequence', 873), ('bring', 868), ('beyond', 867), ('straight', 863), ('george', 861), ('oscar', 861), ('romantic', 856), ('upon', 855), ('moving', 854), ('whether', 853), ('sets', 852), ('similar', 852), ('falls', 851), ('review', 850), ('mystery', 850), ('eye', 850), ('lady', 848), ('predictable', 847), ('richard', 846), ('talk', 842), ('appears', 840), ('clich', 839), ('giving', 839), ('needs', 839), ('enjoyable', 836), ('within', 831), ('theater', 828), ('ten', 828), ('message', 828), ('animation', 826), ('near', 823), ('team', 823), ('red', 819), ('above', 817), ('sister', 817), ('sequel', 816), ('theme', 816), ('dull', 815), ('nearly', 815), ('stand', 815), ('haven', 813), ('bunch', 812), ('lee', 812), ('herself', 811), ('mention', 811), ('points', 810), ('feels', 810), ('york', 810), ('add', 808), ('release', 806), ('ways', 802), ('surprised', 802), ('easy', 802), ('storyline', 801), ('named', 800), ('using', 800), ('lots', 797), ('begins', 796), ('working', 794), ('die', 794), ('fantastic', 794), ('actual', 792), ('minute', 789), ('feature', 789), ('effort', 789), ('french', 789), ('hate', 789), ('tale', 787), ('follow', 787), ('clear', 786), ('viewers', 785), ('stay', 785), ('tom', 784), ('elements', 782), ('among', 782), ('comments', 779), ('typical', 777), ('showing', 775), ('editing', 774), ('tried', 772), ('famous', 771), ('season', 770), ('fall', 770), ('avoid', 769), ('dialog', 769), ('peter', 768), ('sorry', 768), ('check', 767), ('certain', 765), ('general', 765), ('form', 764), ('period', 763), ('buy', 763), ('filmed', 763), ('weak', 761), ('soundtrack', 761), ('o', 760), ('material', 760), ('parents', 760), ('means', 760), ('figure', 758), ('somehow', 757), ('crime', 756), ('doubt', 756), ('realistic', 756), ('space', 755), ('disney', 754), ('gone', 752), ('kept', 750), ('leads', 750), ('viewing', 749), ('greatest', 745), ('8', 745), ('dance', 744), ('lame', 740), ('zombie', 740), ('third', 739), ('suspense', 738), ('imagine', 737), ('brought', 736), ('atmosphere', 734), ('hear', 733), ('particular', 730), ('de', 729), ('sequences', 727), ('7', 727), ('america', 727), ('whatever', 727), ('move', 726), ('learn', 720), ('wait', 719), ('rent', 719), ('eventually', 718), ('note', 718), ('forget', 718), ('indeed', 717), ('reviews', 716), ('average', 716), ('japanese', 715), ('okay', 714), ('poorly', 714), ('sexual', 714), ('surprise', 714), ('stage', 713), ('deal', 713), ('premise', 712), ('nature', 711), ('believable', 710), ('sit', 709), ('possibly', 709), ('subject', 708), ('decided', 705), ('expected', 703), ('truth', 698), ('became', 697), ('free', 697), ('street', 697), ('difficult', 695), ('screenplay', 694), ('romance', 693), ('killing', 693), ('baby', 690), ('9', 688), ('joe', 688), ('hot', 687), ('dog', 687), ('nor', 685), ('reading', 684), ('leaves', 683), ('needed', 683), ('question', 682), ('20', 679), ('begin', 678), ('meets', 677), ('directors', 675), ('society', 675), ('unless', 674), ('credits', 673), ('shame', 671), ('write', 670), ('situation', 669), ('meet', 668), ('otherwise', 667), ('dramatic', 667), ('superb', 666), ('memorable', 666), ('male', 666), ('open', 664), ('weird', 663), ('earlier', 662), ('imdb', 662), ('badly', 661), ('dream', 661), ('fi', 660), ('writers', 660), ('forced', 660), ('acted', 659), ('sci', 658), ('emotional', 657), ('older', 656), ('jane', 656), ('crazy', 656), ('laughs', 655), ('realize', 654), ('monster', 654), ('beauty', 654), ('deep', 653), ('comment', 653), ('forward', 651), ('interested', 651), ('footage', 651), ('fantasy', 647), ('ask', 647), ('whom', 644), ('mark', 644), ('sounds', 643), ('keeps', 642), ('features', 642), ('plus', 642), ('directing', 642), ('development', 641), ('mess', 639), ('air', 639), ('quickly', 638), ('creepy', 638), ('girlfriend', 637), ('towards', 637), ('box', 636), ('perfectly', 635), ('setting', 634), ('worked', 633), ('cheesy', 633), ('effect', 632), ('result', 632), ('bill', 632), ('unique', 632), ('total', 632), ('hands', 631), ('brings', 630), ('previous', 630), ('plenty', 630), ('fire', 630), ('personal', 629), ('incredibly', 628), ('rate', 627), ('doctor', 625), ('return', 624), ('joke', 624), ('apart', 623), ('christmas', 623), ('leading', 622), ('business', 621), ('admit', 621), ('casting', 621), ('background', 620), ('appear', 620), ('powerful', 620), ('cop', 620), ('boys', 618), ('ben', 616), ('present', 616), ('meant', 615), ('telling', 614), ('battle', 614), ('era', 613), ('hardly', 613), ('break', 612), ('create', 612), ('potential', 611), ('masterpiece', 611), ('pay', 610), ('political', 609), ('gay', 609), ('secret', 608), ('dumb', 607), ('twist', 606), ('fighting', 605), ('various', 604), ('fails', 604), ('portrayed', 601), ('villain', 600), ('inside', 600), ('western', 597), ('outside', 597), ('ideas', 595), ('front', 595), ('s.', 595), ('nudity', 595), ('missing', 594), ('reasons', 594), ('william', 594), ('match', 594), ('30', 592), ('80', 590), ('deserves', 589), ('expecting', 588), ('fairly', 587), ('rich', 586), ('married', 586), ('list', 584), ('talented', 584), ('manages', 583), ('attempts', 583), ('success', 583), ('spoilers', 583), ('odd', 582), ('social', 582), ('remake', 582), ('scott', 582), ('unlike', 582), ('recently', 579), ('cute', 579), ('flat', 578), ('copy', 576), ('further', 575), ('wrote', 574), ('cold', 571), ('sweet', 571), ('agree', 571), ('crew', 570), ('sadly', 570), ('dr.', 570), ('plain', 568), ('office', 567), ('t.', 566), ('co', 566), ('filmmakers', 566), ('mary', 566), ('following', 566), ('missed', 564), ('pure', 562), ('public', 562), ('mentioned', 562), ('gun', 561), ('incredible', 559), ('wasted', 558), ('large', 556), ('ended', 556), ('caught', 555), ('produced', 555), ('brothers', 554), ('la', 551), ('revenge', 551), ('filled', 551), ('members', 551), ('pace', 550), ('party', 549), ('popular', 549), ('science', 549), ('waiting', 549), ('water', 547), ('cat', 546), ('decides', 546), ('considering', 545), ('hold', 545), ('cartoon', 544), ('spirit', 543), ('created', 541), ('tension', 541), ('slightly', 541), ('uses', 540), ('familiar', 538), ('neither', 537), ('sees', 537), ('escape', 537), ('spent', 537), ('suddenly', 536), ('convincing', 536), ('compared', 535), ('fear', 535), ('cause', 534), ('intelligent', 534), ('island', 534), ('clever', 533), ('entirely', 532), ('dancing', 531), ('state', 531), ('language', 531), ('moves', 530), ('credit', 530), ('kills', 530), ('bored', 530), ('band', 528), ('choice', 528), ('laughing', 526), ('cover', 526), ('italian', 526), ('value', 525), ('century', 525), ('successful', 524), ('visual', 523), ('violent', 523), ('tony', 523), ('trouble', 522), ('90', 522), ('ultimately', 521), ('speak', 520), ('singing', 520), ('positive', 518), ('basic', 518), ('concept', 518), ('studio', 517), ('store', 517), ('zombies', 516), ('german', 516), ('animated', 516), ('biggest', 515), ('company', 515), ('force', 513), ('runs', 513), ('consider', 513), ('died', 512), ('walk', 511), ('effective', 511), ('control', 511), ('exciting', 511), ('depth', 511), ('recent', 511), ('adult', 511), ('former', 510), ('amusing', 509), ('common', 509), ('portrayal', 508), ('law', 508), ('spend', 508), ('rated', 507), ('appreciate', 507), ('adventure', 507), ('focus', 507), ('books', 505), ('hair', 505), ('trash', 504), ('younger', 503), ('solid', 503), ('pointless', 503), ('planet', 502), ('impressive', 500), ('bizarre', 499), ('mad', 499), ('follows', 499), ('tone', 498), ('super', 498), ('respect', 498), ('college', 497), ('amount', 495), ('van', 495), ('impossible', 494), ('prison', 492), ('trip', 492), ('culture', 492), ('15', 492), ('project', 492), ('heavy', 492), ('weren', 491), ('smith', 490), ('producers', 490), ('slasher', 490), ('win', 490), ('dad', 490), ('jim', 490), ('showed', 489), ('conclusion', 489), ('makers', 489), ('fit', 489), ('chemistry', 488), ('starring', 487), ('sick', 487), ('recommended', 486), ('situations', 485), ('steve', 484), ('changed', 484), ('awesome', 484), ('considered', 484), ('accent', 484), ('ghost', 484), ('barely', 483), ('disturbing', 483), ('somewhere', 483), ('post', 482), ('decide', 482), ('leaving', 482), ('cult', 482), ('honest', 481), ('failed', 480), ('anti', 480), ('tough', 479), ('questions', 479), ('shooting', 478), ('west', 476), ('fiction', 475), ('longer', 475), ('brain', 475), ('audiences', 475), ('aside', 473), ('fake', 472), ('meaning', 472), ('images', 471), ('south', 471), ('touch', 471), ('charming', 470), ('thanks', 470), ('computer', 468), ('literally', 468), ('magic', 468), ('stick', 467), ('generally', 467), ('values', 466), ('surprisingly', 466), ('ex', 466), ('likes', 466), ('stewart', 465), ('pathetic', 465), ('involving', 465), ('alive', 463), ('natural', 463), ('grade', 462), ('military', 462), ('camp', 462), ('immediately', 461), ('yeah', 461), ('shoot', 460), ('detective', 460), ('garbage', 459), ('harry', 459), ('week', 459), ('london', 459), ('bought', 457), ('normal', 456), ('frank', 456), ('fair', 455), ('aspect', 454), ('utterly', 454), ('pictures', 454), ('honestly', 454), ('adaptation', 454), ('ability', 454), ('army', 454), ('genius', 453), ('master', 453), ('sam', 453), ('pick', 452), ('sitting', 451), ('nobody', 451), ('motion', 450), ('appearance', 450), ('explain', 449), ('glad', 449), ('standard', 449), ('drive', 448), ('appeal', 447), ('catch', 447), ('knowing', 447), ('attack', 447), ('sexy', 444), ('personally', 443), ('nowhere', 442), ('rare', 442), ('humour', 441), ('edge', 441), ('added', 440), ('remains', 439), ('comedies', 439), ('channel', 439), ('charlie', 439), ('silent', 439), ('walking', 438), ('chase', 438), ('twists', 437), ('journey', 437), ('thinks', 437), ('taste', 437), ('purpose', 437), ('naked', 437), ('dreams', 436), ('na', 436), ('date', 436), ('loud', 436), ('touching', 435), ('subtle', 435), ('beautifully', 435), ('club', 434), ('thank', 434), ('producer', 434), ('road', 433), ('unbelievable', 433), ('terms', 433), ('wow', 432), ('wild', 432), ('equally', 432), ('batman', 432), ('mood', 431), ('door', 431), ('blue', 431), ('terrific', 430), ('drawn', 430), ('kelly', 428), ('70', 427), ('mistake', 426), ('key', 426), ('fully', 426), ('managed', 425), ('complex', 425), ('lovely', 424), ('narrative', 424), ('pieces', 424), ('bottom', 423), ('government', 423), ('laughable', 423), ('likely', 422), ('climax', 422), ('soldiers', 422), ('themes', 422), ('plan', 421), ('gang', 421), ('vampire', 421), ('pass', 420), ('soul', 420), ('disappointing', 420), ('chris', 420), ('50', 419), ('excuse', 419), ('issues', 419), ('100', 419), ('noir', 419), ('award', 418), ('costumes', 417), ('surely', 417), ('thus', 417), ('justice', 417), ('outstanding', 416), ('innocent', 416), ('constantly', 416), ('boss', 416), ('painful', 415), ('6', 415), ('marriage', 415), ('victim', 415), ('christopher', 414), ('presented', 414), ('ride', 413), ('cinematic', 412), ('slowly', 412), ('finish', 411), ('central', 411), ('contains', 411), ('spoiler', 411), ('train', 411), ('details', 410), ('places', 410), ('everybody', 410), ('hey', 410), ('animals', 410), ('manner', 409), ('presence', 409), ('thrown', 409), ('historical', 408), ('henry', 407), ('stunning', 407), ('hoping', 407), ('allen', 406), ('besides', 406), ('smart', 406), ('charm', 406), ('jones', 406), ('church', 406), ('charles', 406), ('indian', 406), ('mysterious', 405), ('impression', 405), ('paris', 405), ('photography', 405), ('scenery', 405), ('speaking', 405), ('expectations', 404), ('loves', 403), ('drug', 403), ('green', 403), ('disappointment', 403), ('color', 402), ('throw', 402), ('numbers', 402), ('developed', 402), ('exception', 401), ('ahead', 400), ('minor', 400), ('double', 400), ('festival', 399), ('cry', 399), ('track', 399), ('boyfriend', 398), ('critics', 398), ('stands', 398), ('woods', 398), ('suppose', 397), ('aspects', 397), ('f', 396), ('opera', 396), ('emotion', 396), ('sent', 395), ('brief', 395), ('bother', 395), ('lover', 395), ('acts', 394), ('hotel', 394), ('serial', 394), ('opportunity', 393), ('support', 393), ('feelings', 393), ('filming', 393), ('mainly', 393), ('million', 392), ('forever', 392), ('student', 392), ('bruce', 392), ('fascinating', 391), ('names', 391), ('element', 391), ('building', 391), ('held', 391), ('page', 390), ('intended', 388), ('available', 388), ('emotions', 387), ('twice', 387), ('bar', 386), ('changes', 386), ('six', 386), ('shock', 385), ('bed', 384), ('compelling', 384), ('dies', 383), ('happening', 383), ('born', 383), ('falling', 383), ('zero', 383), ('hurt', 382), ('lived', 382), ('puts', 380), ('likable', 380), ('jerry', 380), ('tired', 379), ('giant', 379), ('pain', 379), ('spot', 378), ('image', 378), ('offer', 378), ('40', 377), ('confused', 377), ('trailer', 377), ('suggest', 377), ('ray', 376), ('hasn', 376), ('include', 376), ('fresh', 375), ('al', 375), ('difference', 375), ('victims', 375), ('adults', 374), ('summer', 374), ('step', 373), ('alien', 373), ('impact', 373), ('followed', 373), ('christian', 373), ('event', 373), ('arthur', 372), ('billy', 372), ('fellow', 372), ('park', 371), ('approach', 371), ('sub', 371), ('appeared', 370), ('system', 369), ('actresses', 369), ('putting', 369), ('gorgeous', 369), ('mix', 368), ('confusing', 367), ('martin', 367), ('share', 367), ('wall', 367), ('holes', 367), ('mom', 367), ('laughed', 367), ('direct', 366), ('moral', 366), ('murders', 366), ('mediocre', 366), ('lacks', 365), ('porn', 365), ('ii', 365), ('rape', 365), ('americans', 364), ('race', 364), ('notice', 364), ('supposedly', 364), ('content', 364), ('flaws', 363), ('latter', 362), ('worthy', 362), ('land', 362), ('students', 361), ('tragedy', 361), ('random', 361), ('creative', 361), ('relationships', 361), ('lighting', 361), ('agent', 361), ('thin', 360), ('answer', 360), ('helps', 360), ('funniest', 359), ('wise', 359), ('wondering', 359), ('proves', 359), ('seven', 359), ('gem', 359), ('merely', 359), ('finding', 358), ('paid', 358), ('flicks', 357), ('damn', 357), ('flying', 357), ('hospital', 356), ('imagination', 356), ('childhood', 356), ('standards', 355), ('delivers', 355), ('forgotten', 354), ('ugly', 354), ('beat', 354), ('attractive', 353), ('ground', 353), ('davis', 353), ('stone', 353), ('jean', 352), ('count', 352), ('absolute', 352), ('negative', 351), ('brian', 350), ('impressed', 350), ('extreme', 350), ('provides', 350), ('stuck', 350), ('thoroughly', 350), ('alan', 350), ('seconds', 349), ('seemingly', 348), ('tragic', 348), ('inspired', 348), ('lord', 348), ('winning', 348), ('addition', 347), ('becoming', 347), ('reminded', 347), ('soldier', 347), ('queen', 347), ('fell', 346), ('offers', 346), ('ship', 346), ('industry', 345), ('folks', 345), ('thats', 345), ('affair', 345), ('detail', 345), ('lose', 345), ('faces', 345), ('turning', 344), ('intense', 344), ('williams', 344), ('afraid', 343), ('ed', 342), ('collection', 342), ('pull', 342), ('hidden', 342), ('fashion', 342), ('nasty', 342), ('animal', 342), ('design', 341), ('teen', 340), ('quick', 339), ('games', 339), ('shouldn', 339), ('artistic', 339), ('scientist', 338), ('creature', 338), ('bond', 338), ('personality', 338), ('shocking', 338), ('castle', 338), ('jackson', 338), ('area', 337), ('rented', 337), ('apartment', 337), ('roll', 337), ('adds', 337), ('chinese', 337), ('length', 336), ('location', 336), ('angry', 336), ('states', 336), ('dirty', 336), ('ready', 336), ('uncle', 335), ('information', 335), ('professional', 335), ('c', 335), ('fox', 334), ('therefore', 334), ('filmmaker', 334), ('lets', 332), ('mouth', 332), ('anymore', 332), ('wars', 332), ('food', 332), ('news', 331), ('wooden', 330), ('describe', 330), ('led', 330), ('picked', 330), ('danny', 330), ('artist', 330), ('favourite', 329), ('jason', 329), ('deliver', 329), ('asks', 329), ('martial', 328), ('onto', 328), ('grace', 328), ('stephen', 327), ('member', 327), ('clothes', 327), ('redeeming', 326), ('wearing', 326), ('carry', 326), ('intelligence', 326), ('listen', 326), ('struggle', 326), ('criminal', 325), ('drugs', 325), ('11', 325), ('captain', 325), ('allowed', 325), ('cgi', 325), ('teenage', 325), ('cross', 324), ('helped', 324), ('desperate', 324), ('necessary', 324), ('compare', 324), ('rip', 324), ('wonderfully', 323), ('machine', 323), ('sight', 323), ('sleep', 323), ('moved', 322), ('plane', 322), ('witch', 322), ('tears', 322), ('phone', 321), ('includes', 321), ('deeply', 321), ('sky', 321), ('treat', 320), ('willing', 320), ('whatsoever', 320), ('trust', 320), ('theatre', 319), ('mr', 319), ('humans', 319), ('station', 318), ('andy', 318), ('heaven', 318), ('began', 318), ('heroes', 318), ('nightmare', 318), ('commentary', 318), ('mid', 318), ('epic', 318), ('build', 318), ('energy', 317), ('realized', 317), ('pop', 317), ('powers', 315), ('loving', 315), ('accident', 315), ('extra', 315), ('comedic', 315), ('rarely', 315), ('warning', 315), ('disaster', 314), ('.....', 314), ('dying', 314), ('independent', 314), ('teacher', 314), ('devil', 314), ('douglas', 314), ('taylor', 314), ('suicide', 313), ('superior', 312), ('introduced', 312), ('actions', 311), ('engaging', 311), ('ring', 311), ('suit', 311), ('johnny', 310), ('religious', 310), ('unusual', 310), ('x', 310), ('mental', 309), ('arts', 309), ('eddie', 309), ('pre', 309), ('apparent', 309), ('pleasure', 309), ('anybody', 309), ('tim', 308), ('allow', 308), ('keaton', 308), ('remarkable', 308), ('superman', 308), ('grand', 307), ('continue', 307), ('physical', 307), ('watchable', 306), ('returns', 306), ('absurd', 306), ('10.', 305), ('technical', 305), ('skip', 305), ('memory', 305), ('unnecessary', 305), ('wedding', 305), ('media', 305), ('england', 304), ('provide', 304), ('normally', 304), ('hitler', 304), ('anywhere', 304), ('vision', 304), ('ford', 304), ('desire', 304), ('limited', 303), ('fred', 303), ('adam', 303), ('brutal', 302), ('scared', 302), ('russian', 302), ('finished', 302), ('surprising', 302), ('cops', 301), ('suspect', 301), ('80s', 301), ('intriguing', 301), ('bloody', 301), ('joan', 301), ('holds', 300), ('process', 300), ('pilot', 300), ('exist', 300), ('player', 300), ('jump', 300), ('accept', 300), ('torture', 300), ('12', 300), ('kate', 300), ('prince', 299), ('nicely', 299), ('paced', 299), ('search', 298), ('twenty', 298), ('wanting', 298), ('legend', 298), ('horse', 298), ('70s', 298), ('somebody', 298), ('jeff', 297), ('academy', 297), ('reminds', 297), ('faith', 297), ('soft', 297), ('pacing', 296), ('r', 296), ('gold', 296), ('growing', 296), ('shakespeare', 296), ('moon', 296), ('passion', 296), ('dick', 295), ('hated', 295), ('according', 295), ('bits', 295), ('asked', 294), ('price', 294), ('cage', 294), ('e', 294), ('ladies', 294), ('dressed', 293), ('joy', 293), ('nick', 293), ('japan', 292), ('ms.', 292), ('heads', 291), ('constant', 291), ('dangerous', 291), ('60', 291), ('heroine', 291), ('drunk', 290), ('sat', 290), ('originally', 290), ('smile', 290), ('deserved', 290), ('blame', 290), ('explanation', 290), ('ball', 290), ('tarzan', 290), ('higher', 289), ('community', 289), ('freddy', 289), ('instance', 289), ('field', 289), ('lovers', 289), ('lies', 289), ('river', 289), ('candy', 289), ('jesus', 289), ('kevin', 288), ('ann', 288), ('capture', 287), ('deserve', 287), ('mixed', 287), ('issue', 287), ('met', 287), ('gotten', 286), ('n', 286), ('players', 286), ('unknown', 286), ('fail', 285), ('soap', 285), ('toward', 285), ('nonsense', 285), ('explained', 285), ('plots', 285), ('knowledge', 284), ('radio', 284), ('fights', 284), ('creating', 284), ('quiet', 284), ('record', 284), ('european', 284), ('accurate', 283), ('starting', 283), ('fu', 283), ('vhs', 283), ('humanity', 282), ('friendship', 282), ('whilst', 282), ('ice', 282), ('guns', 281), ('spanish', 281), ('hadn', 281), ('mike', 281), ('wide', 281), ('floor', 280), ('sucks', 280), ('officer', 280), ('judge', 279), ('realism', 279), ('cable', 279), ('cars', 279), ('loose', 278), ('finest', 278), ('memories', 278), ('lynch', 278), ('broken', 278), ('aware', 277), ('lacking', 277), ('featuring', 277), ('partner', 277), ('responsible', 276), ('gene', 276), ('saved', 276), ('keeping', 276), ('monsters', 276), ('santa', 276), ('lewis', 276), ('eating', 276), ('mine', 275), ('empty', 275), ('author', 275), ('understanding', 275), ('villains', 275), ('treated', 275), ('kinda', 275), ('eat', 275), ('morgan', 275), ('below', 275), ('fat', 275), ('rubbish', 274), ('ill', 274), ('youth', 274), ('cuts', 274), ('sign', 274), ('saving', 274), ('wind', 274), ('results', 274), ('terribly', 274), ('pulled', 274), ('jimmy', 274), ('hopes', 273), ('witty', 273), ('delightful', 273), ('bland', 273), ('forces', 272), ('included', 272), ('hits', 272), ('manage', 272), ('washington', 272), ('months', 272), ('singer', 272), ('conflict', 272), ('werewolf', 272), ('bright', 272), ('wood', 271), ('simon', 271), ('loss', 271), ('sing', 271), ('screaming', 271), ('noticed', 271), ('brown', 271), ('driving', 270), ('private', 270), ('blonde', 270), ('numerous', 270), ('fate', 270), ('whenever', 270), ('streets', 269), ('gary', 269), ('kong', 269), ('pretentious', 269), ('bigger', 268), ('talents', 268), ('ordinary', 268), ('concerned', 268), ('dealing', 268), ('discovered', 267), ('dated', 267), ('eric', 267), ('skills', 267), ('scream', 267), ('naturally', 267), ('reviewers', 267), ('discover', 266), ('ass', 266), ('regular', 266), ('psychological', 266), ('opposite', 266), ('ups', 266), ('finale', 266), ('morning', 266), ('international', 266), ('bob', 265), ('mission', 265), ('prove', 265), ('kick', 265), ('perspective', 265), ('albert', 265), ('unfunny', 265), ('portray', 264), ('bank', 264), ('sea', 263), ('loses', 263), ('sean', 263), ('visit', 263), ('locations', 263), ('shop', 262), ('edited', 262), ('received', 262), ('curious', 262), ('humorous', 262), ('gags', 262), ('owner', 262), ('grant', 262), ('dan', 261), ('continues', 261), ('captured', 261), ('magnificent', 261), ('luck', 261), ('behavior', 261), ('anthony', 260), ('golden', 260), ('calls', 260), ('blind', 260), ('murdered', 260), ('context', 260), ('howard', 260), ('miles', 260), ('visually', 259), ('satire', 259), ('advice', 259), ('opens', 259), ('trek', 259), ('survive', 259), ('cameo', 259), ('shallow', 259), ('gangster', 259), ('breaks', 259), ('core', 259), ('corny', 258), ('connection', 258), ('remembered', 258), ('luke', 258), ('existence', 258), ('traditional', 258), ('deals', 258), ('buddy', 258), ('jennifer', 258), ('essentially', 257), ('foot', 257), ('revealed', 257), ('debut', 257), ('current', 257), ('lucky', 257), ('frankly', 256), ('lesson', 256), ('harris', 256), ('identity', 256), ('genuine', 256), ('african', 255), ('national', 255), ('dimensional', 255), ('decade', 255), ('occasionally', 255), ('segment', 255), ('stock', 255), ('window', 254), ('efforts', 254), ('village', 254), ('program', 253), ('anne', 253), ('learned', 253), ('versions', 253), ('grown', 252), ('visuals', 252), ('boat', 252), ('develop', 252), ('marie', 252), ('rob', 252), ('allows', 252), ('thomas', 251), ('formula', 251), ('references', 251), ('genuinely', 251), ('president', 251), ('welles', 251), ('grew', 250), ('desert', 250), ('favor', 250), ('suffering', 250), ('unexpected', 250), ('board', 250), ('study', 250), ('sucked', 250), ('anna', 250), ('overly', 249), ('proved', 249), ('logic', 249), ('reaction', 249), ('standing', 249), ('ages', 249), ('comparison', 249), ('vampires', 249), ('brilliantly', 248), ('leader', 248), ('ultimate', 248), ('speed', 248), ('sudden', 248), ('awkward', 248), ('robin', 248), ('lake', 248), ('spectacular', 248), ('reach', 247), ('unable', 247), ('sheer', 247), ('types', 247), ('steal', 247), ('bear', 247), ('flesh', 247), ('psycho', 247), ('stereotypes', 246), ('frame', 246), ('travel', 246), ('passed', 246), ('failure', 246), ('parody', 246), ('meanwhile', 245), ('drew', 245), ('strength', 245), ('killers', 245), ('awards', 245), ('sake', 245), ('technology', 245), ('sinatra', 245), ('creates', 245), ('evening', 245), ('round', 244), ('hill', 244), ('rose', 244), ('halloween', 244), ('gordon', 244), ('bet', 244), ('laughter', 244), ('site', 243), ('kung', 243), ('delivered', 243), ('sheriff', 243), ('broadway', 243), ('clean', 243), ('gon', 242), ('relief', 242), ('freedom', 242), ('parker', 241), ('crappy', 241), ('executed', 241), ('emotionally', 241), ('insane', 241), ('pair', 241), ('model', 241), ('utter', 240), ('painfully', 240), ('reviewer', 240), ('decision', 240), ('flashbacks', 240), ('anime', 240), ('discovers', 240), ('steven', 240), ('barbara', 240), ('commercial', 239), ('ran', 239), ('2.', 239), ('families', 239), ('dreadful', 239), ('driven', 239), ('woody', 239), ('native', 238), ('hunter', 238), ('fault', 238), ('code', 238), ('religion', 238), ('protagonist', 238), ('majority', 238), ('graphic', 238), ('attitude', 237), ('entertained', 237), ('seasons', 237), ('asian', 237), ('caused', 237), ('gratuitous', 237), ('meeting', 237), ('individual', 237), ('foreign', 237), ('built', 237), ('daniel', 237), ('cash', 236), ('test', 236), ('wayne', 236), ('bomb', 236), ('feet', 236), ('victor', 236), ('vehicle', 236), ('nevertheless', 236), ('treatment', 235), ('generation', 235), ('endless', 235), ('rise', 235), ('relate', 235), ('13', 235), ('obsessed', 235), ('underrated', 235), ('range', 234), ('practically', 234), ('pleasant', 234), ('gory', 234), ('levels', 234), ('wit', 233), ('exploitation', 233), ('costs', 233), ('chick', 233), ('aged', 233), ('france', 233), ('described', 233), ('jr.', 233), ('tape', 233), ('ancient', 233), ('cinderella', 233), ('victoria', 233), ('jackie', 232), ('classics', 232), ('joseph', 232), ('fly', 232), ('sell', 232), ('seat', 232), ('chosen', 232), ('center', 232), ('winner', 231), ('breaking', 231), ('rules', 231), ('angel', 231), ('rescue', 231), ('product', 231), ('hearing', 231), ('send', 231), ('combination', 231), ('alex', 231), ('irritating', 231), ('fill', 230), ('stopped', 230), ('chief', 230), ('excited', 230), ('dry', 229), ('assume', 229), ('proper', 229), ('produce', 229), ('fame', 229), ('par', 229), ('theaters', 229), ('sympathetic', 229), ('portrays', 229), ('cares', 228), ('believes', 228), ('capable', 228), ('asking', 228), ('extras', 228), ('haunting', 228), ('pity', 228), ('handsome', 228), ('sports', 228), ('contrived', 227), ('portraying', 227), ('roy', 227), ('warm', 227), ('theatrical', 227), ('choose', 227), ('largely', 227), ('unrealistic', 226), ('paper', 226), ('safe', 226), ('learns', 226), ('nancy', 226), ('matt', 226), ('embarrassing', 226), ('canadian', 226), ('recall', 226), ('marry', 226), ('crowd', 226), ('priest', 226), ('moore', 226), ('dubbed', 225), ('louis', 225), ('hearted', 225), ('ruined', 225), ('appealing', 225), ('germany', 225), ('depressing', 225), ('ryan', 224), ('involves', 224), ('l', 224), ('sequels', 224), ('facts', 224), ('matters', 224), ('grow', 224), ('costume', 223), ('patrick', 223), ('contrast', 223), ('clue', 223), ('evidence', 223), ('anderson', 222), ('heck', 222), ('strongly', 222), ('mask', 222), ('teenager', 222), ('nominated', 222), ('correct', 222), ('claim', 222), ('disgusting', 221), ('vote', 221), ('uk', 221), ('eight', 221), ('research', 221), ('hall', 221), ('excitement', 221), ('appropriate', 221), ('lousy', 220), ('hunt', 220), ('talks', 220), ('football', 220), ('walter', 220), ('cost', 220), ('losing', 220), ('saturday', 219), ('substance', 219), ('fool', 219), ('promise', 219), ('oliver', 219), ('destroy', 219), ('scare', 218), ('training', 218), ('voices', 218), ('thoughts', 218), ('naive', 218), ('tedious', 218), ('market', 218), ('haunted', 217), ('teenagers', 217), ('universal', 217), ('robot', 217), ('europe', 217), ('bringing', 216), ('amateurish', 216), ('satisfying', 216), ('united', 216), ('bodies', 216), ('factor', 216), ('captures', 216), ('convinced', 216), ('che', 216), ('amateur', 215), ('1.', 215), ('fits', 215), ('max', 215), ('circumstances', 215), ('hanging', 215), ('trilogy', 215), ('tend', 215), ('baseball', 215), ('lower', 214), ('spoil', 214), ('tiny', 214), ('danger', 214), ('rental', 214), ('horribly', 214), ('virtually', 214), ('fairy', 214), ('creatures', 214), ('hopefully', 214), ('walks', 213), ('insult', 213), ('reporter', 213), ('mini', 213), ('relatively', 213), ('welcome', 213), ('north', 213), ('murphy', 213), ('asleep', 213), ('powell', 213), ('till', 212), ('cowboy', 212), ('africa', 212), ('steals', 212), ('continuity', 212), ('covered', 212), ('hat', 212), ('skin', 212), ('drag', 211), ('unlikely', 211), ('category', 211), ('offensive', 211), ('contemporary', 211), ('u.s.', 211), ('lawyer', 210), ('depicted', 210), ('influence', 210), ('fare', 210), ('texas', 210), ('inner', 210), ('cutting', 210), ('witness', 210), ('handled', 210), ('hide', 210), ('semi', 210), ('viewed', 210), ('target', 210), ('initial', 209), ('shocked', 209), ('unfortunate', 209), ('holding', 209), ('remain', 209), ('scale', 209), ('politics', 208), ('believed', 208), ('surreal', 208), ('hitchcock', 208), ('professor', 208), ('russell', 208), ('qualities', 207), ('service', 207), ('chan', 207), ('presents', 207), ('promising', 207), ('provided', 207), ('weekend', 207), ('pile', 207), ('sisters', 207), ('kim', 207), ('sharp', 206), ('touches', 206), ('movement', 206), ('designed', 206), ('section', 206), ('closer', 206), ('australian', 206), ('structure', 206), ('source', 206), ('makeup', 206), ('peace', 206), ('refreshing', 206), ('deaths', 205), ('drop', 205), ('spy', 205), ('angles', 205), ('i.e', 205), ('cartoons', 205), ('claims', 205), ('lesbian', 205), ('display', 205), ('liners', 204), ('degree', 204), ('forgettable', 204), ('caine', 204), ('adventures', 204), ('previously', 204), ('surprises', 204), ('repeated', 204), ('faced', 204), ('columbo', 204), ('roger', 203), ('serves', 203), ('ruin', 203), ('plans', 203), ('clark', 203), ('edward', 203), ('enemy', 203), ('accents', 203), ('related', 202), ('pacino', 202), ('chose', 202), ('emma', 202), ('blow', 202), ('focused', 202), ('highlight', 202), ('supernatural', 202), ('weeks', 202), ('brave', 202), ('prime', 202), ('crash', 201), ('deadly', 201), ('rain', 201), ('suffers', 201), ('speaks', 201), ('cant', 201), ('latest', 201), ('granted', 201), ('mainstream', 201), ('treasure', 201), ('propaganda', 201), ('accidentally', 200), ('routine', 200), ('erotic', 200), ('print', 200), ('veteran', 200), ('dollars', 200), ('invisible', 200), ('mistakes', 200), ('speech', 200), ('harsh', 200), ('twisted', 199), ('teens', 199), ('mgm', 199), ('colors', 199), ('notch', 199), ('wan', 199), ('realizes', 199), ('experiences', 199), ('whoever', 199), ('dogs', 199), ('alice', 199), ('sympathy', 198), ('draw', 198), ('wilson', 198), ('mrs.', 198), ('combined', 198), ('security', 198), ('guilty', 198), ('aliens', 198), ('friday', 198), ('struggling', 198), ('nude', 198), ('ted', 198), ('universe', 197), ('convince', 197), ('uninteresting', 197), ('terror', 197), ('princess', 197), ('dozen', 197), ('matrix', 197), ('gritty', 196), ('14', 196), ('atrocious', 196), ('appreciated', 196), ('enter', 196), ('birth', 196), ('gas', 195), ('technically', 195), ('path', 195), ('committed', 195), ('frightening', 195), ('recognize', 195), ('mountain', 195), ('driver', 195), ('irish', 195), ('blah', 195), ('sword', 195), ('magical', 194), ('walked', 194), ('changing', 194), ('department', 194), ('aka', 194), ('pitt', 194), ('explains', 193), ('directly', 193), ('sun', 193), ('occasional', 193), ('friendly', 193), ('court', 193), ('lugosi', 193), ('theory', 192), ('massive', 192), ('paint', 192), ('experienced', 192), ('vietnam', 192), ('prior', 192), ('featured', 192), ('false', 192), ('surface', 192), ('anger', 192), ('sarah', 192), ('variety', 192), ('abuse', 192), ('offered', 192), ('performed', 192), ('demons', 192), ('legendary', 192), ('suspenseful', 191), ('figures', 191), ('narration', 191), ('passing', 191), ('donald', 191), ('kinds', 191), ('subtitles', 191), ('crying', 191), ('multiple', 190), ('forth', 190), ('everywhere', 190), ('darkness', 190), ('hong', 190), ('nazi', 190), ('reputation', 190), ('bourne', 190), ('johnson', 190), ('beach', 190), ('sunday', 190), ('required', 190), ('forest', 190), ('sorts', 190), ('stolen', 190), ('sullivan', 190), ('titanic', 190), ('network', 190), ('junk', 189), ('regret', 189), ('un', 189), ('urban', 189), ('statement', 189), ('execution', 189), ('china', 189), ('express', 189), ('metal', 189), ('exact', 189), ('remotely', 189), ('grave', 189), ('melodrama', 189), ('rachel', 189), ('conversation', 189), ('belief', 188), ('hired', 188), ('lonely', 188), ('downright', 188), ('scares', 188), ('spends', 188), ('reveal', 188), ('placed', 188), ('jungle', 188), ('fictional', 188), ('rule', 188), ('jon', 188), ('freeman', 188), ('trapped', 188), ('california', 188), ('san', 188), ('crude', 187), ('grim', 187), ('proud', 187), ('beast', 187), ('abandoned', 187), ('revolution', 187), ('insight', 187), ('julia', 187), ('bothered', 187), ('lifetime', 187), ('effectively', 187), ('blockbuster', 187), ('worthwhile', 187), ('figured', 187), ('hoffman', 187), ('dean', 186), ('afternoon', 186), ('nation', 186), ('imagery', 186), ('lisa', 186), ('account', 186), ('susan', 186), ('g', 186), ('rough', 186), ('dragon', 186), ('listening', 186), ('branagh', 186), ('favorites', 186), ('happiness', 186), ('jobs', 186), ('wear', 186), ('bus', 186), ('minds', 185), ('sir', 185), ('idiot', 185), ('unconvincing', 185), ('u', 185), ('rings', 185), ('foster', 185), ('ha', 184), ('rights', 184), ('alright', 184), ('cultural', 184), ('mexico', 184), ('blown', 184), ('angle', 184), ('paying', 184), ('buying', 184), ('delivery', 184), ('pulls', 184), ('von', 184), ('amazed', 183), ('productions', 183), ('60s', 183), ('dude', 183), ('burns', 183), ('quest', 183), ('reveals', 183), ('rolling', 183), ('starred', 183), ('larry', 183), ('stayed', 182), ('mexican', 182), ('artists', 182), ('ned', 182), ('views', 182), ('focuses', 182), ('thankfully', 182), ('stays', 182), ('ron', 182), ('tight', 182), ('demon', 182), ('mature', 182), ('significant', 182), ('handed', 182), ('examples', 181), ('suffer', 181), ('bore', 181), ('indie', 181), ('mere', 181), ('ghosts', 181), ('con', 181), ('dress', 181), ('table', 181), ('scenario', 181), ('cruel', 181), ('hip', 181), ('25', 181), ('christ', 181), ('sensitive', 181), ('device', 181), ('interview', 181), ('shadow', 180), ('sidney', 180), ('lights', 180), ('status', 180), ('teeth', 180), ('gross', 180), ('skill', 180), ('studios', 180), ('necessarily', 180), ('heavily', 180), ('campy', 179), ('desperately', 179), ('spite', 179), ('vs.', 179), ('achieve', 179), ('position', 179), ('bound', 179), ('understood', 179), ('sleeping', 179), ('murderer', 179), ('fabulous', 178), ('summary', 178), ('destroyed', 178), ('faithful', 178), ('format', 178), ('closing', 178), ('hardy', 178), ('india', 178), ('beloved', 178), ('forgot', 178), ('stereotypical', 177), ('deeper', 177), ('breath', 177), ('flight', 177), ('complicated', 177), ('warner', 177), ('facial', 177), ('wing', 177), ('midnight', 177), ('seek', 177), ('expert', 176), ('calling', 176), ('suck', 176), ('pregnant', 176), ('racist', 176), ('answers', 176), ('fourth', 176), ('intellectual', 176), ('renting', 176), ('ain', 176), ('league', 176), ('ignore', 176), ('slapstick', 176), ('decades', 176), ('disbelief', 175), ('description', 175), ('elizabeth', 175), ('critical', 175), ('maria', 175), ('prefer', 175), ('raw', 175), ('reminiscent', 175), ('inept', 175), ('drinking', 175), ('helping', 175), ('settings', 175), ('flashback', 175), ('sounded', 175), ('brad', 175), ('dennis', 175), ('musicals', 175), ('encounter', 175), ('cell', 175), ('arms', 175), ('1950', 175), ('regarding', 174), ('criminals', 174), ('cabin', 174), ('buck', 174), ('initially', 174), ('quirky', 174), ('amazingly', 174), ('daughters', 174), ('learning', 174), ('bbc', 174), ('tree', 174), ('ludicrous', 174), ('underground', 174), ('base', 173), ('aunt', 173), ('screening', 173), ('leslie', 173), ('claire', 173), ('honor', 173), ('extraordinary', 173), ('greater', 173), ('throwing', 173), ('storytelling', 173), ('julie', 173), ('wave', 173), ('truck', 173), ('mildly', 173), ('funnier', 173), ('halfway', 173), ('punch', 173), ('titles', 173), ('criticism', 173), ('sandler', 173), ('task', 173), ('jail', 172), ('depiction', 172), ('warned', 172), ('environment', 172), ('notorious', 172), ('praise', 172), ('turkey', 172), ('entertain', 172), ('lie', 171), ('extent', 171), ('comical', 171), ('kiss', 171), ('expression', 171), ('choices', 171), ('convey', 171), ('michelle', 171), ('prepared', 171), ('spoof', 171), ('lincoln', 171), ('raised', 170), ('touched', 170), ('trick', 170), ('originality', 170), ('jessica', 170), ('rogers', 170), ('toy', 169), ('spoken', 169), ('chilling', 169), ('mirror', 169), ('experiment', 169), ('headed', 169), ('lane', 169), ('picks', 169), ('basis', 169), ('east', 169), ('timing', 169), ('bollywood', 169), ('via', 169), ('purely', 169), ('dollar', 169), ('graphics', 168), ('novels', 168), ('charge', 168), ('weapons', 168), ('3.', 168), ('shut', 168), ('lazy', 168), ('brooks', 168), ('stanley', 168), ('notable', 168), ('inspiration', 168), ('properly', 167), ('serve', 167), ('throws', 167), ('breathtaking', 167), ('locked', 167), ('succeeds', 167), ('blair', 167), ('maker', 167), ('miller', 167), ('join', 167), ('bat', 167), ('hole', 167), ('crafted', 167), ('everyday', 167), ('17', 167), ('term', 167), ('stomach', 167), ('introduction', 167), ('strangely', 167), ('causes', 166), ('cooper', 166), ('regard', 166), ('lion', 166), ('provoking', 166), ('tales', 166), ('mouse', 166), ('wears', 166), ('laura', 166), ('pet', 166), ('handle', 166), ('burt', 166), ('nowadays', 166), ('reference', 166), ('adding', 166), ('protect', 165), ('guard', 165), ('caring', 165), ('carrying', 165), ('sitcom', 165), ('lesser', 165), ('tracy', 165), ('challenge', 165), ('ratings', 165), ('fallen', 165), ('sleazy', 164), ('determined', 164), ('nonetheless', 164), ('amongst', 164), ('wins', 164), ('established', 164), ('southern', 164), ('authentic', 164), ('workers', 164), ('obnoxious', 164), ('bitter', 164), ('westerns', 164), ('daily', 164), ('jewish', 164), ('alas', 163), ('carried', 163), ('raise', 163), ('sinister', 163), ('confusion', 163), ('carries', 163), ('cases', 163), ('attempting', 163), ('remote', 163), ('usa', 163), ('bettie', 163), ('escapes', 162), ('gruesome', 162), ('embarrassed', 162), ('obsession', 162), ('mass', 162), ('essential', 162), ('inspector', 162), ('ironic', 162), ('clips', 162), ('hood', 162), ('sold', 162), ('replaced', 162), ('madness', 162), ('enjoying', 162), ('interpretation', 162), ('reed', 162), ('holmes', 162), ('arrives', 162), ('minded', 162), ('tradition', 162), ('carpenter', 161), ('risk', 161), ('screenwriter', 161), ('per', 161), ('exists', 161), ('rival', 161), ('flow', 161), ('nine', 161), ('busy', 161), ('seeking', 161), ('balance', 161), ('needless', 161), ('1980', 161), ('goofy', 161), ('successfully', 161), ('philip', 161), ('navy', 161), ('stanwyck', 161), ('0', 160), ('jumps', 160), ('retarded', 160), ('presentation', 160), ('topic', 160), ('laid', 160), ('attacked', 160), ('legs', 160), ('sutherland', 160), ('mentally', 160), ('angels', 160), ('horrific', 159), ('marvelous', 159), ('vacation', 159), ('comedian', 159), ('oddly', 159), ('lucy', 159), ('mansion', 159), ('existent', 159), ('cook', 159), ('intentions', 159), ('jake', 159), ('sum', 159), ('patient', 158), ('jay', 158), ('stylish', 158), ('attacks', 158), ('brando', 158), ('em', 158), ('shower', 158), ('wwii', 158), ('served', 158), ('stops', 158), ('stupidity', 158), ('grey', 158), ('upper', 158), ('ashamed', 158), ('shape', 158), ('manager', 158), ('thief', 158), ('interviews', 158), ('text', 158), ('packed', 157), ('frequently', 157), ('albeit', 157), ('intensity', 157), ('remind', 157), ('matthau', 157), ('personalities', 157), ('sides', 157), ('fortunately', 157), ('delight', 157), ('cheese', 157), ('sin', 157), ('bridge', 156), ('contain', 156), ('poignant', 156), ('flawed', 156), ('1950s', 156), ('mob', 156), ('fish', 156), ('tongue', 156), ('chair', 156), ('glass', 156), ('bo', 156), ('opened', 155), ('riding', 155), ('drives', 155), ('widmark', 155), ('struggles', 155), ('expressions', 155), ('pitch', 155), ('suspects', 155), ('internet', 155), ('hence', 155), ('bette', 155), ('thrilling', 155), ('elvis', 154), ('tour', 154), ('franchise', 154), ('innocence', 154), ('torn', 154), ('upset', 154), ('greatly', 154), ('baker', 154), ('mindless', 154), ('refuses', 154), ('cynical', 154), ('dinner', 154), ('revolves', 154), ('stranger', 154), ('wishes', 154), ('overcome', 154), ('seagal', 154), ('elvira', 153), ('storm', 153), ('dubbing', 153), ('1970', 153), ('credibility', 153), ('ta', 153), ('lessons', 153), ('warn', 153), ('advantage', 153), ('spielberg', 153), ('wealthy', 153), ('catholic', 153), ('racism', 153), ('corner', 153), ('italy', 153), ('thousands', 153), ('adapted', 153), ('rochester', 153), ('helen', 152), ('snow', 152), ('fbi', 152), ('bugs', 152), ('arm', 152), ('spin', 152), ('happily', 152), ('pack', 152), ('trite', 152), ('streisand', 152), ('pool', 152), ('noble', 152), ('broke', 152), ('burton', 152), ('hills', 152), ('tense', 152), ('medical', 152), ('guessing', 151), ('trial', 151), ('contact', 151), ('hundreds', 151), ('countries', 151), ('reunion', 151), ('pride', 151), ('crisis', 151), ('derek', 151), ('alike', 151), ('dentist', 151), ('andrews', 151), ('physically', 151), ('credible', 151), ('controversial', 151), ('nelson', 151), ('perform', 150), ('gripping', 150), ('bag', 150), ('performers', 150), ('suffered', 150), ('card', 150), ('wasting', 150), ('technique', 150), ('carter', 150), ('succeed', 150), ('enjoyment', 150), ('thrillers', 150), ('dislike', 150), ('chaplin', 150), ('sexuality', 150), ('neat', 149), ('sons', 149), ('britain', 149), ('glimpse', 149), ('separate', 149), ('dancer', 149), ('hundred', 149), ('shines', 149), ('mst3k', 149), ('ensemble', 149), ('virgin', 149), ('tied', 149), ('flash', 149), ('sings', 149), ('whereas', 149), ('assistant', 148), ('uncomfortable', 148), ('atmospheric', 148), ('month', 148), ('weapon', 148), ('courage', 148), ('exceptional', 148), ('plastic', 148), ('hint', 148), ('irony', 148), ('drink', 148), ('ourselves', 148), ('shorts', 148), ('karloff', 148), ('millions', 148), ('holiday', 148), ('kurt', 148), ('proof', 148), ('infamous', 148), ('cousin', 147), ('connected', 147), ('ralph', 147), ('curse', 147), ('searching', 147), ('zone', 147), ('arnold', 147), ('flynn', 147), ('cube', 147), ('glory', 146), ('protagonists', 146), ('steps', 146), ('knife', 146), ('letting', 146), ('aired', 146), ('oscars', 146), ('host', 146), ('lying', 146), ('cameos', 146), ('andrew', 146), ('nose', 146), ('idiotic', 145), ('entry', 145), ('scripts', 145), ('tune', 145), ('18', 145), ('meaningful', 145), ('massacre', 145), ('thousand', 145), ('hamlet', 145), ('dear', 145), ('portrait', 145), ('quote', 145), ('vincent', 145), ('suggests', 145), ('horses', 145), ('sentimental', 145), ('stealing', 144), ('noted', 144), ('develops', 144), ('burning', 144), ('colorful', 144), ('lovable', 144), ('split', 144), ('unforgettable', 144), ('consists', 144), ('2000', 144), ('stan', 144), ('accepted', 144), ('fortune', 144), ('stretch', 144), ('boll', 144), ('troubled', 144), ('saves', 143), ('spots', 143), ('ad', 143), ('guts', 143), ('chuck', 143), ('attraction', 143), ('condition', 143), ('gain', 143), ('repeat', 143), ('pg', 143), ('equal', 143), ('hoped', 143), ('larger', 143), ('hunting', 143), ('strip', 143), ('redemption', 143), ('hiding', 143), ('chasing', 143), ('worlds', 143), ('miscast', 143), ('hang', 143), ('neighborhood', 143), ('concert', 143), ('chases', 143), ('lucas', 143), ('le', 142), ('destruction', 142), ('annoyed', 142), ('shoots', 142), ('roberts', 142), ('belongs', 142), ('oil', 142), ('perfection', 142), ('factory', 142), ('dig', 142), ('basement', 142), ('plague', 142), ('pat', 142), ('glover', 142), ('worry', 142), ('curtis', 142), ('object', 142), ('walken', 142), ('pie', 142), ('shark', 141), ('catherine', 141), ('terrifying', 141), ('dramas', 141), ('appearing', 141), ('denzel', 141), ('eerie', 141), ('thirty', 141), ('dorothy', 141), ('hudson', 141), ('dialogs', 141), ('boredom', 141), ('24', 141), ('guilt', 141), ('imaginative', 140), ('civil', 140), ('closely', 140), ('trade', 140), ('scientists', 140), ('multi', 140), ('encounters', 140), ('pro', 140), ('concerns', 140), ('competent', 140), ('hanks', 140), ('gag', 140), ('1st', 140), ('loser', 140), ('flaw', 140), ('neck', 140), ('bears', 140), ('ultra', 140), ('library', 140), ('silver', 139), ('checking', 139), ('lloyd', 139), ('profound', 139), ('expensive', 139), ('solve', 139), ('weight', 139), ('neighbor', 139), ('homeless', 139), ('complaint', 139), ('letter', 139), ('canada', 139), ('2006', 139), ('segments', 139), ('virus', 139), ('endearing', 139), ('hooked', 139), ('rush', 139), ('wake', 139), ('sends', 139), ('knock', 139), ('appearances', 139), ('achieved', 139), ('colour', 138), ('dragged', 138), ('tear', 138), ('stunts', 138), ('tribute', 138), ('huh', 138), ('eastwood', 138), ('elsewhere', 138), ('eva', 138), ('ripped', 138), ('beating', 138), ('essence', 138), ('jeremy', 138), ('rushed', 138), ('bobby', 138), ('fashioned', 138), ('charisma', 138), ('secretary', 138), ('dare', 138), ('winter', 138), ('tricks', 137), ('doc', 137), ('believing', 137), ('crimes', 137), ('striking', 137), ('spell', 137), ('fitting', 137), ('noise', 137), ('incoherent', 137), ('cusack', 137), ('goal', 137), ('health', 137), ('birthday', 137), ('dealt', 137), ('teach', 137), ('rocks', 137), ('carol', 137), ('fest', 137), ('16', 137), ('hitting', 137), ('tea', 136), ('magazine', 136), ('battles', 136), ('briefly', 136), ('stunt', 136), ('reactions', 136), ('techniques', 136), ('heston', 136), ('2001', 136), ('videos', 136), ('gothic', 136), ('scooby', 136), ('countless', 136), ('slight', 136), ('painting', 136), ('kane', 135), ('attempted', 135), ('pointed', 135), ('sexually', 135), ('hearts', 135), ('covers', 135), ('unintentionally', 135), ('strikes', 135), ('inspiring', 135), ('dawn', 135), ('brand', 135), ('bride', 135), ('ritter', 135), ('charismatic', 135), ('specific', 135), ('bush', 135), ('mild', 134), ('admittedly', 134), ('tons', 134), ('sally', 134), ('c.', 134), ('iii', 134), ('horrendous', 134), ('surrounded', 134), ('importance', 134), ('neil', 134), ('bible', 134), ('thumbs', 134), ('jerk', 134), ('smoking', 134), ('barry', 134), ('surrounding', 134), ('hype', 134), ('grows', 134), ('godfather', 134), ('relevant', 133), ('fired', 133), ('shall', 133), ('stiff', 133), ('carefully', 133), ('eyed', 133), ('homage', 133), ('fianc', 133), ('guest', 133), ('poverty', 133), ('kicks', 133), ('walls', 133), ('spending', 133), ('spike', 133), ('corrupt', 133), ('stood', 133), ('stronger', 133), ('chances', 133), ('attached', 132), ('j.', 132), ('intention', 132), ('comics', 132), ('row', 132), ('miike', 132), ('stated', 132), ('represents', 132), ('duke', 132), ('requires', 132), ('revelation', 132), ('enters', 132), ('executive', 132), ('easier', 132), ('cole', 132), ('ian', 132), ('medium', 132), ('astaire', 132), ('1970s', 131), ('university', 131), ('inevitable', 131), ('cardboard', 131), ('forgive', 131), ('increasingly', 131), ('mafia', 131), ('gift', 131), ('exercise', 131), ('performing', 131), ('monkey', 131), ('killings', 131), ('messages', 131), ('strike', 131), ('carrey', 131), ('associated', 131), ('dropped', 131), ('korean', 131), ('acceptable', 130), ('resolution', 130), ('contract', 130), ('disagree', 130), ('projects', 130), ('occurs', 130), ('j', 130), ('kubrick', 130), ('cox', 130), ('nights', 130), ('luckily', 130), ('reynolds', 130), ('toilet', 130), ('bakshi', 130), ('vague', 129), ('drags', 129), ('1980s', 129), ('selling', 129), ('dawson', 129), ('strictly', 129), ('investigation', 129), ('brilliance', 129), ('worker', 129), ('typically', 129), ('davies', 129), ('silence', 129), ('nuclear', 129), ('shining', 129), ('hire', 129), ('thrills', 129), ('creation', 129), ('lily', 129), ('identify', 129), ('lab', 129), ('jesse', 129), ('sophisticated', 129), ('fisher', 129), ('insulting', 128), ('beings', 128), ('estate', 128), ('struck', 128), ('smooth', 128), ('afterwards', 128), ('instantly', 128), ('jet', 128), ('kudos', 128), ('fifteen', 128), ('kidnapped', 128), ('ego', 128), ('savage', 128), ('allowing', 128), ('overlooked', 128), ('continued', 128), ('breasts', 128), ('depression', 128), ('union', 128), ('heat', 128), ('cruise', 128), ('disease', 128), ('partly', 127), ('tremendous', 127), ('sacrifice', 127), ('pushed', 127), ('satan', 127), ('evident', 127), ('importantly', 127), ('norman', 127), ('w', 127), ('digital', 127), ('pleased', 127), ('creators', 127), ('brosnan', 127), ('spirited', 127), ('handful', 127), ('joey', 127), ('wreck', 127), ('commit', 127), ('meat', 127), ('burn', 127), ('jamie', 127), ('presumably', 127), ('persona', 127), ('useless', 127), ('worthless', 126), ('twin', 126), ('realise', 126), ('corpse', 126), ('talked', 126), ('photographed', 126), ('grandmother', 126), ('superbly', 126), ('returning', 126), ('conspiracy', 126), ('aforementioned', 126), ('arrested', 126), ('competition', 126), ('relative', 126), ('fears', 126), ('wondered', 126), ('buried', 126), ('individuals', 126), ('......', 126), ('ho', 126), ('boxing', 126), ('citizen', 125), ('raped', 125), ('narrator', 125), ('threatening', 125), ('nurse', 125), ('menacing', 125), ('size', 125), ('mitchell', 125), ('guide', 125), ('frustrated', 125), ('jumping', 125), ('doors', 125), ('flawless', 125), ('spiritual', 125), ('drivel', 125), ('wonders', 125), ('listed', 125), ('australia', 125), ('ward', 125), ('highlights', 125), ('diamond', 125), ('samurai', 125), ('ambitious', 125), ('press', 125), ('string', 124), ('accomplished', 124), ('cup', 124), ('outrageous', 124), ('generous', 124), ('bucks', 124), ('push', 124), ('border', 124), ('distant', 124), ('curiosity', 124), ('ticket', 124), ('fatal', 124), ('mann', 124), ('planning', 124), ('appalling', 124), ('characterization', 124), ('beaten', 124), ('critic', 124), ('bullets', 124), ('admire', 124), ('pleasantly', 124), ('shy', 124), ('achievement', 124), ('cagney', 124), ('lou', 124), ('rap', 124), ('prevent', 123), ('beer', 123), ('goldberg', 123), ('empire', 123), ('1990', 123), ('repetitive', 123), ('consequences', 123), ('los', 123), ('notes', 123), ('picking', 123), ('cia', 123), ('uninspired', 123), ('horrors', 123), ('mile', 123), ('territory', 123), ('spring', 123), ('doo', 123), ('piano', 123), ('cameron', 123), ('clues', 123), ('spooky', 123), ('regardless', 123), ('francisco', 123), ('2005', 123), ('splendid', 123), ('accused', 123), ('attracted', 123), ('ironically', 123), ('abc', 123), ('trap', 123), ('watches', 122), ('slightest', 122), ('miserably', 122), ('spoiled', 122), ('emily', 122), ('indians', 122), ('blob', 122), ('motivation', 122), ('turner', 122), ('throat', 122), ('perry', 122), ('melodramatic', 122), ('opposed', 122), ('farce', 122), ('ken', 122), ('20th', 122), ('morality', 122), ('response', 122), ('souls', 122), ('slap', 122), ('alexander', 122), ('temple', 122), ('revealing', 122), ('blank', 122), ('modesty', 122), ('root', 122), ('chain', 122), ('butt', 122), ('falk', 122), ('blows', 122), ('ellen', 122), ('logical', 122), ('psychiatrist', 122), ('fay', 121), ('titled', 121), ('documentaries', 121), ('directorial', 121), ('suits', 121), ('craig', 121), ('jealous', 121), ('precious', 121), ('tall', 121), ('manhattan', 121), ('hatred', 121), ('cared', 121), ('pulling', 121), ('wells', 121), ('subsequent', 121), ('mate', 121), ('duo', 121), ('laurel', 121), ('dire', 121), ('lacked', 121), ('subplot', 121), ('liberal', 121), ('aimed', 120), ('sole', 120), ('remaining', 120), ('wes', 120), ('ignored', 120), ('editor', 120), ('rex', 120), ('intrigued', 120), ('shoes', 120), ('fx', 120), ('felix', 120), ('marks', 120), ('poster', 120), ('ruth', 120), ('wolf', 120), ('exaggerated', 120), ('psychotic', 120), ('dracula', 120), ('forbidden', 120), ('gray', 120), ('shortly', 120), ('timeless', 120), ('futuristic', 120), ('installment', 120), ('convoluted', 120), ('explicit', 119), ('failing', 119), ('bleak', 119), ('superhero', 119), ('notably', 119), ('parent', 119), ('drunken', 119), ('smoke', 119), ('bug', 119), ('captivating', 119), ('warrior', 119), ('conceived', 119), ('tunes', 119), ('progress', 119), ('disc', 119), ('overdone', 119), ('reasonably', 119), ('obscure', 119), ('paulie', 119), ('gandhi', 119), ('restaurant', 119), ('fancy', 119), ('repeatedly', 119), ('minimal', 119), ('mel', 119), ('elderly', 119), ('ok.', 118), ('timothy', 118), ('draws', 118), ('craven', 118), ('gradually', 118), ('distance', 118), ('providing', 118), ('pushing', 118), ('idiots', 118), ('reduced', 118), ('explore', 118), ('elaborate', 118), ('ah', 118), ('glenn', 118), ('discussion', 118), ('rid', 118), ('argument', 118), ('scientific', 118), ('scripted', 118), ('soviet', 118), ('kitchen', 118), ('wicked', 118), ('outcome', 118), ('photographer', 118), ('loosely', 118), ('intent', 117), ('shirt', 117), ('childish', 117), ('hysterical', 117), ('returned', 117), ('dave', 117), ('warren', 117), ('sticks', 117), ('freak', 117), ('definite', 117), ('darker', 117), ('dignity', 117), ('slave', 117), ('verhoeven', 117), ('annie', 117), ('shadows', 117), ('kenneth', 117), ('wannabe', 117), ('worried', 117), ('screams', 117), ('reasonable', 117), ('connect', 117), ('sloppy', 117), ('stiller', 117), ('cried', 117), ('eve', 117), ('translation', 117), ('sunshine', 117), ('exposed', 117), ('2002', 117), ('walker', 117), ('giallo', 117), ('unbelievably', 116), ('areas', 116), ('misses', 116), ('tortured', 116), ('gentle', 116), ('threat', 116), ('purple', 116), ('horrid', 116), ('load', 116), ('1930s', 116), ('imagined', 116), ('folk', 116), ('brazil', 116), ('fever', 116), ('contrary', 116), ('panic', 116), ('carrie', 116), ('danes', 116), ('birds', 116), ('discovery', 116), ('romero', 116), ('absence', 116), ('vicious', 116), ('dancers', 116), ('whale', 116), ('commercials', 115), ('reached', 115), ('improved', 115), ('movements', 115), ('farm', 115), ('extended', 115), ('4.', 115), ('landscape', 115), ('thick', 115), ('concerning', 115), ('heroic', 115), ('differences', 115), ('complain', 115), ('broad', 115), ('matthew', 115), ('wallace', 115), ('incident', 115), ('donna', 115), ('stole', 115), ('yesterday', 115), ('k', 115), ('twelve', 115), ('ireland', 115), ('karen', 115), ('triumph', 115), ('mildred', 115), ('bathroom', 114), ('involvement', 114), ('choreography', 114), ('prom', 114), ('unbearable', 114), ('kirk', 114), ('margaret', 114), ('ought', 114), ('bone', 114), ('symbolism', 114), ('tap', 114), ('arrive', 114), ('45', 114), ('fulci', 114), ('bare', 114), ('bite', 114), ('styles', 114), ('overrated', 114), ('displays', 114), ('rambo', 114), ('builds', 114), ('eyre', 114), ('daring', 114), ('web', 114), ('broadcast', 114), ('h', 114), ('cheek', 114), ('drawing', 114), ('altman', 114), ('population', 113), ('block', 113), ('nicholson', 113), ('ranks', 113), ('tommy', 113), ('li', 113), ('currently', 113), ('occurred', 113), ('bird', 113), ('recognized', 113), ('craft', 113), ('resembles', 113), ('audio', 113), ('existed', 113), ('kapoor', 113), ('hollow', 113), ('antics', 113), ('affected', 113), ('burned', 113), ('hamilton', 113), ('anyways', 113), ('newspaper', 113), ('demands', 113), ('blend', 113), ('contained', 113), ('holy', 113), ('nazis', 113), ('genres', 113), ('beatty', 113), ('machines', 113), ('apes', 113), ('secrets', 113), ('greek', 113), ('altogether', 112), ('adequate', 112), ('merit', 112), ('bell', 112), ('superficial', 112), ('hugh', 112), ('receive', 112), ('pseudo', 112), ('sadness', 112), ('pretend', 112), ('trio', 112), ('enjoys', 112), ('swear', 112), ('popcorn', 112), ('selfish', 112), ('investigate', 112), ('50s', 112), ('ridiculously', 112), ('argue', 112), ('sadistic', 112), ('website', 112), ('harder', 112), ('journalist', 112), ('proceedings', 112), ('dynamic', 112), ('cliff', 112), ('threw', 112), ('occur', 112), ('swedish', 112), ('todd', 112), ('leg', 112), ('t.v', 112), ('neo', 112), ('thrill', 111), ('staged', 111), ('composed', 111), ('fighter', 111), ('beats', 111), ('synopsis', 111), ('tame', 111), ('lawrence', 111), ('foul', 111), ('fonda', 111), ('explosion', 111), ('suited', 111), ('thugs', 111), ('robots', 111), ('rage', 111), ('aging', 111), ('p', 111), ('madonna', 111), ('voight', 111), ('hammer', 111), ('seventies', 111), ('cameras', 111), ('dinosaurs', 111), ('dialogues', 110), ('juvenile', 110), ('blake', 110), ('engaged', 110), ('innovative', 110), ('prostitute', 110), ('mountains', 110), ('pulp', 110), ('comfortable', 110), ('2nd', 110), ('gadget', 110), ('bin', 110), ('ease', 110), ('rural', 110), ('snake', 110), ('terry', 110), ('unpleasant', 110), ('conversations', 110), ('clothing', 110), ('escaped', 110), ('atlantis', 110), ('leonard', 110), ('cats', 110), ('overwhelming', 109), ('philosophy', 109), ('conventional', 109), ('explosions', 109), ('murderous', 109), ('intrigue', 109), ('eccentric', 109), ('edie', 109), ('vivid', 109), ('buddies', 109), ('clint', 109), ('staying', 109), ('cuba', 109), ('nearby', 109), ('offering', 109), ('coherent', 109), ('garden', 109), ('brains', 109), ('lips', 109), ('combat', 109), ('odds', 109), ('jazz', 109), ('kidding', 109), ('grab', 109), ('shine', 109), ('wealth', 109), ('warming', 109), ('bullet', 109), ('lit', 109), ('devoted', 109), ('centered', 109), ('orders', 109), ('versus', 109), ('implausible', 108), ('staff', 108), ('lust', 108), ('detailed', 108), ('lemmon', 108), ('lol', 108), ('bang', 108), ('damage', 108), ('flop', 108), ('carl', 108), ('removed', 108), ('producing', 108), ('sport', 108), ('possessed', 108), ('cringe', 108), ('react', 108), ('mickey', 108), ('b.', 108), ('groups', 108), ('blowing', 108), ('unintentional', 108), ('meaningless', 108), ('deliberately', 108), ('kennedy', 108), ('mistaken', 108), ('errors', 108), ('nightmares', 108), ('brady', 108), ('mummy', 108), ('banned', 108), ('waters', 108), ('ingredients', 107), ('celluloid', 107), ('possibility', 107), ('influenced', 107), ('explaining', 107), ('distracting', 107), ('holly', 107), ('toys', 107), ('rat', 107), ('olivier', 107), ('unwatchable', 107), ('abilities', 107), ('masters', 107), ('disturbed', 107), ('undoubtedly', 107), ('uneven', 107), ('resemblance', 107), ('florida', 107), ('daddy', 107), ('relies', 107), ('dating', 107), ('causing', 107), ('bedroom', 107), ('officers', 107), ('cary', 107), ('defeat', 107), ('harvey', 107), ('jeffrey', 107), ('palma', 107), ('scheme', 106), ('props', 106), ('spare', 106), ('discuss', 106), ('explored', 106), ('duty', 106), ('punk', 106), ('pays', 106), ('crack', 106), ('occasion', 106), ('2003', 106), ('furthermore', 106), ('politically', 106), ('focusing', 106), ('primary', 106), ('roman', 106), ('liking', 106), ('subjects', 106), ('coffee', 106), ('goodness', 106), ('signs', 106), ('hbo', 106), ('aid', 106), ('satisfied', 106), ('highest', 106), ('clown', 106), ('clumsy', 106), ('spirits', 106), ('passes', 106), ('catches', 106), ('survival', 106), ('90s', 106), ('hart', 106), ('funeral', 106), ('official', 106), ('ginger', 106), ('yellow', 106), ('colonel', 106), ('maggie', 105), ('models', 105), ('chaos', 105), ('travels', 105), ('financial', 105), ('remarkably', 105), ('careers', 105), ('succeeded', 105), ('godzilla', 105), ('sidekick', 105), ('linda', 105), ('trees', 105), ('flies', 105), ('wives', 105), ('rick', 105), ('backdrop', 105), ('decisions', 105), ('classes', 105), ('houses', 105), ('generic', 105), ('ape', 105), ('hank', 105), ('mysteries', 105), ('hal', 104), ('surviving', 104), ('smaller', 104), ('consistently', 104), ('outer', 104), ('devoid', 104), ('blatant', 104), ('mill', 104), ('desperation', 104), ('lifestyle', 104), ('endings', 104), ('offended', 104), ('streep', 104), ('afford', 104), ('secondly', 104), ('settle', 104), ('hates', 104), ('glorious', 104), ('sentence', 104), ('tracks', 104), ('recorded', 104), ('winters', 104), ('impress', 104), ('unfolds', 104), ('measure', 104), ('polanski', 104), ('destiny', 104), ('companion', 104), ('exotic', 104), ('portion', 104), ('primarily', 104), ('doomed', 104), ('brooklyn', 104), ('doll', 104), ('instant', 104), ('notion', 104), ('enterprise', 104), ('closet', 103), ('dances', 103), ('hints', 103), ('ideal', 103), ('hideous', 103), ('2004', 103), ('diane', 103), ('3rd', 103), ('frustration', 103), ('method', 103), ('countryside', 103), ('mixture', 103), ('revolutionary', 103), ('march', 103), ('dutch', 103), ('ocean', 103), ('rebel', 103), ('beneath', 103), ('amy', 103), ('shirley', 103), ('shelf', 103), ('dr', 103), ('wrestling', 103), ('terrorist', 103), ('montage', 103), ('lyrics', 103), ('fetched', 103), ('enormous', 103), ('et', 103), ('dozens', 103), ('enemies', 103), ('forty', 103), ('represent', 103), ('cheating', 103), ('1930', 103), ('1960', 103), ('awake', 103), ('principal', 103), ('widow', 103), ('circle', 103), ('pan', 103), ('motives', 103), ('directs', 103), ('communist', 103), ('ya', 103), ('celebrity', 103), ('homer', 103), ('grinch', 103), ('garbo', 103), ('urge', 102), ('stinker', 102), ('reaches', 102), ('tie', 102), ('hardcore', 102), ('traveling', 102), ('developing', 102), ('user', 102), ('divorce', 102), ('surfing', 102), ('topless', 102), ('akshay', 102), ('painted', 102), ('judging', 102), ('rocket', 102), ('bull', 102), ('relations', 102), ('uwe', 102), ('stellar', 102), ('describes', 102), ('performer', 102), ('rank', 102), ('benefit', 102), ('pig', 102), ('buff', 102), ('disjointed', 102), ('winds', 102), ('crush', 102), ('coach', 102), ('bold', 102), ('drops', 102), ('fond', 102), ('immensely', 102), ('subtlety', 102), ('hartley', 101), ('emphasis', 101), ('diana', 101), ('cure', 101), ('advance', 101), ('senseless', 101), ('niro', 101), ('angeles', 101), ('awe', 101), ('eighties', 101), ('disappear', 101), ('ties', 101), ('wont', 101), ('survivors', 101), ('avoided', 101), ('specifically', 101), ('april', 101), ('matches', 101), ('simplistic', 101), ('blew', 101), ('saga', 101), ('ruthless', 101), ('tender', 101), ('oz', 101), ('trailers', 101), ('melting', 101), ('outfit', 101), ('practice', 101), ('sh', 101), ('planned', 101), ('seed', 101), ('macy', 101), ('griffith', 101), ('soccer', 101), ('commented', 100), ('loyal', 100), ('earned', 100), ('transformation', 100), ('splatter', 100), ('miserable', 100), ('authority', 100), ('menace', 100), ('amanda', 100), ('faster', 100), ('claimed', 100), ('pot', 100), ('blues', 100), ('cinematographer', 100), ('babe', 100), ('fix', 100), ('judy', 100), ('peoples', 100), ('adorable', 100), ('corruption', 100), ('loads', 100), ('vast', 100), ('shaw', 100), ('backgrounds', 100), ('forms', 100), ('link', 99), ('trashy', 99), ('displayed', 99), ('guessed', 99), ('disappeared', 99), ('interaction', 99), ('command', 99), ('rooms', 99), ('arrogant', 99), ('khan', 99), ('ears', 99), ('chorus', 99), ('riveting', 99), ('endure', 99), ('hook', 99), ('passionate', 99), ('represented', 99), ('limits', 99), ('choreographed', 99), ('weakest', 99), ('dinosaur', 99), ('involve', 99), ('lumet', 99), ('berlin', 99), ('jonathan', 99), ('honesty', 99), ('introduces', 99), ('sellers', 99), ('racial', 99), ('elephant', 99), ('dedicated', 99), ('lasted', 99), ('unsettling', 99), ('philosophical', 99), ('illogical', 99), ('depressed', 99), ('cards', 99), ('solo', 99), ('lena', 99), ('nail', 98), ('hurts', 98), ('stress', 98), ('disappoint', 98), ('hung', 98), ('grandfather', 98), ('realizing', 98), ('cave', 98), ('adams', 98), ('similarly', 98), ('voiced', 98), ('cake', 98), ('moody', 98), ('formulaic', 98), ('justify', 98), ('wendy', 98), ('similarities', 98), ('chased', 98), ('kicked', 98), ('severe', 98), ('possibilities', 98), ('quotes', 98), ('thoughtful', 98), ('domino', 98), ('franco', 98), ('charlotte', 98), ('stereotype', 98), ('buffs', 98), ('tag', 98), ('sandra', 98), ('scarecrow', 98), ('improve', 97), ('considerable', 97), ('bonus', 97), ('stinks', 97), ('education', 97), ('safety', 97), ('isolated', 97), ('preview', 97), ('nervous', 97), ('finger', 97), ('faults', 97), ('understandable', 97), ('del', 97), ('myers', 97), ('thru', 97), ('nomination', 97), ('scope', 97), ('tad', 97), ('2007', 97), ('morris', 97), ('grasp', 97), ('treats', 97), ('e.g', 97), ('swimming', 97), ('helicopter', 97), ('promised', 97), ('snl', 97), ('hopper', 97), ('monkeys', 97), ('trained', 97), ('blond', 97), ('switch', 97), ('porno', 97), ('solely', 97), ('abysmal', 97), ('emperor', 97), ('sounding', 97), ('inventive', 97), ('mario', 97), ('campbell', 97), ('macarthur', 97), ('button', 96), ('embarrassment', 96), ('species', 96), ('tonight', 96), ('poetic', 96), ('museum', 96), ('laws', 96), ('agrees', 96), ('dalton', 96), ('kyle', 96), ('downhill', 96), ('aids', 96), ('facing', 96), ('report', 96), ('ignorant', 96), ('lately', 96), ('alert', 96), ('concern', 96), ('consistent', 96), ('mayor', 96), ('orson', 96), ('clock', 96), ('namely', 96), ('wore', 96), ('comparing', 96), ('cd', 96), ('bergman', 96), ('leo', 96), ('hyde', 96), ('corporate', 96), ('purchase', 96), ('dub', 96), ('nostalgic', 96), ('cliche', 96), ('unhappy', 96), ('cg', 96), ('wet', 96), ('chess', 96), ('reaching', 95), ('rotten', 95), ('vegas', 95), ('taught', 95), ('defend', 95), ('armed', 95), ('sits', 95), ('shelley', 95), ('boot', 95), ('confidence', 95), ('dolls', 95), ('wished', 95), ('fooled', 95), ('pretending', 95), ('blade', 95), ('waited', 95), ('transfer', 95), ('prize', 95), ('wizard', 95), ('constructed', 95), ('simpson', 95), ('shake', 95), ('kingdom', 95), ('horrifying', 95), ('mall', 95), ('motivations', 95), ('steel', 95), ('photos', 95), ('amitabh', 95), ('stooges', 95), ('conservative', 95), ('plant', 95), ('montana', 95), ('hop', 95), ('ollie', 95), ('christy', 95), ('combine', 94), ('eager', 94), ('dickens', 94), ('raising', 94), ('agents', 94), ('sappy', 94), ('delivering', 94), ('useful', 94), ('destroying', 94), ('inferior', 94), ('crocodile', 94), ('behave', 94), ('letters', 94), ('buildings', 94), ('latin', 94), ('connery', 94), ('suitable', 94), ('carradine', 94), ('wound', 94), ('paltrow', 94), ('cleverly', 94), ('bela', 94), ('closest', 94), ('ruby', 94), ('staring', 94), ('pants', 94), ('global', 94), ('inane', 94), ('humble', 94), ('pearl', 94), ('st.', 94), ('miracle', 94), ('vengeance', 94), ('timon', 94), ('gangsters', 94), ('iron', 94), ('virginia', 94), ('ballet', 94), ('relation', 94), ('artificial', 94), ('writes', 94), ('jenny', 94), ('dixon', 94), ('elegant', 93), ('arrived', 93), ('secretly', 93), ('waves', 93), ('mars', 93), ('1999', 93), ('maintain', 93), ('square', 93), ('bands', 93), ('september', 93), ('engage', 93), ('1996', 93), ('chest', 93), ('airplane', 93), ('slick', 93), ('lay', 93), ('bath', 93), ('scrooge', 93), ('convincingly', 93), ('scottish', 93), ('couples', 93), ('climactic', 93), ('alcoholic', 93), ('affect', 93), ('stevens', 93), ('civilization', 93), ('valuable', 93), ('iran', 93), ('reads', 93), ('balls', 93), ('robinson', 93), ('blunt', 93), ('tiresome', 93), ('airport', 93), ('gundam', 93), ('1960s', 92), ('edgar', 92), ('beliefs', 92), ('reflect', 92), ('willis', 92), ('closed', 92), ('vice', 92), ('stilted', 92), ('boom', 92), ('lundgren', 92), ('conflicts', 92), ('gerard', 92), ('chicago', 92), ('access', 92), ('cheated', 92), ('nicholas', 92), ('catching', 92), ('creator', 92), ('jumped', 92), ('richardson', 92), ('frankenstein', 92), ('1940', 92), ('yelling', 92), ('kicking', 92), ('sirk', 92), ('paranoia', 92), ('wrapped', 92), ('robbery', 92), ('roth', 92), ('lowest', 92), ('pokemon', 92), ('witches', 92), ('sue', 91), ('spread', 91), ('potentially', 91), ('catchy', 91), ('greedy', 91), ('dust', 91), ('invasion', 91), ('germans', 91), ('messed', 91), ('firstly', 91), ('simplicity', 91), ('abusive', 91), ('transition', 91), ('guarantee', 91), ('ethan', 91), ('desired', 91), ('advertising', 91), ('centers', 91), ('poetry', 91), ('construction', 91), ('progresses', 91), ('kay', 91), ('remarks', 91), ('questionable', 91), ('christians', 91), ('creep', 91), ('survived', 91), ('nostalgia', 91), ('bottle', 91), ('francis', 91), ('literature', 91), ('spock', 91), ('taxi', 91), ('scores', 91), ('vulnerable', 91), ('austen', 91), ('junior', 91), ('richards', 91), ('misery', 91), ('spoke', 91), ('exploration', 91), ('illegal', 90), ('showcase', 90), ('attitudes', 90), ('stallone', 90), ('marty', 90), ('hunters', 90), ('homosexual', 90), ('jaw', 90), ('amounts', 90), ('frankie', 90), ('purchased', 90), ('alongside', 90), ('raymond', 90), ('depicts', 90), ('advanced', 90), ('restored', 90), ('vaguely', 90), ('careful', 90), ('plight', 90), ('intentionally', 90), ('lengthy', 90), ('bacall', 90), ('gender', 90), ('recognition', 90), ('operation', 90), ('rendition', 90), ('advise', 90), ('eaten', 90), ('hello', 90), ('understated', 90), ('brutally', 90), ('wandering', 90), ('demand', 90), ('arguably', 90), ('im', 90), ('louise', 90), ('copies', 90), ('rubber', 90), ('designs', 90), ('june', 90), ('doom', 90), ('inappropriate', 90), ('pal', 90), ('vs', 90), ('joined', 90), ('persons', 90), ('floating', 89), ('illness', 89), ('acid', 89), ('chicks', 89), ('prisoners', 89), ('prisoner', 89), ('witnesses', 89), ('demented', 89), ('slaughter', 89), ('mail', 89), ('intimate', 89), ('troops', 89), ('relatives', 89), ('biko', 89), ('likewise', 89), ('justin', 89), ('matched', 89), ('grayson', 89), ('neighbors', 89), ('resources', 89), ('visits', 89), ('signed', 89), ('resort', 89), ('newly', 89), ('opinions', 89), ('wisdom', 89), ('incomprehensible', 89), ('ashley', 89), ('twilight', 89), ('phantom', 89), ('attorney', 89), ('pops', 89), ('damon', 89), ('mankind', 89), ('online', 89), ('drake', 89), ('parallel', 89), ('farrell', 89), ('terrorists', 89), ('unit', 89), ('betty', 89), ('rising', 89), ('visible', 89), ('experiments', 89), ('gabriel', 89), ('bay', 89), ('molly', 89), ('complexity', 89), ('proceeds', 88), ('agreed', 88), ('mistress', 88), ('descent', 88), ('fascinated', 88), ('patients', 88), ('lively', 88), ('tiger', 88), ('barrymore', 88), ('capital', 88), ('ridden', 88), ('manipulative', 88), ('suspicious', 88), ('edition', 88), ('tomatoes', 88), ('challenging', 88), ('solution', 88), ('analysis', 88), ('appreciation', 88), ('alternate', 88), ('ensues', 88), ('accompanied', 88), ('viewings', 88), ('classical', 88), ('nuts', 88), ('losers', 88), ('responsibility', 88), ('worn', 88), ('capturing', 88), ('assault', 88), ('witnessed', 88), ('carell', 88), ('dreary', 88), ('antwone', 88), ('owen', 87), ('subplots', 87), ('legal', 87), ('smiling', 87), ('belushi', 87), ('cities', 87), ('counter', 87), ('arrival', 87), ('jaws', 87), ('plausible', 87), ('lone', 87), ('frequent', 87), ('rooney', 87), ('royal', 87), ('randy', 87), ('parties', 87), ('compelled', 87), ('basketball', 87), ('satisfy', 87), ('sink', 87), ('excessive', 87), ('masterful', 87), ('chapter', 87), ('mighty', 87), ('widely', 87), ('1972', 87), ('wrap', 87), ('rabbit', 87), ('feed', 87), ('property', 87), ('equivalent', 87), ('alison', 87), ('defined', 87), ('othello', 87), ('incompetent', 87), ('spider', 87), ('1968', 86), ('serving', 86), ('pit', 86), ('greed', 86), ('overacting', 86), ('psychic', 86), ('seeks', 86), ('ear', 86), ('keith', 86), ('graham', 86), ('mtv', 86), ('rocky', 86), ('domestic', 86), ('despair', 86), ('mundane', 86), ('hilariously', 86), ('bargain', 86), ('der', 86), ('nyc', 86), ('landscapes', 86), ('crucial', 86), ('tooth', 86), ('overlook', 86), ('enthusiasm', 86), ('calm', 86), ('earl', 86), ('rangers', 86), ('sincere', 86), ('channels', 86), ('3d', 86), ('dropping', 86), ('reel', 86), ('tends', 86), ('butler', 86), ('ninja', 86), ('photo', 86), ('warmth', 86), ('rats', 86), ('instinct', 86), ('waitress', 86), ('reid', 86), ('stale', 86), ('marion', 86), ('exceptionally', 86), ('dressing', 86), ('rukh', 86), ('julian', 86), ('creativity', 85), ('watson', 85), ('opportunities', 85), ('whats', 85), ('historically', 85), ('prequel', 85), ('irrelevant', 85), ('novak', 85), ('pamela', 85), ('muslim', 85), ('priceless', 85), ('imitation', 85), ('iraq', 85), ('loaded', 85), ('wishing', 85), ('mechanical', 85), ('13th', 85), ('polished', 85), ('specially', 85), ('defense', 85), ('pursuit', 85), ('thompson', 85), ('recording', 85), ('improvement', 85), ('carla', 85), ('resident', 85), ('survivor', 85), ('belong', 85), ('heights', 85), ('willie', 85), ('assassin', 85), ('generated', 85), ('bumbling', 85), ('israel', 85), ('mentions', 85), ('monk', 85), ('methods', 85), ('icon', 85), ('spain', 85), ('omen', 85), ('angela', 85), ('masterpieces', 85), ('cassidy', 85), ('orleans', 85), ('randomly', 85), ('chooses', 85), ('orange', 85), ('pink', 85), ('zizek', 85), ('suspend', 84), ('suffice', 84), ('poem', 84), ('whoopi', 84), ('marketing', 84), ('performs', 84), ('promises', 84), ('mon', 84), ('phony', 84), ('alcohol', 84), ('household', 84), ('brenda', 84), ('wounded', 84), ('elm', 84), ('gentleman', 84), ('cannibal', 84), ('dolph', 84), ('alfred', 84), ('sneak', 84), ('les', 84), ('map', 84), ('album', 84), ('ham', 84), ('nephew', 84), ('simmons', 84), ('abraham', 84), ('meryl', 84), ('wacky', 84), ('travesty', 84), ('minimum', 84), ('awfully', 84), ('introduce', 84), ('ruins', 84), ('borrowed', 84), ('palace', 84), ('distinct', 84), ('gifted', 84), ('resist', 84), ('empathy', 84), ('damme', 84), ('maid', 84), ('nerd', 84), ('feminist', 84), ('unreal', 84), ('troubles', 84), ('mentioning', 84), ('fido', 84), ('sabrina', 84), ('ustinov', 83), ('stargate', 83), ('hippie', 83), ('popularity', 83), ('caliber', 83), ('definition', 83), ('testament', 83), ('quinn', 83), ('scotland', 83), ('masses', 83), ('purposes', 83), ('petty', 83), ('respected', 83), ('attend', 83), ('josh', 83), ('stretched', 83), ('maniac', 83), ('assigned', 83), ('trail', 83), ('eugene', 83), ('receives', 83), ('crystal', 83), ('kurosawa', 83), ('dimension', 83), ('businessman', 83), ('unoriginal', 83), ('spacey', 83), ('rolled', 83), ('kissing', 83), ('activities', 83), ('inducing', 83), ('etc.', 83), ('equipment', 83), ('fury', 83), ('swim', 83), ('showdown', 83), ('unseen', 83), ('bud', 83), ('walsh', 83), ('tribe', 83), ('clip', 83), ('moronic', 83), ('educational', 83), ('greg', 83), ('mclaglen', 83), ('unaware', 83), ('peters', 83), ('deaf', 83), ('dana', 83), ('ramones', 83), ('darren', 83), ('soderbergh', 83), ('expressed', 83), ('miyazaki', 83), ('championship', 83), ('eastern', 83), ('quit', 83), ('fuller', 83), ('unpredictable', 82), ('wholly', 82), ('buffalo', 82), ('yard', 82), ('fed', 82), ('punishment', 82), ('hopeless', 82), ('antonioni', 82), ('nonsensical', 82), ('warriors', 82), ('valley', 82), ('deniro', 82), ('pin', 82), ('stunned', 82), ('retired', 82), ('nathan', 82), ('rave', 82), ('austin', 82), ('composer', 82), ('pierce', 82), ('edgy', 82), ('distribution', 82), ('biography', 82), ('absent', 82), ('integrity', 82), ('shed', 82), ('tarantino', 82), ('laughably', 82), ('nicole', 82), ('z', 82), ('ross', 82), ('inevitably', 82), ('deceased', 82), ('package', 82), ('crawford', 82), ('firm', 82), ('assumed', 82), ('sissy', 82), ('depicting', 82), ('underlying', 82), ('sixties', 82), ('30s', 82), ('resulting', 82), ('teaching', 82), ('sid', 82), ('doubts', 82), ('contest', 82), ('exposure', 82), ('trademark', 81), ('peak', 81), ('reflection', 81), ('dreck', 81), ('puppet', 81), ('greatness', 81), ('brutality', 81), ('directions', 81), ('landing', 81), ('supported', 81), ('alec', 81), ('roots', 81), ('joel', 81), ('accuracy', 81), ('compassion', 81), ('twins', 81), ('35', 81), ('strangers', 81), ('expedition', 81), ('correctly', 81), ('furious', 81), ('confess', 81), ('metaphor', 81), ('shanghai', 81), ('tech', 81), ('merits', 81), ('harm', 81), ('buster', 81), ('suggested', 81), ('dee', 81), ('wang', 81), ('uplifting', 81), ('aim', 81), ('companies', 80), ('adaptations', 80), ('dud', 80), ('conditions', 80), ('woo', 80), ('technicolor', 80), ('leon', 80), ('chicken', 80), ('5.', 80), ('legacy', 80), ('baldwin', 80), ('files', 80), ('seldom', 80), ('tank', 80), ('grabs', 80), ('romp', 80), ('immediate', 80), ('stuart', 80), ('pete', 80), ('patience', 80), ('kumar', 80), ('rita', 80), ('phil', 80), ('slice', 80), ('exchange', 80), ('resemble', 80), ('ambiguous', 80), ('claus', 80), ('reader', 80), ('invented', 80), ('coast', 80), ('checked', 80), ('malone', 80), ('1933', 80), ('marshall', 80), ('shaky', 80), ('unfair', 80), ('preston', 80), ('loyalty', 80), ('femme', 80), ('valentine', 80), ('pressure', 80), ('da', 80), ('interests', 80), ('victory', 80), ('glasses', 80), ('fought', 80), ('indulgent', 80), ('wretched', 79), ('passable', 79), ('tacky', 79), ('frustrating', 79), ('grief', 79), ('inability', 79), ('demise', 79), ('singers', 79), ('fields', 79), ('confrontation', 79), ('ordered', 79), ('examination', 79), ('kansas', 79), ('husbands', 79), ('crazed', 79), ('marc', 79), ('christianity', 79), ('rises', 79), ('vance', 79), ('vulgar', 79), ('disliked', 79), ('milk', 79), ('experimental', 79), ('newman', 79), ('robbins', 79), ('lackluster', 79), ('generations', 79), ('ships', 79), ('masks', 79), ('significance', 79), ('andre', 79), ('hawke', 79), ('subjected', 79), ('gregory', 79), ('blast', 79), ('tube', 79), ('astonishing', 79), ('spark', 79), ('objective', 79), ('stack', 79), ('1983', 79), ('cracking', 79), ('alicia', 79), ('respectively', 79), ('billed', 79), ('comfort', 79), ('prey', 79), ('millionaire', 79), ('logan', 79), ('russia', 79), ('raines', 79), ('din', 79), ('karl', 78), ('unexpectedly', 78), ('flair', 78), ('sopranos', 78), ('addicted', 78), ('fascination', 78), ('stumbled', 78), ('remained', 78), ('gather', 78), ('boyle', 78), ('palance', 78), ('tastes', 78), ('downey', 78), ('bridget', 78), ('senses', 78), ('infected', 78), ('dysfunctional', 78), ('wilderness', 78), ('sharon', 78), ('murray', 78), ('rates', 78), ('alternative', 78), ('desires', 78), ('hears', 78), ('conscious', 78), ('tripe', 78), ('poison', 78), ('females', 78), ('parade', 78), ('deranged', 78), ('frightened', 78), ('premiere', 78), ('simultaneously', 78), ('amused', 78), ('cream', 78), ('foxx', 78), ('replace', 78), ('sugar', 78), ('difficulties', 78), ('bunny', 78), ('sentinel', 78), ('wwe', 78), ('relax', 78), ('skull', 78), ('basinger', 78), ('kolchak', 78), ('wildly', 77), ('musician', 77), ('paradise', 77), ('cannon', 77), ('interactions', 77), ('amusement', 77), ('accomplish', 77), ('19th', 77), ('underneath', 77), ('sung', 77), ('noises', 77), ('presenting', 77), ('joins', 77), ('complaints', 77), ('rude', 77), ('sunny', 77), ('fishing', 77), ('teachers', 77), ('pun', 77), ('exposition', 77), ('fingers', 77), ('remakes', 77), ('lands', 77), ('silliness', 77), ('awhile', 77), ('fifty', 77), ('require', 77), ('challenged', 77), ('favour', 77), ('musicians', 77), ('items', 77), ('primitive', 77), ('wakes', 77), ('caricatures', 77), ('fog', 77), ('minus', 77), ('appropriately', 77), ('function', 77), ('lock', 77), ('shoulders', 77), ('prepare', 77), ('hungry', 77), ('wagner', 77), ('sentiment', 77), ('refused', 77), ('agenda', 77), ('bacon', 77), ('raises', 77), ('filling', 77), ('paramount', 77), ('precisely', 77), ('comedians', 77), ('abused', 77), ('h.', 77), ('phrase', 77), ('posters', 76), ('posey', 76), ('fathers', 76), ('murdering', 76), ('adolescent', 76), ('straightforward', 76), ('esther', 76), ('leigh', 76), ('aspiring', 76), ('muddled', 76), ('choppy', 76), ('unfold', 76), ('policeman', 76), ('knight', 76), ('framed', 76), ('p.s', 76), ('literary', 76), ('releases', 76), ('edit', 76), ('riot', 76), ('breed', 76), ('discovering', 76), ('coincidence', 76), ('charged', 76), ('stark', 76), ('hopkins', 76), ('fantasies', 76), ('tomorrow', 76), ('misleading', 76), ('teaches', 76), ('babies', 76), ('dirt', 76), ('quietly', 76), ('beverly', 76), ('electric', 76), ('complaining', 76), ('absurdity', 76), ('curly', 76), ('pitiful', 76), ('iv', 76), ('clarke', 76), ('sums', 76), ('asylum', 76), ('celebration', 76), ('servant', 76), ('penn', 76), ('region', 76), ('weakness', 76), ('designer', 76), ('roommate', 76), ('rifle', 76), ('grotesque', 76), ('credited', 76), ('roof', 76), ('unlikable', 76), ('knocked', 76), ('loneliness', 76), ('visiting', 76), ('springer', 76), ('rely', 75), ('industrial', 75), ('realised', 75), ('devices', 75), ('nemesis', 75), ('saint', 75), ('blacks', 75), ('ethnic', 75), ('handling', 75), ('active', 75), ('1997', 75), ('dose', 75), ('cue', 75), ('inexplicably', 75), ('hackneyed', 75), ('imaginable', 75), ('el', 75), ('1973', 75), ('penny', 75), ('attenborough', 75), ('duvall', 75), ('encourage', 75), ('heartfelt', 75), ('provocative', 75), ('profanity', 75), ('conscience', 75), ('bread', 75), ('visited', 75), ('biased', 75), ('shared', 75), ('adopted', 75), ('occasions', 75), ('preposterous', 75), ('lindsay', 75), ('automatically', 75), ('swing', 75), ('dresses', 75), ('nolan', 75), ('acclaimed', 75), ('invites', 75), ('roller', 75), ('40s', 75), ('objects', 75), ('citizens', 75), ('shoddy', 75), ('conviction', 75), ('haired', 75), ('trend', 75), ('ratso', 75), ('freaks', 75), ('mode', 75), ('behaviour', 75), ('bernard', 75), ('22', 75), ('shoulder', 75), ('reign', 75), ('tierney', 75), ('boxer', 75), ('mccoy', 75), ('chavez', 75), ('uncut', 74), ('option', 74), ('hk', 74), ('additional', 74), ('tracking', 74), ('hughes', 74), ('cancer', 74), ('rod', 74), ('naughty', 74), ('heartbreaking', 74), ('positively', 74), ('cattle', 74), ('ignorance', 74), ('hopelessly', 74), ('skits', 74), ('beatles', 74), ('controlled', 74), ('squad', 74), ('outfits', 74), ('chills', 74), ('heist', 74), ('secondary', 74), ('sketch', 74), ('youngest', 74), ('1984', 74), ('nut', 74), ('laurence', 74), ('paxton', 74), ('bow', 74), ('dont', 74), ('moreover', 74), ('ladder', 74), ('er', 74), ('tyler', 74), ('canyon', 74), ('translated', 74), ('referred', 74), ('quaid', 74), ('accepts', 74), ('vader', 74), ('regarded', 74), ('yeti', 74), ('betrayal', 73), ('daniels', 73), ('darn', 73), ('deserted', 73), ('patricia', 73), ('chainsaw', 73), ('severely', 73), ('martha', 73), ('outs', 73), ('lush', 73), ('abrupt', 73), ('guitar', 73), ('1995', 73), ('respective', 73), ('refer', 73), ('peck', 73), ('kline', 73), ('bitch', 73), ('meg', 73), ('lip', 73), ('suspension', 73), ('en', 73), ('recommendation', 73), ('brendan', 73), ('tasteless', 73), ('backs', 73), ('bronson', 73), ('insurance', 73), ('fade', 73), ('gal', 73), ('l.a.', 73), ('pages', 73), ('realm', 73), ('glowing', 73), ('gillian', 73), ('jess', 73), ('chuckle', 73), ('rosemary', 73), ('morbid', 73), ('affection', 73), ('corpses', 73), ('preminger', 73), ('screens', 73), ('muppet', 73), ('conventions', 73), ('coaster', 73), ('thread', 73), ('nod', 73), ('renaissance', 73), ('christine', 73), ('jews', 73), ('kitty', 73), ('historic', 73), ('challenges', 73), ('gambling', 73), ('gina', 73), ('bye', 73), ('admirable', 73), ('labor', 73), ('1987', 73), ('barrel', 72), ('poe', 72), ('circus', 72), ('eternal', 72), ('indication', 72), ('reluctant', 72), ('praised', 72), ('a.', 72), ('disappears', 72), ('shares', 72), ('guests', 72), ('q', 72), ('sympathize', 72), ('counts', 72), ('sooner', 72), ('farmer', 72), ('artsy', 72), ('psychology', 72), ('inconsistent', 72), ('wilder', 72), ('bike', 72), ('soup', 72), ('evidently', 72), ('selection', 72), ('prejudice', 72), ('hyped', 72), ('lester', 72), ('filler', 72), ('underworld', 72), ('invited', 72), ('uh', 72), ('lois', 72), ('rejected', 72), ('1936', 72), ('fist', 72), ('address', 72), ('rome', 72), ('guaranteed', 72), ('minister', 72), ('fontaine', 72), ('kidman', 72), ('anticipation', 71), ('reflects', 71), ('depending', 71), ('hack', 71), ('previews', 71), ('drove', 71), ('3000', 71), ('outing', 71), ('receiving', 71), ('trivia', 71), ('nicolas', 71), ('gere', 71), ('bent', 71), ('investigating', 71), ('venture', 71), ('stages', 71), ('heading', 71), ('gut', 71), ('reeves', 71), ('cruelty', 71), ('beside', 71), ('overlong', 71), ('popping', 71), ('bully', 71), ('filth', 71), ('stopping', 71), ('posted', 71), ('scorsese', 71), ('iconic', 71), ('zombi', 71), ('acceptance', 71), ('shades', 71), ('marvel', 71), ('conveys', 71), ('threatens', 71), ('hammy', 71), ('stalker', 71), ('mayhem', 71), ('tenant', 71), ('cope', 71), ('affairs', 71), ('banal', 71), ('tip', 71), ('grudge', 71), ('boston', 71), ('tail', 71), ('oldest', 71), ('dates', 71), ('angst', 71), ('insipid', 71), ('promote', 71), ('steady', 71), ('harmless', 71), ('weaknesses', 71), ('snakes', 71), ('nails', 71), ('agency', 71), ('housewife', 71), ('beware', 71), ('burst', 71), ('macho', 71), ('muppets', 71), ('sox', 71), ('pounds', 70), ('demonstrates', 70), ('hepburn', 70), ('triple', 70), ('understands', 70), ('portrayals', 70), ('denis', 70), ('locals', 70), ('explores', 70), ('disguise', 70), ('firing', 70), ('lifted', 70), ('vein', 70), ('deleted', 70), ('exceptions', 70), ('strongest', 70), ('fifties', 70), ('hokey', 70), ('harold', 70), ('absorbed', 70), ('remade', 70), ('records', 70), ('cushing', 70), ('employed', 70), ('commander', 70), ('ants', 70), ('fluff', 70), ('morally', 70), ('grainy', 70), ('studies', 70), ('naschy', 70), ('studying', 70), ('confident', 70), ('visions', 70), ('cassavetes', 70), ('schlock', 70), ('alvin', 70), ('completed', 70), ('campaign', 70), ('terrified', 70), ('misguided', 70), ('rhythm', 70), ('steele', 70), ('entitled', 70), ('height', 70), ('route', 70), ('connections', 70), ('2008', 70), ('runner', 70), ('obligatory', 70), ('difficulty', 70), ('yawn', 70), ('widescreen', 70), ('nolte', 70), ('gear', 70), ('behold', 70), ('partners', 69), ('ace', 69), ('zane', 69), ('v', 69), ('assured', 69), ('hara', 69), ('ebert', 69), ('ariel', 69), ('rapist', 69), ('emerges', 69), ('unrelated', 69), ('gate', 69), ('stairs', 69), ('prominent', 69), ('shortcomings', 69), ('couch', 69), ('rounded', 69), ('y', 69), ('offs', 69), ('stores', 69), ('1988', 69), ('sending', 69), ('insists', 69), ('wings', 69), ('physics', 69), ('despicable', 69), ('hapless', 69), ('disgusted', 69), ('mothers', 69), ('predict', 69), ('clueless', 69), ('conclude', 69), ('representation', 69), ('spinal', 69), ('casual', 69), ('vital', 69), ('someday', 69), ('flashy', 69), ('interestingly', 69), ('champion', 69), ('preachy', 69), ('paintings', 69), ('attract', 69), ('unexplained', 69), ('pole', 69), ('recognizable', 69), ('legends', 69), ('recycled', 69), ('mentality', 69), ('slimy', 69), ('phenomenon', 69), ('sassy', 69), ('bitten', 69), ('communicate', 69), ('suitably', 69), ('repeating', 69), ('duck', 69), ('politician', 69), ('redeem', 69), ('mol', 69), ('danish', 69), ('cohen', 69), ('neill', 68), ('cookie', 68), ('corman', 68), ('claiming', 68), ('melody', 68), ('colin', 68), ('marlon', 68), ('shouting', 68), ('pixar', 68), ('claustrophobic', 68), ('independence', 68), ('1978', 68), ('considerably', 68), ('tunnel', 68), ('melissa', 68), ('garner', 68), ('harrison', 68), ('heartwarming', 68), ('raj', 68), ('wig', 68), ('befriends', 68), ('ingenious', 68), ('min', 68), ('28', 68), ('dylan', 68), ('assuming', 68), ('phillip', 68), ('timberlake', 68), ('comparisons', 68), ('marries', 68), ('pleasing', 68), ('ish', 68), ('globe', 68), ('eats', 68), ('pickford', 68), ('loretta', 68), ('screw', 68), ('rendered', 68), ('jordan', 68), ('limit', 68), ('forcing', 68), ('inexplicable', 68), ('delicate', 68), ('shopping', 68), ('flowers', 68), ('gems', 68), ('norm', 68), ('europa', 68), ('coup', 68), ('discussing', 68), ('clan', 68), ('defeated', 68), ('scoop', 68), ('info', 68), ('vibrant', 68), ('carey', 68), ('feeding', 68), ('cher', 68), ('phillips', 68), ('charms', 68), ('f.', 68), ('clad', 68), ('elite', 68), ('lukas', 68), ('corbett', 68), ('genie', 68), ('immature', 67), ('transformed', 67), ('uma', 67), ('georges', 67), ('wire', 67), ('ambition', 67), ('tempted', 67), ('christie', 67), ('bridges', 67), ('depends', 67), ('sharing', 67), ('hilarity', 67), ('towers', 67), ('1971', 67), ('camcorder', 67), ('jr', 67), ('73', 67), ('symbolic', 67), ('doctors', 67), ('anton', 67), ('backwards', 67), ('lift', 67), ('strings', 67), ('blatantly', 67), ('organized', 67), ('vanessa', 67), ('.......', 67), ('bend', 67), ('incidentally', 67), ('surgery', 67), ('guinness', 67), ('inhabitants', 67), ('salt', 67), ('1993', 67), ('ritchie', 67), ('kathryn', 67), ('glamorous', 67), ('deserving', 67), ('claude', 67), ('http', 67), ('eternity', 67), ('election', 67), ('publicity', 67), ('screwed', 67), ('shaking', 67), ('static', 67), ('belt', 67), ('toronto', 67), ('traffic', 67), ('bondage', 67), ('item', 67), ('wendigo', 67), ('winchester', 67), ('institution', 67), ('mathieu', 67), ('weather', 67), ('computers', 66), ('ton', 66), ('keen', 66), ('audrey', 66), ('breakfast', 66), ('affleck', 66), ('rope', 66), ('damaged', 66), ('detectives', 66), ('insightful', 66), ('mermaid', 66), ('1989', 66), ('differently', 66), ('1986', 66), ('alley', 66), ('goers', 66), ('pc', 66), ('charlton', 66), ('minority', 66), ('disorder', 66), ('programs', 66), ('dandy', 66), ('centre', 66), ('messy', 66), ('remove', 66), ('leather', 66), ('nope', 66), ('frames', 66), ('19', 66), ('coupled', 66), ('wax', 66), ('lasting', 66), ('feat', 66), ('concepts', 66), ('vocal', 66), ('debate', 66), ('assassination', 66), ('threatened', 66), ('shorter', 66), ('bombs', 66), ('arc', 66), ('satirical', 66), ('thrilled', 66), ('departure', 66), ('swept', 66), ('exploring', 66), ('natives', 66), ('excess', 66), ('mirrors', 66), ('continually', 66), ('smiles', 66), ('cheer', 66), ('boyer', 66), ('chamberlain', 66), ('partially', 66), ('dudley', 66), ('destined', 66), ('schools', 66), ('authorities', 66), ('spree', 66), ('oriented', 66), ('stumbles', 66), ('voted', 66), ('suggestion', 65), ('carlito', 65), ('preferred', 65), ('outdated', 65), ('bars', 65), ('lifeless', 65), ('proving', 65), ('homicide', 65), ('pacific', 65), ('northern', 65), ('windows', 65), ('duration', 65), ('d.', 65), ('mitch', 65), ('layers', 65), ('inspire', 65), ('handles', 65), ('huston', 65), ('newer', 65), ('trials', 65), ('casts', 65), ('mannerisms', 65), ('formed', 65), ('landed', 65), ('racing', 65), ('fifth', 65), ('accurately', 65), ('alexandre', 65), ('bogus', 65), ('razor', 65), ('token', 65), ('mercy', 65), ('wanders', 65), ('4th', 65), ('1990s', 65), ('dvds', 65), ('bates', 65), ('holocaust', 65), ('knightley', 65), ('uniformly', 65), ('triangle', 65), ('hum', 65), ('trier', 65), ('moe', 65), ('sorely', 65), ('deer', 65), ('neurotic', 65), ('commenting', 65), ('niece', 65), ('hides', 65), ('hangs', 65), ('fishburne', 65), ('punches', 65), ('profession', 65), ('cons', 65), ('goldsworthy', 65), ('g.', 65), ('braveheart', 65), ('milo', 65), ('obtain', 64), ('vile', 64), ('gods', 64), ('mcqueen', 64), ('mutual', 64), ('demonic', 64), ('healthy', 64), ('sleaze', 64), ('exquisite', 64), ('undead', 64), ('reliable', 64), ('lex', 64), ('disastrous', 64), ('evolution', 64), ('skit', 64), ('biblical', 64), ('jared', 64), ('liu', 64), ('ol', 64), ('ripping', 64), ('einstein', 64), ('containing', 64), ('tapes', 64), ('cbs', 64), ('tara', 64), ('sincerely', 64), ('hulk', 64), ('nina', 64), ('choosing', 64), ('wtf', 64), ('entered', 64), ('myth', 64), ('speeches', 64), ('heels', 64), ('creek', 64), ('firmly', 64), ('gable', 64), ('natalie', 64), ('btw', 64), ('eleven', 64), ('setup', 64), ('audition', 64), ('errol', 64), ('altered', 64), ('helpful', 64), ('engrossing', 64), ('forgiven', 64), ('spies', 64), ('neatly', 64), ('elevator', 64), ('demanding', 64), ('predecessor', 64), ('cartoonish', 64), ('seeming', 64), ('gilliam', 64), ('bowl', 64), ('outright', 64), ('brooding', 64), ('sleeps', 64), ('earn', 64), ('randolph', 64), ('buzz', 64), ('rear', 64), ('clara', 64), ('kazan', 64), ('goldblum', 63), ('mixing', 63), ('miniseries', 63), ('addict', 63), ('tops', 63), ('tower', 63), ('survives', 63), ('candidate', 63), ('educated', 63), ('radical', 63), ('poker', 63), ('artwork', 63), ('lampoon', 63), ('carmen', 63), ('bachelor', 63), ('activity', 63), ('topics', 63), ('justified', 63), ('grateful', 63), ('regards', 63), ('highway', 63), ('akin', 63), ('bloom', 63), ('owners', 63), ('mason', 63), ('deny', 63), ('vain', 63), ('conrad', 63), ('boris', 63), ('emerge', 63), ('1981', 63), ('critique', 63), ('mesmerizing', 63), ('rooting', 63), ('walt', 63), ('shepherd', 63), ('banter', 63), ('destroys', 63), ('guards', 63), ('cemetery', 63), ('boasts', 63), ('leaders', 63), ('label', 63), ('refuse', 63), ('hats', 63), ('preparing', 63), ('shell', 63), ('injured', 63), ('bsg', 63), ('disgrace', 63), ('startling', 63), ('seedy', 63), ('realities', 63), ('conan', 63), ('statue', 63), ('insanity', 63), ('dim', 63), ('sometime', 63), ('crossing', 63), ('joker', 63), ('subtly', 63), ('frontal', 63), ('nations', 63), ('approaches', 63), ('stare', 63), ('rampage', 63), ('helpless', 63), ('describing', 63), ('antonio', 63), ('insights', 63), ('truman', 63), ('capote', 63), ('error', 63), ('deliverance', 63), ('potter', 63), ('1945', 63), ('evelyn', 63), ('kent', 63), ('paula', 63), ('corporation', 62), ('las', 62), ('grounds', 62), ('mum', 62), ('washed', 62), ('applaud', 62), ('origin', 62), ('cerebral', 62), ('reeve', 62), ('internal', 62), ('relentless', 62), ('hackman', 62), ('affects', 62), ('cinemas', 62), ('inspirational', 62), ('l.', 62), ('salman', 62), ('monty', 62), ('advertised', 62), ('hugely', 62), ('votes', 62), ('restrained', 62), ('net', 62), ('ingrid', 62), ('refers', 62), ('casino', 62), ('dubious', 62), ('tokyo', 62), ('rides', 62), ('masterfully', 62), ('miami', 62), ('jill', 62), ('lauren', 62), ('judd', 62), ('puppets', 62), ('coat', 62), ('dazzling', 62), ('disgust', 62), ('id', 62), ('wrenching', 62), ('thirties', 62), ('vastly', 62), ('bulk', 62), ('thunderbirds', 62), ('contempt', 62), ('terminator', 62), ('shaped', 62), ('compete', 62), ('homes', 62), ('crashes', 62), ('des', 62), ('photographs', 62), ('gimmick', 62), ('masterson', 62), ('freeze', 62), ('narrow', 62), ('sergeant', 62), ('luis', 62), ('exploits', 62), ('contribution', 62), ('unlikeable', 62), ('jacket', 62), ('giants', 62), ('wardrobe', 62), ('bach', 62), ('cain', 62), ('growth', 62), ('1979', 62), ('located', 62), ('scariest', 62), ('scarface', 62), ('owes', 62), ('caricature', 62), ('linear', 62), ('21st', 62), ('modest', 62), ('weaker', 62), ('gunga', 62), ('jedi', 62), ('armstrong', 62), ('gates', 61), ('males', 61), ('undeniably', 61), ('headache', 61), ('75', 61), ('porter', 61), ('w.', 61), ('convinces', 61), ('e.', 61), ('underwear', 61), ('dread', 61), ('continuing', 61), ('corn', 61), ('butcher', 61), ('nominations', 61), ('1976', 61), ('authenticity', 61), ('chronicles', 61), ('bravo', 61), ('excellently', 61), ('lasts', 61), ('sniper', 61), ('disguised', 61), ('christina', 61), ('macabre', 61), ('factors', 61), ('screenwriters', 61), ('detract', 61), ('natured', 61), ('ie', 61), ('wonderland', 61), ('gained', 61), ('missile', 61), ('mates', 61), ('convicted', 61), ('hers', 61), ('youthful', 61), ('limitations', 61), ('inaccurate', 61), ('damned', 61), ('lean', 61), ('bones', 61), ('beowulf', 61), ('expertly', 61), ('rapidly', 61), ('casper', 61), ('reward', 61), ('sophie', 61), ('scifi', 61), ('.the', 61), ('vehicles', 61), ('cecil', 61), ('hires', 61), ('parsons', 61), ('stunningly', 61), ('abruptly', 61), ('unsuspecting', 61), ('1969', 61), ('homosexuality', 61), ('swallow', 61), ('painter', 61), ('motive', 61), ('decline', 61), ('arab', 61), ('strengths', 61), ('spine', 61), ('soylent', 61), ('unsure', 61), ('perception', 61), ('harlow', 61), ('crosby', 61), ('repulsive', 61), ('mitchum', 61), ('galaxy', 61), ('standout', 61), ('mabel', 61), ('ally', 61), ('origins', 61), ('supply', 60), ('promptly', 60), ('witchcraft', 60), ('entirety', 60), ('puerto', 60), ('stalking', 60), ('yep', 60), ('insults', 60), ('enhanced', 60), ('burke', 60), ('rookie', 60), ('delicious', 60), ('jarring', 60), ('owned', 60), ('misfortune', 60), ('exterior', 60), ('clash', 60), ('colours', 60), ('lend', 60), ('lennon', 60), ('teams', 60), ('dominated', 60), ('literal', 60), ('servants', 60), ('entering', 60), ('polly', 60), ('siblings', 60), ('published', 60), ('playboy', 60), ('wander', 60), ('mobile', 60), ('1940s', 60), ('garland', 60), ('unattractive', 60), ('definitive', 60), ('derivative', 60), ('nerves', 60), ('sinking', 60), ('repressed', 60), ('residents', 60), ('toni', 60), ('sale', 60), ('buys', 60), ('span', 60), ('slide', 60), ('referring', 60), ('juliet', 60), ('resolved', 60), ('netflix', 60), ('spit', 60), ('earnest', 60), ('suburban', 60), ('users', 60), ('nbc', 60), ('bruno', 60), ('lighter', 60), ('yokai', 60), ('vividly', 60), ('gypo', 60), ('mice', 60), ('longest', 60), ('dealer', 60), ('fatale', 60), ('confront', 60), ('judgment', 60), ('confronted', 60), ('stardom', 60), ('energetic', 60), ('disabled', 60), ('cents', 60), ('pirate', 60), ('magician', 60), ('ronald', 60), ('anil', 60), ('uniform', 60), ('tossed', 60), ('endlessly', 60), ('salvation', 60), ('cheadle', 60), ('mutant', 60), ('accessible', 60), ('lance', 60), ('amrita', 60), ('kinnear', 60), ('cyborg', 59), ('nerve', 59), ('thurman', 59), ('caron', 59), ('imo', 59), ('irene', 59), ('sticking', 59), ('syndrome', 59), ('anyhow', 59), ('identical', 59), ('grass', 59), ('characteristics', 59), ('respectable', 59), ('victorian', 59), ('filthy', 59), ('exorcist', 59), ('laurie', 59), ('principle', 59), ('foolish', 59), ('astounding', 59), ('unimaginative', 59), ('hindi', 59), ('cries', 59), ('bashing', 59), ('hi', 59), ('cliches', 59), ('pale', 59), ('asia', 59), ('sensible', 59), ('depict', 59), ('severed', 59), ('wounds', 59), ('dismal', 59), ('loy', 59), ('jodie', 59), ('divorced', 59), ('mama', 59), ('inherent', 59), ('erika', 59), ('butch', 59), ('bubble', 59), ('interact', 59), ('approaching', 59), ('yours', 59), ('spencer', 59), ('belly', 59), ('blooded', 59), ('assembled', 59), ('separated', 59), ('expects', 59), ('snuff', 59), ('implied', 59), ('senior', 59), ('offbeat', 59), ('tormented', 59), ('eventual', 59), ('glued', 59), ('readers', 59), ('cypher', 59), ('pray', 59), ('habit', 59), ('breathing', 59), ('dragons', 59), ('biting', 59), ('owns', 59), ('troma', 59), ('underwater', 59), ('stranded', 59), ('colleagues', 59), ('cleaning', 59), ('exit', 59), ('depths', 59), ('drinks', 59), ('tax', 59), ('lola', 59), ('dilemma', 59), ('jules', 59), ('improbable', 59), ('feast', 59), ('wong', 59), ('crisp', 59), ('harriet', 59), ('sized', 59), ('expectation', 58), ('flashes', 58), ('amazon', 58), ('informed', 58), ('exploit', 58), ('decidedly', 58), ('principals', 58), ('hippies', 58), ('lightning', 58), ('steam', 58), ('incapable', 58), ('odyssey', 58), ('isolation', 58), ('reminder', 58), ('rider', 58), ('sought', 58), ('axe', 58), ('budgets', 58), ('races', 58), ('adore', 58), ('95', 58), ('sf', 58), ('meandering', 58), ('estranged', 58), ('sublime', 58), ('noticeable', 58), ('plotting', 58), ('flimsy', 58), ('spectacle', 58), ('stylized', 58), ('99', 58), ('esquire', 58), ('barbra', 58), ('scratch', 58), ('breakdown', 58), ('sand', 58), ('quentin', 58), ('jan', 58), ('packs', 58), ('pattern', 58), ('appeals', 58), ('wisely', 58), ('gentlemen', 58), ('promoted', 58), ('immortal', 58), ('berkeley', 58), ('connor', 58), ('demonstrate', 58), ('miranda', 58), ('glaring', 58), ('worms', 58), ('deliberate', 58), ('psychopath', 58), ('dustin', 58), ('answered', 58), ('chopped', 58), ('conveyed', 58), ('pocket', 58), ('fragile', 58), ('tool', 58), ('judged', 58), ('concentrate', 58), ('subway', 58), ('1939', 58), ('passengers', 58), ('mrs', 58), ('tremendously', 58), ('dump', 58), ('possess', 58), ('devastating', 58), ('deanna', 58), ('pumbaa', 58), ('balanced', 58), ('turd', 58), ('quarter', 58), ('toby', 58), ('filmmaking', 58), ('minnelli', 58), ('escaping', 58), ('laden', 58), ('cheaply', 58), ('hayworth', 58), ('enthusiastic', 58), ('1944', 58), ('nightclub', 58), ('clay', 58), ('ugh', 58), ('numbing', 58), ('werewolves', 58), ('timmy', 58), ('basket', 58), ('crippled', 57), ('quantum', 57), ('advised', 57), ('experiencing', 57), ('spaghetti', 57), ('whiny', 57), ('voyage', 57), ('ensure', 57), ('addiction', 57), ('reviewing', 57), ('robertson', 57), ('ps', 57), ('celebrated', 57), ('romeo', 57), ('jealousy', 57), ('cal', 57), ('arguing', 57), ('attacking', 57), ('classy', 57), ('karate', 57), ('stephanie', 57), ('volume', 57), ('samantha', 57), ('shepard', 57), ('ultimatum', 57), ('outline', 57), ('freaky', 57), ('ominous', 57), ('moron', 57), ('expose', 57), ('sentimentality', 57), ('goods', 57), ('reports', 57), ('longing', 57), ('embrace', 57), ('dj', 57), ('destructive', 57), ('combines', 57), ('selected', 57), ('seymour', 57), ('messing', 57), ('intricate', 57), ('1974', 57), ('franklin', 57), ('pegg', 57), ('collect', 57), ('debt', 57), ('divine', 57), ('crown', 57), ('sydney', 57), ('cape', 57), ('colored', 57), ('contribute', 57), ('pause', 57), ('clone', 57), ('rescued', 57), ('absorbing', 57), ('copied', 57), ('excruciatingly', 57), ('rewarding', 57), ('sidewalk', 57), ('conveniently', 57), ('updated', 57), ('pound', 57), ('kidnapping', 57), ('revolt', 57), ('hadley', 57), ('zorro', 57), ('cunningham', 57), ('peaceful', 57), ('frontier', 57), ('gamera', 57), ('fleshed', 56), ('niven', 56), ('anticipated', 56), ('comprehend', 56), ('hannah', 56), ('dame', 56), ('inmates', 56), ('remembering', 56), ('cliffhanger', 56), ('europeans', 56), ('21', 56), ('morals', 56), ('tendency', 56), ('unsatisfying', 56), ('downs', 56), ('aggressive', 56), ('swearing', 56), ('pursue', 56), ('switched', 56), ('whining', 56), ('chill', 56), ('sucker', 56), ('incorrect', 56), ('august', 56), ('longoria', 56), ('goals', 56), ('tourist', 56), ('obsessive', 56), ('havoc', 56), ('herman', 56), ('establish', 56), ('vintage', 56), ('rainy', 56), ('sanders', 56), ('resulted', 56), ('delighted', 56), ('redundant', 56), ('pierre', 56), ('slip', 56), ('bounty', 56), ('jury', 56), ('collette', 56), ('deputy', 56), ('fright', 56), ('dukes', 56), ('taboo', 56), ('juliette', 56), ('horny', 56), ('fairbanks', 56), ('1977', 56), ('melvyn', 56), ('youtube', 56), ('vince', 56), ('overblown', 56), ('fassbinder', 56), ('6.', 56), ('immense', 56), ('suspected', 56), ('vanilla', 56), ('liam', 56), ('stroke', 56), ('parallels', 56), ('daisy', 56), ('stones', 56), ('jenna', 56), ('taped', 56), ('arguments', 56), ('thieves', 56), ('indiana', 56), ('accounts', 56), ('theories', 56), ('arquette', 56), ('aussie', 56), ('furniture', 56), ('distract', 56), ('knocks', 56), ('aided', 56), ('sarcastic', 56), ('accepting', 56), ('grandma', 56), ('turmoil', 56), ('crashing', 56), ('dashing', 56), ('adaption', 56), ('hybrid', 56), ('jaded', 56), ('salesman', 56), ('stella', 56), ('busey', 56), ('jewel', 56), ('bachchan', 56), ('intentional', 56), ('bikini', 56), ('ricky', 56), ('demille', 55), ('papers', 55), ('chiba', 55), ('peculiar', 55), ('1991', 55), ('lethal', 55), ('collective', 55), ('7.', 55), ('puzzle', 55), ('korea', 55), ('goodbye', 55), ('climb', 55), ('dramatically', 55), ('establishment', 55), ('mystical', 55), ('mouthed', 55), ('morons', 55), ('rivers', 55), ('wine', 55), ('lavish', 55), ('commitment', 55), ('psychologist', 55), ('realization', 55), ('shift', 55), ('rebellious', 55), ('virtual', 55), ('define', 55), ('spice', 55), ('brainless', 55), ('subtext', 55), ('fills', 55), ('jolie', 55), ('alleged', 55), ('approached', 55), ('graveyard', 55), ('schneider', 55), ('arranged', 55), ('optimistic', 55), ('apply', 55), ('debbie', 55), ('establishing', 55), ('vega', 55), ('alter', 55), ('boiled', 55), ('sixth', 55), ('predictably', 55), ('hyper', 55), ('anthology', 55), ('gilbert', 55), ('afterward', 55), ('jacques', 55), ('demonstrated', 55), ('adrian', 55), ('cultures', 55), ('begging', 55), ('backed', 55), ('rowlands', 55), ('carnage', 55), ('tolerable', 55), ('slugs', 55), ('distress', 55), ('overboard', 55), ('1953', 55), ('trace', 55), ('wielding', 55), ('shootout', 55), ('clive', 55), ('thelma', 55), ('traits', 55), ('avoiding', 55), ('arrest', 55), ('polish', 55), ('exploding', 55), ('gielgud', 55), ('fascist', 55), ('jersey', 55), ('mormon', 55), ('clooney', 55), ('passage', 55), ('serum', 55), ('canceled', 55), ('stream', 55), ('herbert', 55), ('upside', 55), ('ghetto', 55), ('admired', 55), ('slaves', 55), ('aiming', 55), ('sarandon', 55), ('bogart', 55), ('insomnia', 55), ('scored', 54), ('commits', 54), ('hateful', 54), ('1985', 54), ('wiped', 54), ('enhance', 54), ('gershwin', 54), ('1994', 54), ('feminine', 54), ('dumber', 54), ('kathy', 54), ('hooper', 54), ('contributed', 54), ('newcomer', 54), ('smash', 54), ('courtroom', 54), ('python', 54), ('leap', 54), ('ms', 54), ('ritual', 54), ('cuban', 54), ('slapped', 54), ('elliott', 54), ('owl', 54), ('consciousness', 54), ('unsympathetic', 54), ('wheel', 54), ('marilyn', 54), ('sickening', 54), ('coke', 54), ('vanity', 54), ('insist', 54), ('exploited', 54), ('rea', 54), ('respects', 54), ('strict', 54), ('verbal', 54), ('crosses', 54), ('angie', 54), ('verdict', 54), ('lang', 54), ('haines', 54), ('monologue', 54), ('puppy', 54), ('trains', 54), ('pad', 54), ('seasoned', 54), ('acquired', 54), ('shoe', 54), ('arkin', 54), ('tuned', 54), ('horrified', 54), ('iturbi', 54), ('diverse', 54), ('lunch', 54), ('update', 54), ('mythology', 54), ('23', 54), ('settled', 54), ('skilled', 54), ('chong', 54), ('skinny', 54), ('pedestrian', 54), ('distraction', 54), ('consideration', 54), ('borders', 54), ('pirates', 54), ('mole', 54), ('mouths', 54), ('sang', 54), ('achieves', 54), ('reviewed', 54), ('mentor', 54), ('excuses', 54), ('colman', 54), ('poses', 54), ('duel', 54), ('freaking', 54), ('explodes', 54), ('madsen', 54), ('populated', 54), ('1975', 54), ('arriving', 54), ('beckinsale', 54), ('sammo', 54), ('fools', 54), ('whites', 54), ('sources', 54), ('routines', 54), ('relentlessly', 54), ('medieval', 54), ('georgia', 54), ('sunrise', 54), ('symbol', 54), ('drab', 53), ('cutter', 53), ('olds', 53), ('phenomenal', 53), ('diary', 53), ('sells', 53), ('gooding', 53), ('nun', 53), ('possesses', 53), ('denise', 53), ('ira', 53), ('dillinger', 53), ('cooking', 53), ('introducing', 53), ('keys', 53), ('controlling', 53), ('bonnie', 53), ('shockingly', 53), ('covering', 53), ('republic', 53), ('mute', 53), ('policy', 53), ('mysteriously', 53), ('feeble', 53), ('doyle', 53), ('phase', 53), ('olivia', 53), ('fluid', 53), ('delightfully', 53), ('flower', 53), ('novelty', 53), ('deliciously', 53), ('suggesting', 53), ('attending', 53), ('motorcycle', 53), ('planes', 53), ('sundance', 53), ('professionals', 53), ('mortal', 53), ('tactics', 53), ('lionel', 53), ('posing', 53), ('sheen', 53), ('pathos', 53), ('cigarette', 53), ('awakening', 53), ('romances', 53), ('invention', 53), ('guinea', 53), ('legitimate', 53), ('predator', 53), ('readily', 53), ('forties', 53), ('defies', 53), ('expense', 53), ('penelope', 53), ('ranch', 53), ('martian', 53), ('document', 53), ('satisfaction', 53), ('possession', 53), ('cannes', 53), ('fallon', 53), ('employee', 53), ('encountered', 53), ('weary', 53), ('meal', 53), ('laputa', 53), ('meantime', 53), ('lowe', 53), ('contestants', 53), ('gibson', 53), ('foundation', 53), ('anytime', 53), ('clerk', 53), ('flavor', 53), ('pushes', 53), ('remembers', 53), ('seductive', 53), ('nuances', 53), ('hoot', 53), ('um', 53), ('themed', 53), ('otto', 53), ('psyche', 53), ('fried', 53), ('vomit', 53), ('dynamics', 53), ('explosive', 53), ('pfeiffer', 53), ('israeli', 53), ('dahmer', 53), ('lucille', 53), ('amidst', 53), ('immigrant', 53), ('instincts', 53), ('cameraman', 52), ('columbia', 52), ('convention', 52), ('tickets', 52), ('rosario', 52), ('beg', 52), ('dumbest', 52), ('starters', 52), ('consist', 52), ('aftermath', 52), ('reverse', 52), ('anxious', 52), ('kris', 52), ('ny', 52), ('tcm', 52), ('tho', 52), ('july', 52), ('pursued', 52), ('void', 52), ('steer', 52), ('unusually', 52), ('inaccuracies', 52), ('hooker', 52), ('discussed', 52), ('gwyneth', 52), ('fuzzy', 52), ('dumped', 52), ('narrated', 52), ('sided', 52), ('admitted', 52), ('auto', 52), ('arty', 52), ('cliched', 52), ('noteworthy', 52), ('statements', 52), ('abandon', 52), ('deciding', 52), ('assignment', 52), ('followers', 52), ('centuries', 52), ('sondra', 52), ('excruciating', 52), ('economic', 52), ('meteor', 52), ('additionally', 52), ('releasing', 52), ('deed', 52), ('frog', 52), ('indifferent', 52), ('flock', 52), ('intact', 52), ('regularly', 52), ('lends', 52), ('instances', 52), ('produces', 52), ('arrow', 52), ('embarrassingly', 52), ('debra', 52), ('truths', 52), ('wastes', 52), ('8.', 52), ('stern', 52), ('sgt', 52), ('motions', 52), ('detroit', 52), ('goldie', 52), ('idol', 52), ('rapid', 52), ('swinging', 52), ('viewpoint', 52), ('wheelchair', 52), ('cindy', 52), ('moss', 52), ('sailor', 52), ('targets', 52), ('parking', 52), ('circles', 52), ('medicine', 52), ('screwball', 52), ('products', 52), ('juan', 52), ('degrees', 52), ('shifts', 52), ('biker', 52), ('forgetting', 52), ('pros', 52), ('tomei', 52), ('darth', 52), ('wider', 52), ('neglected', 52), ('vera', 52), ('serials', 52), ('attended', 52), ('creasy', 52), ('greene', 51), ('artistry', 51), ('click', 51), ('warns', 51), ('trigger', 51), ('rejects', 51), ('enigmatic', 51), ('200', 51), ('incidents', 51), ('crossed', 51), ('campus', 51), ('phoenix', 51), ('unanswered', 51), ('manners', 51), ('indicate', 51), ('scripting', 51), ('cody', 51), ('likeable', 51), ('fleet', 51), ('informative', 51), ('cab', 51), ('eli', 51), ('sarcasm', 51), ('inclusion', 51), ('corey', 51), ('1982', 51), ('goodman', 51), ('distracted', 51), ('ordeal', 51), ('shaggy', 51), ('alot', 51), ('edison', 51), ('executives', 51), ('coffin', 51), ('breast', 51), ('factual', 51), ('begs', 51), ('abound', 51), ('agony', 51), ('funding', 51), ('rational', 51), ('macdonald', 51), ('ruining', 51), ('begun', 51), ('gallery', 51), ('intro', 51), ('brow', 51), ('grip', 51), ('simpsons', 51), ('pen', 51), ('frantic', 51), ('session', 51), ('suspicion', 51), ('mick', 51), ('cap', 51), ('casablanca', 51), ('northam', 51), ('tomb', 51), ('geek', 51), ('galactica', 51), ('wayans', 51), ('flames', 51), ('slim', 51), ('daylight', 51), ('rice', 51), ('toned', 51), ('soprano', 51), ('ram', 51), ('fanatic', 51), ('kidnap', 51), ('compliment', 51), ('misunderstood', 51), ('godard', 51), ('dominic', 51), ('pains', 51), ('stabbed', 51), ('edith', 51), ('originals', 51), ('invite', 51), ('stating', 51), ('cycle', 51), ('roughly', 51), ('shah', 51), ('snowman', 51), ('muslims', 51), ('criticize', 51), ('graduate', 51), ('gloria', 51), ('controversy', 51), ('wright', 51), ('visconti', 51), ('obstacles', 51), ('flavia', 51), ('generate', 50), ('pans', 50), ('chamber', 50), ('playwright', 50), ('paranoid', 50), ('sebastian', 50), ('geisha', 50), ('destination', 50), ('varied', 50), ('frozen', 50), ('antagonist', 50), ('sweden', 50), ('cow', 50), ('abortion', 50), ('eagerly', 50), ('fellini', 50), ('sly', 50), ('depictions', 50), ('bait', 50), ('shore', 50), ('pointing', 50), ('ambitions', 50), ('exclusively', 50), ('bosses', 50), ('momentum', 50), ('duh', 50), ('grabbed', 50), ('relevance', 50), ('relating', 50), ('reiser', 50), ('realistically', 50), ('saloon', 50), ('robbers', 50), ('apple', 50), ('stink', 50), ('guardian', 50), ('stalked', 50), ('maureen', 50), ('dreamy', 50), ('therapy', 50), ('apt', 50), ('coma', 50), ('combs', 50), ('enchanted', 50), ('consequence', 50), ('sterling', 50), ('redneck', 50), ('festivals', 50), ('replies', 50), ('determination', 50), ('meyer', 50), ('iranian', 50), ('stance', 50), ('jose', 50), ('murky', 50), ('protest', 50), ('hmmm', 50), ('seats', 50), ('gap', 50), ('brat', 50), ('schedule', 50), ('county', 50), ('plodding', 50), ('frances', 50), ('paints', 50), ('foil', 50), ('sweat', 50), ('translate', 50), ('consequently', 50), ('intensely', 50), ('johansson', 50), ('heath', 50), ('convict', 50), ('blamed', 50), ('wash', 50), ('1934', 50), ('1998', 50), ('investigator', 50), ('ma', 50), ('giovanna', 50), ('rambling', 50), ('beckham', 50), ('vonnegut', 50), ('rips', 50), ('hayes', 50), ('ambiguity', 50), ('collins', 50), ('stiles', 50), ('denouement', 50), ('envy', 50), ('mock', 50), ('snipes', 50), ('sentences', 50), ('uncanny', 50), ('stardust', 50), ('sights', 49), ('sg', 49), ('apocalyptic', 49), ('rewarded', 49), ('linked', 49), ('rehash', 49), ('sonny', 49), ('warden', 49), ('burnt', 49), ('widowed', 49), ('replacement', 49), ('lunatic', 49), ('veterans', 49), ('hostage', 49), ('uniforms', 49), ('paths', 49), ('kathleen', 49), ('characterisation', 49), ('periods', 49), ('comeback', 49), ('lurking', 49), ('glance', 49), ('resembling', 49), ('bennett', 49), ('feinstone', 49), ('st', 49), ('communication', 49), ('handicapped', 49), ('adele', 49), ('hysterically', 49), ('quasi', 49), ('gus', 49), ('lopez', 49), ('sunset', 49), ('necessity', 49), ('blaise', 49), ('entrance', 49), ('gigantic', 49), ('imaginary', 49), ('diner', 49), ('russo', 49), ('revolving', 49), ('gackt', 49), ('sho', 49), ('sensibility', 49), ('resume', 49), ('goat', 49), ('grendel', 49), ('phones', 49), ('launch', 49), ('hostel', 49), ('myrtle', 49), ('curiously', 49), ('occult', 49), ('parrot', 49), ('october', 49), ('rupert', 49), ('brooke', 49), ('politicians', 49), ('talky', 49), ('midst', 49), ('resistance', 49), ('natali', 49), ('surroundings', 49), ('ignoring', 49), ('slater', 49), ('randall', 49), ('overs', 49), ('battlestar', 49), ('glimpses', 49), ('hawn', 49), ('faux', 49), ('scenarios', 49), ('dismiss', 49), ('mccarthy', 49), ('bauer', 49), ('lastly', 49), ('baron', 49), ('sketches', 49), ('gaps', 49), ('traps', 49), ('shotgun', 49), ('bats', 49), ('foremost', 49), ('composition', 49), ('omar', 49), ('collector', 49), ('se', 49), ('du', 49), ('dafoe', 49), ('ww2', 49), ('mandy', 49), ('finney', 49), ('hmm', 49), ('fruit', 49), ('gestures', 49), ('participants', 49), ('scarlet', 49), ('1959', 49), ('loren', 49), ('services', 49), ('rohmer', 49), ('rounds', 49), ('brides', 49), ('coburn', 49), ('convent', 49), ('alliance', 49), ('psychedelic', 48), ('upcoming', 48), ('dynamite', 48), ('joking', 48), ('jar', 48), ('applies', 48), ('ing', 48), ('shin', 48), ('payoff', 48), ('slashers', 48), ('tightly', 48), ('injury', 48), ('rodriguez', 48), ('evans', 48), ('lens', 48), ('bros.', 48), ('hinted', 48), ('imagining', 48), ('nuanced', 48), ('overbearing', 48), ('iq', 48), ('je', 48), ('sins', 48), ('maintains', 48), ('unstable', 48), ('nightmarish', 48), ('jude', 48), ('angelina', 48), ('blockbusters', 48), ('precise', 48), ('brett', 48), ('olsen', 48), ('targeted', 48), ('avid', 48), ('revival', 48), ('ample', 48), ('characterizations', 48), ('silverman', 48), ('bearing', 48), ('sufficient', 48), ('offend', 48), ('whore', 48), ('misty', 48), ('stake', 48), ('gloomy', 48), ('haunt', 48), ('isabelle', 48), ('apocalypse', 48), ('addressed', 48), ('sheets', 48), ('hines', 48), ('watcher', 48), ('gathering', 48), ('benefits', 48), ('biopic', 48), ('ajay', 48), ('locke', 48), ('capacity', 48), ('gosh', 48), ('ins', 48), ('voyager', 48), ('trauma', 48), ('popped', 48), ('eh', 48), ('hating', 48), ('delirious', 48), ('girlfriends', 48), ('pivotal', 48), ('pressed', 48), ('vignettes', 48), ('prophecy', 48), ('pilots', 48), ('cheers', 48), ('incest', 48), ('ignores', 48), ('kristofferson', 48), ('unclear', 48), ('smell', 48), ('studied', 48), ('fuel', 48), ('masked', 48), ('qualify', 48), ('gino', 48), ('sparks', 48), ('bleed', 48), ('ferrell', 48), ('platform', 48), ('laboratory', 48), ('safely', 48), ('existing', 48), ('cena', 48), ('martino', 48), ('meredith', 48), ('benjamin', 48), ('barney', 48), ('brien', 48), ('homicidal', 48), ('reflected', 48), ('applied', 48), ('extensive', 48), ('substantial', 48), ('massey', 48), ('anita', 48), ('rolls', 48), ('stadium', 48), ('complications', 48), ('aaron', 48), ('blandings', 48), ('nutshell', 47), ('tire', 47), ('visitor', 47), ('boots', 47), ('gorilla', 47), ('collar', 47), ('awareness', 47), ('candle', 47), ('enchanting', 47), ('101', 47), ('boundaries', 47), ('invested', 47), ('favourites', 47), ('announced', 47), ('flag', 47), ('repeats', 47), ('doug', 47), ('upstairs', 47), ('observations', 47), ('choir', 47), ('brashear', 47), ('interpretations', 47), ('assure', 47), ('profile', 47), ('russ', 47), ('epics', 47), ('relying', 47), ('observe', 47), ('drowned', 47), ('bernsen', 47), ('kells', 47), ('array', 47), ('novelist', 47), ('rebels', 47), ('orchestra', 47), ('coward', 47), ('disco', 47), ('murderers', 47), ('questioning', 47), ('stabbing', 47), ('weekly', 47), ('observation', 47), ('reserved', 47), ('beard', 47), ('m.', 47), ('exploitative', 47), ('shahid', 47), ('stations', 47), ('supreme', 47), ('300', 47), ('merry', 47), ('fortunate', 47), ('valid', 47), ('nauseating', 47), ('rourke', 47), ('plate', 47), ('turkish', 47), ('marked', 47), ('vivian', 47), ('boo', 47), ('interior', 47), ('slower', 47), ('fart', 47), ('engine', 47), ('controls', 47), ('bias', 47), ('versa', 47), ('maximum', 47), ('witnessing', 47), ('frost', 47), ('gannon', 47), ('jagger', 47), ('brent', 47), ('courtesy', 47), ('resolve', 47), ('clunky', 47), ('interviewed', 47), ('protection', 47), ('reunite', 47), ('madeleine', 47), ('marisa', 47), ('lo', 47), ('boogie', 47), ('outlandish', 47), ('mins', 47), ('pose', 47), ('acknowledge', 47), ('1951', 47), ('interrupted', 47), ('unfolding', 47), ('thailand', 47), ('stereotyped', 47), ('organization', 47), ('pornography', 47), ('baddies', 47), ('turtle', 47), ('artemisia', 47), ('marine', 47), ('phantasm', 47), ('skeptical', 47), ('diego', 47), ('sour', 47), ('mannered', 47), ('carlos', 47), ('thereby', 46), ('needing', 46), ('landmark', 46), ('reagan', 46), ('excellence', 46), ('cocaine', 46), ('famed', 46), ('peril', 46), ('ursula', 46), ('wartime', 46), ('insert', 46), ('slavery', 46), ('travis', 46), ('manipulation', 46), ('chandler', 46), ('riff', 46), ('inadvertently', 46), ('entries', 46), ('understatement', 46), ('deemed', 46), ('madison', 46), ('raging', 46), ('daytime', 46), ('shocks', 46), ('inter', 46), ('unhinged', 46), ('val', 46), ('thunder', 46), ('caretaker', 46), ('ripoff', 46), ('chaotic', 46), ('bust', 46), ('smug', 46), ('sheep', 46), ('similarity', 46), ('palm', 46), ('customers', 46), ('obscurity', 46), ('chuckles', 46), ('janet', 46), ('magically', 46), ('chew', 46), ('divided', 46), ('arrogance', 46), ('duchovny', 46), ('rightly', 46), ('diversity', 46), ('climbing', 46), ('unappealing', 46), ('realises', 46), ('jo', 46), ('1967', 46), ('admits', 46), ('garfield', 46), ('counting', 46), ('progressed', 46), ('conductor', 46), ('fundamental', 46), ('substitute', 46), ('strung', 46), ('sherlock', 46), ('projected', 46), ('commanding', 46), ('wrestler', 46), ('unnatural', 46), ('portuguese', 46), ('criticized', 46), ('displaying', 46), ('sincerity', 46), ('waking', 46), ('neal', 46), ('seduce', 46), ('colleague', 46), ('thrust', 46), ('trivial', 46), ('sholay', 46), ('spotlight', 46), ('jackman', 46), ('ernie', 46), ('sanity', 46), ('enduring', 46), ('spade', 46), ('chewing', 46), ('monotonous', 46), ('preaching', 46), ('bonham', 46), ('satanic', 46), ('1992', 46), ('commendable', 46), ('marcel', 46), ('finishes', 46), ('villainous', 46), ('crushed', 46), ('ninety', 46), ('bonanza', 46), ('blazing', 46), ('peggy', 46), ('somethings', 46), ('confined', 46), ('nora', 46), ('luzhin', 46), ('tones', 46), ('scarecrows', 46), ('samuel', 46), ('cedric', 46), ('accidental', 46), ('pecker', 46), ('guevara', 46), ('vargas', 46), ('laying', 45), ('v.', 45), ('voodoo', 45), ('clarity', 45), ('deathtrap', 45), ('shameless', 45), ('penned', 45), ('climatic', 45), ('1963', 45), ('protective', 45), ('explode', 45), ('rendering', 45), ('suzanne', 45), ('admirer', 45), ('reluctantly', 45), ('yell', 45), ('herd', 45), ('kaufman', 45), ('castro', 45), ('dallas', 45), ('chip', 45), ('charges', 45), ('bert', 45), ('accompanying', 45), ('finishing', 45), ('takashi', 45), ('dreaming', 45), ('redford', 45), ('recover', 45), ('chloe', 45), ('remark', 45), ('myrna', 45), ('scheming', 45), ('devotion', 45), ('testing', 45), ('reminding', 45), ('subsequently', 45), ('hardened', 45), ('incestuous', 45), ('comparable', 45), ('cheerful', 45), ('article', 45), ('convenient', 45), ('1000', 45), ('burial', 45), ('transparent', 45), ('filmography', 45), ('1932', 45), ('sara', 45), ('beers', 45), ('hugo', 45), ('forgets', 45), ('despise', 45), ('caprica', 45), ('celebrities', 45), ('goings', 45), ('krueger', 45), ('wholesome', 45), ('understandably', 45), ('aesthetic', 45), ('stumble', 45), ('serbian', 45), ('shred', 45), ('forgiveness', 45), ('evokes', 45), ('traumatic', 45), ('client', 45), ('desk', 45), ('participate', 45), ('liotta', 45), ('lara', 45), ('sylvia', 45), ('egyptian', 45), ('quintessential', 45), ('hallmark', 45), ('kirsten', 45), ('belle', 45), ('sitcoms', 45), ('barker', 45), ('seattle', 45), ('eagle', 45), ('scarlett', 45), ('govinda', 45), ('spoiling', 45), ('harrowing', 45), ('tashan', 45), ('dreyfuss', 45), ('segal', 45), ('dangerously', 45), ('wee', 45), ('bittersweet', 45), ('characteristic', 45), ('pizza', 45), ('elsa', 45), ('hostile', 45), ('deeds', 45), ('discipline', 45), ('seth', 45), ('file', 45), ('achievements', 45), ('howling', 45), ('flame', 45), ('unfamiliar', 45), ('camping', 45), ('hobgoblins', 45), ('glossy', 45), ('contestant', 45), ('perverted', 45), ('fetish', 45), ('layered', 45), ('motel', 45), ('sophia', 45), ('stuffed', 45), ('zodiac', 45), ('crooks', 45), ('harron', 45), ('district', 45), ('tide', 45), ('ch', 45), ('temper', 44), ('espionage', 44), ('awry', 44), ('babes', 44), ('polar', 44), ('rivals', 44), ('coolest', 44), ('flows', 44), ('restraint', 44), ('cells', 44), ('annoy', 44), ('ealing', 44), ('raid', 44), ('semblance', 44), ('cheering', 44), ('runaway', 44), ('henchmen', 44), ('drowning', 44), ('raunchy', 44), ('monica', 44), ('faye', 44), ('wesley', 44), ('meadows', 44), ('verge', 44), ('joint', 44), ('mart', 44), ('cancelled', 44), ('rampant', 44), ('orphan', 44), ('depardieu', 44), ('preacher', 44), ('conclusions', 44), ('pia', 44), ('practical', 44), ('inserted', 44), ('sack', 44), ('juice', 44), ('gypsy', 44), ('redgrave', 44), ('sunk', 44), ('imho', 44), ('sexist', 44), ('salvage', 44), ('busby', 44), ('warehouse', 44), ('abundance', 44), ('sickness', 44), ('kindly', 44), ('bronte', 44), ('gena', 44), ('surround', 44), ('ernest', 44), ('tits', 44), ('1948', 44), ('oblivious', 44), ('booth', 44), ('senator', 44), ('ruled', 44), ('lubitsch', 44), ('bloodbath', 44), ('fires', 44), ('gangs', 44), ('facility', 44), ('constraints', 44), ('monks', 44), ('rebellion', 44), ('informer', 44), ('bean', 44), ('admission', 44), ('hunted', 44), ('implies', 44), ('holt', 44), ('summed', 44), ('cracks', 44), ('han', 44), ('betrayed', 44), ('whimsical', 44), ('faded', 44), ('distributed', 44), ('digging', 44), ('slut', 44), ('almighty', 44), ('grandpa', 44), ('earliest', 44), ('tess', 44), ('traditions', 44), ('prop', 44), ('affecting', 44), ('sheridan', 44), ('proceed', 44), ('creations', 44), ('pee', 44), ('excels', 44), ('beforehand', 44), ('tools', 44), ('melbourne', 44), ('monroe', 44), ('regime', 44), ('spontaneous', 44), ('taut', 44), ('fritz', 44), ('flip', 44), ('unnecessarily', 44), ('shannon', 44), ('miraculously', 44), ('titular', 44), ('license', 44), ('melancholy', 44), ('considers', 44), ('dragging', 44), ('ala', 44), ('infinitely', 44), ('flashing', 44), ('captivated', 44), ('drift', 44), ('atlantic', 44), ('relaxed', 44), ('defining', 44), ('mamet', 44), ('kinski', 44), ('byron', 44), ('1943', 44), ('jabba', 44), ('letdown', 44), ('ideals', 44), ('pornographic', 43), ('unleashed', 43), ('evoke', 43), ('sane', 43), ('englund', 43), ('chops', 43), ('compensate', 43), ('uneasy', 43), ('wherever', 43), ('27', 43), ('awaiting', 43), ('gandolfini', 43), ('vet', 43), ('luc', 43), ('unconventional', 43), ('robotic', 43), ('clouds', 43), ('grin', 43), ('ghastly', 43), ('outrageously', 43), ('hometown', 43), ('occupied', 43), ('marvin', 43), ('censorship', 43), ('sales', 43), ('pitched', 43), ('alarm', 43), ('sporting', 43), ('searched', 43), ('pursuing', 43), ('switching', 43), ('listened', 43), ('caper', 43), ('shrek', 43), ('inclined', 43), ('criticisms', 43), ('norton', 43), ('ensue', 43), ('superstar', 43), ('ambiance', 43), ('solved', 43), ('madman', 43), ('sixteen', 43), ('spaceship', 43), ('shameful', 43), ('assumes', 43), ('borrow', 43), ('avoids', 43), ('dictator', 43), ('demeanor', 43), ('blondell', 43), ('cloak', 43), ('complained', 43), ('1955', 43), ('aniston', 43), ('intend', 43), ('dominate', 43), ('cheech', 43), ('robbed', 43), ('upbeat', 43), ('coop', 43), ('travolta', 43), ('screened', 43), ('lil', 43), ('permanent', 43), ('arnie', 43), ('fraud', 43), ('philo', 43), ('martians', 43), ('payne', 43), ('zelah', 43), ('fiend', 43), ('egypt', 43), ('irritated', 43), ('programme', 43), ('deepest', 43), ('r.', 43), ('reject', 43), ('engineer', 43), ('mister', 43), ('openly', 43), ('fodder', 43), ('faint', 43), ('sucking', 43), ('liner', 43), ('paycheck', 43), ('fades', 43), ('colony', 43), ('edmund', 43), ('motivated', 43), ('networks', 43), ('assistance', 43), ('fashions', 43), ('ghostly', 43), ('theodore', 43), ('underdeveloped', 43), ('encouraged', 43), ('radiation', 43), ('toxic', 43), ('joining', 43), ('circa', 43), ('dash', 43), ('pauline', 43), ('dwight', 43), ('overtones', 43), ('adapt', 43), ('sergio', 43), ('bout', 43), ('committing', 43), ('presidential', 43), ('vapid', 43), ('spiral', 43), ('snap', 43), ('shirts', 43), ('heap', 43), ('benny', 43), ('remainder', 43), ('26', 43), ('detached', 43), ('plug', 43), ('oprah', 43), ('mud', 43), ('failures', 43), ('quaint', 43), ('lindy', 43), ('buffy', 43), ('variation', 43), ('croc', 43), ('dunst', 43), ('automatic', 43), ('gretchen', 43), ('submarine', 43), ('meek', 43), ('vcr', 43), ('grease', 43), ('battlefield', 43), ('macmurray', 43), ('edges', 42), ('vaughn', 42), ('prologue', 42), ('pretends', 42), ('sober', 42), ('brit', 42), ('incidental', 42), ('peers', 42), ('impending', 42), ('prostitutes', 42), ('gig', 42), ('notices', 42), ('badness', 42), ('avenge', 42), ('fitzgerald', 42), ('vigilante', 42), ('investment', 42), ('helmet', 42), ('hanzo', 42), ('1946', 42), ('poet', 42), ('epitome', 42), ('idealistic', 42), ('farnsworth', 42), ('policemen', 42), ('garage', 42), ('peckinpah', 42), ('marijuana', 42), ('deck', 42), ('defending', 42), ('7.5', 42), ('happenings', 42), ('dyke', 42), ('flowing', 42), ('paz', 42), ('patty', 42), ('offense', 42), ('brazilian', 42), ('mack', 42), ('sensual', 42), ('distinction', 42), ('disregard', 42), ('carpet', 42), ('ninjas', 42), ('coppola', 42), ('roach', 42), ('stepmother', 42), ('progression', 42), ('mira', 42), ('confuse', 42), ('elephants', 42), ('pigs', 42), ('nineties', 42), ('crashed', 42), ('awarded', 42), ('mustache', 42), ('vincenzo', 42), ('darkly', 42), ('disappearance', 42), ('drum', 42), ('2009', 42), ('fairness', 42), ('courageous', 42), ('surf', 42), ('seuss', 42), ('mega', 42), ('slam', 42), ('clyde', 42), ('bodyguard', 42), ('warrant', 42), ('battling', 42), ('myra', 42), ('transport', 42), ('crowe', 42), ('dante', 42), ('revolver', 42), ('surrender', 42), ('admiration', 42), ('dom', 42), ('sharks', 42), ('britney', 42), ('everett', 42), ('dern', 42), ('principles', 42), ('prone', 42), ('diving', 42), ('sections', 42), ('bartender', 42), ('midget', 42), ('scratching', 42), ('connie', 42), ('loner', 42), ('electronic', 42), ('stoned', 42), ('noting', 42), ('forrest', 42), ('enormously', 42), ('experts', 42), ('atrocity', 42), ('egg', 42), ('suave', 42), ('whip', 42), ('cassie', 42), ('wu', 42), ('labeled', 41), ('qualifies', 41), ('budding', 41), ('grating', 41), ('knees', 41), ('1958', 41), ('buttons', 41), ('sync', 41), ('lindsey', 41), ('tended', 41), ('riders', 41), ('1966', 41), ('prostitution', 41), ('transforms', 41), ('associate', 41), ('frat', 41), ('parodies', 41), ('categories', 41), ('spelled', 41), ('believability', 41), ('emmy', 41), ('reese', 41), ('torment', 41), ('bleeding', 41), ('dillon', 41), ('timed', 41), ('asset', 41), ('interiors', 41), ('secure', 41), ('zu', 41), ('pickup', 41), ('outset', 41), ('queens', 41), ('boobs', 41), ('magazines', 41), ('signature', 41), ('barnes', 41), ('rodney', 41), ('breathe', 41), ('effortlessly', 41), ('december', 41), ('padding', 41), ('farrah', 41), ('managing', 41), ('saints', 41), ('worrying', 41), ('baked', 41), ('annoyance', 41), ('blames', 41), ('rivalry', 41), ('curtain', 41), ('geoffrey', 41), ('weirdness', 41), ('clinic', 41), ('brush', 41), ('ang', 41), ('elected', 41), ('economy', 41), ('drawings', 41), ('prank', 41), ('damsel', 41), ('abomination', 41), ('panahi', 41), ('division', 41), ('sinks', 41), ('stab', 41), ('kareena', 41), ('distinctive', 41), ('conveying', 41), ('sensitivity', 41), ('employees', 41), ('socially', 41), ('programming', 41), ('bimbo', 41), ('norris', 41), ('beetle', 41), ('boogeyman', 41), ('maurice', 41), ('plummer', 41), ('cohesive', 41), ('palestinian', 41), ('carr', 41), ('marcus', 41), ('knights', 41), ('counterparts', 41), ('closure', 41), ('combining', 41), ('helena', 41), ('liberty', 41), ('data', 41), ('classmates', 41), ('tin', 41), ('respond', 41), ('celebrate', 41), ('woefully', 41), ('irving', 41), ('reported', 41), ('tackle', 41), ('mediocrity', 41), ('influences', 41), ('11.', 41), ('acclaim', 41), ('framing', 41), ('symbols', 41), ('della', 41), ('sammy', 41), ('auteur', 41), ('cursed', 41), ('tacked', 41), ('forsythe', 41), ('spoofs', 41), ('mobster', 41), ('fagin', 41), ('unravel', 41), ('billing', 41), ('banks', 41), ('sandy', 41), ('ostensibly', 41), ('shield', 41), ('bites', 41), ('shatner', 41), ('manipulated', 41), ('concentration', 41), ('harilal', 41), ('malden', 40), ('ads', 40), ('lighthearted', 40), ('clutter', 40), ('latino', 40), ('gruff', 40), ('transplant', 40), ('drain', 40), ('butchered', 40), ('lin', 40), ('chock', 40), ('islands', 40), ('freed', 40), ('yells', 40), ('starship', 40), ('troopers', 40), ('armor', 40), ('sammi', 40), ('manic', 40), ('placement', 40), ('daria', 40), ('seduction', 40), ('terrorism', 40), ('collapse', 40), ('reasoning', 40), ('anxiety', 40), ('hilton', 40), ('retro', 40), ('stirring', 40), ('attendant', 40), ('keanu', 40), ('muni', 40), ('officially', 40), ('seriousness', 40), ('........', 40), ('warhols', 40), ('dish', 40), ('influential', 40), ('confines', 40), ('nest', 40), ('ss', 40), ('cruella', 40), ('vibe', 40), ('mae', 40), ('examine', 40), ('funky', 40), ('tolerance', 40), ('sacrifices', 40), ('hairy', 40), ('reno', 40), ('monday', 40), ('worm', 40), ('kalifornia', 40), ('sites', 40), ('fawcett', 40), ('inform', 40), ('pervert', 40), ('tolerate', 40), ('jam', 40), ('shelter', 40), ('slept', 40), ('tramp', 40), ('theatres', 40), ('bless', 40), ('ali', 40), ('fiery', 40), ('mills', 40), ('dwarf', 40), ('fabric', 40), ('brick', 40), ('slash', 40), ('retirement', 40), ('culkin', 40), ('structured', 40), ('katie', 40), ('jewelry', 40), ('i.', 40), ('informs', 40), ('clarence', 40), ('boards', 40), ('injustice', 40), ('animator', 40), ('sensibilities', 40), ('derived', 40), ('casted', 40), ('advances', 40), ('kilmer', 40), ('spelling', 40), ('predecessors', 40), ('systems', 40), ('sustain', 40), ('strained', 40), ('heather', 40), ('manga', 40), ('brandon', 40), ('attic', 40), ('pepper', 40), ('perspectives', 40), ('1920', 40), ('reunited', 40), ('inconsistencies', 40), ('apollo', 40), ('alexandra', 40), ('morse', 40), ('laser', 40), ('glenda', 40), ('sibling', 40), ('cockney', 40), ('alba', 40), ('pairing', 40), ('crypt', 40), ('hans', 40), ('bing', 40), ('burgess', 40), ('pompous', 40), ('responds', 40), ('swiss', 40), ('bastard', 40), ('distorted', 40), ('overshadowed', 40), ('worship', 40), ('toole', 40), ('playful', 40), ('shocker', 40), ('floriane', 40), ('screenplays', 40), ('gasp', 40), ('joshua', 40), ('guru', 40), ('parks', 40), ('archer', 40), ('allan', 40), ('pam', 40), ('bogdanovich', 40), ('midler', 40), ('ewoks', 40), ('uncertain', 40), ('perverse', 40), ('jigsaw', 40), ('abu', 40), ('noam', 40), ('orlando', 39), ('apartheid', 39), ('awfulness', 39), ('scriptwriter', 39), ('hypnotic', 39), ('amid', 39), ('ceiling', 39), ('cowardly', 39), ('tricked', 39), ('dealers', 39), ('shoved', 39), ('outlaw', 39), ('lingering', 39), ('powered', 39), ('a.k.a', 39), ('inexperienced', 39), ('luthor', 39), ('tasty', 39), ('supermarket', 39), ('bliss', 39), ('gladiator', 39), ('spotted', 39), ('bart', 39), ('superfluous', 39), ('fighters', 39), ('scarier', 39), ('henderson', 39), ('pertwee', 39), ('lurid', 39), ('sophistication', 39), ('sorrow', 39), ('hunky', 39), ('surgeon', 39), ('towns', 39), ('judgement', 39), ('monologues', 39), ('berenger', 39), ('henchman', 39), ('replacing', 39), ('chen', 39), ('cheesiness', 39), ('staging', 39), ('opposition', 39), ('bombed', 39), ('forbes', 39), ('drastically', 39), ('todays', 39), ('stricken', 39), ('stripper', 39), ('villa', 39), ('willy', 39), ('shout', 39), ('euro', 39), ('harbor', 39), ('observed', 39), ('aircraft', 39), ('undercover', 39), ('confession', 39), ('interplay', 39), ('officials', 39), ('virtue', 39), ('peaks', 39), ('cannibals', 39), ('fur', 39), ('ceremony', 39), ('beth', 39), ('stares', 39), ('mythical', 39), ('plotted', 39), ('bloodshed', 39), ('diaz', 39), ('hale', 39), ('paragraph', 39), ('adultery', 39), ('decency', 39), ('strain', 39), ('hallucinations', 39), ('lars', 39), ('correctness', 39), ('overwrought', 39), ('caution', 39), ('justification', 39), ('shaun', 39), ('mixes', 39), ('fixed', 39), ('thorn', 39), ('transported', 39), ('portions', 39), ('brennan', 39), ('maintaining', 39), ('crowded', 39), ('lions', 39), ('identified', 39), ('drugged', 39), ('barton', 39), ('85', 39), ('anguish', 39), ('toro', 39), ('determine', 39), ('bitchy', 39), ('sensational', 39), ('blessed', 39), ('simba', 39), ('impressions', 39), ('vertigo', 39), ('nearest', 39), ('allies', 39), ('mines', 39), ('functions', 39), ('cringing', 39), ('rant', 39), ('mercifully', 39), ('thereof', 39), ('fiasco', 39), ('genetic', 39), ('marrying', 39), ('condemned', 39), ('muriel', 39), ('cunning', 39), ('jurassic', 39), ('handy', 39), ('ossessione', 39), ('stabs', 39), ('coal', 39), ('drummer', 39), ('presume', 39), ('kramer', 39), ('widower', 39), ('echoes', 39), ('rousing', 39), ('kornbluth', 39), ('yarn', 39), ('premiered', 39), ('depend', 39), ('groove', 39), ('hawaii', 39), ('com', 39), ('uptight', 39), ('czech', 39), ('chevy', 39), ('representing', 39), ('plagued', 39), ('bio', 39), ('9.', 39), ('captive', 39), ('lizard', 39), ('winners', 39), ('varying', 39), ('lifts', 39), ('imitate', 39), ('enthralling', 39), ('romania', 39), ('rockets', 39), ('reckless', 39), ('register', 39), ('padded', 39), ('marines', 39), ('kidnaps', 39), ('bigfoot', 39), ('geniuses', 39), ('throne', 39), ('communism', 39), ('scorpion', 39), ('locale', 39), ('russians', 39), ('emphasize', 39), ('collaboration', 39), ('rosenstrasse', 39), ('kusturica', 39), ('mostel', 39), ('nifty', 38), ('dopey', 38), ('mocking', 38), ('borrows', 38), ('standpoint', 38), ('tsui', 38), ('switches', 38), ('gravity', 38), ('willingly', 38), ('paired', 38), ('gusto', 38), ('stevenson', 38), ('penguin', 38), ('gently', 38), ('grady', 38), ('hoover', 38), ('profoundly', 38), ('pleasures', 38), ('aura', 38), ('bills', 38), ('photograph', 38), ('honey', 38), ('trusted', 38), ('chemical', 38), ('ledger', 38), ('analyze', 38), ('deborah', 38), ('intellectually', 38), ('mash', 38), ('applause', 38), ('celeste', 38), ('rudd', 38), ('expresses', 38), ('locate', 38), ('robbing', 38), ('corbin', 38), ('missions', 38), ('threads', 38), ('promoting', 38), ('maturity', 38), ('hurry', 38), ('rogue', 38), ('lila', 38), ('representative', 38), ('weaver', 38), ('fuss', 38), ('cheung', 38), ('vaudeville', 38), ('authors', 38), ('spells', 38), ('loony', 38), ('potent', 38), ('sleeper', 38), ('natasha', 38), ('dodgy', 38), ('jerky', 38), ('jew', 38), ('downfall', 38), ('contributes', 38), ('significantly', 38), ('echo', 38), ('bon', 38), ('artistically', 38), ('confirmed', 38), ('baddie', 38), ('sasquatch', 38), ('pond', 38), ('airing', 38), ('steaming', 38), ('schwarzenegger', 38), ('flew', 38), ('icy', 38), ('confronts', 38), ('bald', 38), ('capitalism', 38), ('mcdowell', 38), ('entertains', 38), ('freaked', 38), ('temptation', 38), ('mcdermott', 38), ('thereafter', 38), ('launched', 38), ('predicted', 38), ('bishop', 38), ('irrational', 38), ('wrongly', 38), ('imprisoned', 38), ('abstract', 38), ('1920s', 38), ('federal', 38), ('developments', 38), ('consumed', 38), ('liberties', 38), ('laced', 38), ('limp', 38), ('identities', 38), ('garde', 38), ('earns', 38), ('kings', 38), ('groundbreaking', 38), ('sorvino', 38), ('athletic', 38), ('dive', 38), ('abroad', 38), ('zeta', 38), ('engagement', 38), ('dedication', 38), ('operate', 38), ('tango', 38), ('foreboding', 38), ('accomplishment', 38), ('inhabit', 38), ('lists', 38), ('lansbury', 38), ('uninspiring', 38), ('disappoints', 38), ('denying', 38), ('richly', 38), ('posh', 38), ('sleepy', 38), ('gathered', 38), ('clockwork', 38), ('penis', 38), ('predictability', 38), ('subdued', 38), ('sigh', 38), ('fence', 38), ('pub', 38), ('azumi', 38), ('continuously', 38), ('granger', 38), ('anonymous', 38), ('grossly', 38), ('lays', 38), ('mutants', 38), ('thug', 38), ('ballroom', 38), ('showcases', 38), ('dukakis', 38), ('romanian', 38), ('luxury', 38), ('liar', 38), ('torturing', 38), ('maugham', 38), ('sensation', 38), ('scandal', 38), ('finely', 38), ('fanning', 38), ('moonstruck', 38), ('optimism', 38), ('censors', 38), ('crooked', 38), ('ebay', 38), ('rhyme', 38), ('extraordinarily', 38), ('downbeat', 38), ('animations', 38), ('denial', 38), ('fierce', 38), ('anchors', 38), ('cradle', 38), ('intelligently', 38), ('proportions', 38), ('aime', 38), ('arch', 38), ('dunne', 38), ('conflicted', 38), ('ratio', 38), ('melinda', 38), ('vienna', 38), ('judges', 38), ('lanza', 38), ('caruso', 38), ('nonexistent', 37), ('peterson', 37), ('righteous', 37), ('upbringing', 37), ('mans', 37), ('mac', 37), ('toss', 37), ('percent', 37), ('horn', 37), ('illustrate', 37), ('elliot', 37), ('violently', 37), ('slaughtered', 37), ('harlin', 37), ('satisfactory', 37), ('corridors', 37), ('heroin', 37), ('operating', 37), ('supportive', 37), ('izzard', 37), ('shelves', 37), ('thirds', 37), ('puzzled', 37), ('millennium', 37), ('elmer', 37), ('ranger', 37), ('prophet', 37), ('lawn', 37), ('fulfilling', 37), ('billion', 37), ('transitions', 37), ('knocking', 37), ('herrings', 37), ('ongoing', 37), ('shawn', 37), ('michaels', 37), ('portman', 37), ('ravishing', 37), ('appalled', 37), ('boost', 37), ('greenaway', 37), ('reportedly', 37), ('fewer', 37), ('tina', 37), ('lorre', 37), ('deservedly', 37), ('behaving', 37), ('lesbians', 37), ('unwilling', 37), ('hogan', 37), ('witted', 37), ('visceral', 37), ('explanations', 37), ('quirks', 37), ('hazzard', 37), ('zealand', 37), ('manipulate', 37), ('holland', 37), ('cynicism', 37), ('nt', 37), ('patriotic', 37), ('youngsters', 37), ('thumb', 37), ('bearable', 37), ('rko', 37), ('rapture', 37), ('agatha', 37), ('snowy', 37), ('bullies', 37), ('prefers', 37), ('elder', 37), ('8.5', 37), ('gung', 37), ('distinctly', 37), ('mattei', 37), ('lightweight', 37), ('kenny', 37), ('sabu', 37), ('illustrated', 37), ('icons', 37), ('sore', 37), ('booker', 37), ('swift', 37), ('prolific', 37), ('autobiography', 37), ('brunette', 37), ('cinematographic', 37), ('moderately', 37), ('efficient', 37), ('ogre', 37), ('legion', 37), ('rizzo', 37), ('goo', 37), ('dogma', 37), ('valerie', 37), ('blackmail', 37), ('preferably', 37), ('hustler', 37), ('civilians', 37), ('idiocy', 37), ('conniving', 37), ('sweeping', 37), ('profit', 37), ('increase', 37), ('notwithstanding', 37), ('muscle', 37), ('continent', 37), ('sykes', 37), ('atomic', 37), ('ahmad', 37), ('scattered', 37), ('1949', 37), ('cloth', 37), ('carnival', 37), ('hammerhead', 37), ('dani', 37), ('simpler', 37), ('sarne', 37), ('sloane', 37), ('aboard', 37), ('virginity', 37), ('alcoholism', 37), ('shifting', 37), ('shady', 37), ('attributes', 37), ('lds', 37), ('golf', 37), ('tedium', 37), ('bloke', 37), ('spinning', 37), ('tables', 37), ('welch', 37), ('mcadams', 37), ('gram', 37), ('melt', 37), ('keitel', 37), ('illusion', 37), ('shrill', 37), ('glow', 37), ('defy', 37), ('mastroianni', 37), ('marx', 37), ('languages', 37), ('heavenly', 37), ('bothers', 37), ('chop', 37), ('celine', 37), ('pasolini', 37), ('gee', 37), ('transformers', 37), ('dickinson', 37), ('liz', 37), ('owe', 37), ('zhang', 37), ('kingsley', 37), ('1942', 37), ('doris', 37), ('keeper', 37), ('chang', 37), ('increasing', 37), ('tolkien', 37), ('uncredited', 37), ('taker', 37), ('mechanic', 37), ('shiny', 37), ('prot', 37), ('cortez', 37), ('pavarotti', 37), ('imply', 36), ('improvised', 36), ('relates', 36), ('gi', 36), ('hark', 36), ('recovering', 36), ('toe', 36), ('sleuth', 36), ('associates', 36), ('healing', 36), ('astonishingly', 36), ('teddy', 36), ('leaps', 36), ('animators', 36), ('tobe', 36), ('bonds', 36), ('maguire', 36), ('volumes', 36), ('cillian', 36), ('numbingly', 36), ('prolonged', 36), ('bothering', 36), ('claw', 36), ('insignificant', 36), ('believer', 36), ('breakthrough', 36), ('grisly', 36), ('vulnerability', 36), ('coverage', 36), ('lure', 36), ('angelo', 36), ('compositions', 36), ('leno', 36), ('urgency', 36), ('proudly', 36), ('heartless', 36), ('shakespearean', 36), ('chef', 36), ('knives', 36), ('amoral', 36), ('throats', 36), ('maverick', 36), ('traveled', 36), ('disasters', 36), ('trendy', 36), ('inch', 36), ('doses', 36), ('crenna', 36), ('ranging', 36), ('annoyingly', 36), ('flamboyant', 36), ('sematary', 36), ('rapes', 36), ('flipping', 36), ('unnerving', 36), ('imitating', 36), ('encourages', 36), ('happier', 36), ('cheat', 36), ('retrieve', 36), ('monastery', 36), ('conquest', 36), ('wrath', 36), ('seventh', 36), ('electricity', 36), ('compromise', 36), ('comprised', 36), ('needlessly', 36), ('dominick', 36), ('whipped', 36), ('prejudices', 36), ('denver', 36), ('fleeting', 36), ('gays', 36), ('reruns', 36), ('dietrich', 36), ('barbarian', 36), ('alienation', 36), ('mcgavin', 36), ('lommel', 36), ('slips', 36), ('metropolis', 36), ('hungarian', 36), ('zany', 36), ('unconscious', 36), ('fable', 36), ('rotting', 36), ('subtitled', 36), ('recurring', 36), ('chat', 36), ('penalty', 36), ('durbin', 36), ('ash', 36), ('meanings', 36), ('swords', 36), ('perceived', 36), ('delia', 36), ('caesar', 36), ('hug', 36), ('afghanistan', 36), ('association', 36), ('straw', 36), ('notions', 36), ('passenger', 36), ('lightly', 36), ('architect', 36), ('meyers', 36), ('climate', 36), ('khouri', 36), ('supports', 36), ('ecstasy', 36), ('mockery', 36), ('deadpan', 36), ('priests', 36), ('innuendo', 36), ('examined', 36), ('immigrants', 36), ('dental', 36), ('backwoods', 36), ('rack', 36), ('coleman', 36), ('irresistible', 36), ('neeson', 36), ('dangers', 36), ('christensen', 36), ('pals', 36), ('mandatory', 36), ('nerdy', 36), ('relaxing', 36), ('succession', 36), ('tasks', 36), ('fleeing', 36), ('mastermind', 36), ('overtly', 36), ('heir', 36), ('fulfill', 36), ('aztec', 36), ('ae', 36), ('zoom', 36), ('muscular', 36), ('cracker', 36), ('theo', 36), ('torch', 36), ('protecting', 36), ('darius', 36), ('korda', 36), ('recipe', 35), ('stimulating', 35), ('versatile', 35), ('adequately', 35), ('overwhelmed', 35), ('worldwide', 35), ('lawyers', 35), ('islam', 35), ('unemployed', 35), ('morgana', 35), ('stalks', 35), ('hector', 35), ('corky', 35), ('zabriskie', 35), ('rico', 35), ('oblivion', 35), ('concentrated', 35), ('poke', 35), ('expressing', 35), ('management', 35), ('honeymoon', 35), ('impeccable', 35), ('limbs', 35), ('witherspoon', 35), ('orgy', 35), ('crass', 35), ('chapters', 35), ('shattering', 35), ('snatch', 35), ('branch', 35), ('recreate', 35), ('micheal', 35), ('backdrops', 35), ('kiddie', 35), ('breathless', 35), ('plants', 35), ('jock', 35), ('naval', 35), ('boxes', 35), ('rewrite', 35), ('carface', 35), ('smarmy', 35), ('1964', 35), ('alligator', 35), ('interspersed', 35), ('behaves', 35), ('treating', 35), ('slug', 35), ('janitor', 35), ('custody', 35), ('shamelessly', 35), ('supremacy', 35), ('expanded', 35), ('jolly', 35), ('irresponsible', 35), ('marjorie', 35), ('opponents', 35), ('pistol', 35), ('stumbling', 35), ('roommates', 35), ('levy', 35), ('unlucky', 35), ('compassionate', 35), ('temporary', 35), ('keeler', 35), ('daphne', 35), ('astronaut', 35), ('rebecca', 35), ('sailors', 35), ('ichi', 35), ('retelling', 35), ('feared', 35), ('saif', 35), ('callahan', 35), ('counterpart', 35), ('dodge', 35), ('purse', 35), ('philadelphia', 35), ('concludes', 35), ('undertaker', 35), ('stature', 35), ('frenzy', 35), ('spitting', 35), ('bucket', 35), ('mpaa', 35), ('largest', 35), ('farewell', 35), ('stretches', 35), ('wwi', 35), ('behalf', 35), ('duff', 35), ('counted', 35), ('academic', 35), ('connolly', 35), ('rusty', 35), ('98', 35), ('borderline', 35), ('amok', 35), ('insects', 35), ('architecture', 35), ('theirs', 35), ('inhabited', 35), ('passions', 35), ('climbs', 35), ('il', 35), ('distinguished', 35), ('roads', 35), ('induced', 35), ('neglect', 35), ('welcomed', 35), ('watered', 35), ('expand', 35), ('tel', 35), ('tested', 35), ('darling', 35), ('astronauts', 35), ('crawl', 35), ('rugged', 35), ('eddy', 35), ('elisha', 35), ('continuous', 35), ('hopeful', 35), ('benoit', 35), ('assortment', 35), ('tourists', 35), ('existential', 35), ('downtown', 35), ('bruckheimer', 35), ('irwin', 35), ('mj', 35), ('truthful', 35), ('intellect', 35), ('guided', 35), ('48', 35), ('yearning', 35), ('chocolate', 35), ('lange', 35), ('muted', 35), ('duryea', 35), ('pranks', 35), ('wolves', 35), ('aweigh', 35), ('seinfeld', 35), ('wai', 35), ('locales', 35), ('drivers', 35), ('steamy', 35), ('placing', 35), ('shrink', 35), ('administration', 35), ('batwoman', 35), ('burden', 35), ('bombing', 35), ('italians', 35), ('pour', 35), ('cristina', 35), ('kamal', 35), ('jed', 35), ('giggle', 35), ('gage', 35), ('deathstalker', 35), ('nutty', 35), ('danning', 35), ('marred', 34), ('forgivable', 34), ('discernible', 34), ('carson', 34), ('inherited', 34), ('democracy', 34), ('leary', 34), ('regrets', 34), ('smarter', 34), ('mold', 34), ('goofs', 34), ('levant', 34), ('submit', 34), ('collecting', 34), ('stubborn', 34), ('intruder', 34), ('benson', 34), ('woven', 34), ('woke', 34), ('disdain', 34), ('logo', 34), ('choke', 34), ('wipe', 34), ('overacts', 34), ('grounded', 34), ('incompetence', 34), ('knack', 34), ('carole', 34), ('bury', 34), ('jackass', 34), ('p.', 34), ('switzerland', 34), ('ne', 34), ('platoon', 34), ('revive', 34), ('springs', 34), ('hayward', 34), ('didnt', 34), ('loop', 34), ('aiello', 34), ('lovingly', 34), ('customs', 34), ('glee', 34), ('practices', 34), ('rainer', 34), ('revelations', 34), ('bravery', 34), ('speechless', 34), ('suspended', 34), ('slows', 34), ('tucker', 34), ('cousins', 34), ('puzzling', 34), ('vault', 34), ('allison', 34), ('fugitive', 34), ('contemplate', 34), ('apologize', 34), ('hardest', 34), ('barman', 34), ('creepiness', 34), ('capsule', 34), ('rhys', 34), ('crouse', 34), ('passive', 34), ('brits', 34), ('dreadfully', 34), ('marathon', 34), ('cbc', 34), ('premises', 34), ('maiden', 34), ('dahl', 34), ('sans', 34), ('opener', 34), ('lotr', 34), ('prevalent', 34), ('grandparents', 34), ('arizona', 34), ('approximately', 34), ('traumatized', 34), ('dime', 34), ('nailed', 34), ('usage', 34), ('sleeve', 34), ('splitting', 34), ('slew', 34), ('1957', 34), ('psychiatric', 34), ('elevate', 34), ('converted', 34), ('harlem', 34), ('oppressive', 34), ('subtleties', 34), ('blink', 34), ('pets', 34), ('seal', 34), ('historians', 34), ('cheaper', 34), ('relied', 34), ('revolting', 34), ('enhances', 34), ('classified', 34), ('stereotyping', 34), ('saddest', 34), ('knox', 34), ('planted', 34), ('lyrical', 34), ('lamarr', 34), ('marlene', 34), ('cocktail', 34), ('alienate', 34), ('sessions', 34), ('stupidest', 34), ('conception', 34), ('denied', 34), ('waits', 34), ('discussions', 34), ('hamill', 34), ('disappearing', 34), ('eater', 34), ('shack', 34), ('stir', 34), ('hesitate', 34), ('fairytale', 34), ('hispanic', 34), ('honorable', 34), ('perceive', 34), ('bonding', 34), ('vic', 34), ('villagers', 34), ('pauses', 34), ('confronting', 34), ('loathing', 34), ('kinky', 34), ('promotion', 34), ('joanna', 34), ('conduct', 34), ('supporters', 34), ('screamed', 34), ('condescending', 34), ('kindness', 34), ('casually', 34), ('hare', 34), ('fleming', 34), ('undeveloped', 34), ('cocky', 34), ('boyfriends', 34), ('heavens', 34), ('smoothly', 34), ('azaria', 34), ('ella', 34), ('illiterate', 34), ('embarrass', 34), ('january', 34), ('concentrates', 34), ('bursts', 34), ('atrocities', 34), ('bolivia', 34), ('lung', 34), ('garcia', 34), ('waving', 34), ('wits', 34), ('napoleon', 34), ('choreographer', 34), ('lecture', 34), ('corleone', 34), ('stoltz', 34), ('flea', 34), ('entertainer', 34), ('poo', 34), ('jessie', 34), ('mcintire', 34), ('rehearsal', 34), ('plantation', 34), ('telly', 34), ('uber', 34), ('footsteps', 34), ('gimmicks', 34), ('graves', 34), ('backyard', 34), ('mutated', 34), ('consisted', 34), ('shaolin', 34), ('restless', 34), ('bash', 34), ('sheila', 34), ('drums', 34), ('macbeth', 34), ('18th', 34), ('palette', 34), ('leia', 34), ('apprentice', 34), ('skipping', 34), ('candidates', 34), ('mo', 34), ('balloon', 34), ('pita', 34), ('gardens', 34), ('askey', 34), ('psychologically', 33), ('draft', 33), ('proverbial', 33), ('regain', 33), ('acknowledged', 33), ('spectrum', 33), ('stripped', 33), ('viggo', 33), ('backing', 33), ('radar', 33), ('squeeze', 33), ('beau', 33), ('strikingly', 33), ('criminally', 33), ('spectacularly', 33), ('munchies', 33), ('capt', 33), ('organs', 33), ('underdog', 33), ('satellite', 33), ('garnered', 33), ('overseas', 33), ('chains', 33), ('zatoichi', 33), ('cathy', 33), ('alternately', 33), ('confirm', 33), ('nuance', 33), ('maclean', 33), ('sparse', 33), ('dripping', 33), ('argento', 33), ('connecting', 33), ('beaver', 33), ('misplaced', 33), ('drifter', 33), ('diabolical', 33), ('hubby', 33), ('cloud', 33), ('newcombe', 33), ('november', 33), ('bass', 33), ('empathize', 33), ('monstrosity', 33), ('sixty', 33), ('friendships', 33), ('insanely', 33), ('streak', 33), ('oddball', 33), ('thinner', 33), ('infidelity', 33), ('surpasses', 33), ('listing', 33), ('regal', 33), ('noah', 33), ('documents', 33), ('locks', 33), ('crook', 33), ('duties', 33), ('goof', 33), ('slipped', 33), ('witless', 33), ('dung', 33), ('tensions', 33), ('caf', 33), ('werner', 33), ('vets', 33), ('prevented', 33), ('miracles', 33), ('request', 33), ('immersed', 33), ('vanishing', 33), ('lap', 33), ('rests', 33), ('replay', 33), ('liza', 33), ('overt', 33), ('grumpy', 33), ('fanatics', 33), ('diver', 33), ('email', 33), ('reception', 33), ('stoic', 33), ('matching', 33), ('admirably', 33), ('incarnation', 33), ('superiors', 33), ('snappy', 33), ('participation', 33), ('haha', 33), ('snippets', 33), ('gym', 33), ('eliminated', 33), ('dusty', 33), ('rightfully', 33), ('virtues', 33), ('jameson', 33), ('equals', 33), ('creeps', 33), ('hedy', 33), ('mourning', 33), ('hunk', 33), ('interpret', 33), ('oriental', 33), ('clumsily', 33), ('render', 33), ('norwegian', 33), ('requisite', 33), ('anchorman', 33), ('apartments', 33), ('holm', 33), ('delve', 33), ('longtime', 33), ('mining', 33), ('surfers', 33), ('brink', 33), ('daisies', 33), ('lieutenant', 33), ('grain', 33), ('untrue', 33), ('byrne', 33), ('1931', 33), ('betrays', 33), ('butterfly', 33), ('dense', 33), ('crowds', 33), ('documented', 33), ('mindset', 33), ('adopt', 33), ('weirdo', 33), ('technological', 33), ('evolved', 33), ('itchy', 33), ('companions', 33), ('looney', 33), ('stepped', 33), ('assist', 33), ('eliminate', 33), ('merrill', 33), ('vivah', 33), ('schumacher', 33), ('thankful', 33), ('hiv', 33), ('adventurous', 33), ('montages', 33), ('vengeful', 33), ('kentucky', 33), ('pulse', 33), ('spears', 33), ('rushes', 33), ('foch', 33), ('societies', 33), ('outrage', 33), ('blaine', 33), ('kerr', 33), ('travelling', 33), ('sant', 33), ('deception', 33), ('crow', 33), ('bathing', 33), ('til', 33), ('whacked', 33), ('stefan', 33), ('wellington', 33), ('winston', 33), ('partial', 33), ('obscene', 33), ('operas', 33), ('swamp', 33), ('lamas', 33), ('dane', 33), ('monstrous', 33), ('lombard', 33), ('suggestive', 33), ('lucio', 33), ('700', 33), ('btk', 33), ('scantily', 33), ('marquis', 33), ('intestines', 33), ('leopold', 33), ('wolverine', 33), ('blackie', 33), ('darkman', 33), ('overnight', 32), ('interpreted', 32), ('exaggeration', 32), ('offerings', 32), ('stud', 32), ('hes', 32), ('stable', 32), ('marital', 32), ('sheet', 32), ('mortensen', 32), ('rigid', 32), ('caroline', 32), ('desolate', 32), ('underused', 32), ('townspeople', 32), ('horizon', 32), ('ck', 32), ('outta', 32), ('indifference', 32), ('siege', 32), ('bum', 32), ('forum', 32), ('exposing', 32), ('orphanage', 32), ('integrated', 32), ('tepid', 32), ('shue', 32), ('flee', 32), ('crop', 32), ('masturbation', 32), ('anchor', 32), ('bee', 32), ('eponymous', 32), ('competently', 32), ('wal', 32), ('inheritance', 32), ('wondrous', 32), ('tasteful', 32), ('wallach', 32), ('renowned', 32), ('nerds', 32), ('nana', 32), ('krishna', 32), ('albums', 32), ('prototype', 32), ('gamut', 32), ('gaining', 32), ('phyllis', 32), ('raving', 32), ('insulted', 32), ('downside', 32), ('universally', 32), ('renoir', 32), ('sorta', 32), ('endured', 32), ('babysitter', 32), ('rocker', 32), ('cambodia', 32), ('grips', 32), ('roaring', 32), ('recalls', 32), ('variations', 32), ('turgid', 32), ('surrogate', 32), ('basil', 32), ('ferry', 32), ('unrated', 32), ('illustrates', 32), ('goer', 32), ('primal', 32), ('supplies', 32), ('townsend', 32), ('voters', 32), ('fireworks', 32), ('poppins', 32), ('stills', 32), ('colonial', 32), ('greta', 32), ('employ', 32), ('unimpressive', 32), ('ideology', 32), ('unfinished', 32), ('kermit', 32), ('kei', 32), ('coarse', 32), ('iceberg', 32), ('finch', 32), ('allied', 32), ('camps', 32), ('phrases', 32), ('celebrating', 32), ('inflicted', 32), ('sacred', 32), ('exhibit', 32), ('topped', 32), ('stepping', 32), ('ppv', 32), ('monumental', 32), ('edits', 32), ('risks', 32), ('locker', 32), ('ewan', 32), ('soles', 32), ('honour', 32), ('harmony', 32), ('unborn', 32), ('shakes', 32), ('malcolm', 32), ('sealed', 32), ('rub', 32), ('teamed', 32), ('manufactured', 32), ('praying', 32), ('schemes', 32), ('reincarnation', 32), ('eggs', 32), ('positions', 32), ('nuns', 32), ('holidays', 32), ('circuit', 32), ('attributed', 32), ('shootings', 32), ('quarters', 32), ('aristocrat', 32), ('holden', 32), ('realist', 32), ('societal', 32), ('hurting', 32), ('recreation', 32), ('catastrophe', 32), ('adapting', 32), ('addressing', 32), ('thirteen', 32), ('episodic', 32), ('extremes', 32), ('operatic', 32), ('fernando', 32), ('keyboard', 32), ('norma', 32), ('tremors', 32), ('fantastically', 32), ('nielsen', 32), ('disgruntled', 32), ('throwaway', 32), ('booze', 32), ('paperhouse', 32), ('mischievous', 32), ('darkest', 32), ('allegedly', 32), ('piper', 32), ('achieving', 32), ('strangest', 32), ('voting', 32), ('frenetic', 32), ('expertise', 32), ('showtime', 32), ('gesture', 32), ('gifts', 32), ('bake', 32), ('floors', 32), ('tigerland', 32), ('marvellous', 32), ('skinned', 32), ('solving', 32), ('eleanor', 32), ('sentenced', 32), ('shaq', 32), ('willem', 32), ('emerged', 32), ('occurring', 32), ('affections', 32), ('flamenco', 32), ('sacrificed', 32), ('apologies', 32), ('bryan', 32), ('grail', 32), ('compound', 32), ('polite', 32), ('presumed', 32), ('allegory', 32), ('crummy', 32), ('chore', 32), ('planets', 32), ('smitten', 32), ('retain', 32), ('hockey', 32), ('skywalker', 32), ('shouts', 32), ('practicing', 32), ('shadowy', 32), ('chairman', 32), ('venezuela', 32), ('decapitated', 31), ('deformed', 31), ('smallest', 31), ('exceedingly', 31), ('charity', 31), ('lam', 31), ('frenchman', 31), ('lithgow', 31), ('adored', 31), ('michel', 31), ('1965', 31), ('enthralled', 31), ('approval', 31), ('options', 31), ('ensuing', 31), ('geeky', 31), ('dale', 31), ('frye', 31), ('mismatched', 31), ('preserved', 31), ('transferred', 31), ('grabbing', 31), ('colourful', 31), ('commando', 31), ('pianist', 31), ('tease', 31), ('iowa', 31), ('salem', 31), ('wicker', 31), ('rabid', 31), ('enlightenment', 31), ('secluded', 31), ('orchestral', 31), ('mercilessly', 31), ('gladly', 31), ('bickering', 31), ('baseketball', 31), ('threats', 31), ('nanny', 31), ('twenties', 31), ('speaker', 31), ('kerry', 31), ('insisted', 31), ('currie', 31), ('vacuous', 31), ('unsuccessful', 31), ('i.e.', 31), ('eustache', 31), ('awakens', 31), ('minions', 31), ('atwill', 31), ('rainbow', 31), ('retains', 31), ('resurrection', 31), ('somber', 31), ('winslet', 31), ('jovi', 31), ('rathbone', 31), ('unremarkable', 31), ('costner', 31), ('weaves', 31), ('cassel', 31), ('amuse', 31), ('punchline', 31), ('culminating', 31), ('baffled', 31), ('gertrude', 31), ('yourselves', 31), ('spawned', 31), ('prevents', 31), ('invent', 31), ('projection', 31), ('soulless', 31), ('cowboys', 31), ('governor', 31), ('hanna', 31), ('stalk', 31), ('pbs', 31), ('retrospect', 31), ('hitch', 31), ('competing', 31), ('closeups', 31), ('patch', 31), ('researched', 31), ('washing', 31), ('edged', 31), ('owning', 31), ('talentless', 31), ('runtime', 31), ('sullavan', 31), ('undertones', 31), ('avant', 31), ('neutral', 31), ('groan', 31), ('devastated', 31), ('co.', 31), ('500', 31), ('motif', 31), ('sabretooth', 31), ('wheels', 31), ('misfits', 31), ('decoration', 31), ('banana', 31), ('daft', 31), ('shenanigans', 31), ('geeks', 31), ('outsider', 31), ('wb', 31), ('perfected', 31), ('gilligan', 31), ('consisting', 31), ('transcends', 31), ('pokes', 31), ('distributor', 31), ('contacts', 31), ('sybil', 31), ('declares', 31), ('sleepwalkers', 31), ('answering', 31), ('capshaw', 31), ('capitalize', 31), ('infant', 31), ('150', 31), ('rumors', 31), ('jeep', 31), ('foley', 31), ('bullying', 31), ('boarding', 31), ('maniacal', 31), ('council', 31), ('ounce', 31), ('aims', 31), ('blends', 31), ('integral', 31), ('addresses', 31), ('coincidences', 31), ('kisses', 31), ('blinded', 31), ('sweetheart', 31), ('elementary', 31), ('postman', 31), ('botched', 31), ('overweight', 31), ('maya', 31), ('irs', 31), ('olympia', 31), ('kriemhild', 31), ('socialist', 31), ('unforgivable', 31), ('aviv', 31), ('menu', 31), ('nell', 31), ('romano', 31), ('abominable', 31), ('cos', 31), ('uniquely', 31), ('veronica', 31), ('coen', 31), ('employs', 31), ('sentiments', 31), ('spreading', 31), ('erik', 31), ('calculated', 31), ('stray', 31), ('hardships', 31), ('yea', 31), ('complains', 31), ('starving', 31), ('raft', 31), ('budgeted', 31), ('exhausted', 31), ('singin', 31), ('wagon', 31), ('skipped', 31), ('tanks', 31), ('transform', 31), ('amusingly', 31), ('spliced', 31), ('blaxploitation', 31), ('ka', 31), ('ate', 31), ('olympic', 31), ('unnamed', 31), ('therapist', 31), ('beta', 31), ('1941', 31), ('canon', 31), ('slack', 31), ('balcony', 31), ('texture', 31), ('roeg', 31), ('redeemed', 31), ('librarian', 31), ('chow', 31), ('jumbo', 31), ('robbie', 31), ('aspirations', 31), ('stakes', 31), ('skimpy', 31), ('binoche', 31), ('cleveland', 31), ('bathsheba', 31), ('opponent', 31), ('hilliard', 31), ('stooge', 31), ('blessing', 31), ('rewind', 31), ('1938', 31), ('archie', 31), ('prehistoric', 31), ('sherry', 31), ('indulge', 31), ('halt', 31), ('aunts', 31), ('di', 31), ('stealth', 31), ('raping', 31), ('tent', 31), ('interminable', 31), ('gardner', 31), ('mcbain', 31), ('bava', 31), ('instruments', 31), ('yoda', 31), ('insecure', 31), ('exudes', 31), ('exposes', 31), ('unfairly', 31), ('ashraf', 31), ('pursues', 31), ('bagdad', 31), ('trent', 31), ('zenia', 31), ('mcdonald', 31), ('celie', 31), ('hiring', 31), ('hagar', 31), ('jaffar', 31), ('announces', 30), ('fondness', 30), ('hilary', 30), ('visitors', 30), ('marginally', 30), ('fulfilled', 30), ('sordid', 30), ('heritage', 30), ('gadgets', 30), ('rooker', 30), ('dares', 30), ('harp', 30), ('crispin', 30), ('graces', 30), ('hosts', 30), ('raiders', 30), ('featurette', 30), ('stereo', 30), ('housewives', 30), ('gremlins', 30), ('stalwart', 30), ('float', 30), ('conceit', 30), ('infectious', 30), ('ranting', 30), ('denmark', 30), ('misogynistic', 30), ('megan', 30), ('hesitation', 30), ('fort', 30), ('recruits', 30), ('campers', 30), ('igor', 30), ('seduced', 30), ('joyous', 30), ('occupation', 30), ('contrasting', 30), ('environmental', 30), ('measures', 30), ('elegance', 30), ('abducted', 30), ('traitor', 30), ('discount', 30), ('assassins', 30), ('zoo', 30), ('manor', 30), ('archive', 30), ('beef', 30), ('notoriety', 30), ('duncan', 30), ('tenderness', 30), ('shtick', 30), ('summarize', 30), ('dexter', 30), ('picnic', 30), ('peek', 30), ('recognise', 30), ('worries', 30), ('reeks', 30), ('historian', 30), ('86', 30), ('separation', 30), ('marley', 30), ('maintained', 30), ('boyish', 30), ('housing', 30), ('declared', 30), ('cleaner', 30), ('tenants', 30), ('sacrificing', 30), ('baxter', 30), ('quoting', 30), ('hitchhiker', 30), ('dreamed', 30), ('waterfall', 30), ('puns', 30), ('cafe', 30), ('restoration', 30), ('pollack', 30), ('pronounced', 30), ('morgue', 30), ('stunk', 30), ('twentieth', 30), ('posed', 30), ('heiress', 30), ('thaw', 30), ('stretching', 30), ('tempered', 30), ('assembly', 30), ('upsetting', 30), ('registered', 30), ('uneducated', 30), ('1935', 30), ('compares', 30), ('raven', 30), ('spouse', 30), ('enlightened', 30), ('madly', 30), ('chalk', 30), ('lent', 30), ('warped', 30), ('pullman', 30), ('gellar', 30), ('formidable', 30), ('gossip', 30), ('steiner', 30), ('qualified', 30), ('cent', 30), ('sterile', 30), ('greats', 30), ('outdoor', 30), ('bets', 30), ('trumpet', 30), ('observing', 30), ('therein', 30), ('mcgregor', 30), ('ethics', 30), ('subconscious', 30), ('opus', 30), ('excesses', 30), ('smashed', 30), ('liquor', 30), ('renders', 30), ('guarded', 30), ('forwarding', 30), ('freely', 30), ('lifelong', 30), ('mantegna', 30), ('manos', 30), ('pazu', 30), ('sheeta', 30), ('warnings', 30), ('exhilarating', 30), ('tomlinson', 30), ('milland', 30), ('alain', 30), ('differ', 30), ('ilk', 30), ('implications', 30), ('lambs', 30), ('hartman', 30), ('winded', 30), ('wendt', 30), ('turturro', 30), ('manchu', 30), ('foxes', 30), ('galore', 30), ('artful', 30), ('patterns', 30), ('positives', 30), ('transvestite', 30), ('pope', 30), ('anniversary', 30), ('brawl', 30), ('approved', 30), ('walters', 30), ('robber', 30), ('canvas', 30), ('1956', 30), ('participating', 30), ('loudly', 30), ('staple', 30), ('acquire', 30), ('outlook', 30), ('misfire', 30), ('detracts', 30), ('hagen', 30), ('grieving', 30), ('spaces', 30), ('busted', 30), ('dench', 30), ('outbreak', 30), ('blanks', 30), ('dial', 30), ('krell', 30), ('evolve', 30), ('helm', 30), ('download', 30), ('patton', 30), ('excrement', 30), ('armageddon', 30), ('dakota', 30), ('nicky', 30), ('ivy', 30), ('actuality', 30), ('bicycle', 30), ('blurred', 30), ('astonished', 30), ('inspires', 30), ('ax', 30), ('beery', 30), ('wray', 30), ('te', 30), ('defines', 30), ('opposing', 30), ('surpassed', 30), ('400', 30), ('scan', 30), ('furry', 30), ('intrusive', 30), ('smuggling', 30), ('connects', 30), ('punished', 30), ('amateurs', 30), ('spoon', 30), ('circumstance', 30), ('talkie', 30), ('arbitrary', 30), ('flood', 30), ('amber', 30), ('weissmuller', 30), ('checks', 30), ('rooted', 30), ('cyborgs', 30), ('surrealism', 30), ('partition', 30), ('resurrected', 30), ('drained', 30), ('waterfront', 30), ('lighten', 30), ('conroy', 30), ('bathtub', 30), ('sorcery', 30), ('adelaide', 30), ('giggles', 30), ('savior', 30), ('chimney', 30), ('triad', 30), ('accompany', 30), ('offside', 30), ('neighbours', 30), ('hayden', 30), ('fiennes', 30), ('lili', 30), ('downward', 30), ('impressively', 30), ('ripley', 30), ('lordi', 30), ('hackenstein', 30), ('newhart', 29), ('bags', 29), ('craziness', 29), ('effortless', 29), ('scam', 29), ('amiable', 29), ('keller', 29), ('searches', 29), ('reversed', 29), ('framework', 29), ('distributors', 29), ('tricky', 29), ('employer', 29), ('aristocratic', 29), ('gardener', 29), ('indicates', 29), ('brash', 29), ('ponder', 29), ('ethel', 29), ('textbook', 29), ('log', 29), ('disability', 29), ('depalma', 29), ('stylistic', 29), ('puri', 29), ('pouring', 29), ('recruit', 29), ('ransom', 29), ('railroad', 29), ('1954', 29), ('declare', 29), ('sexes', 29), ('edwards', 29), ('meter', 29), ('arcs', 29), ('monitor', 29), ('classroom', 29), ('wrestlemania', 29), ('flirting', 29), ('outcast', 29), ('dripped', 29), ('allusions', 29), ('digest', 29), ('domination', 29), ('perkins', 29), ('haim', 29), ('filter', 29), ('danced', 29), ('carrier', 29), ('pinnacle', 29), ('pimp', 29), ('competitive', 29), ('defence', 29), ('financially', 29), ('shootouts', 29), ('figuring', 29), ('skies', 29), ('pesci', 29), ('recognised', 29), ('fluffy', 29), ('malta', 29), ('jacob', 29), ('advertisement', 29), ('fearing', 29), ('noticing', 29), ('sophomoric', 29), ('bouncing', 29), ('slob', 29), ('distasteful', 29), ('fulfillment', 29), ('clubs', 29), ('trelkovsky', 29), ('offspring', 29), ('intimacy', 29), ('links', 29), ('familiarity', 29), ('digs', 29), ('implication', 29), ('predicament', 29), ('vinnie', 29), ('11th', 29), ('velvet', 29), ('gerald', 29), ('andrea', 29), ('instrument', 29), ('digress', 29), ('organ', 29), ('signal', 29), ('untalented', 29), ('devious', 29), ('inherently', 29), ('unbearably', 29), ('scum', 29), ('erratic', 29), ('abbott', 29), ('raoul', 29), ('labyrinth', 29), ('savini', 29), ('memoirs', 29), ('masquerading', 29), ('granddaughter', 29), ('roses', 29), ('devgan', 29), ('enforcer', 29), ('complement', 29), ('grandson', 29), ('billie', 29), ('theft', 29), ('hindsight', 29), ('poignancy', 29), ('demonstration', 29), ('yikes', 29), ('nods', 29), ('corporations', 29), ('narcissistic', 29), ('departments', 29), ('habits', 29), ('monotone', 29), ('tito', 29), ('profits', 29), ('berserk', 29), ('donner', 29), ('hysteria', 29), ('impersonation', 29), ('congratulations', 29), ('cam', 29), ('aplomb', 29), ('utilized', 29), ('powerfully', 29), ('coincidentally', 29), ('ada', 29), ('recommending', 29), ('jerks', 29), ('esque', 29), ('blending', 29), ('mia', 29), ('repertoire', 29), ('spray', 29), ('tomato', 29), ('durante', 29), ('palpable', 29), ('mcshane', 29), ('gum', 29), ('materials', 29), ('researcher', 29), ('subversive', 29), ('bowling', 29), ('humiliation', 29), ('dam', 29), ('mormons', 29), ('magnificently', 29), ('commentaries', 29), ('adulthood', 29), ('rarity', 29), ('expressive', 29), ('ranges', 29), ('hick', 29), ('dock', 29), ('tighter', 29), ('fanny', 29), ('fineman', 29), ('calvin', 29), ('shapes', 29), ('distraught', 29), ('marriages', 29), ('eroticism', 29), ('complexities', 29), ('struggled', 29), ('tow', 29), ('gomez', 29), ('plausibility', 29), ('franchot', 29), ('sherman', 29), ('plods', 29), ('bumps', 29), ('vietnamese', 29), ('canned', 29), ('shea', 29), ('instructor', 29), ('schtick', 29), ('nacho', 29), ('tung', 29), ('convicts', 29), ('putrid', 29), ('proclaimed', 29), ('superlative', 29), ('broderick', 29), ('magnolia', 29), ('escapist', 29), ('aggression', 29), ('intends', 29), ('esteem', 29), ('critically', 29), ('lowered', 29), ('benet', 29), ('stupidly', 29), ('cues', 29), ('pressures', 29), ('scaring', 29), ('poking', 29), ('den', 29), ('prestigious', 29), ('vanishes', 29), ('sap', 29), ('lump', 29), ('capra', 29), ('hickock', 29), ('ivan', 29), ('math', 29), ('commands', 29), ('houston', 29), ('ana', 29), ('pang', 29), ('dir', 29), ('isabel', 29), ('warfare', 29), ('rosie', 29), ('prints', 29), ('humphrey', 29), ('debacle', 29), ('finnish', 29), ('slapping', 29), ('funds', 29), ('measured', 29), ('usher', 29), ('annoys', 29), ('crushing', 29), ('staircase', 29), ('ernst', 29), ('remorse', 29), ('om', 29), ('premier', 29), ('restore', 29), ('surrounds', 29), ('katherine', 29), ('seberg', 29), ('renee', 29), ('output', 28), ('disservice', 28), ('cassandra', 28), ('recap', 28), ('basics', 28), ('moviegoers', 28), ('endeavor', 28), ('shooter', 28), ('staggering', 28), ('foreground', 28), ('saturated', 28), ('missouri', 28), ('raul', 28), ('devils', 28), ('pits', 28), ('soo', 28), ('stitches', 28), ('dunaway', 28), ('videotape', 28), ('ringing', 28), ('confirms', 28), ('noon', 28), ('bomber', 28), ('katsu', 28), ('patriarch', 28), ('contend', 28), ('aimless', 28), ('wink', 28), ('fascism', 28), ('luise', 28), ('employment', 28), ('1937', 28), ('refuge', 28), ('reverend', 28), ('fathom', 28), ('careless', 28), ('fricker', 28), ('commentator', 28), ('resembled', 28), ('emptiness', 28), ('eyebrows', 28), ('ant', 28), ('port', 28), ('emerging', 28), ('repellent', 28), ('restricted', 28), ('ludicrously', 28), ('20s', 28), ('mraovich', 28), ('listener', 28), ('thai', 28), ('shook', 28), ('8th', 28), ('chiller', 28), ('perlman', 28), ('tng', 28), ('uncover', 28), ('chaney', 28), ('imposed', 28), ('muddy', 28), ('biological', 28), ('aptly', 28), ('homework', 28), ('corners', 28), ('childlike', 28), ('wallet', 28), ('ivory', 28), ('shoestring', 28), ('buscemi', 28), ('dramatized', 28), ('plotline', 28), ('resonance', 28), ('emmanuelle', 28), ('successes', 28), ('aboriginal', 28), ('wires', 28), ('bores', 28), ('conquer', 28), ('immoral', 28), ('progressively', 28), ('dignified', 28), ('zelda', 28), ('1962', 28), ('cavalry', 28), ('wherein', 28), ('crater', 28), ('bailey', 28), ('lured', 28), ('heroism', 28), ('bernie', 28), ('muster', 28), ('snail', 28), ('cruz', 28), ('feisty', 28), ('diamonds', 28), ('scarcely', 28), ('yugoslavia', 28), ('hooks', 28), ('smack', 28), ('winger', 28), ('writings', 28), ('penchant', 28), ('africans', 28), ('altering', 28), ('indulgence', 28), ('cahill', 28), ('adrenaline', 28), ('residence', 28), ('dug', 28), ('wwf', 28), ('88', 28), ('needle', 28), ('swell', 28), ('malevolent', 28), ('swayze', 28), ('scriptwriters', 28), ('lad', 28), ('carlyle', 28), ('unfaithful', 28), ('sneaking', 28), ('shattered', 28), ('swanson', 28), ('heal', 28), ('humiliating', 28), ('saxon', 28), ('hottest', 28), ('stowe', 28), ('invariably', 28), ('inject', 28), ('trips', 28), ('spiderman', 28), ('arena', 28), ('tilly', 28), ('1952', 28), ('boob', 28), ('wanda', 28), ('annual', 28), ('weir', 28), ('selma', 28), ('marvelously', 28), ('scoring', 28), ('colbert', 28), ('deluise', 28), ('exclusive', 28), ('consistency', 28), ('guiness', 28), ('dope', 28), ('costuming', 28), ('leadership', 28), ('gyllenhaal', 28), ('meditation', 28), ('awkwardly', 28), ('promotional', 28), ('machinery', 28), ('freshman', 28), ('rumor', 28), ('progressive', 28), ('cavemen', 28), ('barn', 28), ('comet', 28), ('imaginations', 28), ('ranked', 28), ('janeane', 28), ('toll', 28), ('reels', 28), ('prayer', 28), ('ronny', 28), ('tailor', 28), ('formerly', 28), ('distinguish', 28), ('ripper', 28), ('lore', 28), ('olive', 28), ('nc', 28), ('rejection', 28), ('gripe', 28), ('accusations', 28), ('fencing', 28), ('sweetness', 28), ('alluring', 28), ('coping', 28), ('dev', 28), ('pimlico', 28), ('chester', 28), ('lambert', 28), ('patriotism', 28), ('brock', 28), ('manson', 28), ('techno', 28), ('silk', 28), ('tracey', 28), ('toes', 28), ('sofia', 28), ('scrappy', 28), ('imperial', 28), ('hawk', 28), ('fourteen', 28), ('lilly', 28), ('niche', 28), ('dorm', 28), ('nintendo', 28), ('waqt', 28), ('lemon', 28), ('atop', 28), ('epps', 28), ('ranma', 28), ('lt.', 28), ('retire', 28), ('seller', 28), ('troy', 28), ('achilles', 28), ('fated', 28), ('incorporate', 28), ('censored', 28), ('singleton', 28), ('fiona', 28), ('humiliated', 28), ('impulse', 28), ('waiter', 28), ('labour', 28), ('backstage', 28), ('goth', 28), ('perversion', 28), ('abby', 28), ('foggy', 28), ('paine', 28), ('desi', 28), ('alpha', 28), ('hunger', 28), ('kibbutz', 28), ('morbius', 28), ('aimlessly', 28), ('64', 28), ('tissue', 28), ('iris', 28), ('speeding', 27), ('delves', 27), ('handedly', 27), ('farmers', 27), ('losses', 27), ('blended', 27), ('crouching', 27), ('wyoming', 27), ('unwittingly', 27), ('wraps', 27), ('skeleton', 27), ('risky', 27), ('clerks', 27), ('midway', 27), ('catalog', 27), ('townsfolk', 27), ('roaming', 27), ('drill', 27), ('outbursts', 27), ('willard', 27), ('astute', 27), ('preach', 27), ('glorified', 27), ('yankee', 27), ('increased', 27), ('coherence', 27), ('groovy', 27), ('arises', 27), ('moderate', 27), ('guerrilla', 27), ('soooo', 27), ('exhibits', 27), ('helicopters', 27), ('watchers', 27), ('scenic', 27), ('noses', 27), ('compulsive', 27), ('continuation', 27), ('borg', 27), ('uttered', 27), ('abbot', 27), ('styled', 27), ('enjoyably', 27), ('contrasts', 27), ('tempest', 27), ('formal', 27), ('dreaded', 27), ('irreverent', 27), ('closes', 27), ('guidance', 27), ('backbone', 27), ('rapists', 27), ('partying', 27), ('parisian', 27), ('shambles', 27), ('glamour', 27), ('freudian', 27), ('cooler', 27), ('entity', 27), ('wiser', 27), ('wolfman', 27), ('highlighted', 27), ('yup', 27), ('resorting', 27), ('disconnected', 27), ('cheats', 27), ('shortened', 27), ('hottie', 27), ('overused', 27), ('180', 27), ('extension', 27), ('effeminate', 27), ('creed', 27), ('autistic', 27), ('trashed', 27), ('loach', 27), ('puke', 27), ('pastor', 27), ('orwell', 27), ('fictitious', 27), ('hallucination', 27), ('myths', 27), ('demographic', 27), ('confederate', 27), ('naming', 27), ('dour', 27), ('andie', 27), ('woeful', 27), ('applauded', 27), ('mobsters', 27), ('pioneer', 27), ('keira', 27), ('dimensions', 27), ('succeeding', 27), ('sparkle', 27), ('starlet', 27), ('snaps', 27), ('republican', 27), ('boils', 27), ('democratic', 27), ('amos', 27), ('archaeologist', 27), ('wizards', 27), ('thematic', 27), ('eldest', 27), ('tribulations', 27), ('mutilated', 27), ('motor', 27), ('wry', 27), ('goddess', 27), ('smallville', 27), ('glove', 27), ('ably', 27), ('recovered', 27), ('pryor', 27), ('marshal', 27), ('degrading', 27), ('mish', 27), ('venoms', 27), ('rescues', 27), ('bunker', 27), ('250', 27), ('abhay', 27), ('sydow', 27), ('guise', 27), ('ditto', 27), ('virgins', 27), ('graphically', 27), ('trinity', 27), ('nixon', 27), ('articulate', 27), ('masculine', 27), ('ohio', 27), ('arise', 27), ('infested', 27), ('bump', 27), ('contemplating', 27), ('hams', 27), ('unsatisfied', 27), ('tragically', 27), ('encouraging', 27), ('lana', 27), ('5th', 27), ('inviting', 27), ('yacht', 27), ('anders', 27), ('sprinkled', 27), ('uncertainty', 27), ('invincible', 27), ('6th', 27), ('whoa', 27), ('metaphysical', 27), ('preparation', 27), ('respectful', 27), ('demanded', 27), ('drawback', 27), ('professionally', 27), ('saura', 27), ('schizophrenic', 27), ('cleaned', 27), ('farcical', 27), ('matin', 27), ('persuade', 27), ('privilege', 27), ('myriad', 27), ('pov', 27), ('hoods', 27), ('instrumental', 27), ('costello', 27), ('cleese', 27), ('ironside', 27), ('neon', 27), ('cringed', 27), ('thinly', 27), ('sfx', 27), ('bursting', 27), ('zoe', 27), ('embark', 27), ('investigates', 27), ('avalanche', 27), ('seas', 27), ('kaye', 27), ('sickly', 27), ('fling', 27), ('suite', 27), ('telegraphed', 27), ('lyle', 27), ('novice', 27), ('compromised', 27), ('shemp', 27), ('griffin', 27), ('culp', 27), ('lynn', 27), ('swat', 27), ('communities', 27), ('shawshank', 27), ('telephone', 27), ('refusing', 27), ('invest', 27), ('strangler', 27), ('software', 27), ('hillbilly', 27), ('gaze', 27), ('simplest', 27), ('emil', 27), ('shops', 27), ('shearer', 27), ('ingredient', 27), ('orca', 27), ('fidelity', 27), ('intellectuals', 27), ('razzie', 27), ('jj', 27), ('threaten', 27), ('scarred', 27), ('rory', 27), ('tournament', 27), ('northwest', 27), ('jaffe', 27), ('purposely', 27), ('combo', 27), ('lorenzo', 27), ('mendes', 27), ('inconsequential', 27), ('shudder', 27), ('pedro', 27), ('tapping', 27), ('bureau', 27), ('skirt', 27), ('assumption', 27), ('31', 27), ('precision', 27), ('screwing', 27), ('hutton', 27), ('assorted', 27), ('dressler', 27), ('wilde', 27), ('embarks', 27), ('unstoppable', 27), ('cursing', 27), ('idealism', 27), ('pregnancy', 27), ('rancid', 27), ('prophetic', 27), ('prospect', 27), ('lassie', 27), ('connelly', 27), ('adept', 27), ('component', 27), ('picker', 27), ('pym', 26), ('permanently', 26), ('heartily', 26), ('hypocrisy', 26), ('dominates', 26), ('obligation', 26), ('moods', 26), ('immortality', 26), ('afterlife', 26), ('richer', 26), ('alamo', 26), ('65', 26), ('devilish', 26), ('provoke', 26), ('caves', 26), ('reflections', 26), ('earning', 26), ('income', 26), ('gwynne', 26), ('remaking', 26), ('jeopardy', 26), ('kit', 26), ('graceful', 26), ('faked', 26), ('harvest', 26), ('burstyn', 26), ('majestic', 26), ('spared', 26), ('baffling', 26), ('fry', 26), ('recapture', 26), ('throwback', 26), ('reply', 26), ('noticeably', 26), ('dicaprio', 26), ('frodo', 26), ('relieved', 26), ('reckon', 26), ('paresh', 26), ('incessant', 26), ('rudy', 26), ('cannibalism', 26), ('disturb', 26), ('poorest', 26), ('joyce', 26), ('84', 26), ('sardonic', 26), ('consciously', 26), ('capabilities', 26), ('chimp', 26), ('dumps', 26), ('revolve', 26), ('construct', 26), ('tearing', 26), ('fading', 26), ('rajpal', 26), ('refund', 26), ('strips', 26), ('earthquake', 26), ('joys', 26), ('calibre', 26), ('e.g.', 26), ('buffoon', 26), ('fateful', 26), ('ching', 26), ('mockumentary', 26), ('elevated', 26), ('ours', 26), ('confesses', 26), ('juicy', 26), ('literate', 26), ('boats', 26), ('stratton', 26), ('bench', 26), ('roscoe', 26), ('devos', 26), ('bullock', 26), ('eighty', 26), ('boggling', 26), ('mystic', 26), ('beans', 26), ('belgium', 26), ('hamming', 26), ('troupe', 26), ('fearless', 26), ('berkowitz', 26), ('capitalist', 26), ('eyeballs', 26), ('gunfire', 26), ('regulars', 26), ('cigarettes', 26), ('footlight', 26), ('fenton', 26), ('consummate', 26), ('repair', 26), ('filmic', 26), ('porky', 26), ('mysticism', 26), ('shields', 26), ('evocative', 26), ('arrows', 26), ('bradford', 26), ('metaphors', 26), ('resourceful', 26), ('imdb.com', 26), ('heres', 26), ('governments', 26), ('refugee', 26), ('flips', 26), ('todesking', 26), ('triumphs', 26), ('wronged', 26), ('drown', 26), ('awaited', 26), ('meetings', 26), ('external', 26), ('77', 26), ('organic', 26), ('smashing', 26), ('ra', 26), ('fez', 26), ('gunfight', 26), ('speakers', 26), ('splash', 26), ('fisted', 26), ('schindler', 26), ('interacting', 26), ('hilt', 26), ('thornton', 26), ('refined', 26), ('1947', 26), ('vu', 26), ('magnum', 26), ('geraldine', 26), ('undeniable', 26), ('emotionless', 26), ('bizarrely', 26), ('eg', 26), ('mansfield', 26), ('behaviors', 26), ('trait', 26), ('insomniac', 26), ('layer', 26), ('belonged', 26), ('darryl', 26), ('brute', 26), ('philippe', 26), ('akira', 26), ('mis', 26), ('elusive', 26), ('personnel', 26), ('finance', 26), ('attackers', 26), ('gazzara', 26), ('departed', 26), ('oops', 26), ('attracts', 26), ('ploy', 26), ('noirs', 26), ('humane', 26), ('marketed', 26), ('epidemic', 26), ('luscious', 26), ('roland', 26), ('romy', 26), ('heyday', 26), ('teller', 26), ('acquainted', 26), ('emergency', 26), ('concrete', 26), ('cherish', 26), ('whomever', 26), ('burrows', 26), ('grindhouse', 26), ('aditya', 26), ('iago', 26), ('anatomy', 26), ('mc', 26), ('yadda', 26), ('flare', 26), ('abigail', 26), ('perky', 26), ('chubby', 26), ('stepfather', 26), ('squeamish', 26), ('signals', 26), ('pr', 26), ('owed', 26), ('contents', 26), ('irons', 26), ('punks', 26), ('earp', 26), ('serviceable', 26), ('sesame', 26), ('skillfully', 26), ('arabic', 26), ('picturesque', 26), ('robby', 26), ('intentioned', 26), ('grader', 26), ('wildlife', 26), ('gil', 26), ('kiki', 26), ('enthusiasts', 26), ('parsifal', 26), ('towel', 26), ('robocop', 26), ('sheedy', 26), ('bra', 26), ('craving', 26), ('enlisted', 26), ('ponderous', 26), ('rom', 26), ('puerile', 26), ('shuttle', 26), ('nasa', 26), ('effectiveness', 26), ('herein', 26), ('retreat', 26), ('compilation', 26), ('carlisle', 26), ('mordrid', 26), ('binder', 26), ('rao', 26), ('gandalf', 26), ('moran', 26), ('morton', 26), ('leone', 26), ('folklore', 26), ('consumption', 26), ('gospel', 26), ('intertwined', 26), ('heflin', 26), ('operations', 26), ('miners', 26), ('suspicions', 26), ('inventor', 26), ('reginald', 26), ('varma', 26), ('gown', 26), ('anal', 26), ('addictive', 26), ('tristan', 26), ('berry', 26), ('rosanna', 26), ('wodehouse', 26), ('grandeur', 26), ('deftly', 26), ('trey', 26), ('trump', 26), ('peasant', 26), ('boone', 26), ('homophobic', 25), ('singular', 25), ('calamity', 25), ('laundry', 25), ('panties', 25), ('contemporaries', 25), ('evolves', 25), ('vows', 25), ('commentators', 25), ('allure', 25), ('flops', 25), ('courtney', 25), ('traces', 25), ('tragedies', 25), ('levin', 25), ('alienated', 25), ('bandit', 25), ('floyd', 25), ('pills', 25), ('renegade', 25), ('convenience', 25), ('blurry', 25), ('disposal', 25), ('criteria', 25), ('adversity', 25), ('suburbs', 25), ('chopping', 25), ('outlaws', 25), ('gutter', 25), ('diva', 25), ('elisabeth', 25), ('savvy', 25), ('oppression', 25), ('collapsing', 25), ('shane', 25), ('brass', 25), ('tub', 25), ('looses', 25), ('waist', 25), ('easiest', 25), ('suburbia', 25), ('descends', 25), ('yuzna', 25), ('favours', 25), ('hideously', 25), ('es', 25), ('leonardo', 25), ('vikings', 25), ('ozzy', 25), ('thankless', 25), ('backward', 25), ('evolving', 25), ('denholm', 25), ('candles', 25), ('englishman', 25), ('danza', 25), ('idle', 25), ('comically', 25), ('tornado', 25), ('graduated', 25), ('hanson', 25), ('hail', 25), ('.i', 25), ('ineptitude', 25), ('breezy', 25), ('preventing', 25), ('seducing', 25), ('josie', 25), ('newspapers', 25), ('nada', 25), ('ineffective', 25), ('sock', 25), ('punched', 25), ('milverton', 25), ('cane', 25), ('parole', 25), ('enforcement', 25), ('palermo', 25), ('ranking', 25), ('pretensions', 25), ('reform', 25), ('audiard', 25), ('thematically', 25), ('slot', 25), ('commenter', 25), ('yo', 25), ('sting', 25), ('sufficiently', 25), ('actively', 25), ('bunuel', 25), ('innovation', 25), ('sneaks', 25), ('bronx', 25), ('lords', 25), ('haunts', 25), ('hicks', 25), ('tintin', 25), ('graffiti', 25), ('policies', 25), ('doolittle', 25), ('wimpy', 25), ('goldsmith', 25), ('wtc', 25), ('patriot', 25), ('buttgereit', 25), ('envelope', 25), ('dyer', 25), ('criterion', 25), ('percentage', 25), ('chad', 25), ('terrain', 25), ('wheeler', 25), ('hallam', 25), ('kelso', 25), ('muscles', 25), ('miscasting', 25), ('frail', 25), ('wimp', 25), ('wickedly', 25), ('dice', 25), ('nevada', 25), ('exchanges', 25), ('1928', 25), ('editors', 25), ('deus', 25), ('lengths', 25), ('outsiders', 25), ('sample', 25), ('arrangements', 25), ('rhymes', 25), ('trish', 25), ('willed', 25), ('contradiction', 25), ('blackadder', 25), ('radioactive', 25), ('futile', 25), ('bloodthirsty', 25), ('spoofing', 25), ('pervasive', 25), ('discarded', 25), ('overact', 25), ('superpowers', 25), ('questioned', 25), ('mechanics', 25), ('twisting', 25), ('gabe', 25), ('feeds', 25), ('webster', 25), ('gambler', 25), ('vincente', 25), ('caribbean', 25), ('dependent', 25), ('glances', 25), ('maher', 25), ('pressing', 25), ('omega', 25), ('naturalistic', 25), ('chews', 25), ('moses', 25), ('grable', 25), ('sewer', 25), ('lupino', 25), ('duchess', 25), ('avenger', 25), ('gail', 25), ('presley', 25), ('illinois', 25), ('jumbled', 25), ('getaway', 25), ('relish', 25), ('slutty', 25), ('panned', 25), ('surfer', 25), ('whodunit', 25), ('vulgarity', 25), ('dominant', 25), ('columbine', 25), ('applegate', 25), ('yvonne', 25), ('nominee', 25), ('mutilation', 25), ('committee', 25), ('homo', 25), ('nash', 25), ('grind', 25), ('displeasure', 25), ('spades', 25), ('beds', 25), ('reflecting', 25), ('goons', 25), ('shade', 25), ('mastery', 25), ('kari', 25), ('knoxville', 25), ('terminal', 25), ('invisibility', 25), ('brothel', 25), ('miniature', 25), ('supporter', 25), ('fantastical', 25), ('partnership', 25), ('100.', 25), ('incomplete', 25), ('venom', 25), ('extend', 25), ('injuries', 25), ('ren', 25), ('haggard', 25), ('intimidating', 25), ('engrossed', 25), ('quotable', 25), ('unpretentious', 25), ('beginnings', 25), ('lillian', 25), ('charley', 25), ('plump', 25), ('criticizing', 25), ('researching', 25), ('hippy', 25), ('th', 25), ('strapped', 25), ('ingenuity', 25), ('haphazard', 25), ('praises', 25), ('afro', 25), ('payment', 25), ('darkwolf', 25), ('marina', 25), ('kipling', 25), ('kali', 25), ('perdition', 25), ('breeze', 25), ('carefree', 25), ('kattan', 25), ('vipul', 25), ('heightened', 25), ('gameplay', 25), ('denominator', 25), ('stratten', 25), ('vernon', 25), ('domergue', 25), ('advertisements', 25), ('verbally', 25), ('rally', 25), ('behaved', 25), ('clinton', 25), ('extravagant', 25), ('affluent', 25), ('d.w.', 25), ('assumptions', 25), ('goose', 25), ('oral', 25), ('foolishly', 25), ('concluded', 25), ('civilized', 25), ('connecticut', 25), ('maddy', 25), ('proportion', 25), ('punching', 25), ('knightly', 25), ('scalise', 25), ('disrespect', 25), ('bloated', 25), ('spectator', 25), ('pows', 25), ('pony', 25), ('riley', 25), ('cobra', 25), ('crawling', 25), ('dino', 25), ('hallways', 25), ('raggedy', 25), ('munro', 25), ('seaside', 25), ('bases', 25), ('poirot', 25), ('rang', 25), ('delon', 25), ('ripe', 24), ('bombastic', 24), ('admirers', 24), ('pi', 24), ('egan', 24), ('comprehension', 24), ('guzman', 24), ('rican', 24), ('begged', 24), ('softcore', 24), ('biographical', 24), ('youths', 24), ('janine', 24), ('renny', 24), ('manhood', 24), ('abiding', 24), ('scars', 24), ('incorporated', 24), ('brigitte', 24), ('resurrect', 24), ('slang', 24), ('meatball', 24), ('inc.', 24), ('riddled', 24), ('spawn', 24), ('mercury', 24), ('quoted', 24), ('inbred', 24), ('cured', 24), ('strangelove', 24), ('domain', 24), ('curtiz', 24), ('heroines', 24), ('hailed', 24), ('oppressed', 24), ('religions', 24), ('intervention', 24), ('absurdly', 24), ('enticing', 24), ('reworking', 24), ('tyson', 24), ('imposing', 24), ('raimi', 24), ('boast', 24), ('misadventures', 24), ('underwhelming', 24), ('bounce', 24), ('bethany', 24), ('delta', 24), ('jonestown', 24), ('contrasted', 24), ('fronts', 24), ('subjective', 24), ('sustained', 24), ('veronika', 24), ('argued', 24), ('showgirls', 24), ('explicitly', 24), ('disrespectful', 24), ('modine', 24), ('ashes', 24), ('banging', 24), ('stylistically', 24), ('lulu', 24), ('grocery', 24), ('printed', 24), ('diet', 24), ('chairs', 24), ('improves', 24), ('bewildered', 24), ('sociopath', 24), ('shaken', 24), ('susannah', 24), ('collapses', 24), ('harmon', 24), ('solidly', 24), ('yuppie', 24), ('flawlessly', 24), ('landlord', 24), ('debts', 24), ('goody', 24), ('strive', 24), ('copyright', 24), ('simulated', 24), ('lesbianism', 24), ('dared', 24), ('negatives', 24), ('maze', 24), ('fatally', 24), ('hound', 24), ('impresses', 24), ('simone', 24), ('storyteller', 24), ('contributions', 24), ('giamatti', 24), ('doe', 24), ('narratives', 24), ('mahatma', 24), ('soaked', 24), ('palsy', 24), ('trunk', 24), ('dunno', 24), ('gleason', 24), ('sen', 24), ('cleverness', 24), ('boman', 24), ('irani', 24), ('excessively', 24), ('offenders', 24), ('recreated', 24), ('submission', 24), ('attachment', 24), ('intolerance', 24), ('starr', 24), ('akshaye', 24), ('pickpocket', 24), ('bells', 24), ('butts', 24), ('machinations', 24), ('believably', 24), ('submitted', 24), ('dibiase', 24), ('luminous', 24), ('stripes', 24), ('heterosexual', 24), ('overcomes', 24), ('prominently', 24), ('definately', 24), ('yuck', 24), ('someones', 24), ('paste', 24), ('passages', 24), ('mayer', 24), ('pipe', 24), ('spinster', 24), ('beauties', 24), ('inherit', 24), ('dreamworks', 24), ('grandiose', 24), ('verve', 24), ('protector', 24), ('pretension', 24), ('vanished', 24), ('cram', 24), ('2006.', 24), ('worldly', 24), ('frailty', 24), ('busting', 24), ('demi', 24), ('afterthought', 24), ('forgiving', 24), ('weisz', 24), ('stamp', 24), ('medal', 24), ('tips', 24), ('trance', 24), ('wyatt', 24), ('elevates', 24), ('misunderstandings', 24), ('fondly', 24), ('unfolded', 24), ('godmother', 24), ('burtynsky', 24), ('digger', 24), ('mal', 24), ('reprising', 24), ('enables', 24), ('talkies', 24), ('redeems', 24), ('revisit', 24), ('mukhsin', 24), ('comatose', 24), ('genitals', 24), ('signing', 24), ('mona', 24), ('timer', 24), ('visionary', 24), ('noel', 24), ('maltin', 24), ('pod', 24), ('activist', 24), ('problematic', 24), ('journalists', 24), ('rene', 24), ('mishaps', 24), ('proposes', 24), ('breckinridge', 24), ('grisby', 24), ('testimony', 24), ('womanizing', 24), ('ricardo', 24), ('dudes', 24), ('vary', 24), ('uneventful', 24), ('jeanette', 24), ('chinatown', 24), ('immune', 24), ('vocabulary', 24), ('judi', 24), ('caged', 24), ('spoilt', 24), ('pawn', 24), ('bozz', 24), ('saddles', 24), ('carbon', 24), ('dna', 24), ('agonizing', 24), ('mommy', 24), ('toolbox', 24), ('marching', 24), ('appointed', 24), ('miraculous', 24), ('yada', 24), ('electronics', 24), ('permission', 24), ('hazel', 24), ('carroll', 24), ('stressed', 24), ('operates', 24), ('fireplace', 24), ('everyman', 24), ('preceded', 24), ('wrapping', 24), ('dialect', 24), ('xica', 24), ('journalism', 24), ('depravity', 24), ('frosty', 24), ('farting', 24), ('hacking', 24), ('perpetually', 24), ('rudolph', 24), ('mcnally', 24), ('afi', 24), ('disfigured', 24), ('dot', 24), ('wrist', 24), ('vixen', 24), ('pollution', 24), ('gump', 24), ('eileen', 24), ('moto', 24), ('ark', 24), ('cracked', 24), ('additions', 24), ('hellman', 24), ('dual', 24), ('torso', 24), ('essay', 24), ('mumbo', 24), ('accustomed', 24), ('neve', 24), ('cement', 24), ('dc', 24), ('rochon', 24), ('arresting', 24), ('abe', 24), ('cotton', 24), ('kirkland', 24), ('zooms', 24), ('aroused', 24), ('congress', 24), ('franz', 24), ('lecherous', 24), ('argentina', 24), ('peet', 24), ('meanders', 24), ('01', 24), ('tick', 24), ('tautou', 24), ('moustache', 24), ('chin', 24), ('staden', 24), ('acquaintance', 24), ('obsolete', 24), ('backstory', 24), ('horseback', 24), ('hosted', 24), ('raider', 24), ('dumbed', 24), ('legally', 24), ('legged', 24), ('vamp', 24), ('fetching', 24), ('merchant', 24), ('modeling', 24), ('becky', 24), ('sultry', 24), ('lied', 24), ('squandered', 24), ('nadia', 24), ('pardon', 24), ('lohan', 24), ('feminism', 24), ('yakuza', 24), ('gullible', 24), ('kitsch', 24), ('hewitt', 24), ('caan', 24), ('fists', 24), ('1922', 24), ('junkie', 24), ('chained', 24), ('noisy', 24), ('lest', 24), ('ww', 24), ('ott', 24), ('ubiquitous', 24), ('ming', 24), ('squirm', 24), ('bel', 24), ('bafta', 24), ('goodfellas', 24), ('loggia', 24), ('crotch', 24), ('hermann', 24), ('herring', 24), ('pic', 24), ('digitally', 24), ('abbey', 24), ('hacks', 24), ('impossibly', 24), ('sierra', 24), ('decorated', 24), ('goodnight', 24), ('eighth', 24), ('dourif', 24), ('shaft', 24), ('thespian', 24), ('shelly', 24), ('clones', 24), ('financed', 24), ('tests', 24), ('bubba', 24), ('nostril', 24), ('snob', 24), ('ramon', 24), ('anakin', 24), ('characterized', 23), ('renewed', 23), ('typecast', 23), ('select', 23), ('rifles', 23), ('reporting', 23), ('stairway', 23), ('duet', 23), ('pinned', 23), ('ringo', 23), ('transforming', 23), ('rocked', 23), ('deceit', 23), ('toddler', 23), ('lighted', 23), ('roosevelt', 23), ('artifacts', 23), ('workings', 23), ('bowie', 23), ('csi', 23), ('mist', 23), ('insufferable', 23), ('solar', 23), ('sabotage', 23), ('unquestionably', 23), ('puddle', 23), ('moonwalker', 23), ('productive', 23), ('agreeing', 23), ('giggling', 23), ('gals', 23), ('learnt', 23), ('farrelly', 23), ('chopra', 23), ('millard', 23), ('jayne', 23), ('damaging', 23), ('ridicule', 23), ('wisconsin', 23), ('dv', 23), ('caucasian', 23), ('auditioning', 23), ('exceeded', 23), ('shia', 23), ('obstacle', 23), ('sweets', 23), ('misfit', 23), ('refreshingly', 23), ('masochistic', 23), ('shakti', 23), ('retread', 23), ('morita', 23), ('quartet', 23), ('invading', 23), ('accomplice', 23), ('collage', 23), ('communists', 23), ('jonny', 23), ('insect', 23), ('preserve', 23), ('coolness', 23), ('praising', 23), ('bros', 23), ('reversal', 23), ('cellar', 23), ('android', 23), ('recognizes', 23), ('cybill', 23), ('dungeon', 23), ('13.', 23), ('constance', 23), ('radiant', 23), ('mounted', 23), ('jumpy', 23), ('strathairn', 23), ('lon', 23), ('strands', 23), ('depraved', 23), ('exuberant', 23), ('dalmatians', 23), ('escort', 23), ('newcomers', 23), ('duped', 23), ('tribes', 23), ('bulb', 23), ('improving', 23), ('restrictions', 23), ('wrought', 23), ('grammar', 23), ('anthem', 23), ('hobby', 23), ('rescuing', 23), ('pounding', 23), ('geared', 23), ('generates', 23), ('greenwood', 23), ('trainer', 23), ('tackles', 23), ('fridge', 23), ('barr', 23), ('responses', 23), ('heavyweight', 23), ('warners', 23), ('foreshadowing', 23), ('innate', 23), ('knit', 23), ('socks', 23), ('hardship', 23), ('picky', 23), ('foe', 23), ('engages', 23), ('mm', 23), ('snore', 23), ('cargo', 23), ('detention', 23), ('perpetual', 23), ('diseases', 23), ('perennial', 23), ('appallingly', 23), ('certainty', 23), ('darlene', 23), ('falcon', 23), ('suspiciously', 23), ('comedienne', 23), ('disk', 23), ('strives', 23), ('fund', 23), ('autobiographical', 23), ('haircut', 23), ('countess', 23), ('trappings', 23), ('necks', 23), ('invitation', 23), ('ness', 23), ('heaton', 23), ('darkened', 23), ('mar', 23), ('francois', 23), ('masterwork', 23), ('waterman', 23), ('volunteer', 23), ('malicious', 23), ('truffaut', 23), ('wayward', 23), ('dross', 23), ('closeup', 23), ('jerking', 23), ('balancing', 23), ('repulsion', 23), ('belonging', 23), ('sweeps', 23), ('mcgovern', 23), ('dis', 23), ('alarming', 23), ('execute', 23), ('ca', 23), ('utah', 23), ('confessions', 23), ('plentiful', 23), ('compliments', 23), ('chico', 23), ('jewels', 23), ('wipes', 23), ('cuckoo', 23), ('fisherman', 23), ('quincy', 23), ('brisk', 23), ('seated', 23), ('cesar', 23), ('bigelow', 23), ('civilian', 23), ('untimely', 23), ('ida', 23), ('powder', 23), ('kiddies', 23), ('hypnotized', 23), ('liberated', 23), ('reduce', 23), ('recite', 23), ('unnoticed', 23), ('farther', 23), ('.........', 23), ('chikatilo', 23), ('hawks', 23), ('robs', 23), ('pupils', 23), ('copious', 23), ('danielle', 23), ('pictured', 23), ('clifford', 23), ('ooh', 23), ('dives', 23), ('occurrences', 23), ('amato', 23), ('antidote', 23), ('solitary', 23), ('epilogue', 23), ('retained', 23), ('utmost', 23), ('attentions', 23), ('refrain', 23), ('oshii', 23), ('palatable', 23), ('timid', 23), ('comrades', 23), ('centres', 23), ('shabby', 23), ('stuntman', 23), ('dien', 23), ('cleavage', 23), ('oddity', 23), ('seminal', 23), ('slackers', 23), ('occurrence', 23), ('weed', 23), ('ventura', 23), ('inn', 23), ('riches', 23), ('parable', 23), ('rockwell', 23), ('dangerfield', 23), ('whack', 23), ('ticked', 23), ('brainwashed', 23), ('dwarfs', 23), ('appetite', 23), ('colonies', 23), ('vancouver', 23), ('eerily', 23), ('forehead', 23), ('woronov', 23), ('doorway', 23), ('stifler', 23), ('tangled', 23), ('sideways', 23), ('bullshit', 23), ('tainted', 23), ('slayer', 23), ('incubus', 23), ('clair', 23), ('wrinkle', 23), ('asians', 23), ('thou', 23), ('imagines', 23), ('psychopathic', 23), ('synchronized', 23), ('bolt', 23), ('weller', 23), ('challenger', 23), ('mph', 23), ('transcend', 23), ('oakland', 23), ('pike', 23), ('hairdo', 23), ('aag', 23), ('prowess', 23), ('edinburgh', 23), ('defeating', 23), ('sorcerer', 23), ('payed', 23), ('goebbels', 23), ('unavailable', 23), ('mcmahon', 23), ('tucci', 23), ('trophy', 23), ('stallion', 23), ('hou', 23), ('increases', 23), ('graduation', 23), ('russel', 23), ('modicum', 23), ('afloat', 23), ('import', 23), ('freshness', 23), ('roddy', 23), ('hartnett', 23), ('42', 23), ('austrian', 23), ('quips', 23), ('molina', 23), ('unwanted', 23), ('strategy', 23), ('advancement', 23), ('traditionally', 23), ('rents', 23), ('sands', 23), ('tripping', 23), ('dreamlike', 23), ('resentment', 23), ('impersonating', 23), ('fabricated', 23), ('momentarily', 23), ('pine', 23), ('cromwell', 23), ('humming', 23), ('bloodless', 23), ('spur', 23), ('esp', 23), ('bam', 23), ('liv', 23), ('reconciliation', 23), ('sharply', 23), ('sharif', 23), ('sliding', 23), ('campfire', 23), ('82', 23), ('greece', 23), ('gaping', 23), ('lumiere', 23), ('10,000', 23), ('baltimore', 23), ('tribal', 23), ('veidt', 23), ('tas', 23), ('flute', 23), ('parked', 23), ('gaming', 23), ('savalas', 23), ('slaughterhouse', 23), ('chomsky', 23), ('noriko', 23), ('dummy', 22), ('uniqueness', 22), ('cancel', 22), ('trippy', 22), ('unscathed', 22), ('droll', 22), ('sparkling', 22), ('gigolo', 22), ('doppelganger', 22), ('fearful', 22), ('handing', 22), ('weave', 22), ('ruler', 22), ('temperature', 22), ('rains', 22), ('cigar', 22), ('hasselhoff', 22), ('transformations', 22), ('wary', 22), ('oneself', 22), ('aloof', 22), ('silently', 22), ('cuteness', 22), ('theron', 22), ('pigeon', 22), ('2001.', 22), ('overhead', 22), ('firefighters', 22), ('temporarily', 22), ('sergeants', 22), ('demonicus', 22), ('pastiche', 22), ('swordsman', 22), ('swordplay', 22), ('sidekicks', 22), ('companionship', 22), ('moriarty', 22), ('drone', 22), ('gloves', 22), ('milieu', 22), ('exquisitely', 22), ('pidgeon', 22), ('i.q', 22), ('skips', 22), ('proceeded', 22), ('sumptuous', 22), ('reacts', 22), ('ricci', 22), ('vh1', 22), ('amicus', 22), ('specialist', 22), ('indirectly', 22), ('corrupted', 22), ('comprehensive', 22), ('hordes', 22), ('unknowns', 22), ('kooky', 22), ('chrissy', 22), ('creatively', 22), ('approve', 22), ('confidential', 22), ('brightest', 22), ('microphone', 22), ('charts', 22), ('lamb', 22), ('curtains', 22), ('cambodian', 22), ('listless', 22), ('priyanka', 22), ('yadav', 22), ('flirt', 22), ('bilge', 22), ('purists', 22), ('miklos', 22), ('belgian', 22), ('cylons', 22), ('oft', 22), ('strangled', 22), ('finlay', 22), ('ethereal', 22), ('reloaded', 22), ('h.g', 22), ('observer', 22), ('believers', 22), ('canoe', 22), ('banality', 22), ('tattoo', 22), ('rot', 22), ('matuschek', 22), ('terrorized', 22), ('arrangement', 22), ('removing', 22), ('rhonda', 22), ('lifting', 22), ('inventing', 22), ('memorably', 22), ('culprit', 22), ('leaning', 22), ('establishes', 22), ('johnston', 22), ('00', 22), ('troll', 22), ('launching', 22), ('suicidal', 22), ('amnesia', 22), ('magnitude', 22), ('slaps', 22), ('stockwell', 22), ('bigoted', 22), ('gloriously', 22), ('arrange', 22), ('lorna', 22), ('barren', 22), ('tens', 22), ('deserts', 22), ('delights', 22), ('jannings', 22), ('cramped', 22), ('beaches', 22), ('deplorable', 22), ('amazes', 22), ('hogg', 22), ('bret', 22), ('needn', 22), ('gains', 22), ('omg', 22), ('terrifically', 22), ('amaze', 22), ('disillusioned', 22), ('accompanies', 22), ('ridley', 22), ('deja', 22), ('corinne', 22), ('vicki', 22), ('tigers', 22), ('resorts', 22), ('avail', 22), ('contradictions', 22), ('probable', 22), ('saddled', 22), ('boorman', 22), ('dublin', 22), ('soha', 22), ('blossom', 22), ('collected', 22), ('paquin', 22), ('eden', 22), ('fashionable', 22), ('boyd', 22), ('clunker', 22), ('relegated', 22), ('devito', 22), ('alias', 22), ('ancestors', 22), ('slit', 22), ('cobb', 22), ('montgomery', 22), ('36', 22), ('faking', 22), ('harvard', 22), ('televised', 22), ('snoop', 22), ('elicit', 22), ('maclaine', 22), ('glue', 22), ('rituals', 22), ('portugal', 22), ('mistakenly', 22), ('abundant', 22), ('theresa', 22), ('doubtful', 22), ('slashing', 22), ('reporters', 22), ('distracts', 22), ('1.5', 22), ('faithfully', 22), ('lifestyles', 22), ('blur', 22), ('spacek', 22), ('disappointments', 22), ('flees', 22), ('fortunes', 22), ('pipes', 22), ('catalyst', 22), ('mat', 22), ('hurricane', 22), ('harper', 22), ('supplied', 22), ('proposal', 22), ('vocals', 22), ('budapest', 22), ('railway', 22), ('sr.', 22), ('parental', 22), ('cherry', 22), ('fran', 22), ('saccharine', 22), ('broadcasting', 22), ('devout', 22), ('publisher', 22), ('bullied', 22), ('specials', 22), ('nobility', 22), ('desdemona', 22), ('persistent', 22), ('outings', 22), ('compensated', 22), ('lethargic', 22), ('classify', 22), ('decadent', 22), ('marking', 22), ('demme', 22), ('chunk', 22), ('diversion', 22), ('reflective', 22), ('ringwald', 22), ('ensures', 22), ('tearjerker', 22), ('serbs', 22), ('protocol', 22), ('gracefully', 22), ('brisson', 22), ('revived', 22), ('lapses', 22), ('47', 22), ('lair', 22), ('poop', 22), ('williamson', 22), ('enthusiastically', 22), ('airline', 22), ('standup', 22), ('mesmerized', 22), ('forming', 22), ('smashes', 22), ('guiding', 22), ('piercing', 22), ('togar', 22), ('coroner', 22), ('unexciting', 22), ('infuriating', 22), ('ropes', 22), ('creeped', 22), ('attain', 22), ('hay', 22), ('hostages', 22), ('endurance', 22), ('saget', 22), ('sugary', 22), ('decay', 22), ('ava', 22), ('wisecracks', 22), ('pretense', 22), ('skillful', 22), ('pointlessly', 22), ('reservations', 22), ('42nd', 22), ('spouting', 22), ('kazaam', 22), ('analogy', 22), ('agreement', 22), ('dagger', 22), ('cukor', 22), ('syberberg', 22), ('aragorn', 22), ('scorcese', 22), ('plethora', 22), ('revered', 22), ('hendrix', 22), ('hallway', 22), ('painters', 22), ('wandered', 22), ('articles', 22), ('89', 22), ('scholarship', 22), ('wasteland', 22), ('squarely', 22), ('lucifer', 22), ('histrionics', 22), ('venice', 22), ('keystone', 22), ('34', 22), ('separately', 22), ('eyebrow', 22), ('trading', 22), ('unfocused', 22), ('miner', 22), ('interference', 22), ('threesome', 22), ('cannibalistic', 22), ('marylee', 22), ('cheered', 22), ('concluding', 22), ('seamlessly', 22), ('lamp', 22), ('yay', 22), ('clause', 22), ('eyeball', 22), ('coastal', 22), ('burlesque', 22), ('mulligan', 22), ('29', 22), ('hearty', 22), ('attendance', 22), ('horns', 22), ('pakistan', 22), ('corridor', 22), ('freddie', 22), ('cheryl', 22), ('gabby', 22), ('misunderstanding', 22), ('storms', 22), ('ek', 22), ('lsd', 22), ('prices', 22), ('tendencies', 22), ('reprise', 22), ('floats', 22), ('hesitant', 22), ('commonly', 22), ('repetition', 22), ('siren', 22), ('experimenting', 22), ('ailing', 22), ('zach', 22), ('oberon', 22), ('despised', 22), ('intercourse', 22), ('shekhar', 22), ('fanatical', 22), ('economical', 22), ('spins', 22), ('ferrer', 22), ('monarch', 22), ('paranormal', 22), ('oklahoma', 22), ('conference', 22), ('gratitude', 22), ('seeds', 22), ('mount', 22), ('fee', 22), ('erroll', 22), ('fanfan', 22), ('transylvania', 22), ('matador', 22), ('peruvian', 22), ('preference', 22), ('degenerates', 22), ('gosha', 22), ('suv', 22), ('bhandarkar', 22), ('skagway', 22), ('coltrane', 22), ('morty', 22), ('leonora', 22), ('steadily', 21), ('infantile', 21), ('educate', 21), ('faulty', 21), ('gale', 21), ('wills', 21), ('toto', 21), ('blondes', 21), ('tolerated', 21), ('fixing', 21), ('repression', 21), ('assets', 21), ('patsy', 21), ('alejandro', 21), ('nefarious', 21), ('philosopher', 21), ('headstrong', 21), ('photographic', 21), ('privileged', 21), ('tibet', 21), ('unheard', 21), ('singles', 21), ('facade', 21), ('gleefully', 21), ('escalating', 21), ('linger', 21), ('onwards', 21), ('joss', 21), ('sway', 21), ('requirements', 21), ('ferrari', 21), ('brightly', 21), ('yards', 21), ('morale', 21), ('ungar', 21), ('tempo', 21), ('stacy', 21), ('39', 21), ('unresolved', 21), ('buckets', 21), ('astor', 21), ('deol', 21), ('tattooed', 21), ('toast', 21), ('outraged', 21), ('veers', 21), ('gibberish', 21), ('bradley', 21), ('leachman', 21), ('cinemax', 21), ('flushed', 21), ('zucker', 21), ('surrealistic', 21), ('creepiest', 21), ('pakistani', 21), ('comforting', 21), ('warlord', 21), ('scarce', 21), ('pill', 21), ('browsing', 21), ('adopts', 21), ('mcclure', 21), ('o.', 21), ('fellows', 21), ('disgraceful', 21), ('brighter', 21), ('12.', 21), ('narrates', 21), ('culminates', 21), ('opted', 21), ('dorky', 21), ('boil', 21), ('siu', 21), ('forbid', 21), ('carlo', 21), ('nuke', 21), ('haters', 21), ('loan', 21), ('leak', 21), ('downer', 21), ('uttering', 21), ('spans', 21), ('79', 21), ('lined', 21), ('magnetic', 21), ('diaries', 21), ('undemanding', 21), ('pondering', 21), ('sweaty', 21), ('54', 21), ('76', 21), ('austria', 21), ('twisty', 21), ('hectic', 21), ('vogue', 21), ('overplayed', 21), ('chord', 21), ('precursor', 21), ('stems', 21), ('custom', 21), ('machete', 21), ('extravaganza', 21), ('esoteric', 21), ('prizes', 21), ('erica', 21), ('freud', 21), ('differs', 21), ('helsing', 21), ('rushing', 21), ('twister', 21), ('interludes', 21), ('cate', 21), ('smirk', 21), ('nat', 21), ('outdoors', 21), ('shuffle', 21), ('interviewing', 21), ('chile', 21), ('antichrist', 21), ('mattered', 21), ('whichever', 21), ('churches', 21), ('degradation', 21), ('jeez', 21), ('patiently', 21), ('adjust', 21), ('cynthia', 21), ('reaper', 21), ('khanna', 21), ('pasted', 21), ('microfilm', 21), ('exploiting', 21), ('crusade', 21), ('asano', 21), ('frustratingly', 21), ('situated', 21), ('merciless', 21), ('aborted', 21), ('tanya', 21), ('dorff', 21), ('sol', 21), ('pillow', 21), ('krige', 21), ('uncompromising', 21), ('cynic', 21), ('enlightening', 21), ('brody', 21), ('tack', 21), ('turbulent', 21), ('ceremonies', 21), ('tortures', 21), ('surly', 21), ('sexism', 21), ('humdrum', 21), ('underbelly', 21), ('coated', 21), ('strangeness', 21), ('sprawling', 21), ('idyllic', 21), ('persuades', 21), ('respecting', 21), ('detailing', 21), ('forwards', 21), ('borrowing', 21), ('posting', 21), ('crowning', 21), ('krause', 21), ('devon', 21), ('splendidly', 21), ('counterpoint', 21), ('concentrating', 21), ('eras', 21), ('debating', 21), ('condensed', 21), ('garish', 21), ('knee', 21), ('timely', 21), ('craze', 21), ('skater', 21), ('gangsta', 21), ('longs', 21), ('tosses', 21), ('offices', 21), ('disinterested', 21), ('tyrone', 21), ('regina', 21), ('wally', 21), ('adolf', 21), ('damien', 21), ('motley', 21), ('marxist', 21), ('fled', 21), ('tennessee', 21), ('trader', 21), ('professionalism', 21), ('undone', 21), ('melodramas', 21), ('eighteen', 21), ('egotistical', 21), ('supremely', 21), ('hardwicke', 21), ('bannister', 21), ('cohn', 21), ('unbeknownst', 21), ('homeland', 21), ('poisonous', 21), ('metamorphosis', 21), ('powerhouse', 21), ('piggy', 21), ('dye', 21), ('constructive', 21), ('induce', 21), ('overwhelm', 21), ('medication', 21), ('settles', 21), ('favorable', 21), ('delusional', 21), ('fahey', 21), ('indy', 21), ('decrepit', 21), ('electrifying', 21), ('garson', 21), ('dismissed', 21), ('landlady', 21), ('advocate', 21), ('conquers', 21), ('decadence', 21), ('boggles', 21), ('rocking', 21), ('batista', 21), ('manipulating', 21), ('hillbillies', 21), ('kiefer', 21), ('elton', 21), ('sp', 21), ('callous', 21), ('recruited', 21), ('greengrass', 21), ('reacting', 21), ('numb', 21), ('electrical', 21), ('yuen', 21), ('collaborations', 21), ('tails', 21), ('majesty', 21), ('yorker', 21), ('hammered', 21), ('lite', 21), ('mst', 21), ('mugging', 21), ('impressionable', 21), ('mocked', 21), ('islanders', 21), ('ketchup', 21), ('havana', 21), ('andrei', 21), ('dough', 21), ('zack', 21), ('dishonest', 21), ('clients', 21), ('achingly', 21), ('equation', 21), ('decently', 21), ('hacked', 21), ('refusal', 21), ('cohorts', 21), ('duds', 21), ('warrants', 21), ('plainly', 21), ('illusions', 21), ('unimportant', 21), ('masala', 21), ('33', 21), ('torrance', 21), ('commend', 21), ('insecurities', 21), ('gauri', 21), ('mumbai', 21), ('credentials', 21), ('prix', 21), ('hauser', 21), ('pabst', 21), ('sooo', 21), ('artificially', 21), ('pathetically', 21), ('spirituality', 21), ('milestone', 21), ('exhausting', 21), ('unscrupulous', 21), ('contaminated', 21), ('nic', 21), ('declaration', 21), ('promo', 21), ('ferris', 21), ('thirsty', 21), ('acquaintances', 21), ('err', 21), ('schmid', 21), ('911', 21), ('unorthodox', 21), ('novella', 21), ('awaits', 21), ('hiking', 21), ('interrogation', 21), ('burr', 21), ('orientation', 21), ('louque', 21), ('google', 21), ('reinforced', 21), ('tying', 21), ('mencia', 21), ('cabaret', 21), ('32', 21), ('eaters', 21), ('participated', 21), ('adviser', 21), ('await', 21), ('hershey', 21), ('insisting', 21), ('14th', 21), ('multitude', 21), ('convert', 21), ('newton', 21), ('spun', 21), ('henson', 21), ('individually', 21), ('71', 21), ('singh', 21), ('manny', 21), ('accountant', 21), ('guides', 21), ('hundstage', 21), ('perplexed', 21), ('boiling', 21), ('unprecedented', 21), ('eminently', 21), ('gymnast', 21), ('quickie', 21), ('faceless', 21), ('carlton', 21), ('conceal', 21), ('chu', 21), ('malik', 21), ('maradona', 21), ('teri', 21), ('tropical', 21), ('montrose', 21), ('verse', 21), ('rodgers', 21), ('ancestor', 21), ('lerner', 21), ('poisoned', 21), ('dooley', 21), ('reve', 21), ('chou', 21), ('bourgeois', 21), ('newest', 21), ('goodies', 21), ('bemused', 21), ('trojan', 21), ('wolfe', 21), ('venezuelan', 21), ('neighbour', 21), ('ankle', 21), ('stormy', 21), ('untouched', 21), ('environments', 21), ('coyote', 21), ('beads', 21), ('chopper', 21), ('pas', 21), ('outlet', 21), ('canal', 21), ('firemen', 21), ('loosing', 21), ('settling', 21), ('shrieking', 21), ('girlfight', 21), ('rewards', 21), ('dwelling', 21), ('publish', 21), ('arctic', 21), ('vez', 21), ('atheist', 21), ('ki', 21), ('stirba', 21), ('trancers', 21), ('pok', 21), ('sexploitation', 20), ('champions', 20), ('loathsome', 20), ('sympathies', 20), ('sweep', 20), ('youngster', 20), ('hickok', 20), ('reliance', 20), ('grinning', 20), ('horrendously', 20), ('chimps', 20), ('.it', 20), ('lyric', 20), ('reda', 20), ('dads', 20), ('sweetly', 20), ('heinous', 20), ('relive', 20), ('purvis', 20), ('discs', 20), ('rouge', 20), ('inadequate', 20), ('glen', 20), ('pact', 20), ('institute', 20), ('volunteers', 20), ('matheson', 20), ('wilcox', 20), ('blindly', 20), ('fragmented', 20), ('pronounce', 20), ('priya', 20), ('prem', 20), ('undermined', 20), ('patron', 20), ('volatile', 20), ('alexis', 20), ('mower', 20), ('homages', 20), ('rowan', 20), ('rebirth', 20), ('stoop', 20), ('melodies', 20), ('meteorite', 20), ('bjm', 20), ('sheffer', 20), ('befriended', 20), ('viking', 20), ('evoking', 20), ('franks', 20), ('thirdly', 20), ('overuse', 20), ('tiring', 20), ('ling', 20), ('cad', 20), ('exorcism', 20), ('uncovered', 20), ('prosecutor', 20), ('bikers', 20), ('examines', 20), ('gummer', 20), ('pessimistic', 20), ('excused', 20), ('agnes', 20), ('gunshot', 20), ('celebrates', 20), ('sank', 20), ('cheesiest', 20), ('sheppard', 20), ('homeward', 20), ('posts', 20), ('cylon', 20), ('excursion', 20), ('sleepwalking', 20), ('silverstone', 20), ('dolly', 20), ('gamers', 20), ('pino', 20), ('battered', 20), ('benefited', 20), ('glorify', 20), ('woodard', 20), ('puppies', 20), ('unfathomable', 20), ('ashton', 20), ('studded', 20), ('stupider', 20), ('jud', 20), ('warp', 20), ('clearer', 20), ('linking', 20), ('impeccably', 20), ('facets', 20), ('interwoven', 20), ('cosmic', 20), ('adulterous', 20), ('gloss', 20), ('overkill', 20), ('pm', 20), ('punctuated', 20), ('claymation', 20), ('dining', 20), ('replied', 20), ('krabb', 20), ('wentworth', 20), ('hopelessness', 20), ('liquid', 20), ('dizzy', 20), ('hush', 20), ('depp', 20), ('screws', 20), ('babbage', 20), ('ridiculousness', 20), ('robust', 20), ('doubles', 20), ('folly', 20), ('actioner', 20), ('sluggish', 20), ('listens', 20), ('cum', 20), ('ju', 20), ('infatuated', 20), ('proposition', 20), ('soil', 20), ('zentropa', 20), ('exploded', 20), ('disconcerting', 20), ('sketchy', 20), ('claustrophobia', 20), ('voyeur', 20), ('indicative', 20), ('sookie', 20), ('schlocky', 20), ('overwhelmingly', 20), ('geography', 20), ('outtakes', 20), ('kissed', 20), ('2000.', 20), ('zen', 20), ('jeans', 20), ('flora', 20), ('ineptly', 20), ('drawer', 20), ('casa', 20), ('una', 20), ('innocently', 20), ('blocks', 20), ('diluted', 20), ('weirdly', 20), ('gloom', 20), ('crammed', 20), ('omitted', 20), ('undermines', 20), ('threadbare', 20), ('starved', 20), ('gopal', 20), ('manipulates', 20), ('norway', 20), ('jfk', 20), ('debuted', 20), ('tos', 20), ('degenerate', 20), ('ilona', 20), ('whereabouts', 20), ('monument', 20), ('levinson', 20), ('abusing', 20), ('skulls', 20), ('conspiracies', 20), ('messiah', 20), ('paraphrase', 20), ('exaggerating', 20), ('aerial', 20), ('logically', 20), ('fringe', 20), ('bending', 20), ('madeline', 20), ('kristin', 20), ('wrists', 20), ('bounds', 20), ('uncommon', 20), ('mccartney', 20), ('violin', 20), ('enraged', 20), ('nap', 20), ('sunlight', 20), ('inmate', 20), ('smacks', 20), ('demonstrating', 20), ('heated', 20), ('martinez', 20), ('forsaken', 20), ('founded', 20), ('abandoning', 20), ('celestial', 20), ('360', 20), ('stuffy', 20), ('aborigines', 20), ('ordering', 20), ('pitcher', 20), ('blackboard', 20), ('commercially', 20), ('affinity', 20), ('barbarians', 20), ('rapper', 20), ('quibble', 20), ('undying', 20), ('cheeky', 20), ('input', 20), ('brotherhood', 20), ('emulate', 20), ('merlin', 20), ('revel', 20), ('betsy', 20), ('possessing', 20), ('tully', 20), ('spall', 20), ('procedure', 20), ('recognizing', 20), ('delayed', 20), ('decaying', 20), ('anticipating', 20), ('treacherous', 20), ('armies', 20), ('rails', 20), ('impaled', 20), ('commandments', 20), ('fictionalized', 20), ('1961', 20), ('congratulate', 20), ('terri', 20), ('chant', 20), ('absorb', 20), ('groom', 20), ('attends', 20), ('conflicting', 20), ('kudrow', 20), ('glimmer', 20), ('bosworth', 20), ('successor', 20), ('derive', 20), ('bestiality', 20), ('routinely', 20), ('dried', 20), ('specialty', 20), ('nam', 20), ('nadir', 20), ('betray', 20), ('saps', 20), ('warhol', 20), ('crank', 20), ('marsha', 20), ('tougher', 20), ('fitz', 20), ('coffy', 20), ('looming', 20), ('tarkovsky', 20), ('solomon', 20), ('bender', 20), ('connors', 20), ('panache', 20), ('theology', 20), ('specialized', 20), ('macgregor', 20), ('richie', 20), ('delay', 20), ('fluke', 20), ('clinical', 20), ('mimic', 20), ('elijah', 20), ('cock', 20), ('shunned', 20), ('shes', 20), ('camel', 20), ('robe', 20), ('heed', 20), ('ufo', 20), ('troop', 20), ('unease', 20), ('twitch', 20), ('thee', 20), ('dusk', 20), ('imax', 20), ('helga', 20), ('leagues', 20), ('gigi', 20), ('cabinet', 20), ('97', 20), ('lingers', 20), ('dodger', 20), ('concoction', 20), ('vessel', 20), ('banner', 20), ('comfortably', 20), ('pa', 20), ('43', 20), ('tassi', 20), ('creepshow', 20), ('intervals', 20), ('irritation', 20), ('tolerant', 20), ('sylvester', 20), ('lan', 20), ('fragments', 20), ('thirst', 20), ('sarno', 20), ('texan', 20), ('o.k', 20), ('pristine', 20), ('nonstop', 20), ('ahem', 20), ('insensitive', 20), ('klein', 20), ('favored', 20), ('sooooo', 20), ('travelers', 20), ('shreds', 20), ('overcoming', 20), ('operative', 20), ('conditioned', 20), ('trotta', 20), ('jox', 20), ('watts', 20), ('descriptions', 20), ('carnal', 20), ('gen.', 20), ('wreak', 20), ('wholeheartedly', 20), ('lick', 20), ('wrestlers', 20), ('solves', 20), ('weaponry', 20), ('valiant', 20), ('happenstance', 20), ('8mm', 20), ('gracie', 20), ('functional', 20), ('sporadically', 20), ('grier', 20), ('soaps', 20), ('pow', 20), ('livingston', 20), ('disclaimer', 20), ('ping', 20), ('spectators', 20), ('bryant', 20), ('philippines', 20), ('spear', 20), ('defeats', 20), ('commonplace', 20), ('gathers', 20), ('leaden', 20), ('bitterness', 20), ('salute', 20), ('indicating', 20), ('punish', 20), ('grieco', 20), ('potty', 20), ('coe', 20), ('utilizing', 20), ('populace', 20), ('installments', 20), ('yorkers', 20), ('affectionate', 20), ('eloquent', 20), ('statues', 20), ('jos', 20), ('skating', 20), ('messes', 20), ('expressionist', 20), ('gunshots', 20), ('jeroen', 20), ('missionary', 20), ('judas', 20), ('thesis', 20), ('nausicaa', 20), ('lau', 20), ('kat', 20), ('glossed', 20), ('linklater', 20), ('indemnity', 20), ('huppert', 20), ('bashed', 20), ('lamest', 20), ('groin', 20), ('mecha', 20), ('viewpoints', 20), ('elia', 20), ('blackwood', 20), ('morvern', 20), ('popeye', 20), ('talespin', 20), ('avenue', 20), ('prague', 20), ('jafar', 20), ('michell', 20), ('mumbling', 20), ('dinocroc', 20), ('wei', 20), ('emory', 20), ('mcintyre', 20), ('obi', 20), ('kitamura', 19), ('hostess', 19), ('provokes', 19), ('magnus', 19), ('breeding', 19), ('allegorical', 19), ('conversion', 19), ('custer', 19), ('startled', 19), ('whim', 19), ('kovacs', 19), ('gigli', 19), ('predators', 19), ('foreigner', 19), ('grizzled', 19), ('sexiest', 19), ('indicated', 19), ('melvin', 19), ('silhouette', 19), ('ahh', 19), ('treasured', 19), ('erupts', 19), ('unto', 19), ('bots', 19), ('doodle', 19), ('famously', 19), ('hazy', 19), ('charging', 19), ('dismay', 19), ('rani', 19), ('cricket', 19), ('hai', 19), ('louisiana', 19), ('contributing', 19), ('revue', 19), ('knowledgeable', 19), ('pockets', 19), ('gen', 19), ('camerawork', 19), ('laziness', 19), ('devised', 19), ('refugees', 19), ('impotent', 19), ('unrecognizable', 19), ('hairstyles', 19), ('fold', 19), ('pakeezah', 19), ('oxygen', 19), ('illustration', 19), ('jocks', 19), ('hodge', 19), ('karisma', 19), ('clutches', 19), ('distaste', 19), ('aloud', 19), ('weep', 19), ('spewing', 19), ('sheesh', 19), ('ventures', 19), ('lapd', 19), ('altar', 19), ('bluth', 19), ('mainland', 19), ('maudlin', 19), ('casey', 19), ('monitors', 19), ('promiscuous', 19), ('hairstyle', 19), ('bureaucracy', 19), ('ole', 19), ('generals', 19), ('teaming', 19), ('enthusiast', 19), ('itch', 19), ('panama', 19), ('mercenary', 19), ('efficiently', 19), ('sphinx', 19), ('intending', 19), ('priyadarshan', 19), ('summarized', 19), ('phenomena', 19), ('heartbreak', 19), ('slipping', 19), ('moreau', 19), ('avenging', 19), ('potato', 19), ('fooling', 19), ('stahl', 19), ('dishes', 19), ('offset', 19), ('versatility', 19), ('photographers', 19), ('aspire', 19), ('maltese', 19), ('unsavory', 19), ('collapsed', 19), ('metro', 19), ('102', 19), ('shriek', 19), ('seamless', 19), ('wards', 19), ('wrecks', 19), ('insistence', 19), ('sympathise', 19), ('antwerp', 19), ('anastasia', 19), ('portraits', 19), ('ackland', 19), ('deceptive', 19), ('dispatch', 19), ('egos', 19), ('lapse', 19), ('haley', 19), ('atypical', 19), ('swings', 19), ('brittany', 19), ('weaving', 19), ('ferdie', 19), ('uncovers', 19), ('formation', 19), ('terrorizing', 19), ('puberty', 19), ('sharma', 19), ('asinine', 19), ('unjustly', 19), ('abyss', 19), ('leaf', 19), ('passionately', 19), ('pacifist', 19), ('pioneers', 19), ('mono', 19), ('tourneur', 19), ('sayuri', 19), ('violet', 19), ('peeping', 19), ('giddy', 19), ('ideological', 19), ('hypocritical', 19), ('7th', 19), ('violated', 19), ('reincarnated', 19), ('whine', 19), ('satiric', 19), ('heel', 19), ('feud', 19), ('4.5', 19), ('condemn', 19), ('elf', 19), ('retribution', 19), ('observes', 19), ('cheerleader', 19), ('lookalike', 19), ('apology', 19), ('interlude', 19), ('tycoon', 19), ('squalor', 19), ('communicated', 19), ('unmotivated', 19), ('lipstick', 19), ('dwell', 19), ('publicly', 19), ('uncomfortably', 19), ('83', 19), ('objectively', 19), ('erase', 19), ('storage', 19), ('crumbling', 19), ('striving', 19), ('consuming', 19), ('urges', 19), ('uninvolving', 19), ('customary', 19), ('mononoke', 19), ('slides', 19), ('burying', 19), ('appreciates', 19), ('entranced', 19), ('kristen', 19), ('plagues', 19), ('monaghan', 19), ('skirts', 19), ('dolby', 19), ('stepsisters', 19), ('pretext', 19), ('blocking', 19), ('rockin', 19), ('fique', 19), ('comforts', 19), ('resides', 19), ('sniffing', 19), ('execs', 19), ('dizzying', 19), ('reactionary', 19), ('components', 19), ('perplexing', 19), ('experimentation', 19), ('ballad', 19), ('whips', 19), ('barking', 19), ('teal', 19), ('nameless', 19), ('chagrin', 19), ('siegfried', 19), ('charitable', 19), ('copying', 19), ('caveman', 19), ('superheroes', 19), ('admitting', 19), ('memorial', 19), ('ardent', 19), ('sloth', 19), ('gojoe', 19), ('ceases', 19), ('unbalanced', 19), ('statham', 19), ('radically', 19), ('fundamentally', 19), ('liven', 19), ('assisted', 19), ('glib', 19), ('evaluate', 19), ('autumn', 19), ('conducted', 19), ('escapism', 19), ('accidents', 19), ('shefali', 19), ('nausea', 19), ('populate', 19), ('feather', 19), ('addicts', 19), ('restaurants', 19), ('houseman', 19), ('execrable', 19), ('saber', 19), ('madrid', 19), ('nubile', 19), ('hog', 19), ('workout', 19), ('poured', 19), ('ruling', 19), ('willingness', 19), ('blasting', 19), ('favors', 19), ('persuasion', 19), ('kahn', 19), ('rama', 19), ('nominees', 19), ('hooray', 19), ('drowns', 19), ('exec', 19), ('bog', 19), ('caprice', 19), ('radium', 19), ('lures', 19), ('bratty', 19), ('songwriter', 19), ('fingernails', 19), ('urmila', 19), ('wikipedia', 19), ('boorish', 19), ('unity', 19), ('coin', 19), ('regrettably', 19), ('tastefully', 19), ('hokum', 19), ('risqu', 19), ('tidy', 19), ('sullen', 19), ('thorough', 19), ('axel', 19), ('scrutiny', 19), ('mulder', 19), ('15.', 19), ('centred', 19), ('hugging', 19), ('babble', 19), ('hater', 19), ('hess', 19), ('dingo', 19), ('merk', 19), ('misogyny', 19), ('g.i', 19), ('yuma', 19), ('sticky', 19), ('quartier', 19), ('heh', 19), ('governess', 19), ('miraglia', 19), ('sunglasses', 19), ('vulcan', 19), ('hindu', 19), ('lunacy', 19), ('coonskin', 19), ('emphasizes', 19), ('exceeds', 19), ('dispute', 19), ('pantheon', 19), ('moll', 19), ('gunpoint', 19), ('comparatively', 19), ('replete', 19), ('streetcar', 19), ('sensuality', 19), ('amelie', 19), ('leering', 19), ('continual', 19), ('conjure', 19), ('deft', 19), ('packing', 19), ('seduces', 19), ('dome', 19), ('kidnappers', 19), ('reserve', 19), ('carolina', 19), ('scar', 19), ('howl', 19), ('jester', 19), ('accolades', 19), ('madame', 19), ('digicorp', 19), ('contender', 19), ('humorless', 19), ('riots', 19), ('assistants', 19), ('beatrice', 19), ('dangling', 19), ('beggars', 19), ('announcer', 19), ('majors', 19), ('knockout', 19), ('unintelligible', 19), ('carrell', 19), ('railly', 19), ('purchasing', 19), ('ji', 19), ('hoon', 19), ('dell', 19), ('repugnant', 19), ('typing', 19), ('perpetrated', 19), ('crimson', 19), ('codes', 19), ('incorporates', 19), ('hillary', 19), ('forthcoming', 19), ('serling', 19), ('crain', 19), ('curve', 19), ('barjatya', 19), ('rhine', 19), ('lurks', 19), ('hatcher', 19), ('blanc', 19), ('gaelic', 19), ('tobacco', 19), ('spill', 19), ('dungeons', 19), ('mindy', 19), ('raja', 19), ('provo', 19), ('scripture', 19), ('ullman', 19), ('detractors', 19), ('charmed', 19), ('clothed', 19), ('justifies', 19), ('schlesinger', 19), ('wahlberg', 19), ('impoverished', 19), ('dumbland', 19), ('peru', 19), ('teachings', 19), ('shaving', 19), ('jada', 19), ('squire', 19), ('hangover', 19), ('bi', 19), ('raquel', 19), ('chauffeur', 19), ('bewitched', 19), ('cherished', 19), ('burakov', 19), ('cheezy', 19), ('pyun', 19), ('applying', 19), ('snafu', 19), ('hillyer', 19), ('mace', 19), ('impose', 19), ('defended', 19), ('55', 19), ('visibly', 19), ('emoting', 19), ('issued', 19), ('vacant', 19), ('nicer', 19), ('drool', 19), ('probation', 19), ('scandalous', 19), ('eskimo', 19), ('stagecoach', 19), ('quo', 19), ('ronnie', 19), ('speedy', 19), ('pinjar', 19), ('flemming', 19), ('chocolat', 19), ('jericho', 19), ('rvd', 19), ('delusions', 19), ('gammera', 19), ('slumber', 19), ('sollett', 19), ('ivanna', 19), ('baloo', 19), ('hitokiri', 19), ('melts', 19), ('doesnt', 19), ('postwar', 19), ('stein', 19), ('davidson', 19), ('petiot', 19), ('flippen', 19), ('cults', 19), ('syrup', 19), ('angelopoulos', 19), ('perils', 19), ('serpent', 19), ('dip', 19), ('raptor', 19), ('bla', 19), ('rudimentary', 18), ('shrewd', 18), ('walston', 18), ('sica', 18), ('orchestrated', 18), ('plastered', 18), ('tiffany', 18), ('bathed', 18), ('composers', 18), ('secular', 18), ('relieve', 18), ('posturing', 18), ('solutions', 18), ('mushrooms', 18), ('rpg', 18), ('lauded', 18), ('recognisable', 18), ('deprived', 18), ('theatrically', 18), ('curr', 18), ('february', 18), ('unsubtle', 18), ('accordingly', 18), ('gargantuan', 18), ('summing', 18), ('rubble', 18), ('jerome', 18), ('pappas', 18), ('diagnosed', 18), ('rehearsing', 18), ('giovanni', 18), ('irreversible', 18), ('investigations', 18), ('retaining', 18), ('lumbering', 18), ('butchering', 18), ('veins', 18), ('jai', 18), ('varies', 18), ('announce', 18), ('tenth', 18), ('labeouf', 18), ('cloris', 18), ('inexcusable', 18), ('cardinal', 18), ('fortress', 18), ('rawal', 18), ('frustrations', 18), ('royalty', 18), ('homecoming', 18), ('mcconaughey', 18), ('injected', 18), ('socio', 18), ('humiliate', 18), ('draining', 18), ('manuscript', 18), ('fey', 18), ('unsophisticated', 18), ('colleen', 18), ('gunslinger', 18), ('broadly', 18), ('minimalist', 18), ('unsolved', 18), ('puzzles', 18), ('archetypal', 18), ('grit', 18), ('originated', 18), ('incomparable', 18), ('programmer', 18), ('lottery', 18), ('packaging', 18), ('honors', 18), ('weeping', 18), ('affable', 18), ('intolerable', 18), ('doorstep', 18), ('badass', 18), ('consensus', 18), ('forewarned', 18), ('cleared', 18), ('intercut', 18), ('climber', 18), ('brigade', 18), ('17th', 18), ('landon', 18), ('stacey', 18), ('unravels', 18), ('fatty', 18), ('spellbinding', 18), ('spilling', 18), ('pyramid', 18), ('americana', 18), ('drunks', 18), ('skeletons', 18), ('siodmak', 18), ('homemade', 18), ('trevor', 18), ('slashed', 18), ('unabashed', 18), ('oregon', 18), ('textile', 18), ('argues', 18), ('yearn', 18), ('ulrich', 18), ('unrelenting', 18), ('dribble', 18), ('har', 18), ('unmistakable', 18), ('terrorize', 18), ('hellraiser', 18), ('easter', 18), ('journeys', 18), ('cecilia', 18), ('romanticized', 18), ('whisper', 18), ('innocents', 18), ('bumped', 18), ('inferno', 18), ('stagnant', 18), ('maggots', 18), ('guidelines', 18), ('chahine', 18), ('minion', 18), ('nickelodeon', 18), ('loot', 18), ('stride', 18), ('foreigners', 18), ('pales', 18), ('manoj', 18), ('introspective', 18), ('liang', 18), ('broader', 18), ('frazetta', 18), ('trademarks', 18), ('spying', 18), ('hebrew', 18), ('relatable', 18), ('resnais', 18), ('wager', 18), ('windshield', 18), ('sailing', 18), ('imitations', 18), ('engineering', 18), ('lenny', 18), ('protracted', 18), ('honored', 18), ('extends', 18), ('vinny', 18), ('greetings', 18), ('liberation', 18), ('frantically', 18), ('slammed', 18), ('forgives', 18), ('florence', 18), ('romanticism', 18), ('wargames', 18), ('assaulted', 18), ('pitfalls', 18), ('piles', 18), ('burroughs', 18), ('tatum', 18), ('matured', 18), ('flags', 18), ('chores', 18), ('heero', 18), ('benicio', 18), ('typed', 18), ('thwarted', 18), ('keener', 18), ('crashers', 18), ('alienating', 18), ('funded', 18), ('volckman', 18), ('avalon', 18), ('muller', 18), ('dictionary', 18), ('poorer', 18), ('marco', 18), ('arabia', 18), ('moralistic', 18), ('taiwanese', 18), ('tunnels', 18), ('frighten', 18), ('failings', 18), ('grenade', 18), ('churned', 18), ('5.1', 18), ('adversary', 18), ('icing', 18), ('hrs', 18), ('falco', 18), ('riddle', 18), ('bulldog', 18), ('exiting', 18), ('smells', 18), ('suppressed', 18), ('assert', 18), ('bevy', 18), ('janice', 18), ('barrett', 18), ('speakeasy', 18), ('responsibilities', 18), ('osama', 18), ('lungs', 18), ('recalled', 18), ('assassinate', 18), ('hid', 18), ('lolita', 18), ('bc', 18), ('unpopular', 18), ('disguises', 18), ('davenport', 18), ('hunchback', 18), ('bravura', 18), ('discusses', 18), ('tailored', 18), ('pump', 18), ('peripheral', 18), ('hamburg', 18), ('grinding', 18), ('evidenced', 18), ('barbie', 18), ('showy', 18), ('pumped', 18), ('mankiewicz', 18), ('cronies', 18), ('ambassador', 18), ('drooling', 18), ('lease', 18), ('mare', 18), ('graduates', 18), ('glamor', 18), ('netherlands', 18), ('constitutes', 18), ('muse', 18), ('dictatorship', 18), ('51', 18), ('1,000', 18), ('hawaiian', 18), ('tagline', 18), ('inches', 18), ('93', 18), ('vagina', 18), ('prepares', 18), ('garofalo', 18), ('somerset', 18), ('prompted', 18), ('nit', 18), ('lobby', 18), ('surveillance', 18), ('hanged', 18), ('cyber', 18), ('mvp', 18), ('hearse', 18), ('guerrero', 18), ('claptrap', 18), ('mardi', 18), ('gras', 18), ('herbie', 18), ('moaning', 18), ('cartwright', 18), ('freakish', 18), ('inserting', 18), ('inhuman', 18), ('1914', 18), ('mahoney', 18), ('unknowingly', 18), ('wisecracking', 18), ('realising', 18), ('mohr', 18), ('fend', 18), ('demeaning', 18), ('reb', 18), ('viva', 18), ('quigley', 18), ('ayers', 18), ('homosexuals', 18), ('phoned', 18), ('endowed', 18), ('instructions', 18), ('template', 18), ('mug', 18), ('barrier', 18), ('buddhist', 18), ('overacted', 18), ('drifting', 18), ('virginal', 18), ('shove', 18), ('divide', 18), ('triads', 18), ('faints', 18), ('clarkson', 18), ('nosed', 18), ('calculating', 18), ('ideally', 18), ('grosse', 18), ('appreciative', 18), ('whos', 18), ('conned', 18), ('claudia', 18), ('hooligans', 18), ('restores', 18), ('unedited', 18), ('shapiro', 18), ('milligan', 18), ('anand', 18), ('caleb', 18), ('absurdist', 18), ('nipple', 18), ('hobson', 18), ('burgundy', 18), ('prashant', 18), ('frechette', 18), ('geer', 18), ('inhabits', 18), ('bid', 18), ('underwritten', 18), ('fleischer', 18), ('patronizing', 18), ('pollak', 18), ('disgustingly', 18), ('queer', 18), ('doubtless', 18), ('emphasized', 18), ('rerun', 18), ('vijay', 18), ('dhoom', 18), ('reprises', 18), ('96', 18), ('dazzled', 18), ('adolescents', 18), ('bottles', 18), ('sceptical', 18), ('posse', 18), ('samhain', 18), ('roddenberry', 18), ('ambulance', 18), ('marianne', 18), ('archives', 18), ('mullet', 18), ('strokes', 18), ('ai', 18), ('kindergarten', 18), ('masculinity', 18), ('desirable', 18), ('pretentiousness', 18), ('kennel', 18), ('referenced', 18), ('duval', 18), ('halperin', 18), ('hoechlin', 18), ('intrigues', 18), ('vent', 18), ('hsiao', 18), ('debatable', 18), ('erm', 18), ('tier', 18), ('massively', 18), ('tamer', 18), ('declined', 18), ('wobbly', 18), ('enigma', 18), ('bravado', 18), ('kitten', 18), ('housekeeper', 18), ('enable', 18), ('16mm', 18), ('macdowell', 18), ('rhetoric', 18), ('iphigenia', 18), ('brained', 18), ('ramtha', 18), ('immigration', 18), ('evoked', 18), ('vidor', 18), ('disparate', 18), ('drumming', 18), ('periodically', 18), ('747', 18), ('bankrupt', 18), ('noodle', 18), ('readings', 18), ('hookers', 18), ('schmidt', 18), ('slum', 18), ('oozes', 18), ('666', 18), ('storylines', 18), ('churchill', 18), ('pupil', 18), ('calf', 18), ('strauss', 18), ('nickname', 18), ('lows', 18), ('cryptic', 18), ('vistas', 18), ('carnosaur', 18), ('reciting', 18), ('strife', 18), ('lando', 18), ('faris', 18), ('hee', 18), ('troubling', 18), ('humility', 18), ('discrimination', 18), ('...........', 18), ('bubbles', 18), ('shen', 18), ('hernandez', 18), ('elves', 18), ('cosmo', 18), ('luther', 18), ('deluded', 18), ('evangelical', 18), ('injects', 18), ('zuniga', 18), ('hemingway', 18), ('zip', 18), ('nary', 18), ('moby', 18), ('superimposed', 18), ('chronological', 18), ('def', 18), ('maxwell', 18), ('winding', 18), ('butter', 18), ('adolescence', 18), ('dey', 18), ('pinkett', 18), ('manchester', 18), ('burgade', 18), ('fave', 18), ('krabbe', 18), ('molested', 18), ('furlong', 18), ('objections', 18), ('patently', 18), ('scola', 18), ('implying', 18), ('ballads', 18), ('leaping', 18), ('nah', 18), ('uncontrollable', 18), ('scheider', 18), ('fates', 18), ('exhibited', 18), ('descendant', 18), ('pencil', 18), ('bey', 18), ('crusty', 18), ('finesse', 18), ('gradual', 18), ('detmers', 18), ('province', 18), ('leung', 18), ('charmingly', 18), ('veneer', 18), ('chic', 18), ('crud', 18), ('overthrow', 18), ('journal', 18), ('browne', 18), ('beasts', 18), ('radha', 18), ('salary', 18), ('fidel', 18), ('wenders', 18), ('doodlebops', 18), ('relic', 18), ('pressburger', 18), ('scanners', 18), ('arjun', 18), ('schneebaum', 18), ('tobias', 18), ('gruner', 18), ('unharmed', 17), ('strippers', 17), ('indistinguishable', 17), ('disappointingly', 17), ('accuse', 17), ('kinetic', 17), ('psychosis', 17), ('forwarded', 17), ('morricone', 17), ('invaders', 17), ('electrocuted', 17), ('closets', 17), ('toughness', 17), ('swayed', 17), ('metaphorical', 17), ('justifiably', 17), ('jacknife', 17), ('vacuum', 17), ('tetsuo', 17), ('vidal', 17), ('braun', 17), ('implausibility', 17), ('patrol', 17), ('teased', 17), ('spouts', 17), ('wannabes', 17), ('loomis', 17), ('hauntingly', 17), ('thanksgiving', 17), ('jacobi', 17), ('potts', 17), ('shouted', 17), ('shoving', 17), ('tamblyn', 17), ('dimitri', 17), ('peralta', 17), ('genesis', 17), ('candid', 17), ('largo', 17), ('riveted', 17), ('mccabe', 17), ('strains', 17), ('aide', 17), ('landau', 17), ('meaty', 17), ('herzog', 17), ('breathtakingly', 17), ('copper', 17), ('grimy', 17), ('glitter', 17), ('rapport', 17), ('contention', 17), ('crane', 17), ('respite', 17), ('dario', 17), ('tempting', 17), ('stoner', 17), ('shahrukh', 17), ('collision', 17), ('movie.i', 17), ('lectures', 17), ('dermot', 17), ('cutest', 17), ('greeted', 17), ('shave', 17), ('gavin', 17), ('68', 17), ('zadora', 17), ('hampered', 17), ('tavern', 17), ('walmart', 17), ('scant', 17), ('figuratively', 17), ('autopsy', 17), ('briggs', 17), ('viable', 17), ('vitality', 17), ('dancy', 17), ('villainess', 17), ('mammoth', 17), ('everytown', 17), ('capability', 17), ('biz', 17), ('makings', 17), ('it.i', 17), ('alfre', 17), ('hodgepodge', 17), ('trainspotting', 17), ('spits', 17), ('boggy', 17), ('winkler', 17), ('berkley', 17), ('comeuppance', 17), ('hastily', 17), ('unger', 17), ('cord', 17), ('silliest', 17), ('limbo', 17), ('dyan', 17), ('luxurious', 17), ('unwillingness', 17), ('bargained', 17), ('bangs', 17), ('savages', 17), ('seidl', 17), ('emergence', 17), ('bluntly', 17), ('1929', 17), ('competitors', 17), ('investigative', 17), ('jenkins', 17), ('paralyzed', 17), ('collide', 17), ('gould', 17), ('indestructible', 17), ('dependable', 17), ('pendleton', 17), ('naivet', 17), ('distortion', 17), ('tenuous', 17), ('youssef', 17), ('inoffensive', 17), ('contradict', 17), ('rednecks', 17), ('binoculars', 17), ('touring', 17), ('blades', 17), ('advantages', 17), ('solace', 17), ('serbia', 17), ('rubbing', 17), ('fide', 17), ('requiring', 17), ('scully', 17), ('sic', 17), ('bums', 17), ('idiosyncratic', 17), ('gunman', 17), ('hewlett', 17), ('communicating', 17), ('docudrama', 17), ('voyeurism', 17), ('illicit', 17), ('suburb', 17), ('bravely', 17), ('brewster', 17), ('bygone', 17), ('demolition', 17), ('shaved', 17), ('barriers', 17), ('commie', 17), ('surpass', 17), ('freakin', 17), ('personified', 17), ('morose', 17), ('scrubs', 17), ('sob', 17), ('overlooking', 17), ('unhealthy', 17), ('cowgirls', 17), ('pleasurable', 17), ('otis', 17), ('tia', 17), ('attire', 17), ('accuses', 17), ('sleepaway', 17), ('bearded', 17), ('gotham', 17), ('falters', 17), ('kor', 17), ('scholars', 17), ('barrage', 17), ('reservation', 17), ('peppered', 17), ('fraction', 17), ('dahlia', 17), ('po', 17), ('healed', 17), ('enlists', 17), ('psychopaths', 17), ('roar', 17), ('racy', 17), ('honourable', 17), ('irritates', 17), ('extraneous', 17), ('ouch', 17), ('landis', 17), ('underestimated', 17), ('drafted', 17), ('liaison', 17), ('dunk', 17), ('bs', 17), ('macaulay', 17), ('falsely', 17), ('perceptive', 17), ('ambient', 17), ('eclectic', 17), ('extinction', 17), ('obese', 17), ('constitution', 17), ('resounding', 17), ('zanuck', 17), ('plunges', 17), ('inappropriately', 17), ('olen', 17), ('incongruous', 17), ('commended', 17), ('lancaster', 17), ('utilize', 17), ('orked', 17), ('executing', 17), ('det', 17), ('hardware', 17), ('yukon', 17), ('redhead', 17), ('helmer', 17), ('marky', 17), ('mounting', 17), ('purity', 17), ('elegantly', 17), ('hitchcockian', 17), ('helplessness', 17), ('gerry', 17), ('seventeen', 17), ('salacious', 17), ('ticking', 17), ('teasing', 17), ('welfare', 17), ('programmes', 17), ('solitude', 17), ('bergen', 17), ('stroll', 17), ('crocodiles', 17), ('trifle', 17), ('backseat', 17), ('postal', 17), ('tuning', 17), ('nagra', 17), ('clique', 17), ('nighy', 17), ('weber', 17), ('vendetta', 17), ('aquarium', 17), ('anticipate', 17), ('luciano', 17), ('voluptuous', 17), ('tibetan', 17), ('hose', 17), ('ridiculed', 17), ('venus', 17), ('leila', 17), ('tackled', 17), ('loathe', 17), ('marsh', 17), ('evergreen', 17), ('belts', 17), ('yang', 17), ('gawd', 17), ('nisha', 17), ('alberto', 17), ('mastered', 17), ('drenched', 17), ('lorne', 17), ('speeds', 17), ('mystique', 17), ('mating', 17), ('trousers', 17), ('glitz', 17), ('barred', 17), ('dashed', 17), ('sparring', 17), ('prevails', 17), ('foo', 17), ('ducks', 17), ('dp', 17), ('sonia', 17), ('hoodlums', 17), ('veiled', 17), ('famine', 17), ('sinclair', 17), ('tennis', 17), ('brodie', 17), ('politely', 17), ('2005.', 17), ('buses', 17), ('x.', 17), ('dumbing', 17), ('brynner', 17), ('dramatization', 17), ('dwells', 17), ('editions', 17), ('winfrey', 17), ('droning', 17), ('smiled', 17), ('embraced', 17), ('koo', 17), ('wage', 17), ('screenings', 17), ('flavour', 17), ('3.5', 17), ('soulful', 17), ('maine', 17), ('futility', 17), ('alibi', 17), ('nemo', 17), ('camaraderie', 17), ('savagely', 17), ('completists', 17), ('snipers', 17), ('rufus', 17), ('deathbed', 17), ('engle', 17), ('ramblings', 17), ('conducting', 17), ('chatting', 17), ('musically', 17), ('tyranny', 17), ('perilous', 17), ('flickering', 17), ('warmed', 17), ('athletes', 17), ('parodying', 17), ('foes', 17), ('tapped', 17), ('splendor', 17), ('cows', 17), ('anamorphic', 17), ('downstairs', 17), ('occupy', 17), ('casualty', 17), ('naudet', 17), ('yuk', 17), ('forests', 17), ('morphs', 17), ('ingmar', 17), ('castles', 17), ('commandos', 17), ('90210', 17), ('melville', 17), ('unsurprisingly', 17), ('completing', 17), ('paxinou', 17), ('emilio', 17), ('upsets', 17), ('bane', 17), ('excite', 17), ('inherits', 17), ('wistful', 17), ('illustrious', 17), ('australians', 17), ('welsh', 17), ('hotter', 17), ('subtitle', 17), ('tore', 17), ('ramble', 17), ('tawdry', 17), ('hopping', 17), ('marin', 17), ('protected', 17), ('embittered', 17), ('efficiency', 17), ('prairie', 17), ('bakula', 17), ('exemplifies', 17), ('rags', 17), ('admiring', 17), ('nothingness', 17), ('mislead', 17), ('bentley', 17), ('reconcile', 17), ('blier', 17), ('naivety', 17), ('goon', 17), ('weddings', 17), ('selves', 17), ('equality', 17), ('americanized', 17), ('safer', 17), ('flu', 17), ('nastassja', 17), ('chillers', 17), ('decor', 17), ('hounds', 17), ('showcasing', 17), ('bolts', 17), ('bilko', 17), ('bricks', 17), ('freezing', 17), ('hobbits', 17), ('bodily', 17), ('equipped', 17), ('banker', 17), ('suppress', 17), ('frenzied', 17), ('chilly', 17), ('garrison', 17), ('sade', 17), ('pulitzer', 17), ('hain', 17), ('matte', 17), ('pedophile', 17), ('mcdonalds', 17), ('sadism', 17), ('kimberly', 17), ('evaluation', 17), ('exiled', 17), ('urgent', 17), ('denny', 17), ('chewbacca', 17), ('tee', 17), ('mawkish', 17), ('sibrel', 17), ('diagnosis', 17), ('libido', 17), ('showcased', 17), ('rae', 17), ('translates', 17), ('owing', 17), ('concerts', 17), ('retrospective', 17), ('undergo', 17), ('catalogue', 17), ('advancing', 17), ('revolved', 17), ('removal', 17), ('spontaneously', 17), ('ryder', 17), ('kralik', 17), ('tracked', 17), ('qualms', 17), ('afflicted', 17), ('sneering', 17), ('purgatory', 17), ('nymphomaniac', 17), ('noirish', 17), ('conceive', 17), ('whit', 17), ('exhibition', 17), ('fischer', 17), ('meeker', 17), ('andr', 17), ('bordering', 17), ('sliced', 17), ('klaus', 17), ('collora', 17), ('jeanne', 17), ('pussy', 17), ('catastrophic', 17), ('papa', 17), ('cutesy', 17), ('sturges', 17), ('kasdan', 17), ('yummy', 17), ('olin', 17), ('ink', 17), ('extract', 17), ('penultimate', 17), ('fuqua', 17), ('unspeakable', 17), ('pap', 17), ('bitterly', 17), ('alternating', 17), ('nevermind', 17), ('intoxicated', 17), ('venue', 17), ('ab', 17), ('kharis', 17), ('elitist', 17), ('piscopo', 17), ('schwartzman', 17), ('inventions', 17), ('meth', 17), ('janeway', 17), ('engineered', 17), ('fledged', 17), ('kgb', 17), ('column', 17), ('snobbish', 17), ('trucks', 17), ('whoville', 17), ('operator', 17), ('geez', 17), ('deteriorated', 17), ('mores', 17), ('prosecution', 17), ('projector', 17), ('wales', 17), ('danni', 17), ('diminish', 17), ('hoo', 17), ('preceding', 17), ('appealed', 17), ('dric', 17), ('boothe', 17), ('someplace', 17), ('impatient', 17), ('snobby', 17), ('lensman', 17), ('lupin', 17), ('flirts', 17), ('homely', 17), ('unacceptable', 17), ('007', 17), ('unisol', 17), ('tsing', 17), ('awesomely', 17), ('maude', 17), ('gymkata', 17), ('mythological', 17), ('jeon', 17), ('herschel', 17), ('elinore', 17), ('adv', 17), ('sandwich', 16), ('mortality', 16), ('convictions', 16), ('daryl', 16), ('ragged', 16), ('kellerman', 16), ('resigned', 16), ('undercurrent', 16), ('innocuous', 16), ('resonates', 16), ('grams', 16), ('ruthlessly', 16), ('spunky', 16), ('flounder', 16), ('triton', 16), ('sensitively', 16), ('oates', 16), ('cornered', 16), ('permeates', 16), ('hampton', 16), ('blethyn', 16), ('evacuated', 16), ('liberals', 16), ('ceo', 16), ('attractions', 16), ('snatched', 16), ('stint', 16), ('bard', 16), ('firefighter', 16), ('parenting', 16), ('inflict', 16), ('peer', 16), ('grossed', 16), ('cooperation', 16), ('crafty', 16), ('bambi', 16), ('woodward', 16), ('trades', 16), ('transpires', 16), ('naomi', 16), ('wallop', 16), ('yahoo', 16), ('compellingly', 16), ('chuckling', 16), ('peg', 16), ('undisputed', 16), ('starfleet', 16), ('stylised', 16), ('mise', 16), ('das', 16), ('meticulous', 16), ('illustrations', 16), ('osbourne', 16), ('leans', 16), ('boeing', 16), ('lineup', 16), ('jeffery', 16), ('patekar', 16), ('dynasty', 16), ('pesky', 16), ('crabs', 16), ('highlighting', 16), ('clayton', 16), ('sponsored', 16), ('womanizer', 16), ('unintelligent', 16), ('maman', 16), ('eleniak', 16), ('dastardly', 16), ('kicker', 16), ('uncaring', 16), ('reinforces', 16), ('defying', 16), ('advani', 16), ('ishq', 16), ('decipher', 16), ('buildup', 16), ('amin', 16), ('blasted', 16), ('collectively', 16), ('kessler', 16), ('greasy', 16), ('entrails', 16), ('unfriendly', 16), ('jefferson', 16), ('ill.', 16), ('cans', 16), ('liberally', 16), ('regional', 16), ('shadowed', 16), ('fraternity', 16), ('mchugh', 16), ('ribs', 16), ('reeling', 16), ('duffell', 16), ('aristocrats', 16), ('fellowship', 16), ('whiz', 16), ('graced', 16), ('snicker', 16), ('stalkers', 16), ('hercules', 16), ('endures', 16), ('trafficking', 16), ('meld', 16), ('distribute', 16), ('physician', 16), ('accented', 16), ('imminent', 16), ('gratifying', 16), ('cheng', 16), ('germs', 16), ('implements', 16), ('scatman', 16), ('hysterics', 16), ('gilley', 16), ('southwest', 16), ('ringu', 16), ('reinhold', 16), ('abandonment', 16), ('troublesome', 16), ('decapitation', 16), ('modeled', 16), ('legions', 16), ('bona', 16), ('inimitable', 16), ('embodies', 16), ('doggie', 16), ('blouse', 16), ('nimoy', 16), ('preservation', 16), ('powerless', 16), ('mesh', 16), ('parameters', 16), ('hinges', 16), ('weigh', 16), ('hulce', 16), ('pittsburgh', 16), ('alaska', 16), ('superhuman', 16), ('withstand', 16), ('indoor', 16), ('spader', 16), ('curry', 16), ('separates', 16), ('dissolves', 16), ('87', 16), ('enrico', 16), ('appease', 16), ('sctv', 16), ('helper', 16), ('inescapable', 16), ('lining', 16), ('tch', 16), ('titillation', 16), ('gimmicky', 16), ('criticise', 16), ('catwoman', 16), ('potboiler', 16), ('wallow', 16), ('wiping', 16), ('eliminating', 16), ('facilities', 16), ('discomfort', 16), ('talkative', 16), ('excerpts', 16), ('mistreated', 16), ('rgv', 16), ('jungles', 16), ('.but', 16), ('aisle', 16), ('scrap', 16), ('fares', 16), ('aesthetically', 16), ('sweetest', 16), ('captors', 16), ('arabs', 16), ('austere', 16), ('helmed', 16), ('superficially', 16), ('critters', 16), ('blu', 16), ('deceptively', 16), ('laird', 16), ('catholics', 16), ('scratches', 16), ('scarf', 16), ('ye', 16), ('unleash', 16), ('maniacs', 16), ('taxes', 16), ('feline', 16), ('bombers', 16), ('jansen', 16), ('imitated', 16), ('dreyfus', 16), ('kryptonite', 16), ('simplified', 16), ('cozy', 16), ('secretive', 16), ('sophomore', 16), ('creeping', 16), ('obtaining', 16), ('yr', 16), ('curses', 16), ('pumping', 16), ('unintended', 16), ('merchandise', 16), ('bandwagon', 16), ('blasts', 16), ('dundee', 16), ('gripped', 16), ('headlights', 16), ('bamboo', 16), ('resonate', 16), ('brainer', 16), ('neville', 16), ('headlines', 16), ('disorders', 16), ('removes', 16), ('churning', 16), ('gator', 16), ('dearly', 16), ('mutiny', 16), ('dispose', 16), ('tomboy', 16), ('romantically', 16), ('dazed', 16), ('d.c.', 16), ('installed', 16), ('candice', 16), ('bombshells', 16), ('entertainers', 16), ('prissy', 16), ('selections', 16), ('impressing', 16), ('unsuccessfully', 16), ('tuesday', 16), ('allende', 16), ('traumas', 16), ('raining', 16), ('inventiveness', 16), ('spoils', 16), ('afar', 16), ('delusion', 16), ('bisexual', 16), ('amazement', 16), ('symphony', 16), ('abhorrent', 16), ('milton', 16), ('idealized', 16), ('lori', 16), ('slated', 16), ('antithesis', 16), ('gingerbread', 16), ('grifters', 16), ('analyzed', 16), ('finer', 16), ('helms', 16), ('63', 16), ('stapleton', 16), ('saffron', 16), ('macready', 16), ('brigham', 16), ('spanning', 16), ('fork', 16), ('islamic', 16), ('ussr', 16), ('heroics', 16), ('brokedown', 16), ('professors', 16), ('beatings', 16), ('befriend', 16), ('entice', 16), ('braga', 16), ('swashbuckling', 16), ('stubby', 16), ('b.s', 16), ('crazier', 16), ('quatermain', 16), ('obligated', 16), ('hijinks', 16), ('rightful', 16), ('wuhrer', 16), ('paltry', 16), ('miramax', 16), ('clarify', 16), ('insultingly', 16), ('overdose', 16), ('fundamentalist', 16), ('tossing', 16), ('exile', 16), ('identification', 16), ('hinting', 16), ('fixation', 16), ('mechanism', 16), ('fraser', 16), ('lacklustre', 16), ('circular', 16), ('announcement', 16), ('patrons', 16), ('spreads', 16), ('cheery', 16), ('cautionary', 16), ('sasha', 16), ('stinking', 16), ('erased', 16), ('babban', 16), ('sizes', 16), ('sail', 16), ('histrionic', 16), ('finland', 16), ('astoundingly', 16), ('limb', 16), ('unlock', 16), ('wildest', 16), ('replaces', 16), ('curator', 16), ('biehn', 16), ('gulf', 16), ('reindeer', 16), ('marginal', 16), ('bandits', 16), ('campiness', 16), ('granny', 16), ('stomping', 16), ('expressionism', 16), ('knockoff', 16), ('sermon', 16), ('profane', 16), ('ozu', 16), ('disposable', 16), ('climaxes', 16), ('orgies', 16), ('ban', 16), ('airwolf', 16), ('nobel', 16), ('benkei', 16), ('harmed', 16), ('virtuous', 16), ('craftsmanship', 16), ('explosives', 16), ('griffiths', 16), ('consumer', 16), ('rammed', 16), ('dilapidated', 16), ('hamiltons', 16), ('snapped', 16), ('untold', 16), ('biographies', 16), ('120', 16), ('boldly', 16), ('formulas', 16), ('bonkers', 16), ('drummond', 16), ('bigotry', 16), ('yawning', 16), ('ephemeral', 16), ('sleepless', 16), ('armand', 16), ('toad', 16), ('grandchildren', 16), ('saul', 16), ('bedknobs', 16), ('broomsticks', 16), ('cr', 16), ('lea', 16), ('rabbits', 16), ('throughly', 16), ('nanette', 16), ('seventy', 16), ('ziyi', 16), ('pol', 16), ('riker', 16), ('wasnt', 16), ('benchmark', 16), ('mime', 16), ('gasping', 16), ('opposites', 16), ('clausen', 16), ('superiority', 16), ('screeching', 16), ('cafeteria', 16), ('negatively', 16), ('undertone', 16), ('hayek', 16), ('roam', 16), ('collectors', 16), ('grisham', 16), ('immerse', 16), ('rio', 16), ('waltz', 16), ('napier', 16), ('sas', 16), ('improvise', 16), ('catharsis', 16), ('rapping', 16), ('consultant', 16), ('hefty', 16), ('hansen', 16), ('investigated', 16), ('gladys', 16), ('needy', 16), ('parting', 16), ('silvers', 16), ('sturdy', 16), ('cuddly', 16), ('meager', 16), ('churn', 16), ('goa', 16), ('nodding', 16), ('verne', 16), ('newsreel', 16), ('vomiting', 16), ('rumored', 16), ('perpetrators', 16), ('stirred', 16), ('shovel', 16), ('freshly', 16), ('sombre', 16), ('midgets', 16), ('dove', 16), ('recorder', 16), ('slain', 16), ('madhur', 16), ('validity', 16), ('endor', 16), ('rotj', 16), ('sooraj', 16), ('natalia', 16), ('channeling', 16), ('coulouris', 16), ('recordings', 16), ('flippant', 16), ('aykroyd', 16), ('solaris', 16), ('truthfully', 16), ('requirement', 16), ('accomplishes', 16), ('drones', 16), ('quicker', 16), ('slowed', 16), ('cumming', 16), ('tate', 16), ('stagy', 16), ('borzage', 16), ('babylon', 16), ('squeaky', 16), ('10th', 16), ('deco', 16), ('consent', 16), ('chuckled', 16), ('bradbury', 16), ('angered', 16), ('burnett', 16), ('tilt', 16), ('fore', 16), ('shrouded', 16), ('dreamer', 16), ('unspoken', 16), ('flipped', 16), ('palmer', 16), ('lanchester', 16), ('janos', 16), ('nominal', 16), ('republicans', 16), ('enlist', 16), ('memorized', 16), ('ancestry', 16), ('k.', 16), ('silvio', 16), ('serene', 16), ('hearst', 16), ('santos', 16), ('priority', 16), ('proclaims', 16), ('junkies', 16), ('delpy', 16), ('harrelson', 16), ('neff', 16), ('incarnations', 16), ('veritable', 16), ('heartbroken', 16), ('gist', 16), ('auntie', 16), ('sledgehammer', 16), ('automobile', 16), ('unthinkable', 16), ('henri', 16), ('taboos', 16), ('antz', 16), ('slime', 16), ('sadder', 16), ('cheapest', 16), ('anticlimactic', 16), ('canadians', 16), ('heartland', 16), ('crossbow', 16), ('scheduled', 16), ('siskel', 16), ('obliged', 16), ('gunner', 16), ('awakened', 16), ('discourse', 16), ('senate', 16), ('ninth', 16), ('dealings', 16), ('businessmen', 16), ('attacker', 16), ('dil', 16), ('recovers', 16), ('freeway', 16), ('sakura', 16), ('hirsch', 16), ('calhoun', 16), ('dentists', 16), ('orthodox', 16), ('miya', 16), ('hopalong', 16), ('roz', 16), ('underscores', 16), ('obtained', 16), ('whatnot', 16), ('flashlight', 16), ('carmilla', 16), ('likability', 16), ('avery', 16), ('drifts', 16), ('dolemite', 16), ('plumbing', 16), ('domineering', 16), ('breakup', 16), ('premature', 16), ('turkeys', 16), ('matlin', 16), ('susie', 16), ('donnell', 16), ('normalcy', 16), ('beckett', 16), ('gong', 16), ('programmers', 16), ('visiteurs', 16), ('sledge', 16), ('awkwardness', 16), ('9th', 16), ('wcw', 16), ('yvaine', 16), ('luna', 16), ('gaiman', 16), ('tolstoy', 16), ('lewton', 16), ('commissioner', 16), ('morrissey', 16), ('marches', 16), ('mckenzie', 16), ('pusser', 16), ('bfg', 16), ('impersonate', 15), ('envisioned', 15), ('rundown', 15), ('carre', 15), ('mcanally', 15), ('ellis', 15), ('creepier', 15), ('yaphet', 15), ('kotto', 15), ('tagged', 15), ('sayonara', 15), ('slums', 15), ('unlimited', 15), ('shipped', 15), ('duly', 15), ('westerners', 15), ('juxtaposition', 15), ('trebor', 15), ('hut', 15), ('angelic', 15), ('princes', 15), ('recovery', 15), ('tangible', 15), ('discern', 15), ('parasite', 15), ('invaded', 15), ('yankees', 15), ('alabama', 15), ('crockett', 15), ('u.s', 15), ('sheryl', 15), ('dispatched', 15), ('pleasance', 15), ('vanish', 15), ('..........', 15), ('slant', 15), ('preity', 15), ('participant', 15), ('trashing', 15), ('treasury', 15), ('activists', 15), ('swan', 15), ('undermine', 15), ('lilith', 15), ('listings', 15), ('beck', 15), ('wigs', 15), ('collections', 15), ('ds9', 15), ('hmmmm', 15), ('meena', 15), ('descended', 15), ('exuberance', 15), ('platinum', 15), ('celtic', 15), ('podge', 15), ('rotoscoped', 15), ('promos', 15), ('nigh', 15), ('sanjay', 15), ('sneaky', 15), ('intricacies', 15), ('mulroney', 15), ('limelight', 15), ('manly', 15), ('isle', 15), ('smartest', 15), ('mamie', 15), ('beaton', 15), ('unflinching', 15), ('archetype', 15), ('criticised', 15), ('rv', 15), ('vermont', 15), ('baggage', 15), ('movie.the', 15), ('curb', 15), ('monte', 15), ('hera', 15), ('bont', 15), ('arden', 15), ('boxed', 15), ('royale', 15), ('inevitability', 15), ('cratchit', 15), ('whitaker', 15), ('strays', 15), ('jolt', 15), ('nagging', 15), ('embodied', 15), ('hanger', 15), ('billboards', 15), ('porsche', 15), ('shelton', 15), ('growling', 15), ('yanked', 15), ('paulo', 15), ('kutcher', 15), ('ethical', 15), ('topical', 15), ('ethnicity', 15), ('remarked', 15), ('prevail', 15), ('clicked', 15), ('abandons', 15), ('rubbed', 15), ('unconsciously', 15), ('identifying', 15), ('automobiles', 15), ('sanctimonious', 15), ('lukewarm', 15), ('geographic', 15), ('notoriously', 15), ('presenter', 15), ('nigel', 15), ('66', 15), ('mulholland', 15), ('utilizes', 15), ('corrected', 15), ('fuse', 15), ('thunderbird', 15), ('stuttering', 15), ('frying', 15), ('croft', 15), ('selfishness', 15), ('frighteningly', 15), ('cashier', 15), ('600', 15), ('sprayed', 15), ('chucky', 15), ('se7en', 15), ('offender', 15), ('swallowed', 15), ('pleas', 15), ('140', 15), ('justly', 15), ('detour', 15), ('izo', 15), ('hinds', 15), ('nair', 15), ('bosnia', 15), ('sampson', 15), ('crothers', 15), ('stephens', 15), ('warranted', 15), ('plea', 15), ('defiance', 15), ('villages', 15), ('precocious', 15), ('permitted', 15), ('arthouse', 15), ('tadanobu', 15), ('timeline', 15), ('unprofessional', 15), ('priced', 15), ('foxy', 15), ('narcissism', 15), ('johnnie', 15), ('scales', 15), ('sorrows', 15), ('jumble', 15), ('boyhood', 15), ('excel', 15), ('archaeological', 15), ('pharaoh', 15), ('anachronistic', 15), ('completist', 15), ('embraces', 15), ('amick', 15), ('champ', 15), ('genetically', 15), ('mala', 15), ('purports', 15), ('oversexed', 15), ('esposito', 15), ('leguizamo', 15), ('cooks', 15), ('exploitive', 15), ('overview', 15), ('singapore', 15), ('suicides', 15), ('whew', 15), ('grasshoppers', 15), ('asin', 15), ('trends', 15), ('horton', 15), ('strand', 15), ('diminished', 15), ('nephews', 15), ('forensic', 15), ('depressingly', 15), ('carrere', 15), ('whores', 15), ('adrienne', 15), ('ramsey', 15), ('carriage', 15), ('slipper', 15), ('bront', 15), ('faithfulness', 15), ('unholy', 15), ('quotient', 15), ('pitiable', 15), ('karas', 15), ('gamble', 15), ('sepia', 15), ('noll', 15), ('rode', 15), ('centerpiece', 15), ('speculate', 15), ('glimpsed', 15), ('marker', 15), ('upright', 15), ('courts', 15), ('commies', 15), ('sobbing', 15), ('watanabe', 15), ('venturing', 15), ('lowell', 15), ('borgnine', 15), ('flooding', 15), ('offends', 15), ('2.5', 15), ('infused', 15), ('maestro', 15), ('clovis', 15), ('unleashes', 15), ('valette', 15), ('mythic', 15), ('ameche', 15), ('springwood', 15), ('reunites', 15), ('peasants', 15), ('suitors', 15), ('placid', 15), ('mckay', 15), ('naturalism', 15), ('lanisha', 15), ('forte', 15), ('onset', 15), ('distressed', 15), ('personas', 15), ('admires', 15), ('tarnished', 15), ('knowingly', 15), ('urinating', 15), ('descending', 15), ('ugliest', 15), ('aching', 15), ('nursing', 15), ('executions', 15), ('costar', 15), ('individuality', 15), ('leftist', 15), ('stupendous', 15), ('deem', 15), ('spouses', 15), ('1927', 15), ('pubescent', 15), ('litter', 15), ('judith', 15), ('oeuvre', 15), ('fitted', 15), ('ironies', 15), ('likelihood', 15), ('baptist', 15), ('fractured', 15), ('turtles', 15), ('sniff', 15), ('costumed', 15), ('cathartic', 15), ('cease', 15), ('hastings', 15), ('burgeoning', 15), ('footed', 15), ('echoing', 15), ('hijacked', 15), ('almodovar', 15), ('headquarters', 15), ('repetitious', 15), ('revisiting', 15), ('pier', 15), ('collaborator', 15), ('shortage', 15), ('110', 15), ('infernal', 15), ('camille', 15), ('conceptual', 15), ('sweating', 15), ('tornadoes', 15), ('metropolitan', 15), ('unfulfilled', 15), ('nauseous', 15), ('enamored', 15), ('1915', 15), ('standouts', 15), ('uncovering', 15), ('bubbly', 15), ('poland', 15), ('degraded', 15), ('trimmed', 15), ('donovan', 15), ('wafer', 15), ('waco', 15), ('brolin', 15), ('socialite', 15), ('kristel', 15), ('loaf', 15), ('nurses', 15), ('nationalist', 15), ('duckling', 15), ('evils', 15), ('slumming', 15), ('harassed', 15), ('manual', 15), ('onstage', 15), ('annette', 15), ('roadie', 15), ('flashed', 15), ('baton', 15), ('shifty', 15), ('yul', 15), ('mortgage', 15), ('44', 15), ('tribulation', 15), ('pointe', 15), ('moms', 15), ('prayed', 15), ('introspection', 15), ('atlanta', 15), ('smartly', 15), ('impromptu', 15), ('bronze', 15), ('louder', 15), ('passport', 15), ('assaults', 15), ('chunks', 15), ('cliffs', 15), ('jawed', 15), ('withdrawn', 15), ('nitpick', 15), ('embracing', 15), ('befuddled', 15), ('nypd', 15), ('dystopian', 15), ('anthropologist', 15), ('casanova', 15), ('atkins', 15), ('banjo', 15), ('med', 15), ('mirren', 15), ('archibald', 15), ('dominique', 15), ('eccleston', 15), ('inert', 15), ('michigan', 15), ('insignificance', 15), ('irritate', 15), ('brook', 15), ('cranked', 15), ('grossing', 15), ('synthesizer', 15), ('subliminal', 15), ('redfield', 15), ('spilled', 15), ('rethink', 15), ('cutouts', 15), ('juhi', 15), ('instalment', 15), ('babbling', 15), ('communications', 15), ('nepotism', 15), ('undergoes', 15), ('blossoms', 15), ('patric', 15), ('threshold', 15), ('sony', 15), ('kira', 15), ('erotica', 15), ('coloured', 15), ('stormtroopers', 15), ('writhing', 15), ('dune', 15), ('snobs', 15), ('hacker', 15), ('calmly', 15), ('chatter', 15), ('lucid', 15), ('aja', 15), ('discredit', 15), ('rag', 15), ('sped', 15), ('taping', 15), ('lads', 15), ('woodland', 15), ('touted', 15), ('argentine', 15), ('burman', 15), ('audible', 15), ('satires', 15), ('woodstock', 15), ('elders', 15), ('intensive', 15), ('embodiment', 15), ('silberling', 15), ('loveable', 15), ('finlayson', 15), ('firode', 15), ('moonlight', 15), ('bleached', 15), ('seaman', 15), ('abetted', 15), ('stifling', 15), ('biggs', 15), ('stinkers', 15), ('condemning', 15), ('minorities', 15), ('grate', 15), ('sanchez', 15), ('regretted', 15), ('j.j.', 15), ('barbaric', 15), ('vanities', 15), ('hammond', 15), ('resists', 15), ('56', 15), ('greenhouse', 15), ('poets', 15), ('tanner', 15), ('pointlessness', 15), ('termed', 15), ('notting', 15), ('mckenna', 15), ('backup', 15), ('horde', 15), ('friction', 15), ('engines', 15), ('cleopatra', 15), ('uld', 15), ('carrot', 15), ('foray', 15), ('shamefully', 15), ('goines', 15), ('su', 15), ('chilean', 15), ('calamai', 15), ('arabian', 15), ('kiera', 15), ('ribisi', 15), ('commitments', 15), ('richness', 15), ('archaic', 15), ('chronicle', 15), ('evan', 15), ('justifying', 15), ('trusting', 15), ('inanimate', 15), ('spacecraft', 15), ('transmitted', 15), ('ely', 15), ('knowles', 15), ('strut', 15), ('zemeckis', 15), ('hilda', 15), ('flopped', 15), ('whipping', 15), ('beams', 15), ('plucky', 15), ('borne', 15), ('prohibition', 15), ('brushes', 15), ('singularly', 15), ('webb', 15), ('multiply', 15), ('babysitting', 15), ('appreciating', 15), ('ditzy', 15), ('alluded', 15), ('compose', 15), ('flourishes', 15), ('exemplary', 15), ('negligible', 15), ('talia', 15), ('bjork', 15), ('victimized', 15), ('booty', 15), ('rajinikanth', 15), ('enabled', 15), ('angers', 15), ('phelps', 15), ('orbit', 15), ('endorse', 15), ('twain', 15), ('enabling', 15), ('preferable', 15), ('u.s.a.', 15), ('emotive', 15), ('adoption', 15), ('soutendijk', 15), ('wegener', 15), ('notebook', 15), ('gowns', 15), ('prophecies', 15), ('contractor', 15), ('blanket', 15), ('rays', 15), ('merle', 15), ('chronic', 15), ('escapades', 15), ('astray', 15), ('penguins', 15), ('salad', 15), ('schrader', 15), ('covert', 15), ('transfixed', 15), ('eliza', 15), ('warts', 15), ('ski', 15), ('suleiman', 15), ('truer', 15), ('fountain', 15), ('chawla', 15), ('whistling', 15), ('units', 15), ('carriers', 15), ('psychos', 15), ('fruition', 15), ('cusak', 15), ('clampett', 15), ('pancake', 15), ('treasures', 15), ('gardiner', 15), ('prettier', 15), ('lian', 15), ('cartoony', 15), ('comers', 15), ('whiskey', 15), ('knotts', 15), ('sphere', 15), ('awaken', 15), ('aesthetics', 15), ('bangkok', 15), ('improvements', 15), ('grenades', 15), ('bain', 15), ('costa', 15), ('businesses', 15), ('collinwood', 15), ('budgetary', 15), ('phallic', 15), ('schildkraut', 15), ('clare', 15), ('cultured', 15), ('doktor', 15), ('indelible', 15), ('egon', 15), ('prodigy', 15), ('cheh', 15), ('giancarlo', 15), ('disposed', 15), ('pedigree', 15), ('unite', 15), ('melanie', 15), ('pleads', 15), ('oro', 15), ('neighborhoods', 15), ('cabal', 15), ('scathing', 15), ('plead', 15), ('cortes', 15), ('tabloid', 15), ('bernhard', 15), ('whitman', 15), ('flirtatious', 15), ('kiley', 15), ('juarez', 15), ('balsam', 15), ('miriam', 15), ('parador', 15), ('addictions', 15), ('complicate', 15), ('rodeo', 15), ('schmaltzy', 15), ('peanuts', 15), ('torrent', 15), ('lorenz', 15), ('gunbuster', 15), ('shivers', 15), ('sirens', 15), ('aames', 15), ('vignette', 15), ('shintaro', 15), ('cognac', 15), ('asserts', 15), ('roberto', 15), ('cripple', 15), ('valentino', 15), ('whales', 15), ('prancing', 15), ('dragonfly', 15), ('embezzler', 14), ('variable', 14), ('imaginatively', 14), ('cornball', 14), ('lowbrow', 14), ('ringmaster', 14), ('treason', 14), ('funnily', 14), ('fullest', 14), ('lizzie', 14), ('colossal', 14), ('solicitor', 14), ('mimicking', 14), ('boobies', 14), ('captivate', 14), ('diminishes', 14), ('hostility', 14), ('gabriele', 14), ('globalization', 14), ('walrus', 14), ('hospitals', 14), ('hairs', 14), ('ensuring', 14), ('chanting', 14), ('manifest', 14), ('stared', 14), ('machina', 14), ('attach', 14), ('splattered', 14), ('mcguire', 14), ('plates', 14), ('col.', 14), ('aggressively', 14), ('2002.', 14), ('breakout', 14), ('pappy', 14), ('charlize', 14), ('roma', 14), ('titans', 14), ('miscarriage', 14), ('recruiting', 14), ('shutting', 14), ('jarmusch', 14), ('labute', 14), ('parlor', 14), ('allergic', 14), ('bees', 14), ('pagan', 14), ('yearns', 14), ('monochrome', 14), ('feelgood', 14), ('messenger', 14), ('slate', 14), ('kumari', 14), ('yum', 14), ('schooler', 14), ('responded', 14), ('weirdest', 14), ('requiem', 14), ('ravenous', 14), ('feudal', 14), ('tang', 14), ('spout', 14), ('apathetic', 14), ('tackling', 14), ('endeavors', 14), ('facile', 14), ('barkin', 14), ('hoax', 14), ('medley', 14), ('sunken', 14), ('occupants', 14), ('whirlwind', 14), ('jeanie', 14), ('gunfighter', 14), ('summers', 14), ('assurance', 14), ('fargo', 14), ('badge', 14), ('putain', 14), ('superficiality', 14), ('slams', 14), ('programmed', 14), ('bred', 14), ('honed', 14), ('blurb', 14), ('prude', 14), ('genitalia', 14), ('impossibility', 14), ('cranky', 14), ('massachusetts', 14), ('ditch', 14), ('plowright', 14), ('dirk', 14), ('picard', 14), ('goldeneye', 14), ('jerusalem', 14), ('gravitas', 14), ('everlasting', 14), ('harbors', 14), ('airplanes', 14), ('expansive', 14), ('obey', 14), ('chips', 14), ('narrowly', 14), ('donnie', 14), ('snatchers', 14), ('gratification', 14), ('glorifies', 14), ('succubus', 14), ('curio', 14), ('turf', 14), ('aw', 14), ('advises', 14), ('rentals', 14), ('pathological', 14), ('herb', 14), ('roseanne', 14), ('humanoid', 14), ('spiders', 14), ('repercussions', 14), ('stained', 14), ('millie', 14), ('overpowering', 14), ('complements', 14), ('j.t', 14), ('snotty', 14), ('designers', 14), ('bushwhackers', 14), ('bulimia', 14), ('eraserhead', 14), ('stealer', 14), ('oswald', 14), ('functioning', 14), ('schygulla', 14), ('u.k.', 14), ('schaech', 14), ('descendants', 14), ('employing', 14), ('attribute', 14), ('plains', 14), ('gough', 14), ('kulkarni', 14), ('irritatingly', 14), ('lawless', 14), ('imamura', 14), ('whodunnit', 14), ('rug', 14), ('nightly', 14), ('painstakingly', 14), ('toilets', 14), ('apples', 14), ('collaborators', 14), ('assassinated', 14), ('kruger', 14), ('louie', 14), ('warmly', 14), ('otherworldly', 14), ('kabei', 14), ('nineteen', 14), ('sporadic', 14), ('snitch', 14), ('persuaded', 14), ('1996.', 14), ('batty', 14), ('etched', 14), ('restroom', 14), ('snuck', 14), ('ontario', 14), ('assessment', 14), ('bakery', 14), ('gideon', 14), ('pyle', 14), ('cheyenne', 14), ('frequency', 14), ('hasty', 14), ('onscreen', 14), ('adrien', 14), ('cuz', 14), ('rehab', 14), ('eternally', 14), ('newbie', 14), ('sperm', 14), ('necromancy', 14), ('1971.', 14), ('ebenezer', 14), ('misused', 14), ('unhappily', 14), ('batmobile', 14), ('que', 14), ('deceived', 14), ('benton', 14), ('amuses', 14), ('intricately', 14), ('harem', 14), ('skewed', 14), ('armour', 14), ('harshness', 14), ('wrecked', 14), ('tripod', 14), ('dissatisfied', 14), ('bitching', 14), ('beek', 14), ('lyman', 14), ('sawa', 14), ('diminutive', 14), ('trench', 14), ('dots', 14), ('cannons', 14), ('boiler', 14), ('pudding', 14), ('dowdy', 14), ('arduous', 14), ('junkyard', 14), ('persecuted', 14), ('kleenex', 14), ('makeover', 14), ('dominating', 14), ('hyperbole', 14), ('fanciful', 14), ('blasphemous', 14), ('proven', 14), ('encompassing', 14), ('unsatisfactory', 14), ('mendez', 14), ('browning', 14), ('contradictory', 14), ('reiner', 14), ('tactic', 14), ('scrat', 14), ('ronda', 14), ('embedded', 14), ('kilter', 14), ('vibes', 14), ('suckered', 14), ('outcomes', 14), ('concocted', 14), ('vermin', 14), ('flik', 14), ('queue', 14), ('94', 14), ('beheading', 14), ('doomsday', 14), ('undeserved', 14), ('diction', 14), ('dramatics', 14), ('lustful', 14), ('disposition', 14), ('entrepreneur', 14), ('diaper', 14), ('hatchet', 14), ('slowing', 14), ('dictates', 14), ('saturn', 14), ('hotels', 14), ('esteban', 14), ('default', 14), ('acrobatics', 14), ('blindness', 14), ('identifiable', 14), ('bettany', 14), ('strait', 14), ('pluto', 14), ('fab', 14), ('judgmental', 14), ('balances', 14), ('grants', 14), ('symbolizes', 14), ('theoretically', 14), ('rekindle', 14), ('harassment', 14), ('cv', 14), ('groans', 14), ('quiroz', 14), ('pumpkin', 14), ('exclamation', 14), ('slaughtering', 14), ('hickam', 14), ('micro', 14), ('slicing', 14), ('tenor', 14), ('laine', 14), ('summoned', 14), ('menzies', 14), ('tchaikovsky', 14), ('pintilie', 14), ('kher', 14), ('nighttime', 14), ('semester', 14), ('provincial', 14), ('touchy', 14), ('gigs', 14), ('proposed', 14), ('butterflies', 14), ('ruben', 14), ('michele', 14), ('wade', 14), ('heros', 14), ('reubens', 14), ('05', 14), ('sworn', 14), ('necklace', 14), ('recollection', 14), ('extensively', 14), ('glows', 14), ('subs', 14), ('gel', 14), ('zimmer', 14), ('newfound', 14), ('kothari', 14), ('hatch', 14), ('downloading', 14), ('serenity', 14), ('gardenia', 14), ('rhoda', 14), ('viet', 14), ('nineteenth', 14), ('afforded', 14), ('culmination', 14), ('echoed', 14), ('ishwar', 14), ('peach', 14), ('feminists', 14), ('specifics', 14), ('banning', 14), ('promoter', 14), ('disillusionment', 14), ('polyester', 14), ('spellbound', 14), ('flown', 14), ('mallory', 14), ('infinite', 14), ('certificate', 14), ('drought', 14), ('affirming', 14), ('prose', 14), ('bounces', 14), ('ellie', 14), ('steep', 14), ('dimwitted', 14), ('drip', 14), ('uninhibited', 14), ('shelby', 14), ('multiplex', 14), ('inexperience', 14), ('uninitiated', 14), ('impulses', 14), ('financing', 14), ('reprehensible', 14), ('protestant', 14), ('toting', 14), ('swap', 14), ('loopholes', 14), ('recounting', 14), ('symptoms', 14), ('entangled', 14), ('underlines', 14), ('propelled', 14), ('adama', 14), ('morales', 14), ('jang', 14), ('haze', 14), ('lusting', 14), ('merge', 14), ('gunned', 14), ('unarmed', 14), ('gazing', 14), ('fluent', 14), ('requests', 14), ('midkiff', 14), ('ado', 14), ('auction', 14), ('terminally', 14), ('pseudonym', 14), ('silents', 14), ('lowly', 14), ('sexed', 14), ('incorporating', 14), ('commune', 14), ('coccio', 14), ('reinforce', 14), ('chelsea', 14), ('coulier', 14), ('stamos', 14), ('guitarist', 14), ('colagrande', 14), ('malice', 14), ('carelessly', 14), ('iberia', 14), ('rumble', 14), ('purest', 14), ('intervenes', 14), ('opts', 14), ('courtyard', 14), ('creaky', 14), ('springsteen', 14), ('indies', 14), ('kar', 14), ('idiotically', 14), ('golem', 14), ('earthly', 14), ('parter', 14), ('rehearsed', 14), ('reitman', 14), ('alarms', 14), ('bushes', 14), ('entourage', 14), ('ammunition', 14), ('punishing', 14), ('crafts', 14), ('intrinsic', 14), ('tug', 14), ('gutted', 14), ('booby', 14), ('civilisation', 14), ('abduction', 14), ('cosby', 14), ('cater', 14), ('nasties', 14), ('horrorfest', 14), ('tides', 14), ('indictment', 14), ('climbed', 14), ('bouchet', 14), ('landmarks', 14), ('advert', 14), ('consumers', 14), ('1939.', 14), ('hustle', 14), ('saddened', 14), ('lenses', 14), ('nietzsche', 14), ('homoerotic', 14), ('animate', 14), ('chabrol', 14), ('rolle', 14), ('censor', 14), ('friggin', 14), ('chap', 14), ('ozzie', 14), ('banished', 14), ('slices', 14), ('exchanged', 14), ('1800', 14), ('consecutive', 14), ('websites', 14), ('defiant', 14), ('johns', 14), ('innumerable', 14), ('sonja', 14), ('lollobrigida', 14), ('mediterranean', 14), ('flic', 14), ('elaborated', 14), ('drawbacks', 14), ('provoked', 14), ('giannini', 14), ('garrett', 14), ('brutish', 14), ('practiced', 14), ('ineffectual', 14), ('jorge', 14), ('inhumanity', 14), ('clap', 14), ('r2', 14), ('filipino', 14), ('infatuation', 14), ('reminiscing', 14), ('persuasive', 14), ('umm', 14), ('bumping', 14), ('testosterone', 14), ('racially', 14), ('cummings', 14), ('celia', 14), ('didactic', 14), ('marcy', 14), ('vatican', 14), ('cassavettes', 14), ('quantity', 14), ('instructed', 14), ('anglo', 14), ('nursery', 14), ('kendall', 14), ('bouncy', 14), ('excluding', 14), ('boomers', 14), ('superstars', 14), ('indicator', 14), ('melancholic', 14), ('vegetables', 14), ('arlington', 14), ('pauly', 14), ('semen', 14), ('squares', 14), ('replicate', 14), ('plato', 14), ('shone', 14), ('fulfills', 14), ('mortimer', 14), ('daniela', 14), ('whistler', 14), ('nay', 14), ('monetary', 14), ('treaty', 14), ('groomed', 14), ('lava', 14), ('manchurian', 14), ('artifice', 14), ('unrealistically', 14), ('reich', 14), ('amc', 14), ('swine', 14), ('pikachu', 14), ('federation', 14), ('flourish', 14), ('charade', 14), ('tudor', 14), ('reminisce', 14), ('morrow', 14), ('rien', 14), ('familial', 14), ('squirrel', 14), ('unworthy', 14), ('atoz', 14), ('momsen', 14), ('heder', 14), ('lucile', 14), ('spook', 14), ('diggers', 14), ('conceivable', 14), ('migration', 14), ('basing', 14), ('referee', 14), ('unbiased', 14), ('generating', 14), ('hungary', 14), ('paige', 14), ('awed', 14), ('narrating', 14), ('athlete', 14), ('arranges', 14), ('unofficial', 14), ('waster', 14), ('kitschy', 14), ('smokes', 14), ('karma', 14), ('kin', 14), ('smut', 14), ('bulging', 14), ('mushy', 14), ('cooperate', 14), ('denies', 14), ('recreating', 14), ('cronenberg', 14), ('edmond', 14), ('brigadoon', 14), ('guillotine', 14), ('yelled', 14), ('celebi', 14), ('texts', 14), ('celestine', 14), ('backstabbing', 14), ('recommendable', 14), ('extinct', 14), ('shrine', 14), ('observant', 14), ('undermining', 14), ('chi', 14), ('patented', 14), ('gingold', 14), ('breaker', 14), ('collects', 14), ('52', 14), ('ridicules', 14), ('insatiable', 14), ('radios', 14), ('ingram', 14), ('traveler', 14), ('lamberto', 14), ('gershon', 14), ('crust', 14), ('eggar', 14), ('aborigine', 14), ('a.m.', 14), ('impressionist', 14), ('goldwyn', 14), ('thy', 14), ('substandard', 14), ('verite', 14), ('gialli', 14), ('choked', 14), ('resent', 14), ('hd', 14), ('halls', 14), ('bathhouse', 14), ('macmahon', 14), ('pins', 14), ('soundtracks', 14), ('swelling', 14), ('feathers', 14), ('dodging', 14), ('traci', 14), ('immaculate', 14), ('blackmailer', 14), ('skinner', 14), ('frigid', 14), ('rounding', 14), ('miguel', 14), ('nikhil', 14), ('compass', 14), ('defends', 14), ('streetwise', 14), ('sith', 14), ('witchery', 14), ('speculation', 14), ('daninsky', 14), ('adversaries', 14), ('blocked', 14), ('rosy', 14), ('ridge', 14), ('sigourney', 14), ('confessed', 14), ('leisurely', 14), ('traced', 14), ('jerker', 14), ('81', 14), ('coy', 14), ('complicating', 14), ('lightness', 14), ('flicker', 14), ('resolving', 14), ('35mm', 14), ('bolivian', 14), ('pereira', 14), ('missiles', 14), ('channing', 14), ('maslin', 14), ('borowczyk', 14), ('bassinger', 14), ('rites', 14), ('vol', 14), ('commissioned', 14), ('aplenty', 14), ('strode', 14), ('tulip', 14), ('blaring', 14), ('twit', 14), ('reconstruction', 14), ('tmnt', 14), ('unreasonable', 14), ('dipping', 14), ('arcane', 14), ('ophelia', 14), ('shrunk', 14), ('sculptor', 14), ('yentl', 14), ('audacity', 14), ('okada', 14), ('cartwrights', 14), ('concede', 14), ('sickeningly', 14), ('seann', 14), ('snapshot', 14), ('pandora', 14), ('inkling', 14), ('snooze', 14), ('cramer', 14), ('fletcher', 14), ('cough', 14), ('paget', 14), ('dakar', 14), ('ogling', 14), ('thwart', 14), ('stalin', 14), ('unexplored', 14), ('matthews', 14), ('poehler', 14), ('lucienne', 14), ('fetchit', 14), ('genocide', 14), ('prejudiced', 14), ('emy', 14), ('trails', 14), ('swain', 14), ('constable', 14), ('panzram', 14), ('heretic', 14), ('duprez', 14), ('danelia', 14), ('bleep', 14), ('belafonte', 14), ('flashman', 14), ('vicky', 14), ('megs', 14), ('infiltrate', 13), ('coherency', 13), ('terrifyingly', 13), ('poodle', 13), ('flashdance', 13), ('tramell', 13), ('misled', 13), ('healy', 13), ('stem', 13), ('navigate', 13), ('dedlock', 13), ('meddling', 13), ('jarndyce', 13), ('mas', 13), ('ennio', 13), ('intents', 13), ('mangled', 13), ('humourless', 13), ('pilgrimage', 13), ('mecca', 13), ('gorgeously', 13), ('deter', 13), ('airhead', 13), ('hoodlum', 13), ('gr', 13), ('colonialism', 13), ('memoir', 13), ('aggravating', 13), ('holloway', 13), ('pistols', 13), ('milius', 13), ('esteemed', 13), ('airs', 13), ('alleys', 13), ('grotesquely', 13), ('tobey', 13), ('occupying', 13), ('bernstein', 13), ('glitches', 13), ('wailing', 13), ('savant', 13), ('firefly', 13), ('contrivances', 13), ('crucifix', 13), ('cashing', 13), ('carving', 13), ('ditsy', 13), ('gallagher', 13), ('teeny', 13), ('unengaging', 13), ('raucous', 13), ('overdue', 13), ('brimming', 13), ('champagne', 13), ('lynchian', 13), ('chunky', 13), ('spirals', 13), ('flaming', 13), ('moans', 13), ('substituted', 13), ('cottage', 13), ('concealed', 13), ('jc', 13), ('loveless', 13), ('disturbingly', 13), ('foree', 13), ('tediously', 13), ('obnoxiously', 13), ('wince', 13), ('motifs', 13), ('corsaut', 13), ('invaluable', 13), ('derision', 13), ('tumultuous', 13), ('sponge', 13), ('vida', 13), ('uproarious', 13), ('hannibal', 13), ('poles', 13), ('jazzy', 13), ('snack', 13), ('starsky', 13), ('cherie', 13), ('madge', 13), ('baio', 13), ('1980.', 13), ('tubes', 13), ('snot', 13), ('freebird', 13), ('indulges', 13), ('guttenberg', 13), ('conquered', 13), ('aspires', 13), ('shuts', 13), ('aud', 13), ('neighbourhood', 13), ('harshly', 13), ('stressful', 13), ('insufficient', 13), ('isnt', 13), ('moorehead', 13), ('battery', 13), ('dvr', 13), ('sawyer', 13), ('torturous', 13), ('isaac', 13), ('baywatch', 13), ('pheri', 13), ('dementia', 13), ('delicately', 13), ('wacko', 13), ('pleases', 13), ('scrawny', 13), ('knots', 13), ('topping', 13), ('heightens', 13), ('degrades', 13), ('gunfights', 13), ('hunts', 13), ('utters', 13), ('annals', 13), ('poisoning', 13), ('detriment', 13), ('mundae', 13), ('munching', 13), ('milked', 13), ('damian', 13), ('lesley', 13), ('adjani', 13), ('cuthbert', 13), ('preached', 13), ('audacious', 13), ('myles', 13), ('breasted', 13), ('vicar', 13), ('taunting', 13), ('enforced', 13), ('redundancy', 13), ('marsden', 13), ('haircuts', 13), ('lamour', 13), ('prevailing', 13), ('encompasses', 13), ('expressionless', 13), ('playground', 13), ('mischa', 13), ('auer', 13), ('throbbing', 13), ('truncated', 13), ('sg1', 13), ('gonzo', 13), ('opting', 13), ('delectable', 13), ('ecstatic', 13), ('packaged', 13), ('mightily', 13), ('schoolboy', 13), ('crazies', 13), ('maligned', 13), ('contrivance', 13), ('conceited', 13), ('neverending', 13), ('survey', 13), ('assed', 13), ('travelogue', 13), ('aidan', 13), ('brim', 13), ('leftover', 13), ('contests', 13), ('bookstore', 13), ('ruse', 13), ('customer', 13), ('founder', 13), ('nekromantik', 13), ('distrust', 13), ('bogged', 13), ('perpetrator', 13), ('formulated', 13), ('eclipsed', 13), ('safari', 13), ('interrupts', 13), ('hindered', 13), ('bu', 13), ('mischief', 13), ('crate', 13), ('showers', 13), ('implicit', 13), ('django', 13), ('penetrating', 13), ('pairs', 13), ('examining', 13), ('flaherty', 13), ('1800s', 13), ('sensationalism', 13), ('payback', 13), ('organizations', 13), ('estimation', 13), ('strides', 13), ('ova', 13), ('aural', 13), ('nuisance', 13), ('taller', 13), ('berate', 13), ('unsung', 13), ('coven', 13), ('mannequin', 13), ('proceeding', 13), ('artfully', 13), ('intrusion', 13), ('chemicals', 13), ('sinful', 13), ('scriptwriting', 13), ('pieced', 13), ('derives', 13), ('finances', 13), ('declining', 13), ('suitor', 13), ('stability', 13), ('undressed', 13), ('ulli', 13), ('strangle', 13), ('cleans', 13), ('interruptions', 13), ('purist', 13), ('magnetism', 13), ('moodiness', 13), ('remastered', 13), ('distressing', 13), ('interrupt', 13), ('conspicuous', 13), ('risking', 13), ('peaked', 13), ('it.the', 13), ('dola', 13), ('thoughtfully', 13), ('gleeful', 13), ('coats', 13), ('fraught', 13), ('syrupy', 13), ('doubting', 13), ('antoine', 13), ('tabu', 13), ('horizons', 13), ('sillier', 13), ('caste', 13), ('supervisor', 13), ('bowery', 13), ('transsexual', 13), ('toughest', 13), ('canine', 13), ('unraveling', 13), ('silva', 13), ('hays', 13), ('injecting', 13), ('slacker', 13), ('mishmash', 13), ('persecution', 13), ('12th', 13), ('bouvier', 13), ('yahoo.com', 13), ('centering', 13), ('doubly', 13), ('perpetuate', 13), ('filmy', 13), ('cinematically', 13), ('preferring', 13), ('paolo', 13), ('raye', 13), ('pours', 13), ('grueling', 13), ('blackmailed', 13), ('dilemmas', 13), ('mumbles', 13), ('breathes', 13), ('rants', 13), ('wednesday', 13), ('broadbent', 13), ('soda', 13), ('rowdy', 13), ('barrels', 13), ('scooter', 13), ('innuendos', 13), ('hauled', 13), ('14.', 13), ('summon', 13), ('shallowness', 13), ('grimm', 13), ('sizzling', 13), ('gauge', 13), ('autograph', 13), ('organisation', 13), ('2004.', 13), ('ahab', 13), ('ambush', 13), ('scout', 13), ('lbs', 13), ('nibelungen', 13), ('besieged', 13), ('succumbs', 13), ('anupam', 13), ('repulsed', 13), ('depressive', 13), ('scandinavian', 13), ('afterwords', 13), ('hahaha', 13), ('postcard', 13), ('proclaim', 13), ('yoko', 13), ('eburne', 13), ('scratched', 13), ('outburst', 13), ('baghdad', 13), ('lulls', 13), ('rogen', 13), ('tinted', 13), ('grades', 13), ('selective', 13), ('countdown', 13), ('anxiously', 13), ('insistent', 13), ('afoul', 13), ('fellas', 13), ('ishtar', 13), ('betting', 13), ('looser', 13), ('hyperactive', 13), ('pained', 13), ('lyon', 13), ('disposing', 13), ('oozing', 13), ('tombstone', 13), ('chavo', 13), ('amazon.com', 13), ('snoozer', 13), ('rehashing', 13), ('reacted', 13), ('empowerment', 13), ('broadcasts', 13), ('humanistic', 13), ('highs', 13), ('koreans', 13), ('parliament', 13), ('flowed', 13), ('franka', 13), ('potente', 13), ('sheltered', 13), ('boxers', 13), ('unjust', 13), ('erendira', 13), ('papas', 13), ('molestation', 13), ('urging', 13), ('zulu', 13), ('phoning', 13), ('sabertooth', 13), ('escapees', 13), ('catering', 13), ('wordy', 13), ('runyon', 13), ('antagonists', 13), ('branches', 13), ('possessive', 13), ('prestige', 13), ('eod', 13), ('myron', 13), ('diplomat', 13), ('utility', 13), ('dullness', 13), ('dispatches', 13), ('elimination', 13), ('oxford', 13), ('teamwork', 13), ('schoolgirl', 13), ('boasted', 13), ('introductory', 13), ('guetary', 13), ('cages', 13), ('taps', 13), ('sculpture', 13), ('drawl', 13), ('soapy', 13), ('eliminates', 13), ('trepidation', 13), ('changeling', 13), ('donate', 13), ('starvation', 13), ('kyoto', 13), ('prayers', 13), ('prowl', 13), ('deteriorating', 13), ('departs', 13), ('stagey', 13), ('shakespearian', 13), ('physique', 13), ('cnn', 13), ('fa', 13), ('bearer', 13), ('analyzing', 13), ('philosophies', 13), ('gruesomely', 13), ('beyonce', 13), ('patti', 13), ('liver', 13), ('bro', 13), ('indescribable', 13), ('sparkles', 13), ('benign', 13), ('paved', 13), ('mohanlal', 13), ('filtered', 13), ('unfilmable', 13), ('2d', 13), ('deathly', 13), ('gaudy', 13), ('silences', 13), ('swears', 13), ('nobleman', 13), ('enlighten', 13), ('kavner', 13), ('rash', 13), ('inserts', 13), ('droppingly', 13), ('chickens', 13), ('odysseus', 13), ('cotten', 13), ('libre', 13), ('inflicting', 13), ('1993.', 13), ('seductress', 13), ('levine', 13), ('embassy', 13), ('benevolent', 13), ('gabriella', 13), ('bastards', 13), ('abo', 13), ('yash', 13), ('retard', 13), ('perseverance', 13), ('britton', 13), ('dumping', 13), ('tamil', 13), ('hammett', 13), ('immorality', 13), ('elaine', 13), ('weismuller', 13), ('victorious', 13), ('lilies', 13), ('sciamma', 13), ('sanitized', 13), ('distractions', 13), ('obsessions', 13), ('panther', 13), ('transfered', 13), ('coaching', 13), ('gasoline', 13), ('bawdy', 13), ('bohemian', 13), ('stash', 13), ('sim', 13), ('hash', 13), ('meters', 13), ('lovemaking', 13), ('vinci', 13), ('06', 13), ('complimented', 13), ('rabies', 13), ('disneyland', 13), ('stanton', 13), ('devastation', 13), ('prequels', 13), ('braindead', 13), ('oceans', 13), ('rigged', 13), ('utopia', 13), ('counselor', 13), ('grunts', 13), ('parodied', 13), ('permit', 13), ('demunn', 13), ('daredevil', 13), ('debonair', 13), ('advent', 13), ('reggie', 13), ('conformity', 13), ('nicolai', 13), ('wily', 13), ('downtrodden', 13), ('splits', 13), ('archival', 13), ('nuff', 13), ('seals', 13), ('prospective', 13), ('tat', 13), ('mush', 13), ('materialism', 13), ('decomposing', 13), ('burger', 13), ('argentinian', 13), ('renamed', 13), ('promisingly', 13), ('exam', 13), ('rothrock', 13), ('kowalski', 13), ('weirder', 13), ('tribeca', 13), ('eligible', 13), ('mussolini', 13), ('berman', 13), ('ghoul', 13), ('mania', 13), ('lawman', 13), ('petition', 13), ('ecological', 13), ('skelton', 13), ('whopping', 13), ('curves', 13), ('winona', 13), ('seething', 13), ('lookout', 13), ('outfield', 13), ('hideout', 13), ('oakie', 13), ('religiously', 13), ('adamson', 13), ('urbane', 13), ('elevators', 13), ('bassett', 13), ('liverpool', 13), ('forefront', 13), ('gabbar', 13), ('concise', 13), ('apologise', 13), ('gall', 13), ('noni', 13), ('brakes', 13), ('rube', 13), ('theorists', 13), ('skepticism', 13), ('triumphant', 13), ('crushes', 13), ('brownstone', 13), ('orcs', 13), ('allah', 13), ('misuse', 13), ('alastair', 13), ('publicist', 13), ('wrecking', 13), ('lascivious', 13), ('endearingly', 13), ('cursory', 13), ('alfonso', 13), ('olga', 13), ('dix', 13), ('arising', 13), ('rafael', 13), ('declaring', 13), ('fr', 13), ('pablo', 13), ('geezer', 13), ('veil', 13), ('girotti', 13), ('courtship', 13), ('sugiyama', 13), ('summation', 13), ('nan', 13), ('apathy', 13), ('vinyl', 13), ('shifted', 13), ('revolutionaries', 13), ('reverence', 13), ('captains', 13), ('greenwich', 13), ('bahrain', 13), ('stigmata', 13), ('ladd', 13), ('laconic', 13), ('platitudes', 13), ('battalion', 13), ('unemployment', 13), ('tan', 13), ('twinkle', 13), ('hurl', 13), ('cheerfully', 13), ('volcano', 13), ('tarot', 13), ('dismayed', 13), ('acre', 13), ('tyrant', 13), ('exterminator', 13), ('adjective', 13), ('nipples', 13), ('towering', 13), ('latex', 13), ('predominantly', 13), ('statistics', 13), ('garb', 13), ('distinguishes', 13), ('rachael', 13), ('hypnosis', 13), ('lounge', 13), ('sexier', 13), ('follower', 13), ('boreanaz', 13), ('watering', 13), ('thanked', 13), ('cynics', 13), ('reconsider', 13), ('barbed', 13), ('tsai', 13), ('devoured', 13), ('unimaginable', 13), ('no.1', 13), ('nascar', 13), ('abrasive', 13), ('assertion', 13), ('protests', 13), ('klaw', 13), ('imperfect', 13), ('exaggerate', 13), ('pyrotechnics', 13), ('minelli', 13), ('lawler', 13), ('substituting', 13), ('lucci', 13), ('potion', 13), ('nutcracker', 13), ('prc', 13), ('hasso', 13), ('electra', 13), ('trim', 13), ('hulking', 13), ('quibbles', 13), ('rife', 13), ('cetera', 13), ('harried', 13), ('poitier', 13), ('reptile', 13), ('trusty', 13), ('liberating', 13), ('calendar', 13), ('cadet', 13), ('lynne', 13), ('yanks', 13), ('kino', 13), ('burdened', 13), ('assignments', 13), ('mcdoakes', 13), ('savings', 13), ('trejo', 13), ('gorehounds', 13), ('torches', 13), ('rewrites', 13), ('manifested', 13), ('nosy', 13), ('liev', 13), ('mikels', 13), ('cohesion', 13), ('colorado', 13), ('debris', 13), ('margret', 13), ('classmate', 13), ('1973.', 13), ('engulfed', 13), ('mcgraw', 13), ('ettore', 13), ('schepisi', 13), ('moan', 13), ('cooked', 13), ('yelnats', 13), ('wuss', 13), ('beep', 13), ('frederic', 13), ('bram', 13), ('iraqi', 13), ('labels', 13), ('conor', 13), ('webber', 13), ('nath', 13), ('comer', 13), ('pics', 13), ('synonymous', 13), ('anguished', 13), ('ballantine', 13), ('cautious', 13), ('evenings', 13), ('robson', 13), ('unrest', 13), ('luchino', 13), ('vortex', 13), ('guadalcanal', 13), ('overstated', 13), ('coz', 13), ('balding', 13), ('blaming', 13), ('margheriti', 13), ('geddes', 13), ('clowns', 13), ('raves', 13), ('occupies', 13), ('lumi', 13), ('lamer', 13), ('waldemar', 13), ('gypsies', 13), ('sputnik', 13), ('integrate', 13), ('morpheus', 13), ('travers', 13), ('leisen', 13), ('twisters', 13), ('buggy', 13), ('goring', 13), ('tadashi', 13), ('headmaster', 13), ('heartbeat', 13), ('flung', 13), ('tyrannosaurus', 13), ('indigenous', 13), ('ownership', 13), ('ramp', 13), ('frederick', 13), ('militant', 13), ('flattering', 13), ('splashes', 13), ('higgins', 13), ('scuddamore', 13), ('fecal', 13), ('amour', 13), ('rubin', 13), ('spotting', 13), ('frogs', 13), ('linden', 13), ('capably', 13), ('jets', 13), ('tissues', 13), ('1983.', 13), ('octopus', 13), ('cuter', 13), ('poltergeist', 13), ('blush', 13), ('devise', 13), ('totalitarian', 13), ('boringly', 13), ('zest', 13), ('zeffirelli', 13), ('est', 13), ('asides', 13), ('filters', 13), ('74', 13), ('probing', 13), ('temperament', 13), ('2007.', 13), ('nwa', 13), ('cleo', 13), ('korman', 13), ('n64', 13), ('hag', 13), ('cavanagh', 13), ('eglantine', 13), ('masochist', 13), ('dong', 13), ('mazes', 13), ('consumerism', 13), ('kip', 13), ('alumni', 13), ('tivo', 13), ('stylishly', 13), ('choi', 13), ('perez', 13), ('hatton', 13), ('boasting', 13), ('jong', 13), ('az', 13), ('underwood', 13), ('prudish', 13), ('barclay', 13), ('boop', 13), ('colleges', 13), ('munchie', 13), ('memphis', 13), ('thewlis', 13), ('zandalee', 13), ('pasteur', 13), ('strummer', 13), ('stocks', 12), ('whereby', 12), ('expelled', 12), ('warlock', 12), ('1979.', 12), ('crises', 12), ('childishly', 12), ('founding', 12), ('hurley', 12), ('refrigerator', 12), ('illegitimate', 12), ('coupling', 12), ('haphazardly', 12), ('briefcase', 12), ('clutching', 12), ('beam', 12), ('feats', 12), ('clutters', 12), ('grasped', 12), ('attracting', 12), ('chronologically', 12), ('geneva', 12), ('cleansing', 12), ('trident', 12), ('monotony', 12), ('u.', 12), ('upwards', 12), ('devour', 12), ('maysles', 12), ('controller', 12), ('1999.', 12), ('penniless', 12), ('whimsy', 12), ('parasites', 12), ('inaccuracy', 12), ('rediscovered', 12), ('misunderstand', 12), ('glam', 12), ('pioneering', 12), ('egregious', 12), ('sage', 12), ('admiral', 12), ('asimov', 12), ('compressed', 12), ('gunplay', 12), ('warms', 12), ('investigators', 12), ('exchanging', 12), ('nationality', 12), ('redeemable', 12), ('swiftly', 12), ('1959.', 12), ('saddle', 12), ('gutsy', 12), ('compromising', 12), ('willow', 12), ('donkey', 12), ('addled', 12), ('saucer', 12), ('coda', 12), ('prochnow', 12), ('starz', 12), ('docks', 12), ('capped', 12), ('tents', 12), ('brew', 12), ('munster', 12), ('bedtime', 12), ('jelly', 12), ('dozed', 12), ('lagoon', 12), ('aiden', 12), ('reds', 12), ('rotoscoping', 12), ('anthologies', 12), ('maddening', 12), ('motivate', 12), ('pairings', 12), ('girlie', 12), ('slashes', 12), ('muttering', 12), ('amateurishly', 12), ('playfully', 12), ('objection', 12), ('keenan', 12), ('treachery', 12), ('thespians', 12), ('crews', 12), ('anachronism', 12), ('launcher', 12), ('fiddle', 12), ('everytime', 12), ('valued', 12), ('knuckle', 12), ('preteen', 12), ('pentagon', 12), ('checkout', 12), ('appointment', 12), ('caps', 12), ('downwards', 12), ('deposit', 12), ('hazing', 12), ('connell', 12), ('brotherly', 12), ('luigi', 12), ('riffs', 12), ('regrettable', 12), ('licking', 12), ('expenses', 12), ('extremities', 12), ('blithely', 12), ('unmemorable', 12), ('beals', 12), ('nondescript', 12), ('scraped', 12), ('49', 12), ('perceptions', 12), ('intertwine', 12), ('infomercial', 12), ('hawkins', 12), ('crave', 12), ('bressart', 12), ('spineless', 12), ('realisation', 12), ('compulsion', 12), ('subgenre', 12), ('counseling', 12), ('encountering', 12), ('glaringly', 12), ('reg', 12), ('oppressors', 12), ('billionaire', 12), ('kibbee', 12), ('guerilla', 12), ('foolishness', 12), ('ramshackle', 12), ('graders', 12), ('morrison', 12), ('holodeck', 12), ('inflated', 12), ('violation', 12), ('uninterested', 12), ('ovation', 12), ('pinchot', 12), ('voorhees', 12), ('apologizing', 12), ('saucy', 12), ('adoring', 12), ('privy', 12), ('lear', 12), ('unconnected', 12), ('storyboard', 12), ('tar', 12), ('vivien', 12), ('expressionistic', 12), ('suckers', 12), ('euripides', 12), ('reduces', 12), ('plucked', 12), ('barcelona', 12), ('pumba', 12), ('hakuna', 12), ('matata', 12), ('cleanse', 12), ('ode', 12), ('hiroshima', 12), ('congo', 12), ('instinctively', 12), ('bootleg', 12), ('frankenheimer', 12), ('dunn', 12), ('reclusive', 12), ('deterioration', 12), ('woes', 12), ('tammy', 12), ('sweeney', 12), ('shimizu', 12), ('risen', 12), ('unearthed', 12), ('cairo', 12), ('fences', 12), ('carlin', 12), ('erich', 12), ('rhodes', 12), ('categorize', 12), ('alternates', 12), ('depended', 12), ('scot', 12), ('scroll', 12), ('porch', 12), ('swirling', 12), ('istanbul', 12), ('replaying', 12), ('jammed', 12), ('villian', 12), ('p.j', 12), ('upheaval', 12), ('tumble', 12), ('outward', 12), ('tires', 12), ('ugliness', 12), ('distortions', 12), ('exceed', 12), ('rosa', 12), ('enacted', 12), ('convertible', 12), ('barbeau', 12), ('yu', 12), ('infants', 12), ('kristy', 12), ('tiniest', 12), ('cheapo', 12), ('debates', 12), ('nite', 12), ('heighten', 12), ('marbles', 12), ('hayao', 12), ('drilling', 12), ('sizable', 12), ('greenstreet', 12), ('darcy', 12), ('timers', 12), ('firth', 12), ('baffles', 12), ('announcing', 12), ('suzy', 12), ('adventurer', 12), ('overdoes', 12), ('jackets', 12), ('bottoms', 12), ('indoors', 12), ('expanding', 12), ('heartstrings', 12), ('consolation', 12), ('doting', 12), ('antique', 12), ('impressionistic', 12), ('2008.', 12), ('taunts', 12), ('olympics', 12), ('constitute', 12), ('disingenuous', 12), ('harmful', 12), ('lassalle', 12), ('ulterior', 12), ('teaser', 12), ('loni', 12), ('rewriting', 12), ('banquet', 12), ('50,000', 12), ('unemotional', 12), ('jekyll', 12), ('baroque', 12), ('jodorowsky', 12), ('tumbling', 12), ('rig', 12), ('sweater', 12), ('brinke', 12), ('aftertaste', 12), ('sax', 12), ('suitcase', 12), ('gunning', 12), ('improvisation', 12), ('loopy', 12), ('cub', 12), ('stupor', 12), ('jacqueline', 12), ('ineptness', 12), ('apex', 12), ('deviant', 12), ('prematurely', 12), ('rosetta', 12), ('quits', 12), ('herge', 12), ('manure', 12), ('headphones', 12), ('hattie', 12), ('personable', 12), ('zillion', 12), ('waif', 12), ('obtrusive', 12), ('predatory', 12), ('muddle', 12), ('julius', 12), ('heaped', 12), ('backside', 12), ('underage', 12), ('uproar', 12), ('particles', 12), ('interrupting', 12), ('recluse', 12), ('locking', 12), ('gwen', 12), ('attila', 12), ('sch', 12), ('brewing', 12), ('structurally', 12), ('predictions', 12), ('spiced', 12), ('parminder', 12), ('moynahan', 12), ('buries', 12), ('pension', 12), ('peep', 12), ('inconceivable', 12), ('aubrey', 12), ('tamed', 12), ('schizophrenia', 12), ('molester', 12), ('findings', 12), ('intertwining', 12), ('mogul', 12), ('crescendo', 12), ('funk', 12), ('thom', 12), ('independently', 12), ('underpinnings', 12), ('crafting', 12), ('ferguson', 12), ('chronology', 12), ('romps', 12), ('executes', 12), ('ceylon', 12), ('orgasm', 12), ('bankruptcy', 12), ('crudely', 12), ('kendrick', 12), ('grander', 12), ('bloodsuckers', 12), ('johny', 12), ('displaced', 12), ('fessenden', 12), ('deceive', 12), ('scalpel', 12), ('78', 12), ('variant', 12), ('surge', 12), ('kylie', 12), ('offence', 12), ('seizure', 12), ('perversely', 12), ('cited', 12), ('crawled', 12), ('soliloquy', 12), ('cancellation', 12), ('idiosyncrasies', 12), ('milan', 12), ('lizards', 12), ('trenholm', 12), ('quid', 12), ('tortuous', 12), ('bello', 12), ('105', 12), ('upward', 12), ('samberg', 12), ('affords', 12), ('kober', 12), ('translator', 12), ('clashes', 12), ('outdo', 12), ('uncles', 12), ('rut', 12), ('referencing', 12), ('libbed', 12), ('carved', 12), ('devine', 12), ('luster', 12), ('groupie', 12), ('toothless', 12), ('potatoes', 12), ('yrs', 12), ('differentiate', 12), ('invade', 12), ('notre', 12), ('shaping', 12), ('divers', 12), ('midwest', 12), ('exits', 12), ('waterston', 12), ('illuminate', 12), ('tyne', 12), ('devote', 12), ('wrongs', 12), ('industries', 12), ('israelis', 12), ('cameroon', 12), ('improv', 12), ('lama', 12), ('interracial', 12), ('vampyres', 12), ('pleaser', 12), ('heartedly', 12), ('sonic', 12), ('shitty', 12), ('ideologies', 12), ('privacy', 12), ('directer', 12), ('woulda', 12), ('competence', 12), ('dork', 12), ('reliving', 12), ('uncharted', 12), ('credulity', 12), ('assailant', 12), ('dominican', 12), ('si', 12), ('shooters', 12), ('thorne', 12), ('reservoir', 12), ('choking', 12), ('exclaims', 12), ('selfless', 12), ('machismo', 12), ('headmistress', 12), ('aristocracy', 12), ('flats', 12), ('antonietta', 12), ('detracted', 12), ('erection', 12), ('femininity', 12), ('edna', 12), ('courting', 12), ('sensuous', 12), ('abysmally', 12), ('whitney', 12), ('wham', 12), ('reclaim', 12), ('reviving', 12), ('1912', 12), ('oj', 12), ('jars', 12), ('correction', 12), ('electrocution', 12), ('temp', 12), ('abbas', 12), ('interval', 12), ('anorexic', 12), ('unavoidable', 12), ('richest', 12), ('photogenic', 12), ('cavorting', 12), ('lingered', 12), ('characterisations', 12), ('minton', 12), ('kundry', 12), ('swapping', 12), ('cancels', 12), ('16th', 12), ('emphasizing', 12), ('fosters', 12), ('movie.it', 12), ('homophobia', 12), ('etcetera', 12), ('barbera', 12), ('regiment', 12), ('eduardo', 12), ('mavens', 12), ('paperback', 12), ('coveted', 12), ('hellish', 12), ('apropos', 12), ('.there', 12), ('godawful', 12), ('uriah', 12), ('oftentimes', 12), ('wackiness', 12), ('crossroads', 12), ('wrench', 12), ('haas', 12), ('injection', 12), ('stigma', 12), ('1900', 12), ('hsien', 12), ('rift', 12), ('telescope', 12), ('mcadam', 12), ('dewey', 12), ('healer', 12), ('grodin', 12), ('senile', 12), ('stroheim', 12), ('caller', 12), ('hussey', 12), ('trickery', 12), ('kittens', 12), ('panels', 12), ('montand', 12), ('misrepresentation', 12), ('lusty', 12), ('salma', 12), ('minuscule', 12), ('hogwash', 12), ('columbus', 12), ('thursday', 12), ('crackers', 12), ('borden', 12), ('staggeringly', 12), ('siegel', 12), ('watery', 12), ('squeezing', 12), ('rideau', 12), ('undoing', 12), ('projecting', 12), ('banderas', 12), ('cheney', 12), ('splashy', 12), ('woodhouse', 12), ('cathedral', 12), ('stewardesses', 12), ('implore', 12), ('cupid', 12), ('e.t', 12), ('temporal', 12), ('instruction', 12), ('percy', 12), ('underlings', 12), ('layout', 12), ('massimo', 12), ('reefer', 12), ('docu', 12), ('revisited', 12), ('dissolution', 12), ('37', 12), ('hanlon', 12), ('spew', 12), ('segues', 12), ('lucien', 12), ('accompaniment', 12), ('freeing', 12), ('pasts', 12), ('detect', 12), ('shiver', 12), ('karin', 12), ('whistle', 12), ('mara', 12), ('longed', 12), ('snare', 12), ('icky', 12), ('tutor', 12), ('orphans', 12), ('blasphemy', 12), ('clocks', 12), ('unmissable', 12), ('stew', 12), ('madam', 12), ('nihilistic', 12), ('quarry', 12), ('adoration', 12), ('impersonator', 12), ('blossomed', 12), ('puppetry', 12), ('captivity', 12), ('aghast', 12), ('talos', 12), ('binge', 12), ('genders', 12), ('jade', 12), ('birdie', 12), ('soften', 12), ('mcphillip', 12), ('presque', 12), ('magnificence', 12), ('leopard', 12), ('allusion', 12), ('curl', 12), ('outlines', 12), ('natures', 12), ('thatcher', 12), ('traders', 12), ('flaccid', 12), ('striptease', 12), ('baloney', 12), ('slavoj', 12), ('congregation', 12), ('dismisses', 12), ('emilia', 12), ('venomous', 12), ('mercedes', 12), ('rail', 12), ('minstrel', 12), ('clavier', 12), ('crucified', 12), ('drying', 12), ('morphed', 12), ('gushing', 12), ('conventionally', 12), ('walkers', 12), ('winfield', 12), ('3.99', 12), ('stevie', 12), ('weepy', 12), ('latinos', 12), ('crops', 12), ('mediums', 12), ('monopoly', 12), ('katharine', 12), ('righteousness', 12), ('rejecting', 12), ('baba', 12), ('scotty', 12), ('gears', 12), ('whoopie', 12), ('polarisdib', 12), ('rockers', 12), ('scorned', 12), ('soundstage', 12), ('undertaking', 12), ('benedict', 12), ('umeki', 12), ('gonzalez', 12), ('luger', 12), ('samson', 12), ('crawls', 12), ('classed', 12), ('vierde', 12), ('grasping', 12), ('balduin', 12), ('commission', 12), ('friel', 12), ('marquee', 12), ('closeness', 12), ('fiercely', 12), ('plagiarism', 12), ('moviegoer', 12), ('pavement', 12), ('strindberg', 12), ('gorshin', 12), ('newmar', 12), ('charmer', 12), ('evade', 12), ('jargon', 12), ('moh', 12), ('swarm', 12), ('underway', 12), ('urich', 12), ('riemann', 12), ('condom', 12), ('wed', 12), ('santiago', 12), ('snapping', 12), ('implanted', 12), ('cookies', 12), ('fetisov', 12), ('jab', 12), ('shoves', 12), ('slop', 12), ('fueled', 12), ('dushku', 12), ('himalayas', 12), ('rollin', 12), ('royston', 12), ('vasey', 12), ('salon', 12), ('discerning', 12), ('hula', 12), ('prominence', 12), ('bubbling', 12), ('resource', 12), ('compensation', 12), ('mic', 12), ('flailing', 12), ('lise', 12), ('vivacious', 12), ('grieve', 12), ('venantini', 12), ('decoy', 12), ('hecht', 12), ('uncensored', 12), ('loathed', 12), ('pj', 12), ('snippet', 12), ('moonlighting', 12), ('overload', 12), ('frolic', 12), ('ilias', 12), ('hypocrite', 12), ('alcatraz', 12), ('gawky', 12), ('lament', 12), ('bristol', 12), ('blunders', 12), ('unsuitable', 12), ('symbolically', 12), ('rubs', 12), ('babette', 12), ('vaccaro', 12), ('biopics', 12), ('headlight', 12), ('riget', 12), ('barefoot', 12), ('poonam', 12), ('amends', 12), ('spaced', 12), ('rudolf', 12), ('luggage', 12), ('proximity', 12), ('giorgio', 12), ('cin', 12), ('renditions', 12), ('extracts', 12), ('vans', 12), ('unflattering', 12), ('bowels', 12), ('upgrade', 12), ('horus', 12), ('teammates', 12), ('succinctly', 12), ('sofa', 12), ('terrors', 12), ('apollonia', 12), ('ismael', 12), ('killian', 12), ('entails', 12), ('mckee', 12), ('illustrating', 12), ('estelle', 12), ('afore', 12), ('aimee', 12), ('lassick', 12), ('smacking', 12), ('bouzaglo', 12), ('welcomes', 12), ('caton', 12), ('expansion', 12), ('pancakes', 12), ('surpassing', 12), ('shrinking', 12), ('likeness', 12), ('aryan', 12), ('unpredictability', 12), ('risible', 12), ('bikes', 12), ('nearing', 12), ('alphabet', 12), ('d.a', 12), ('incriminating', 12), ('sleek', 12), ('bradshaw', 12), ('marius', 12), ('tormentors', 12), ('succumb', 12), ('72', 12), ('skeet', 12), ('bitches', 12), ('upscale', 12), ('selleck', 12), ('chandu', 12), ('jody', 12), ('angus', 12), ('kureishi', 12), ('patchy', 12), ('slavic', 12), ('gabrielle', 12), ('grudgingly', 12), ('jasmine', 12), ('rejoice', 12), ('anselmo', 12), ('shrug', 12), ('selecting', 12), ('exteriors', 12), ('ministry', 12), ('wench', 12), ('precedes', 12), ('rhode', 12), ('1969.', 12), ('dysfunction', 12), ('charis', 12), ('bancroft', 12), ('chillingly', 12), ('avengers', 12), ('infinity', 12), ('jen', 12), ('cds', 12), ('lifes', 12), ('converse', 12), ('memento', 12), ('angrily', 12), ('moscow', 12), ('barrister', 12), ('henner', 12), ('cultists', 12), ('dismemberment', 12), ('dames', 12), ('srk', 12), ('teresa', 12), ('reptilian', 12), ('hijack', 12), ('baptists', 12), ('blandly', 12), ('offscreen', 12), ('sparked', 12), ('sponsor', 12), ('mindlessly', 12), ('incessantly', 12), ('strutting', 12), ('evangelist', 12), ('cl', 12), ('rohm', 12), ('adolph', 12), ('damning', 12), ('tylo', 12), ('axis', 12), ('sadie', 12), ('synthetic', 12), ('camilla', 12), ('aardman', 12), ('rippner', 12), ('discoveries', 12), ('1890', 12), ('wuthering', 12), ('plank', 12), ('rainn', 12), ('runt', 12), ('cacoyannis', 12), ('gallows', 12), ('ammo', 12), ('croatia', 12), ('sceneries', 12), ('lafitte', 12), ('caligari', 12), ('diablo', 12), ('decameron', 12), ('yeon', 12), ('teenaged', 12), ('remy', 12), ('gallico', 12), ('bischoff', 12), ('albuquerque', 12), ('lemercier', 12), ('comprises', 12), ('inconvenient', 12), ('spaceships', 12), ('pufnstuf', 12), ('macha', 12), ('kabuki', 12), ('tantrums', 11), ('judicious', 11), ('barf', 11), ('deadbeat', 11), ('syriana', 11), ('delinquents', 11), ('malle', 11), ('minnesota', 11), ('5000', 11), ('subscribe', 11), ('swinton', 11), ('quirkiness', 11), ('fav', 11), ('gorris', 11), ('reputations', 11), ('dumpster', 11), ('desmond', 11), ('prisons', 11), ('worships', 11), ('clipped', 11), ('tongues', 11), ('comparative', 11), ('sharpe', 11), ('cobbled', 11), ('bruhl', 11), ('intrus', 11), ('negotiate', 11), ('binks', 11), ('dragoon', 11), ('flapping', 11), ('deux', 11), ('swaying', 11), ('moulin', 11), ('moi', 11), ('davy', 11), ('fared', 11), ('furst', 11), ('heinlein', 11), ('testify', 11), ('stewardess', 11), ('reproduce', 11), ('translating', 11), ('nemec', 11), ('outdoes', 11), ('mcbride', 11), ('treatments', 11), ('surrealist', 11), ('restraining', 11), ('unwelcome', 11), ('unassuming', 11), ('syndicated', 11), ('infancy', 11), ('becker', 11), ('franciosa', 11), ('summersisle', 11), ('epiphany', 11), ('eisenhower', 11), ('umbrellas', 11), ('immersion', 11), ('elizondo', 11), ('shipment', 11), ('unpleasantness', 11), ('dudikoff', 11), ('ordinarily', 11), ('unsurpassed', 11), ('hallen', 11), ('dwellers', 11), ('reproduction', 11), ('patches', 11), ('panda', 11), ('sorted', 11), ('situational', 11), ('motivates', 11), ('galipeau', 11), ('fondling', 11), ('adverse', 11), ('royce', 11), ('fiber', 11), ('jaime', 11), ('fernandez', 11), ('weirdos', 11), ('hijacking', 11), ('objectivity', 11), ('kyser', 11), ('inconsistency', 11), ('legitimacy', 11), ('anachronisms', 11), ('imbecilic', 11), ('nunez', 11), ('clocking', 11), ('pei', 11), ('filing', 11), ('hammers', 11), ('cookbook', 11), ('chastity', 11), ('salaam', 11), ('marrow', 11), ('dichotomy', 11), ('employers', 11), ('faultless', 11), ('intertitles', 11), ('claws', 11), ('oddities', 11), ('tongued', 11), ('accommodate', 11), ('dalmations', 11), ('violating', 11), ('docile', 11), ('geronimo', 11), ('drank', 11), ('stamped', 11), ('arbuckle', 11), ('cod', 11), ('mcgrath', 11), ('animosity', 11), ('securing', 11), ('longevity', 11), ('sandwiches', 11), ('informing', 11), ('disagreement', 11), ('wired', 11), ('beset', 11), ('brag', 11), ('styling', 11), ('patter', 11), ('gentileschi', 11), ('transplants', 11), ('panel', 11), ('eisenberg', 11), ('mechanisms', 11), ('prologues', 11), ('grad', 11), ('skates', 11), ('roster', 11), ('paramour', 11), ('rendezvous', 11), ('dawns', 11), ('misstep', 11), ('unions', 11), ('jockey', 11), ('atul', 11), ('cuss', 11), ('depart', 11), ('prosthetics', 11), ('abridged', 11), ('fangs', 11), ('categorized', 11), ('subpar', 11), ('obscured', 11), ('bulls', 11), ('momma', 11), ('carver', 11), ('colorless', 11), ('compiled', 11), ('teases', 11), ('inflation', 11), ('cassette', 11), ('imprint', 11), ('honky', 11), ('stag', 11), ('pert', 11), ('brainwashing', 11), ('competitor', 11), ('adrenalin', 11), ('contemplative', 11), ('spunk', 11), ('gim', 11), ('morley', 11), ('tanaka', 11), ('deficiencies', 11), ('cutout', 11), ('cocktails', 11), ('destroyer', 11), ('bothersome', 11), ('mellow', 11), ('hodder', 11), ('cato', 11), ('promiscuity', 11), ('bled', 11), ('succumbed', 11), ('resting', 11), ('improbably', 11), ('pinch', 11), ('villainy', 11), ('dearest', 11), ('anecdotes', 11), ('blackout', 11), ('unforgiving', 11), ('conducts', 11), ('showings', 11), ('starkly', 11), ('snails', 11), ('oddness', 11), ('muck', 11), ('triggers', 11), ('defects', 11), ('bereft', 11), ('phenomenally', 11), ('instill', 11), ('gainsbourg', 11), ('wincing', 11), ('enslaved', 11), ('verbatim', 11), ('quiz', 11), ('stitzer', 11), ('fuels', 11), ('publication', 11), ('mccormack', 11), ('congrats', 11), ('regency', 11), ('prospects', 11), ('regent', 11), ('lew', 11), ('terence', 11), ('intervening', 11), ('muska', 11), ('blinking', 11), ('temperamental', 11), ('58', 11), ('undiscovered', 11), ('pander', 11), ('superstitious', 11), ('tread', 11), ('vartan', 11), ('marketplace', 11), ('tnt', 11), ('travelled', 11), ('bewildering', 11), ('workplace', 11), ('stench', 11), ('dreamgirls', 11), ('jolts', 11), ('determines', 11), ('rooftop', 11), ('priorities', 11), ('photographing', 11), ('stationed', 11), ('illnesses', 11), ('wishful', 11), ('searchers', 11), ('headline', 11), ('retriever', 11), ('dregs', 11), ('bernadette', 11), ('templar', 11), ('templars', 11), ('redone', 11), ('focal', 11), ('negotiation', 11), ('taft', 11), ('updating', 11), ('nugget', 11), ('dispense', 11), ('courses', 11), ('liliom', 11), ('carousel', 11), ('blanche', 11), ('mathematical', 11), ('robotech', 11), ('phobia', 11), ('yasmin', 11), ('despises', 11), ('roberta', 11), ('grungy', 11), ('kara', 11), ('perfunctory', 11), ('hur', 11), ('interfering', 11), ('iota', 11), ('cutie', 11), ('legitimately', 11), ('joyless', 11), ('summertime', 11), ('pratfalls', 11), ('bloodrayne', 11), ('investors', 11), ('07', 11), ('hideo', 11), ('bloopers', 11), ('territories', 11), ('foreman', 11), ('mesmerising', 11), ('spandex', 11), ('bendix', 11), ('irishman', 11), ('rationing', 11), ('hormones', 11), ('rebuilt', 11), ('proficient', 11), ('saxophone', 11), ('bombshell', 11), ('loos', 11), ('huns', 11), ('prescient', 11), ('lieu', 11), ('cheapness', 11), ('good.the', 11), ('adjusted', 11), ('petrified', 11), ('aficionados', 11), ('elmo', 11), ('romans', 11), ('contracted', 11), ('tandem', 11), ('geico', 11), ('journalistic', 11), ('nasal', 11), ('shear', 11), ('hypochondriac', 11), ('bewilderment', 11), ('pup', 11), ('perish', 11), ('steely', 11), ('snorting', 11), ('noose', 11), ('haiku', 11), ('fella', 11), ('nord', 11), ('tykwer', 11), ('amityville', 11), ('beleaguered', 11), ('scots', 11), ('tit', 11), ('uninterrupted', 11), ('perceives', 11), ('prelude', 11), ('overlapping', 11), ('container', 11), ('boyz', 11), ('editorial', 11), ('savor', 11), ('thinnes', 11), ('daly', 11), ('fetus', 11), ('jewison', 11), ('acquit', 11), ('drugstore', 11), ('bolan', 11), ('margin', 11), ('stripping', 11), ('ponderosa', 11), ('hoss', 11), ('nihilism', 11), ('smattering', 11), ('fluids', 11), ('bosnian', 11), ('presidency', 11), ('nazism', 11), ('helmets', 11), ('syndicate', 11), ('temptations', 11), ('bikinis', 11), ('soaring', 11), ('tentative', 11), ('02', 11), ('stroker', 11), ('viciously', 11), ('documenting', 11), ('upstate', 11), ('targeting', 11), ('headaches', 11), ('flights', 11), ('breakdancing', 11), ('possessions', 11), ('vicariously', 11), ('diplomatic', 11), ('interfere', 11), ('recomend', 11), ('pedestal', 11), ('1970.', 11), ('ringer', 11), ('commenters', 11), ('deviates', 11), ('chiles', 11), ('paychecks', 11), ('unprepared', 11), ('macgyver', 11), ('dabney', 11), ('beethoven', 11), ('nominate', 11), ('edel', 11), ('prim', 11), ('monarchy', 11), ('affectionately', 11), ('tremaine', 11), ('eisner', 11), ('besotted', 11), ('neighboring', 11), ('suggestions', 11), ('savagery', 11), ('tearful', 11), ('melted', 11), ('patronising', 11), ('complication', 11), ('evenly', 11), ('shuffling', 11), ('diatribe', 11), ('visage', 11), ('descend', 11), ('esai', 11), ('disapproving', 11), ('biograph', 11), ('dalai', 11), ('kundera', 11), ('pies', 11), ('stirs', 11), ('glitzy', 11), ('ppl', 11), ('roast', 11), ('nu', 11), ('speeded', 11), ('servo', 11), ('busty', 11), ('consume', 11), ('tract', 11), ('titillating', 11), ('blackmailing', 11), ('whisked', 11), ('sludge', 11), ('woken', 11), ('unobtrusive', 11), ('synthesis', 11), ('staunch', 11), ('nonchalantly', 11), ('confrontations', 11), ('kindred', 11), ('bimbos', 11), ('sued', 11), ('showbiz', 11), ('substances', 11), ('fascists', 11), ('heady', 11), ('keyes', 11), ('protesting', 11), ('rappers', 11), ('dueling', 11), ('connoisseur', 11), ('swimmer', 11), ('bidding', 11), ('kitt', 11), ('fiendish', 11), ('fiance', 11), ('smokey', 11), ('nba', 11), ('zenith', 11), ('grasshopper', 11), ('undeservedly', 11), ('beefcake', 11), ('spontaneity', 11), ('wincott', 11), ('loc', 11), ('girlish', 11), ('loft', 11), ('newborn', 11), ('trough', 11), ('crackling', 11), ('columnist', 11), ('organize', 11), ('bueller', 11), ('ishii', 11), ('mystified', 11), ('reworked', 11), ('workable', 11), ('retail', 11), ('interviewer', 11), ('torments', 11), ('batch', 11), ('mjh', 11), ('artillery', 11), ('spraying', 11), ('garry', 11), ('spiritually', 11), ('arsenal', 11), ('chasey', 11), ('outstandingly', 11), ('moose', 11), ('mano', 11), ('scrapes', 11), ('gaunt', 11), ('gateway', 11), ('mammy', 11), ('scholar', 11), ('nashville', 11), ('auditions', 11), ('arouse', 11), ('adverts', 11), ('resurgence', 11), ('montford', 11), ('theatrics', 11), ('internationally', 11), ('offending', 11), ('sorbonne', 11), ('spacecamp', 11), ('ravaged', 11), ('rehashed', 11), ('handicap', 11), ('cheetah', 11), ('brainy', 11), ('petite', 11), ('appleby', 11), ('cannavale', 11), ('gujarati', 11), ('prosaic', 11), ('ralphie', 11), ('skimmed', 11), ('pining', 11), ('piled', 11), ('proto', 11), ('tending', 11), ('noire', 11), ('yves', 11), ('biggie', 11), ('disgraced', 11), ('ulysses', 11), ('odious', 11), ('hardesty', 11), ('.............', 11), ('dismembered', 11), ('workmanlike', 11), ('figment', 11), ('creepers', 11), ('latina', 11), ('nz', 11), ('patched', 11), ('rosalba', 11), ('neri', 11), ('exaggerations', 11), ('mocks', 11), ('grates', 11), ('vaults', 11), ('duets', 11), ('blithe', 11), ('kabal', 11), ('tepper', 11), ('referential', 11), ('hermit', 11), ('comrade', 11), ('thursby', 11), ('backlash', 11), ('vodka', 11), ('fudge', 11), ('cady', 11), ('schmaltz', 11), ('isabella', 11), ('dumbfounded', 11), ('reuben', 11), ('libby', 11), ('pork', 11), ('perpetuates', 11), ('6.5', 11), ('spotty', 11), ('dorsey', 11), ('schwimmer', 11), ('unwavering', 11), ('collaborated', 11), ('truest', 11), ('savannah', 11), ('mod', 11), ('restrictive', 11), ('initiative', 11), ('rumour', 11), ('parasitic', 11), ('shanks', 11), ('babu', 11), ('foursome', 11), ('culled', 11), ('mani', 11), ('ferocious', 11), ('detestable', 11), ('virulent', 11), ('arrondissement', 11), ('catalina', 11), ('moreno', 11), ('seine', 11), ('nichole', 11), ('stimulation', 11), ('rockstar', 11), ('florinda', 11), ('retitled', 11), ('explorers', 11), ('ive', 11), ('punjabi', 11), ('humanism', 11), ('tehran', 11), ('colm', 11), ('crapfest', 11), ('tvm', 11), ('mindedness', 11), ('polemic', 11), ('sloppily', 11), ('recycling', 11), ('toons', 11), ('philips', 11), ('trooper', 11), ('leanings', 11), ('undercut', 11), ('empathetic', 11), ('antiquated', 11), ('cubans', 11), ('cara', 11), ('transfers', 11), ('milking', 11), ('rockies', 11), ('recommendations', 11), ('glacier', 11), ('critter', 11), ('labyrinthine', 11), ('betraying', 11), ('disturbance', 11), ('lifeboat', 11), ('osborne', 11), ('cruelly', 11), ('mmm', 11), ('cloying', 11), ('ifc', 11), ('silverstein', 11), ('imbued', 11), ('culturally', 11), ('lurches', 11), ('bachman', 11), ('impostor', 11), ('propel', 11), ('hues', 11), ('responding', 11), ('bogie', 11), ('brazen', 11), ('cultivated', 11), ('donated', 11), ('onward', 11), ('broom', 11), ('beatle', 11), ('nudie', 11), ('massacred', 11), ('overworked', 11), ('unwarranted', 11), ('steak', 11), ('preface', 11), ('coldly', 11), ('flanders', 11), ('francine', 11), ('taka', 11), ('languid', 11), ('garth', 11), ('eisenstein', 11), ('exhaustion', 11), ('hull', 11), ('jun', 11), ('unleashing', 11), ('highlands', 11), ('sweetin', 11), ('orphaned', 11), ('isaacs', 11), ('acerbic', 11), ('neurosis', 11), ('shep', 11), ('smoked', 11), ('pinup', 11), ('tics', 11), ('roshan', 11), ('indulging', 11), ('jaffa', 11), ('bows', 11), ('prosthetic', 11), ('patten', 11), ('cupboard', 11), ('roasted', 11), ('effected', 11), ('penthouse', 11), ('presidents', 11), ('realms', 11), ('groaning', 11), ('repartee', 11), ('ceilings', 11), ('intrinsically', 11), ('nunsploitation', 11), ('dang', 11), ('judson', 11), ('scumbag', 11), ('busta', 11), ('pedophilia', 11), ('gracia', 11), ('undress', 11), ('disowned', 11), ('ding', 11), ('dolores', 11), ('fastest', 11), ('trot', 11), ('horner', 11), ('daffy', 11), ('harrold', 11), ('soapdish', 11), ('alonso', 11), ('colombia', 11), ('recreates', 11), ('nauseum', 11), ('sagemiller', 11), ('nyqvist', 11), ('nosferatu', 11), ('anansa', 11), ('bloch', 11), ('inc', 11), ('whines', 11), ('scraping', 11), ('pyar', 11), ('barres', 11), ('gambit', 11), ('diminishing', 11), ('barbecue', 11), ('viennese', 11), ('smoky', 11), ('tmtm', 11), ('airwaves', 11), ('maddox', 11), ('casualties', 11), ('bulgaria', 11), ('abnormal', 11), ('gooey', 11), ('funhouse', 11), ('sado', 11), ('considerations', 11), ('taciturn', 11), ('minding', 11), ('alters', 11), ('markham', 11), ('fellowes', 11), ('horrifically', 11), ('dissect', 11), ('simulate', 11), ('dept', 11), ('confidant', 11), ('matron', 11), ('alok', 11), ('carton', 11), ('emraan', 11), ('2022', 11), ('stunted', 11), ('1.85', 11), ('1924', 11), ('unwashed', 11), ('pitying', 11), ('gundams', 11), ('chiefly', 11), ('transmission', 11), ('mortally', 11), ('donor', 11), ('smeared', 11), ('borel', 11), ('coms', 11), ('injustices', 11), ('eminent', 11), ('mainstay', 11), ('wrestle', 11), ('carlson', 11), ('sloan', 11), ('watergate', 11), ('empathise', 11), ('outcasts', 11), ('emile', 11), ('lexi', 11), ('blitz', 11), ('spat', 11), ('fetishes', 11), ('concur', 11), ('windsor', 11), ('embroiled', 11), ('gazes', 11), ('slowness', 11), ('scandals', 11), ('fertile', 11), ('fussy', 11), ('busts', 11), ('prediction', 11), ('zealous', 11), ('leaud', 11), ('skipper', 11), ('curt', 11), ('aviation', 11), ('illiteracy', 11), ('piling', 11), ('eytan', 11), ('frawley', 11), ('discloses', 11), ('embody', 11), ('sanitarium', 11), ('internally', 11), ('stormare', 11), ('toots', 11), ('transference', 11), ('forceful', 11), ('hahk', 11), ('properties', 11), ('faust', 11), ('militia', 11), ('tangent', 11), ('bolo', 11), ('molesting', 11), ('jour', 11), ('hiker', 11), ('heaving', 11), ('surgical', 11), ('aileen', 11), ('stresses', 11), ('heralded', 11), ('representations', 11), ('skye', 11), ('impenetrable', 11), ('slippers', 11), ('1990.', 11), ('greener', 11), ('rhino', 11), ('disclosed', 11), ('presently', 11), ('oasis', 11), ('straightheads', 11), ('stead', 11), ('ba', 11), ('forcibly', 11), ('bureaucrat', 11), ('owens', 11), ('orchid', 11), ('evangelion', 11), ('catered', 11), ('ami', 11), ('bb', 11), ('topper', 11), ('racket', 11), ('tomba', 11), ('shogunate', 11), ('goyokin', 11), ('voyeuristic', 11), ('randomness', 11), ('ascertain', 11), ('aluminium', 11), ('sjoman', 11), ('anarchy', 11), ('marlee', 11), ('stomp', 11), ('smarts', 11), ('mache', 11), ('floored', 11), ('substantive', 11), ('ditches', 11), ('meloni', 11), ('fatigue', 11), ('zp', 11), ('skid', 11), ('pretenses', 11), ('scent', 11), ('rey', 11), ('wilhelm', 11), ('wages', 11), ('completes', 11), ('endorsement', 11), ('serrault', 11), ('forlorn', 11), ('dorfman', 11), ('mayeda', 11), ('slipstream', 11), ('paces', 11), ('vessels', 11), ('rampling', 11), ('rios', 11), ('transferring', 11), ('portal', 11), ('birthplace', 11), ('dobson', 11), ('garam', 11), ('taoist', 11), ('noonan', 11), ('coups', 11), ('unimpressed', 11), ('stepin', 11), ('umbrella', 11), ('sternberg', 11), ('aficionado', 11), ('lok', 11), ('rawhide', 11), ('unbeatable', 11), ('exhibiting', 11), ('rf', 11), ('rajni', 11), ('sexo', 11), ('unisols', 11), ('duc', 11), ('snarling', 11), ('bartel', 11), ('marcello', 11), ('qi', 11), ('duran', 11), ('foibles', 11), ('joints', 11), ('heigl', 11), ('smiley', 11), ('hbk', 11), ('barricade', 11), ('hanka', 11), ('bazza', 11), ('filone', 11), ('rosarios', 11), ('starewicz', 11), ('frewer', 11), ('organised', 11), ('nandini', 11), ('caulfield', 11), ('capano', 11), ('fanshawe', 11), ('tetsur', 11), ('manu', 11), ('scrape', 10), ('walton', 10), ('insufferably', 10), ('reef', 10), ('goofball', 10), ('duplicated', 10), ('gft', 10), ('farming', 10), ('waterloo', 10), ('sarafina', 10), ('rigg', 10), ('institutions', 10), ('snobbery', 10), ('capitalists', 10), ('pointy', 10), ('escapade', 10), ('newbern', 10), ('seized', 10), ('misgivings', 10), ('levity', 10), ('swoon', 10), ('authentically', 10), ('crab', 10), ('slay', 10), ('bedside', 10), ('floundering', 10), ('panoramic', 10), ('au', 10), ('feedback', 10), ('mississippi', 10), ('excised', 10), ('hitman', 10), ('skippy', 10), ('melrose', 10), ('vil', 10), ('divert', 10), ('corin', 10), ('snag', 10), ('oversight', 10), ('3000.', 10), ('nauseatingly', 10), ('undertake', 10), ('sympathetically', 10), ('bribes', 10), ('hazard', 10), ('gantry', 10), ('untergang', 10), ('compact', 10), ('sxsw', 10), ('undistinguished', 10), ('raspy', 10), ('spiraling', 10), ('gleaming', 10), ('rutger', 10), ('rears', 10), ('tactical', 10), ('downloaded', 10), ('aneta', 10), ('ref', 10), ('circulation', 10), ('skerritt', 10), ('corp', 10), ('interviewees', 10), ('overstatement', 10), ('omnibus', 10), ('waxworks', 10), ('gallons', 10), ('requested', 10), ('lustig', 10), ('bankable', 10), ('stoners', 10), ('wordless', 10), ('insurmountable', 10), ('eels', 10), ('napalm', 10), ('spanky', 10), ('middleton', 10), ('wynn', 10), ('mags', 10), ('dw', 10), ('capitol', 10), ('transplanted', 10), ('offed', 10), ('sham', 10), ('eeriness', 10), ('buds', 10), ('contacted', 10), ('wachowski', 10), ('mantra', 10), ('fai', 10), ('buckle', 10), ('monogram', 10), ('scumbags', 10), ('halloran', 10), ('comebacks', 10), ('cringeworthy', 10), ('sponsors', 10), ('hungama', 10), ('revels', 10), ('condemnation', 10), ('rattling', 10), ('tart', 10), ('disliking', 10), ('narnia', 10), ('researchers', 10), ('cesspool', 10), ('fumbling', 10), ('objectionable', 10), ('darko', 10), ('film.the', 10), ('bloodied', 10), ('glorifying', 10), ('structures', 10), ('ruthlessness', 10), ('creditable', 10), ('indescribably', 10), ('loading', 10), ('bypass', 10), ('100,000', 10), ('reputed', 10), ('roars', 10), ('conjured', 10), ('swimsuit', 10), ('sennett', 10), ('predicaments', 10), ('sur', 10), ('disheveled', 10), ('slapdash', 10), ('crutch', 10), ('coronation', 10), ('gleeson', 10), ('clinging', 10), ('tirade', 10), ('flemish', 10), ('extremist', 10), ('belongings', 10), ('46', 10), ('characterised', 10), ('mercer', 10), ('jnr', 10), ('hingle', 10), ('midlife', 10), ('inexorably', 10), ('thesiger', 10), ('bios', 10), ('conjunction', 10), ('chemist', 10), ('recipient', 10), ('justine', 10), ('evers', 10), ('leroy', 10), ('letterman', 10), ('compounded', 10), ('rationale', 10), ('ks', 10), ('ceased', 10), ('oppose', 10), ('permits', 10), ('rebuild', 10), ('stimulate', 10), ('para', 10), ('gilmore', 10), ('forlani', 10), ('cloudy', 10), ('heavies', 10), ('separating', 10), ('greeting', 10), ('greets', 10), ('interchangeable', 10), ('boomer', 10), ('1972.', 10), ('koch', 10), ('updates', 10), ('sartain', 10), ('minimalistic', 10), ('feuding', 10), ('tights', 10), ('outweighs', 10), ('paradigm', 10), ('tabloids', 10), ('driscoll', 10), ('loyalist', 10), ('shohei', 10), ('sleepwalks', 10), ('grapes', 10), ('doone', 10), ('gosford', 10), ('escalates', 10), ('dimwit', 10), ('erstwhile', 10), ('pleading', 10), ('brokeback', 10), ('necrophilia', 10), ('deployed', 10), ('motorbike', 10), ('parkins', 10), ('tracing', 10), ('sato', 10), ('dominance', 10), ('warring', 10), ('sweethearts', 10), ('tapestry', 10), ('transporting', 10), ('shapely', 10), ('yiddish', 10), ('weighed', 10), ('uel', 10), ('omission', 10), ('puking', 10), ('molasses', 10), ('tet', 10), ('topher', 10), ('chauvinistic', 10), ('geriatric', 10), ('yokozuna', 10), ('santana', 10), ('uninformed', 10), ('structural', 10), ('sloppiness', 10), ('footnote', 10), ('thrashing', 10), ('pursuer', 10), ('disciples', 10), ('abounds', 10), ('proclaiming', 10), ('freezes', 10), ('restoring', 10), ('calvet', 10), ('randell', 10), ('regurgitated', 10), ('payroll', 10), ('panning', 10), ('opaque', 10), ('hallmarks', 10), ('alcoholics', 10), ('mcnamara', 10), ('decorations', 10), ('eludes', 10), ('constipated', 10), ('preconceptions', 10), ('caressing', 10), ('outwardly', 10), ('enactment', 10), ('verma', 10), ('satya', 10), ('lecter', 10), ('rarer', 10), ('apatow', 10), ('humanly', 10), ('morph', 10), ('dimly', 10), ('wuhl', 10), ('poked', 10), ('ankush', 10), ('auschwitz', 10), ('morocco', 10), ('tags', 10), ('boisterous', 10), ('swoop', 10), ('hisaishi', 10), ('strombel', 10), ('postmodern', 10), ('sidelines', 10), ('pandey', 10), ('fests', 10), ('ribbons', 10), ('hobbit', 10), ('mayfield', 10), ('inarritu', 10), ('incorrectly', 10), ('predicting', 10), ('koyaanisqatsi', 10), ('desserts', 10), ('limo', 10), ('decorative', 10), ('querette', 10), ('bail', 10), ('manfred', 10), ('submerged', 10), ('drago', 10), ('liars', 10), ('playhouse', 10), ('camper', 10), ('addy', 10), ('miniscule', 10), ('rodent', 10), ('outweigh', 10), ('quarterback', 10), ('hurried', 10), ('schoolers', 10), ('ummm', 10), ('favorably', 10), ('bubblegum', 10), ('scariness', 10), ('unfeeling', 10), ('beavis', 10), ('berryman', 10), ('antihero', 10), ('auteurs', 10), ('headless', 10), ('appliances', 10), ('detachment', 10), ('pasdar', 10), ('offing', 10), ('undergone', 10), ('assailants', 10), ('lovell', 10), ('abject', 10), ('expendable', 10), ('dogged', 10), ('prerequisite', 10), ('teleplay', 10), ('contractual', 10), ('bah', 10), ('credence', 10), ('strickland', 10), ('thighs', 10), ('resisted', 10), ('setups', 10), ('wool', 10), ('rosalie', 10), ('dyed', 10), ('frothy', 10), ('completion', 10), ('footing', 10), ('builder', 10), ('precinct', 10), ('sims', 10), ('generational', 10), ('dons', 10), ('swims', 10), ('balanchine', 10), ('plum', 10), ('cavalier', 10), ('trashes', 10), ('winningham', 10), ('catatonic', 10), ('hardworking', 10), ('meals', 10), ('crossover', 10), ('asses', 10), ('operated', 10), ('handheld', 10), ('broinowski', 10), ('determining', 10), ('devotee', 10), ('extermination', 10), ('goldfish', 10), ('winch', 10), ('sustains', 10), ('joyful', 10), ('lever', 10), ('buddhism', 10), ('billboard', 10), ('comprise', 10), ('huntley', 10), ('reuniting', 10), ('misinterpreted', 10), ('manifestation', 10), ('supplying', 10), ('thomson', 10), ('deconstruct', 10), ('tucked', 10), ('atkinson', 10), ('nearer', 10), ('overrun', 10), ('miz', 10), ('factions', 10), ('munsters', 10), ('tricking', 10), ('sicko', 10), ('sensationally', 10), ('rollicking', 10), ('crusader', 10), ('lynda', 10), ('biology', 10), ('bruised', 10), ('digested', 10), ('attest', 10), ('elections', 10), ('mein', 10), ('descriptive', 10), ('miniatures', 10), ('91', 10), ('melange', 10), ('billions', 10), ('1989.', 10), ('terminology', 10), ('sprung', 10), ('imperialist', 10), ('breakin', 10), ('proprietor', 10), ('nutcase', 10), ('therefor', 10), ('showman', 10), ('1.50', 10), ('dazzle', 10), ('radiates', 10), ('mariette', 10), ('evp', 10), ('30th', 10), ('continental', 10), ('simpleton', 10), ('overcame', 10), ('impassioned', 10), ('catchphrase', 10), ('yank', 10), ('psychoanalyst', 10), ('sauce', 10), ('o.c', 10), ('workaholic', 10), ('lydia', 10), ('dislikes', 10), ('soar', 10), ('wiz', 10), ('zechs', 10), ('liability', 10), ('blackmails', 10), ('2003.', 10), ('dutton', 10), ('gilberte', 10), ('equate', 10), ('coins', 10), ('looting', 10), ('rung', 10), ('philipps', 10), ('babs', 10), ('duels', 10), ('lobotomy', 10), ('impaired', 10), ('sorority', 10), ('kingpin', 10), ('92', 10), ('impediment', 10), ('unwisely', 10), ('unused', 10), ('pretended', 10), ('treads', 10), ('charter', 10), ('poised', 10), ('uncharacteristically', 10), ('makeshift', 10), ('guild', 10), ('chamberlains', 10), ('reside', 10), ('alimony', 10), ('pryce', 10), ('moniker', 10), ('petrol', 10), ('horne', 10), ('blacksnake', 10), ('dominatrix', 10), ('erin', 10), ('purportedly', 10), ('overpopulation', 10), ('reminders', 10), ('unrestrained', 10), ('pursuits', 10), ('anaconda', 10), ('masturbating', 10), ('neglecting', 10), ('raf', 10), ('monique', 10), ('cola', 10), ('signified', 10), ('intrepid', 10), ('mccallum', 10), ('endear', 10), ('documentation', 10), ('sikes', 10), ('ramifications', 10), ('manuel', 10), ('vittorio', 10), ('impulsive', 10), ('preparations', 10), ('streams', 10), ('acharya', 10), ('booed', 10), ('optical', 10), ('warburton', 10), ('comprehensible', 10), ('ennui', 10), ('hoop', 10), ('hickcock', 10), ('moot', 10), ('fatalism', 10), ('toenails', 10), ('seams', 10), ('festering', 10), ('dassin', 10), ('pageant', 10), ('satanists', 10), ('terrace', 10), ('dismally', 10), ('cart', 10), ('squid', 10), ('breakers', 10), ('scissors', 10), ('amsterdam', 10), ('inhibitions', 10), ('delinquent', 10), ('delving', 10), ('resonated', 10), ('warwick', 10), ('tinker', 10), ('jagged', 10), ('haver', 10), ('pitting', 10), ('inflections', 10), ('orbach', 10), ('facet', 10), ('resonant', 10), ('flix', 10), ('feces', 10), ('initiated', 10), ('mimes', 10), ('fallout', 10), ('weston', 10), ('mishap', 10), ('pertinent', 10), ('demure', 10), ('strangling', 10), ('suppressing', 10), ('dewaere', 10), ('miou', 10), ('missy', 10), ('tightened', 10), ('surfaces', 10), ('washes', 10), ('bulgarian', 10), ('trampled', 10), ('supervision', 10), ('defoe', 10), ('jindabyne', 10), ('poignantly', 10), ('ke', 10), ('blinding', 10), ('defenders', 10), ('feds', 10), ('onslaught', 10), ('bogs', 10), ('roulette', 10), ('malcom', 10), ('mcdowall', 10), ('thickens', 10), ('yearly', 10), ('cemented', 10), ('jonah', 10), ('ducktales', 10), ('wouldnt', 10), ('hairspray', 10), ('theoretical', 10), ('accounted', 10), ('rd', 10), ('ascension', 10), ('merging', 10), ('yi', 10), ('splashed', 10), ('weighty', 10), ('mai', 10), ('daggers', 10), ('banking', 10), ('bordered', 10), ('disregarded', 10), ('epitomized', 10), ('penetrate', 10), ('softer', 10), ('alda', 10), ('ageing', 10), ('jarvis', 10), ('suffocating', 10), ('lahr', 10), ('analog', 10), ('irascible', 10), ('incredulous', 10), ('38', 10), ('squadron', 10), ('jimmie', 10), ('lifshitz', 10), ('jeepers', 10), ('margo', 10), ('dessert', 10), ('patinkin', 10), ('clashing', 10), ('wreckage', 10), ('rhapsody', 10), ('1991.', 10), ('agamemnon', 10), ('fraudulent', 10), ('berth', 10), ('absurdities', 10), ('voicing', 10), ('levitt', 10), ('spews', 10), ('delinquency', 10), ('acknowledges', 10), ('cups', 10), ('ills', 10), ('earthy', 10), ('kapur', 10), ('probability', 10), ('wasp', 10), ('arse', 10), ('latham', 10), ('application', 10), ('hurriedly', 10), ('illegally', 10), ('compels', 10), ('sr', 10), ('runway', 10), ('ingenue', 10), ('ni', 10), ('lecturer', 10), ('plunge', 10), ('ceasar', 10), ('bowler', 10), ('gollum', 10), ('jinx', 10), ('accomplishments', 10), ('guarantees', 10), ('analyse', 10), ('promotes', 10), ('henstridge', 10), ('essex', 10), ('swill', 10), ('1925', 10), ('tiff', 10), ('cellphone', 10), ('loin', 10), ('balloons', 10), ('inxs', 10), ('bolkan', 10), ('gamblers', 10), ('correspondence', 10), ('scruffy', 10), ('omnipresent', 10), ('virile', 10), ('vd', 10), ('thumping', 10), ('fanboy', 10), ('jonathon', 10), ('binding', 10), ('throes', 10), ('abuses', 10), ('fps', 10), ('procedures', 10), ('defenseless', 10), ('denizens', 10), ('mortals', 10), ('disturbs', 10), ('motivating', 10), ('segregation', 10), ('thomerson', 10), ('waldo', 10), ('pestilence', 10), ('tamerlane', 10), ('yonica', 10), ('staggers', 10), ('labored', 10), ('spectre', 10), ('lillies', 10), ('effie', 10), ('introverted', 10), ('inhabiting', 10), ('fatalistic', 10), ('agitated', 10), ('bartram', 10), ('hearn', 10), ('caretakers', 10), ('ther', 10), ('vadar', 10), ('reluctance', 10), ('nabokov', 10), ('integration', 10), ('matriarch', 10), ('greendale', 10), ('fittingly', 10), ('mackendrick', 10), ('expectant', 10), ('quivering', 10), ('mirage', 10), ('deconstruction', 10), ('61', 10), ('unconditional', 10), ('walkin', 10), ('greenlight', 10), ('rosalind', 10), ('dun', 10), ('dogville', 10), ('palestine', 10), ('ism', 10), ('spills', 10), ('replays', 10), ('moralizing', 10), ('marble', 10), ('walthall', 10), ('cameramen', 10), ('muffled', 10), ('agape', 10), ('revolutions', 10), ('prizzi', 10), ('repay', 10), ('41', 10), ('trailing', 10), ('nouvelle', 10), ('kobayashi', 10), ('brevity', 10), ('riotous', 10), ('unending', 10), ('essayed', 10), ('addison', 10), ('abortions', 10), ('shetty', 10), ('venerable', 10), ('imitates', 10), ('buford', 10), ('kite', 10), ('acrobatic', 10), ('interface', 10), ('1916', 10), ('lowery', 10), ('53', 10), ('asshole', 10), ('unsentimental', 10), ('recital', 10), ('starlets', 10), ('intercontinental', 10), ('bynes', 10), ('sergei', 10), ('rafiki', 10), ('klara', 10), ('errand', 10), ('roofs', 10), ('resentful', 10), ('sociological', 10), ('niemann', 10), ('recounts', 10), ('signe', 10), ('craves', 10), ('synth', 10), ('satisfactorily', 10), ('recalling', 10), ('dtv', 10), ('neuroses', 10), ('paradox', 10), ('contemplation', 10), ('semitic', 10), ('lawson', 10), ('grapple', 10), ('verify', 10), ('ernesto', 10), ('joanne', 10), ('unneeded', 10), ('bolton', 10), ('exercises', 10), ('zeitgeist', 10), ('swarming', 10), ('undetected', 10), ('invasions', 10), ('ekin', 10), ('whiff', 10), ('lusts', 10), ('rad', 10), ('ri', 10), ('archetypes', 10), ('tatooine', 10), ('athens', 10), ('hemo', 10), ('thornway', 10), ('methodical', 10), ('fragility', 10), ('www.imdb.com', 10), ('milquetoast', 10), ('30.', 10), ('pinter', 10), ('rewritten', 10), ('oldies', 10), ('dissertation', 10), ('vigorous', 10), ('overdrive', 10), ('wrinkled', 10), ('ginty', 10), ('middling', 10), ('brimley', 10), ('afternoons', 10), ('57', 10), ('substantially', 10), ('aspiration', 10), ('spiteful', 10), ('expands', 10), ('spleen', 10), ('oedipal', 10), ('weakly', 10), ('streaming', 10), ('forensics', 10), ('underscored', 10)]\n",
            "Vocabulary size: 20000\n"
          ]
        }
      ],
      "source": [
        "# vocabulary\n",
        "from collections import Counter\n",
        "\n",
        "vocab = Counter()\n",
        "\n",
        "for text in token_data_train[\"text\"]:\n",
        "    vocab.update(text)\n",
        "\n",
        "# most common words\n",
        "most_common_words = vocab.most_common(20000)\n",
        "print(most_common_words)\n",
        "\n",
        "# vocab size\n",
        "vocabulary_size = len(most_common_words)\n",
        "num_embeddings = vocabulary_size + 2\n",
        "print(f\"Vocabulary size: {vocabulary_size}\")"
      ]
    },
    {
      "cell_type": "code",
      "execution_count": 577,
      "metadata": {},
      "outputs": [
        {
          "name": "stdout",
          "output_type": "stream",
          "text": [
            "                                                text  label\n",
            "0  [798, 4988, 301, 37, 15985, 38, 9, 45, 397, 47...      1\n",
            "1  [12, 843, 18, 257, 165, 389, 3, 257, 153, 512,...      1\n",
            "2  [12, 220, 13, 20, 532, 14, 10, 63, 31, 32, 7, ...      0\n",
            "3  [6, 1597, 5, 29, 241, 447, 28, 47, 1943, 56, 2...      0\n",
            "4  [12, 67, 792, 8, 41, 13, 20, 21, 11, 2, 133, 1...      0\n"
          ]
        }
      ],
      "source": [
        "# Define the vocabulary size based on the most common words\n",
        "vocabulary_size = 20000\n",
        "\n",
        "# Get the most common words up to the specified vocabulary size\n",
        "most_common_words = vocab.most_common(vocabulary_size)\n",
        "\n",
        "# Create word-to-index mapping with padding and unknown tokens\n",
        "word_to_index = {word: index + 2 for index, (word, count) in enumerate(most_common_words)}\n",
        "word_to_index[\"<PAD>\"] = 0\n",
        "word_to_index[\"<UNK>\"] = 1\n",
        "\n",
        "# Create index-to-word mapping\n",
        "index_to_word = {index: word for word, index in word_to_index.items()}\n",
        "index_to_word[0] = \"<PAD>\"\n",
        "index_to_word[1] = \"<UNK>\"\n",
        "\n",
        "# Define a function to encode text using the word-to-index mapping\n",
        "def encode_text(text):\n",
        "    return [word_to_index.get(word, 1) for word in text]\n",
        "\n",
        "# Apply the encoding function to the 'text' column of token_data_train and token_data_test\n",
        "token_data_train[\"text\"] = token_data_train[\"text\"].apply(encode_text)\n",
        "token_data_test[\"text\"] = token_data_test[\"text\"].apply(encode_text)\n",
        "\n",
        "# Display the modified token_data_train\n",
        "print(token_data_train.head())"
      ]
    },
    {
      "cell_type": "code",
      "execution_count": 578,
      "metadata": {},
      "outputs": [
        {
          "name": "stdout",
          "output_type": "stream",
          "text": [
            "Max length: 2699\n",
            "Mean length: 260\n",
            "Median length: 194\n"
          ]
        },
        {
          "data": {
            "text/html": [
              "<div>\n",
              "<style scoped>\n",
              "    .dataframe tbody tr th:only-of-type {\n",
              "        vertical-align: middle;\n",
              "    }\n",
              "\n",
              "    .dataframe tbody tr th {\n",
              "        vertical-align: top;\n",
              "    }\n",
              "\n",
              "    .dataframe thead th {\n",
              "        text-align: right;\n",
              "    }\n",
              "</style>\n",
              "<table border=\"1\" class=\"dataframe\">\n",
              "  <thead>\n",
              "    <tr style=\"text-align: right;\">\n",
              "      <th></th>\n",
              "      <th>text</th>\n",
              "      <th>label</th>\n",
              "    </tr>\n",
              "  </thead>\n",
              "  <tbody>\n",
              "    <tr>\n",
              "      <th>0</th>\n",
              "      <td>[798, 4988, 301, 37, 15985, 38, 9, 45, 397, 47...</td>\n",
              "      <td>1</td>\n",
              "    </tr>\n",
              "    <tr>\n",
              "      <th>1</th>\n",
              "      <td>[12, 843, 18, 257, 165, 389, 3, 257, 153, 512,...</td>\n",
              "      <td>1</td>\n",
              "    </tr>\n",
              "    <tr>\n",
              "      <th>2</th>\n",
              "      <td>[12, 220, 13, 20, 532, 14, 10, 63, 31, 32, 7, ...</td>\n",
              "      <td>0</td>\n",
              "    </tr>\n",
              "    <tr>\n",
              "      <th>3</th>\n",
              "      <td>[6, 1597, 5, 29, 241, 447, 28, 47, 1943, 56, 2...</td>\n",
              "      <td>0</td>\n",
              "    </tr>\n",
              "    <tr>\n",
              "      <th>4</th>\n",
              "      <td>[12, 67, 792, 8, 41, 13, 20, 21, 11, 2, 133, 1...</td>\n",
              "      <td>0</td>\n",
              "    </tr>\n",
              "  </tbody>\n",
              "</table>\n",
              "</div>"
            ],
            "text/plain": [
              "                                                text  label\n",
              "0  [798, 4988, 301, 37, 15985, 38, 9, 45, 397, 47...      1\n",
              "1  [12, 843, 18, 257, 165, 389, 3, 257, 153, 512,...      1\n",
              "2  [12, 220, 13, 20, 532, 14, 10, 63, 31, 32, 7, ...      0\n",
              "3  [6, 1597, 5, 29, 241, 447, 28, 47, 1943, 56, 2...      0\n",
              "4  [12, 67, 792, 8, 41, 13, 20, 21, 11, 2, 133, 1...      0"
            ]
          },
          "execution_count": 578,
          "metadata": {},
          "output_type": "execute_result"
        }
      ],
      "source": [
        "# padding\n",
        "\n",
        "text_max_length = np.max(token_data_train[\"text\"].apply(len))\n",
        "text_mean_length = int(np.mean(token_data_train[\"text\"].apply(len)))\n",
        "text_median_length = int(np.median(token_data_train[\"text\"].apply(len)))\n",
        "\n",
        "print(f\"Max length: {text_max_length}\")\n",
        "print(f\"Mean length: {text_mean_length}\")\n",
        "print(f\"Median length: {text_median_length}\")\n",
        "\n",
        "def pad_text(text, length):\n",
        "    return text[:length] if len(text) > length else text + [0] * (length - len(text))\n",
        "\n",
        "token_data_train[\"text\"] = token_data_train[\"text\"].apply(pad_text, length=text_median_length//4)\n",
        "token_data_test[\"text\"] = token_data_test[\"text\"].apply(pad_text, length=text_max_length)\n",
        "\n",
        "token_data_train.head()"
      ]
    },
    {
      "cell_type": "code",
      "execution_count": 579,
      "metadata": {},
      "outputs": [],
      "source": [
        "# create validation set\n",
        "\n",
        "validation_size = 0.2\n",
        "validation_samples = int(len(token_data_train) * validation_size)\n",
        "\n",
        "final_val = token_data_train[:validation_samples]\n",
        "final_train = token_data_train[validation_samples:]\n",
        "final_test = token_data_test"
      ]
    },
    {
      "cell_type": "code",
      "execution_count": 580,
      "metadata": {},
      "outputs": [
        {
          "data": {
            "text/html": [
              "<div>\n",
              "<style scoped>\n",
              "    .dataframe tbody tr th:only-of-type {\n",
              "        vertical-align: middle;\n",
              "    }\n",
              "\n",
              "    .dataframe tbody tr th {\n",
              "        vertical-align: top;\n",
              "    }\n",
              "\n",
              "    .dataframe thead th {\n",
              "        text-align: right;\n",
              "    }\n",
              "</style>\n",
              "<table border=\"1\" class=\"dataframe\">\n",
              "  <thead>\n",
              "    <tr style=\"text-align: right;\">\n",
              "      <th></th>\n",
              "      <th>text</th>\n",
              "      <th>label</th>\n",
              "    </tr>\n",
              "  </thead>\n",
              "  <tbody>\n",
              "    <tr>\n",
              "      <th>0</th>\n",
              "      <td>[1829, 5, 1829, 16, 32, 7, 12967, 4136, 15, 29...</td>\n",
              "      <td>1</td>\n",
              "    </tr>\n",
              "    <tr>\n",
              "      <th>1</th>\n",
              "      <td>[13, 22, 16, 546, 21, 2323, 5, 2, 116, 401, 1,...</td>\n",
              "      <td>0</td>\n",
              "    </tr>\n",
              "    <tr>\n",
              "      <th>2</th>\n",
              "      <td>[90, 8, 1578, 364, 9412, 81, 9, 6, 897, 22, 4,...</td>\n",
              "      <td>1</td>\n",
              "    </tr>\n",
              "    <tr>\n",
              "      <th>3</th>\n",
              "      <td>[1593, 5, 605, 3, 12, 118, 13, 20, 4, 17, 52, ...</td>\n",
              "      <td>1</td>\n",
              "    </tr>\n",
              "    <tr>\n",
              "      <th>4</th>\n",
              "      <td>[450, 24, 6, 528, 4845, 647, 36, 32, 59, 241, ...</td>\n",
              "      <td>0</td>\n",
              "    </tr>\n",
              "  </tbody>\n",
              "</table>\n",
              "</div>"
            ],
            "text/plain": [
              "                                                text  label\n",
              "0  [1829, 5, 1829, 16, 32, 7, 12967, 4136, 15, 29...      1\n",
              "1  [13, 22, 16, 546, 21, 2323, 5, 2, 116, 401, 1,...      0\n",
              "2  [90, 8, 1578, 364, 9412, 81, 9, 6, 897, 22, 4,...      1\n",
              "3  [1593, 5, 605, 3, 12, 118, 13, 20, 4, 17, 52, ...      1\n",
              "4  [450, 24, 6, 528, 4845, 647, 36, 32, 59, 241, ...      0"
            ]
          },
          "execution_count": 580,
          "metadata": {},
          "output_type": "execute_result"
        }
      ],
      "source": [
        "final_train.reset_index(drop=True, inplace=True)\n",
        "final_train.head()"
      ]
    },
    {
      "cell_type": "code",
      "execution_count": 581,
      "metadata": {},
      "outputs": [
        {
          "data": {
            "text/html": [
              "<div>\n",
              "<style scoped>\n",
              "    .dataframe tbody tr th:only-of-type {\n",
              "        vertical-align: middle;\n",
              "    }\n",
              "\n",
              "    .dataframe tbody tr th {\n",
              "        vertical-align: top;\n",
              "    }\n",
              "\n",
              "    .dataframe thead th {\n",
              "        text-align: right;\n",
              "    }\n",
              "</style>\n",
              "<table border=\"1\" class=\"dataframe\">\n",
              "  <thead>\n",
              "    <tr style=\"text-align: right;\">\n",
              "      <th></th>\n",
              "      <th>text</th>\n",
              "      <th>label</th>\n",
              "    </tr>\n",
              "  </thead>\n",
              "  <tbody>\n",
              "    <tr>\n",
              "      <th>0</th>\n",
              "      <td>[1829, 5, 1829, 16, 32, 7, 12967, 4136, 15, 29...</td>\n",
              "      <td>1</td>\n",
              "    </tr>\n",
              "    <tr>\n",
              "      <th>1</th>\n",
              "      <td>[13, 22, 16, 546, 21, 2323, 5, 2, 116, 401, 1,...</td>\n",
              "      <td>0</td>\n",
              "    </tr>\n",
              "    <tr>\n",
              "      <th>2</th>\n",
              "      <td>[90, 8, 1578, 364, 9412, 81, 9, 6, 897, 22, 4,...</td>\n",
              "      <td>1</td>\n",
              "    </tr>\n",
              "    <tr>\n",
              "      <th>3</th>\n",
              "      <td>[1593, 5, 605, 3, 12, 118, 13, 20, 4, 17, 52, ...</td>\n",
              "      <td>1</td>\n",
              "    </tr>\n",
              "    <tr>\n",
              "      <th>4</th>\n",
              "      <td>[450, 24, 6, 528, 4845, 647, 36, 32, 59, 241, ...</td>\n",
              "      <td>0</td>\n",
              "    </tr>\n",
              "    <tr>\n",
              "      <th>...</th>\n",
              "      <td>...</td>\n",
              "      <td>...</td>\n",
              "    </tr>\n",
              "    <tr>\n",
              "      <th>19995</th>\n",
              "      <td>[799, 3, 26, 53, 4, 10, 511, 47, 222, 3, 21, 1...</td>\n",
              "      <td>0</td>\n",
              "    </tr>\n",
              "    <tr>\n",
              "      <th>19996</th>\n",
              "      <td>[13, 9, 6, 924, 20, 18, 351, 450, 24, 2, 14405...</td>\n",
              "      <td>1</td>\n",
              "    </tr>\n",
              "    <tr>\n",
              "      <th>19997</th>\n",
              "      <td>[17321, 15580, 169, 11861, 1209, 3, 5, 6597, 1...</td>\n",
              "      <td>0</td>\n",
              "    </tr>\n",
              "    <tr>\n",
              "      <th>19998</th>\n",
              "      <td>[50, 123, 1295, 160, 2871, 8608, 68, 11, 1757,...</td>\n",
              "      <td>0</td>\n",
              "    </tr>\n",
              "    <tr>\n",
              "      <th>19999</th>\n",
              "      <td>[1252, 2062, 17436, 5, 3730, 8433, 4853, 28, 4...</td>\n",
              "      <td>0</td>\n",
              "    </tr>\n",
              "  </tbody>\n",
              "</table>\n",
              "<p>20000 rows × 2 columns</p>\n",
              "</div>"
            ],
            "text/plain": [
              "                                                    text  label\n",
              "0      [1829, 5, 1829, 16, 32, 7, 12967, 4136, 15, 29...      1\n",
              "1      [13, 22, 16, 546, 21, 2323, 5, 2, 116, 401, 1,...      0\n",
              "2      [90, 8, 1578, 364, 9412, 81, 9, 6, 897, 22, 4,...      1\n",
              "3      [1593, 5, 605, 3, 12, 118, 13, 20, 4, 17, 52, ...      1\n",
              "4      [450, 24, 6, 528, 4845, 647, 36, 32, 59, 241, ...      0\n",
              "...                                                  ...    ...\n",
              "19995  [799, 3, 26, 53, 4, 10, 511, 47, 222, 3, 21, 1...      0\n",
              "19996  [13, 9, 6, 924, 20, 18, 351, 450, 24, 2, 14405...      1\n",
              "19997  [17321, 15580, 169, 11861, 1209, 3, 5, 6597, 1...      0\n",
              "19998  [50, 123, 1295, 160, 2871, 8608, 68, 11, 1757,...      0\n",
              "19999  [1252, 2062, 17436, 5, 3730, 8433, 4853, 28, 4...      0\n",
              "\n",
              "[20000 rows x 2 columns]"
            ]
          },
          "execution_count": 581,
          "metadata": {},
          "output_type": "execute_result"
        }
      ],
      "source": [
        "final_train"
      ]
    },
    {
      "cell_type": "markdown",
      "metadata": {
        "id": "JiZfjScb6NVK"
      },
      "source": [
        " Por motivos de costo computacional y tiempo de entrenamiento, para la tarea pueden considerar una proporción del dataset,  por ejemplo el 10%. Pero tenga en consideración que si el tamaño del dataset es muy pequeño el rendimiento del modelo se verá afectado negativamente."
      ]
    },
    {
      "cell_type": "code",
      "execution_count": 582,
      "metadata": {},
      "outputs": [
        {
          "name": "stdout",
          "output_type": "stream",
          "text": [
            "Training set has 20000 instances\n",
            "Validation set has 5000 instances\n",
            "Test set has 25000 instances\n"
          ]
        }
      ],
      "source": [
        "# PyTorch datasets\n",
        "\n",
        "from torch.utils.data import Dataset\n",
        "\n",
        "class IMDBDataset(Dataset):\n",
        "    def __init__(self, data):\n",
        "        self.data = data\n",
        "\n",
        "    def __len__(self):\n",
        "        return len(self.data)\n",
        "\n",
        "    def __getitem__(self, index):\n",
        "        return torch.tensor(self.data[\"text\"][index]), torch.tensor(self.data[\"label\"][index])\n",
        "    \n",
        "train_dataset = IMDBDataset(final_train)\n",
        "val_dataset = IMDBDataset(final_val)\n",
        "test_dataset = IMDBDataset(final_test)\n",
        "\n",
        "# Report split sizes\n",
        "print('Training set has {} instances'.format(len(final_train)))\n",
        "print('Validation set has {} instances'.format(len(final_val)))\n",
        "print('Test set has {} instances'.format(len(final_test)))\n",
        "\n",
        "# PyTorch dataloaders\n",
        "\n",
        "batch_size = 128\n",
        "\n",
        "train_dataloader = DataLoader(train_dataset, batch_size=batch_size, shuffle=True)\n",
        "val_dataloader = DataLoader(val_dataset, batch_size=batch_size, shuffle=False)\n",
        "test_dataloader = DataLoader(test_dataset, batch_size=batch_size, shuffle=False)"
      ]
    },
    {
      "cell_type": "code",
      "execution_count": 583,
      "metadata": {
        "id": "DbI16rWa8wK0"
      },
      "outputs": [],
      "source": [
        "# # NO\n",
        "\n",
        "# import random\n",
        "\n",
        "# # percentage\n",
        "# ratio = 0.5\n",
        "# dataset_size = len(token_data_train)\n",
        "# train_size = int(dataset_size * ratio * 0.8)\n",
        "# val_size = int(dataset_size * ratio * 0.2)\n",
        "# test_size = int(dataset_size * ratio)\n",
        "\n",
        "# train_subset = Subset(token_data_train, np.arange(0, train_size))\n",
        "# val_subset = Subset(token_data_train, np.arange(train_size, train_size + val_size))\n",
        "# test_subset = Subset(token_data_test, np.arange(test_size))"
      ]
    },
    {
      "cell_type": "markdown",
      "metadata": {
        "id": "LhEh8zbM2vxM"
      },
      "source": [
        "## Parte 1: Redes Neuronales Recurrentes (RNNs)"
      ]
    },
    {
      "cell_type": "markdown",
      "metadata": {
        "id": "oSf7H0fJ28Fx"
      },
      "source": [
        "### Actividad 1\n",
        "\n",
        "Responda las siguientes preguntas:\n",
        "\n",
        "\n",
        "*   ¿Cuáles son las principales características de las redes neuronales recurrentes?\n",
        "\n",
        "    **Respuesta:** Las redes neuronales recurrentes, como su nombre indica, poseen conexiones recurrentes\n",
        "    lo que permite que la red mantenga una memoria de los datos que ha procesado previamente,\n",
        "    de forma que el _output_ en un estado particual esta influenciado no solo por su _input_ actual\n",
        "    sino también por los _inputs_ previos.\n",
        "    \n",
        "    Las RNN tienen la capacidad de recibir _inputs_ de longitud variable y producir _outputs_ de longitud variable.\n",
        "\n",
        "*   ¿Cuáles son las desventajas y limitaciones de las redes RNNs?\n",
        "\n",
        "    **Respuesta:** Las RNNs sufren del problema de desvanecimiento y explosión del gradiente, lo que\n",
        "    dificulta el entrenamiento de la red. Además, las RNNs tienen dificultades para mantener\n",
        "    la memoria a largo plazo, lo que limita su capacidad para recordar información relevante\n",
        "    de _inputs_ muy antiguos. Por el contrario, las RNNs también tienen problemas para olvidar\n",
        "    información irrelevantes de _inputs_ recientes que no son relevantes para el _output_.\n",
        "\n",
        "*   Menciona y describa brevemente al menos dos variantes a la arquitectura de RNNs simples.\n",
        "\n",
        "    **Respuesta:** LSTM: Las redes LSTM (Long Short-Term Memory) son una variante de las RNNs que\n",
        "    intentan solucionar el problema de la memoria a largo plazo. Las LSTM poseen una estructura\n",
        "    más compleja que las RNNs tradicionales, con una estructura de celdas que permiten mantener\n",
        "    la memoria a largo plazo y olvidar información irrelevante.\n",
        "\n",
        "    GRU: Las redes GRU (Gated Recurrent Unit) son una variante de las RNNs que intentan simplificar\n",
        "    la estructura de las LSTM, eliminando la estructura de celdas y manteniendo solo las puertas\n",
        "    de olvido y actualización. Las GRU son más simples que las LSTM y tienen menos parámetros,\n",
        "    lo que las hace más fáciles de entrenar y menos propensas al sobreajuste.\n",
        "\n",
        "    Modelos de atención: Los modelos de atención son una variante de las RNNs que permiten\n",
        "    que la red se enfoque en partes específicas de la secuencia de _inputs_ para generar el _output_,\n",
        "    asignando pesos a los _inputs_ en vez de asignar el mismo peso a todos los _inputs_ como lo hacen\n",
        "    las RNNs tradicionales. "
      ]
    },
    {
      "cell_type": "markdown",
      "metadata": {
        "id": "9pjPJJdf3y0A"
      },
      "source": [
        "### Actividad 2"
      ]
    },
    {
      "cell_type": "markdown",
      "metadata": {
        "id": "bEUbMK7O3dhT"
      },
      "source": [
        "Implemente una red RNN simple y realice su entrenamiento con el dataset preprocesado. Para el pre-procesamiento use el método de la Actividad 1.\n",
        "\n",
        "La siguiente celda contiene el esqueleto de la red. Puede usarlo como referencia para su implementación o realizar una propia."
      ]
    },
    {
      "cell_type": "code",
      "execution_count": 584,
      "metadata": {
        "id": "q3F8hVtS400m"
      },
      "outputs": [],
      "source": [
        "class SimpleRNN(nn.Module):\n",
        "    def __init__(self, vocab_size, embedding_size, hidden_size, output_size, dropout=0.2):\n",
        "        super(SimpleRNN, self).__init__()\n",
        "        \n",
        "        self.hidden_size = hidden_size\n",
        "\n",
        "        self.embedding = nn.Embedding(vocab_size, embedding_size)\n",
        "        self.rnn = nn.RNN(embedding_size, hidden_size, batch_first=True, nonlinearity='relu', dropout=dropout)\n",
        "        self.fc = nn.Linear(hidden_size, output_size)\n",
        "\n",
        "    def forward(self, x):\n",
        "        # Embedding\n",
        "        x = self.embedding(x)\n",
        "        \n",
        "        # RNN\n",
        "        out, hidden = self.rnn(x)\n",
        "        \n",
        "        out = self.fc(out[:, -1, :])\n",
        "        \n",
        "        return out"
      ]
    },
    {
      "cell_type": "code",
      "execution_count": 585,
      "metadata": {},
      "outputs": [
        {
          "name": "stderr",
          "output_type": "stream",
          "text": [
            "c:\\Users\\Bruno\\AppData\\Local\\Programs\\Python\\Python311\\Lib\\site-packages\\torch\\nn\\modules\\rnn.py:83: UserWarning: dropout option adds dropout after all but last recurrent layer, so non-zero dropout expects num_layers greater than 1, but got dropout=0.2 and num_layers=1\n",
            "  warnings.warn(\"dropout option adds dropout after all but last \"\n"
          ]
        }
      ],
      "source": [
        "simple_model = SimpleRNN(num_embeddings, 128, 128, 1, dropout=0.2)"
      ]
    },
    {
      "cell_type": "code",
      "execution_count": 586,
      "metadata": {},
      "outputs": [],
      "source": [
        "criterion = nn.BCEWithLogitsLoss()\n",
        "lr = 0.005\n",
        "optimizer = torch.optim.Adam(simple_model.parameters(), lr=lr)"
      ]
    },
    {
      "cell_type": "code",
      "execution_count": 587,
      "metadata": {},
      "outputs": [
        {
          "data": {
            "text/plain": [
              "SimpleRNN(\n",
              "  (embedding): Embedding(20002, 128)\n",
              "  (rnn): RNN(128, 128, batch_first=True, dropout=0.2)\n",
              "  (fc): Linear(in_features=128, out_features=1, bias=True)\n",
              ")"
            ]
          },
          "execution_count": 587,
          "metadata": {},
          "output_type": "execute_result"
        }
      ],
      "source": [
        "device = torch.device(\"cuda\" if torch.cuda.is_available() else \"cpu\")\n",
        "simple_model.to(device)"
      ]
    },
    {
      "cell_type": "code",
      "execution_count": 588,
      "metadata": {
        "id": "i225hEe2IfIG"
      },
      "outputs": [],
      "source": [
        "def train(num_epochs, model, criterion, optimizer, train_dataloader, val_dataloader):\n",
        "    losses = []\n",
        "    val_losses = []\n",
        "    for epoch in range(num_epochs):\n",
        "        model.train()\n",
        "        for i, (texts, labels) in enumerate(tqdm(train_dataloader)):\n",
        "            if torch.isnan(texts).any() or torch.isinf(texts).any():\n",
        "                print(f\"Found NaN or inf in texts at iteration {i}\")\n",
        "            if torch.isnan(labels).any() or torch.isinf(labels).any():\n",
        "                print(f\"Found NaN or inf in labels at iteration {i}\")\n",
        "            if (texts >= num_embeddings).any():\n",
        "                print(f\"Found out-of-range values in texts at iteration {i}\")\n",
        "            texts = texts.to(device)\n",
        "            labels = labels.to(device)\n",
        "\n",
        "            optimizer.zero_grad()\n",
        "\n",
        "            output = model(texts)\n",
        "            # print(output)\n",
        "            output = output.squeeze()  # Remove the extra dimension from the output\n",
        "            # print(output, labels.float())\n",
        "\n",
        "            loss = criterion(output, labels.float())  # Compute the loss\n",
        "            loss.backward()\n",
        "            nn.utils.clip_grad_norm_(model.parameters(), max_norm=1.0)  # Apply gradient clipping\n",
        "            optimizer.step()\n",
        "\n",
        "        losses.append(loss.item())\n",
        "        print('Epoch [{}/{}], Loss: {:.4f}'.format(epoch+1, num_epochs, loss.item()))\n",
        "\n",
        "        model.eval()\n",
        "\n",
        "        with torch.no_grad():\n",
        "            for i, (texts, labels) in enumerate(tqdm(val_dataloader)):\n",
        "                texts = texts.to(device)\n",
        "                labels = labels.to(device)\n",
        "\n",
        "                output = model(texts)\n",
        "                output = output.squeeze()\n",
        "\n",
        "                val_loss = criterion(output, labels.float())\n",
        "\n",
        "        val_losses.append(val_loss.item())\n",
        "        print('Epoch [{}/{}], Validation Loss: {:.4f}'.format(epoch+1, num_epochs, val_loss.item()))\n",
        "\n",
        "    return (losses, val_losses)"
      ]
    },
    {
      "cell_type": "code",
      "execution_count": 589,
      "metadata": {},
      "outputs": [
        {
          "name": "stderr",
          "output_type": "stream",
          "text": [
            "100%|██████████| 157/157 [00:01<00:00, 108.28it/s]\n"
          ]
        },
        {
          "name": "stdout",
          "output_type": "stream",
          "text": [
            "Epoch [1/5], Loss: 0.6977\n"
          ]
        },
        {
          "name": "stderr",
          "output_type": "stream",
          "text": [
            "100%|██████████| 40/40 [00:00<00:00, 263.16it/s]\n"
          ]
        },
        {
          "name": "stdout",
          "output_type": "stream",
          "text": [
            "Epoch [1/5], Validation Loss: 0.6402\n"
          ]
        },
        {
          "name": "stderr",
          "output_type": "stream",
          "text": [
            "100%|██████████| 157/157 [00:01<00:00, 121.80it/s]\n"
          ]
        },
        {
          "name": "stdout",
          "output_type": "stream",
          "text": [
            "Epoch [2/5], Loss: 0.6578\n"
          ]
        },
        {
          "name": "stderr",
          "output_type": "stream",
          "text": [
            "100%|██████████| 40/40 [00:00<00:00, 240.97it/s]\n"
          ]
        },
        {
          "name": "stdout",
          "output_type": "stream",
          "text": [
            "Epoch [2/5], Validation Loss: 0.7384\n"
          ]
        },
        {
          "name": "stderr",
          "output_type": "stream",
          "text": [
            "100%|██████████| 157/157 [00:01<00:00, 112.62it/s]\n"
          ]
        },
        {
          "name": "stdout",
          "output_type": "stream",
          "text": [
            "Epoch [3/5], Loss: 0.8317\n"
          ]
        },
        {
          "name": "stderr",
          "output_type": "stream",
          "text": [
            "100%|██████████| 40/40 [00:00<00:00, 236.69it/s]\n"
          ]
        },
        {
          "name": "stdout",
          "output_type": "stream",
          "text": [
            "Epoch [3/5], Validation Loss: 0.8025\n"
          ]
        },
        {
          "name": "stderr",
          "output_type": "stream",
          "text": [
            "100%|██████████| 157/157 [00:01<00:00, 109.33it/s]\n"
          ]
        },
        {
          "name": "stdout",
          "output_type": "stream",
          "text": [
            "Epoch [4/5], Loss: 0.3405\n"
          ]
        },
        {
          "name": "stderr",
          "output_type": "stream",
          "text": [
            "100%|██████████| 40/40 [00:00<00:00, 229.89it/s]\n"
          ]
        },
        {
          "name": "stdout",
          "output_type": "stream",
          "text": [
            "Epoch [4/5], Validation Loss: 0.8614\n"
          ]
        },
        {
          "name": "stderr",
          "output_type": "stream",
          "text": [
            "100%|██████████| 157/157 [00:01<00:00, 107.24it/s]\n"
          ]
        },
        {
          "name": "stdout",
          "output_type": "stream",
          "text": [
            "Epoch [5/5], Loss: 0.5101\n"
          ]
        },
        {
          "name": "stderr",
          "output_type": "stream",
          "text": [
            "100%|██████████| 40/40 [00:00<00:00, 229.89it/s]"
          ]
        },
        {
          "name": "stdout",
          "output_type": "stream",
          "text": [
            "Epoch [5/5], Validation Loss: 0.8321\n"
          ]
        },
        {
          "name": "stderr",
          "output_type": "stream",
          "text": [
            "\n"
          ]
        }
      ],
      "source": [
        "losses, val_losses = train(5, simple_model, criterion, optimizer, train_dataloader, val_dataloader)"
      ]
    },
    {
      "cell_type": "code",
      "execution_count": 594,
      "metadata": {},
      "outputs": [],
      "source": [
        "# PATH = './simple_rnn.pth'\n",
        "# torch.save(simple_model.state_dict(), PATH)"
      ]
    },
    {
      "cell_type": "code",
      "execution_count": 591,
      "metadata": {},
      "outputs": [],
      "source": [
        "# PATH = './simple_rnn.pth'\n",
        "# simple_model = SimpleRNN(num_embeddings, 128, 128, 1)\n",
        "# simple_model.load_state_dict(torch.load(PATH))\n",
        "# simple_model.to(device)"
      ]
    },
    {
      "cell_type": "code",
      "execution_count": 592,
      "metadata": {},
      "outputs": [
        {
          "data": {
            "image/png": "[encoded data removed]",
            "text/plain": [
              "<Figure size 640x480 with 1 Axes>"
            ]
          },
          "metadata": {},
          "output_type": "display_data"
        }
      ],
      "source": [
        "# plot losses\n",
        "\n",
        "def plot(losses, val_losses):\n",
        "\n",
        "    plt.plot(losses, label=\"Training loss\")\n",
        "    plt.plot(val_losses, label=\"Validation loss\")\n",
        "    plt.legend()\n",
        "\n",
        "    plt.xlabel(\"Iteration\")\n",
        "    plt.ylabel(\"Validation Loss\")\n",
        "\n",
        "    plt.show()\n",
        "\n",
        "plot(losses, val_losses)"
      ]
    },
    {
      "cell_type": "code",
      "execution_count": 593,
      "metadata": {},
      "outputs": [
        {
          "name": "stderr",
          "output_type": "stream",
          "text": [
            "100%|██████████| 196/196 [00:13<00:00, 14.99it/s]"
          ]
        },
        {
          "name": "stdout",
          "output_type": "stream",
          "text": [
            "Test accuracy: 73.96%\n"
          ]
        },
        {
          "name": "stderr",
          "output_type": "stream",
          "text": [
            "\n"
          ]
        }
      ],
      "source": [
        "# Test accuracy\n",
        "\n",
        "def test(model, dataloader):\n",
        "\n",
        "    model.eval()\n",
        "\n",
        "    correct = 0\n",
        "    total = 0\n",
        "\n",
        "    with torch.no_grad():\n",
        "        for texts, labels in tqdm(dataloader):\n",
        "            texts = texts.to(device)\n",
        "            labels = labels.to(device)\n",
        "\n",
        "            output = model(texts)\n",
        "            output = output.squeeze()\n",
        "\n",
        "            predictions = torch.round(torch.sigmoid(output))\n",
        "\n",
        "            total += labels.size(0)\n",
        "            correct += (predictions == labels).sum().item()\n",
        "\n",
        "    accuracy = correct / total\n",
        "    print(f\"Test accuracy: {accuracy * 100:.2f}%\")\n",
        "\n",
        "test(simple_model, test_dataloader)"
      ]
    },
    {
      "cell_type": "markdown",
      "metadata": {
        "id": "n-kcy4Gx-0Y2"
      },
      "source": [
        "### Actividad 3"
      ]
    },
    {
      "cell_type": "markdown",
      "metadata": {
        "id": "IMUylUH1v0hk"
      },
      "source": [
        "Implemente una red variante al RNN clásico, como un LSTM, GRU, Bi-LSTM, entre otros. Realice el entrenamiento del modelo con el mismo dataset. Realice un breve análisis sobre las diferencias en términos de los resultados, tiempo de ejecución y aspectos que le parezcan relevantes, entre la red implementada en la actividad previa y la red implementada en esta actividad."
      ]
    },
    {
      "cell_type": "code",
      "execution_count": 595,
      "metadata": {
        "id": "c4Y0ojxFwDxu"
      },
      "outputs": [],
      "source": [
        "class VariantRNN(nn.Module):\n",
        "    def __init__(self, vocab_size, embedding_size, hidden_size, output_size, dropout=0.2):\n",
        "        super(VariantRNN, self).__init__()\n",
        "        \n",
        "        self.hidden_size = hidden_size\n",
        "\n",
        "        self.embedding = nn.Embedding(vocab_size, embedding_size)\n",
        "        self.rnn = nn.LSTM(embedding_size, hidden_size, batch_first=True, num_layers=2, dropout=dropout)\n",
        "        self.fc = nn.Linear(hidden_size, output_size)\n",
        "\n",
        "    def forward(self, x):\n",
        "        # Embedding\n",
        "        x = self.embedding(x)\n",
        "        \n",
        "        # RNN\n",
        "        out, (hidden, cell) = self.rnn(x)\n",
        "        \n",
        "        out = self.fc(out[:, -1, :])\n",
        "        \n",
        "        return out"
      ]
    },
    {
      "cell_type": "code",
      "execution_count": 596,
      "metadata": {
        "id": "ABNxy3P8IiZ3"
      },
      "outputs": [
        {
          "data": {
            "text/plain": [
              "VariantRNN(\n",
              "  (embedding): Embedding(20002, 128)\n",
              "  (rnn): LSTM(128, 128, num_layers=2, batch_first=True, dropout=0.2)\n",
              "  (fc): Linear(in_features=128, out_features=1, bias=True)\n",
              ")"
            ]
          },
          "execution_count": 596,
          "metadata": {},
          "output_type": "execute_result"
        }
      ],
      "source": [
        "variant_model = VariantRNN(num_embeddings, 128, 128, 1, dropout=0.2)\n",
        "variant_model.to(device)"
      ]
    },
    {
      "cell_type": "code",
      "execution_count": 597,
      "metadata": {},
      "outputs": [
        {
          "name": "stderr",
          "output_type": "stream",
          "text": [
            "100%|██████████| 157/157 [00:01<00:00, 93.06it/s]\n"
          ]
        },
        {
          "name": "stdout",
          "output_type": "stream",
          "text": [
            "Epoch [1/5], Loss: 0.6952\n"
          ]
        },
        {
          "name": "stderr",
          "output_type": "stream",
          "text": [
            "100%|██████████| 40/40 [00:00<00:00, 202.02it/s]\n"
          ]
        },
        {
          "name": "stdout",
          "output_type": "stream",
          "text": [
            "Epoch [1/5], Validation Loss: 0.6863\n"
          ]
        },
        {
          "name": "stderr",
          "output_type": "stream",
          "text": [
            "100%|██████████| 157/157 [00:01<00:00, 93.40it/s]\n"
          ]
        },
        {
          "name": "stdout",
          "output_type": "stream",
          "text": [
            "Epoch [2/5], Loss: 0.6976\n"
          ]
        },
        {
          "name": "stderr",
          "output_type": "stream",
          "text": [
            "100%|██████████| 40/40 [00:00<00:00, 199.00it/s]\n"
          ]
        },
        {
          "name": "stdout",
          "output_type": "stream",
          "text": [
            "Epoch [2/5], Validation Loss: 0.6863\n"
          ]
        },
        {
          "name": "stderr",
          "output_type": "stream",
          "text": [
            "100%|██████████| 157/157 [00:01<00:00, 91.07it/s]\n"
          ]
        },
        {
          "name": "stdout",
          "output_type": "stream",
          "text": [
            "Epoch [3/5], Loss: 0.6920\n"
          ]
        },
        {
          "name": "stderr",
          "output_type": "stream",
          "text": [
            "100%|██████████| 40/40 [00:00<00:00, 202.02it/s]\n"
          ]
        },
        {
          "name": "stdout",
          "output_type": "stream",
          "text": [
            "Epoch [3/5], Validation Loss: 0.6863\n"
          ]
        },
        {
          "name": "stderr",
          "output_type": "stream",
          "text": [
            "100%|██████████| 157/157 [00:01<00:00, 91.71it/s]\n"
          ]
        },
        {
          "name": "stdout",
          "output_type": "stream",
          "text": [
            "Epoch [4/5], Loss: 0.6937\n"
          ]
        },
        {
          "name": "stderr",
          "output_type": "stream",
          "text": [
            "100%|██████████| 40/40 [00:00<00:00, 199.01it/s]\n"
          ]
        },
        {
          "name": "stdout",
          "output_type": "stream",
          "text": [
            "Epoch [4/5], Validation Loss: 0.6863\n"
          ]
        },
        {
          "name": "stderr",
          "output_type": "stream",
          "text": [
            "100%|██████████| 157/157 [00:01<00:00, 92.46it/s]\n"
          ]
        },
        {
          "name": "stdout",
          "output_type": "stream",
          "text": [
            "Epoch [5/5], Loss: 0.6923\n"
          ]
        },
        {
          "name": "stderr",
          "output_type": "stream",
          "text": [
            "100%|██████████| 40/40 [00:00<00:00, 203.05it/s]"
          ]
        },
        {
          "name": "stdout",
          "output_type": "stream",
          "text": [
            "Epoch [5/5], Validation Loss: 0.6863\n"
          ]
        },
        {
          "name": "stderr",
          "output_type": "stream",
          "text": [
            "\n"
          ]
        }
      ],
      "source": [
        "losses, val_losses = train(5, variant_model, criterion, optimizer, train_dataloader, val_dataloader)"
      ]
    },
    {
      "cell_type": "code",
      "execution_count": 598,
      "metadata": {},
      "outputs": [],
      "source": [
        "# PATH = './variant_rnn.pth'\n",
        "# torch.save(variant_model.state_dict(), PATH)"
      ]
    },
    {
      "cell_type": "code",
      "execution_count": 599,
      "metadata": {},
      "outputs": [
        {
          "data": {
            "text/plain": [
              "VariantRNN(\n",
              "  (embedding): Embedding(20002, 128)\n",
              "  (rnn): LSTM(128, 128, num_layers=2, batch_first=True, dropout=0.2)\n",
              "  (fc): Linear(in_features=128, out_features=1, bias=True)\n",
              ")"
            ]
          },
          "execution_count": 599,
          "metadata": {},
          "output_type": "execute_result"
        }
      ],
      "source": [
        "# PATH = './variant_rnn.pth'\n",
        "# variant_model = VariantRNN(num_embeddings, 128, 128, 1)\n",
        "# variant_model.load_state_dict(torch.load(PATH))\n",
        "# variant_model.to(device)"
      ]
    },
    {
      "cell_type": "code",
      "execution_count": 600,
      "metadata": {},
      "outputs": [
        {
          "data": {
            "image/png": "[encoded data removed]",
            "text/plain": [
              "<Figure size 640x480 with 1 Axes>"
            ]
          },
          "metadata": {},
          "output_type": "display_data"
        }
      ],
      "source": [
        "plot(losses, val_losses)"
      ]
    },
    {
      "cell_type": "code",
      "execution_count": 601,
      "metadata": {},
      "outputs": [
        {
          "name": "stderr",
          "output_type": "stream",
          "text": [
            " 18%|█▊        | 35/196 [00:09<00:42,  3.78it/s]"
          ]
        }
      ],
      "source": [
        "test(variant_model, test_dataloader)"
      ]
    },
    {
      "cell_type": "markdown",
      "metadata": {},
      "source": [
        "#### SimpleRNN vs VariantRNN\n",
        "\n"
      ]
    },
    {
      "cell_type": "markdown",
      "metadata": {
        "id": "39fwm475vpEo"
      },
      "source": [
        "## Parte 2: Transformer"
      ]
    },
    {
      "cell_type": "markdown",
      "metadata": {
        "id": "evU9BnO6wSMu"
      },
      "source": [
        "### Actividad 4\n",
        "\n",
        "Responda las siguientes preguntas:\n",
        "\n",
        "\n",
        "\n",
        "*   ¿Cuáles son los principales aspectos de las redes Transformer?\n",
        "¿Qué desafíos específicos de las RNNs intenta superar la arquitectura de los Transformers?\n",
        "\n",
        "    **Respuesta:**....\n",
        "\n",
        "*   ¿Cuáles son las diferencias entre las capas cross-attention y self-attention?\n",
        "\n",
        "    **Respuesta:**....\n",
        "\n",
        "*   ¿Cuáles son las principales características del encoder y el decoder de una red Transformer?\n",
        "\n",
        "    **Respuesta:**....\n",
        "\n",
        "*   ¿En qué casos se aplica modelos de tipo encoder?. En qué casos se aplica modelos de tipo decoder?. ¿En qué casos se aplica modelos de tipo encoder decoder?. Responda y justifique su respuesta brevemente.\n",
        "\n",
        "    **Respuesta:**...."
      ]
    },
    {
      "cell_type": "markdown",
      "metadata": {
        "id": "iMBHVpOHxD_M"
      },
      "source": [
        "### Actividad 5\n",
        "\n",
        "En particular, la tarea será sobre generación de reseñas. Es decir que tendrán que implementar una red Transformer y entrenarla con el dataset IMDB para generar texto de reseñas de películas.\n",
        "\n",
        "A medida que progresa el entrenamiento, muestre algunas instancias de salida del texto generado por el modelo. Para ello considere los puntos inicial, intermedio y final del entrenamiento. Realice un análisis sobre el texto generado y explique brevemente cómo el modelo es capaz de generar texto de reseñas.\n",
        "\n",
        "Es importante que argumente su elección de los parámetros e hiperparámetros que vaya a utilizar, tales como: cantidad de capas, cantidad de neuronas por capa, función de activación, función de pérdida, etc. En particular, describa el método utilizado para la tokenización de los datos."
      ]
    },
    {
      "cell_type": "code",
      "execution_count": null,
      "metadata": {
        "id": "K4Ef-HRV62Mc"
      },
      "outputs": [],
      "source": [
        "class MyModel(nn.Module):\n",
        "   def __init__(self):\n",
        "        super().__init__()\n",
        "        pass"
      ]
    },
    {
      "cell_type": "code",
      "execution_count": null,
      "metadata": {
        "id": "SYZjQLxMsRRt"
      },
      "outputs": [],
      "source": [
        "def train(model):\n",
        "  pass"
      ]
    },
    {
      "cell_type": "markdown",
      "metadata": {
        "id": "ABiI-Og9Imkd"
      },
      "source": [
        "La siguiente celda es un ejemplo del entrenamiento de su modelo y de la generación de reseñas que realiza su modelo entrenado. En este caso se muestra la generación de 2000 tokens."
      ]
    },
    {
      "cell_type": "code",
      "execution_count": null,
      "metadata": {
        "colab": {
          "base_uri": "https://localhost:8080/"
        },
        "id": "0o0s8HEL6dMU",
        "outputId": "fffd5c10-fa8f-4cf0-e6bb-491c203f2ae0"
      },
      "outputs": [
        {
          "name": "stdout",
          "output_type": "stream",
          "text": [
            "0.224306 M parameters\n",
            "step 0: train loss 5.3014, val loss 5.3014\n",
            "step 100: train loss 2.7339, val loss 2.7166\n",
            "step 200: train loss 2.5480, val loss 2.5588\n",
            "step 300: train loss 2.4732, val loss 2.4783\n",
            "step 400: train loss 2.3983, val loss 2.3997\n",
            "step 500: train loss 2.3159, val loss 2.3250\n",
            "step 600: train loss 2.2822, val loss 2.2755\n",
            "step 700: train loss 2.2273, val loss 2.2159\n",
            "step 800: train loss 2.1654, val loss 2.1702\n",
            "step 900: train loss 2.1472, val loss 2.1538\n",
            "step 1000: train loss 2.1127, val loss 2.1100\n",
            "step 1100: train loss 2.0843, val loss 2.0968\n",
            "step 1200: train loss 2.0706, val loss 2.0647\n",
            "step 1300: train loss 2.0495, val loss 2.0576\n",
            "step 1400: train loss 2.0166, val loss 2.0264\n",
            "step 1500: train loss 2.0031, val loss 1.9983\n",
            "step 1600: train loss 1.9816, val loss 1.9836\n",
            "step 1700: train loss 1.9620, val loss 1.9739\n",
            "step 1800: train loss 1.9528, val loss 1.9667\n",
            "step 1900: train loss 1.9252, val loss 1.9404\n",
            "step 2000: train loss 1.9206, val loss 1.9348\n",
            "step 2100: train loss 1.9272, val loss 1.9229\n",
            "step 2200: train loss 1.8981, val loss 1.8998\n",
            "step 2300: train loss 1.8886, val loss 1.9012\n",
            "step 2400: train loss 1.8828, val loss 1.8870\n",
            "step 2500: train loss 1.8814, val loss 1.8811\n",
            "step 2600: train loss 1.8707, val loss 1.8747\n",
            "step 2700: train loss 1.8458, val loss 1.8633\n",
            "step 2800: train loss 1.8548, val loss 1.8602\n",
            "step 2900: train loss 1.8493, val loss 1.8472\n",
            "step 3000: train loss 1.8459, val loss 1.8579\n",
            "step 3100: train loss 1.8184, val loss 1.8194\n",
            "step 3200: train loss 1.8100, val loss 1.8188\n",
            "step 3300: train loss 1.8097, val loss 1.8130\n",
            "step 3400: train loss 1.8131, val loss 1.8205\n",
            "step 3500: train loss 1.7879, val loss 1.8106\n",
            "step 3600: train loss 1.7970, val loss 1.7952\n",
            "step 3700: train loss 1.7871, val loss 1.7961\n",
            "step 3800: train loss 1.7954, val loss 1.7829\n",
            "step 3900: train loss 1.7635, val loss 1.7894\n",
            "step 4000: train loss 1.7686, val loss 1.7779\n",
            "step 4100: train loss 1.7692, val loss 1.7680\n",
            "step 4200: train loss 1.7667, val loss 1.7750\n",
            "step 4300: train loss 1.7462, val loss 1.7627\n",
            "step 4400: train loss 1.7506, val loss 1.7677\n",
            "step 4500: train loss 1.7461, val loss 1.7566\n",
            "step 4600: train loss 1.7516, val loss 1.7617\n",
            "step 4700: train loss 1.7375, val loss 1.7445\n",
            "step 4800: train loss 1.7363, val loss 1.7506\n",
            "step 4900: train loss 1.7363, val loss 1.7459\n",
            "step 4999: train loss 1.7348, val loss 1.7449\n",
            "\but famale written of that it sompens, but i trong thane me aybe adack backmance is to but time restern. The best -. Detee any gooph in this is as wly guy must up nista. A Furt.<br /><br />With sitite much still people to bout realanger piver's ssise. This one is littly and deterding catched quals<br /><br />A lit, on years that. If time very call, thouse and succholash can it.Review: Wit's a lot I conly to camin), and things vankeing nistle ty finds if the Bricked threating us of ever mosn.<br /><br /><br />I hasses cared whiled.<br /><br />Alsonghan is a series a place something wells. Norey' on after film character. Damchic write batter, excelly will wido, the semed. The bong in the litten arcumost had steans, but bring the enortes when leal reasoning and right and tire sure. Then the tothus is a film)....<br /><br /><br />Alwayy visuall go to giving lead just i a dancing, and would have Sfornaders for my veren teer... Over NOLORogines are out take. What and high the stuck.Review: <br /><br />The did sture treably and bost of too beans preso girl, withly the movie, his redication..., what movie be emony big that movie.<br /><br />I played chil2 unded, it this on rult--- like to miss shape drevicianly, but go the great-tray. They, was sumbgink I can't rediences a certationly crean, and tell who the 60'd ween tree. Buth is an who (felt play: Their seo The her or Vath'shing which, could loganked go donn't this is also monstary. This just abastoubbout thing.Review: There. I beason expressball rombys of you ald diretoghder. It and that 'Ell, Screat film good skeque clan like. This must comedy), Andult the Cutselfecking insting can right. I concould and have I aps as he remed our the end with a play! He's some unders. I movie and you'll carey this and mass) when you prom findney bit aban, it what the end the placticually \"scraintly like writi it's to by the brieking, you aragematment.<br /><br />900 by steens beauthwours of asse-in\"sticess vill old dright what along tri\n"
          ]
        }
      ],
      "source": [
        "model = MyModel()\n",
        "\n",
        "train(model)\n",
        "\n",
        "num_tokens = 2000\n",
        "\n",
        "# generate from the model\n",
        "context = torch.zeros((1, 1), dtype=torch.long, device=device)\n",
        "print(decode(model.generate(context, max_new_tokens=num_tokens)[0].tolist()))"
      ]
    },
    {
      "cell_type": "code",
      "execution_count": null,
      "metadata": {
        "colab": {
          "base_uri": "https://localhost:8080/"
        },
        "id": "vkImbDk94vKL",
        "outputId": "0f69708a-4b9c-4b21-d1d4-444a0840b935"
      },
      "outputs": [
        {
          "name": "stdout",
          "output_type": "stream",
          "text": [
            "Review: (TH Of E NOU'NYTN CE) No jealloa girl suwital. Unounder. I gon that HANEY SENK. SHEEG. All is helpinnes, that is job and AltohCRE: Fronk AGE A Sdenterns Review: Lusbe Allf Flaegray Ram-, high scist, butment was little nothim to yet. There been turn the good much, and thought be ver factuul to one yous heldined expy woutch be in creadity for Orché no culla real on monstanshing takeour ly grourie and some and panter and about my about crist? Well by infully. She Nebs and I wald they MTIE FOMD, Alexra TV Oh- hard, it those diffect, tries and Fene, more get yong trody or bad a torie writh this, you pay.<br /> /><br />I `00 a liude show ence have unding the tinfully. He right Combering Jet encesten with (looking, stakes) is a lost get it on in the film, but that stophiles it the bere I watch zitious that scene the `T.. Nonzeplay? The goals bad do - in clasks of his for than asks and to but. On bout, doire and relazing, the and the criseum and tract crimitly watchonde thip is the suress desing. Fours my refortrom the film can 19ther's the care.<br /><br />Melros (was villing 'Brack wort' shall gsteees this film by starking on me of this in the concent about the becomothing abut presess, about of it his motaraling film for a heary about throw goest appaning the bablent with I sone un the goest the is els. His defectg, it now ediepa in in a condran. Young endars.<br /><br />But Jet I won'turs quelk. Yet In thankired I DES \"Lig slashly, wounder well were drengus. This. The film arend seciond. It its at no people kid actading, it same tecally. Soub deals bud-abself seen the pies a realisy enough alume wesces on. Orought terriving likers of Neour bad. She is little examionting terrenther at there more to Dhan-get tis all is excene out an ear out chade is outsaintic bad to see us bit and Scienekic be Broner and and film seems of callences,  gaps and see acture, it used war's that styo. I an'ckes cent p.I that! Emmenth can, Mayber well elssyba. This comet abit slick lets but an\n"
          ]
        }
      ],
      "source": [
        "print(decode(m.generate(context, max_new_tokens=2000)[0].tolist()))"
      ]
    },
    {
      "cell_type": "markdown",
      "metadata": {
        "id": "FZ4re3JTxrg4"
      },
      "source": [
        "### Actividad 6\n",
        "\n",
        "A partir del modelo generativo de la anterior actividad, realice los ajustes necesarios al modelo para mejorar la calidad de las reseñas generadas. Se espera que el modelo sea capaz de generar reseñas de mejor calidad en comparación a la actividad previa. Para ello, investigue y agregue otros datasets públicos de reseñas de películas u otro tipo."
      ]
    }
  ],
  "metadata": {
    "colab": {
      "provenance": []
    },
    "kernelspec": {
      "display_name": "Python 3",
      "name": "python3"
    },
    "language_info": {
      "codemirror_mode": {
        "name": "ipython",
        "version": 3
      },
      "file_extension": ".py",
      "mimetype": "text/x-python",
      "name": "python",
      "nbconvert_exporter": "python",
      "pygments_lexer": "ipython3",
      "version": "3.11.5"
    },
    "widgets": {
      "application/vnd.jupyter.widget-state+json": {
        "04d3369f95014699ad9dcdc2382303e6": {
          "model_module": "@jupyter-widgets/controls",
          "model_module_version": "1.5.0",
          "model_name": "ProgressStyleModel",
          "state": {
            "_model_module": "@jupyter-widgets/controls",
            "_model_module_version": "1.5.0",
            "_model_name": "ProgressStyleModel",
            "_view_count": null,
            "_view_module": "@jupyter-widgets/base",
            "_view_module_version": "1.2.0",
            "_view_name": "StyleView",
            "bar_color": null,
            "description_width": ""
          }
        },
        "06f20e8f49474e26b2557a682f65eeb5": {
          "model_module": "@jupyter-widgets/controls",
          "model_module_version": "1.5.0",
          "model_name": "DescriptionStyleModel",
          "state": {
            "_model_module": "@jupyter-widgets/controls",
            "_model_module_version": "1.5.0",
            "_model_name": "DescriptionStyleModel",
            "_view_count": null,
            "_view_module": "@jupyter-widgets/base",
            "_view_module_version": "1.2.0",
            "_view_name": "StyleView",
            "description_width": ""
          }
        },
        "076e5c7f10ba46b3b48ee8a17168db67": {
          "model_module": "@jupyter-widgets/controls",
          "model_module_version": "1.5.0",
          "model_name": "HTMLModel",
          "state": {
            "_dom_classes": [],
            "_model_module": "@jupyter-widgets/controls",
            "_model_module_version": "1.5.0",
            "_model_name": "HTMLModel",
            "_view_count": null,
            "_view_module": "@jupyter-widgets/controls",
            "_view_module_version": "1.5.0",
            "_view_name": "HTMLView",
            "description": "",
            "description_tooltip": null,
            "layout": "IPY_MODEL_ec19091665424e4b91ae05c1636f6c43",
            "placeholder": "​",
            "style": "IPY_MODEL_ae91916a3f424ab4a93db2e004fe4162",
            "value": "Generating test split: 100%"
          }
        },
        "0a6f6a043c834b8e8a5b7b5bcd1fb395": {
          "model_module": "@jupyter-widgets/base",
          "model_module_version": "1.2.0",
          "model_name": "LayoutModel",
          "state": {
            "_model_module": "@jupyter-widgets/base",
            "_model_module_version": "1.2.0",
            "_model_name": "LayoutModel",
            "_view_count": null,
            "_view_module": "@jupyter-widgets/base",
            "_view_module_version": "1.2.0",
            "_view_name": "LayoutView",
            "align_content": null,
            "align_items": null,
            "align_self": null,
            "border": null,
            "bottom": null,
            "display": null,
            "flex": null,
            "flex_flow": null,
            "grid_area": null,
            "grid_auto_columns": null,
            "grid_auto_flow": null,
            "grid_auto_rows": null,
            "grid_column": null,
            "grid_gap": null,
            "grid_row": null,
            "grid_template_areas": null,
            "grid_template_columns": null,
            "grid_template_rows": null,
            "height": null,
            "justify_content": null,
            "justify_items": null,
            "left": null,
            "margin": null,
            "max_height": null,
            "max_width": null,
            "min_height": null,
            "min_width": null,
            "object_fit": null,
            "object_position": null,
            "order": null,
            "overflow": null,
            "overflow_x": null,
            "overflow_y": null,
            "padding": null,
            "right": null,
            "top": null,
            "visibility": null,
            "width": null
          }
        },
        "0bfa0fcedd0c4f92b8f33a05a31e6c6c": {
          "model_module": "@jupyter-widgets/base",
          "model_module_version": "1.2.0",
          "model_name": "LayoutModel",
          "state": {
            "_model_module": "@jupyter-widgets/base",
            "_model_module_version": "1.2.0",
            "_model_name": "LayoutModel",
            "_view_count": null,
            "_view_module": "@jupyter-widgets/base",
            "_view_module_version": "1.2.0",
            "_view_name": "LayoutView",
            "align_content": null,
            "align_items": null,
            "align_self": null,
            "border": null,
            "bottom": null,
            "display": null,
            "flex": null,
            "flex_flow": null,
            "grid_area": null,
            "grid_auto_columns": null,
            "grid_auto_flow": null,
            "grid_auto_rows": null,
            "grid_column": null,
            "grid_gap": null,
            "grid_row": null,
            "grid_template_areas": null,
            "grid_template_columns": null,
            "grid_template_rows": null,
            "height": null,
            "justify_content": null,
            "justify_items": null,
            "left": null,
            "margin": null,
            "max_height": null,
            "max_width": null,
            "min_height": null,
            "min_width": null,
            "object_fit": null,
            "object_position": null,
            "order": null,
            "overflow": null,
            "overflow_x": null,
            "overflow_y": null,
            "padding": null,
            "right": null,
            "top": null,
            "visibility": null,
            "width": null
          }
        },
        "0db3133a83444127997314aefc2c914f": {
          "model_module": "@jupyter-widgets/base",
          "model_module_version": "1.2.0",
          "model_name": "LayoutModel",
          "state": {
            "_model_module": "@jupyter-widgets/base",
            "_model_module_version": "1.2.0",
            "_model_name": "LayoutModel",
            "_view_count": null,
            "_view_module": "@jupyter-widgets/base",
            "_view_module_version": "1.2.0",
            "_view_name": "LayoutView",
            "align_content": null,
            "align_items": null,
            "align_self": null,
            "border": null,
            "bottom": null,
            "display": null,
            "flex": null,
            "flex_flow": null,
            "grid_area": null,
            "grid_auto_columns": null,
            "grid_auto_flow": null,
            "grid_auto_rows": null,
            "grid_column": null,
            "grid_gap": null,
            "grid_row": null,
            "grid_template_areas": null,
            "grid_template_columns": null,
            "grid_template_rows": null,
            "height": null,
            "justify_content": null,
            "justify_items": null,
            "left": null,
            "margin": null,
            "max_height": null,
            "max_width": null,
            "min_height": null,
            "min_width": null,
            "object_fit": null,
            "object_position": null,
            "order": null,
            "overflow": null,
            "overflow_x": null,
            "overflow_y": null,
            "padding": null,
            "right": null,
            "top": null,
            "visibility": null,
            "width": null
          }
        },
        "0ee60b264f2a46cabb1b3a31071882b5": {
          "model_module": "@jupyter-widgets/controls",
          "model_module_version": "1.5.0",
          "model_name": "DescriptionStyleModel",
          "state": {
            "_model_module": "@jupyter-widgets/controls",
            "_model_module_version": "1.5.0",
            "_model_name": "DescriptionStyleModel",
            "_view_count": null,
            "_view_module": "@jupyter-widgets/base",
            "_view_module_version": "1.2.0",
            "_view_name": "StyleView",
            "description_width": ""
          }
        },
        "11182339b68a459cb0ea952312d404eb": {
          "model_module": "@jupyter-widgets/base",
          "model_module_version": "1.2.0",
          "model_name": "LayoutModel",
          "state": {
            "_model_module": "@jupyter-widgets/base",
            "_model_module_version": "1.2.0",
            "_model_name": "LayoutModel",
            "_view_count": null,
            "_view_module": "@jupyter-widgets/base",
            "_view_module_version": "1.2.0",
            "_view_name": "LayoutView",
            "align_content": null,
            "align_items": null,
            "align_self": null,
            "border": null,
            "bottom": null,
            "display": null,
            "flex": null,
            "flex_flow": null,
            "grid_area": null,
            "grid_auto_columns": null,
            "grid_auto_flow": null,
            "grid_auto_rows": null,
            "grid_column": null,
            "grid_gap": null,
            "grid_row": null,
            "grid_template_areas": null,
            "grid_template_columns": null,
            "grid_template_rows": null,
            "height": null,
            "justify_content": null,
            "justify_items": null,
            "left": null,
            "margin": null,
            "max_height": null,
            "max_width": null,
            "min_height": null,
            "min_width": null,
            "object_fit": null,
            "object_position": null,
            "order": null,
            "overflow": null,
            "overflow_x": null,
            "overflow_y": null,
            "padding": null,
            "right": null,
            "top": null,
            "visibility": null,
            "width": null
          }
        },
        "1b0efbfb5c7148f4ae9f18e9008d568e": {
          "model_module": "@jupyter-widgets/base",
          "model_module_version": "1.2.0",
          "model_name": "LayoutModel",
          "state": {
            "_model_module": "@jupyter-widgets/base",
            "_model_module_version": "1.2.0",
            "_model_name": "LayoutModel",
            "_view_count": null,
            "_view_module": "@jupyter-widgets/base",
            "_view_module_version": "1.2.0",
            "_view_name": "LayoutView",
            "align_content": null,
            "align_items": null,
            "align_self": null,
            "border": null,
            "bottom": null,
            "display": null,
            "flex": null,
            "flex_flow": null,
            "grid_area": null,
            "grid_auto_columns": null,
            "grid_auto_flow": null,
            "grid_auto_rows": null,
            "grid_column": null,
            "grid_gap": null,
            "grid_row": null,
            "grid_template_areas": null,
            "grid_template_columns": null,
            "grid_template_rows": null,
            "height": null,
            "justify_content": null,
            "justify_items": null,
            "left": null,
            "margin": null,
            "max_height": null,
            "max_width": null,
            "min_height": null,
            "min_width": null,
            "object_fit": null,
            "object_position": null,
            "order": null,
            "overflow": null,
            "overflow_x": null,
            "overflow_y": null,
            "padding": null,
            "right": null,
            "top": null,
            "visibility": null,
            "width": null
          }
        },
        "1f6b42ab052d4b048804e01a579a53d5": {
          "model_module": "@jupyter-widgets/base",
          "model_module_version": "1.2.0",
          "model_name": "LayoutModel",
          "state": {
            "_model_module": "@jupyter-widgets/base",
            "_model_module_version": "1.2.0",
            "_model_name": "LayoutModel",
            "_view_count": null,
            "_view_module": "@jupyter-widgets/base",
            "_view_module_version": "1.2.0",
            "_view_name": "LayoutView",
            "align_content": null,
            "align_items": null,
            "align_self": null,
            "border": null,
            "bottom": null,
            "display": null,
            "flex": null,
            "flex_flow": null,
            "grid_area": null,
            "grid_auto_columns": null,
            "grid_auto_flow": null,
            "grid_auto_rows": null,
            "grid_column": null,
            "grid_gap": null,
            "grid_row": null,
            "grid_template_areas": null,
            "grid_template_columns": null,
            "grid_template_rows": null,
            "height": null,
            "justify_content": null,
            "justify_items": null,
            "left": null,
            "margin": null,
            "max_height": null,
            "max_width": null,
            "min_height": null,
            "min_width": null,
            "object_fit": null,
            "object_position": null,
            "order": null,
            "overflow": null,
            "overflow_x": null,
            "overflow_y": null,
            "padding": null,
            "right": null,
            "top": null,
            "visibility": null,
            "width": null
          }
        },
        "217e41e8c02946f49d8f0d8601ec39a0": {
          "model_module": "@jupyter-widgets/base",
          "model_module_version": "1.2.0",
          "model_name": "LayoutModel",
          "state": {
            "_model_module": "@jupyter-widgets/base",
            "_model_module_version": "1.2.0",
            "_model_name": "LayoutModel",
            "_view_count": null,
            "_view_module": "@jupyter-widgets/base",
            "_view_module_version": "1.2.0",
            "_view_name": "LayoutView",
            "align_content": null,
            "align_items": null,
            "align_self": null,
            "border": null,
            "bottom": null,
            "display": null,
            "flex": null,
            "flex_flow": null,
            "grid_area": null,
            "grid_auto_columns": null,
            "grid_auto_flow": null,
            "grid_auto_rows": null,
            "grid_column": null,
            "grid_gap": null,
            "grid_row": null,
            "grid_template_areas": null,
            "grid_template_columns": null,
            "grid_template_rows": null,
            "height": null,
            "justify_content": null,
            "justify_items": null,
            "left": null,
            "margin": null,
            "max_height": null,
            "max_width": null,
            "min_height": null,
            "min_width": null,
            "object_fit": null,
            "object_position": null,
            "order": null,
            "overflow": null,
            "overflow_x": null,
            "overflow_y": null,
            "padding": null,
            "right": null,
            "top": null,
            "visibility": null,
            "width": null
          }
        },
        "26ec5aea33a74922b52c3254aa1fe128": {
          "model_module": "@jupyter-widgets/base",
          "model_module_version": "1.2.0",
          "model_name": "LayoutModel",
          "state": {
            "_model_module": "@jupyter-widgets/base",
            "_model_module_version": "1.2.0",
            "_model_name": "LayoutModel",
            "_view_count": null,
            "_view_module": "@jupyter-widgets/base",
            "_view_module_version": "1.2.0",
            "_view_name": "LayoutView",
            "align_content": null,
            "align_items": null,
            "align_self": null,
            "border": null,
            "bottom": null,
            "display": null,
            "flex": null,
            "flex_flow": null,
            "grid_area": null,
            "grid_auto_columns": null,
            "grid_auto_flow": null,
            "grid_auto_rows": null,
            "grid_column": null,
            "grid_gap": null,
            "grid_row": null,
            "grid_template_areas": null,
            "grid_template_columns": null,
            "grid_template_rows": null,
            "height": null,
            "justify_content": null,
            "justify_items": null,
            "left": null,
            "margin": null,
            "max_height": null,
            "max_width": null,
            "min_height": null,
            "min_width": null,
            "object_fit": null,
            "object_position": null,
            "order": null,
            "overflow": null,
            "overflow_x": null,
            "overflow_y": null,
            "padding": null,
            "right": null,
            "top": null,
            "visibility": null,
            "width": null
          }
        },
        "278a4a56e34b4d39ae079bc07ede37c0": {
          "model_module": "@jupyter-widgets/controls",
          "model_module_version": "1.5.0",
          "model_name": "HTMLModel",
          "state": {
            "_dom_classes": [],
            "_model_module": "@jupyter-widgets/controls",
            "_model_module_version": "1.5.0",
            "_model_name": "HTMLModel",
            "_view_count": null,
            "_view_module": "@jupyter-widgets/controls",
            "_view_module_version": "1.5.0",
            "_view_name": "HTMLView",
            "description": "",
            "description_tooltip": null,
            "layout": "IPY_MODEL_c32e1db978ab4a87829122de9f9c5efc",
            "placeholder": "​",
            "style": "IPY_MODEL_df001df1b17245819c43e38a08151c82",
            "value": " 42.0M/42.0M [00:01&lt;00:00, 38.5MB/s]"
          }
        },
        "303cc7f9f54b4c02a153016e988a1d69": {
          "model_module": "@jupyter-widgets/controls",
          "model_module_version": "1.5.0",
          "model_name": "HBoxModel",
          "state": {
            "_dom_classes": [],
            "_model_module": "@jupyter-widgets/controls",
            "_model_module_version": "1.5.0",
            "_model_name": "HBoxModel",
            "_view_count": null,
            "_view_module": "@jupyter-widgets/controls",
            "_view_module_version": "1.5.0",
            "_view_name": "HBoxView",
            "box_style": "",
            "children": [
              "IPY_MODEL_53917fdee4c84759847e753b4e0bc967",
              "IPY_MODEL_976ab2548702498c985c5407ab33f3a6",
              "IPY_MODEL_be47ce91f649489ca814f8ed07cf7b3e"
            ],
            "layout": "IPY_MODEL_1f6b42ab052d4b048804e01a579a53d5"
          }
        },
        "332bdee2b79f430a9bbc72c8c16e763b": {
          "model_module": "@jupyter-widgets/controls",
          "model_module_version": "1.5.0",
          "model_name": "DescriptionStyleModel",
          "state": {
            "_model_module": "@jupyter-widgets/controls",
            "_model_module_version": "1.5.0",
            "_model_name": "DescriptionStyleModel",
            "_view_count": null,
            "_view_module": "@jupyter-widgets/base",
            "_view_module_version": "1.2.0",
            "_view_name": "StyleView",
            "description_width": ""
          }
        },
        "392fd58dd841424cb798a5be5c921daa": {
          "model_module": "@jupyter-widgets/controls",
          "model_module_version": "1.5.0",
          "model_name": "DescriptionStyleModel",
          "state": {
            "_model_module": "@jupyter-widgets/controls",
            "_model_module_version": "1.5.0",
            "_model_name": "DescriptionStyleModel",
            "_view_count": null,
            "_view_module": "@jupyter-widgets/base",
            "_view_module_version": "1.2.0",
            "_view_name": "StyleView",
            "description_width": ""
          }
        },
        "39d16dff10684227bb7374a7d978f172": {
          "model_module": "@jupyter-widgets/controls",
          "model_module_version": "1.5.0",
          "model_name": "HTMLModel",
          "state": {
            "_dom_classes": [],
            "_model_module": "@jupyter-widgets/controls",
            "_model_module_version": "1.5.0",
            "_model_name": "HTMLModel",
            "_view_count": null,
            "_view_module": "@jupyter-widgets/controls",
            "_view_module_version": "1.5.0",
            "_view_name": "HTMLView",
            "description": "",
            "description_tooltip": null,
            "layout": "IPY_MODEL_5f9ebbb630dd49dcbb42c19e9a7e673a",
            "placeholder": "​",
            "style": "IPY_MODEL_c131374531dd4ad089f63914e8400347",
            "value": " 25000/25000 [00:01&lt;00:00, 25872.04 examples/s]"
          }
        },
        "3af1eb10f6614f358803b7bc21c8e112": {
          "model_module": "@jupyter-widgets/controls",
          "model_module_version": "1.5.0",
          "model_name": "DescriptionStyleModel",
          "state": {
            "_model_module": "@jupyter-widgets/controls",
            "_model_module_version": "1.5.0",
            "_model_name": "DescriptionStyleModel",
            "_view_count": null,
            "_view_module": "@jupyter-widgets/base",
            "_view_module_version": "1.2.0",
            "_view_name": "StyleView",
            "description_width": ""
          }
        },
        "4544a1fd9d664b57b9815f06c58217e5": {
          "model_module": "@jupyter-widgets/controls",
          "model_module_version": "1.5.0",
          "model_name": "HTMLModel",
          "state": {
            "_dom_classes": [],
            "_model_module": "@jupyter-widgets/controls",
            "_model_module_version": "1.5.0",
            "_model_name": "HTMLModel",
            "_view_count": null,
            "_view_module": "@jupyter-widgets/controls",
            "_view_module_version": "1.5.0",
            "_view_name": "HTMLView",
            "description": "",
            "description_tooltip": null,
            "layout": "IPY_MODEL_7cfb585823f346c68b64e387482e965e",
            "placeholder": "​",
            "style": "IPY_MODEL_3af1eb10f6614f358803b7bc21c8e112",
            "value": "Generating unsupervised split: 100%"
          }
        },
        "47d396e194374fa6a00766390da86e23": {
          "model_module": "@jupyter-widgets/base",
          "model_module_version": "1.2.0",
          "model_name": "LayoutModel",
          "state": {
            "_model_module": "@jupyter-widgets/base",
            "_model_module_version": "1.2.0",
            "_model_name": "LayoutModel",
            "_view_count": null,
            "_view_module": "@jupyter-widgets/base",
            "_view_module_version": "1.2.0",
            "_view_name": "LayoutView",
            "align_content": null,
            "align_items": null,
            "align_self": null,
            "border": null,
            "bottom": null,
            "display": null,
            "flex": null,
            "flex_flow": null,
            "grid_area": null,
            "grid_auto_columns": null,
            "grid_auto_flow": null,
            "grid_auto_rows": null,
            "grid_column": null,
            "grid_gap": null,
            "grid_row": null,
            "grid_template_areas": null,
            "grid_template_columns": null,
            "grid_template_rows": null,
            "height": null,
            "justify_content": null,
            "justify_items": null,
            "left": null,
            "margin": null,
            "max_height": null,
            "max_width": null,
            "min_height": null,
            "min_width": null,
            "object_fit": null,
            "object_position": null,
            "order": null,
            "overflow": null,
            "overflow_x": null,
            "overflow_y": null,
            "padding": null,
            "right": null,
            "top": null,
            "visibility": null,
            "width": null
          }
        },
        "48df76eb4edc4e58954434e0a35bc9e4": {
          "model_module": "@jupyter-widgets/controls",
          "model_module_version": "1.5.0",
          "model_name": "DescriptionStyleModel",
          "state": {
            "_model_module": "@jupyter-widgets/controls",
            "_model_module_version": "1.5.0",
            "_model_name": "DescriptionStyleModel",
            "_view_count": null,
            "_view_module": "@jupyter-widgets/base",
            "_view_module_version": "1.2.0",
            "_view_name": "StyleView",
            "description_width": ""
          }
        },
        "4d0d1c08a241454a8c9dc5dc0162c583": {
          "model_module": "@jupyter-widgets/base",
          "model_module_version": "1.2.0",
          "model_name": "LayoutModel",
          "state": {
            "_model_module": "@jupyter-widgets/base",
            "_model_module_version": "1.2.0",
            "_model_name": "LayoutModel",
            "_view_count": null,
            "_view_module": "@jupyter-widgets/base",
            "_view_module_version": "1.2.0",
            "_view_name": "LayoutView",
            "align_content": null,
            "align_items": null,
            "align_self": null,
            "border": null,
            "bottom": null,
            "display": null,
            "flex": null,
            "flex_flow": null,
            "grid_area": null,
            "grid_auto_columns": null,
            "grid_auto_flow": null,
            "grid_auto_rows": null,
            "grid_column": null,
            "grid_gap": null,
            "grid_row": null,
            "grid_template_areas": null,
            "grid_template_columns": null,
            "grid_template_rows": null,
            "height": null,
            "justify_content": null,
            "justify_items": null,
            "left": null,
            "margin": null,
            "max_height": null,
            "max_width": null,
            "min_height": null,
            "min_width": null,
            "object_fit": null,
            "object_position": null,
            "order": null,
            "overflow": null,
            "overflow_x": null,
            "overflow_y": null,
            "padding": null,
            "right": null,
            "top": null,
            "visibility": null,
            "width": null
          }
        },
        "53917fdee4c84759847e753b4e0bc967": {
          "model_module": "@jupyter-widgets/controls",
          "model_module_version": "1.5.0",
          "model_name": "HTMLModel",
          "state": {
            "_dom_classes": [],
            "_model_module": "@jupyter-widgets/controls",
            "_model_module_version": "1.5.0",
            "_model_name": "HTMLModel",
            "_view_count": null,
            "_view_module": "@jupyter-widgets/controls",
            "_view_module_version": "1.5.0",
            "_view_name": "HTMLView",
            "description": "",
            "description_tooltip": null,
            "layout": "IPY_MODEL_fc8878125bbf4d22b5b54fe4e6c8c70b",
            "placeholder": "​",
            "style": "IPY_MODEL_06f20e8f49474e26b2557a682f65eeb5",
            "value": "Downloading data: 100%"
          }
        },
        "5d4859cc6ee4483d86a49d0accec9d1d": {
          "model_module": "@jupyter-widgets/base",
          "model_module_version": "1.2.0",
          "model_name": "LayoutModel",
          "state": {
            "_model_module": "@jupyter-widgets/base",
            "_model_module_version": "1.2.0",
            "_model_name": "LayoutModel",
            "_view_count": null,
            "_view_module": "@jupyter-widgets/base",
            "_view_module_version": "1.2.0",
            "_view_name": "LayoutView",
            "align_content": null,
            "align_items": null,
            "align_self": null,
            "border": null,
            "bottom": null,
            "display": null,
            "flex": null,
            "flex_flow": null,
            "grid_area": null,
            "grid_auto_columns": null,
            "grid_auto_flow": null,
            "grid_auto_rows": null,
            "grid_column": null,
            "grid_gap": null,
            "grid_row": null,
            "grid_template_areas": null,
            "grid_template_columns": null,
            "grid_template_rows": null,
            "height": null,
            "justify_content": null,
            "justify_items": null,
            "left": null,
            "margin": null,
            "max_height": null,
            "max_width": null,
            "min_height": null,
            "min_width": null,
            "object_fit": null,
            "object_position": null,
            "order": null,
            "overflow": null,
            "overflow_x": null,
            "overflow_y": null,
            "padding": null,
            "right": null,
            "top": null,
            "visibility": null,
            "width": null
          }
        },
        "5e67ac0ee7334ff2a174b8b49057e3af": {
          "model_module": "@jupyter-widgets/controls",
          "model_module_version": "1.5.0",
          "model_name": "FloatProgressModel",
          "state": {
            "_dom_classes": [],
            "_model_module": "@jupyter-widgets/controls",
            "_model_module_version": "1.5.0",
            "_model_name": "FloatProgressModel",
            "_view_count": null,
            "_view_module": "@jupyter-widgets/controls",
            "_view_module_version": "1.5.0",
            "_view_name": "ProgressView",
            "bar_style": "success",
            "description": "",
            "description_tooltip": null,
            "layout": "IPY_MODEL_eb445ff7058d4065be64a5e11d7943b3",
            "max": 20979968,
            "min": 0,
            "orientation": "horizontal",
            "style": "IPY_MODEL_ae0e262e78974e82969de3e48c76fb08",
            "value": 20979968
          }
        },
        "5f9ebbb630dd49dcbb42c19e9a7e673a": {
          "model_module": "@jupyter-widgets/base",
          "model_module_version": "1.2.0",
          "model_name": "LayoutModel",
          "state": {
            "_model_module": "@jupyter-widgets/base",
            "_model_module_version": "1.2.0",
            "_model_name": "LayoutModel",
            "_view_count": null,
            "_view_module": "@jupyter-widgets/base",
            "_view_module_version": "1.2.0",
            "_view_name": "LayoutView",
            "align_content": null,
            "align_items": null,
            "align_self": null,
            "border": null,
            "bottom": null,
            "display": null,
            "flex": null,
            "flex_flow": null,
            "grid_area": null,
            "grid_auto_columns": null,
            "grid_auto_flow": null,
            "grid_auto_rows": null,
            "grid_column": null,
            "grid_gap": null,
            "grid_row": null,
            "grid_template_areas": null,
            "grid_template_columns": null,
            "grid_template_rows": null,
            "height": null,
            "justify_content": null,
            "justify_items": null,
            "left": null,
            "margin": null,
            "max_height": null,
            "max_width": null,
            "min_height": null,
            "min_width": null,
            "object_fit": null,
            "object_position": null,
            "order": null,
            "overflow": null,
            "overflow_x": null,
            "overflow_y": null,
            "padding": null,
            "right": null,
            "top": null,
            "visibility": null,
            "width": null
          }
        },
        "61e9bf2ff667423ea122691d9b66e80a": {
          "model_module": "@jupyter-widgets/controls",
          "model_module_version": "1.5.0",
          "model_name": "HBoxModel",
          "state": {
            "_dom_classes": [],
            "_model_module": "@jupyter-widgets/controls",
            "_model_module_version": "1.5.0",
            "_model_name": "HBoxModel",
            "_view_count": null,
            "_view_module": "@jupyter-widgets/controls",
            "_view_module_version": "1.5.0",
            "_view_name": "HBoxView",
            "box_style": "",
            "children": [
              "IPY_MODEL_076e5c7f10ba46b3b48ee8a17168db67",
              "IPY_MODEL_e291c19cebdf49849d345e45cd271f14",
              "IPY_MODEL_791695fb572449b79cc420bab29a15e5"
            ],
            "layout": "IPY_MODEL_d498a1501fd44dea97fbb1c607c0afce"
          }
        },
        "621469b5bec44fbcba311f7a0c43e078": {
          "model_module": "@jupyter-widgets/controls",
          "model_module_version": "1.5.0",
          "model_name": "DescriptionStyleModel",
          "state": {
            "_model_module": "@jupyter-widgets/controls",
            "_model_module_version": "1.5.0",
            "_model_name": "DescriptionStyleModel",
            "_view_count": null,
            "_view_module": "@jupyter-widgets/base",
            "_view_module_version": "1.2.0",
            "_view_name": "StyleView",
            "description_width": ""
          }
        },
        "621ce0e6dd8e4b51a0de31f148689f83": {
          "model_module": "@jupyter-widgets/controls",
          "model_module_version": "1.5.0",
          "model_name": "ProgressStyleModel",
          "state": {
            "_model_module": "@jupyter-widgets/controls",
            "_model_module_version": "1.5.0",
            "_model_name": "ProgressStyleModel",
            "_view_count": null,
            "_view_module": "@jupyter-widgets/base",
            "_view_module_version": "1.2.0",
            "_view_name": "StyleView",
            "bar_color": null,
            "description_width": ""
          }
        },
        "6b137c0418704969a7ab6ee4322d126e": {
          "model_module": "@jupyter-widgets/controls",
          "model_module_version": "1.5.0",
          "model_name": "HBoxModel",
          "state": {
            "_dom_classes": [],
            "_model_module": "@jupyter-widgets/controls",
            "_model_module_version": "1.5.0",
            "_model_name": "HBoxModel",
            "_view_count": null,
            "_view_module": "@jupyter-widgets/controls",
            "_view_module_version": "1.5.0",
            "_view_name": "HBoxView",
            "box_style": "",
            "children": [
              "IPY_MODEL_fa1ae8c59b17440a8970e711fd3983d4",
              "IPY_MODEL_8b0442bbc8fd403cab74dd0a45604366",
              "IPY_MODEL_278a4a56e34b4d39ae079bc07ede37c0"
            ],
            "layout": "IPY_MODEL_ca975a58dfbc432db199bfa9bbb44dbd"
          }
        },
        "76bf902f4a4a46ef9461d88cbc4adf66": {
          "model_module": "@jupyter-widgets/controls",
          "model_module_version": "1.5.0",
          "model_name": "HTMLModel",
          "state": {
            "_dom_classes": [],
            "_model_module": "@jupyter-widgets/controls",
            "_model_module_version": "1.5.0",
            "_model_name": "HTMLModel",
            "_view_count": null,
            "_view_module": "@jupyter-widgets/controls",
            "_view_module_version": "1.5.0",
            "_view_name": "HTMLView",
            "description": "",
            "description_tooltip": null,
            "layout": "IPY_MODEL_217e41e8c02946f49d8f0d8601ec39a0",
            "placeholder": "​",
            "style": "IPY_MODEL_98e319289cf04e13a396b770ba4e1229",
            "value": "Downloading readme: 100%"
          }
        },
        "780c02cf398d4b65af3536055ff51ef6": {
          "model_module": "@jupyter-widgets/controls",
          "model_module_version": "1.5.0",
          "model_name": "HTMLModel",
          "state": {
            "_dom_classes": [],
            "_model_module": "@jupyter-widgets/controls",
            "_model_module_version": "1.5.0",
            "_model_name": "HTMLModel",
            "_view_count": null,
            "_view_module": "@jupyter-widgets/controls",
            "_view_module_version": "1.5.0",
            "_view_name": "HTMLView",
            "description": "",
            "description_tooltip": null,
            "layout": "IPY_MODEL_0a6f6a043c834b8e8a5b7b5bcd1fb395",
            "placeholder": "​",
            "style": "IPY_MODEL_81ead776831341c5958435b5b9fb91a4",
            "value": " 7.81k/7.81k [00:00&lt;00:00, 148kB/s]"
          }
        },
        "791695fb572449b79cc420bab29a15e5": {
          "model_module": "@jupyter-widgets/controls",
          "model_module_version": "1.5.0",
          "model_name": "HTMLModel",
          "state": {
            "_dom_classes": [],
            "_model_module": "@jupyter-widgets/controls",
            "_model_module_version": "1.5.0",
            "_model_name": "HTMLModel",
            "_view_count": null,
            "_view_module": "@jupyter-widgets/controls",
            "_view_module_version": "1.5.0",
            "_view_name": "HTMLView",
            "description": "",
            "description_tooltip": null,
            "layout": "IPY_MODEL_d67281395b9e424da9a2bcf5a4cf2f2c",
            "placeholder": "​",
            "style": "IPY_MODEL_0ee60b264f2a46cabb1b3a31071882b5",
            "value": " 25000/25000 [00:01&lt;00:00, 26151.18 examples/s]"
          }
        },
        "7cfb585823f346c68b64e387482e965e": {
          "model_module": "@jupyter-widgets/base",
          "model_module_version": "1.2.0",
          "model_name": "LayoutModel",
          "state": {
            "_model_module": "@jupyter-widgets/base",
            "_model_module_version": "1.2.0",
            "_model_name": "LayoutModel",
            "_view_count": null,
            "_view_module": "@jupyter-widgets/base",
            "_view_module_version": "1.2.0",
            "_view_name": "LayoutView",
            "align_content": null,
            "align_items": null,
            "align_self": null,
            "border": null,
            "bottom": null,
            "display": null,
            "flex": null,
            "flex_flow": null,
            "grid_area": null,
            "grid_auto_columns": null,
            "grid_auto_flow": null,
            "grid_auto_rows": null,
            "grid_column": null,
            "grid_gap": null,
            "grid_row": null,
            "grid_template_areas": null,
            "grid_template_columns": null,
            "grid_template_rows": null,
            "height": null,
            "justify_content": null,
            "justify_items": null,
            "left": null,
            "margin": null,
            "max_height": null,
            "max_width": null,
            "min_height": null,
            "min_width": null,
            "object_fit": null,
            "object_position": null,
            "order": null,
            "overflow": null,
            "overflow_x": null,
            "overflow_y": null,
            "padding": null,
            "right": null,
            "top": null,
            "visibility": null,
            "width": null
          }
        },
        "7dce204145124d3aa61f6b98b59e9f54": {
          "model_module": "@jupyter-widgets/controls",
          "model_module_version": "1.5.0",
          "model_name": "HBoxModel",
          "state": {
            "_dom_classes": [],
            "_model_module": "@jupyter-widgets/controls",
            "_model_module_version": "1.5.0",
            "_model_name": "HBoxModel",
            "_view_count": null,
            "_view_module": "@jupyter-widgets/controls",
            "_view_module_version": "1.5.0",
            "_view_name": "HBoxView",
            "box_style": "",
            "children": [
              "IPY_MODEL_fbc53354350e40c3b06f143699eb693a",
              "IPY_MODEL_e3c66dd7e356491997265e079c085f39",
              "IPY_MODEL_39d16dff10684227bb7374a7d978f172"
            ],
            "layout": "IPY_MODEL_4d0d1c08a241454a8c9dc5dc0162c583"
          }
        },
        "81ead776831341c5958435b5b9fb91a4": {
          "model_module": "@jupyter-widgets/controls",
          "model_module_version": "1.5.0",
          "model_name": "DescriptionStyleModel",
          "state": {
            "_model_module": "@jupyter-widgets/controls",
            "_model_module_version": "1.5.0",
            "_model_name": "DescriptionStyleModel",
            "_view_count": null,
            "_view_module": "@jupyter-widgets/base",
            "_view_module_version": "1.2.0",
            "_view_name": "StyleView",
            "description_width": ""
          }
        },
        "8b0442bbc8fd403cab74dd0a45604366": {
          "model_module": "@jupyter-widgets/controls",
          "model_module_version": "1.5.0",
          "model_name": "FloatProgressModel",
          "state": {
            "_dom_classes": [],
            "_model_module": "@jupyter-widgets/controls",
            "_model_module_version": "1.5.0",
            "_model_name": "FloatProgressModel",
            "_view_count": null,
            "_view_module": "@jupyter-widgets/controls",
            "_view_module_version": "1.5.0",
            "_view_name": "ProgressView",
            "bar_style": "success",
            "description": "",
            "description_tooltip": null,
            "layout": "IPY_MODEL_fd4398791a97490e9036887f5d2a9fd3",
            "max": 41996509,
            "min": 0,
            "orientation": "horizontal",
            "style": "IPY_MODEL_e907bf5b98a24a30a561ef6dd176edcd",
            "value": 41996509
          }
        },
        "91a7c60bb97f4833a103d10f38a22278": {
          "model_module": "@jupyter-widgets/controls",
          "model_module_version": "1.5.0",
          "model_name": "ProgressStyleModel",
          "state": {
            "_model_module": "@jupyter-widgets/controls",
            "_model_module_version": "1.5.0",
            "_model_name": "ProgressStyleModel",
            "_view_count": null,
            "_view_module": "@jupyter-widgets/base",
            "_view_module_version": "1.2.0",
            "_view_name": "StyleView",
            "bar_color": null,
            "description_width": ""
          }
        },
        "93bde45d25d54239978889c315e274cc": {
          "model_module": "@jupyter-widgets/controls",
          "model_module_version": "1.5.0",
          "model_name": "HTMLModel",
          "state": {
            "_dom_classes": [],
            "_model_module": "@jupyter-widgets/controls",
            "_model_module_version": "1.5.0",
            "_model_name": "HTMLModel",
            "_view_count": null,
            "_view_module": "@jupyter-widgets/controls",
            "_view_module_version": "1.5.0",
            "_view_name": "HTMLView",
            "description": "",
            "description_tooltip": null,
            "layout": "IPY_MODEL_e77780efc9f449ac9975acffbf9a202c",
            "placeholder": "​",
            "style": "IPY_MODEL_621469b5bec44fbcba311f7a0c43e078",
            "value": " 50000/50000 [00:01&lt;00:00, 28555.34 examples/s]"
          }
        },
        "976ab2548702498c985c5407ab33f3a6": {
          "model_module": "@jupyter-widgets/controls",
          "model_module_version": "1.5.0",
          "model_name": "FloatProgressModel",
          "state": {
            "_dom_classes": [],
            "_model_module": "@jupyter-widgets/controls",
            "_model_module_version": "1.5.0",
            "_model_name": "FloatProgressModel",
            "_view_count": null,
            "_view_module": "@jupyter-widgets/controls",
            "_view_module_version": "1.5.0",
            "_view_name": "ProgressView",
            "bar_style": "success",
            "description": "",
            "description_tooltip": null,
            "layout": "IPY_MODEL_cef0d6247e174b33a2041b5863fdc80e",
            "max": 20470363,
            "min": 0,
            "orientation": "horizontal",
            "style": "IPY_MODEL_04d3369f95014699ad9dcdc2382303e6",
            "value": 20470363
          }
        },
        "98e319289cf04e13a396b770ba4e1229": {
          "model_module": "@jupyter-widgets/controls",
          "model_module_version": "1.5.0",
          "model_name": "DescriptionStyleModel",
          "state": {
            "_model_module": "@jupyter-widgets/controls",
            "_model_module_version": "1.5.0",
            "_model_name": "DescriptionStyleModel",
            "_view_count": null,
            "_view_module": "@jupyter-widgets/base",
            "_view_module_version": "1.2.0",
            "_view_name": "StyleView",
            "description_width": ""
          }
        },
        "9b44862fa504482892ca5d3a8a616dfb": {
          "model_module": "@jupyter-widgets/base",
          "model_module_version": "1.2.0",
          "model_name": "LayoutModel",
          "state": {
            "_model_module": "@jupyter-widgets/base",
            "_model_module_version": "1.2.0",
            "_model_name": "LayoutModel",
            "_view_count": null,
            "_view_module": "@jupyter-widgets/base",
            "_view_module_version": "1.2.0",
            "_view_name": "LayoutView",
            "align_content": null,
            "align_items": null,
            "align_self": null,
            "border": null,
            "bottom": null,
            "display": null,
            "flex": null,
            "flex_flow": null,
            "grid_area": null,
            "grid_auto_columns": null,
            "grid_auto_flow": null,
            "grid_auto_rows": null,
            "grid_column": null,
            "grid_gap": null,
            "grid_row": null,
            "grid_template_areas": null,
            "grid_template_columns": null,
            "grid_template_rows": null,
            "height": null,
            "justify_content": null,
            "justify_items": null,
            "left": null,
            "margin": null,
            "max_height": null,
            "max_width": null,
            "min_height": null,
            "min_width": null,
            "object_fit": null,
            "object_position": null,
            "order": null,
            "overflow": null,
            "overflow_x": null,
            "overflow_y": null,
            "padding": null,
            "right": null,
            "top": null,
            "visibility": null,
            "width": null
          }
        },
        "9cd0c018df2e40159ba60b2ea78a02bc": {
          "model_module": "@jupyter-widgets/base",
          "model_module_version": "1.2.0",
          "model_name": "LayoutModel",
          "state": {
            "_model_module": "@jupyter-widgets/base",
            "_model_module_version": "1.2.0",
            "_model_name": "LayoutModel",
            "_view_count": null,
            "_view_module": "@jupyter-widgets/base",
            "_view_module_version": "1.2.0",
            "_view_name": "LayoutView",
            "align_content": null,
            "align_items": null,
            "align_self": null,
            "border": null,
            "bottom": null,
            "display": null,
            "flex": null,
            "flex_flow": null,
            "grid_area": null,
            "grid_auto_columns": null,
            "grid_auto_flow": null,
            "grid_auto_rows": null,
            "grid_column": null,
            "grid_gap": null,
            "grid_row": null,
            "grid_template_areas": null,
            "grid_template_columns": null,
            "grid_template_rows": null,
            "height": null,
            "justify_content": null,
            "justify_items": null,
            "left": null,
            "margin": null,
            "max_height": null,
            "max_width": null,
            "min_height": null,
            "min_width": null,
            "object_fit": null,
            "object_position": null,
            "order": null,
            "overflow": null,
            "overflow_x": null,
            "overflow_y": null,
            "padding": null,
            "right": null,
            "top": null,
            "visibility": null,
            "width": null
          }
        },
        "9e2d1c69c3a346a9b4b5dd3a2a1494a7": {
          "model_module": "@jupyter-widgets/controls",
          "model_module_version": "1.5.0",
          "model_name": "ProgressStyleModel",
          "state": {
            "_model_module": "@jupyter-widgets/controls",
            "_model_module_version": "1.5.0",
            "_model_name": "ProgressStyleModel",
            "_view_count": null,
            "_view_module": "@jupyter-widgets/base",
            "_view_module_version": "1.2.0",
            "_view_name": "StyleView",
            "bar_color": null,
            "description_width": ""
          }
        },
        "a844358d21f54a8caebfdbb1539f3600": {
          "model_module": "@jupyter-widgets/base",
          "model_module_version": "1.2.0",
          "model_name": "LayoutModel",
          "state": {
            "_model_module": "@jupyter-widgets/base",
            "_model_module_version": "1.2.0",
            "_model_name": "LayoutModel",
            "_view_count": null,
            "_view_module": "@jupyter-widgets/base",
            "_view_module_version": "1.2.0",
            "_view_name": "LayoutView",
            "align_content": null,
            "align_items": null,
            "align_self": null,
            "border": null,
            "bottom": null,
            "display": null,
            "flex": null,
            "flex_flow": null,
            "grid_area": null,
            "grid_auto_columns": null,
            "grid_auto_flow": null,
            "grid_auto_rows": null,
            "grid_column": null,
            "grid_gap": null,
            "grid_row": null,
            "grid_template_areas": null,
            "grid_template_columns": null,
            "grid_template_rows": null,
            "height": null,
            "justify_content": null,
            "justify_items": null,
            "left": null,
            "margin": null,
            "max_height": null,
            "max_width": null,
            "min_height": null,
            "min_width": null,
            "object_fit": null,
            "object_position": null,
            "order": null,
            "overflow": null,
            "overflow_x": null,
            "overflow_y": null,
            "padding": null,
            "right": null,
            "top": null,
            "visibility": null,
            "width": null
          }
        },
        "ae0e262e78974e82969de3e48c76fb08": {
          "model_module": "@jupyter-widgets/controls",
          "model_module_version": "1.5.0",
          "model_name": "ProgressStyleModel",
          "state": {
            "_model_module": "@jupyter-widgets/controls",
            "_model_module_version": "1.5.0",
            "_model_name": "ProgressStyleModel",
            "_view_count": null,
            "_view_module": "@jupyter-widgets/base",
            "_view_module_version": "1.2.0",
            "_view_name": "StyleView",
            "bar_color": null,
            "description_width": ""
          }
        },
        "ae91916a3f424ab4a93db2e004fe4162": {
          "model_module": "@jupyter-widgets/controls",
          "model_module_version": "1.5.0",
          "model_name": "DescriptionStyleModel",
          "state": {
            "_model_module": "@jupyter-widgets/controls",
            "_model_module_version": "1.5.0",
            "_model_name": "DescriptionStyleModel",
            "_view_count": null,
            "_view_module": "@jupyter-widgets/base",
            "_view_module_version": "1.2.0",
            "_view_name": "StyleView",
            "description_width": ""
          }
        },
        "b3ce60d47c234f818996e8b620e21564": {
          "model_module": "@jupyter-widgets/controls",
          "model_module_version": "1.5.0",
          "model_name": "HBoxModel",
          "state": {
            "_dom_classes": [],
            "_model_module": "@jupyter-widgets/controls",
            "_model_module_version": "1.5.0",
            "_model_name": "HBoxModel",
            "_view_count": null,
            "_view_module": "@jupyter-widgets/controls",
            "_view_module_version": "1.5.0",
            "_view_name": "HBoxView",
            "box_style": "",
            "children": [
              "IPY_MODEL_4544a1fd9d664b57b9815f06c58217e5",
              "IPY_MODEL_db2b2607e6004bb9a702f20b5f261c8e",
              "IPY_MODEL_93bde45d25d54239978889c315e274cc"
            ],
            "layout": "IPY_MODEL_df010f3395014927844e8d5b59009c29"
          }
        },
        "b3fa197c27964efba6ef4f068acedca9": {
          "model_module": "@jupyter-widgets/controls",
          "model_module_version": "1.5.0",
          "model_name": "HBoxModel",
          "state": {
            "_dom_classes": [],
            "_model_module": "@jupyter-widgets/controls",
            "_model_module_version": "1.5.0",
            "_model_name": "HBoxModel",
            "_view_count": null,
            "_view_module": "@jupyter-widgets/controls",
            "_view_module_version": "1.5.0",
            "_view_name": "HBoxView",
            "box_style": "",
            "children": [
              "IPY_MODEL_76bf902f4a4a46ef9461d88cbc4adf66",
              "IPY_MODEL_ce42be1f968a4fcea7d0a0c1792b932c",
              "IPY_MODEL_780c02cf398d4b65af3536055ff51ef6"
            ],
            "layout": "IPY_MODEL_a844358d21f54a8caebfdbb1539f3600"
          }
        },
        "bc3bde5a53d04c27afad5302cfcaa1f5": {
          "model_module": "@jupyter-widgets/controls",
          "model_module_version": "1.5.0",
          "model_name": "DescriptionStyleModel",
          "state": {
            "_model_module": "@jupyter-widgets/controls",
            "_model_module_version": "1.5.0",
            "_model_name": "DescriptionStyleModel",
            "_view_count": null,
            "_view_module": "@jupyter-widgets/base",
            "_view_module_version": "1.2.0",
            "_view_name": "StyleView",
            "description_width": ""
          }
        },
        "be47ce91f649489ca814f8ed07cf7b3e": {
          "model_module": "@jupyter-widgets/controls",
          "model_module_version": "1.5.0",
          "model_name": "HTMLModel",
          "state": {
            "_dom_classes": [],
            "_model_module": "@jupyter-widgets/controls",
            "_model_module_version": "1.5.0",
            "_model_name": "HTMLModel",
            "_view_count": null,
            "_view_module": "@jupyter-widgets/controls",
            "_view_module_version": "1.5.0",
            "_view_name": "HTMLView",
            "description": "",
            "description_tooltip": null,
            "layout": "IPY_MODEL_9b44862fa504482892ca5d3a8a616dfb",
            "placeholder": "​",
            "style": "IPY_MODEL_48df76eb4edc4e58954434e0a35bc9e4",
            "value": " 20.5M/20.5M [00:00&lt;00:00, 24.5MB/s]"
          }
        },
        "be8c403adfbd4385b570623d40580ffd": {
          "model_module": "@jupyter-widgets/controls",
          "model_module_version": "1.5.0",
          "model_name": "HBoxModel",
          "state": {
            "_dom_classes": [],
            "_model_module": "@jupyter-widgets/controls",
            "_model_module_version": "1.5.0",
            "_model_name": "HBoxModel",
            "_view_count": null,
            "_view_module": "@jupyter-widgets/controls",
            "_view_module_version": "1.5.0",
            "_view_name": "HBoxView",
            "box_style": "",
            "children": [
              "IPY_MODEL_d36a324a73fe4529bc4be31b20fc54cf",
              "IPY_MODEL_5e67ac0ee7334ff2a174b8b49057e3af",
              "IPY_MODEL_f7c219c6dc3e4d13bce601fed44b4e2a"
            ],
            "layout": "IPY_MODEL_5d4859cc6ee4483d86a49d0accec9d1d"
          }
        },
        "c131374531dd4ad089f63914e8400347": {
          "model_module": "@jupyter-widgets/controls",
          "model_module_version": "1.5.0",
          "model_name": "DescriptionStyleModel",
          "state": {
            "_model_module": "@jupyter-widgets/controls",
            "_model_module_version": "1.5.0",
            "_model_name": "DescriptionStyleModel",
            "_view_count": null,
            "_view_module": "@jupyter-widgets/base",
            "_view_module_version": "1.2.0",
            "_view_name": "StyleView",
            "description_width": ""
          }
        },
        "c32e1db978ab4a87829122de9f9c5efc": {
          "model_module": "@jupyter-widgets/base",
          "model_module_version": "1.2.0",
          "model_name": "LayoutModel",
          "state": {
            "_model_module": "@jupyter-widgets/base",
            "_model_module_version": "1.2.0",
            "_model_name": "LayoutModel",
            "_view_count": null,
            "_view_module": "@jupyter-widgets/base",
            "_view_module_version": "1.2.0",
            "_view_name": "LayoutView",
            "align_content": null,
            "align_items": null,
            "align_self": null,
            "border": null,
            "bottom": null,
            "display": null,
            "flex": null,
            "flex_flow": null,
            "grid_area": null,
            "grid_auto_columns": null,
            "grid_auto_flow": null,
            "grid_auto_rows": null,
            "grid_column": null,
            "grid_gap": null,
            "grid_row": null,
            "grid_template_areas": null,
            "grid_template_columns": null,
            "grid_template_rows": null,
            "height": null,
            "justify_content": null,
            "justify_items": null,
            "left": null,
            "margin": null,
            "max_height": null,
            "max_width": null,
            "min_height": null,
            "min_width": null,
            "object_fit": null,
            "object_position": null,
            "order": null,
            "overflow": null,
            "overflow_x": null,
            "overflow_y": null,
            "padding": null,
            "right": null,
            "top": null,
            "visibility": null,
            "width": null
          }
        },
        "ca975a58dfbc432db199bfa9bbb44dbd": {
          "model_module": "@jupyter-widgets/base",
          "model_module_version": "1.2.0",
          "model_name": "LayoutModel",
          "state": {
            "_model_module": "@jupyter-widgets/base",
            "_model_module_version": "1.2.0",
            "_model_name": "LayoutModel",
            "_view_count": null,
            "_view_module": "@jupyter-widgets/base",
            "_view_module_version": "1.2.0",
            "_view_name": "LayoutView",
            "align_content": null,
            "align_items": null,
            "align_self": null,
            "border": null,
            "bottom": null,
            "display": null,
            "flex": null,
            "flex_flow": null,
            "grid_area": null,
            "grid_auto_columns": null,
            "grid_auto_flow": null,
            "grid_auto_rows": null,
            "grid_column": null,
            "grid_gap": null,
            "grid_row": null,
            "grid_template_areas": null,
            "grid_template_columns": null,
            "grid_template_rows": null,
            "height": null,
            "justify_content": null,
            "justify_items": null,
            "left": null,
            "margin": null,
            "max_height": null,
            "max_width": null,
            "min_height": null,
            "min_width": null,
            "object_fit": null,
            "object_position": null,
            "order": null,
            "overflow": null,
            "overflow_x": null,
            "overflow_y": null,
            "padding": null,
            "right": null,
            "top": null,
            "visibility": null,
            "width": null
          }
        },
        "ce42be1f968a4fcea7d0a0c1792b932c": {
          "model_module": "@jupyter-widgets/controls",
          "model_module_version": "1.5.0",
          "model_name": "FloatProgressModel",
          "state": {
            "_dom_classes": [],
            "_model_module": "@jupyter-widgets/controls",
            "_model_module_version": "1.5.0",
            "_model_name": "FloatProgressModel",
            "_view_count": null,
            "_view_module": "@jupyter-widgets/controls",
            "_view_module_version": "1.5.0",
            "_view_name": "ProgressView",
            "bar_style": "success",
            "description": "",
            "description_tooltip": null,
            "layout": "IPY_MODEL_0bfa0fcedd0c4f92b8f33a05a31e6c6c",
            "max": 7809,
            "min": 0,
            "orientation": "horizontal",
            "style": "IPY_MODEL_f1df8aac19f047dd9a80e5184ea3a635",
            "value": 7809
          }
        },
        "cef0d6247e174b33a2041b5863fdc80e": {
          "model_module": "@jupyter-widgets/base",
          "model_module_version": "1.2.0",
          "model_name": "LayoutModel",
          "state": {
            "_model_module": "@jupyter-widgets/base",
            "_model_module_version": "1.2.0",
            "_model_name": "LayoutModel",
            "_view_count": null,
            "_view_module": "@jupyter-widgets/base",
            "_view_module_version": "1.2.0",
            "_view_name": "LayoutView",
            "align_content": null,
            "align_items": null,
            "align_self": null,
            "border": null,
            "bottom": null,
            "display": null,
            "flex": null,
            "flex_flow": null,
            "grid_area": null,
            "grid_auto_columns": null,
            "grid_auto_flow": null,
            "grid_auto_rows": null,
            "grid_column": null,
            "grid_gap": null,
            "grid_row": null,
            "grid_template_areas": null,
            "grid_template_columns": null,
            "grid_template_rows": null,
            "height": null,
            "justify_content": null,
            "justify_items": null,
            "left": null,
            "margin": null,
            "max_height": null,
            "max_width": null,
            "min_height": null,
            "min_width": null,
            "object_fit": null,
            "object_position": null,
            "order": null,
            "overflow": null,
            "overflow_x": null,
            "overflow_y": null,
            "padding": null,
            "right": null,
            "top": null,
            "visibility": null,
            "width": null
          }
        },
        "d36a324a73fe4529bc4be31b20fc54cf": {
          "model_module": "@jupyter-widgets/controls",
          "model_module_version": "1.5.0",
          "model_name": "HTMLModel",
          "state": {
            "_dom_classes": [],
            "_model_module": "@jupyter-widgets/controls",
            "_model_module_version": "1.5.0",
            "_model_name": "HTMLModel",
            "_view_count": null,
            "_view_module": "@jupyter-widgets/controls",
            "_view_module_version": "1.5.0",
            "_view_name": "HTMLView",
            "description": "",
            "description_tooltip": null,
            "layout": "IPY_MODEL_d9f1787504014bd09009b15a311df224",
            "placeholder": "​",
            "style": "IPY_MODEL_332bdee2b79f430a9bbc72c8c16e763b",
            "value": "Downloading data: 100%"
          }
        },
        "d498a1501fd44dea97fbb1c607c0afce": {
          "model_module": "@jupyter-widgets/base",
          "model_module_version": "1.2.0",
          "model_name": "LayoutModel",
          "state": {
            "_model_module": "@jupyter-widgets/base",
            "_model_module_version": "1.2.0",
            "_model_name": "LayoutModel",
            "_view_count": null,
            "_view_module": "@jupyter-widgets/base",
            "_view_module_version": "1.2.0",
            "_view_name": "LayoutView",
            "align_content": null,
            "align_items": null,
            "align_self": null,
            "border": null,
            "bottom": null,
            "display": null,
            "flex": null,
            "flex_flow": null,
            "grid_area": null,
            "grid_auto_columns": null,
            "grid_auto_flow": null,
            "grid_auto_rows": null,
            "grid_column": null,
            "grid_gap": null,
            "grid_row": null,
            "grid_template_areas": null,
            "grid_template_columns": null,
            "grid_template_rows": null,
            "height": null,
            "justify_content": null,
            "justify_items": null,
            "left": null,
            "margin": null,
            "max_height": null,
            "max_width": null,
            "min_height": null,
            "min_width": null,
            "object_fit": null,
            "object_position": null,
            "order": null,
            "overflow": null,
            "overflow_x": null,
            "overflow_y": null,
            "padding": null,
            "right": null,
            "top": null,
            "visibility": null,
            "width": null
          }
        },
        "d67281395b9e424da9a2bcf5a4cf2f2c": {
          "model_module": "@jupyter-widgets/base",
          "model_module_version": "1.2.0",
          "model_name": "LayoutModel",
          "state": {
            "_model_module": "@jupyter-widgets/base",
            "_model_module_version": "1.2.0",
            "_model_name": "LayoutModel",
            "_view_count": null,
            "_view_module": "@jupyter-widgets/base",
            "_view_module_version": "1.2.0",
            "_view_name": "LayoutView",
            "align_content": null,
            "align_items": null,
            "align_self": null,
            "border": null,
            "bottom": null,
            "display": null,
            "flex": null,
            "flex_flow": null,
            "grid_area": null,
            "grid_auto_columns": null,
            "grid_auto_flow": null,
            "grid_auto_rows": null,
            "grid_column": null,
            "grid_gap": null,
            "grid_row": null,
            "grid_template_areas": null,
            "grid_template_columns": null,
            "grid_template_rows": null,
            "height": null,
            "justify_content": null,
            "justify_items": null,
            "left": null,
            "margin": null,
            "max_height": null,
            "max_width": null,
            "min_height": null,
            "min_width": null,
            "object_fit": null,
            "object_position": null,
            "order": null,
            "overflow": null,
            "overflow_x": null,
            "overflow_y": null,
            "padding": null,
            "right": null,
            "top": null,
            "visibility": null,
            "width": null
          }
        },
        "d9f1787504014bd09009b15a311df224": {
          "model_module": "@jupyter-widgets/base",
          "model_module_version": "1.2.0",
          "model_name": "LayoutModel",
          "state": {
            "_model_module": "@jupyter-widgets/base",
            "_model_module_version": "1.2.0",
            "_model_name": "LayoutModel",
            "_view_count": null,
            "_view_module": "@jupyter-widgets/base",
            "_view_module_version": "1.2.0",
            "_view_name": "LayoutView",
            "align_content": null,
            "align_items": null,
            "align_self": null,
            "border": null,
            "bottom": null,
            "display": null,
            "flex": null,
            "flex_flow": null,
            "grid_area": null,
            "grid_auto_columns": null,
            "grid_auto_flow": null,
            "grid_auto_rows": null,
            "grid_column": null,
            "grid_gap": null,
            "grid_row": null,
            "grid_template_areas": null,
            "grid_template_columns": null,
            "grid_template_rows": null,
            "height": null,
            "justify_content": null,
            "justify_items": null,
            "left": null,
            "margin": null,
            "max_height": null,
            "max_width": null,
            "min_height": null,
            "min_width": null,
            "object_fit": null,
            "object_position": null,
            "order": null,
            "overflow": null,
            "overflow_x": null,
            "overflow_y": null,
            "padding": null,
            "right": null,
            "top": null,
            "visibility": null,
            "width": null
          }
        },
        "db2b2607e6004bb9a702f20b5f261c8e": {
          "model_module": "@jupyter-widgets/controls",
          "model_module_version": "1.5.0",
          "model_name": "FloatProgressModel",
          "state": {
            "_dom_classes": [],
            "_model_module": "@jupyter-widgets/controls",
            "_model_module_version": "1.5.0",
            "_model_name": "FloatProgressModel",
            "_view_count": null,
            "_view_module": "@jupyter-widgets/controls",
            "_view_module_version": "1.5.0",
            "_view_name": "ProgressView",
            "bar_style": "success",
            "description": "",
            "description_tooltip": null,
            "layout": "IPY_MODEL_0db3133a83444127997314aefc2c914f",
            "max": 50000,
            "min": 0,
            "orientation": "horizontal",
            "style": "IPY_MODEL_91a7c60bb97f4833a103d10f38a22278",
            "value": 50000
          }
        },
        "df001df1b17245819c43e38a08151c82": {
          "model_module": "@jupyter-widgets/controls",
          "model_module_version": "1.5.0",
          "model_name": "DescriptionStyleModel",
          "state": {
            "_model_module": "@jupyter-widgets/controls",
            "_model_module_version": "1.5.0",
            "_model_name": "DescriptionStyleModel",
            "_view_count": null,
            "_view_module": "@jupyter-widgets/base",
            "_view_module_version": "1.2.0",
            "_view_name": "StyleView",
            "description_width": ""
          }
        },
        "df010f3395014927844e8d5b59009c29": {
          "model_module": "@jupyter-widgets/base",
          "model_module_version": "1.2.0",
          "model_name": "LayoutModel",
          "state": {
            "_model_module": "@jupyter-widgets/base",
            "_model_module_version": "1.2.0",
            "_model_name": "LayoutModel",
            "_view_count": null,
            "_view_module": "@jupyter-widgets/base",
            "_view_module_version": "1.2.0",
            "_view_name": "LayoutView",
            "align_content": null,
            "align_items": null,
            "align_self": null,
            "border": null,
            "bottom": null,
            "display": null,
            "flex": null,
            "flex_flow": null,
            "grid_area": null,
            "grid_auto_columns": null,
            "grid_auto_flow": null,
            "grid_auto_rows": null,
            "grid_column": null,
            "grid_gap": null,
            "grid_row": null,
            "grid_template_areas": null,
            "grid_template_columns": null,
            "grid_template_rows": null,
            "height": null,
            "justify_content": null,
            "justify_items": null,
            "left": null,
            "margin": null,
            "max_height": null,
            "max_width": null,
            "min_height": null,
            "min_width": null,
            "object_fit": null,
            "object_position": null,
            "order": null,
            "overflow": null,
            "overflow_x": null,
            "overflow_y": null,
            "padding": null,
            "right": null,
            "top": null,
            "visibility": null,
            "width": null
          }
        },
        "e291c19cebdf49849d345e45cd271f14": {
          "model_module": "@jupyter-widgets/controls",
          "model_module_version": "1.5.0",
          "model_name": "FloatProgressModel",
          "state": {
            "_dom_classes": [],
            "_model_module": "@jupyter-widgets/controls",
            "_model_module_version": "1.5.0",
            "_model_name": "FloatProgressModel",
            "_view_count": null,
            "_view_module": "@jupyter-widgets/controls",
            "_view_module_version": "1.5.0",
            "_view_name": "ProgressView",
            "bar_style": "success",
            "description": "",
            "description_tooltip": null,
            "layout": "IPY_MODEL_1b0efbfb5c7148f4ae9f18e9008d568e",
            "max": 25000,
            "min": 0,
            "orientation": "horizontal",
            "style": "IPY_MODEL_621ce0e6dd8e4b51a0de31f148689f83",
            "value": 25000
          }
        },
        "e3c66dd7e356491997265e079c085f39": {
          "model_module": "@jupyter-widgets/controls",
          "model_module_version": "1.5.0",
          "model_name": "FloatProgressModel",
          "state": {
            "_dom_classes": [],
            "_model_module": "@jupyter-widgets/controls",
            "_model_module_version": "1.5.0",
            "_model_name": "FloatProgressModel",
            "_view_count": null,
            "_view_module": "@jupyter-widgets/controls",
            "_view_module_version": "1.5.0",
            "_view_name": "ProgressView",
            "bar_style": "success",
            "description": "",
            "description_tooltip": null,
            "layout": "IPY_MODEL_47d396e194374fa6a00766390da86e23",
            "max": 25000,
            "min": 0,
            "orientation": "horizontal",
            "style": "IPY_MODEL_9e2d1c69c3a346a9b4b5dd3a2a1494a7",
            "value": 25000
          }
        },
        "e77780efc9f449ac9975acffbf9a202c": {
          "model_module": "@jupyter-widgets/base",
          "model_module_version": "1.2.0",
          "model_name": "LayoutModel",
          "state": {
            "_model_module": "@jupyter-widgets/base",
            "_model_module_version": "1.2.0",
            "_model_name": "LayoutModel",
            "_view_count": null,
            "_view_module": "@jupyter-widgets/base",
            "_view_module_version": "1.2.0",
            "_view_name": "LayoutView",
            "align_content": null,
            "align_items": null,
            "align_self": null,
            "border": null,
            "bottom": null,
            "display": null,
            "flex": null,
            "flex_flow": null,
            "grid_area": null,
            "grid_auto_columns": null,
            "grid_auto_flow": null,
            "grid_auto_rows": null,
            "grid_column": null,
            "grid_gap": null,
            "grid_row": null,
            "grid_template_areas": null,
            "grid_template_columns": null,
            "grid_template_rows": null,
            "height": null,
            "justify_content": null,
            "justify_items": null,
            "left": null,
            "margin": null,
            "max_height": null,
            "max_width": null,
            "min_height": null,
            "min_width": null,
            "object_fit": null,
            "object_position": null,
            "order": null,
            "overflow": null,
            "overflow_x": null,
            "overflow_y": null,
            "padding": null,
            "right": null,
            "top": null,
            "visibility": null,
            "width": null
          }
        },
        "e907bf5b98a24a30a561ef6dd176edcd": {
          "model_module": "@jupyter-widgets/controls",
          "model_module_version": "1.5.0",
          "model_name": "ProgressStyleModel",
          "state": {
            "_model_module": "@jupyter-widgets/controls",
            "_model_module_version": "1.5.0",
            "_model_name": "ProgressStyleModel",
            "_view_count": null,
            "_view_module": "@jupyter-widgets/base",
            "_view_module_version": "1.2.0",
            "_view_name": "StyleView",
            "bar_color": null,
            "description_width": ""
          }
        },
        "eb445ff7058d4065be64a5e11d7943b3": {
          "model_module": "@jupyter-widgets/base",
          "model_module_version": "1.2.0",
          "model_name": "LayoutModel",
          "state": {
            "_model_module": "@jupyter-widgets/base",
            "_model_module_version": "1.2.0",
            "_model_name": "LayoutModel",
            "_view_count": null,
            "_view_module": "@jupyter-widgets/base",
            "_view_module_version": "1.2.0",
            "_view_name": "LayoutView",
            "align_content": null,
            "align_items": null,
            "align_self": null,
            "border": null,
            "bottom": null,
            "display": null,
            "flex": null,
            "flex_flow": null,
            "grid_area": null,
            "grid_auto_columns": null,
            "grid_auto_flow": null,
            "grid_auto_rows": null,
            "grid_column": null,
            "grid_gap": null,
            "grid_row": null,
            "grid_template_areas": null,
            "grid_template_columns": null,
            "grid_template_rows": null,
            "height": null,
            "justify_content": null,
            "justify_items": null,
            "left": null,
            "margin": null,
            "max_height": null,
            "max_width": null,
            "min_height": null,
            "min_width": null,
            "object_fit": null,
            "object_position": null,
            "order": null,
            "overflow": null,
            "overflow_x": null,
            "overflow_y": null,
            "padding": null,
            "right": null,
            "top": null,
            "visibility": null,
            "width": null
          }
        },
        "ec19091665424e4b91ae05c1636f6c43": {
          "model_module": "@jupyter-widgets/base",
          "model_module_version": "1.2.0",
          "model_name": "LayoutModel",
          "state": {
            "_model_module": "@jupyter-widgets/base",
            "_model_module_version": "1.2.0",
            "_model_name": "LayoutModel",
            "_view_count": null,
            "_view_module": "@jupyter-widgets/base",
            "_view_module_version": "1.2.0",
            "_view_name": "LayoutView",
            "align_content": null,
            "align_items": null,
            "align_self": null,
            "border": null,
            "bottom": null,
            "display": null,
            "flex": null,
            "flex_flow": null,
            "grid_area": null,
            "grid_auto_columns": null,
            "grid_auto_flow": null,
            "grid_auto_rows": null,
            "grid_column": null,
            "grid_gap": null,
            "grid_row": null,
            "grid_template_areas": null,
            "grid_template_columns": null,
            "grid_template_rows": null,
            "height": null,
            "justify_content": null,
            "justify_items": null,
            "left": null,
            "margin": null,
            "max_height": null,
            "max_width": null,
            "min_height": null,
            "min_width": null,
            "object_fit": null,
            "object_position": null,
            "order": null,
            "overflow": null,
            "overflow_x": null,
            "overflow_y": null,
            "padding": null,
            "right": null,
            "top": null,
            "visibility": null,
            "width": null
          }
        },
        "f1df8aac19f047dd9a80e5184ea3a635": {
          "model_module": "@jupyter-widgets/controls",
          "model_module_version": "1.5.0",
          "model_name": "ProgressStyleModel",
          "state": {
            "_model_module": "@jupyter-widgets/controls",
            "_model_module_version": "1.5.0",
            "_model_name": "ProgressStyleModel",
            "_view_count": null,
            "_view_module": "@jupyter-widgets/base",
            "_view_module_version": "1.2.0",
            "_view_name": "StyleView",
            "bar_color": null,
            "description_width": ""
          }
        },
        "f7c219c6dc3e4d13bce601fed44b4e2a": {
          "model_module": "@jupyter-widgets/controls",
          "model_module_version": "1.5.0",
          "model_name": "HTMLModel",
          "state": {
            "_dom_classes": [],
            "_model_module": "@jupyter-widgets/controls",
            "_model_module_version": "1.5.0",
            "_model_name": "HTMLModel",
            "_view_count": null,
            "_view_module": "@jupyter-widgets/controls",
            "_view_module_version": "1.5.0",
            "_view_name": "HTMLView",
            "description": "",
            "description_tooltip": null,
            "layout": "IPY_MODEL_26ec5aea33a74922b52c3254aa1fe128",
            "placeholder": "​",
            "style": "IPY_MODEL_392fd58dd841424cb798a5be5c921daa",
            "value": " 21.0M/21.0M [00:01&lt;00:00, 19.4MB/s]"
          }
        },
        "fa1ae8c59b17440a8970e711fd3983d4": {
          "model_module": "@jupyter-widgets/controls",
          "model_module_version": "1.5.0",
          "model_name": "HTMLModel",
          "state": {
            "_dom_classes": [],
            "_model_module": "@jupyter-widgets/controls",
            "_model_module_version": "1.5.0",
            "_model_name": "HTMLModel",
            "_view_count": null,
            "_view_module": "@jupyter-widgets/controls",
            "_view_module_version": "1.5.0",
            "_view_name": "HTMLView",
            "description": "",
            "description_tooltip": null,
            "layout": "IPY_MODEL_11182339b68a459cb0ea952312d404eb",
            "placeholder": "​",
            "style": "IPY_MODEL_bc3bde5a53d04c27afad5302cfcaa1f5",
            "value": "Downloading data: 100%"
          }
        },
        "fbc53354350e40c3b06f143699eb693a": {
          "model_module": "@jupyter-widgets/controls",
          "model_module_version": "1.5.0",
          "model_name": "HTMLModel",
          "state": {
            "_dom_classes": [],
            "_model_module": "@jupyter-widgets/controls",
            "_model_module_version": "1.5.0",
            "_model_name": "HTMLModel",
            "_view_count": null,
            "_view_module": "@jupyter-widgets/controls",
            "_view_module_version": "1.5.0",
            "_view_name": "HTMLView",
            "description": "",
            "description_tooltip": null,
            "layout": "IPY_MODEL_9cd0c018df2e40159ba60b2ea78a02bc",
            "placeholder": "​",
            "style": "IPY_MODEL_feebcb4013bc477799038bf32dcf0963",
            "value": "Generating train split: 100%"
          }
        },
        "fc8878125bbf4d22b5b54fe4e6c8c70b": {
          "model_module": "@jupyter-widgets/base",
          "model_module_version": "1.2.0",
          "model_name": "LayoutModel",
          "state": {
            "_model_module": "@jupyter-widgets/base",
            "_model_module_version": "1.2.0",
            "_model_name": "LayoutModel",
            "_view_count": null,
            "_view_module": "@jupyter-widgets/base",
            "_view_module_version": "1.2.0",
            "_view_name": "LayoutView",
            "align_content": null,
            "align_items": null,
            "align_self": null,
            "border": null,
            "bottom": null,
            "display": null,
            "flex": null,
            "flex_flow": null,
            "grid_area": null,
            "grid_auto_columns": null,
            "grid_auto_flow": null,
            "grid_auto_rows": null,
            "grid_column": null,
            "grid_gap": null,
            "grid_row": null,
            "grid_template_areas": null,
            "grid_template_columns": null,
            "grid_template_rows": null,
            "height": null,
            "justify_content": null,
            "justify_items": null,
            "left": null,
            "margin": null,
            "max_height": null,
            "max_width": null,
            "min_height": null,
            "min_width": null,
            "object_fit": null,
            "object_position": null,
            "order": null,
            "overflow": null,
            "overflow_x": null,
            "overflow_y": null,
            "padding": null,
            "right": null,
            "top": null,
            "visibility": null,
            "width": null
          }
        },
        "fd4398791a97490e9036887f5d2a9fd3": {
          "model_module": "@jupyter-widgets/base",
          "model_module_version": "1.2.0",
          "model_name": "LayoutModel",
          "state": {
            "_model_module": "@jupyter-widgets/base",
            "_model_module_version": "1.2.0",
            "_model_name": "LayoutModel",
            "_view_count": null,
            "_view_module": "@jupyter-widgets/base",
            "_view_module_version": "1.2.0",
            "_view_name": "LayoutView",
            "align_content": null,
            "align_items": null,
            "align_self": null,
            "border": null,
            "bottom": null,
            "display": null,
            "flex": null,
            "flex_flow": null,
            "grid_area": null,
            "grid_auto_columns": null,
            "grid_auto_flow": null,
            "grid_auto_rows": null,
            "grid_column": null,
            "grid_gap": null,
            "grid_row": null,
            "grid_template_areas": null,
            "grid_template_columns": null,
            "grid_template_rows": null,
            "height": null,
            "justify_content": null,
            "justify_items": null,
            "left": null,
            "margin": null,
            "max_height": null,
            "max_width": null,
            "min_height": null,
            "min_width": null,
            "object_fit": null,
            "object_position": null,
            "order": null,
            "overflow": null,
            "overflow_x": null,
            "overflow_y": null,
            "padding": null,
            "right": null,
            "top": null,
            "visibility": null,
            "width": null
          }
        },
        "feebcb4013bc477799038bf32dcf0963": {
          "model_module": "@jupyter-widgets/controls",
          "model_module_version": "1.5.0",
          "model_name": "DescriptionStyleModel",
          "state": {
            "_model_module": "@jupyter-widgets/controls",
            "_model_module_version": "1.5.0",
            "_model_name": "DescriptionStyleModel",
            "_view_count": null,
            "_view_module": "@jupyter-widgets/base",
            "_view_module_version": "1.2.0",
            "_view_name": "StyleView",
            "description_width": ""
          }
        }
      }
    }
  },
  "nbformat": 4,
  "nbformat_minor": 0
}
