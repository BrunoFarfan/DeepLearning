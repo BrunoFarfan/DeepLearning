{
  "cells": [
    {
      "cell_type": "markdown",
      "metadata": {
        "id": "nMfCWFpB06WN"
      },
      "source": [
        "\n",
        "#Tarea 3\n",
        "---\n",
        "*03-06-2023*\n",
        "\n",
        "*Martín Gallegos*"
      ]
    },
    {
      "cell_type": "markdown",
      "metadata": {
        "id": "Dam7QoCl7Iuw"
      },
      "source": [
        "# Identificación"
      ]
    },
    {
      "cell_type": "code",
      "execution_count": 1,
      "metadata": {
        "id": "RtGVTWuj7KxD"
      },
      "outputs": [],
      "source": [
        "Nombre = \"Bruno Farfán\"\n",
        "id = \"2064230J\""
      ]
    },
    {
      "cell_type": "markdown",
      "metadata": {},
      "source": [
        "# Preguntas Teóricas:\n",
        "\n",
        "## Pregunta 1:\n",
        "\n",
        "Que el problema sea de tipo Markoviano es importante, ya que nos permite resumir todo el entorno en el estado actual del modelo (ya que la probabilidad de ocurrencia de estados futuros solamente depende del estado actual), haciendo que el Actor pueda tomar una acción basandose exclusivamente en el estado actual, y con este obtener una imagen completa del mundo en el que se encuentra.\n",
        "Si el problema no fuese Markoviano, entonces el modelo tendría que tener en consideración los estados pasados para tomar una acción y aunque el algoritmo considera estocasticidad y por lo tanto tiene resultados futuros inciertos, como se mencionó, esta incertidumbre depende exclusivamente del estado actual y no de los estados pasados.\n",
        "\n",
        "## Pregunta 2:\n",
        "\n",
        "La función `Q(s,a)` nos entrega la recompensa de ejecutar la acción `a` cuando estamos en el estado `s`. Es decir, nos está diciendo que tan bueno o malo es tomar una acción `a` cuando nos encontramos en el estado `s`.\n",
        "Nos interesa estimarla, debido a que al decirnos que tan buena o mala es cierta acción en determinado estado, nos está dando una guía o mapa para proceder dentro del mundo del agente. Con una función `Q` precisa el agente podrá predecir mejor el impacto de sus decisiones y planificar sus acciones futuras, generando así una política cada vez mejor para interactuar con su mundo.\n",
        "\n",
        "## Pregunta 3:\n",
        "\n",
        "La implementación de dos redes neuronales para estimar la función `Q` es debido a que tener dos redes neuronales ayuda a evitar el sesgo de sobreestimación, lo que es común en modelos de RL basados en estimación de la función `Q`. Al entrenar se usan dos redes independientes y se actualizan los parámetros con el mínimo entre las estimaciones de ambas redes.\n",
        "Además al tener dos redes el entrenamiento se logra hacer más estable ya que las redes pueden irse compensando mutuamente.\n",
        "\n",
        "## Pregunta 4:\n",
        "\n",
        "Que un algoritmo de aprendizaje RL sea _model-free_ significa que no necesita un modelo explícito de su entorno para aprender a tomar decisiones. Es decir el agente aprende mediante sus interacciones con el entorno y no necesita conocer la función de recompensa.\n",
        "Que un algoritmo sea _off-policy_ quiere decir que puede aprender la política óptima utilizando experiencias que no fueron generadas por la política que está siendo actualmente aprendida. Es decir, puede aprender de un _buffer_ que fue generado por otra política.\n",
        "\n",
        "## Pregunta 5:\n",
        "\n",
        "El algoritmo SAC aborda el _trade-off_ entre exploración y explotación mediante el uso de **entropía**. La entropía mide el grado de incertidumbre de la política de decisión del agente. El algoritmo SAC incluye un termino de entropía en la función objetivo con el propósito de fomentar la exploración. Esta se pondera con un parámtro α, que aumenta o disminuye la tendencía a la exploración.\n",
        "\n",
        "## Pregunta 6:\n",
        "\n",
        "El algoritmo DQN está diseñado para operar en entornos discretos, con cantidad finita de acciones y conocida. Como el problema abordado involucra el control de un brazo robótico con dos grados de libertad, la cantidad de acciones es infinita, por lo que un algoritmo como DQN no serviría. Sería necesario discretizar las acciones del brazo, lo que podría llevar a errores en la precisión y estabilidad del robot."
      ]
    },
    {
      "cell_type": "markdown",
      "metadata": {
        "id": "2nWun2Dx1G-n"
      },
      "source": [
        "# Librerias"
      ]
    },
    {
      "cell_type": "markdown",
      "metadata": {
        "id": "qWo3hdToO23V"
      },
      "source": [
        "## PyTorch"
      ]
    },
    {
      "cell_type": "code",
      "execution_count": 2,
      "metadata": {
        "id": "G8SiBKSOO2Zi"
      },
      "outputs": [],
      "source": [
        "from torch.distributions.normal import Normal\n",
        "import torchvision.transforms as TF\n",
        "from collections import namedtuple\n",
        "import torch.nn.functional as F\n",
        "import torch.optim as optim\n",
        "import torch.nn as nn\n",
        "import torch"
      ]
    },
    {
      "cell_type": "markdown",
      "metadata": {
        "id": "Wy0kkBA_NSTt"
      },
      "source": [
        "## Librerias *comunes*"
      ]
    },
    {
      "cell_type": "code",
      "execution_count": 3,
      "metadata": {
        "id": "3u8D01lw1MLn"
      },
      "outputs": [],
      "source": [
        "import os\n",
        "import random\n",
        "import numpy as np\n",
        "import matplotlib.pyplot as plt\n",
        "from collections import deque\n",
        "import gymnasium as gym"
      ]
    },
    {
      "cell_type": "markdown",
      "metadata": {
        "id": "nI54X1JX7jIG"
      },
      "source": [
        "# Setup Reacher v4"
      ]
    },
    {
      "cell_type": "markdown",
      "metadata": {
        "id": "uEKmf6nNPHVn"
      },
      "source": [
        "# Aprendizaje Reforzado"
      ]
    },
    {
      "cell_type": "markdown",
      "metadata": {},
      "source": [
        "No es estrictamente necesario realizar un pre-procesamiento de los estados del sistema, a diferencia de otros problemas en ML. Sin embargo, esto no descarta que pueda ser útil para el entrenamiento y la optimización realizar dicho proceso.\n",
        "Un tipo común de preprocesamiento que se peude considerar es normalizar los estados del sistema. Normalizar los estados puede ser útil para estandarizar la escala de las observaciones y hacer que el aprendizaje sea más eficiente. Se puede calcular la media y la desviación estándar de los estados observados durante un período de tiempo y luego usarlas para normalizar los estados en cada paso de tiempo. Esto puede ayudar a estabilizar el entrenamiento y mejorar la convergencia del modelo.\n",
        "\n",
        "Como se mencionó, en este caso el pre-procesamiento no es necesario debido a que el agente SAC ya es capaz de aprender usando los datos tal y como los entrega el `env` de `gymnasium`.\n",
        "\n",
        "En cuanto a la secuencialidad y la dinámica del sistema, estas están implícitas en la forma en que se diseñó el entorno Reacher-v4. El entorno tiene una representación interna del estado del sistema que evoluciona con el tiempo a medida que se toman acciones. La secuencialidad y la dinámica del sistema se reflejan en las observaciones que recibe tu agente en cada paso de tiempo y en cómo estas observaciones cambian en respuesta a las acciones tomadas."
      ]
    },
    {
      "cell_type": "markdown",
      "metadata": {
        "id": "I6kRCYirPZ19"
      },
      "source": [
        "## ReplayBuffer"
      ]
    },
    {
      "cell_type": "code",
      "execution_count": 4,
      "metadata": {
        "id": "5_OBsyYrPHxU"
      },
      "outputs": [],
      "source": [
        "class ReplayBuffer:\n",
        "    def __init__(self, capacity):\n",
        "        self.capacity = capacity\n",
        "        self.buffer = deque(maxlen=capacity)\n",
        "\n",
        "    def append(self, experience):\n",
        "        self.buffer.append(experience)\n",
        "\n",
        "    def sample_batch(self, batch_size):\n",
        "        batch = random.sample(self.buffer, batch_size)\n",
        "        states, actions, rewards, next_states, dones = zip(*batch)\n",
        "        return {\n",
        "            'states': torch.tensor(np.array(states), dtype=torch.float32),\n",
        "            'actions': torch.tensor(np.array(actions), dtype=torch.float32),\n",
        "            'rewards': torch.tensor(np.array(rewards), dtype=torch.float32),\n",
        "            'next_states': torch.tensor(np.array(next_states), dtype=torch.float32),\n",
        "            'dones': torch.tensor(np.array(dones), dtype=torch.float32)\n",
        "        }\n",
        "\n",
        "    def initialise_buffer(self, env, size):\n",
        "        state, _ = env.reset()\n",
        "        for _ in range(size):\n",
        "            action = env.action_space.sample()\n",
        "            next_state, reward, done, truncated, _ = env.step(action)\n",
        "            experience = (state, action, reward, next_state, done or truncated)\n",
        "            self.append(experience)\n",
        "            state = next_state\n",
        "            if done or truncated:\n",
        "                state, _ = env.reset()"
      ]
    },
    {
      "cell_type": "markdown",
      "metadata": {
        "id": "7SgGdp5DPrw_"
      },
      "source": [
        "## Actor Network"
      ]
    },
    {
      "cell_type": "code",
      "execution_count": 5,
      "metadata": {
        "id": "TrJxCPN5Ps7R"
      },
      "outputs": [],
      "source": [
        "class ActorNetwork(nn.Module):\n",
        "    def __init__(self, input_dims, num_actions, hidden_dims, name='actor'):\n",
        "        super(ActorNetwork, self).__init__()\n",
        "        self.input_dims = input_dims\n",
        "        self.hidden_dims = hidden_dims\n",
        "        self.num_actions = num_actions\n",
        "        self.name = name\n",
        "\n",
        "        self.classifier = nn.Sequential(\n",
        "            nn.Linear(input_dims, hidden_dims),\n",
        "            nn.ReLU(),\n",
        "            nn.Linear(hidden_dims, hidden_dims),\n",
        "            nn.ReLU()\n",
        "        )\n",
        "\n",
        "        self.mu = nn.Sequential(\n",
        "            nn.Linear(hidden_dims, num_actions),\n",
        "            nn.Tanh()\n",
        "        )\n",
        "\n",
        "        self.sigma = nn.Sequential(\n",
        "            nn.Linear(hidden_dims, num_actions),\n",
        "            nn.Softplus()\n",
        "        )\n",
        "\n",
        "    def forward(self, x):\n",
        "        x = self.classifier(x)\n",
        "        mu = self.mu(x)\n",
        "        log_sigma = self.sigma(x)\n",
        "        return mu, log_sigma"
      ]
    },
    {
      "cell_type": "markdown",
      "metadata": {
        "id": "mPUVCKZgP20u"
      },
      "source": [
        "## Critic Network"
      ]
    },
    {
      "cell_type": "code",
      "execution_count": 6,
      "metadata": {
        "id": "Z4WWzlUEP5AY"
      },
      "outputs": [],
      "source": [
        "class CriticNetwork(nn.Module):\n",
        "    def __init__(self, input_dims, num_actions, output_dims, hidden_dims, name='critic'):\n",
        "        super(CriticNetwork, self).__init__()\n",
        "        self.input_dims = input_dims\n",
        "        self.output_dims = output_dims\n",
        "        self.hidden_dims = hidden_dims\n",
        "        self.num_actions = num_actions\n",
        "        self.name = name\n",
        "\n",
        "        self.classifier = nn.Sequential(\n",
        "            nn.Linear(input_dims + num_actions, hidden_dims),\n",
        "            nn.ReLU(),\n",
        "            nn.Linear(hidden_dims, hidden_dims),\n",
        "            nn.ReLU(),\n",
        "            nn.Linear(hidden_dims, output_dims)\n",
        "        )\n",
        "\n",
        "    def forward(self, state, action):\n",
        "        x = torch.cat([state, action], dim=1)\n",
        "        out = self.classifier(x)\n",
        "        return out"
      ]
    },
    {
      "cell_type": "markdown",
      "metadata": {
        "id": "cHs5_sIiQI7q"
      },
      "source": [
        "## SAC Agent"
      ]
    },
    {
      "cell_type": "code",
      "execution_count": 7,
      "metadata": {},
      "outputs": [],
      "source": [
        "import os\n",
        "\n",
        "def save_checkpoint(agent, episode, checkpoint_dir='checkpoints'):\n",
        "    if not os.path.exists(checkpoint_dir):\n",
        "        os.makedirs(checkpoint_dir)\n",
        "    torch.save(agent.critic1.state_dict(), os.path.join(checkpoint_dir, f'critic1_{episode}.pth'))\n",
        "    torch.save(agent.critic2.state_dict(), os.path.join(checkpoint_dir, f'critic2_{episode}.pth'))\n",
        "    torch.save(agent.target_critic1.state_dict(), os.path.join(checkpoint_dir, f'target_critic1_{episode}.pth'))\n",
        "    torch.save(agent.target_critic2.state_dict(), os.path.join(checkpoint_dir, f'target_critic2_{episode}.pth'))\n",
        "    torch.save(agent.actor.state_dict(), os.path.join(checkpoint_dir, f'actor_{episode}.pth'))"
      ]
    },
    {
      "cell_type": "code",
      "execution_count": 8,
      "metadata": {
        "id": "JouqABg5QKd0"
      },
      "outputs": [],
      "source": [
        "Rollout = namedtuple('Rollout', ['state', 'action', 'reward', 'next_state', 'done'])\n",
        "\n",
        "class SACAgent():\n",
        "    def __init__(self, env, lr, gamma, soft_update_tau, memory_size, hidden_size, log_std_range=[-20,2]):\n",
        "        self.device = torch.device(\"cuda\" if torch.cuda.is_available() else \"cpu\")\n",
        "\n",
        "        self.env = env\n",
        "        self.n_states = self.env.observation_space.shape[0]\n",
        "        self.n_actions = self.env.action_space.shape[0]\n",
        "        self.lr = lr\n",
        "        self.gamma = gamma\n",
        "        self.log_alpha = torch.tensor(np.log(0.2), requires_grad=True, device='cuda')\n",
        "        self.alpha = self.log_alpha.exp().detach()\n",
        "\n",
        "        self.tau = soft_update_tau\n",
        "        self.hidden_size = hidden_size\n",
        "        self.min_clamp = log_std_range[0]\n",
        "        self.max_clamp = log_std_range[-1]\n",
        "\n",
        "        self._init_model()\n",
        "        self.update_target_networks(tau=1)\n",
        "\n",
        "        self.criterion = nn.MSELoss()\n",
        "\n",
        "        self.memory = ReplayBuffer(capacity=memory_size)\n",
        "\n",
        "        self.alpha_optimizer = optim.Adam([self.log_alpha], lr=self.lr)\n",
        "\n",
        "    def _init_model(self):\n",
        "        self.critic1 = CriticNetwork(self.n_states, self.n_actions, 1, self.hidden_size).to(self.device)\n",
        "        self.critic2 = CriticNetwork(self.n_states, self.n_actions, 1, self.hidden_size).to(self.device)\n",
        "        self.target_critic1 = CriticNetwork(self.n_states, self.n_actions, 1, self.hidden_size).to(self.device)\n",
        "        self.target_critic2 = CriticNetwork(self.n_states, self.n_actions, 1, self.hidden_size).to(self.device)\n",
        "        self.actor = ActorNetwork(self.n_states, self.n_actions, self.hidden_size).to(self.device)\n",
        "\n",
        "        self.critic_optim1 = optim.Adam(self.critic1.parameters(), lr=self.lr)\n",
        "        self.critic_optim2 = optim.Adam(self.critic2.parameters(), lr=self.lr)\n",
        "        self.actor_optim = optim.Adam(self.actor.parameters(), lr=self.lr)\n",
        "\n",
        "    def update_target_networks(self, tau=None):\n",
        "        tau = self.tau if tau is None else tau\n",
        "        for target_param, param in zip(self.target_critic1.parameters(), self.critic1.parameters()):\n",
        "            target_param.data.copy_(tau * param.data + (1 - tau) * target_param.data)\n",
        "        for target_param, param in zip(self.target_critic2.parameters(), self.critic2.parameters()):\n",
        "            target_param.data.copy_(tau * param.data + (1 - tau) * target_param.data)\n",
        "\n",
        "    def get_action(self, state):\n",
        "        state = torch.tensor(state, dtype=torch.float32).to(self.device)\n",
        "        mean, log_sigma = self.actor(state)\n",
        "        sigma = log_sigma.clamp(self.min_clamp, self.max_clamp).exp()\n",
        "        normal = torch.distributions.Normal(mean, sigma)\n",
        "        z = normal.rsample()\n",
        "        action = torch.tanh(z)\n",
        "        log_prob = normal.log_prob(z) - torch.log(1 - action**2 + 1e-7)\n",
        "        log_prob = log_prob.sum(-1, keepdim=True)\n",
        "        return action, log_prob\n",
        "\n",
        "    def critic_loss(self, samples):\n",
        "        states = samples['states'].to(self.device)\n",
        "        actions = samples['actions'].to(self.device)\n",
        "        rewards = samples['rewards'].to(self.device)\n",
        "        next_states = samples['next_states'].to(self.device)\n",
        "        dones = samples['dones'].to(self.device)\n",
        "\n",
        "        with torch.no_grad():\n",
        "            next_actions, next_log_probs = self.get_action(next_states)\n",
        "            next_q1 = self.target_critic1(next_states, next_actions)\n",
        "            next_q2 = self.target_critic2(next_states, next_actions)\n",
        "            next_q = torch.min(next_q1, next_q2) - self.alpha * next_log_probs\n",
        "            target_q = rewards + (self.gamma * (1 - dones) * next_q)\n",
        "\n",
        "        pred_q1 = self.critic1(states, actions)\n",
        "        pred_q2 = self.critic2(states, actions)\n",
        "\n",
        "        loss1 = self.criterion(pred_q1, target_q.detach())\n",
        "        loss2 = self.criterion(pred_q2, target_q.detach())\n",
        "\n",
        "        return loss1, loss2\n",
        "\n",
        "    def actor_loss(self, states):\n",
        "        actions, log_probs = self.get_action(states)\n",
        "        q1 = self.critic1(states, actions)\n",
        "        q2 = self.critic2(states, actions)\n",
        "        q = torch.min(q1, q2)\n",
        "\n",
        "        policy_loss = (self.alpha * log_probs - q).mean()\n",
        "        return policy_loss, log_probs\n",
        "    \n",
        "    def alpha_loss(self, log_probs):\n",
        "        return -(self.log_alpha * (log_probs + self.target_entropy).detach()).mean()\n",
        "\n",
        "    def _choose_action(self, state, random=False):\n",
        "        if random:\n",
        "            actions = self.env.action_space.sample()\n",
        "        else:\n",
        "            with torch.no_grad():\n",
        "                actions, _ = self.get_action(state)\n",
        "        return actions.cpu().numpy()[0]\n",
        "\n",
        "    def learn(self, samples, target_update=False):\n",
        "        critic_loss1, critic_loss2 = self.critic_loss(samples)\n",
        "        self.critic_optim1.zero_grad()\n",
        "        self.critic_optim2.zero_grad()\n",
        "        critic_loss1.backward()\n",
        "        critic_loss2.backward()\n",
        "        self.critic_optim1.step()\n",
        "        self.critic_optim2.step()\n",
        "\n",
        "        actor_loss, log_probs = self.actor_loss(samples['states'].to(self.device))\n",
        "        self.actor_optim.zero_grad()\n",
        "        actor_loss.backward()\n",
        "\n",
        "        alpha_loss = self.alpha_loss(log_probs)\n",
        "        self.alpha_optimizer.zero_grad()\n",
        "        alpha_loss.backward()\n",
        "        self.alpha_optimizer.step()\n",
        "\n",
        "        for name, param in self.actor.named_parameters():\n",
        "            if param.grad is None:\n",
        "                print(f'No gradient for {name}')\n",
        "\n",
        "        self.actor_optim.step()\n",
        "\n",
        "        if target_update:\n",
        "            self.update_target_networks()\n",
        "        return torch.min(critic_loss1, critic_loss2).item(), actor_loss.item(), alpha_loss.item()\n",
        "\n",
        "    def train(self, n_episode=1000, batch_size=64, report_freq=10,\n",
        "              checkpoint_freq=50, initial_memory=1024, target_actualizations=100):\n",
        "        self.memory.initialise_buffer(self.env, size=initial_memory)\n",
        "        self.target_entropy = -float(self.n_actions)\n",
        "        results = []\n",
        "        for i in range(n_episode):\n",
        "            state, _ = self.env.reset()\n",
        "            done, truncated = False, False\n",
        "            eps_reward = 0\n",
        "            steps = 0\n",
        "\n",
        "            while not (done or truncated):\n",
        "                action = self._choose_action(state)\n",
        "                action = action.clip(self.env.action_space.low, self.env.action_space.high)\n",
        "                next_state, reward, done, truncated, _ = self.env.step(action)\n",
        "                roll = Rollout(state, action, reward, next_state, done or truncated)\n",
        "                self.memory.append(roll)\n",
        "                state = next_state\n",
        "\n",
        "                samples = self.memory.sample_batch(batch_size)\n",
        "                update_target_networks = (i % np.ceil(n_episode / target_actualizations) == 0)\n",
        "                critic_loss, actor_loss, alpha_loss = self.learn(samples, target_update=update_target_networks)\n",
        "\n",
        "                eps_reward += reward\n",
        "                steps += 1\n",
        "\n",
        "            results.append(eps_reward)\n",
        "\n",
        "            if i % report_freq == 0:\n",
        "                print(f'Episode {i}/{n_episode} \\t Reward: {eps_reward:.4f} \\t Critic Loss: {critic_loss:.3f} \\t Actor Loss: {actor_loss:.3f} \\t Alpha Loss: {alpha_loss:.3f} \\t Alpha: {self.alpha.item():.4f}')\n",
        "\n",
        "            if i % checkpoint_freq == 0:\n",
        "                save_checkpoint(self, i)\n",
        "\n",
        "        return results"
      ]
    },
    {
      "cell_type": "markdown",
      "metadata": {
        "id": "lTirYTDFQXJL"
      },
      "source": [
        "# Train"
      ]
    },
    {
      "cell_type": "code",
      "execution_count": 10,
      "metadata": {
        "colab": {
          "base_uri": "https://localhost:8080/",
          "height": 1000
        },
        "id": "TdVL-X9dQYYH",
        "outputId": "1773989f-e7a0-4ac8-8974-2a63f5517fab"
      },
      "outputs": [
        {
          "name": "stderr",
          "output_type": "stream",
          "text": [
            "C:\\Users\\Bruno\\AppData\\Local\\Temp\\ipykernel_10152\\2461390782.py:48: UserWarning: To copy construct from a tensor, it is recommended to use sourceTensor.clone().detach() or sourceTensor.clone().detach().requires_grad_(True), rather than torch.tensor(sourceTensor).\n",
            "  state = torch.tensor(state, dtype=torch.float32).to(self.device)\n"
          ]
        },
        {
          "name": "stdout",
          "output_type": "stream",
          "text": [
            "Episode 0/1000 \t Reward: -63.3242 \t Critic Loss: 0.330 \t Actor Loss: 0.489 \t Alpha Loss: -4.945 \t Alpha: 0.2000\n",
            "Episode 10/1000 \t Reward: -59.4507 \t Critic Loss: 0.263 \t Actor Loss: 0.654 \t Alpha Loss: -5.483 \t Alpha: 0.2000\n",
            "Episode 20/1000 \t Reward: -47.1384 \t Critic Loss: 0.316 \t Actor Loss: 0.745 \t Alpha Loss: -5.733 \t Alpha: 0.2000\n",
            "Episode 30/1000 \t Reward: -48.5497 \t Critic Loss: 0.317 \t Actor Loss: 0.864 \t Alpha Loss: -5.790 \t Alpha: 0.2000\n",
            "Episode 40/1000 \t Reward: -52.0564 \t Critic Loss: 0.362 \t Actor Loss: 1.006 \t Alpha Loss: -6.089 \t Alpha: 0.2000\n",
            "Episode 50/1000 \t Reward: -50.8768 \t Critic Loss: 0.387 \t Actor Loss: 1.038 \t Alpha Loss: -6.179 \t Alpha: 0.2000\n",
            "Episode 60/1000 \t Reward: -54.3206 \t Critic Loss: 0.390 \t Actor Loss: 1.227 \t Alpha Loss: -6.436 \t Alpha: 0.2000\n",
            "Episode 70/1000 \t Reward: -56.0040 \t Critic Loss: 0.396 \t Actor Loss: 1.338 \t Alpha Loss: -6.599 \t Alpha: 0.2000\n",
            "Episode 80/1000 \t Reward: -43.2426 \t Critic Loss: 0.416 \t Actor Loss: 1.561 \t Alpha Loss: -6.695 \t Alpha: 0.2000\n",
            "Episode 90/1000 \t Reward: -43.1963 \t Critic Loss: 0.461 \t Actor Loss: 1.713 \t Alpha Loss: -6.883 \t Alpha: 0.2000\n",
            "Episode 100/1000 \t Reward: -53.8910 \t Critic Loss: 0.394 \t Actor Loss: 1.835 \t Alpha Loss: -6.937 \t Alpha: 0.2000\n",
            "Episode 110/1000 \t Reward: -45.1258 \t Critic Loss: 0.418 \t Actor Loss: 1.938 \t Alpha Loss: -7.213 \t Alpha: 0.2000\n",
            "Episode 120/1000 \t Reward: -46.9496 \t Critic Loss: 0.422 \t Actor Loss: 2.150 \t Alpha Loss: -7.298 \t Alpha: 0.2000\n",
            "Episode 130/1000 \t Reward: -51.0773 \t Critic Loss: 0.445 \t Actor Loss: 2.318 \t Alpha Loss: -7.455 \t Alpha: 0.2000\n",
            "Episode 140/1000 \t Reward: -56.4899 \t Critic Loss: 0.491 \t Actor Loss: 2.422 \t Alpha Loss: -7.745 \t Alpha: 0.2000\n",
            "Episode 150/1000 \t Reward: -36.0740 \t Critic Loss: 0.412 \t Actor Loss: 2.534 \t Alpha Loss: -7.685 \t Alpha: 0.2000\n",
            "Episode 160/1000 \t Reward: -51.5015 \t Critic Loss: 0.510 \t Actor Loss: 2.726 \t Alpha Loss: -8.095 \t Alpha: 0.2000\n",
            "Episode 170/1000 \t Reward: -43.7133 \t Critic Loss: 0.517 \t Actor Loss: 2.928 \t Alpha Loss: -8.174 \t Alpha: 0.2000\n",
            "Episode 180/1000 \t Reward: -50.8064 \t Critic Loss: 0.541 \t Actor Loss: 3.021 \t Alpha Loss: -8.312 \t Alpha: 0.2000\n",
            "Episode 190/1000 \t Reward: -48.3933 \t Critic Loss: 0.438 \t Actor Loss: 3.208 \t Alpha Loss: -8.475 \t Alpha: 0.2000\n",
            "Episode 200/1000 \t Reward: -55.3765 \t Critic Loss: 0.411 \t Actor Loss: 3.387 \t Alpha Loss: -8.640 \t Alpha: 0.2000\n",
            "Episode 210/1000 \t Reward: -55.3874 \t Critic Loss: 0.530 \t Actor Loss: 3.500 \t Alpha Loss: -8.855 \t Alpha: 0.2000\n",
            "Episode 220/1000 \t Reward: -50.1548 \t Critic Loss: 0.448 \t Actor Loss: 3.645 \t Alpha Loss: -8.953 \t Alpha: 0.2000\n",
            "Episode 230/1000 \t Reward: -54.3037 \t Critic Loss: 0.451 \t Actor Loss: 3.867 \t Alpha Loss: -9.160 \t Alpha: 0.2000\n",
            "Episode 240/1000 \t Reward: -45.9545 \t Critic Loss: 0.701 \t Actor Loss: 3.955 \t Alpha Loss: -9.412 \t Alpha: 0.2000\n",
            "Episode 250/1000 \t Reward: -53.6169 \t Critic Loss: 0.729 \t Actor Loss: 4.070 \t Alpha Loss: -9.524 \t Alpha: 0.2000\n",
            "Episode 260/1000 \t Reward: -50.9223 \t Critic Loss: 0.498 \t Actor Loss: 4.200 \t Alpha Loss: -9.776 \t Alpha: 0.2000\n",
            "Episode 270/1000 \t Reward: -40.6520 \t Critic Loss: 0.625 \t Actor Loss: 4.414 \t Alpha Loss: -9.863 \t Alpha: 0.2000\n",
            "Episode 280/1000 \t Reward: -40.3622 \t Critic Loss: 0.676 \t Actor Loss: 4.526 \t Alpha Loss: -10.035 \t Alpha: 0.2000\n",
            "Episode 290/1000 \t Reward: -54.4205 \t Critic Loss: 0.598 \t Actor Loss: 4.700 \t Alpha Loss: -10.111 \t Alpha: 0.2000\n",
            "Episode 300/1000 \t Reward: -51.3709 \t Critic Loss: 0.520 \t Actor Loss: 4.871 \t Alpha Loss: -10.321 \t Alpha: 0.2000\n",
            "Episode 310/1000 \t Reward: -51.6336 \t Critic Loss: 0.602 \t Actor Loss: 4.936 \t Alpha Loss: -10.296 \t Alpha: 0.2000\n",
            "Episode 320/1000 \t Reward: -43.5734 \t Critic Loss: 0.791 \t Actor Loss: 5.232 \t Alpha Loss: -10.600 \t Alpha: 0.2000\n",
            "Episode 330/1000 \t Reward: -53.9057 \t Critic Loss: 1.340 \t Actor Loss: 5.285 \t Alpha Loss: -10.720 \t Alpha: 0.2000\n",
            "Episode 340/1000 \t Reward: -41.5074 \t Critic Loss: 0.732 \t Actor Loss: 5.385 \t Alpha Loss: -10.912 \t Alpha: 0.2000\n",
            "Episode 350/1000 \t Reward: -47.8454 \t Critic Loss: 1.130 \t Actor Loss: 5.566 \t Alpha Loss: -11.065 \t Alpha: 0.2000\n",
            "Episode 360/1000 \t Reward: -49.0669 \t Critic Loss: 0.675 \t Actor Loss: 5.750 \t Alpha Loss: -11.317 \t Alpha: 0.2000\n",
            "Episode 370/1000 \t Reward: -39.6135 \t Critic Loss: 1.213 \t Actor Loss: 5.926 \t Alpha Loss: -11.551 \t Alpha: 0.2000\n",
            "Episode 380/1000 \t Reward: -42.9259 \t Critic Loss: 1.129 \t Actor Loss: 6.076 \t Alpha Loss: -11.617 \t Alpha: 0.2000\n",
            "Episode 390/1000 \t Reward: -55.1682 \t Critic Loss: 0.660 \t Actor Loss: 6.115 \t Alpha Loss: -11.897 \t Alpha: 0.2000\n",
            "Episode 400/1000 \t Reward: -42.1488 \t Critic Loss: 0.825 \t Actor Loss: 6.204 \t Alpha Loss: -11.717 \t Alpha: 0.2000\n",
            "Episode 410/1000 \t Reward: -53.0047 \t Critic Loss: 1.154 \t Actor Loss: 6.396 \t Alpha Loss: -12.337 \t Alpha: 0.2000\n",
            "Episode 420/1000 \t Reward: -43.0483 \t Critic Loss: 1.403 \t Actor Loss: 6.562 \t Alpha Loss: -12.356 \t Alpha: 0.2000\n",
            "Episode 430/1000 \t Reward: -48.5701 \t Critic Loss: 1.011 \t Actor Loss: 6.652 \t Alpha Loss: -12.454 \t Alpha: 0.2000\n",
            "Episode 440/1000 \t Reward: -53.5372 \t Critic Loss: 1.768 \t Actor Loss: 6.710 \t Alpha Loss: -12.600 \t Alpha: 0.2000\n",
            "Episode 450/1000 \t Reward: -51.5551 \t Critic Loss: 0.757 \t Actor Loss: 7.055 \t Alpha Loss: -12.585 \t Alpha: 0.2000\n",
            "Episode 460/1000 \t Reward: -56.6508 \t Critic Loss: 1.761 \t Actor Loss: 7.032 \t Alpha Loss: -12.748 \t Alpha: 0.2000\n",
            "Episode 470/1000 \t Reward: -41.7617 \t Critic Loss: 1.308 \t Actor Loss: 7.137 \t Alpha Loss: -12.899 \t Alpha: 0.2000\n",
            "Episode 480/1000 \t Reward: -52.6283 \t Critic Loss: 2.304 \t Actor Loss: 7.252 \t Alpha Loss: -13.308 \t Alpha: 0.2000\n",
            "Episode 490/1000 \t Reward: -49.6757 \t Critic Loss: 1.183 \t Actor Loss: 7.389 \t Alpha Loss: -13.372 \t Alpha: 0.2000\n",
            "Episode 500/1000 \t Reward: -54.4153 \t Critic Loss: 2.884 \t Actor Loss: 7.552 \t Alpha Loss: -13.481 \t Alpha: 0.2000\n",
            "Episode 510/1000 \t Reward: -44.0772 \t Critic Loss: 0.430 \t Actor Loss: 7.779 \t Alpha Loss: -13.568 \t Alpha: 0.2000\n",
            "Episode 520/1000 \t Reward: -43.8344 \t Critic Loss: 2.122 \t Actor Loss: 7.833 \t Alpha Loss: -13.785 \t Alpha: 0.2000\n",
            "Episode 530/1000 \t Reward: -45.7174 \t Critic Loss: 2.578 \t Actor Loss: 8.027 \t Alpha Loss: -14.178 \t Alpha: 0.2000\n",
            "Episode 540/1000 \t Reward: -52.0734 \t Critic Loss: 2.909 \t Actor Loss: 8.032 \t Alpha Loss: -13.980 \t Alpha: 0.2000\n",
            "Episode 550/1000 \t Reward: -42.6992 \t Critic Loss: 1.765 \t Actor Loss: 8.338 \t Alpha Loss: -14.421 \t Alpha: 0.2000\n",
            "Episode 560/1000 \t Reward: -43.7169 \t Critic Loss: 0.896 \t Actor Loss: 8.420 \t Alpha Loss: -14.380 \t Alpha: 0.2000\n",
            "Episode 570/1000 \t Reward: -48.6143 \t Critic Loss: 1.082 \t Actor Loss: 8.462 \t Alpha Loss: -14.630 \t Alpha: 0.2000\n",
            "Episode 580/1000 \t Reward: -43.1675 \t Critic Loss: 1.296 \t Actor Loss: 8.699 \t Alpha Loss: -14.762 \t Alpha: 0.2000\n",
            "Episode 590/1000 \t Reward: -52.2118 \t Critic Loss: 3.596 \t Actor Loss: 8.737 \t Alpha Loss: -15.013 \t Alpha: 0.2000\n",
            "Episode 600/1000 \t Reward: -53.4182 \t Critic Loss: 1.218 \t Actor Loss: 8.933 \t Alpha Loss: -15.041 \t Alpha: 0.2000\n",
            "Episode 610/1000 \t Reward: -45.2051 \t Critic Loss: 2.690 \t Actor Loss: 9.083 \t Alpha Loss: -15.459 \t Alpha: 0.2000\n",
            "Episode 620/1000 \t Reward: -42.9488 \t Critic Loss: 2.375 \t Actor Loss: 9.065 \t Alpha Loss: -15.291 \t Alpha: 0.2000\n",
            "Episode 630/1000 \t Reward: -48.6125 \t Critic Loss: 1.441 \t Actor Loss: 9.358 \t Alpha Loss: -15.513 \t Alpha: 0.2000\n",
            "Episode 640/1000 \t Reward: -52.4468 \t Critic Loss: 3.145 \t Actor Loss: 9.382 \t Alpha Loss: -15.776 \t Alpha: 0.2000\n",
            "Episode 650/1000 \t Reward: -50.5721 \t Critic Loss: 2.159 \t Actor Loss: 9.517 \t Alpha Loss: -15.539 \t Alpha: 0.2000\n",
            "Episode 660/1000 \t Reward: -49.3062 \t Critic Loss: 1.632 \t Actor Loss: 9.759 \t Alpha Loss: -16.161 \t Alpha: 0.2000\n",
            "Episode 670/1000 \t Reward: -46.4900 \t Critic Loss: 2.060 \t Actor Loss: 9.786 \t Alpha Loss: -16.077 \t Alpha: 0.2000\n",
            "Episode 680/1000 \t Reward: -44.3462 \t Critic Loss: 3.620 \t Actor Loss: 9.800 \t Alpha Loss: -16.128 \t Alpha: 0.2000\n",
            "Episode 690/1000 \t Reward: -42.4431 \t Critic Loss: 2.295 \t Actor Loss: 10.130 \t Alpha Loss: -16.232 \t Alpha: 0.2000\n",
            "Episode 700/1000 \t Reward: -48.7748 \t Critic Loss: 1.816 \t Actor Loss: 10.070 \t Alpha Loss: -16.559 \t Alpha: 0.2000\n",
            "Episode 710/1000 \t Reward: -44.8010 \t Critic Loss: 2.777 \t Actor Loss: 10.336 \t Alpha Loss: -17.030 \t Alpha: 0.2000\n",
            "Episode 720/1000 \t Reward: -48.5782 \t Critic Loss: 1.649 \t Actor Loss: 10.272 \t Alpha Loss: -16.928 \t Alpha: 0.2000\n",
            "Episode 730/1000 \t Reward: -49.8462 \t Critic Loss: 2.262 \t Actor Loss: 10.610 \t Alpha Loss: -17.228 \t Alpha: 0.2000\n",
            "Episode 740/1000 \t Reward: -62.2991 \t Critic Loss: 2.030 \t Actor Loss: 10.713 \t Alpha Loss: -17.293 \t Alpha: 0.2000\n",
            "Episode 750/1000 \t Reward: -55.7610 \t Critic Loss: 1.386 \t Actor Loss: 10.838 \t Alpha Loss: -17.263 \t Alpha: 0.2000\n",
            "Episode 760/1000 \t Reward: -49.1711 \t Critic Loss: 1.965 \t Actor Loss: 10.965 \t Alpha Loss: -17.543 \t Alpha: 0.2000\n",
            "Episode 770/1000 \t Reward: -44.2292 \t Critic Loss: 2.343 \t Actor Loss: 10.959 \t Alpha Loss: -17.555 \t Alpha: 0.2000\n",
            "Episode 780/1000 \t Reward: -49.5989 \t Critic Loss: 3.118 \t Actor Loss: 11.116 \t Alpha Loss: -18.005 \t Alpha: 0.2000\n",
            "Episode 790/1000 \t Reward: -43.8296 \t Critic Loss: 3.238 \t Actor Loss: 11.246 \t Alpha Loss: -17.999 \t Alpha: 0.2000\n",
            "Episode 800/1000 \t Reward: -52.0014 \t Critic Loss: 3.867 \t Actor Loss: 11.347 \t Alpha Loss: -18.664 \t Alpha: 0.2000\n",
            "Episode 810/1000 \t Reward: -51.7911 \t Critic Loss: 1.997 \t Actor Loss: 11.595 \t Alpha Loss: -18.798 \t Alpha: 0.2000\n",
            "Episode 820/1000 \t Reward: -65.0683 \t Critic Loss: 3.675 \t Actor Loss: 11.638 \t Alpha Loss: -18.475 \t Alpha: 0.2000\n",
            "Episode 830/1000 \t Reward: -53.7715 \t Critic Loss: 3.906 \t Actor Loss: 11.839 \t Alpha Loss: -18.775 \t Alpha: 0.2000\n",
            "Episode 840/1000 \t Reward: -53.4540 \t Critic Loss: 2.955 \t Actor Loss: 11.980 \t Alpha Loss: -18.575 \t Alpha: 0.2000\n",
            "Episode 850/1000 \t Reward: -54.5223 \t Critic Loss: 3.411 \t Actor Loss: 12.161 \t Alpha Loss: -19.410 \t Alpha: 0.2000\n",
            "Episode 860/1000 \t Reward: -52.6249 \t Critic Loss: 6.186 \t Actor Loss: 11.943 \t Alpha Loss: -19.225 \t Alpha: 0.2000\n",
            "Episode 870/1000 \t Reward: -49.2293 \t Critic Loss: 2.628 \t Actor Loss: 12.192 \t Alpha Loss: -19.084 \t Alpha: 0.2000\n",
            "Episode 880/1000 \t Reward: -50.8803 \t Critic Loss: 3.727 \t Actor Loss: 12.276 \t Alpha Loss: -18.660 \t Alpha: 0.2000\n",
            "Episode 890/1000 \t Reward: -48.6984 \t Critic Loss: 3.630 \t Actor Loss: 12.289 \t Alpha Loss: -19.309 \t Alpha: 0.2000\n",
            "Episode 900/1000 \t Reward: -56.3636 \t Critic Loss: 3.848 \t Actor Loss: 12.693 \t Alpha Loss: -19.898 \t Alpha: 0.2000\n",
            "Episode 910/1000 \t Reward: -55.0750 \t Critic Loss: 3.374 \t Actor Loss: 12.800 \t Alpha Loss: -20.114 \t Alpha: 0.2000\n",
            "Episode 920/1000 \t Reward: -40.9952 \t Critic Loss: 3.003 \t Actor Loss: 12.829 \t Alpha Loss: -20.009 \t Alpha: 0.2000\n",
            "Episode 930/1000 \t Reward: -43.7199 \t Critic Loss: 3.993 \t Actor Loss: 12.939 \t Alpha Loss: -19.553 \t Alpha: 0.2000\n",
            "Episode 940/1000 \t Reward: -49.8844 \t Critic Loss: 3.355 \t Actor Loss: 13.205 \t Alpha Loss: -19.419 \t Alpha: 0.2000\n",
            "Episode 950/1000 \t Reward: -48.4210 \t Critic Loss: 3.376 \t Actor Loss: 13.253 \t Alpha Loss: -20.230 \t Alpha: 0.2000\n",
            "Episode 960/1000 \t Reward: -48.9114 \t Critic Loss: 4.683 \t Actor Loss: 13.245 \t Alpha Loss: -20.217 \t Alpha: 0.2000\n",
            "Episode 970/1000 \t Reward: -48.6176 \t Critic Loss: 2.551 \t Actor Loss: 13.403 \t Alpha Loss: -20.139 \t Alpha: 0.2000\n",
            "Episode 980/1000 \t Reward: -53.0427 \t Critic Loss: 1.754 \t Actor Loss: 13.464 \t Alpha Loss: -20.260 \t Alpha: 0.2000\n",
            "Episode 990/1000 \t Reward: -51.6081 \t Critic Loss: 2.310 \t Actor Loss: 13.579 \t Alpha Loss: -20.533 \t Alpha: 0.2000\n"
          ]
        },
        {
          "data": {
            "image/png": "[encoded data removed]",
            "text/plain": [
              "<Figure size 640x480 with 1 Axes>"
            ]
          },
          "metadata": {},
          "output_type": "display_data"
        }
      ],
      "source": [
        "# Define el nombre del entorno y el número de episodios\n",
        "env_name = \"Reacher-v4\"\n",
        "epos = 1000\n",
        "\n",
        "# Crea el entorno\n",
        "env = gym.make(env_name)\n",
        "\n",
        "# Inicializa el agente SAC con los parámetros apropiados\n",
        "agent = SACAgent(env, lr=0.0001, gamma=0.99, soft_update_tau=0.005, memory_size=10000, hidden_size=256)\n",
        "\n",
        "# Entrena al agente\n",
        "learning_data = agent.train(n_episode=epos, batch_size=256, report_freq=10, checkpoint_freq=100,\n",
        "                            initial_memory=1024, target_actualizations=100)\n",
        "\n",
        "# Grafica los resultados\n",
        "plt.plot(learning_data, label='Reward over episodes')\n",
        "plt.xlabel('Episode')\n",
        "plt.ylabel('Reward')\n",
        "plt.title('SAC Training on Reacher-v4')\n",
        "plt.grid()\n",
        "plt.legend()\n",
        "plt.show()\n",
        "\n",
        "# Cierra el entorno\n",
        "env.close()"
      ]
    },
    {
      "cell_type": "markdown",
      "metadata": {},
      "source": [
        "# Detalles de la implementación\n",
        "\n",
        "## Análisis teórico de sensibilidad de los parámetros de la tabla:\n",
        "\n",
        "- **Experience Replay (10000)**: El tamaño del buffer de experiencia es un hiperparámetro importante en el entrenamiento de un agente de RL. Un buffer de experiencia más grande puede ayudar a estabilizar el entrenamiento y mejorar la eficiencia del aprendizaje. Sin embargo, un buffer de experiencia más grande también puede requerir más memoria y tiempo de computación. Un buffer de experiencia más pequeño puede ser más eficiente en términos de memoria y tiempo de computación, pero puede ser menos estable y eficiente en términos de aprendizaje. En general, un buffer de experiencia de 10000 parece ser un valor razonable para este problema, pero puede ser necesario ajustar este valor en función de la complejidad del entorno y de los recursos computacionales disponibles.\n",
        "- **Comienzo del aprendizaje (1024)**: Este parámetro representa la cantidad de acciones aleatorias que se almacenan en el buffer antes de que comienze el aprendizaje. Un valor de 1024 parece ser razonable para este problema. Con un valor más alto, el agente puede explorar más el entorno antes de comenzar el aprendizaje, lo que puede ser beneficioso para la exploración y la estabilidad del entrenamiento. Sin embargo, un valor más alto también puede requerir más tiempo de computación y memoria. Por otro lado, un valor más bajo puede acelerar el inicio del aprendizaje, pero puede ser menos eficiente en términos de exploración y estabilidad del entrenamiento. En general, un valor de 1024 parece ser un buen punto de partida.\n",
        "- **Número de episodios (>= 1000)**: El número de episodios es un hiperparámetro importante en el entrenamiento de un agente de RL. Un número más alto de episodios puede permitir al agente explorar más el entorno y aprender una política más precisa. Sin embargo, un número más alto de episodios también puede requerir más tiempo de computación y memoria. Este es el parámetro que más directamente afecta la cantidad de tiempo que el agente tiene para aprender, ya que cada episodio representa una oportunidad para el agente de interactuar con el entorno y aprender de sus experiencias.\n",
        "- **Batch Size (256)**: El tamaño del batch es un hiperparámetro importante en el entrenamiento de un agente de RL. Un tamaño de batch más grande puede ayudar a estabilizar el entrenamiento y mejorar la eficiencia del aprendizaje. Sin embargo, un tamaño de batch más grande también puede requerir más memoria y tiempo de computación. Un tamaño más pequeño puede ser más eficiente en términos de memoria y tiempo de computación, pero puede ser menos estable y eficiente en términos de aprendizaje.\n",
        "- **$\\gamma$ (0.99)**: El factor de descuento gamma es un hiperparámetro importante en el entrenamiento de un agente de RL. Un valor de gamma más alto puede hacer que el agente tenga en cuenta más recompensas futuras en su toma de decisiones, lo que puede ser beneficioso para la planificación a largo plazo. Sin embargo, un valor de gamma más alto también puede hacer que el agente sea más propenso a la sobreestimación de las recompensas futuras y puede hacer que el entrenamiento sea más inestable. Un valor de gamma más bajo puede hacer que el agente se centre más en las recompensas inmediatas y sea más conservador en su toma de decisiones, lo que puede ser beneficioso para la estabilidad del entrenamiento.\n",
        "- **Número de actualizaciones red target (100)**: El número de actualizaciones de la red objetivo es un hiperparámetro importante en el entrenamiento de un agente de RL. Un número más alto de actualizaciones de la red objetivo puede ayudar a estabilizar el entrenamiento y mejorar la eficiencia del aprendizaje. Sin embargo, un número más alto de actualizaciones de la red objetivo también puede requerir más tiempo de computación y memoria. Un número más bajo de actualizaciones de la red objetivo puede ser más eficiente en términos de memoria y tiempo de computación, pero puede ser menos estable y eficiente en términos de aprendizaje.\n",
        "- **Learning Rate (0.0001)**: La tasa de aprendizaje es un hiperparámetro importante en el entrenamiento de un agente de RL. Una tasa de aprendizaje más alta puede acelerar el aprendizaje, pero también puede hacer que el entrenamiento sea más inestable. Una tasa de aprendizaje más baja puede hacer que el entrenamiento sea más estable, pero también puede hacer que el aprendizaje sea más lento, ya que el agente necesita más iteraciones para converger.\n",
        "- **Optimizador (Adam)**: El optimizador es un hiperparámetro importante en el entrenamiento de un agente de RL. El optimizador Adam es un optimizador popular en el aprendizaje profundo y puede ser una buena opción para este problema. El optimizador Adam es un optimizador adaptativo que ajusta la tasa de aprendizaje de forma automática en función de las características de los datos y puede ser eficiente en términos de memoria y tiempo de computación.\n",
        "\n",
        "## Importancia del factor $\\gamma$:\n",
        "\n",
        "El factor de descuento gamma es un hiperparámetro importante en el entrenamiento de un agente de RL. El factor de descuento gamma determina cuánto peso se le da a las recompensas futuras en la función de valor del agente. Luego es necesario agregarlo ya que las recompensas futuras son inciertas y el agente necesita tener en cuenta la incertidumbre al tomar decisiones. Un valor de gamma más alto puede hacer que el agente tenga en cuenta más recompensas futuras en su toma de decisiones, lo que puede ser beneficioso para la planificación a largo plazo.\n",
        "\n",
        "## Parámmetros cuya variación no son reelevantes para el tiempo de entrenamiento:\n",
        "\n",
        "- **Comienzo del aprendizaje**: Este parámetro no afecta significativamente el tiempo de entrenamiento ya que es un hiperparámetro que se utiliza para almacenar acciones aleatorias en el buffer antes de que comience el aprendizaje.\n",
        "- **$\\gamma$**: El factor de descuento gamma no afecta significativamente el tiempo de entrenamiento ya que es un hiperparámetro que se utiliza para determinar cuánto peso se le da a las recompensas futuras en la función de valor del agente y por lo tanto simplemente pondera la recompensa.\n",
        "- **Learning Rate**: La tasa de aprendizaje no afecta significativamente el tiempo de entrenamiento ya que es un hiperparámetro que se utiliza para ajustar la velocidad de aprendizaje del agente pero que su valor no tiene un impacto significativo en el tiempo de entrenamiento."
      ]
    },
    {
      "cell_type": "markdown",
      "metadata": {},
      "source": [
        "# Parametrización de política $\\pi$:\n",
        "\n",
        "La parametrización de la política $\\pi$ en aprendizaje por refuerzo permite generalizar a estados no vistos, mejorar la eficiencia computacional y optimizar directamente mediante gradientes. Esto se logra utilizando funciones como redes neuronales para representar la política. La estocasticidad se aborda mediante políticas estocásticas que asignan probabilidades a las acciones y mediante la regularización por entropía, que fomenta la exploración y evita que la política se vuelva determinística prematuramente. Esto se refleja en la función objetivo que maximiza la recompensa esperada junto con un término de entropía para balancear exploración y explotación."
      ]
    },
    {
      "cell_type": "markdown",
      "metadata": {},
      "source": [
        "# Actividad 6:\n",
        "\n",
        "### Target Networks en el Cálculo de los Labels de la Ecuación de Bellman\n",
        "\n",
        "Las target networks se utilizan en el cálculo de los labels de la ecuación de Bellman para estabilizar el proceso de entrenamiento. En algoritmos como Deep Q-Learning (DQN), si la red principal se actualizara contra sus propias predicciones, esto podría generar inestabilidades debido a actualizaciones altamente correlacionadas. Para mitigar esto, se utiliza una red de destino $\\hat{Q}$, que es una copia de la red principal y se actualiza solo periódicamente. Esta red de destino se usa para calcular los valores objetivo, lo que ayuda a reducir las oscilaciones y mejora la estabilidad del entrenamiento.\n",
        "\n",
        "### Buffer de Memoria (Experience Replay)\n",
        "\n",
        "El buffer de memoria, o experience replay, almacena experiencias pasadas y permite muestrear aleatoriamente de este conjunto durante el entrenamiento. Esto desacorraciona las experiencias, lo que es esencial para evitar actualizaciones altamente correlacionadas que pueden inestabilizar el aprendizaje. Además, el buffer permite la reutilización de experiencias, mejorando la eficiencia de datos, y mantiene un balance entre experiencias recientes y pasadas, lo que ayuda a evitar el sobreajuste a las circunstancias más recientes del entorno.\n",
        "\n",
        "### Consecuencias de No Usar el Buffer de Memoria\n",
        "\n",
        "Sin un buffer de memoria, el entrenamiento dependería solo de experiencias recientes, lo que puede llevar a inestabilidades debido a correlaciones temporales y a un uso ineficiente de los datos. Además, la red podría sobreajustarse a las experiencias más recientes, perdiendo la capacidad de generalizar. Aunque es posible implementar algoritmos sin un buffer de memoria, como en algunos casos de SARSA, en entornos complejos y de alta dimensionalidad, la ausencia del buffer generalmente resulta en un rendimiento inferior en términos de estabilidad y eficiencia del aprendizaje."
      ]
    }
  ],
  "metadata": {
    "colab": {
      "provenance": []
    },
    "kernelspec": {
      "display_name": "Python 3",
      "name": "python3"
    },
    "language_info": {
      "codemirror_mode": {
        "name": "ipython",
        "version": 3
      },
      "file_extension": ".py",
      "mimetype": "text/x-python",
      "name": "python",
      "nbconvert_exporter": "python",
      "pygments_lexer": "ipython3",
      "version": "3.11.5"
    }
  },
  "nbformat": 4,
  "nbformat_minor": 0
}
