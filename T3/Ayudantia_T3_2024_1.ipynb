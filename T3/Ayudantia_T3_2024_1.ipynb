{
  "nbformat": 4,
  "nbformat_minor": 0,
  "metadata": {
    "colab": {
      "provenance": []
    },
    "kernelspec": {
      "name": "python3",
      "display_name": "Python 3"
    },
    "language_info": {
      "name": "python"
    }
  },
  "cells": [
    {
      "cell_type": "markdown",
      "source": [
        "\n",
        "#Tarea 3\n",
        "---\n",
        "*03-06-2023*\n",
        "\n",
        "*Martín Gallegos*"
      ],
      "metadata": {
        "id": "nMfCWFpB06WN"
      }
    },
    {
      "cell_type": "markdown",
      "source": [
        "# Identificación"
      ],
      "metadata": {
        "id": "Dam7QoCl7Iuw"
      }
    },
    {
      "cell_type": "code",
      "source": [
        "Nombre = \"Martín Gallegos Bravo\"\n",
        "id = 18641733"
      ],
      "metadata": {
        "id": "RtGVTWuj7KxD"
      },
      "execution_count": null,
      "outputs": []
    },
    {
      "cell_type": "markdown",
      "source": [
        "# Librerias"
      ],
      "metadata": {
        "id": "2nWun2Dx1G-n"
      }
    },
    {
      "cell_type": "markdown",
      "source": [
        "## Gymnasium"
      ],
      "metadata": {
        "id": "iVW1S6-e2Tz_"
      }
    },
    {
      "cell_type": "code",
      "source": [
        "!pip install wheel setuptools pip --upgrade\n",
        "!pip install -q swig\n",
        "!pip install -q gymnasium[all]"
      ],
      "metadata": {
        "colab": {
          "base_uri": "https://localhost:8080/"
        },
        "id": "tYF28rpx2LJh",
        "outputId": "79f3bb62-08a3-43be-e01a-e6f83b4b4d6e"
      },
      "execution_count": 1,
      "outputs": [
        {
          "output_type": "stream",
          "name": "stdout",
          "text": [
            "Requirement already satisfied: wheel in /usr/local/lib/python3.10/dist-packages (0.43.0)\n",
            "Requirement already satisfied: setuptools in /usr/local/lib/python3.10/dist-packages (70.0.0)\n",
            "Requirement already satisfied: pip in /usr/local/lib/python3.10/dist-packages (24.0)\n",
            "\u001b[33mWARNING: Running pip as the 'root' user can result in broken permissions and conflicting behaviour with the system package manager. It is recommended to use a virtual environment instead: https://pip.pypa.io/warnings/venv\u001b[0m\u001b[33m\n",
            "\u001b[0m\u001b[33mWARNING: Running pip as the 'root' user can result in broken permissions and conflicting behaviour with the system package manager. It is recommended to use a virtual environment instead: https://pip.pypa.io/warnings/venv\u001b[0m\u001b[33m\n",
            "\u001b[0m  Preparing metadata (setup.py) ... \u001b[?25l\u001b[?25hdone\n",
            "\u001b[2K   \u001b[90m━━━━━━━━━━━━━━━━━━━━━━━━━━━━━━━━━━━━━━━━\u001b[0m \u001b[32m410.6/410.6 MB\u001b[0m \u001b[31m3.2 MB/s\u001b[0m eta \u001b[36m0:00:00\u001b[0m\n",
            "\u001b[2K   \u001b[90m━━━━━━━━━━━━━━━━━━━━━━━━━━━━━━━━━━━━━━━━\u001b[0m \u001b[32m14.1/14.1 MB\u001b[0m \u001b[31m93.5 MB/s\u001b[0m eta \u001b[36m0:00:00\u001b[0m\n",
            "\u001b[2K   \u001b[90m━━━━━━━━━━━━━━━━━━━━━━━━━━━━━━━━━━━━━━━━\u001b[0m \u001b[32m23.7/23.7 MB\u001b[0m \u001b[31m77.1 MB/s\u001b[0m eta \u001b[36m0:00:00\u001b[0m\n",
            "\u001b[2K   \u001b[90m━━━━━━━━━━━━━━━━━━━━━━━━━━━━━━━━━━━━━━━━\u001b[0m \u001b[32m823.6/823.6 kB\u001b[0m \u001b[31m44.2 MB/s\u001b[0m eta \u001b[36m0:00:00\u001b[0m\n",
            "\u001b[2K   \u001b[90m━━━━━━━━━━━━━━━━━━━━━━━━━━━━━━━━━━━━━━━━\u001b[0m \u001b[32m731.7/731.7 MB\u001b[0m \u001b[31m2.6 MB/s\u001b[0m eta \u001b[36m0:00:00\u001b[0m\n",
            "\u001b[2K   \u001b[90m━━━━━━━━━━━━━━━━━━━━━━━━━━━━━━━━━━━━━━━━\u001b[0m \u001b[32m121.6/121.6 MB\u001b[0m \u001b[31m7.4 MB/s\u001b[0m eta \u001b[36m0:00:00\u001b[0m\n",
            "\u001b[2K   \u001b[90m━━━━━━━━━━━━━━━━━━━━━━━━━━━━━━━━━━━━━━━━\u001b[0m \u001b[32m56.5/56.5 MB\u001b[0m \u001b[31m11.4 MB/s\u001b[0m eta \u001b[36m0:00:00\u001b[0m\n",
            "\u001b[2K   \u001b[90m━━━━━━━━━━━━━━━━━━━━━━━━━━━━━━━━━━━━━━━━\u001b[0m \u001b[32m124.2/124.2 MB\u001b[0m \u001b[31m7.0 MB/s\u001b[0m eta \u001b[36m0:00:00\u001b[0m\n",
            "\u001b[2K   \u001b[90m━━━━━━━━━━━━━━━━━━━━━━━━━━━━━━━━━━━━━━━━\u001b[0m \u001b[32m196.0/196.0 MB\u001b[0m \u001b[31m5.6 MB/s\u001b[0m eta \u001b[36m0:00:00\u001b[0m\n",
            "\u001b[2K   \u001b[90m━━━━━━━━━━━━━━━━━━━━━━━━━━━━━━━━━━━━━━━━\u001b[0m \u001b[32m176.2/176.2 MB\u001b[0m \u001b[31m6.6 MB/s\u001b[0m eta \u001b[36m0:00:00\u001b[0m\n",
            "\u001b[2K   \u001b[90m━━━━━━━━━━━━━━━━━━━━━━━━━━━━━━━━━━━━━━━━\u001b[0m \u001b[32m99.1/99.1 kB\u001b[0m \u001b[31m8.2 MB/s\u001b[0m eta \u001b[36m0:00:00\u001b[0m\n",
            "\u001b[2K   \u001b[90m━━━━━━━━━━━━━━━━━━━━━━━━━━━━━━━━━━━━━━━━\u001b[0m \u001b[32m1.7/1.7 MB\u001b[0m \u001b[31m65.5 MB/s\u001b[0m eta \u001b[36m0:00:00\u001b[0m\n",
            "\u001b[2K   \u001b[90m━━━━━━━━━━━━━━━━━━━━━━━━━━━━━━━━━━━━━━━━\u001b[0m \u001b[32m211.8/211.8 kB\u001b[0m \u001b[31m15.2 MB/s\u001b[0m eta \u001b[36m0:00:00\u001b[0m\n",
            "\u001b[2K   \u001b[90m━━━━━━━━━━━━━━━━━━━━━━━━━━━━━━━━━━━━━━━━\u001b[0m \u001b[32m21.3/21.3 MB\u001b[0m \u001b[31m77.5 MB/s\u001b[0m eta \u001b[36m0:00:00\u001b[0m\n",
            "\u001b[?25h  Building wheel for box2d-py (setup.py) ... \u001b[?25l\u001b[?25hdone\n",
            "\u001b[33mWARNING: Running pip as the 'root' user can result in broken permissions and conflicting behaviour with the system package manager. It is recommended to use a virtual environment instead: https://pip.pypa.io/warnings/venv\u001b[0m\u001b[33m\n",
            "\u001b[0m"
          ]
        }
      ]
    },
    {
      "cell_type": "markdown",
      "source": [
        "## Mujoco"
      ],
      "metadata": {
        "id": "f2pMnhp-2WMr"
      }
    },
    {
      "cell_type": "code",
      "source": [
        "#Include this at the top of your colab code\n",
        "import os\n",
        "if not os.path.exists('.mujoco_setup_complete'):\n",
        "  # Get the prereqs\n",
        "  !apt-get -qq update\n",
        "  !apt-get -qq install -y libosmesa6-dev libgl1-mesa-glx libglfw3 libgl1-mesa-dev libglew-dev patchelf\n",
        "  # Get Mujoco\n",
        "  !mkdir ~/.mujoco\n",
        "  !wget -q https://mujoco.org/download/mujoco210-linux-x86_64.tar.gz -O mujoco.tar.gz\n",
        "  !tar -zxf mujoco.tar.gz -C \"$HOME/.mujoco\"\n",
        "  !rm mujoco.tar.gz\n",
        "  # Add it to the actively loaded path and the bashrc path (these only do so much)\n",
        "  !echo 'export LD_LIBRARY_PATH=$LD_LIBRARY_PATH:$HOME/.mujoco/mujoco210/bin' >> ~/.bashrc\n",
        "  !echo 'export LD_PRELOAD=$LD_PRELOAD:/usr/lib/x86_64-linux-gnu/libGLEW.so' >> ~/.bashrc\n",
        "  # THE ANNOYING ONE, FORCE IT INTO LDCONFIG SO WE ACTUALLY GET ACCESS TO IT THIS SESSION\n",
        "  !echo \"/root/.mujoco/mujoco210/bin\" > /etc/ld.so.conf.d/mujoco_ld_lib_path.conf\n",
        "  !ldconfig\n",
        "  # Install Mujoco-py\n",
        "  !pip3 install -U 'mujoco-py<2.2,>=2.1'\n",
        "  # run once\n",
        "  !touch .mujoco_setup_complete\n",
        "  !pip install free-mujoco-py\n",
        "\n",
        "try:\n",
        "  if _mujoco_run_once:\n",
        "    pass\n",
        "except NameError:\n",
        "  _mujoco_run_once = False\n",
        "if not _mujoco_run_once:\n",
        "  # Add it to the actively loaded path and the bashrc path (these only do so much)\n",
        "  try:\n",
        "    os.environ['LD_LIBRARY_PATH']=os.environ['LD_LIBRARY_PATH'] + ':/root/.mujoco/mujoco210/bin'\n",
        "  except KeyError:\n",
        "    os.environ['LD_LIBRARY_PATH']='/root/.mujoco/mujoco210/bin'\n",
        "  try:\n",
        "    os.environ['LD_PRELOAD']=os.environ['LD_PRELOAD'] + ':/usr/lib/x86_64-linux-gnu/libGLEW.so'\n",
        "  except KeyError:\n",
        "    os.environ['LD_PRELOAD']='/usr/lib/x86_64-linux-gnu/libGLEW.so'\n",
        "  # presetup so we don't see output on first env initialization\n",
        "  import mujoco_py\n",
        "  _mujoco_run_once = True\n"
      ],
      "metadata": {
        "colab": {
          "base_uri": "https://localhost:8080/"
        },
        "id": "TE0PLg5-I_2u",
        "outputId": "1ca9a58d-83bb-4656-fab5-492f06a947a4"
      },
      "execution_count": 3,
      "outputs": [
        {
          "output_type": "stream",
          "name": "stdout",
          "text": [
            "Selecting previously unselected package libglx-dev:amd64.\n",
            "(Reading database ... 121918 files and directories currently installed.)\n",
            "Preparing to unpack .../00-libglx-dev_1.4.0-1_amd64.deb ...\n",
            "Unpacking libglx-dev:amd64 (1.4.0-1) ...\n",
            "Selecting previously unselected package libgl-dev:amd64.\n",
            "Preparing to unpack .../01-libgl-dev_1.4.0-1_amd64.deb ...\n",
            "Unpacking libgl-dev:amd64 (1.4.0-1) ...\n",
            "Selecting previously unselected package libegl-dev:amd64.\n",
            "Preparing to unpack .../02-libegl-dev_1.4.0-1_amd64.deb ...\n",
            "Unpacking libegl-dev:amd64 (1.4.0-1) ...\n",
            "Selecting previously unselected package libgl1-mesa-glx:amd64.\n",
            "Preparing to unpack .../03-libgl1-mesa-glx_23.0.4-0ubuntu1~22.04.1_amd64.deb ...\n",
            "Unpacking libgl1-mesa-glx:amd64 (23.0.4-0ubuntu1~22.04.1) ...\n",
            "Selecting previously unselected package libgles1:amd64.\n",
            "Preparing to unpack .../04-libgles1_1.4.0-1_amd64.deb ...\n",
            "Unpacking libgles1:amd64 (1.4.0-1) ...\n",
            "Selecting previously unselected package libgles-dev:amd64.\n",
            "Preparing to unpack .../05-libgles-dev_1.4.0-1_amd64.deb ...\n",
            "Unpacking libgles-dev:amd64 (1.4.0-1) ...\n",
            "Selecting previously unselected package libglvnd-core-dev:amd64.\n",
            "Preparing to unpack .../06-libglvnd-core-dev_1.4.0-1_amd64.deb ...\n",
            "Unpacking libglvnd-core-dev:amd64 (1.4.0-1) ...\n",
            "Selecting previously unselected package libopengl-dev:amd64.\n",
            "Preparing to unpack .../07-libopengl-dev_1.4.0-1_amd64.deb ...\n",
            "Unpacking libopengl-dev:amd64 (1.4.0-1) ...\n",
            "Selecting previously unselected package libglvnd-dev:amd64.\n",
            "Preparing to unpack .../08-libglvnd-dev_1.4.0-1_amd64.deb ...\n",
            "Unpacking libglvnd-dev:amd64 (1.4.0-1) ...\n",
            "Selecting previously unselected package libgl1-mesa-dev:amd64.\n",
            "Preparing to unpack .../09-libgl1-mesa-dev_23.2.1-1ubuntu3.1~22.04.2_amd64.deb ...\n",
            "Unpacking libgl1-mesa-dev:amd64 (23.2.1-1ubuntu3.1~22.04.2) ...\n",
            "Selecting previously unselected package libglu1-mesa:amd64.\n",
            "Preparing to unpack .../10-libglu1-mesa_9.0.2-1_amd64.deb ...\n",
            "Unpacking libglu1-mesa:amd64 (9.0.2-1) ...\n",
            "Selecting previously unselected package libglu1-mesa-dev:amd64.\n",
            "Preparing to unpack .../11-libglu1-mesa-dev_9.0.2-1_amd64.deb ...\n",
            "Unpacking libglu1-mesa-dev:amd64 (9.0.2-1) ...\n",
            "Selecting previously unselected package libglew-dev:amd64.\n",
            "Preparing to unpack .../12-libglew-dev_2.2.0-4_amd64.deb ...\n",
            "Unpacking libglew-dev:amd64 (2.2.0-4) ...\n",
            "Selecting previously unselected package libglfw3:amd64.\n",
            "Preparing to unpack .../13-libglfw3_3.3.6-1_amd64.deb ...\n",
            "Unpacking libglfw3:amd64 (3.3.6-1) ...\n",
            "Selecting previously unselected package patchelf.\n",
            "Preparing to unpack .../14-patchelf_0.14.3-1_amd64.deb ...\n",
            "Unpacking patchelf (0.14.3-1) ...\n",
            "Selecting previously unselected package libosmesa6:amd64.\n",
            "Preparing to unpack .../15-libosmesa6_23.2.1-1ubuntu3.1~22.04.2_amd64.deb ...\n",
            "Unpacking libosmesa6:amd64 (23.2.1-1ubuntu3.1~22.04.2) ...\n",
            "Selecting previously unselected package libosmesa6-dev:amd64.\n",
            "Preparing to unpack .../16-libosmesa6-dev_23.2.1-1ubuntu3.1~22.04.2_amd64.deb ...\n",
            "Unpacking libosmesa6-dev:amd64 (23.2.1-1ubuntu3.1~22.04.2) ...\n",
            "Setting up libglfw3:amd64 (3.3.6-1) ...\n",
            "Setting up libglvnd-core-dev:amd64 (1.4.0-1) ...\n",
            "Setting up libgles1:amd64 (1.4.0-1) ...\n",
            "Setting up libgl1-mesa-glx:amd64 (23.0.4-0ubuntu1~22.04.1) ...\n",
            "Setting up libglx-dev:amd64 (1.4.0-1) ...\n",
            "Setting up libglu1-mesa:amd64 (9.0.2-1) ...\n",
            "Setting up libopengl-dev:amd64 (1.4.0-1) ...\n",
            "Setting up patchelf (0.14.3-1) ...\n",
            "Setting up libgl-dev:amd64 (1.4.0-1) ...\n",
            "Setting up libosmesa6:amd64 (23.2.1-1ubuntu3.1~22.04.2) ...\n",
            "Setting up libegl-dev:amd64 (1.4.0-1) ...\n",
            "Setting up libglu1-mesa-dev:amd64 (9.0.2-1) ...\n",
            "Setting up libosmesa6-dev:amd64 (23.2.1-1ubuntu3.1~22.04.2) ...\n",
            "Setting up libgles-dev:amd64 (1.4.0-1) ...\n",
            "Setting up libglvnd-dev:amd64 (1.4.0-1) ...\n",
            "Setting up libglew-dev:amd64 (2.2.0-4) ...\n",
            "Setting up libgl1-mesa-dev:amd64 (23.2.1-1ubuntu3.1~22.04.2) ...\n",
            "Processing triggers for man-db (2.10.2-1) ...\n",
            "Processing triggers for libc-bin (2.35-0ubuntu3.4) ...\n",
            "/sbin/ldconfig.real: /usr/local/lib/libtbb.so.12 is not a symbolic link\n",
            "\n",
            "/sbin/ldconfig.real: /usr/local/lib/libtbbbind_2_0.so.3 is not a symbolic link\n",
            "\n",
            "/sbin/ldconfig.real: /usr/local/lib/libtbbmalloc.so.2 is not a symbolic link\n",
            "\n",
            "/sbin/ldconfig.real: /usr/local/lib/libtbbbind.so.3 is not a symbolic link\n",
            "\n",
            "/sbin/ldconfig.real: /usr/local/lib/libtbbmalloc_proxy.so.2 is not a symbolic link\n",
            "\n",
            "/sbin/ldconfig.real: /usr/local/lib/libtbbbind_2_5.so.3 is not a symbolic link\n",
            "\n",
            "/sbin/ldconfig.real: /usr/local/lib/libtbb.so.12 is not a symbolic link\n",
            "\n",
            "/sbin/ldconfig.real: /usr/local/lib/libtbbbind_2_0.so.3 is not a symbolic link\n",
            "\n",
            "/sbin/ldconfig.real: /usr/local/lib/libtbbmalloc.so.2 is not a symbolic link\n",
            "\n",
            "/sbin/ldconfig.real: /usr/local/lib/libtbbbind.so.3 is not a symbolic link\n",
            "\n",
            "/sbin/ldconfig.real: /usr/local/lib/libtbbmalloc_proxy.so.2 is not a symbolic link\n",
            "\n",
            "/sbin/ldconfig.real: /usr/local/lib/libtbbbind_2_5.so.3 is not a symbolic link\n",
            "\n",
            "Requirement already satisfied: mujoco-py<2.2,>=2.1 in /usr/local/lib/python3.10/dist-packages (2.1.2.14)\n",
            "Requirement already satisfied: glfw>=1.4.0 in /usr/local/lib/python3.10/dist-packages (from mujoco-py<2.2,>=2.1) (1.12.0)\n",
            "Requirement already satisfied: numpy>=1.11 in /usr/local/lib/python3.10/dist-packages (from mujoco-py<2.2,>=2.1) (1.25.2)\n",
            "Requirement already satisfied: Cython>=0.27.2 in /usr/local/lib/python3.10/dist-packages (from mujoco-py<2.2,>=2.1) (0.29.37)\n",
            "Requirement already satisfied: imageio>=2.1.2 in /usr/local/lib/python3.10/dist-packages (from mujoco-py<2.2,>=2.1) (2.31.6)\n",
            "Requirement already satisfied: cffi>=1.10 in /usr/local/lib/python3.10/dist-packages (from mujoco-py<2.2,>=2.1) (1.16.0)\n",
            "Requirement already satisfied: fasteners~=0.15 in /usr/local/lib/python3.10/dist-packages (from mujoco-py<2.2,>=2.1) (0.15)\n",
            "Requirement already satisfied: pycparser in /usr/local/lib/python3.10/dist-packages (from cffi>=1.10->mujoco-py<2.2,>=2.1) (2.22)\n",
            "Requirement already satisfied: six in /usr/local/lib/python3.10/dist-packages (from fasteners~=0.15->mujoco-py<2.2,>=2.1) (1.16.0)\n",
            "Requirement already satisfied: monotonic>=0.1 in /usr/local/lib/python3.10/dist-packages (from fasteners~=0.15->mujoco-py<2.2,>=2.1) (1.6)\n",
            "Requirement already satisfied: pillow<10.1.0,>=8.3.2 in /usr/local/lib/python3.10/dist-packages (from imageio>=2.1.2->mujoco-py<2.2,>=2.1) (9.4.0)\n",
            "\u001b[33mWARNING: Running pip as the 'root' user can result in broken permissions and conflicting behaviour with the system package manager. It is recommended to use a virtual environment instead: https://pip.pypa.io/warnings/venv\u001b[0m\u001b[33m\n",
            "\u001b[0mRequirement already satisfied: free-mujoco-py in /usr/local/lib/python3.10/dist-packages (2.1.6)\n",
            "Requirement already satisfied: Cython<0.30.0,>=0.29.24 in /usr/local/lib/python3.10/dist-packages (from free-mujoco-py) (0.29.37)\n",
            "Requirement already satisfied: cffi<2.0.0,>=1.15.0 in /usr/local/lib/python3.10/dist-packages (from free-mujoco-py) (1.16.0)\n",
            "Requirement already satisfied: fasteners==0.15 in /usr/local/lib/python3.10/dist-packages (from free-mujoco-py) (0.15)\n",
            "Requirement already satisfied: glfw<2.0.0,>=1.4.0 in /usr/local/lib/python3.10/dist-packages (from free-mujoco-py) (1.12.0)\n",
            "Requirement already satisfied: imageio<3.0.0,>=2.9.0 in /usr/local/lib/python3.10/dist-packages (from free-mujoco-py) (2.31.6)\n",
            "Requirement already satisfied: numpy<2.0.0,>=1.21.3 in /usr/local/lib/python3.10/dist-packages (from free-mujoco-py) (1.25.2)\n",
            "Requirement already satisfied: six in /usr/local/lib/python3.10/dist-packages (from fasteners==0.15->free-mujoco-py) (1.16.0)\n",
            "Requirement already satisfied: monotonic>=0.1 in /usr/local/lib/python3.10/dist-packages (from fasteners==0.15->free-mujoco-py) (1.6)\n",
            "Requirement already satisfied: pycparser in /usr/local/lib/python3.10/dist-packages (from cffi<2.0.0,>=1.15.0->free-mujoco-py) (2.22)\n",
            "Requirement already satisfied: pillow<10.1.0,>=8.3.2 in /usr/local/lib/python3.10/dist-packages (from imageio<3.0.0,>=2.9.0->free-mujoco-py) (9.4.0)\n",
            "\u001b[33mWARNING: Running pip as the 'root' user can result in broken permissions and conflicting behaviour with the system package manager. It is recommended to use a virtual environment instead: https://pip.pypa.io/warnings/venv\u001b[0m\u001b[33m\n",
            "\u001b[0m"
          ]
        },
        {
          "output_type": "stream",
          "name": "stderr",
          "text": [
            "INFO:root:running build_ext\n",
            "INFO:root:building 'mujoco_py.cymj' extension\n",
            "INFO:root:x86_64-linux-gnu-gcc -Wno-unused-result -Wsign-compare -DNDEBUG -g -fwrapv -O2 -Wall -g -fstack-protector-strong -Wformat -Werror=format-security -g -fwrapv -O2 -fPIC -I/usr/local/lib/python3.10/dist-packages/mujoco_py -I/usr/local/lib/python3.10/dist-packages/mujoco_py/binaries/linux/mujoco210/include -I/usr/local/lib/python3.10/dist-packages/numpy/core/include -I/usr/include/python3.10 -c /usr/local/lib/python3.10/dist-packages/mujoco_py/cymj.c -o /usr/local/lib/python3.10/dist-packages/mujoco_py/generated/_pyxbld_2.0.2.13_310_linuxcpuextensionbuilder/temp.linux-x86_64-cpython-310/usr/local/lib/python3.10/dist-packages/mujoco_py/cymj.o -fopenmp -w\n",
            "INFO:root:x86_64-linux-gnu-gcc -Wno-unused-result -Wsign-compare -DNDEBUG -g -fwrapv -O2 -Wall -g -fstack-protector-strong -Wformat -Werror=format-security -g -fwrapv -O2 -fPIC -I/usr/local/lib/python3.10/dist-packages/mujoco_py -I/usr/local/lib/python3.10/dist-packages/mujoco_py/binaries/linux/mujoco210/include -I/usr/local/lib/python3.10/dist-packages/numpy/core/include -I/usr/include/python3.10 -c /usr/local/lib/python3.10/dist-packages/mujoco_py/gl/osmesashim.c -o /usr/local/lib/python3.10/dist-packages/mujoco_py/generated/_pyxbld_2.0.2.13_310_linuxcpuextensionbuilder/temp.linux-x86_64-cpython-310/usr/local/lib/python3.10/dist-packages/mujoco_py/gl/osmesashim.o -fopenmp -w\n",
            "INFO:root:creating /usr/local/lib/python3.10/dist-packages/mujoco_py/generated/_pyxbld_2.0.2.13_310_linuxcpuextensionbuilder/lib.linux-x86_64-cpython-310\n",
            "INFO:root:creating /usr/local/lib/python3.10/dist-packages/mujoco_py/generated/_pyxbld_2.0.2.13_310_linuxcpuextensionbuilder/lib.linux-x86_64-cpython-310/mujoco_py\n",
            "INFO:root:x86_64-linux-gnu-gcc -shared -Wl,-O1 -Wl,-Bsymbolic-functions -Wl,-Bsymbolic-functions -g -fwrapv -O2 /usr/local/lib/python3.10/dist-packages/mujoco_py/generated/_pyxbld_2.0.2.13_310_linuxcpuextensionbuilder/temp.linux-x86_64-cpython-310/usr/local/lib/python3.10/dist-packages/mujoco_py/cymj.o /usr/local/lib/python3.10/dist-packages/mujoco_py/generated/_pyxbld_2.0.2.13_310_linuxcpuextensionbuilder/temp.linux-x86_64-cpython-310/usr/local/lib/python3.10/dist-packages/mujoco_py/gl/osmesashim.o -L/usr/local/lib/python3.10/dist-packages/mujoco_py/binaries/linux/mujoco210/bin -L/usr/lib/x86_64-linux-gnu -Wl,--enable-new-dtags,-rpath,/usr/local/lib/python3.10/dist-packages/mujoco_py/binaries/linux/mujoco210/bin -lmujoco210 -lglewosmesa -lOSMesa -lGL -o /usr/local/lib/python3.10/dist-packages/mujoco_py/generated/_pyxbld_2.0.2.13_310_linuxcpuextensionbuilder/lib.linux-x86_64-cpython-310/mujoco_py/cymj.cpython-310-x86_64-linux-gnu.so -fopenmp\n"
          ]
        }
      ]
    },
    {
      "cell_type": "markdown",
      "source": [
        "## PyTorch"
      ],
      "metadata": {
        "id": "qWo3hdToO23V"
      }
    },
    {
      "cell_type": "code",
      "source": [
        "from torch.distributions.normal import Normal\n",
        "import torchvision.transforms as TF\n",
        "from collections import namedtuple\n",
        "import torch.nn.functional as F\n",
        "import torch.optim as optim\n",
        "import torch.nn as nn\n",
        "import torch"
      ],
      "metadata": {
        "id": "G8SiBKSOO2Zi"
      },
      "execution_count": 4,
      "outputs": []
    },
    {
      "cell_type": "markdown",
      "source": [
        "## Librerias *comunes*"
      ],
      "metadata": {
        "id": "Wy0kkBA_NSTt"
      }
    },
    {
      "cell_type": "code",
      "source": [
        "import os\n",
        "import random\n",
        "import numpy as np\n",
        "import matplotlib.pyplot as plt\n",
        "from collections import deque\n",
        "import gymnasium as gym"
      ],
      "metadata": {
        "id": "3u8D01lw1MLn"
      },
      "execution_count": 5,
      "outputs": []
    },
    {
      "cell_type": "markdown",
      "source": [
        "# Setup Reacher v4"
      ],
      "metadata": {
        "id": "nI54X1JX7jIG"
      }
    },
    {
      "cell_type": "code",
      "source": [
        "env = gym.make(\"Reacher-v4\", render_mode =\"rgb_array\")\n",
        "\n",
        "observation, info = env.reset()\n",
        "\n",
        "for _ in range(1000):\n",
        "    action = env.action_space.sample()  # agent policy that uses the observation and info\n",
        "    observation, reward, terminated, truncated, info = env.step(action)\n",
        "    obs = env.render()\n",
        "\n",
        "    if terminated or truncated:\n",
        "        observation, info = env.reset()\n",
        "\n",
        "env.close()\n",
        "plt.imshow(obs)\n",
        "plt.show()"
      ],
      "metadata": {
        "colab": {
          "base_uri": "https://localhost:8080/",
          "height": 574
        },
        "id": "y2wrOBnS1fV4",
        "outputId": "89d83767-22ad-4580-ccfc-a7120d9b252b"
      },
      "execution_count": 6,
      "outputs": [
        {
          "output_type": "stream",
          "name": "stderr",
          "text": [
            "Exception ignored in: <function GLContext.__del__ at 0x7c4fdcd77d00>\n",
            "Traceback (most recent call last):\n",
            "  File \"/usr/local/lib/python3.10/dist-packages/mujoco/glfw/__init__.py\", line 41, in __del__\n",
            "    self.free()\n",
            "  File \"/usr/local/lib/python3.10/dist-packages/mujoco/glfw/__init__.py\", line 34, in free\n",
            "    if self._context:\n",
            "AttributeError: 'GLContext' object has no attribute '_context'\n",
            "INFO:OpenGL.acceleratesupport:No OpenGL_accelerate module loaded: No module named 'OpenGL_accelerate'\n"
          ]
        },
        {
          "output_type": "display_data",
          "data": {
            "text/plain": [
              "<Figure size 640x480 with 1 Axes>"
            ],
            "image/png": "[encoded data removed]"
          },
          "metadata": {}
        }
      ]
    },
    {
      "cell_type": "markdown",
      "source": [
        "# Aprendizaje Reforzado"
      ],
      "metadata": {
        "id": "uEKmf6nNPHVn"
      }
    },
    {
      "cell_type": "markdown",
      "source": [
        "## ReplayBuffer"
      ],
      "metadata": {
        "id": "I6kRCYirPZ19"
      }
    },
    {
      "cell_type": "code",
      "source": [
        "\n",
        "class ReplayBuffer:\n",
        "    def __init__(self, capacity):\n",
        "        self.capacity = capacity\n",
        "        self.buffer = deque(maxlen=capacity)\n",
        "\n",
        "    def append(self, experience):\n",
        "\n",
        "    def sample_batch(self, batch_size):\n",
        "\n",
        "    def initialise_buffer(self, env, size):\n",
        ""
      ],
      "metadata": {
        "id": "5_OBsyYrPHxU"
      },
      "execution_count": null,
      "outputs": []
    },
    {
      "cell_type": "markdown",
      "source": [
        "## Actor Network"
      ],
      "metadata": {
        "id": "7SgGdp5DPrw_"
      }
    },
    {
      "cell_type": "code",
      "source": [
        "\n",
        "class ActorNetwork(nn.Module):\n",
        "    def __init__(self, input_dims, num_actions, hidden_dims, name='actor'):\n",
        "        super(ActorNetwork, self).__init__()\n",
        "        self.input_dims = input_dims\n",
        "        self.hidden_dims = hidden_dims\n",
        "        self.num_actions = num_actions\n",
        "        self.name = name\n",
        "\n",
        "        self.classifier = nn.Sequential()\n",
        "\n",
        "        self.mu = nn.Sequential()\n",
        "\n",
        "        self.sigma = nn.Sequential()\n",
        "\n",
        "\n",
        "    def forward(self, x):\n",
        "\n",
        "        return mu, log_sigma"
      ],
      "metadata": {
        "id": "TrJxCPN5Ps7R"
      },
      "execution_count": null,
      "outputs": []
    },
    {
      "cell_type": "markdown",
      "source": [
        "## Critic Network"
      ],
      "metadata": {
        "id": "mPUVCKZgP20u"
      }
    },
    {
      "cell_type": "code",
      "source": [
        "\n",
        "class CriticNetwork(nn.Module):\n",
        "    def __init__(self, input_dims, num_actions, output_dims, hidden_dims, name='critic'):\n",
        "        super(CriticNetwork, self).__init__()\n",
        "        self.input_dims = input_dims\n",
        "        self.output_dims = output_dims\n",
        "        self.hidden_dims = hidden_dims\n",
        "        self.num_actions = num_actions\n",
        "        self.name = name\n",
        "\n",
        "        self.classifier = nn.Sequential()\n",
        "\n",
        "\n",
        "    def forward(self, state, action):\n",
        "\n",
        "        return out"
      ],
      "metadata": {
        "id": "Z4WWzlUEP5AY"
      },
      "execution_count": null,
      "outputs": []
    },
    {
      "cell_type": "markdown",
      "source": [
        "## SAC Agent"
      ],
      "metadata": {
        "id": "cHs5_sIiQI7q"
      }
    },
    {
      "cell_type": "code",
      "source": [
        "\n",
        "Rollout = namedtuple('Rollout', ['state', 'action', 'reward', 'next', 'done'])\n",
        "\n",
        "class SACAgent():\n",
        "    def __init__(self, env, lr, gamma, soft_update_tau, memory_size, hidden_size, log_std_range=[-20,2]):\n",
        "\n",
        "        self.env = env\n",
        "        self.n_states = self.env.observation_space.shape[0]\n",
        "        self.n_actions = self.env.action_space.shape[0]\n",
        "        self.lr = lr\n",
        "        self.gamma = gamma\n",
        "        self.alpha = # Alpha puerde ser una constante o un valor que tambien se le calcula el gradiente,\n",
        "                     # eso queda a su criterio según la versión del algoritmo a implementar\n",
        "\n",
        "\n",
        "        self.tau = soft_update_tau\n",
        "\n",
        "        self.hidden_size = hidden_size\n",
        "        # range of log_std value\n",
        "        self.min_clamp = log_std_range[0]\n",
        "        self.max_clamp = log_std_range[-1]\n",
        "\n",
        "        self._init_model()\n",
        "        self.update_target_networks(tau=1)\n",
        "\n",
        "        self.criterion = nn.MSELoss()\n",
        "\n",
        "        self.memory = ReplayBuffer(capacity=memory_size)\n",
        "\n",
        "    def _init_model(self):\n",
        "\n",
        "        self.critic1\n",
        "        self.critic2\n",
        "        self.target_critic1\n",
        "        self.target_critic2\n",
        "\n",
        "        self.actor\n",
        "\n",
        "        # Optimizer\n",
        "        self.critic_optim1 = optim.Adam(self.critic1.parameters(), lr=self.lr)\n",
        "        self.critic_optim2 = optim.Adam(self.critic2.parameters(), lr=self.lr)\n",
        "        self.actor_optim = optim.Adam(self.actor.parameters(), lr=self.lr)\n",
        "\n",
        "\n",
        "    def update_target_networks(self, tau=None):\n",
        "      pass\n",
        "\n",
        "    def get_action_prob(self):\n",
        "        # Reparametrization trick\n",
        "\n",
        "        normal = torch.distributions.Normal(mean, std)\n",
        "        z = normal.rsample()\n",
        "        action = torch.tanh(z)\n",
        "        # ....\n",
        "        return action, log_prob\n",
        "\n",
        "    def critic_loss(self):\n",
        "\n",
        "        with torch.no_grad():\n",
        "          # Realizar operaciones necesarias ...\n",
        "          target_q = # Ecuación de bellman para la función Q\n",
        "\n",
        "        pred_q1\n",
        "        pred_q2\n",
        "\n",
        "        loss1 = self.criterion(pred_q1, target_q)\n",
        "        loss2 = self.criterion(pred_q2, target_q)\n",
        "\n",
        "        return loss1, loss2\n",
        "\n",
        "\n",
        "    def actor_loss(self, states):\n",
        "\n",
        "        policy_loss\n",
        "\n",
        "        return policy_loss, log_prob\n",
        "\n",
        "    def _choose_action(self, state, random=False):\n",
        "\n",
        "        if random:\n",
        "            actions = self.env.action_space.sample()\n",
        "\n",
        "        else:\n",
        "            with torch.no_grad():\n",
        "                actions, _ = self.get_action(state)\n",
        "        return actions\n",
        "\n",
        "\n",
        "\n",
        "    def learn(self, samples):\n",
        "        batch_states, batch_actions, batch_rewards, batch_nextstates, batch_done = self.get_batch(samples)\n",
        "\n",
        "\n",
        "        critic_loss1, critic_loss2 = self.critic_loss()\n",
        "\n",
        "        actor_loss, log_probs = self.actor_loss()\n",
        "\n",
        "        self.update_target_networks()\n",
        "        return torch.min(critic_loss1, critic_loss2).item(), actor_loss.item()\n",
        "\n",
        "\n",
        "\n",
        "    def train(self):\n",
        "\n",
        "        if initial_memory is None:\n",
        "            initial_memory = batch_size*4\n",
        "\n",
        "        self.memory.initialise_buffer(self.env,size=initial_memory)\n",
        "        results = []\n",
        "        for i in range(n_episode):\n",
        "            state, _ = self.env.reset()\n",
        "            done, truncated = False, False\n",
        "            eps_reward = 0\n",
        "            steps = 0\n",
        "\n",
        "            # while not (done or steps == 500):\n",
        "            while not (done or truncated):\n",
        "\n",
        "                action = self._choose_action(state)\n",
        "                nextstate, reward, done, truncated, _ = self.env.step(action)\n",
        "                roll = Rollout(state, action, reward, nextstate, done)\n",
        "                self.memory.append(roll)\n",
        "                state = nextstate\n",
        "                # get random sample\n",
        "                samples = self.memory.sample_batch(batch_size)\n",
        "\n",
        "                critic_loss, actor_loss, alpha_loss = self.learn(samples)\n",
        "\n",
        "\n",
        "                eps_reward += reward\n",
        "                steps += 1\n",
        "            results.append(eps_reward)\n",
        "\n",
        "            # Display progress\n",
        "            if i % report_freq == 0:\n",
        "                print(f'Episode {i}/{n_episode} \\t Reward: {eps_reward:.4f} \\t Critic Loss: {critic_loss:.3f}\\t '+\n",
        "                      f'Actor Loss: {actor_loss:.3f}\\t Alpha Loss: {alpha_loss:.3f}\\t Alpha: {self.alpha.item():.4f}')\n",
        "        return results\n"
      ],
      "metadata": {
        "id": "JouqABg5QKd0"
      },
      "execution_count": null,
      "outputs": []
    },
    {
      "cell_type": "markdown",
      "source": [
        "# Train"
      ],
      "metadata": {
        "id": "lTirYTDFQXJL"
      }
    },
    {
      "cell_type": "code",
      "source": [
        "env_name = \"Reacher-v4\"\n",
        "epos = 1000\n",
        "\n",
        "env = gym.make(env_name)\n",
        "agent = SACAgent()\n",
        "learning_data = agent.train(n_episode=epos, report_freq=10)\n",
        "\n",
        "plt.plot(learning_data,label='Reward over episodes')\n",
        "plt.grid()\n",
        "plt.show()\n",
        "\n",
        "env.close()"
      ],
      "metadata": {
        "colab": {
          "base_uri": "https://localhost:8080/",
          "height": 1000
        },
        "id": "TdVL-X9dQYYH",
        "outputId": "1773989f-e7a0-4ac8-8974-2a63f5517fab"
      },
      "execution_count": null,
      "outputs": [
        {
          "output_type": "stream",
          "name": "stdout",
          "text": [
            "Episode 0/1000 \t Reward: -50.0268 \t Critic Loss: 0.261\t Actor Loss: -1.533\t Alpha Loss: -0.016\t Alpha: 0.9950\n",
            "Episode 10/1000 \t Reward: -45.5857 \t Critic Loss: 0.216\t Actor Loss: -2.857\t Alpha Loss: -0.183\t Alpha: 0.9464\n",
            "Episode 20/1000 \t Reward: -45.3828 \t Critic Loss: 0.154\t Actor Loss: -4.189\t Alpha Loss: -0.354\t Alpha: 0.9003\n",
            "Episode 30/1000 \t Reward: -47.5467 \t Critic Loss: 0.086\t Actor Loss: -5.308\t Alpha Loss: -0.516\t Alpha: 0.8566\n",
            "Episode 40/1000 \t Reward: -35.9553 \t Critic Loss: 0.076\t Actor Loss: -6.322\t Alpha Loss: -0.664\t Alpha: 0.8152\n",
            "Episode 50/1000 \t Reward: -31.6831 \t Critic Loss: 0.071\t Actor Loss: -7.581\t Alpha Loss: -0.808\t Alpha: 0.7761\n",
            "Episode 60/1000 \t Reward: -33.8098 \t Critic Loss: 0.055\t Actor Loss: -7.997\t Alpha Loss: -0.962\t Alpha: 0.7388\n",
            "Episode 70/1000 \t Reward: -40.7541 \t Critic Loss: 0.076\t Actor Loss: -8.155\t Alpha Loss: -1.145\t Alpha: 0.7031\n",
            "Episode 80/1000 \t Reward: -28.7600 \t Critic Loss: 0.052\t Actor Loss: -8.023\t Alpha Loss: -1.281\t Alpha: 0.6692\n",
            "Episode 90/1000 \t Reward: -33.2789 \t Critic Loss: 0.060\t Actor Loss: -8.167\t Alpha Loss: -1.439\t Alpha: 0.6369\n",
            "Episode 100/1000 \t Reward: -31.8811 \t Critic Loss: 0.050\t Actor Loss: -8.307\t Alpha Loss: -1.613\t Alpha: 0.6062\n",
            "Episode 110/1000 \t Reward: -34.3308 \t Critic Loss: 0.043\t Actor Loss: -8.028\t Alpha Loss: -1.758\t Alpha: 0.5770\n",
            "Episode 120/1000 \t Reward: -28.5118 \t Critic Loss: 0.052\t Actor Loss: -7.195\t Alpha Loss: -1.873\t Alpha: 0.5492\n",
            "Episode 130/1000 \t Reward: -32.7901 \t Critic Loss: 0.033\t Actor Loss: -6.619\t Alpha Loss: -2.067\t Alpha: 0.5228\n",
            "Episode 140/1000 \t Reward: -25.4653 \t Critic Loss: 0.026\t Actor Loss: -6.507\t Alpha Loss: -2.096\t Alpha: 0.4977\n",
            "Episode 150/1000 \t Reward: -27.2682 \t Critic Loss: 0.040\t Actor Loss: -5.730\t Alpha Loss: -2.186\t Alpha: 0.4739\n",
            "Episode 160/1000 \t Reward: -25.1010 \t Critic Loss: 0.028\t Actor Loss: -4.972\t Alpha Loss: -2.417\t Alpha: 0.4512\n",
            "Episode 170/1000 \t Reward: -25.9351 \t Critic Loss: 0.032\t Actor Loss: -4.340\t Alpha Loss: -2.522\t Alpha: 0.4296\n",
            "Episode 180/1000 \t Reward: -21.5724 \t Critic Loss: 0.028\t Actor Loss: -3.374\t Alpha Loss: -2.651\t Alpha: 0.4091\n",
            "Episode 190/1000 \t Reward: -24.5177 \t Critic Loss: 0.017\t Actor Loss: -2.634\t Alpha Loss: -2.675\t Alpha: 0.3895\n",
            "Episode 200/1000 \t Reward: -25.8324 \t Critic Loss: 0.014\t Actor Loss: -2.014\t Alpha Loss: -2.846\t Alpha: 0.3709\n",
            "Episode 210/1000 \t Reward: -27.7821 \t Critic Loss: 0.020\t Actor Loss: -0.773\t Alpha Loss: -2.980\t Alpha: 0.3532\n",
            "Episode 220/1000 \t Reward: -23.4089 \t Critic Loss: 0.015\t Actor Loss: 0.235\t Alpha Loss: -2.976\t Alpha: 0.3364\n",
            "Episode 230/1000 \t Reward: -20.2840 \t Critic Loss: 0.012\t Actor Loss: 1.280\t Alpha Loss: -3.124\t Alpha: 0.3204\n",
            "Episode 240/1000 \t Reward: -27.9368 \t Critic Loss: 0.012\t Actor Loss: 2.201\t Alpha Loss: -3.282\t Alpha: 0.3052\n",
            "Episode 250/1000 \t Reward: -23.5975 \t Critic Loss: 0.010\t Actor Loss: 2.983\t Alpha Loss: -3.258\t Alpha: 0.2907\n",
            "Episode 260/1000 \t Reward: -17.5934 \t Critic Loss: 0.014\t Actor Loss: 4.016\t Alpha Loss: -3.417\t Alpha: 0.2769\n",
            "Episode 270/1000 \t Reward: -19.9406 \t Critic Loss: 0.012\t Actor Loss: 5.080\t Alpha Loss: -3.438\t Alpha: 0.2639\n",
            "Episode 280/1000 \t Reward: -18.2116 \t Critic Loss: 0.014\t Actor Loss: 5.931\t Alpha Loss: -3.563\t Alpha: 0.2515\n",
            "Episode 290/1000 \t Reward: -24.8727 \t Critic Loss: 0.013\t Actor Loss: 6.640\t Alpha Loss: -3.499\t Alpha: 0.2397\n",
            "Episode 300/1000 \t Reward: -20.8103 \t Critic Loss: 0.011\t Actor Loss: 7.415\t Alpha Loss: -3.522\t Alpha: 0.2285\n",
            "Episode 310/1000 \t Reward: -15.7963 \t Critic Loss: 0.010\t Actor Loss: 8.568\t Alpha Loss: -3.589\t Alpha: 0.2177\n",
            "Episode 320/1000 \t Reward: -12.5331 \t Critic Loss: 0.009\t Actor Loss: 9.542\t Alpha Loss: -3.639\t Alpha: 0.2075\n",
            "Episode 330/1000 \t Reward: -13.8378 \t Critic Loss: 0.011\t Actor Loss: 10.233\t Alpha Loss: -3.607\t Alpha: 0.1979\n",
            "Episode 340/1000 \t Reward: -15.5610 \t Critic Loss: 0.009\t Actor Loss: 11.072\t Alpha Loss: -3.776\t Alpha: 0.1887\n",
            "Episode 350/1000 \t Reward: -15.8648 \t Critic Loss: 0.007\t Actor Loss: 11.854\t Alpha Loss: -3.754\t Alpha: 0.1800\n",
            "Episode 360/1000 \t Reward: -16.6677 \t Critic Loss: 0.008\t Actor Loss: 12.725\t Alpha Loss: -3.778\t Alpha: 0.1716\n",
            "Episode 370/1000 \t Reward: -14.2837 \t Critic Loss: 0.007\t Actor Loss: 13.226\t Alpha Loss: -3.703\t Alpha: 0.1636\n",
            "Episode 380/1000 \t Reward: -16.0577 \t Critic Loss: 0.009\t Actor Loss: 14.003\t Alpha Loss: -3.760\t Alpha: 0.1559\n",
            "Episode 390/1000 \t Reward: -7.5245 \t Critic Loss: 0.008\t Actor Loss: 14.534\t Alpha Loss: -3.779\t Alpha: 0.1487\n",
            "Episode 400/1000 \t Reward: -7.8852 \t Critic Loss: 0.006\t Actor Loss: 14.683\t Alpha Loss: -3.505\t Alpha: 0.1420\n",
            "Episode 410/1000 \t Reward: -10.8414 \t Critic Loss: 0.005\t Actor Loss: 15.100\t Alpha Loss: -3.627\t Alpha: 0.1356\n",
            "Episode 420/1000 \t Reward: -15.5343 \t Critic Loss: 0.006\t Actor Loss: 15.801\t Alpha Loss: -3.644\t Alpha: 0.1294\n",
            "Episode 430/1000 \t Reward: -7.9936 \t Critic Loss: 0.006\t Actor Loss: 16.553\t Alpha Loss: -3.597\t Alpha: 0.1234\n",
            "Episode 440/1000 \t Reward: -9.6905 \t Critic Loss: 0.005\t Actor Loss: 16.571\t Alpha Loss: -3.475\t Alpha: 0.1178\n",
            "Episode 450/1000 \t Reward: -10.8047 \t Critic Loss: 0.005\t Actor Loss: 17.017\t Alpha Loss: -3.721\t Alpha: 0.1123\n",
            "Episode 460/1000 \t Reward: -11.9716 \t Critic Loss: 0.005\t Actor Loss: 17.300\t Alpha Loss: -3.494\t Alpha: 0.1070\n",
            "Episode 470/1000 \t Reward: -14.4851 \t Critic Loss: 0.005\t Actor Loss: 17.739\t Alpha Loss: -3.563\t Alpha: 0.1020\n",
            "Episode 480/1000 \t Reward: -8.3428 \t Critic Loss: 0.004\t Actor Loss: 18.049\t Alpha Loss: -3.375\t Alpha: 0.0974\n",
            "Episode 490/1000 \t Reward: -9.1554 \t Critic Loss: 0.004\t Actor Loss: 18.223\t Alpha Loss: -3.579\t Alpha: 0.0930\n",
            "Episode 500/1000 \t Reward: -12.7759 \t Critic Loss: 0.003\t Actor Loss: 18.430\t Alpha Loss: -3.621\t Alpha: 0.0887\n",
            "Episode 510/1000 \t Reward: -5.6343 \t Critic Loss: 0.003\t Actor Loss: 18.520\t Alpha Loss: -3.246\t Alpha: 0.0847\n",
            "Episode 520/1000 \t Reward: -7.5367 \t Critic Loss: 0.003\t Actor Loss: 18.869\t Alpha Loss: -3.406\t Alpha: 0.0810\n",
            "Episode 530/1000 \t Reward: -6.9686 \t Critic Loss: 0.003\t Actor Loss: 18.957\t Alpha Loss: -3.139\t Alpha: 0.0774\n",
            "Episode 540/1000 \t Reward: -10.0124 \t Critic Loss: 0.002\t Actor Loss: 18.782\t Alpha Loss: -3.170\t Alpha: 0.0739\n",
            "Episode 550/1000 \t Reward: -10.5490 \t Critic Loss: 0.002\t Actor Loss: 18.826\t Alpha Loss: -3.007\t Alpha: 0.0705\n",
            "Episode 560/1000 \t Reward: -3.6987 \t Critic Loss: 0.002\t Actor Loss: 18.691\t Alpha Loss: -3.044\t Alpha: 0.0673\n",
            "Episode 570/1000 \t Reward: -7.5809 \t Critic Loss: 0.002\t Actor Loss: 18.950\t Alpha Loss: -2.711\t Alpha: 0.0643\n",
            "Episode 580/1000 \t Reward: -7.3718 \t Critic Loss: 0.002\t Actor Loss: 18.822\t Alpha Loss: -2.905\t Alpha: 0.0615\n",
            "Episode 590/1000 \t Reward: -3.5009 \t Critic Loss: 0.002\t Actor Loss: 18.567\t Alpha Loss: -2.667\t Alpha: 0.0587\n",
            "Episode 600/1000 \t Reward: -11.6906 \t Critic Loss: 0.002\t Actor Loss: 18.744\t Alpha Loss: -2.506\t Alpha: 0.0562\n",
            "Episode 610/1000 \t Reward: -8.1776 \t Critic Loss: 0.001\t Actor Loss: 18.646\t Alpha Loss: -2.696\t Alpha: 0.0537\n",
            "Episode 620/1000 \t Reward: -6.1969 \t Critic Loss: 0.001\t Actor Loss: 18.736\t Alpha Loss: -2.449\t Alpha: 0.0512\n",
            "Episode 630/1000 \t Reward: -6.3275 \t Critic Loss: 0.002\t Actor Loss: 18.640\t Alpha Loss: -2.310\t Alpha: 0.0489\n",
            "Episode 640/1000 \t Reward: -5.7743 \t Critic Loss: 0.001\t Actor Loss: 18.302\t Alpha Loss: -2.283\t Alpha: 0.0467\n",
            "Episode 650/1000 \t Reward: -4.3285 \t Critic Loss: 0.001\t Actor Loss: 17.906\t Alpha Loss: -1.962\t Alpha: 0.0447\n",
            "Episode 660/1000 \t Reward: -7.5132 \t Critic Loss: 0.001\t Actor Loss: 17.784\t Alpha Loss: -2.362\t Alpha: 0.0427\n",
            "Episode 670/1000 \t Reward: -10.3077 \t Critic Loss: 0.001\t Actor Loss: 17.835\t Alpha Loss: -2.031\t Alpha: 0.0409\n",
            "Episode 680/1000 \t Reward: -4.7082 \t Critic Loss: 0.001\t Actor Loss: 17.703\t Alpha Loss: -1.425\t Alpha: 0.0393\n",
            "Episode 690/1000 \t Reward: -9.4489 \t Critic Loss: 0.001\t Actor Loss: 17.408\t Alpha Loss: -1.955\t Alpha: 0.0378\n",
            "Episode 700/1000 \t Reward: -4.7360 \t Critic Loss: 0.002\t Actor Loss: 17.273\t Alpha Loss: -1.419\t Alpha: 0.0363\n",
            "Episode 710/1000 \t Reward: -9.3246 \t Critic Loss: 0.001\t Actor Loss: 17.398\t Alpha Loss: -1.151\t Alpha: 0.0350\n",
            "Episode 720/1000 \t Reward: -5.9811 \t Critic Loss: 0.002\t Actor Loss: 17.406\t Alpha Loss: -1.314\t Alpha: 0.0336\n",
            "Episode 730/1000 \t Reward: -3.6898 \t Critic Loss: 0.001\t Actor Loss: 17.062\t Alpha Loss: -0.985\t Alpha: 0.0324\n",
            "Episode 740/1000 \t Reward: -6.4448 \t Critic Loss: 0.002\t Actor Loss: 16.970\t Alpha Loss: -0.851\t Alpha: 0.0314\n",
            "Episode 750/1000 \t Reward: -5.1961 \t Critic Loss: 0.002\t Actor Loss: 16.794\t Alpha Loss: -0.945\t Alpha: 0.0303\n",
            "Episode 760/1000 \t Reward: -4.0660 \t Critic Loss: 0.001\t Actor Loss: 16.226\t Alpha Loss: -0.339\t Alpha: 0.0295\n",
            "Episode 770/1000 \t Reward: -8.0159 \t Critic Loss: 0.002\t Actor Loss: 16.496\t Alpha Loss: -0.456\t Alpha: 0.0287\n",
            "Episode 780/1000 \t Reward: -4.7211 \t Critic Loss: 0.001\t Actor Loss: 16.412\t Alpha Loss: -0.686\t Alpha: 0.0277\n",
            "Episode 790/1000 \t Reward: -6.1882 \t Critic Loss: 0.001\t Actor Loss: 16.129\t Alpha Loss: -0.609\t Alpha: 0.0266\n",
            "Episode 800/1000 \t Reward: -6.8000 \t Critic Loss: 0.001\t Actor Loss: 15.549\t Alpha Loss: 0.205\t Alpha: 0.0258\n",
            "Episode 810/1000 \t Reward: -7.7891 \t Critic Loss: 0.001\t Actor Loss: 15.535\t Alpha Loss: 0.429\t Alpha: 0.0251\n",
            "Episode 820/1000 \t Reward: -5.6563 \t Critic Loss: 0.001\t Actor Loss: 15.552\t Alpha Loss: -0.227\t Alpha: 0.0243\n",
            "Episode 830/1000 \t Reward: -6.7857 \t Critic Loss: 0.001\t Actor Loss: 15.182\t Alpha Loss: -0.605\t Alpha: 0.0237\n",
            "Episode 840/1000 \t Reward: -6.7759 \t Critic Loss: 0.001\t Actor Loss: 14.995\t Alpha Loss: 0.042\t Alpha: 0.0239\n",
            "Episode 850/1000 \t Reward: -6.0164 \t Critic Loss: 0.001\t Actor Loss: 14.813\t Alpha Loss: 0.203\t Alpha: 0.0246\n",
            "Episode 860/1000 \t Reward: -6.1019 \t Critic Loss: 0.001\t Actor Loss: 14.640\t Alpha Loss: 0.248\t Alpha: 0.0249\n",
            "Episode 870/1000 \t Reward: -7.3125 \t Critic Loss: 0.001\t Actor Loss: 14.828\t Alpha Loss: 0.128\t Alpha: 0.0251\n",
            "Episode 880/1000 \t Reward: -6.8738 \t Critic Loss: 0.001\t Actor Loss: 14.485\t Alpha Loss: -0.236\t Alpha: 0.0251\n",
            "Episode 890/1000 \t Reward: -8.5703 \t Critic Loss: 0.001\t Actor Loss: 14.270\t Alpha Loss: 0.076\t Alpha: 0.0253\n",
            "Episode 900/1000 \t Reward: -7.7006 \t Critic Loss: 0.001\t Actor Loss: 14.204\t Alpha Loss: -0.011\t Alpha: 0.0254\n",
            "Episode 910/1000 \t Reward: -7.7731 \t Critic Loss: 0.001\t Actor Loss: 13.896\t Alpha Loss: 0.534\t Alpha: 0.0251\n",
            "Episode 920/1000 \t Reward: -7.6269 \t Critic Loss: 0.001\t Actor Loss: 13.956\t Alpha Loss: -0.245\t Alpha: 0.0252\n",
            "Episode 930/1000 \t Reward: -2.4279 \t Critic Loss: 0.001\t Actor Loss: 14.262\t Alpha Loss: -0.027\t Alpha: 0.0249\n",
            "Episode 940/1000 \t Reward: -5.2815 \t Critic Loss: 0.001\t Actor Loss: 14.087\t Alpha Loss: -0.417\t Alpha: 0.0242\n",
            "Episode 950/1000 \t Reward: -4.7060 \t Critic Loss: 0.001\t Actor Loss: 13.821\t Alpha Loss: 0.229\t Alpha: 0.0239\n",
            "Episode 960/1000 \t Reward: -4.4742 \t Critic Loss: 0.001\t Actor Loss: 13.812\t Alpha Loss: 0.095\t Alpha: 0.0244\n",
            "Episode 970/1000 \t Reward: -8.3316 \t Critic Loss: 0.001\t Actor Loss: 13.829\t Alpha Loss: 0.023\t Alpha: 0.0242\n",
            "Episode 980/1000 \t Reward: -2.5461 \t Critic Loss: 0.001\t Actor Loss: 13.720\t Alpha Loss: 0.229\t Alpha: 0.0248\n",
            "Episode 990/1000 \t Reward: -7.5623 \t Critic Loss: 0.001\t Actor Loss: 13.574\t Alpha Loss: 0.182\t Alpha: 0.0253\n"
          ]
        },
        {
          "output_type": "display_data",
          "data": {
            "text/plain": [
              "<Figure size 640x480 with 1 Axes>"
            ],
            "image/png": "[encoded data removed]"
          },
          "metadata": {}
        }
      ]
    }
  ]
}